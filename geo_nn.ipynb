{
 "cells": [
  {
   "cell_type": "code",
   "execution_count": 1,
   "id": "8755fe19",
   "metadata": {},
   "outputs": [],
   "source": [
    "from datetime import datetime\n",
    "\n",
    "import polars as pl\n",
    "\n",
    "import torch\n",
    "import pytorch_lightning\n",
    "from torch import nn\n",
    "\n",
    "from src.preprocessing import PolarsDataPreprocessor\n",
    "from src.utils import prepare_data"
   ]
  },
  {
   "cell_type": "code",
   "execution_count": 2,
   "id": "2edc0f58",
   "metadata": {},
   "outputs": [],
   "source": [
    "pl.set_random_seed(56)"
   ]
  },
  {
   "cell_type": "code",
   "execution_count": 3,
   "id": "557f1719",
   "metadata": {},
   "outputs": [
    {
     "name": "stderr",
     "output_type": "stream",
     "text": [
      "Global seed set to 56\n"
     ]
    },
    {
     "data": {
      "text/plain": [
       "56"
      ]
     },
     "execution_count": 3,
     "metadata": {},
     "output_type": "execute_result"
    }
   ],
   "source": [
    "pytorch_lightning.seed_everything(56, True)"
   ]
  },
  {
   "cell_type": "code",
   "execution_count": null,
   "id": "65447f45",
   "metadata": {},
   "outputs": [],
   "source": []
  },
  {
   "cell_type": "code",
   "execution_count": 4,
   "id": "832b414f",
   "metadata": {},
   "outputs": [],
   "source": [
    "months = [\n",
    "    '2022-02-28',\n",
    "    '2022-03-31',\n",
    "    '2022-04-30',\n",
    "    '2022-05-31',\n",
    "    '2022-06-30',\n",
    "    '2022-07-31',\n",
    "    '2022-08-31',\n",
    "    '2022-09-30',\n",
    "    '2022-10-31',\n",
    "    '2022-11-30',\n",
    "    '2022-12-31',\n",
    "    '2023-01-31',\n",
    "]\n",
    "month2id = dict((month, idx) for idx, month in enumerate(months))\n",
    "id2month = dict((idx, month) for idx, month in enumerate(months))"
   ]
  },
  {
   "cell_type": "code",
   "execution_count": null,
   "id": "10ded746",
   "metadata": {},
   "outputs": [],
   "source": []
  },
  {
   "cell_type": "code",
   "execution_count": 5,
   "id": "77a6faf9",
   "metadata": {},
   "outputs": [],
   "source": [
    "mon = 10"
   ]
  },
  {
   "cell_type": "code",
   "execution_count": null,
   "id": "2612dd93",
   "metadata": {},
   "outputs": [],
   "source": []
  },
  {
   "cell_type": "code",
   "execution_count": 6,
   "id": "f821ae06",
   "metadata": {},
   "outputs": [
    {
     "name": "stdout",
     "output_type": "stream",
     "text": [
      "(53101214, 7)\n"
     ]
    },
    {
     "data": {
      "text/html": [
       "<div><style>\n",
       ".dataframe > thead > tr > th,\n",
       ".dataframe > tbody > tr > td {\n",
       "  text-align: right;\n",
       "  white-space: pre-wrap;\n",
       "}\n",
       "</style>\n",
       "<small>shape: (5, 7)</small><table border=\"1\" class=\"dataframe\"><thead><tr><th>client_id</th><th>event_time</th><th>geohash_4</th><th>geohash_5</th><th>geohash_6</th><th>mon_ind</th><th>day_ind</th></tr><tr><td>str</td><td>i64</td><td>i32</td><td>i32</td><td>i32</td><td>i64</td><td>i64</td></tr></thead><tbody><tr><td>&quot;009c52bd099cbb…</td><td>57046408</td><td>32892</td><td>35465</td><td>1028609</td><td>21</td><td>660</td></tr><tr><td>&quot;009c52bd099cbb…</td><td>56294845</td><td>32892</td><td>35465</td><td>461846</td><td>21</td><td>651</td></tr><tr><td>&quot;009c52bd099cbb…</td><td>56912877</td><td>32892</td><td>35465</td><td>1028609</td><td>21</td><td>658</td></tr><tr><td>&quot;009c52bd099cbb…</td><td>55770461</td><td>32892</td><td>35465</td><td>461846</td><td>21</td><td>645</td></tr><tr><td>&quot;009c52bd099cbb…</td><td>54736642</td><td>32892</td><td>35465</td><td>1028609</td><td>20</td><td>633</td></tr></tbody></table></div>"
      ],
      "text/plain": [
       "shape: (5, 7)\n",
       "┌─────────────────────────────┬────────────┬───────────┬───────────┬───────────┬─────────┬─────────┐\n",
       "│ client_id                   ┆ event_time ┆ geohash_4 ┆ geohash_5 ┆ geohash_6 ┆ mon_ind ┆ day_ind │\n",
       "│ ---                         ┆ ---        ┆ ---       ┆ ---       ┆ ---       ┆ ---     ┆ ---     │\n",
       "│ str                         ┆ i64        ┆ i32       ┆ i32       ┆ i32       ┆ i64     ┆ i64     │\n",
       "╞═════════════════════════════╪════════════╪═══════════╪═══════════╪═══════════╪═════════╪═════════╡\n",
       "│ 009c52bd099cbb5b7b2b6f0187c ┆ 57046408   ┆ 32892     ┆ 35465     ┆ 1028609   ┆ 21      ┆ 660     │\n",
       "│ 02951…                      ┆            ┆           ┆           ┆           ┆         ┆         │\n",
       "│ 009c52bd099cbb5b7b2b6f0187c ┆ 56294845   ┆ 32892     ┆ 35465     ┆ 461846    ┆ 21      ┆ 651     │\n",
       "│ 02951…                      ┆            ┆           ┆           ┆           ┆         ┆         │\n",
       "│ 009c52bd099cbb5b7b2b6f0187c ┆ 56912877   ┆ 32892     ┆ 35465     ┆ 1028609   ┆ 21      ┆ 658     │\n",
       "│ 02951…                      ┆            ┆           ┆           ┆           ┆         ┆         │\n",
       "│ 009c52bd099cbb5b7b2b6f0187c ┆ 55770461   ┆ 32892     ┆ 35465     ┆ 461846    ┆ 21      ┆ 645     │\n",
       "│ 02951…                      ┆            ┆           ┆           ┆           ┆         ┆         │\n",
       "│ 009c52bd099cbb5b7b2b6f0187c ┆ 54736642   ┆ 32892     ┆ 35465     ┆ 1028609   ┆ 20      ┆ 633     │\n",
       "│ 02951…                      ┆            ┆           ┆           ┆           ┆         ┆         │\n",
       "└─────────────────────────────┴────────────┴───────────┴───────────┴───────────┴─────────┴─────────┘"
      ]
     },
     "execution_count": 6,
     "metadata": {},
     "output_type": "execute_result"
    }
   ],
   "source": [
    "train_geo = pl.read_parquet(\"F:/chunks/geo_train.pq\")\n",
    "train_geo = prepare_data(train_geo)\n",
    "train_geo = train_geo.filter(pl.col(\"event_time\") < datetime.strptime(months[mon], \"%Y-%m-%d\").replace(day=1))\n",
    "print(train_geo.shape)\n",
    "train_geo.head()"
   ]
  },
  {
   "cell_type": "code",
   "execution_count": 7,
   "id": "34562b61",
   "metadata": {},
   "outputs": [
    {
     "data": {
      "text/html": [
       "<div><style>\n",
       ".dataframe > thead > tr > th,\n",
       ".dataframe > tbody > tr > td {\n",
       "  text-align: right;\n",
       "  white-space: pre-wrap;\n",
       "}\n",
       "</style>\n",
       "<small>shape: (5, 2)</small><table border=\"1\" class=\"dataframe\"><thead><tr><th>client_id</th><th>target</th></tr><tr><td>str</td><td>list[i32]</td></tr></thead><tbody><tr><td>&quot;06a2ce26f19242…</td><td>[0, 0, … 0]</td></tr><tr><td>&quot;06d250bda1fe78…</td><td>[0, 0, … 0]</td></tr><tr><td>&quot;1d0fd54040602e…</td><td>[0, 0, … 0]</td></tr><tr><td>&quot;85c233cac30252…</td><td>[0, 0, … 0]</td></tr><tr><td>&quot;16d2d3fbdef66b…</td><td>[0, 0, … 0]</td></tr></tbody></table></div>"
      ],
      "text/plain": [
       "shape: (5, 2)\n",
       "┌───────────────────────────────────┬─────────────┐\n",
       "│ client_id                         ┆ target      │\n",
       "│ ---                               ┆ ---         │\n",
       "│ str                               ┆ list[i32]   │\n",
       "╞═══════════════════════════════════╪═════════════╡\n",
       "│ 06a2ce26f192429c657a44eb0f587fc1… ┆ [0, 0, … 0] │\n",
       "│ 06d250bda1fe780a40612ba6f53a333c… ┆ [0, 0, … 0] │\n",
       "│ 1d0fd54040602e441003fae7cd722920… ┆ [0, 0, … 0] │\n",
       "│ 85c233cac302527b1b5fe31396c7504a… ┆ [0, 0, … 0] │\n",
       "│ 16d2d3fbdef66b1af7c0f18b81f2a628… ┆ [0, 0, … 0] │\n",
       "└───────────────────────────────────┴─────────────┘"
      ]
     },
     "execution_count": 7,
     "metadata": {},
     "output_type": "execute_result"
    }
   ],
   "source": [
    "train_target = pl.read_parquet(\"F:/chunks/train_target.pq\")\n",
    "train_target = train_target.with_columns(\n",
    "    target=pl.concat_list([f\"target_{i}\" for i in range(1, 5)])\n",
    ")\n",
    "train_target = train_target.select((\"client_id\", \"target\"))\n",
    "train_target.head()"
   ]
  },
  {
   "cell_type": "code",
   "execution_count": null,
   "id": "aaab0457",
   "metadata": {},
   "outputs": [],
   "source": []
  },
  {
   "cell_type": "code",
   "execution_count": 8,
   "id": "ca66a389",
   "metadata": {},
   "outputs": [
    {
     "name": "stdout",
     "output_type": "stream",
     "text": [
      "(23574218, 7)\n"
     ]
    },
    {
     "data": {
      "text/html": [
       "<div><style>\n",
       ".dataframe > thead > tr > th,\n",
       ".dataframe > tbody > tr > td {\n",
       "  text-align: right;\n",
       "  white-space: pre-wrap;\n",
       "}\n",
       "</style>\n",
       "<small>shape: (5, 7)</small><table border=\"1\" class=\"dataframe\"><thead><tr><th>client_id</th><th>event_time</th><th>geohash_4</th><th>geohash_5</th><th>geohash_6</th><th>mon_ind</th><th>day_ind</th></tr><tr><td>str</td><td>i64</td><td>i32</td><td>i32</td><td>i32</td><td>i64</td><td>i64</td></tr></thead><tbody><tr><td>&quot;4e16dc21c7a960…</td><td>38311933</td><td>36432</td><td>320079</td><td>2073605</td><td>14</td><td>443</td></tr><tr><td>&quot;4e16dc21c7a960…</td><td>36842499</td><td>36432</td><td>182144</td><td>427368</td><td>14</td><td>426</td></tr><tr><td>&quot;4e16dc21c7a960…</td><td>44297900</td><td>36432</td><td>320079</td><td>2073605</td><td>16</td><td>512</td></tr><tr><td>&quot;4e16dc21c7a960…</td><td>36393558</td><td>36432</td><td>182144</td><td>427368</td><td>13</td><td>421</td></tr><tr><td>&quot;4e16dc21c7a960…</td><td>39058004</td><td>36432</td><td>320079</td><td>2073605</td><td>14</td><td>452</td></tr></tbody></table></div>"
      ],
      "text/plain": [
       "shape: (5, 7)\n",
       "┌─────────────────────────────┬────────────┬───────────┬───────────┬───────────┬─────────┬─────────┐\n",
       "│ client_id                   ┆ event_time ┆ geohash_4 ┆ geohash_5 ┆ geohash_6 ┆ mon_ind ┆ day_ind │\n",
       "│ ---                         ┆ ---        ┆ ---       ┆ ---       ┆ ---       ┆ ---     ┆ ---     │\n",
       "│ str                         ┆ i64        ┆ i32       ┆ i32       ┆ i32       ┆ i64     ┆ i64     │\n",
       "╞═════════════════════════════╪════════════╪═══════════╪═══════════╪═══════════╪═════════╪═════════╡\n",
       "│ 4e16dc21c7a960e936b72c41d66 ┆ 38311933   ┆ 36432     ┆ 320079    ┆ 2073605   ┆ 14      ┆ 443     │\n",
       "│ 9fa2e…                      ┆            ┆           ┆           ┆           ┆         ┆         │\n",
       "│ 4e16dc21c7a960e936b72c41d66 ┆ 36842499   ┆ 36432     ┆ 182144    ┆ 427368    ┆ 14      ┆ 426     │\n",
       "│ 9fa2e…                      ┆            ┆           ┆           ┆           ┆         ┆         │\n",
       "│ 4e16dc21c7a960e936b72c41d66 ┆ 44297900   ┆ 36432     ┆ 320079    ┆ 2073605   ┆ 16      ┆ 512     │\n",
       "│ 9fa2e…                      ┆            ┆           ┆           ┆           ┆         ┆         │\n",
       "│ 4e16dc21c7a960e936b72c41d66 ┆ 36393558   ┆ 36432     ┆ 182144    ┆ 427368    ┆ 13      ┆ 421     │\n",
       "│ 9fa2e…                      ┆            ┆           ┆           ┆           ┆         ┆         │\n",
       "│ 4e16dc21c7a960e936b72c41d66 ┆ 39058004   ┆ 36432     ┆ 320079    ┆ 2073605   ┆ 14      ┆ 452     │\n",
       "│ 9fa2e…                      ┆            ┆           ┆           ┆           ┆         ┆         │\n",
       "└─────────────────────────────┴────────────┴───────────┴───────────┴───────────┴─────────┴─────────┘"
      ]
     },
     "execution_count": 8,
     "metadata": {},
     "output_type": "execute_result"
    }
   ],
   "source": [
    "val_geo = pl.read_parquet(\"F:/chunks/geo_val.pq\")\n",
    "val_geo = prepare_data(val_geo)\n",
    "val_geo = val_geo.filter(pl.col(\"event_time\") < datetime.strptime(months[mon], \"%Y-%m-%d\").replace(day=1))\n",
    "print(val_geo.shape)\n",
    "val_geo.head()"
   ]
  },
  {
   "cell_type": "code",
   "execution_count": 9,
   "id": "d2048b7c",
   "metadata": {},
   "outputs": [
    {
     "data": {
      "text/html": [
       "<div><style>\n",
       ".dataframe > thead > tr > th,\n",
       ".dataframe > tbody > tr > td {\n",
       "  text-align: right;\n",
       "  white-space: pre-wrap;\n",
       "}\n",
       "</style>\n",
       "<small>shape: (5, 2)</small><table border=\"1\" class=\"dataframe\"><thead><tr><th>client_id</th><th>target</th></tr><tr><td>str</td><td>list[i32]</td></tr></thead><tbody><tr><td>&quot;c67a6454099213…</td><td>[0, 0, … 0]</td></tr><tr><td>&quot;e225b104fe6428…</td><td>[0, 0, … 0]</td></tr><tr><td>&quot;eacde9cdeaf7ec…</td><td>[0, 0, … 0]</td></tr><tr><td>&quot;e962187af0d4fa…</td><td>[0, 0, … 0]</td></tr><tr><td>&quot;12502ddd41e10e…</td><td>[0, 0, … 0]</td></tr></tbody></table></div>"
      ],
      "text/plain": [
       "shape: (5, 2)\n",
       "┌───────────────────────────────────┬─────────────┐\n",
       "│ client_id                         ┆ target      │\n",
       "│ ---                               ┆ ---         │\n",
       "│ str                               ┆ list[i32]   │\n",
       "╞═══════════════════════════════════╪═════════════╡\n",
       "│ c67a645409921310004f1897191ee97c… ┆ [0, 0, … 0] │\n",
       "│ e225b104fe6428dda26779e1f295075e… ┆ [0, 0, … 0] │\n",
       "│ eacde9cdeaf7eca6b7326eba8791f567… ┆ [0, 0, … 0] │\n",
       "│ e962187af0d4faf70a99717bc07c3252… ┆ [0, 0, … 0] │\n",
       "│ 12502ddd41e10e3c08917d56dd650494… ┆ [0, 0, … 0] │\n",
       "└───────────────────────────────────┴─────────────┘"
      ]
     },
     "execution_count": 9,
     "metadata": {},
     "output_type": "execute_result"
    }
   ],
   "source": [
    "val_target = pl.read_parquet(\"F:/chunks/val_target.pq\")\n",
    "val_target = val_target.with_columns(\n",
    "    target=pl.concat_list([f\"target_{i}\" for i in range(1, 5)])\n",
    ")\n",
    "val_target = val_target.select((\"client_id\", \"target\"))\n",
    "val_target.head()"
   ]
  },
  {
   "cell_type": "code",
   "execution_count": null,
   "id": "2c8ec3ab",
   "metadata": {},
   "outputs": [],
   "source": []
  },
  {
   "cell_type": "code",
   "execution_count": 10,
   "id": "37cdf7a9",
   "metadata": {},
   "outputs": [],
   "source": [
    "geo_preprocessor = PolarsDataPreprocessor(\n",
    "    col_id=\"client_id\",\n",
    "    col_event_time=\"event_time\",\n",
    "    cols_category=[\n",
    "        \"mon_ind\", \"day_ind\",\n",
    "        \"geohash_4\",\n",
    "    ],\n",
    ")"
   ]
  },
  {
   "cell_type": "code",
   "execution_count": 11,
   "id": "2aace023",
   "metadata": {},
   "outputs": [
    {
     "name": "stdout",
     "output_type": "stream",
     "text": [
      "CPU times: total: 4min 47s\n",
      "Wall time: 59.9 s\n"
     ]
    }
   ],
   "source": [
    "%%time\n",
    "\n",
    "train_geo = geo_preprocessor.fit_transform(train_geo)"
   ]
  },
  {
   "cell_type": "code",
   "execution_count": 12,
   "id": "e15e191a",
   "metadata": {},
   "outputs": [
    {
     "name": "stdout",
     "output_type": "stream",
     "text": [
      "CPU times: total: 1min 37s\n",
      "Wall time: 9.57 s\n"
     ]
    }
   ],
   "source": [
    "%%time\n",
    "\n",
    "val_geo = geo_preprocessor.transform(val_geo)"
   ]
  },
  {
   "cell_type": "code",
   "execution_count": null,
   "id": "b8925b8d",
   "metadata": {},
   "outputs": [],
   "source": []
  },
  {
   "cell_type": "code",
   "execution_count": 14,
   "id": "3850a4bf",
   "metadata": {},
   "outputs": [],
   "source": [
    "train_geo = train_geo.join(train_target, on=\"client_id\", how=\"outer\")\n",
    "val_geo = val_geo.join(val_target, on=\"client_id\", how=\"outer\")"
   ]
  },
  {
   "cell_type": "code",
   "execution_count": null,
   "id": "4c917cc8",
   "metadata": {},
   "outputs": [],
   "source": []
  },
  {
   "cell_type": "code",
   "execution_count": 15,
   "id": "2acd3068",
   "metadata": {},
   "outputs": [],
   "source": [
    "def to_records(data):\n",
    "    res = [{} for _ in range(len(data))]\n",
    "    for i, value in enumerate(data[\"target\"]):\n",
    "        res[i][\"target\"] = torch.tensor(value.to_numpy())\n",
    "    for col, dtype in zip(data.columns, data.dtypes):\n",
    "        if col in (\"client_id\", \"target\"):\n",
    "            continue\n",
    "        assert dtype == pl.List\n",
    "        for i, value in enumerate(data[col].fill_null([])):\n",
    "            res[i][col] = torch.tensor(value.to_numpy())\n",
    "    return res"
   ]
  },
  {
   "cell_type": "code",
   "execution_count": 16,
   "id": "b1a4c0d5",
   "metadata": {},
   "outputs": [],
   "source": [
    "train_dict = to_records(train_geo)\n",
    "val_dict = to_records(val_geo)"
   ]
  },
  {
   "cell_type": "code",
   "execution_count": null,
   "id": "68b3cab1",
   "metadata": {},
   "outputs": [],
   "source": []
  },
  {
   "cell_type": "code",
   "execution_count": 17,
   "id": "f4f5453b",
   "metadata": {},
   "outputs": [],
   "source": [
    "from ptls.frames.supervised import SeqToTargetDataset"
   ]
  },
  {
   "cell_type": "code",
   "execution_count": 18,
   "id": "fb8627f9",
   "metadata": {},
   "outputs": [],
   "source": [
    "train_data = SeqToTargetDataset(train_dict, target_col_name=\"target\", target_dtype=torch.float32)\n",
    "val_data = SeqToTargetDataset(val_dict, target_col_name=\"target\", target_dtype=torch.float32)"
   ]
  },
  {
   "cell_type": "code",
   "execution_count": 19,
   "id": "0f62aca8",
   "metadata": {},
   "outputs": [],
   "source": [
    "from ptls.frames import PtlsDataModule"
   ]
  },
  {
   "cell_type": "code",
   "execution_count": 20,
   "id": "4c332d9d",
   "metadata": {},
   "outputs": [],
   "source": [
    "sup_data = PtlsDataModule(\n",
    "    train_data=train_data,\n",
    "    train_num_workers=0,\n",
    "    train_batch_size=64,\n",
    "    valid_data=val_data,\n",
    "    valid_num_workers=0,\n",
    "    valid_batch_size=64,\n",
    ")"
   ]
  },
  {
   "cell_type": "code",
   "execution_count": 21,
   "id": "4d90823b",
   "metadata": {
    "scrolled": true
   },
   "outputs": [],
   "source": [
    "_ = next(iter(sup_data.train_dataloader()))"
   ]
  },
  {
   "cell_type": "code",
   "execution_count": null,
   "id": "45a823c7",
   "metadata": {},
   "outputs": [],
   "source": []
  },
  {
   "cell_type": "code",
   "execution_count": 46,
   "id": "23673993",
   "metadata": {},
   "outputs": [
    {
     "data": {
      "text/plain": [
       "{'mon_ind': 14, 'day_ind': 356, 'geohash_4': 17927}"
      ]
     },
     "execution_count": 46,
     "metadata": {},
     "output_type": "execute_result"
    }
   ],
   "source": [
    "geo_preprocessor.get_category_dictionary_sizes()"
   ]
  },
  {
   "cell_type": "code",
   "execution_count": 47,
   "id": "65e3222c",
   "metadata": {},
   "outputs": [],
   "source": [
    "geo_encoder_params = dict(\n",
    "    embeddings_noise=0.003,\n",
    "    linear_projection_size=128,\n",
    "    embeddings = {\n",
    "        \"mon_ind\": {\"in\": 14, \"out\": 7},\n",
    "        \"day_ind\": {\"in\": 356, \"out\": 64},\n",
    "        \n",
    "        \"geohash_4\": {\"in\": 17927, \"out\": 256},\n",
    "    },\n",
    ")"
   ]
  },
  {
   "cell_type": "code",
   "execution_count": 48,
   "id": "11167772",
   "metadata": {},
   "outputs": [],
   "source": [
    "from ptls.nn import TrxEncoder"
   ]
  },
  {
   "cell_type": "code",
   "execution_count": 49,
   "id": "4466d2d3",
   "metadata": {},
   "outputs": [],
   "source": [
    "geo_encoder = TrxEncoder(**geo_encoder_params)"
   ]
  },
  {
   "cell_type": "code",
   "execution_count": 50,
   "id": "7e7ae398",
   "metadata": {},
   "outputs": [],
   "source": [
    "from torchinfo import summary"
   ]
  },
  {
   "cell_type": "code",
   "execution_count": 51,
   "id": "d76c223e",
   "metadata": {},
   "outputs": [
    {
     "data": {
      "text/plain": [
       "=================================================================\n",
       "Layer (type:depth-idx)                   Param #\n",
       "=================================================================\n",
       "TrxEncoder                               --\n",
       "├─ModuleDict: 1-1                        --\n",
       "│    └─NoisyEmbedding: 2-1               98\n",
       "│    │    └─Dropout: 3-1                 --\n",
       "│    └─NoisyEmbedding: 2-2               22,784\n",
       "│    │    └─Dropout: 3-2                 --\n",
       "│    └─NoisyEmbedding: 2-3               4,589,312\n",
       "│    │    └─Dropout: 3-3                 --\n",
       "├─ModuleDict: 1-2                        --\n",
       "├─Linear: 1-3                            41,984\n",
       "=================================================================\n",
       "Total params: 4,654,178\n",
       "Trainable params: 4,654,178\n",
       "Non-trainable params: 0\n",
       "================================================================="
      ]
     },
     "execution_count": 51,
     "metadata": {},
     "output_type": "execute_result"
    }
   ],
   "source": [
    "summary(geo_encoder)"
   ]
  },
  {
   "cell_type": "code",
   "execution_count": 52,
   "id": "738346a2",
   "metadata": {},
   "outputs": [],
   "source": [
    "from ptls.nn import RnnSeqEncoder"
   ]
  },
  {
   "cell_type": "code",
   "execution_count": 53,
   "id": "f01c385d",
   "metadata": {},
   "outputs": [],
   "source": [
    "from ptls.nn import PBLayerNorm, PBL2Norm"
   ]
  },
  {
   "cell_type": "code",
   "execution_count": 54,
   "id": "641430eb",
   "metadata": {},
   "outputs": [],
   "source": [
    "seq_encoder = RnnSeqEncoder(\n",
    "    trx_encoder=nn.Sequential(geo_encoder, PBL2Norm(), PBLayerNorm(geo_encoder.output_size)),\n",
    "    input_size=geo_encoder.output_size,\n",
    "    hidden_size=128,\n",
    "    # bidir=True,\n",
    "    # num_layers=2,\n",
    ")"
   ]
  },
  {
   "cell_type": "code",
   "execution_count": 55,
   "id": "75a7b68d",
   "metadata": {},
   "outputs": [],
   "source": [
    "classifier = nn.Sequential(\n",
    "    nn.Linear(128, 64),\n",
    "    nn.ReLU(),\n",
    "    nn.Linear(64, 4),\n",
    ")"
   ]
  },
  {
   "cell_type": "code",
   "execution_count": 56,
   "id": "7a955b93",
   "metadata": {},
   "outputs": [],
   "source": [
    "from functools import partial\n",
    "from ptls.frames.supervised import SeqToTargetDataset, SequenceToTarget\n",
    "from ptls.frames import PtlsDataModule\n",
    "import torch.nn as nn\n",
    "import torchmetrics"
   ]
  },
  {
   "cell_type": "code",
   "execution_count": 57,
   "id": "a2c4aca1",
   "metadata": {},
   "outputs": [],
   "source": [
    "class AUROC(nn.Module):\n",
    "    def __init__(self):\n",
    "        super().__init__()\n",
    "        self.metric = torchmetrics.AUROC(task='multilabel', num_labels=4)\n",
    "    def forward(self, preds, target):\n",
    "        return self.metric(preds, target.int())\n",
    "    def compute(self):\n",
    "        return self.metric.compute()\n",
    "    def reset(self):\n",
    "        return self.metric.reset()"
   ]
  },
  {
   "cell_type": "code",
   "execution_count": 58,
   "id": "607ef341",
   "metadata": {},
   "outputs": [],
   "source": [
    "sup_module = SequenceToTarget(\n",
    "    seq_encoder=seq_encoder,\n",
    "    head=classifier,\n",
    "    loss=nn.BCEWithLogitsLoss(),\n",
    "    metric_list=AUROC(),\n",
    "    optimizer_partial=partial(torch.optim.AdamW, lr=1e-4),\n",
    "    lr_scheduler_partial=partial(torch.optim.lr_scheduler.ConstantLR, factor=1.0),\n",
    ")"
   ]
  },
  {
   "cell_type": "code",
   "execution_count": 59,
   "id": "41d8cf42",
   "metadata": {},
   "outputs": [
    {
     "data": {
      "text/plain": [
       "SequenceToTarget(\n",
       "  (seq_encoder): RnnSeqEncoder(\n",
       "    (trx_encoder): Sequential(\n",
       "      (0): TrxEncoder(\n",
       "        (embeddings): ModuleDict(\n",
       "          (mon_ind): NoisyEmbedding(\n",
       "            14, 7, padding_idx=0\n",
       "            (dropout): Dropout(p=0, inplace=False)\n",
       "          )\n",
       "          (day_ind): NoisyEmbedding(\n",
       "            356, 64, padding_idx=0\n",
       "            (dropout): Dropout(p=0, inplace=False)\n",
       "          )\n",
       "          (geohash_4): NoisyEmbedding(\n",
       "            17927, 256, padding_idx=0\n",
       "            (dropout): Dropout(p=0, inplace=False)\n",
       "          )\n",
       "        )\n",
       "        (custom_embeddings): ModuleDict()\n",
       "        (linear_projection_head): Linear(in_features=327, out_features=128, bias=True)\n",
       "      )\n",
       "      (1): PBShell()\n",
       "      (2): PBShell((128,), eps=1e-05, elementwise_affine=True)\n",
       "    )\n",
       "    (seq_encoder): RnnEncoder(\n",
       "      (rnn): GRU(128, 128, batch_first=True)\n",
       "      (reducer): LastStepEncoder()\n",
       "    )\n",
       "  )\n",
       "  (head): Sequential(\n",
       "    (0): Linear(in_features=128, out_features=64, bias=True)\n",
       "    (1): ReLU()\n",
       "    (2): Linear(in_features=64, out_features=4, bias=True)\n",
       "  )\n",
       "  (loss): BCEWithLogitsLoss()\n",
       "  (train_metrics): ModuleDict(\n",
       "    (AUROC): AUROC(\n",
       "      (metric): MultilabelAUROC()\n",
       "    )\n",
       "  )\n",
       "  (valid_metrics): ModuleDict(\n",
       "    (AUROC): AUROC(\n",
       "      (metric): MultilabelAUROC()\n",
       "    )\n",
       "  )\n",
       "  (test_metrics): ModuleDict(\n",
       "    (AUROC): AUROC(\n",
       "      (metric): MultilabelAUROC()\n",
       "    )\n",
       "  )\n",
       ")"
      ]
     },
     "execution_count": 59,
     "metadata": {},
     "output_type": "execute_result"
    }
   ],
   "source": [
    "sup_module"
   ]
  },
  {
   "cell_type": "code",
   "execution_count": 60,
   "id": "0e985240",
   "metadata": {},
   "outputs": [],
   "source": [
    "from pytorch_lightning.loggers import WandbLogger"
   ]
  },
  {
   "cell_type": "code",
   "execution_count": 61,
   "id": "a6499f9c",
   "metadata": {},
   "outputs": [],
   "source": [
    "from pytorch_lightning.callbacks import LearningRateMonitor"
   ]
  },
  {
   "cell_type": "code",
   "execution_count": 62,
   "id": "c8433c15",
   "metadata": {},
   "outputs": [],
   "source": [
    "lr_monitor = LearningRateMonitor(logging_interval=\"step\")"
   ]
  },
  {
   "cell_type": "code",
   "execution_count": 63,
   "id": "b5b257fb",
   "metadata": {},
   "outputs": [
    {
     "name": "stderr",
     "output_type": "stream",
     "text": [
      "2024-06-16 21:49:27,311 [24188] WARNING  py.warnings:109: [JupyterRequire] C:\\Users\\Konder\\AppData\\Roaming\\Python\\Python38\\site-packages\\pytorch_lightning\\loggers\\wandb.py:395: UserWarning: There is a wandb run already in progress and newly created instances of `WandbLogger` will reuse this run. If this is not desired, call `wandb.finish()` before instantiating `WandbLogger`.\n",
      "  rank_zero_warn(\n",
      "\n",
      "GPU available: True (cuda), used: True\n",
      "TPU available: False, using: 0 TPU cores\n",
      "IPU available: False, using: 0 IPUs\n",
      "HPU available: False, using: 0 HPUs\n"
     ]
    }
   ],
   "source": [
    "pl_trainer = pytorch_lightning.Trainer(\n",
    "    logger = WandbLogger(),\n",
    "    max_epochs = 15,\n",
    "    accelerator = \"gpu\",\n",
    "    devices = 1,\n",
    "    enable_progress_bar = True,\n",
    "    callbacks = [lr_monitor]\n",
    ")"
   ]
  },
  {
   "cell_type": "code",
   "execution_count": 64,
   "id": "25d49868",
   "metadata": {
    "scrolled": false
   },
   "outputs": [
    {
     "name": "stderr",
     "output_type": "stream",
     "text": [
      "2024-06-16 21:49:27,369 [24188] WARNING  py.warnings:109: [JupyterRequire] C:\\Users\\Konder\\AppData\\Roaming\\Python\\Python38\\site-packages\\pytorch_lightning\\callbacks\\model_checkpoint.py:612: UserWarning: Checkpoint directory .\\lightning_logs\\jn6bf5nm\\checkpoints exists and is not empty.\n",
      "  rank_zero_warn(f\"Checkpoint directory {dirpath} exists and is not empty.\")\n",
      "\n",
      "LOCAL_RANK: 0 - CUDA_VISIBLE_DEVICES: [0]\n",
      "\n",
      "  | Name          | Type              | Params\n",
      "----------------------------------------------------\n",
      "0 | seq_encoder   | RnnSeqEncoder     | 4.8 M \n",
      "1 | head          | Sequential        | 8.5 K \n",
      "2 | loss          | BCEWithLogitsLoss | 0     \n",
      "3 | train_metrics | ModuleDict        | 0     \n",
      "4 | valid_metrics | ModuleDict        | 0     \n",
      "5 | test_metrics  | ModuleDict        | 0     \n",
      "----------------------------------------------------\n",
      "4.8 M     Trainable params\n",
      "0         Non-trainable params\n",
      "4.8 M     Total params\n",
      "19.049    Total estimated model params size (MB)\n"
     ]
    },
    {
     "data": {
      "application/vnd.jupyter.widget-view+json": {
       "model_id": "",
       "version_major": 2,
       "version_minor": 0
      },
      "text/plain": [
       "Sanity Checking: 0it [00:00, ?it/s]"
      ]
     },
     "metadata": {},
     "output_type": "display_data"
    },
    {
     "name": "stderr",
     "output_type": "stream",
     "text": [
      "2024-06-16 21:49:27,414 [24188] WARNING  py.warnings:109: [JupyterRequire] C:\\Users\\Konder\\AppData\\Roaming\\Python\\Python38\\site-packages\\pytorch_lightning\\trainer\\connectors\\data_connector.py:430: PossibleUserWarning: The dataloader, val_dataloader, does not have many workers which may be a bottleneck. Consider increasing the value of the `num_workers` argument` (try 24 which is the number of cpus on this machine) in the `DataLoader` init to improve performance.\n",
      "  rank_zero_warn(\n",
      "\n",
      "2024-06-16 21:49:27,486 [24188] WARNING  py.warnings:109: [JupyterRequire] C:\\Users\\Konder\\AppData\\Roaming\\Python\\Python38\\site-packages\\torchmetrics\\utilities\\prints.py:36: UserWarning: No positive samples in targets, true positive value should be meaningless. Returning zero tensor in true positive score\n",
      "  warnings.warn(*args, **kwargs)\n",
      "\n",
      "2024-06-16 21:49:27,558 [24188] WARNING  py.warnings:109: [JupyterRequire] C:\\Users\\Konder\\AppData\\Roaming\\Python\\Python38\\site-packages\\pytorch_lightning\\trainer\\connectors\\data_connector.py:430: PossibleUserWarning: The dataloader, train_dataloader, does not have many workers which may be a bottleneck. Consider increasing the value of the `num_workers` argument` (try 24 which is the number of cpus on this machine) in the `DataLoader` init to improve performance.\n",
      "  rank_zero_warn(\n",
      "\n"
     ]
    },
    {
     "data": {
      "application/vnd.jupyter.widget-view+json": {
       "model_id": "5f83dabefcf2431aa2f6fc34c5c27250",
       "version_major": 2,
       "version_minor": 0
      },
      "text/plain": [
       "Training: 0it [00:00, ?it/s]"
      ]
     },
     "metadata": {},
     "output_type": "display_data"
    },
    {
     "data": {
      "application/vnd.jupyter.widget-view+json": {
       "model_id": "",
       "version_major": 2,
       "version_minor": 0
      },
      "text/plain": [
       "Validation: 0it [00:00, ?it/s]"
      ]
     },
     "metadata": {},
     "output_type": "display_data"
    },
    {
     "data": {
      "application/vnd.jupyter.widget-view+json": {
       "model_id": "",
       "version_major": 2,
       "version_minor": 0
      },
      "text/plain": [
       "Validation: 0it [00:00, ?it/s]"
      ]
     },
     "metadata": {},
     "output_type": "display_data"
    },
    {
     "data": {
      "application/vnd.jupyter.widget-view+json": {
       "model_id": "",
       "version_major": 2,
       "version_minor": 0
      },
      "text/plain": [
       "Validation: 0it [00:00, ?it/s]"
      ]
     },
     "metadata": {},
     "output_type": "display_data"
    },
    {
     "data": {
      "application/vnd.jupyter.widget-view+json": {
       "model_id": "",
       "version_major": 2,
       "version_minor": 0
      },
      "text/plain": [
       "Validation: 0it [00:00, ?it/s]"
      ]
     },
     "metadata": {},
     "output_type": "display_data"
    },
    {
     "data": {
      "application/vnd.jupyter.widget-view+json": {
       "model_id": "",
       "version_major": 2,
       "version_minor": 0
      },
      "text/plain": [
       "Validation: 0it [00:00, ?it/s]"
      ]
     },
     "metadata": {},
     "output_type": "display_data"
    },
    {
     "data": {
      "application/vnd.jupyter.widget-view+json": {
       "model_id": "",
       "version_major": 2,
       "version_minor": 0
      },
      "text/plain": [
       "Validation: 0it [00:00, ?it/s]"
      ]
     },
     "metadata": {},
     "output_type": "display_data"
    },
    {
     "data": {
      "application/vnd.jupyter.widget-view+json": {
       "model_id": "",
       "version_major": 2,
       "version_minor": 0
      },
      "text/plain": [
       "Validation: 0it [00:00, ?it/s]"
      ]
     },
     "metadata": {},
     "output_type": "display_data"
    },
    {
     "name": "stderr",
     "output_type": "stream",
     "text": [
      "2024-06-16 21:57:43,899 [24188] WARNING  py.warnings:109: [JupyterRequire] C:\\Users\\Konder\\AppData\\Roaming\\Python\\Python38\\site-packages\\pytorch_lightning\\trainer\\call.py:54: UserWarning: Detected KeyboardInterrupt, attempting graceful shutdown...\n",
      "  rank_zero_warn(\"Detected KeyboardInterrupt, attempting graceful shutdown...\")\n",
      "\n"
     ]
    }
   ],
   "source": [
    "pl_trainer.fit(sup_module, sup_data)"
   ]
  },
  {
   "cell_type": "raw",
   "id": "86f886b4",
   "metadata": {},
   "source": [
    "0.648"
   ]
  },
  {
   "cell_type": "code",
   "execution_count": 65,
   "id": "39e5bf3f",
   "metadata": {},
   "outputs": [
    {
     "name": "stderr",
     "output_type": "stream",
     "text": [
      "LOCAL_RANK: 0 - CUDA_VISIBLE_DEVICES: [0]\n",
      "2024-06-16 21:57:43,972 [24188] WARNING  py.warnings:109: [JupyterRequire] C:\\Users\\Konder\\AppData\\Roaming\\Python\\Python38\\site-packages\\pytorch_lightning\\trainer\\connectors\\data_connector.py:430: PossibleUserWarning: The dataloader, predict_dataloader, does not have many workers which may be a bottleneck. Consider increasing the value of the `num_workers` argument` (try 24 which is the number of cpus on this machine) in the `DataLoader` init to improve performance.\n",
      "  rank_zero_warn(\n",
      "\n"
     ]
    },
    {
     "data": {
      "application/vnd.jupyter.widget-view+json": {
       "model_id": "cedf3cd770724c2f8346b8797e00d003",
       "version_major": 2,
       "version_minor": 0
      },
      "text/plain": [
       "Predicting: 0it [00:00, ?it/s]"
      ]
     },
     "metadata": {},
     "output_type": "display_data"
    }
   ],
   "source": [
    "prediction = pl_trainer.predict(sup_module, sup_data.val_dataloader())"
   ]
  },
  {
   "cell_type": "code",
   "execution_count": 66,
   "id": "74a861f4",
   "metadata": {},
   "outputs": [],
   "source": [
    "import pandas as pd"
   ]
  },
  {
   "cell_type": "code",
   "execution_count": 67,
   "id": "26d3bdec",
   "metadata": {},
   "outputs": [
    {
     "data": {
      "text/html": [
       "<div>\n",
       "<style scoped>\n",
       "    .dataframe tbody tr th:only-of-type {\n",
       "        vertical-align: middle;\n",
       "    }\n",
       "\n",
       "    .dataframe tbody tr th {\n",
       "        vertical-align: top;\n",
       "    }\n",
       "\n",
       "    .dataframe thead th {\n",
       "        text-align: right;\n",
       "    }\n",
       "</style>\n",
       "<table border=\"1\" class=\"dataframe\">\n",
       "  <thead>\n",
       "    <tr style=\"text-align: right;\">\n",
       "      <th></th>\n",
       "      <th>seq_id_0000</th>\n",
       "      <th>seq_id_0001</th>\n",
       "      <th>seq_id_0002</th>\n",
       "      <th>seq_id_0003</th>\n",
       "      <th>out_0000</th>\n",
       "      <th>out_0001</th>\n",
       "      <th>out_0002</th>\n",
       "      <th>out_0003</th>\n",
       "    </tr>\n",
       "  </thead>\n",
       "  <tbody>\n",
       "    <tr>\n",
       "      <th>0</th>\n",
       "      <td>0.0</td>\n",
       "      <td>0.0</td>\n",
       "      <td>0.0</td>\n",
       "      <td>0.0</td>\n",
       "      <td>-4.924044</td>\n",
       "      <td>-6.623470</td>\n",
       "      <td>-4.783706</td>\n",
       "      <td>-5.879585</td>\n",
       "    </tr>\n",
       "    <tr>\n",
       "      <th>1</th>\n",
       "      <td>0.0</td>\n",
       "      <td>0.0</td>\n",
       "      <td>0.0</td>\n",
       "      <td>0.0</td>\n",
       "      <td>-6.009947</td>\n",
       "      <td>-7.913704</td>\n",
       "      <td>-5.983152</td>\n",
       "      <td>-6.778406</td>\n",
       "    </tr>\n",
       "    <tr>\n",
       "      <th>2</th>\n",
       "      <td>0.0</td>\n",
       "      <td>0.0</td>\n",
       "      <td>0.0</td>\n",
       "      <td>0.0</td>\n",
       "      <td>-4.529310</td>\n",
       "      <td>-6.030220</td>\n",
       "      <td>-4.171947</td>\n",
       "      <td>-4.568515</td>\n",
       "    </tr>\n",
       "    <tr>\n",
       "      <th>3</th>\n",
       "      <td>0.0</td>\n",
       "      <td>0.0</td>\n",
       "      <td>0.0</td>\n",
       "      <td>0.0</td>\n",
       "      <td>-5.997715</td>\n",
       "      <td>-7.659665</td>\n",
       "      <td>-5.973559</td>\n",
       "      <td>-6.344449</td>\n",
       "    </tr>\n",
       "    <tr>\n",
       "      <th>4</th>\n",
       "      <td>0.0</td>\n",
       "      <td>0.0</td>\n",
       "      <td>0.0</td>\n",
       "      <td>0.0</td>\n",
       "      <td>-5.111794</td>\n",
       "      <td>-6.067881</td>\n",
       "      <td>-4.332725</td>\n",
       "      <td>-4.070150</td>\n",
       "    </tr>\n",
       "    <tr>\n",
       "      <th>...</th>\n",
       "      <td>...</td>\n",
       "      <td>...</td>\n",
       "      <td>...</td>\n",
       "      <td>...</td>\n",
       "      <td>...</td>\n",
       "      <td>...</td>\n",
       "      <td>...</td>\n",
       "      <td>...</td>\n",
       "    </tr>\n",
       "    <tr>\n",
       "      <th>40</th>\n",
       "      <td>0.0</td>\n",
       "      <td>0.0</td>\n",
       "      <td>0.0</td>\n",
       "      <td>0.0</td>\n",
       "      <td>-6.015372</td>\n",
       "      <td>-7.455849</td>\n",
       "      <td>-5.809294</td>\n",
       "      <td>-5.906121</td>\n",
       "    </tr>\n",
       "    <tr>\n",
       "      <th>41</th>\n",
       "      <td>0.0</td>\n",
       "      <td>0.0</td>\n",
       "      <td>0.0</td>\n",
       "      <td>1.0</td>\n",
       "      <td>-5.984677</td>\n",
       "      <td>-7.847799</td>\n",
       "      <td>-5.992179</td>\n",
       "      <td>-6.474560</td>\n",
       "    </tr>\n",
       "    <tr>\n",
       "      <th>42</th>\n",
       "      <td>0.0</td>\n",
       "      <td>0.0</td>\n",
       "      <td>0.0</td>\n",
       "      <td>0.0</td>\n",
       "      <td>-5.997715</td>\n",
       "      <td>-7.659665</td>\n",
       "      <td>-5.973559</td>\n",
       "      <td>-6.344449</td>\n",
       "    </tr>\n",
       "    <tr>\n",
       "      <th>43</th>\n",
       "      <td>0.0</td>\n",
       "      <td>0.0</td>\n",
       "      <td>0.0</td>\n",
       "      <td>0.0</td>\n",
       "      <td>-5.664832</td>\n",
       "      <td>-7.599912</td>\n",
       "      <td>-5.673007</td>\n",
       "      <td>-6.522179</td>\n",
       "    </tr>\n",
       "    <tr>\n",
       "      <th>44</th>\n",
       "      <td>0.0</td>\n",
       "      <td>0.0</td>\n",
       "      <td>0.0</td>\n",
       "      <td>0.0</td>\n",
       "      <td>-5.997715</td>\n",
       "      <td>-7.659665</td>\n",
       "      <td>-5.973559</td>\n",
       "      <td>-6.344449</td>\n",
       "    </tr>\n",
       "  </tbody>\n",
       "</table>\n",
       "<p>48877 rows × 8 columns</p>\n",
       "</div>"
      ],
      "text/plain": [
       "    seq_id_0000  seq_id_0001  seq_id_0002  seq_id_0003  out_0000  out_0001  \\\n",
       "0           0.0          0.0          0.0          0.0 -4.924044 -6.623470   \n",
       "1           0.0          0.0          0.0          0.0 -6.009947 -7.913704   \n",
       "2           0.0          0.0          0.0          0.0 -4.529310 -6.030220   \n",
       "3           0.0          0.0          0.0          0.0 -5.997715 -7.659665   \n",
       "4           0.0          0.0          0.0          0.0 -5.111794 -6.067881   \n",
       "..          ...          ...          ...          ...       ...       ...   \n",
       "40          0.0          0.0          0.0          0.0 -6.015372 -7.455849   \n",
       "41          0.0          0.0          0.0          1.0 -5.984677 -7.847799   \n",
       "42          0.0          0.0          0.0          0.0 -5.997715 -7.659665   \n",
       "43          0.0          0.0          0.0          0.0 -5.664832 -7.599912   \n",
       "44          0.0          0.0          0.0          0.0 -5.997715 -7.659665   \n",
       "\n",
       "    out_0002  out_0003  \n",
       "0  -4.783706 -5.879585  \n",
       "1  -5.983152 -6.778406  \n",
       "2  -4.171947 -4.568515  \n",
       "3  -5.973559 -6.344449  \n",
       "4  -4.332725 -4.070150  \n",
       "..       ...       ...  \n",
       "40 -5.809294 -5.906121  \n",
       "41 -5.992179 -6.474560  \n",
       "42 -5.973559 -6.344449  \n",
       "43 -5.673007 -6.522179  \n",
       "44 -5.973559 -6.344449  \n",
       "\n",
       "[48877 rows x 8 columns]"
      ]
     },
     "execution_count": 67,
     "metadata": {},
     "output_type": "execute_result"
    }
   ],
   "source": [
    "prediction = pd.concat(prediction)\n",
    "prediction"
   ]
  },
  {
   "cell_type": "code",
   "execution_count": 68,
   "id": "0b2fbc38",
   "metadata": {},
   "outputs": [],
   "source": [
    "from sklearn.metrics import roc_auc_score"
   ]
  },
  {
   "cell_type": "code",
   "execution_count": 69,
   "id": "f588e63a",
   "metadata": {},
   "outputs": [
    {
     "data": {
      "text/plain": [
       "0.6224184300707871"
      ]
     },
     "execution_count": 69,
     "metadata": {},
     "output_type": "execute_result"
    }
   ],
   "source": [
    "roc_auc_score(val_geo[\"target\"].to_list(), prediction[[\"out_0000\", \"out_0001\", \"out_0002\", \"out_0003\"]])"
   ]
  },
  {
   "cell_type": "raw",
   "id": "647fa08c",
   "metadata": {},
   "source": [
    "0.625325196501706"
   ]
  }
 ],
 "metadata": {
  "kernelspec": {
   "display_name": "Python 3 (ipykernel)",
   "language": "python",
   "name": "python3"
  },
  "language_info": {
   "codemirror_mode": {
    "name": "ipython",
    "version": 3
   },
   "file_extension": ".py",
   "mimetype": "text/x-python",
   "name": "python",
   "nbconvert_exporter": "python",
   "pygments_lexer": "ipython3",
   "version": "3.8.13"
  }
 },
 "nbformat": 4,
 "nbformat_minor": 5
}
