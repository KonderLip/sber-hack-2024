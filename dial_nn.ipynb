{
 "cells": [
  {
   "cell_type": "code",
   "execution_count": 1,
   "id": "8755fe19",
   "metadata": {},
   "outputs": [],
   "source": [
    "from datetime import datetime\n",
    "\n",
    "import polars as pl\n",
    "\n",
    "import torch\n",
    "import pytorch_lightning\n",
    "from torch import nn\n",
    "\n",
    "from src.preprocessing import PolarsDataPreprocessor\n",
    "from src.utils import prepare_data"
   ]
  },
  {
   "cell_type": "code",
   "execution_count": 2,
   "id": "2edc0f58",
   "metadata": {},
   "outputs": [],
   "source": [
    "pl.set_random_seed(56)"
   ]
  },
  {
   "cell_type": "code",
   "execution_count": 3,
   "id": "557f1719",
   "metadata": {},
   "outputs": [
    {
     "data": {
      "text/plain": [
       "56"
      ]
     },
     "execution_count": 3,
     "metadata": {},
     "output_type": "execute_result"
    }
   ],
   "source": [
    "pytorch_lightning.seed_everything(56, True)"
   ]
  },
  {
   "cell_type": "code",
   "execution_count": null,
   "id": "65447f45",
   "metadata": {},
   "outputs": [],
   "source": []
  },
  {
   "cell_type": "code",
   "execution_count": 4,
   "id": "832b414f",
   "metadata": {},
   "outputs": [],
   "source": [
    "months = [\n",
    "    '2022-02-28',\n",
    "    '2022-03-31',\n",
    "    '2022-04-30',\n",
    "    '2022-05-31',\n",
    "    '2022-06-30',\n",
    "    '2022-07-31',\n",
    "    '2022-08-31',\n",
    "    '2022-09-30',\n",
    "    '2022-10-31',\n",
    "    '2022-11-30',\n",
    "    '2022-12-31',\n",
    "    '2023-01-31',\n",
    "]\n",
    "month2id = dict((month, idx) for idx, month in enumerate(months))\n",
    "id2month = dict((idx, month) for idx, month in enumerate(months))"
   ]
  },
  {
   "cell_type": "code",
   "execution_count": null,
   "id": "10ded746",
   "metadata": {},
   "outputs": [],
   "source": []
  },
  {
   "cell_type": "code",
   "execution_count": 5,
   "id": "77a6faf9",
   "metadata": {},
   "outputs": [],
   "source": [
    "mon = 10"
   ]
  },
  {
   "cell_type": "code",
   "execution_count": null,
   "id": "2612dd93",
   "metadata": {},
   "outputs": [],
   "source": []
  },
  {
   "cell_type": "code",
   "execution_count": 6,
   "id": "f821ae06",
   "metadata": {},
   "outputs": [
    {
     "name": "stdout",
     "output_type": "stream",
     "text": [
      "(1215209, 5)\n"
     ]
    },
    {
     "data": {
      "text/html": [
       "<div><style>\n",
       ".dataframe > thead > tr > th,\n",
       ".dataframe > tbody > tr > td {\n",
       "  text-align: right;\n",
       "  white-space: pre-wrap;\n",
       "}\n",
       "</style>\n",
       "<small>shape: (5, 5)</small><table border=\"1\" class=\"dataframe\"><thead><tr><th>client_id</th><th>event_time</th><th>embedding</th><th>mon_ind</th><th>day_ind</th></tr><tr><td>str</td><td>i64</td><td>list[f32]</td><td>i64</td><td>i64</td></tr></thead><tbody><tr><td>&quot;a039ad3b595d4f…</td><td>42035070</td><td>[-0.003248, 0.140231, … -0.010614]</td><td>16</td><td>486</td></tr><tr><td>&quot;a039ad3b595d4f…</td><td>57488718</td><td>[0.058927, -0.007723, … 0.086532]</td><td>21</td><td>665</td></tr><tr><td>&quot;a039ad3b595d4f…</td><td>61634186</td><td>[0.079807, -0.003912, … 0.095575]</td><td>23</td><td>713</td></tr><tr><td>&quot;a060e69e9e049a…</td><td>53617023</td><td>[0.523752, -0.30542, … 0.568542]</td><td>20</td><td>620</td></tr><tr><td>&quot;a08c690dd972d2…</td><td>42023542</td><td>[-0.009235, -0.069714, … -0.062696]</td><td>16</td><td>486</td></tr></tbody></table></div>"
      ],
      "text/plain": [
       "shape: (5, 5)\n",
       "┌───────────────────────────────────┬────────────┬──────────────────────────┬─────────┬─────────┐\n",
       "│ client_id                         ┆ event_time ┆ embedding                ┆ mon_ind ┆ day_ind │\n",
       "│ ---                               ┆ ---        ┆ ---                      ┆ ---     ┆ ---     │\n",
       "│ str                               ┆ i64        ┆ list[f32]                ┆ i64     ┆ i64     │\n",
       "╞═══════════════════════════════════╪════════════╪══════════════════════════╪═════════╪═════════╡\n",
       "│ a039ad3b595d4f5b1a318076286b0e64… ┆ 42035070   ┆ [-0.003248, 0.140231, …  ┆ 16      ┆ 486     │\n",
       "│                                   ┆            ┆ -0.01061…                ┆         ┆         │\n",
       "│ a039ad3b595d4f5b1a318076286b0e64… ┆ 57488718   ┆ [0.058927, -0.007723, …  ┆ 21      ┆ 665     │\n",
       "│                                   ┆            ┆ 0.086532…                ┆         ┆         │\n",
       "│ a039ad3b595d4f5b1a318076286b0e64… ┆ 61634186   ┆ [0.079807, -0.003912, …  ┆ 23      ┆ 713     │\n",
       "│                                   ┆            ┆ 0.095575…                ┆         ┆         │\n",
       "│ a060e69e9e049ad012a4036c4cff6487… ┆ 53617023   ┆ [0.523752, -0.30542, …   ┆ 20      ┆ 620     │\n",
       "│                                   ┆            ┆ 0.568542]                ┆         ┆         │\n",
       "│ a08c690dd972d2066188950605635ff0… ┆ 42023542   ┆ [-0.009235, -0.069714, … ┆ 16      ┆ 486     │\n",
       "│                                   ┆            ┆ -0.0626…                 ┆         ┆         │\n",
       "└───────────────────────────────────┴────────────┴──────────────────────────┴─────────┴─────────┘"
      ]
     },
     "execution_count": 6,
     "metadata": {},
     "output_type": "execute_result"
    }
   ],
   "source": [
    "train_dial = pl.read_parquet(\"F:/dial_train.parquet/*\")\n",
    "train_dial = prepare_data(train_dial)\n",
    "train_dial = train_dial.filter(pl.col(\"event_time\") < datetime.strptime(months[mon], \"%Y-%m-%d\").replace(day=1))\n",
    "print(train_dial.shape)\n",
    "train_dial.head()"
   ]
  },
  {
   "cell_type": "code",
   "execution_count": 7,
   "id": "34562b61",
   "metadata": {},
   "outputs": [
    {
     "data": {
      "text/html": [
       "<div><style>\n",
       ".dataframe > thead > tr > th,\n",
       ".dataframe > tbody > tr > td {\n",
       "  text-align: right;\n",
       "  white-space: pre-wrap;\n",
       "}\n",
       "</style>\n",
       "<small>shape: (5, 2)</small><table border=\"1\" class=\"dataframe\"><thead><tr><th>client_id</th><th>target</th></tr><tr><td>str</td><td>list[i32]</td></tr></thead><tbody><tr><td>&quot;1d4ebf30ab5b98…</td><td>[0, 0, … 0]</td></tr><tr><td>&quot;1d55174bce3ef4…</td><td>[0, 0, … 0]</td></tr><tr><td>&quot;1d5d052f87d6bd…</td><td>[0, 0, … 0]</td></tr><tr><td>&quot;1d68b588164639…</td><td>[0, 0, … 0]</td></tr><tr><td>&quot;1d817e82e1cc59…</td><td>[0, 0, … 0]</td></tr></tbody></table></div>"
      ],
      "text/plain": [
       "shape: (5, 2)\n",
       "┌───────────────────────────────────┬─────────────┐\n",
       "│ client_id                         ┆ target      │\n",
       "│ ---                               ┆ ---         │\n",
       "│ str                               ┆ list[i32]   │\n",
       "╞═══════════════════════════════════╪═════════════╡\n",
       "│ 1d4ebf30ab5b981c60a6596e8daa4bdc… ┆ [0, 0, … 0] │\n",
       "│ 1d55174bce3ef488233380aca206ca2f… ┆ [0, 0, … 0] │\n",
       "│ 1d5d052f87d6bd22a30b5df160fffdcd… ┆ [0, 0, … 0] │\n",
       "│ 1d68b588164639d64879b33da867818e… ┆ [0, 0, … 0] │\n",
       "│ 1d817e82e1cc594e32e10217b716faa3… ┆ [0, 0, … 0] │\n",
       "└───────────────────────────────────┴─────────────┘"
      ]
     },
     "execution_count": 7,
     "metadata": {},
     "output_type": "execute_result"
    }
   ],
   "source": [
    "train_target = pl.read_parquet(\"./data/train_target.parquet/*\")\n",
    "train_target = train_target.filter(pl.col(\"mon\") == months[mon])\n",
    "train_target = train_target.with_columns(\n",
    "    target=pl.concat_list([f\"target_{i}\" for i in range(1, 5)])\n",
    ")\n",
    "train_target = train_target.select((\"client_id\", \"target\"))\n",
    "train_target.head()"
   ]
  },
  {
   "cell_type": "code",
   "execution_count": null,
   "id": "aaab0457",
   "metadata": {},
   "outputs": [],
   "source": []
  },
  {
   "cell_type": "code",
   "execution_count": 8,
   "id": "ca66a389",
   "metadata": {},
   "outputs": [
    {
     "name": "stdout",
     "output_type": "stream",
     "text": [
      "(286526, 5)\n"
     ]
    },
    {
     "data": {
      "text/html": [
       "<div><style>\n",
       ".dataframe > thead > tr > th,\n",
       ".dataframe > tbody > tr > td {\n",
       "  text-align: right;\n",
       "  white-space: pre-wrap;\n",
       "}\n",
       "</style>\n",
       "<small>shape: (5, 5)</small><table border=\"1\" class=\"dataframe\"><thead><tr><th>client_id</th><th>event_time</th><th>embedding</th><th>mon_ind</th><th>day_ind</th></tr><tr><td>str</td><td>i64</td><td>list[f32]</td><td>i64</td><td>i64</td></tr></thead><tbody><tr><td>&quot;08b3569cdfd015…</td><td>36413591</td><td>[0.110589, -0.000545, … 0.134537]</td><td>13</td><td>421</td></tr><tr><td>&quot;08b3569cdfd015…</td><td>41938633</td><td>[0.00209, 0.072185, … 0.015157]</td><td>16</td><td>485</td></tr><tr><td>&quot;08b3569cdfd015…</td><td>42626904</td><td>[0.194512, -0.032053, … 0.160809]</td><td>16</td><td>493</td></tr><tr><td>&quot;08b3569cdfd015…</td><td>38386943</td><td>[0.045035, 0.042004, … -0.112547]</td><td>14</td><td>444</td></tr><tr><td>&quot;08b3569cdfd015…</td><td>38220918</td><td>[0.330715, -0.023786, … 0.342075]</td><td>14</td><td>442</td></tr></tbody></table></div>"
      ],
      "text/plain": [
       "shape: (5, 5)\n",
       "┌───────────────────────────────────┬────────────┬─────────────────────────┬─────────┬─────────┐\n",
       "│ client_id                         ┆ event_time ┆ embedding               ┆ mon_ind ┆ day_ind │\n",
       "│ ---                               ┆ ---        ┆ ---                     ┆ ---     ┆ ---     │\n",
       "│ str                               ┆ i64        ┆ list[f32]               ┆ i64     ┆ i64     │\n",
       "╞═══════════════════════════════════╪════════════╪═════════════════════════╪═════════╪═════════╡\n",
       "│ 08b3569cdfd015e4ef7ed3632cf86bca… ┆ 36413591   ┆ [0.110589, -0.000545, … ┆ 13      ┆ 421     │\n",
       "│                                   ┆            ┆ 0.134537…               ┆         ┆         │\n",
       "│ 08b3569cdfd015e4ef7ed3632cf86bca… ┆ 41938633   ┆ [0.00209, 0.072185, …   ┆ 16      ┆ 485     │\n",
       "│                                   ┆            ┆ 0.015157]               ┆         ┆         │\n",
       "│ 08b3569cdfd015e4ef7ed3632cf86bca… ┆ 42626904   ┆ [0.194512, -0.032053, … ┆ 16      ┆ 493     │\n",
       "│                                   ┆            ┆ 0.160809…               ┆         ┆         │\n",
       "│ 08b3569cdfd015e4ef7ed3632cf86bca… ┆ 38386943   ┆ [0.045035, 0.042004, …  ┆ 14      ┆ 444     │\n",
       "│                                   ┆            ┆ -0.112547…              ┆         ┆         │\n",
       "│ 08b3569cdfd015e4ef7ed3632cf86bca… ┆ 38220918   ┆ [0.330715, -0.023786, … ┆ 14      ┆ 442     │\n",
       "│                                   ┆            ┆ 0.342075…               ┆         ┆         │\n",
       "└───────────────────────────────────┴────────────┴─────────────────────────┴─────────┴─────────┘"
      ]
     },
     "execution_count": 8,
     "metadata": {},
     "output_type": "execute_result"
    }
   ],
   "source": [
    "val_dial = pl.read_parquet(\"F:/dial_test.parquet/*\")\n",
    "val_dial = prepare_data(val_dial)\n",
    "val_dial = val_dial.filter(pl.col(\"event_time\") < datetime.strptime(months[mon], \"%Y-%m-%d\").replace(day=1))\n",
    "print(val_dial.shape)\n",
    "val_dial.head()"
   ]
  },
  {
   "cell_type": "code",
   "execution_count": 9,
   "id": "d2048b7c",
   "metadata": {},
   "outputs": [
    {
     "data": {
      "text/html": [
       "<div><style>\n",
       ".dataframe > thead > tr > th,\n",
       ".dataframe > tbody > tr > td {\n",
       "  text-align: right;\n",
       "  white-space: pre-wrap;\n",
       "}\n",
       "</style>\n",
       "<small>shape: (5, 2)</small><table border=\"1\" class=\"dataframe\"><thead><tr><th>client_id</th><th>target</th></tr><tr><td>str</td><td>list[i32]</td></tr></thead><tbody><tr><td>&quot;eacde9cdeaf7ec…</td><td>[0, 0, … 0]</td></tr><tr><td>&quot;581cdd678867bb…</td><td>[0, 0, … 0]</td></tr><tr><td>&quot;be99a105e19a53…</td><td>[0, 0, … 0]</td></tr><tr><td>&quot;9f6d6e6dea2b12…</td><td>[0, 0, … 0]</td></tr><tr><td>&quot;12d1d490206e23…</td><td>[0, 0, … 0]</td></tr></tbody></table></div>"
      ],
      "text/plain": [
       "shape: (5, 2)\n",
       "┌───────────────────────────────────┬─────────────┐\n",
       "│ client_id                         ┆ target      │\n",
       "│ ---                               ┆ ---         │\n",
       "│ str                               ┆ list[i32]   │\n",
       "╞═══════════════════════════════════╪═════════════╡\n",
       "│ eacde9cdeaf7eca6b7326eba8791f567… ┆ [0, 0, … 0] │\n",
       "│ 581cdd678867bb73426dcb7b7fbb3d5a… ┆ [0, 0, … 0] │\n",
       "│ be99a105e19a533afccc64384e5621fe… ┆ [0, 0, … 0] │\n",
       "│ 9f6d6e6dea2b1224f629a3df57a10d92… ┆ [0, 0, … 0] │\n",
       "│ 12d1d490206e236d969b930fcc72300a… ┆ [0, 0, … 0] │\n",
       "└───────────────────────────────────┴─────────────┘"
      ]
     },
     "execution_count": 9,
     "metadata": {},
     "output_type": "execute_result"
    }
   ],
   "source": [
    "val_target = pl.read_parquet(\"./data/test_target_b.parquet/*\").unique()\n",
    "val_target = val_target.filter(pl.col(\"mon\") == months[mon])\n",
    "val_target = val_target.with_columns(\n",
    "    target=pl.concat_list([f\"target_{i}\" for i in range(1, 5)])\n",
    ")\n",
    "val_target = val_target.select((\"client_id\", \"target\"))\n",
    "val_target.head()"
   ]
  },
  {
   "cell_type": "code",
   "execution_count": null,
   "id": "8886042a",
   "metadata": {},
   "outputs": [],
   "source": []
  },
  {
   "cell_type": "code",
   "execution_count": 10,
   "id": "37cdf7a9",
   "metadata": {},
   "outputs": [],
   "source": [
    "dial_preprocessor = PolarsDataPreprocessor(\n",
    "    col_id=\"client_id\",\n",
    "    col_event_time=\"event_time\",\n",
    "    cols_category=[\n",
    "        \"mon_ind\", \"day_ind\", \n",
    "    ],\n",
    "    cols_numerical=[\"embedding\"],\n",
    ")"
   ]
  },
  {
   "cell_type": "code",
   "execution_count": 11,
   "id": "2aace023",
   "metadata": {},
   "outputs": [
    {
     "name": "stdout",
     "output_type": "stream",
     "text": [
      "CPU times: total: 27.4 s\n",
      "Wall time: 22.6 s\n"
     ]
    }
   ],
   "source": [
    "%%time\n",
    "\n",
    "train_dial = dial_preprocessor.fit_transform(train_dial)"
   ]
  },
  {
   "cell_type": "code",
   "execution_count": 12,
   "id": "e15e191a",
   "metadata": {},
   "outputs": [
    {
     "name": "stdout",
     "output_type": "stream",
     "text": [
      "CPU times: total: 7.77 s\n",
      "Wall time: 6.15 s\n"
     ]
    }
   ],
   "source": [
    "%%time\n",
    "\n",
    "val_dial = dial_preprocessor.transform(val_dial)"
   ]
  },
  {
   "cell_type": "code",
   "execution_count": null,
   "id": "b8925b8d",
   "metadata": {},
   "outputs": [],
   "source": []
  },
  {
   "cell_type": "code",
   "execution_count": 13,
   "id": "3850a4bf",
   "metadata": {
    "scrolled": true
   },
   "outputs": [],
   "source": [
    "train_dial = train_dial.join(train_target, on=\"client_id\", how=\"outer\").filter(~pl.col(\"target\").is_null())\n",
    "val_dial = val_dial.join(val_target, on=\"client_id\", how=\"outer\").filter(~pl.col(\"target\").is_null())"
   ]
  },
  {
   "cell_type": "code",
   "execution_count": 14,
   "id": "5b470de1",
   "metadata": {},
   "outputs": [
    {
     "data": {
      "text/html": [
       "<div><style>\n",
       ".dataframe > thead > tr > th,\n",
       ".dataframe > tbody > tr > td {\n",
       "  text-align: right;\n",
       "  white-space: pre-wrap;\n",
       "}\n",
       "</style>\n",
       "<small>shape: (48_877, 6)</small><table border=\"1\" class=\"dataframe\"><thead><tr><th>client_id</th><th>event_time</th><th>mon_ind</th><th>day_ind</th><th>embedding</th><th>target</th></tr><tr><td>str</td><td>list[i64]</td><td>list[i32]</td><td>list[i32]</td><td>list[list[f32]]</td><td>list[i32]</td></tr></thead><tbody><tr><td>&quot;d3998cf889633d…</td><td>null</td><td>null</td><td>null</td><td>null</td><td>[0, 0, … 0]</td></tr><tr><td>&quot;e5412b4fa21f6f…</td><td>[38040903]</td><td>[6]</td><td>[156]</td><td>[[0.078863, 0.067005, … -0.09817]]</td><td>[0, 0, … 0]</td></tr><tr><td>&quot;eb1edd32c3dd18…</td><td>null</td><td>null</td><td>null</td><td>null</td><td>[0, 0, … 0]</td></tr><tr><td>&quot;c8d16becb83770…</td><td>null</td><td>null</td><td>null</td><td>null</td><td>[0, 0, … 0]</td></tr><tr><td>&quot;fbf6cf67602181…</td><td>null</td><td>null</td><td>null</td><td>null</td><td>[0, 0, … 0]</td></tr><tr><td>&quot;7b90d4c493382d…</td><td>null</td><td>null</td><td>null</td><td>null</td><td>[0, 0, … 0]</td></tr><tr><td>&quot;12babeb2f62fbd…</td><td>null</td><td>null</td><td>null</td><td>null</td><td>[0, 0, … 0]</td></tr><tr><td>&quot;d5740438226829…</td><td>null</td><td>null</td><td>null</td><td>null</td><td>[0, 0, … 0]</td></tr><tr><td>&quot;6691c06d165d81…</td><td>null</td><td>null</td><td>null</td><td>null</td><td>[0, 0, … 0]</td></tr><tr><td>&quot;bb53dbbe09739e…</td><td>[49871005]</td><td>[12]</td><td>[144]</td><td>[[0.293067, -0.025177, … 0.275898]]</td><td>[0, 0, … 0]</td></tr><tr><td>&quot;c1a921698fb83e…</td><td>[54574392, 56986182, … 58960357]</td><td>[4, 2, … 10]</td><td>[356, 317, … 158]</td><td>[[0.382258, 0.026115, … 0.175406], [0.204546, -0.258017, … 0.216628], … [0.294896, -0.326915, … 0.227825]]</td><td>[0, 0, … 0]</td></tr><tr><td>&quot;e9081b9543e945…</td><td>null</td><td>null</td><td>null</td><td>null</td><td>[0, 0, … 0]</td></tr><tr><td>&hellip;</td><td>&hellip;</td><td>&hellip;</td><td>&hellip;</td><td>&hellip;</td><td>&hellip;</td></tr><tr><td>&quot;0d539388c353e1…</td><td>[32351656, 44013348, … 62168469]</td><td>[11, 1, … 3]</td><td>[104, 172, … 73]</td><td>[[0.340981, -0.335034, … 0.328131], [0.23116, -0.065463, … 0.233349], … [0.397861, -0.214844, … 0.375487]]</td><td>[0, 0, … 0]</td></tr><tr><td>&quot;eefc43c03aab14…</td><td>[36488427, 38486813, … 55665146]</td><td>[9, 6, … 2]</td><td>[12, 175, … 213]</td><td>[[0.16644, -0.054576, … 0.013628], [0.114828, 0.138609, … 0.127842], … [0.424108, -0.284782, … 0.428095]]</td><td>[0, 0, … 0]</td></tr><tr><td>&quot;1658244b4dad33…</td><td>[55607971, 55931949, 56023880]</td><td>[2, 2, 2]</td><td>[89, 362, 271]</td><td>[[0.36755, -0.248502, … 0.393806], [0.124019, -0.018216, … 0.14138], [0.237456, -0.060968, … 0.397591]]</td><td>[0, 0, … 0]</td></tr><tr><td>&quot;7b1d4f9083611c…</td><td>[59908946, 62744775]</td><td>[10, 3]</td><td>[117, 189]</td><td>[[0.283639, -0.0915, … 0.392842], [0.569815, -0.405526, … 0.517641]]</td><td>[0, 0, … 0]</td></tr><tr><td>&quot;eb9cf68f9cbbce…</td><td>null</td><td>null</td><td>null</td><td>null</td><td>[0, 0, … 0]</td></tr><tr><td>&quot;64584b0c5a9026…</td><td>null</td><td>null</td><td>null</td><td>null</td><td>[0, 0, … 0]</td></tr><tr><td>&quot;d93c8cb4b9b37e…</td><td>null</td><td>null</td><td>null</td><td>null</td><td>[0, 0, … 0]</td></tr><tr><td>&quot;652da8e593ae54…</td><td>[57730107]</td><td>[2]</td><td>[35]</td><td>[[0.292521, -0.322421, … 0.257683]]</td><td>[0, 0, … 0]</td></tr><tr><td>&quot;6adcd106a60505…</td><td>[40978486]</td><td>[7]</td><td>[233]</td><td>[[0.048958, 0.198287, … 0.069583]]</td><td>[0, 0, … 0]</td></tr><tr><td>&quot;3008709aaf2cd6…</td><td>null</td><td>null</td><td>null</td><td>null</td><td>[0, 0, … 0]</td></tr><tr><td>&quot;fd488a3650fdb6…</td><td>null</td><td>null</td><td>null</td><td>null</td><td>[0, 0, … 0]</td></tr><tr><td>&quot;4cbdcc5bc77291…</td><td>[35545629, 62179320, 62749767]</td><td>[9, 3, 3]</td><td>[284, 73, 189]</td><td>[[0.3486, -0.026022, … 0.390971], [0.284065, -0.390682, … 0.213316], [0.324455, -0.075708, … 0.36034]]</td><td>[0, 0, … 0]</td></tr></tbody></table></div>"
      ],
      "text/plain": [
       "shape: (48_877, 6)\n",
       "┌────────────────────────┬────────────┬───────────┬────────────────┬─────────────────┬─────────────┐\n",
       "│ client_id              ┆ event_time ┆ mon_ind   ┆ day_ind        ┆ embedding       ┆ target      │\n",
       "│ ---                    ┆ ---        ┆ ---       ┆ ---            ┆ ---             ┆ ---         │\n",
       "│ str                    ┆ list[i64]  ┆ list[i32] ┆ list[i32]      ┆ list[list[f32]] ┆ list[i32]   │\n",
       "╞════════════════════════╪════════════╪═══════════╪════════════════╪═════════════════╪═════════════╡\n",
       "│ d3998cf889633dac2e7627 ┆ null       ┆ null      ┆ null           ┆ null            ┆ [0, 0, … 0] │\n",
       "│ 7a18373fae…            ┆            ┆           ┆                ┆                 ┆             │\n",
       "│ e5412b4fa21f6fbe6851d6 ┆ [38040903] ┆ [6]       ┆ [156]          ┆ [[0.078863,     ┆ [0, 0, … 0] │\n",
       "│ 3d5c51da33…            ┆            ┆           ┆                ┆ 0.067005, …     ┆             │\n",
       "│                        ┆            ┆           ┆                ┆ -0.09817…       ┆             │\n",
       "│ eb1edd32c3dd1821955d25 ┆ null       ┆ null      ┆ null           ┆ null            ┆ [0, 0, … 0] │\n",
       "│ 0df8a62bc6…            ┆            ┆           ┆                ┆                 ┆             │\n",
       "│ c8d16becb83770d22db872 ┆ null       ┆ null      ┆ null           ┆ null            ┆ [0, 0, … 0] │\n",
       "│ 0b725b060f…            ┆            ┆           ┆                ┆                 ┆             │\n",
       "│ …                      ┆ …          ┆ …         ┆ …              ┆ …               ┆ …           │\n",
       "│ 6adcd106a605052a59a2cb ┆ [40978486] ┆ [7]       ┆ [233]          ┆ [[0.048958,     ┆ [0, 0, … 0] │\n",
       "│ 29d78f4273…            ┆            ┆           ┆                ┆ 0.198287, …     ┆             │\n",
       "│                        ┆            ┆           ┆                ┆ 0.069583…       ┆             │\n",
       "│ 3008709aaf2cd6e902620b ┆ null       ┆ null      ┆ null           ┆ null            ┆ [0, 0, … 0] │\n",
       "│ fda1e0efb3…            ┆            ┆           ┆                ┆                 ┆             │\n",
       "│ fd488a3650fdb6dc9bf064 ┆ null       ┆ null      ┆ null           ┆ null            ┆ [0, 0, … 0] │\n",
       "│ a971e1f34d…            ┆            ┆           ┆                ┆                 ┆             │\n",
       "│ 4cbdcc5bc77291e61c1421 ┆ [35545629, ┆ [9, 3, 3] ┆ [284, 73, 189] ┆ [[0.3486,       ┆ [0, 0, … 0] │\n",
       "│ 0b9168c06a…            ┆ 62179320,  ┆           ┆                ┆ -0.026022, …    ┆             │\n",
       "│                        ┆ 62749767]  ┆           ┆                ┆ 0.390971]…      ┆             │\n",
       "└────────────────────────┴────────────┴───────────┴────────────────┴─────────────────┴─────────────┘"
      ]
     },
     "execution_count": 14,
     "metadata": {},
     "output_type": "execute_result"
    }
   ],
   "source": [
    "val_dial = val_dial.sample(fraction=1.0, shuffle=True)\n",
    "val_dial"
   ]
  },
  {
   "cell_type": "code",
   "execution_count": null,
   "id": "4c917cc8",
   "metadata": {},
   "outputs": [],
   "source": []
  },
  {
   "cell_type": "code",
   "execution_count": 15,
   "id": "6a299429",
   "metadata": {},
   "outputs": [],
   "source": [
    "import numpy as np"
   ]
  },
  {
   "cell_type": "code",
   "execution_count": 16,
   "id": "2acd3068",
   "metadata": {},
   "outputs": [],
   "source": [
    "def to_records(data):\n",
    "    res = [{} for _ in range(len(data))]\n",
    "    for i, value in enumerate(data[\"target\"]):\n",
    "        res[i][\"target\"] = torch.tensor(value.to_numpy())\n",
    "    for col, dtype in zip(data.columns, data.dtypes):\n",
    "        if col in (\"client_id\", \"target\"):\n",
    "            continue\n",
    "        assert dtype == pl.List\n",
    "        if col != \"embedding\":\n",
    "            for i, value in enumerate(data[col].fill_null([])):\n",
    "                res[i][col] = torch.tensor(value.to_numpy())\n",
    "        else:\n",
    "            # for i, value in enumerate(data[col].fill_null([[0] * 768]).cast(pl.List(pl.List(pl.Float32)))):\n",
    "            for i, value in enumerate(data[col]):\n",
    "                if value is None:\n",
    "                    res[i][col] = torch.zeros((1, 768), dtype=torch.float32)\n",
    "                else:\n",
    "                    res[i][col] = torch.tensor(np.vstack(value.to_numpy()))\n",
    "    return res"
   ]
  },
  {
   "cell_type": "code",
   "execution_count": 17,
   "id": "b1a4c0d5",
   "metadata": {},
   "outputs": [],
   "source": [
    "train_dict = to_records(train_dial)\n",
    "val_dict = to_records(val_dial)"
   ]
  },
  {
   "cell_type": "code",
   "execution_count": null,
   "id": "e80158a9",
   "metadata": {},
   "outputs": [],
   "source": []
  },
  {
   "cell_type": "code",
   "execution_count": 18,
   "id": "f4f5453b",
   "metadata": {},
   "outputs": [],
   "source": [
    "from ptls.frames.supervised import SeqToTargetDataset"
   ]
  },
  {
   "cell_type": "code",
   "execution_count": 19,
   "id": "fb8627f9",
   "metadata": {},
   "outputs": [],
   "source": [
    "train_data = SeqToTargetDataset(train_dict, target_col_name=\"target\", target_dtype=torch.float32)\n",
    "val_data = SeqToTargetDataset(val_dict, target_col_name=\"target\", target_dtype=torch.float32)"
   ]
  },
  {
   "cell_type": "code",
   "execution_count": 20,
   "id": "0f62aca8",
   "metadata": {},
   "outputs": [],
   "source": [
    "from ptls.frames import PtlsDataModule"
   ]
  },
  {
   "cell_type": "code",
   "execution_count": 48,
   "id": "4c332d9d",
   "metadata": {},
   "outputs": [],
   "source": [
    "sup_data = PtlsDataModule(\n",
    "    train_data=train_data,\n",
    "    train_num_workers=0,\n",
    "    train_batch_size=128,\n",
    "    train_drop_last=True,\n",
    "    valid_data=val_data,\n",
    "    valid_num_workers=0,\n",
    "    valid_batch_size=128,\n",
    ")"
   ]
  },
  {
   "cell_type": "code",
   "execution_count": 49,
   "id": "4d90823b",
   "metadata": {
    "scrolled": false
   },
   "outputs": [],
   "source": [
    "_ = next(iter(sup_data.train_dataloader()))"
   ]
  },
  {
   "cell_type": "code",
   "execution_count": null,
   "id": "45a823c7",
   "metadata": {},
   "outputs": [],
   "source": []
  },
  {
   "cell_type": "code",
   "execution_count": 79,
   "id": "23673993",
   "metadata": {},
   "outputs": [
    {
     "data": {
      "text/plain": [
       "{'mon_ind': 14, 'day_ind': 366}"
      ]
     },
     "execution_count": 79,
     "metadata": {},
     "output_type": "execute_result"
    }
   ],
   "source": [
    "dial_preprocessor.get_category_dictionary_sizes()"
   ]
  },
  {
   "cell_type": "code",
   "execution_count": 80,
   "id": "648181e6",
   "metadata": {},
   "outputs": [],
   "source": [
    "from ptls.nn.trx_encoder.encoders import IdentityEncoder"
   ]
  },
  {
   "cell_type": "code",
   "execution_count": 82,
   "id": "65e3222c",
   "metadata": {},
   "outputs": [],
   "source": [
    "dial_encoder_params = dict(\n",
    "    embeddings_noise=0.003,\n",
    "    linear_projection_size=128,\n",
    "    embeddings = {\n",
    "        \"mon_ind\": {\"in\": 14, \"out\": 7},\n",
    "        \"day_ind\": {\"in\": 366, \"out\": 64},\n",
    "    },\n",
    "    custom_embeddings = {\n",
    "        \"embedding\": IdentityEncoder(768),\n",
    "    },\n",
    "    # use_batch_norm=True,\n",
    "    # use_batch_norm_with_lens=True,\n",
    ")"
   ]
  },
  {
   "cell_type": "code",
   "execution_count": 83,
   "id": "11167772",
   "metadata": {},
   "outputs": [],
   "source": [
    "from ptls.nn import TrxEncoder"
   ]
  },
  {
   "cell_type": "code",
   "execution_count": 84,
   "id": "4466d2d3",
   "metadata": {},
   "outputs": [],
   "source": [
    "dial_encoder = TrxEncoder(**dial_encoder_params)"
   ]
  },
  {
   "cell_type": "code",
   "execution_count": 85,
   "id": "7e7ae398",
   "metadata": {},
   "outputs": [],
   "source": [
    "from torchinfo import summary"
   ]
  },
  {
   "cell_type": "code",
   "execution_count": 86,
   "id": "d76c223e",
   "metadata": {
    "scrolled": false
   },
   "outputs": [
    {
     "data": {
      "text/plain": [
       "=================================================================\n",
       "Layer (type:depth-idx)                   Param #\n",
       "=================================================================\n",
       "TrxEncoder                               --\n",
       "├─ModuleDict: 1-1                        --\n",
       "│    └─NoisyEmbedding: 2-1               98\n",
       "│    │    └─Dropout: 3-1                 --\n",
       "│    └─NoisyEmbedding: 2-2               23,424\n",
       "│    │    └─Dropout: 3-2                 --\n",
       "├─ModuleDict: 1-2                        --\n",
       "│    └─IdentityEncoder: 2-3              --\n",
       "├─RBatchNormWithLens: 1-3                --\n",
       "│    └─BatchNorm1d: 2-4                  1,536\n",
       "├─Linear: 1-4                            107,520\n",
       "=================================================================\n",
       "Total params: 132,578\n",
       "Trainable params: 132,578\n",
       "Non-trainable params: 0\n",
       "================================================================="
      ]
     },
     "execution_count": 86,
     "metadata": {},
     "output_type": "execute_result"
    }
   ],
   "source": [
    "summary(dial_encoder)"
   ]
  },
  {
   "cell_type": "code",
   "execution_count": 87,
   "id": "738346a2",
   "metadata": {},
   "outputs": [],
   "source": [
    "from ptls.nn import RnnSeqEncoder"
   ]
  },
  {
   "cell_type": "code",
   "execution_count": 88,
   "id": "f01c385d",
   "metadata": {},
   "outputs": [],
   "source": [
    "from ptls.nn import PBLayerNorm, PBL2Norm"
   ]
  },
  {
   "cell_type": "code",
   "execution_count": 89,
   "id": "641430eb",
   "metadata": {},
   "outputs": [],
   "source": [
    "seq_encoder = RnnSeqEncoder(\n",
    "    trx_encoder=nn.Sequential(dial_encoder, PBL2Norm(), PBLayerNorm(dial_encoder.output_size)),\n",
    "    input_size=dial_encoder.output_size,\n",
    "    hidden_size=128,\n",
    "    # bidir=True,\n",
    "    # num_layers=2,\n",
    ")"
   ]
  },
  {
   "cell_type": "code",
   "execution_count": 90,
   "id": "75a7b68d",
   "metadata": {},
   "outputs": [],
   "source": [
    "classifier = nn.Sequential(\n",
    "    nn.Linear(128, 64),\n",
    "    nn.ReLU(),\n",
    "    nn.Linear(64, 4),\n",
    ")"
   ]
  },
  {
   "cell_type": "code",
   "execution_count": 91,
   "id": "7a955b93",
   "metadata": {},
   "outputs": [],
   "source": [
    "from functools import partial\n",
    "from ptls.frames.supervised import SeqToTargetDataset, SequenceToTarget\n",
    "from ptls.frames import PtlsDataModule\n",
    "import torch.nn as nn\n",
    "import torchmetrics"
   ]
  },
  {
   "cell_type": "code",
   "execution_count": 92,
   "id": "a2c4aca1",
   "metadata": {},
   "outputs": [],
   "source": [
    "class AUROC(nn.Module):\n",
    "    def __init__(self):\n",
    "        super().__init__()\n",
    "        self.metric = torchmetrics.AUROC(task='multilabel', num_labels=4)\n",
    "    def forward(self, preds, target):\n",
    "        return self.metric(preds, target.int())\n",
    "    def compute(self):\n",
    "        return self.metric.compute()\n",
    "    def reset(self):\n",
    "        return self.metric.reset()"
   ]
  },
  {
   "cell_type": "code",
   "execution_count": 93,
   "id": "607ef341",
   "metadata": {},
   "outputs": [],
   "source": [
    "sup_module = SequenceToTarget(\n",
    "    seq_encoder=seq_encoder,\n",
    "    head=classifier,\n",
    "    loss=nn.BCEWithLogitsLoss(),\n",
    "    metric_list=AUROC(),\n",
    "    optimizer_partial=partial(torch.optim.AdamW, lr=1e-4),\n",
    "    lr_scheduler_partial=partial(torch.optim.lr_scheduler.ConstantLR, factor=1.0),\n",
    ")"
   ]
  },
  {
   "cell_type": "code",
   "execution_count": 94,
   "id": "41d8cf42",
   "metadata": {},
   "outputs": [
    {
     "data": {
      "text/plain": [
       "SequenceToTarget(\n",
       "  (seq_encoder): RnnSeqEncoder(\n",
       "    (trx_encoder): Sequential(\n",
       "      (0): TrxEncoder(\n",
       "        (embeddings): ModuleDict(\n",
       "          (mon_ind): NoisyEmbedding(\n",
       "            14, 7, padding_idx=0\n",
       "            (dropout): Dropout(p=0, inplace=False)\n",
       "          )\n",
       "          (day_ind): NoisyEmbedding(\n",
       "            366, 64, padding_idx=0\n",
       "            (dropout): Dropout(p=0, inplace=False)\n",
       "          )\n",
       "        )\n",
       "        (custom_embeddings): ModuleDict(\n",
       "          (embedding): IdentityEncoder()\n",
       "        )\n",
       "        (custom_embedding_batch_norm): RBatchNormWithLens(\n",
       "          (bn): BatchNorm1d(768, eps=1e-05, momentum=0.1, affine=True, track_running_stats=True)\n",
       "        )\n",
       "        (linear_projection_head): Linear(in_features=839, out_features=128, bias=True)\n",
       "      )\n",
       "      (1): PBShell()\n",
       "      (2): PBShell((128,), eps=1e-05, elementwise_affine=True)\n",
       "    )\n",
       "    (seq_encoder): RnnEncoder(\n",
       "      (rnn): GRU(128, 128, batch_first=True)\n",
       "      (reducer): LastStepEncoder()\n",
       "    )\n",
       "  )\n",
       "  (head): Sequential(\n",
       "    (0): Linear(in_features=128, out_features=64, bias=True)\n",
       "    (1): ReLU()\n",
       "    (2): Linear(in_features=64, out_features=4, bias=True)\n",
       "  )\n",
       "  (loss): BCEWithLogitsLoss()\n",
       "  (train_metrics): ModuleDict(\n",
       "    (AUROC): AUROC(\n",
       "      (metric): MultilabelAUROC()\n",
       "    )\n",
       "  )\n",
       "  (valid_metrics): ModuleDict(\n",
       "    (AUROC): AUROC(\n",
       "      (metric): MultilabelAUROC()\n",
       "    )\n",
       "  )\n",
       "  (test_metrics): ModuleDict(\n",
       "    (AUROC): AUROC(\n",
       "      (metric): MultilabelAUROC()\n",
       "    )\n",
       "  )\n",
       ")"
      ]
     },
     "execution_count": 94,
     "metadata": {},
     "output_type": "execute_result"
    }
   ],
   "source": [
    "sup_module"
   ]
  },
  {
   "cell_type": "code",
   "execution_count": 95,
   "id": "0e985240",
   "metadata": {},
   "outputs": [],
   "source": [
    "from pytorch_lightning.loggers import WandbLogger"
   ]
  },
  {
   "cell_type": "code",
   "execution_count": 96,
   "id": "a6499f9c",
   "metadata": {},
   "outputs": [],
   "source": [
    "from pytorch_lightning.callbacks import LearningRateMonitor"
   ]
  },
  {
   "cell_type": "code",
   "execution_count": 97,
   "id": "c8433c15",
   "metadata": {},
   "outputs": [],
   "source": [
    "lr_monitor = LearningRateMonitor(logging_interval=\"step\")"
   ]
  },
  {
   "cell_type": "code",
   "execution_count": 98,
   "id": "b5b257fb",
   "metadata": {},
   "outputs": [
    {
     "name": "stderr",
     "output_type": "stream",
     "text": [
      "2024-06-16 17:44:55,055 [6304] WARNING  py.warnings:109: [JupyterRequire] C:\\Users\\Konder\\AppData\\Roaming\\Python\\Python38\\site-packages\\pytorch_lightning\\loggers\\wandb.py:395: UserWarning: There is a wandb run already in progress and newly created instances of `WandbLogger` will reuse this run. If this is not desired, call `wandb.finish()` before instantiating `WandbLogger`.\n",
      "  rank_zero_warn(\n",
      "\n"
     ]
    }
   ],
   "source": [
    "pl_trainer = pytorch_lightning.Trainer(\n",
    "    logger = WandbLogger(),\n",
    "    max_epochs = 15,\n",
    "    accelerator = \"gpu\",\n",
    "    devices = 1,\n",
    "    enable_progress_bar = True,\n",
    "    callbacks = [lr_monitor]\n",
    ")"
   ]
  },
  {
   "cell_type": "code",
   "execution_count": 99,
   "id": "25d49868",
   "metadata": {
    "scrolled": false
   },
   "outputs": [
    {
     "name": "stderr",
     "output_type": "stream",
     "text": [
      "2024-06-16 17:44:55,351 [6304] WARNING  py.warnings:109: [JupyterRequire] C:\\Users\\Konder\\AppData\\Roaming\\Python\\Python38\\site-packages\\pytorch_lightning\\callbacks\\model_checkpoint.py:612: UserWarning: Checkpoint directory .\\lightning_logs\\fmwhtvag\\checkpoints exists and is not empty.\n",
      "  rank_zero_warn(f\"Checkpoint directory {dirpath} exists and is not empty.\")\n",
      "\n"
     ]
    },
    {
     "data": {
      "application/vnd.jupyter.widget-view+json": {
       "model_id": "",
       "version_major": 2,
       "version_minor": 0
      },
      "text/plain": [
       "Sanity Checking: 0it [00:00, ?it/s]"
      ]
     },
     "metadata": {},
     "output_type": "display_data"
    },
    {
     "name": "stderr",
     "output_type": "stream",
     "text": [
      "2024-06-16 17:44:55,391 [6304] WARNING  py.warnings:109: [JupyterRequire] C:\\Users\\Konder\\AppData\\Roaming\\Python\\Python38\\site-packages\\pytorch_lightning\\trainer\\connectors\\data_connector.py:430: PossibleUserWarning: The dataloader, val_dataloader, does not have many workers which may be a bottleneck. Consider increasing the value of the `num_workers` argument` (try 24 which is the number of cpus on this machine) in the `DataLoader` init to improve performance.\n",
      "  rank_zero_warn(\n",
      "\n",
      "2024-06-16 17:44:55,469 [6304] WARNING  py.warnings:109: [JupyterRequire] C:\\Users\\Konder\\AppData\\Roaming\\Python\\Python38\\site-packages\\torchmetrics\\utilities\\prints.py:36: UserWarning: No positive samples in targets, true positive value should be meaningless. Returning zero tensor in true positive score\n",
      "  warnings.warn(*args, **kwargs)\n",
      "\n",
      "2024-06-16 17:44:55,580 [6304] WARNING  py.warnings:109: [JupyterRequire] C:\\Users\\Konder\\AppData\\Roaming\\Python\\Python38\\site-packages\\pytorch_lightning\\trainer\\connectors\\data_connector.py:430: PossibleUserWarning: The dataloader, train_dataloader, does not have many workers which may be a bottleneck. Consider increasing the value of the `num_workers` argument` (try 24 which is the number of cpus on this machine) in the `DataLoader` init to improve performance.\n",
      "  rank_zero_warn(\n",
      "\n"
     ]
    },
    {
     "data": {
      "application/vnd.jupyter.widget-view+json": {
       "model_id": "f43eb28d25fd40f39afa2e6ac5c25c2f",
       "version_major": 2,
       "version_minor": 0
      },
      "text/plain": [
       "Training: 0it [00:00, ?it/s]"
      ]
     },
     "metadata": {},
     "output_type": "display_data"
    },
    {
     "data": {
      "application/vnd.jupyter.widget-view+json": {
       "model_id": "",
       "version_major": 2,
       "version_minor": 0
      },
      "text/plain": [
       "Validation: 0it [00:00, ?it/s]"
      ]
     },
     "metadata": {},
     "output_type": "display_data"
    },
    {
     "data": {
      "application/vnd.jupyter.widget-view+json": {
       "model_id": "",
       "version_major": 2,
       "version_minor": 0
      },
      "text/plain": [
       "Validation: 0it [00:00, ?it/s]"
      ]
     },
     "metadata": {},
     "output_type": "display_data"
    },
    {
     "data": {
      "application/vnd.jupyter.widget-view+json": {
       "model_id": "",
       "version_major": 2,
       "version_minor": 0
      },
      "text/plain": [
       "Validation: 0it [00:00, ?it/s]"
      ]
     },
     "metadata": {},
     "output_type": "display_data"
    },
    {
     "name": "stderr",
     "output_type": "stream",
     "text": [
      "2024-06-16 18:01:48,832 [6304] WARNING  py.warnings:109: [JupyterRequire] C:\\Users\\Konder\\AppData\\Roaming\\Python\\Python38\\site-packages\\pytorch_lightning\\trainer\\call.py:54: UserWarning: Detected KeyboardInterrupt, attempting graceful shutdown...\n",
      "  rank_zero_warn(\"Detected KeyboardInterrupt, attempting graceful shutdown...\")\n",
      "\n"
     ]
    }
   ],
   "source": [
    "pl_trainer.fit(sup_module, sup_data)"
   ]
  },
  {
   "cell_type": "raw",
   "id": "86f886b4",
   "metadata": {},
   "source": [
    "0.749"
   ]
  },
  {
   "cell_type": "code",
   "execution_count": 100,
   "id": "39e5bf3f",
   "metadata": {
    "scrolled": true
   },
   "outputs": [
    {
     "name": "stderr",
     "output_type": "stream",
     "text": [
      "2024-06-16 18:01:48,977 [6304] WARNING  py.warnings:109: [JupyterRequire] C:\\Users\\Konder\\AppData\\Roaming\\Python\\Python38\\site-packages\\pytorch_lightning\\trainer\\connectors\\data_connector.py:430: PossibleUserWarning: The dataloader, predict_dataloader, does not have many workers which may be a bottleneck. Consider increasing the value of the `num_workers` argument` (try 24 which is the number of cpus on this machine) in the `DataLoader` init to improve performance.\n",
      "  rank_zero_warn(\n",
      "\n"
     ]
    },
    {
     "data": {
      "application/vnd.jupyter.widget-view+json": {
       "model_id": "982f20b48f0440c583bc3716ceb5a22c",
       "version_major": 2,
       "version_minor": 0
      },
      "text/plain": [
       "Predicting: 0it [00:00, ?it/s]"
      ]
     },
     "metadata": {},
     "output_type": "display_data"
    },
    {
     "name": "stderr",
     "output_type": "stream",
     "text": [
      "2024-06-16 18:01:50,827 [6304] WARNING  py.warnings:109: [JupyterRequire] C:\\Users\\Konder\\AppData\\Roaming\\Python\\Python38\\site-packages\\pytorch_lightning\\trainer\\call.py:54: UserWarning: Detected KeyboardInterrupt, attempting graceful shutdown...\n",
      "  rank_zero_warn(\"Detected KeyboardInterrupt, attempting graceful shutdown...\")\n",
      "\n"
     ]
    }
   ],
   "source": [
    "prediction = pl_trainer.predict(sup_module, sup_data.val_dataloader())"
   ]
  },
  {
   "cell_type": "code",
   "execution_count": 101,
   "id": "74a861f4",
   "metadata": {},
   "outputs": [],
   "source": [
    "import pandas as pd"
   ]
  },
  {
   "cell_type": "code",
   "execution_count": 102,
   "id": "26d3bdec",
   "metadata": {},
   "outputs": [
    {
     "name": "stderr",
     "output_type": "stream",
     "text": [
      "\n",
      "KeyboardInterrupt\n",
      "\n"
     ]
    }
   ],
   "source": [
    "prediction = pd.concat(prediction)\n",
    "prediction"
   ]
  },
  {
   "cell_type": "code",
   "execution_count": null,
   "id": "0b2fbc38",
   "metadata": {},
   "outputs": [],
   "source": [
    "from sklearn.metrics import roc_auc_score"
   ]
  },
  {
   "cell_type": "code",
   "execution_count": null,
   "id": "f588e63a",
   "metadata": {},
   "outputs": [],
   "source": [
    "roc_auc_score(val_dial[\"target\"].to_list(), prediction[[\"out_0000\", \"out_0001\", \"out_0002\", \"out_0003\"]])"
   ]
  },
  {
   "cell_type": "raw",
   "id": "647fa08c",
   "metadata": {},
   "source": [
    "0.7491498164799252"
   ]
  },
  {
   "cell_type": "code",
   "execution_count": null,
   "id": "4f4c8459",
   "metadata": {},
   "outputs": [],
   "source": []
  }
 ],
 "metadata": {
  "kernelspec": {
   "display_name": "Python 3 (ipykernel)",
   "language": "python",
   "name": "python3"
  },
  "language_info": {
   "codemirror_mode": {
    "name": "ipython",
    "version": 3
   },
   "file_extension": ".py",
   "mimetype": "text/x-python",
   "name": "python",
   "nbconvert_exporter": "python",
   "pygments_lexer": "ipython3",
   "version": "3.8.13"
  }
 },
 "nbformat": 4,
 "nbformat_minor": 5
}
