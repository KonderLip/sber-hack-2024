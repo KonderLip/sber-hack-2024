{
 "cells": [
  {
   "cell_type": "code",
   "execution_count": 1,
   "id": "7d5060ce",
   "metadata": {},
   "outputs": [],
   "source": [
    "import gc\n",
    "\n",
    "import polars as pl\n",
    "\n",
    "from catboost import CatBoostClassifier, Pool"
   ]
  },
  {
   "cell_type": "code",
   "execution_count": 2,
   "id": "ec5ebc6d",
   "metadata": {},
   "outputs": [],
   "source": [
    "pl.set_random_seed(56)"
   ]
  },
  {
   "cell_type": "code",
   "execution_count": null,
   "id": "33d836c7",
   "metadata": {},
   "outputs": [],
   "source": []
  },
  {
   "cell_type": "code",
   "execution_count": 3,
   "id": "192e17e1",
   "metadata": {},
   "outputs": [],
   "source": [
    "months = [\n",
    "    '2022-02-28',\n",
    "    '2022-03-31',\n",
    "    '2022-04-30',\n",
    "    '2022-05-31',\n",
    "    '2022-06-30',\n",
    "    '2022-07-31',\n",
    "    '2022-08-31',\n",
    "    '2022-09-30',\n",
    "    '2022-10-31',\n",
    "    '2022-11-30',\n",
    "    '2022-12-31',\n",
    "    '2023-01-31',\n",
    "]\n",
    "month2id = dict((month, idx) for idx, month in enumerate(months))"
   ]
  },
  {
   "cell_type": "code",
   "execution_count": null,
   "id": "cfb585c9",
   "metadata": {},
   "outputs": [],
   "source": []
  },
  {
   "cell_type": "code",
   "execution_count": 4,
   "id": "89ab4bfb",
   "metadata": {},
   "outputs": [
    {
     "data": {
      "text/html": [
       "<div><style>\n",
       ".dataframe > thead > tr > th,\n",
       ".dataframe > tbody > tr > td {\n",
       "  text-align: right;\n",
       "  white-space: pre-wrap;\n",
       "}\n",
       "</style>\n",
       "<small>shape: (5, 6)</small><table border=\"1\" class=\"dataframe\"><thead><tr><th>mon</th><th>target_1</th><th>target_2</th><th>target_3</th><th>target_4</th><th>client_id</th></tr><tr><td>str</td><td>i32</td><td>i32</td><td>i32</td><td>i32</td><td>str</td></tr></thead><tbody><tr><td>&quot;2022-06-30&quot;</td><td>0</td><td>0</td><td>0</td><td>0</td><td>&quot;1d4ebf30ab5b98…</td></tr><tr><td>&quot;2022-07-31&quot;</td><td>0</td><td>0</td><td>0</td><td>0</td><td>&quot;1d4ebf30ab5b98…</td></tr><tr><td>&quot;2022-08-31&quot;</td><td>0</td><td>0</td><td>0</td><td>0</td><td>&quot;1d4ebf30ab5b98…</td></tr><tr><td>&quot;2022-09-30&quot;</td><td>0</td><td>0</td><td>0</td><td>0</td><td>&quot;1d4ebf30ab5b98…</td></tr><tr><td>&quot;2022-10-31&quot;</td><td>0</td><td>0</td><td>0</td><td>0</td><td>&quot;1d4ebf30ab5b98…</td></tr></tbody></table></div>"
      ],
      "text/plain": [
       "shape: (5, 6)\n",
       "┌────────────┬──────────┬──────────┬──────────┬──────────┬───────────────────────────────────┐\n",
       "│ mon        ┆ target_1 ┆ target_2 ┆ target_3 ┆ target_4 ┆ client_id                         │\n",
       "│ ---        ┆ ---      ┆ ---      ┆ ---      ┆ ---      ┆ ---                               │\n",
       "│ str        ┆ i32      ┆ i32      ┆ i32      ┆ i32      ┆ str                               │\n",
       "╞════════════╪══════════╪══════════╪══════════╪══════════╪═══════════════════════════════════╡\n",
       "│ 2022-06-30 ┆ 0        ┆ 0        ┆ 0        ┆ 0        ┆ 1d4ebf30ab5b981c60a6596e8daa4bdc… │\n",
       "│ 2022-07-31 ┆ 0        ┆ 0        ┆ 0        ┆ 0        ┆ 1d4ebf30ab5b981c60a6596e8daa4bdc… │\n",
       "│ 2022-08-31 ┆ 0        ┆ 0        ┆ 0        ┆ 0        ┆ 1d4ebf30ab5b981c60a6596e8daa4bdc… │\n",
       "│ 2022-09-30 ┆ 0        ┆ 0        ┆ 0        ┆ 0        ┆ 1d4ebf30ab5b981c60a6596e8daa4bdc… │\n",
       "│ 2022-10-31 ┆ 0        ┆ 0        ┆ 0        ┆ 0        ┆ 1d4ebf30ab5b981c60a6596e8daa4bdc… │\n",
       "└────────────┴──────────┴──────────┴──────────┴──────────┴───────────────────────────────────┘"
      ]
     },
     "execution_count": 4,
     "metadata": {},
     "output_type": "execute_result"
    }
   ],
   "source": [
    "train_target = pl.read_parquet(\"./data/train_target.parquet/*\")\n",
    "train_target.head()"
   ]
  },
  {
   "cell_type": "code",
   "execution_count": 5,
   "id": "87890f7b",
   "metadata": {},
   "outputs": [],
   "source": [
    "train_target = train_target.sort(\"mon\")"
   ]
  },
  {
   "cell_type": "code",
   "execution_count": 6,
   "id": "c3ed6750",
   "metadata": {},
   "outputs": [],
   "source": [
    "train_target = train_target.with_columns(pl.col(\"mon\").map_dict(month2id).cast(pl.UInt8))"
   ]
  },
  {
   "cell_type": "code",
   "execution_count": 7,
   "id": "6670394c",
   "metadata": {},
   "outputs": [
    {
     "data": {
      "text/html": [
       "<div><style>\n",
       ".dataframe > thead > tr > th,\n",
       ".dataframe > tbody > tr > td {\n",
       "  text-align: right;\n",
       "  white-space: pre-wrap;\n",
       "}\n",
       "</style>\n",
       "<small>shape: (5, 6)</small><table border=\"1\" class=\"dataframe\"><thead><tr><th>mon</th><th>target_1</th><th>target_2</th><th>target_3</th><th>target_4</th><th>client_id</th></tr><tr><td>str</td><td>i32</td><td>i32</td><td>i32</td><td>i32</td><td>str</td></tr></thead><tbody><tr><td>&quot;2022-08-31&quot;</td><td>0</td><td>0</td><td>0</td><td>0</td><td>&quot;148f4f9983995e…</td></tr><tr><td>&quot;2022-04-30&quot;</td><td>0</td><td>0</td><td>0</td><td>0</td><td>&quot;55fcdc186f5a90…</td></tr><tr><td>&quot;2022-05-31&quot;</td><td>0</td><td>0</td><td>0</td><td>0</td><td>&quot;8bcbc3e9372738…</td></tr><tr><td>&quot;2022-09-30&quot;</td><td>0</td><td>0</td><td>0</td><td>0</td><td>&quot;64444e3ca539be…</td></tr><tr><td>&quot;2022-02-28&quot;</td><td>0</td><td>0</td><td>0</td><td>0</td><td>&quot;f92efc449322b7…</td></tr></tbody></table></div>"
      ],
      "text/plain": [
       "shape: (5, 6)\n",
       "┌────────────┬──────────┬──────────┬──────────┬──────────┬───────────────────────────────────┐\n",
       "│ mon        ┆ target_1 ┆ target_2 ┆ target_3 ┆ target_4 ┆ client_id                         │\n",
       "│ ---        ┆ ---      ┆ ---      ┆ ---      ┆ ---      ┆ ---                               │\n",
       "│ str        ┆ i32      ┆ i32      ┆ i32      ┆ i32      ┆ str                               │\n",
       "╞════════════╪══════════╪══════════╪══════════╪══════════╪═══════════════════════════════════╡\n",
       "│ 2022-08-31 ┆ 0        ┆ 0        ┆ 0        ┆ 0        ┆ 148f4f9983995e3886abd5b58ebfd469… │\n",
       "│ 2022-04-30 ┆ 0        ┆ 0        ┆ 0        ┆ 0        ┆ 55fcdc186f5a90993d573fee3c758f95… │\n",
       "│ 2022-05-31 ┆ 0        ┆ 0        ┆ 0        ┆ 0        ┆ 8bcbc3e9372738fb2133a0e5ddf39658… │\n",
       "│ 2022-09-30 ┆ 0        ┆ 0        ┆ 0        ┆ 0        ┆ 64444e3ca539be0edcd8ef7fbbfe01e4… │\n",
       "│ 2022-02-28 ┆ 0        ┆ 0        ┆ 0        ┆ 0        ┆ f92efc449322b79ec41245af895e9766… │\n",
       "└────────────┴──────────┴──────────┴──────────┴──────────┴───────────────────────────────────┘"
      ]
     },
     "execution_count": 7,
     "metadata": {},
     "output_type": "execute_result"
    }
   ],
   "source": [
    "test_target = pl.read_parquet(\"./data/test_target_b.parquet/*\").unique()\n",
    "test_target.head()"
   ]
  },
  {
   "cell_type": "code",
   "execution_count": 8,
   "id": "7fd41750",
   "metadata": {},
   "outputs": [],
   "source": [
    "test_target = test_target.sort(\"mon\")"
   ]
  },
  {
   "cell_type": "code",
   "execution_count": 9,
   "id": "1873a9bd",
   "metadata": {},
   "outputs": [],
   "source": [
    "test_target = test_target.with_columns(pl.col(\"mon\").map_dict(month2id).cast(pl.UInt8))"
   ]
  },
  {
   "cell_type": "code",
   "execution_count": null,
   "id": "04494230",
   "metadata": {},
   "outputs": [],
   "source": []
  },
  {
   "cell_type": "code",
   "execution_count": 10,
   "id": "0e538a2d",
   "metadata": {},
   "outputs": [],
   "source": [
    "train_dial_features_11 = pl.read_parquet(f\"./features/train_dial_features_{11}.pq\")\n",
    "train_geo_features_11 = pl.read_parquet(f\"./features/train_geo_features_{11}.pq\")\n",
    "train_trx_features_11 = pl.read_parquet(f\"./features/train_trx_features_{11}_cat.pq\")\n",
    "\n",
    "train_dial_features_10 = pl.read_parquet(f\"./features/train_dial_features_{10}.pq\")\n",
    "train_geo_features_10 = pl.read_parquet(f\"./features/train_geo_features_{10}.pq\")\n",
    "train_trx_features_10 = pl.read_parquet(f\"./features/train_trx_features_{10}_cat.pq\")\n",
    "\n",
    "train_dial_features_9 = pl.read_parquet(f\"./features/train_dial_features_{9}.pq\")\n",
    "train_geo_features_9 = pl.read_parquet(f\"./features/train_geo_features_{9}.pq\")\n",
    "train_trx_features_9 = pl.read_parquet(f\"./features/train_trx_features_{9}_cat.pq\")"
   ]
  },
  {
   "cell_type": "code",
   "execution_count": 11,
   "id": "61781a23",
   "metadata": {},
   "outputs": [],
   "source": [
    "val_dial_features_11 = pl.read_parquet(f\"./features/val_dial_features_{11}.pq\")\n",
    "val_geo_features_11 = pl.read_parquet(f\"./features/val_geo_features_{11}.pq\")\n",
    "val_trx_features_11 = pl.read_parquet(f\"./features/val_trx_features_{11}_cat.pq\")\n",
    "\n",
    "val_dial_features_10 = pl.read_parquet(f\"./features/val_dial_features_{10}.pq\")\n",
    "val_geo_features_10 = pl.read_parquet(f\"./features/val_geo_features_{10}.pq\")\n",
    "val_trx_features_10 = pl.read_parquet(f\"./features/val_trx_features_{10}_cat.pq\")\n",
    "\n",
    "val_dial_features_9 = pl.read_parquet(f\"./features/val_dial_features_{9}.pq\")\n",
    "val_geo_features_9 = pl.read_parquet(f\"./features/val_geo_features_{9}.pq\")\n",
    "val_trx_features_9 = pl.read_parquet(f\"./features/val_trx_features_{9}_cat.pq\")"
   ]
  },
  {
   "cell_type": "code",
   "execution_count": null,
   "id": "ba1d49b9",
   "metadata": {},
   "outputs": [],
   "source": []
  },
  {
   "cell_type": "code",
   "execution_count": 12,
   "id": "98241573",
   "metadata": {},
   "outputs": [],
   "source": [
    "def make_df(data, target_month, dial_features, geo_features, trx_features):\n",
    "    target = data.filter(pl.col(\"mon\") == target_month)\n",
    "    \n",
    "    data = data.filter(pl.col(\"mon\") < target_month)\n",
    "    \n",
    "    df = (\n",
    "        data\n",
    "        .group_by(\"client_id\")\n",
    "        .agg(\n",
    "            target_1_cnt=pl.col(\"target_1\").sum(),\n",
    "            target_2_cnt=pl.col(\"target_2\").sum(),\n",
    "            target_3_cnt=pl.col(\"target_3\").sum(),\n",
    "            target_4_cnt=pl.col(\"target_4\").sum(),\n",
    "        )\n",
    "    )\n",
    "    \n",
    "    for i in (1, 2, 3, 4):\n",
    "        cur = (\n",
    "            data\n",
    "            .filter(pl.col(f\"target_{i}\") == 1)\n",
    "            .group_by(\"client_id\")\n",
    "            .agg((target_month - pl.col(\"mon\").max()).alias(f\"target_{i}_last\"))\n",
    "        )\n",
    "        df = df.join(cur, on=\"client_id\", how=\"left\").fill_null(-1)\n",
    "        \n",
    "    df = df.join(dial_features, on=\"client_id\", how=\"left\").fill_null(-1)\n",
    "    df = df.join(geo_features, on=\"client_id\", how=\"left\").fill_null(-1)\n",
    "    df = df.join(trx_features, on=\"client_id\", how=\"left\").fill_null(-1)\n",
    "    \n",
    "    return target.join(df, on=\"client_id\", how=\"left\").sort((\"client_id\", \"mon\")).to_pandas()"
   ]
  },
  {
   "cell_type": "code",
   "execution_count": 13,
   "id": "5f412aa7",
   "metadata": {},
   "outputs": [],
   "source": [
    "import pandas as pd"
   ]
  },
  {
   "cell_type": "code",
   "execution_count": 14,
   "id": "7951d85e",
   "metadata": {},
   "outputs": [
    {
     "data": {
      "text/html": [
       "<div>\n",
       "<style scoped>\n",
       "    .dataframe tbody tr th:only-of-type {\n",
       "        vertical-align: middle;\n",
       "    }\n",
       "\n",
       "    .dataframe tbody tr th {\n",
       "        vertical-align: top;\n",
       "    }\n",
       "\n",
       "    .dataframe thead th {\n",
       "        text-align: right;\n",
       "    }\n",
       "</style>\n",
       "<table border=\"1\" class=\"dataframe\">\n",
       "  <thead>\n",
       "    <tr style=\"text-align: right;\">\n",
       "      <th></th>\n",
       "      <th>mon</th>\n",
       "      <th>target_1</th>\n",
       "      <th>target_2</th>\n",
       "      <th>target_3</th>\n",
       "      <th>target_4</th>\n",
       "      <th>client_id</th>\n",
       "      <th>target_1_cnt</th>\n",
       "      <th>target_2_cnt</th>\n",
       "      <th>target_3_cnt</th>\n",
       "      <th>target_4_cnt</th>\n",
       "      <th>...</th>\n",
       "      <th>trx_len_period</th>\n",
       "      <th>trx_cnt_per_day</th>\n",
       "      <th>trx_density</th>\n",
       "      <th>amt_cnt</th>\n",
       "      <th>amt_sum</th>\n",
       "      <th>amt_min</th>\n",
       "      <th>amt_max</th>\n",
       "      <th>amt_mean</th>\n",
       "      <th>amt_median</th>\n",
       "      <th>amt_range</th>\n",
       "    </tr>\n",
       "  </thead>\n",
       "  <tbody>\n",
       "    <tr>\n",
       "      <th>0</th>\n",
       "      <td>9</td>\n",
       "      <td>0</td>\n",
       "      <td>0</td>\n",
       "      <td>1</td>\n",
       "      <td>0</td>\n",
       "      <td>000006265d27d1166ed67506682be7380007a5bead4362...</td>\n",
       "      <td>0</td>\n",
       "      <td>0</td>\n",
       "      <td>0</td>\n",
       "      <td>0</td>\n",
       "      <td>...</td>\n",
       "      <td>303</td>\n",
       "      <td>1.935185</td>\n",
       "      <td>1.379538</td>\n",
       "      <td>395</td>\n",
       "      <td>110755200.0</td>\n",
       "      <td>0.019202</td>\n",
       "      <td>13725419.00</td>\n",
       "      <td>2.803929e+05</td>\n",
       "      <td>2407.836670</td>\n",
       "      <td>1.372542e+07</td>\n",
       "    </tr>\n",
       "    <tr>\n",
       "      <th>1</th>\n",
       "      <td>9</td>\n",
       "      <td>0</td>\n",
       "      <td>0</td>\n",
       "      <td>0</td>\n",
       "      <td>0</td>\n",
       "      <td>00000c9536a42b45ca93288862cddcbb52a3e1e76f8684...</td>\n",
       "      <td>0</td>\n",
       "      <td>0</td>\n",
       "      <td>0</td>\n",
       "      <td>0</td>\n",
       "      <td>...</td>\n",
       "      <td>-1</td>\n",
       "      <td>-1.000000</td>\n",
       "      <td>-1.000000</td>\n",
       "      <td>-1</td>\n",
       "      <td>-1.0</td>\n",
       "      <td>-1.000000</td>\n",
       "      <td>-1.00</td>\n",
       "      <td>-1.000000e+00</td>\n",
       "      <td>-1.000000</td>\n",
       "      <td>-1.000000e+00</td>\n",
       "    </tr>\n",
       "    <tr>\n",
       "      <th>2</th>\n",
       "      <td>9</td>\n",
       "      <td>0</td>\n",
       "      <td>0</td>\n",
       "      <td>0</td>\n",
       "      <td>0</td>\n",
       "      <td>00002ba5d2cf0fe2e9ad4a4397f4634f26e84f58ed48e3...</td>\n",
       "      <td>0</td>\n",
       "      <td>0</td>\n",
       "      <td>0</td>\n",
       "      <td>0</td>\n",
       "      <td>...</td>\n",
       "      <td>301</td>\n",
       "      <td>1.615764</td>\n",
       "      <td>1.089701</td>\n",
       "      <td>328</td>\n",
       "      <td>27318648.0</td>\n",
       "      <td>139.141693</td>\n",
       "      <td>3531107.75</td>\n",
       "      <td>8.328856e+04</td>\n",
       "      <td>29830.580078</td>\n",
       "      <td>3.530968e+06</td>\n",
       "    </tr>\n",
       "    <tr>\n",
       "      <th>3</th>\n",
       "      <td>9</td>\n",
       "      <td>0</td>\n",
       "      <td>0</td>\n",
       "      <td>0</td>\n",
       "      <td>0</td>\n",
       "      <td>000030a4067420da425d21ea72d5e647d26cf279e55179...</td>\n",
       "      <td>0</td>\n",
       "      <td>0</td>\n",
       "      <td>0</td>\n",
       "      <td>0</td>\n",
       "      <td>...</td>\n",
       "      <td>268</td>\n",
       "      <td>1.200000</td>\n",
       "      <td>0.201493</td>\n",
       "      <td>54</td>\n",
       "      <td>44068160.0</td>\n",
       "      <td>1.919947</td>\n",
       "      <td>17721738.00</td>\n",
       "      <td>8.160771e+05</td>\n",
       "      <td>23429.347656</td>\n",
       "      <td>1.772174e+07</td>\n",
       "    </tr>\n",
       "    <tr>\n",
       "      <th>4</th>\n",
       "      <td>9</td>\n",
       "      <td>0</td>\n",
       "      <td>0</td>\n",
       "      <td>0</td>\n",
       "      <td>0</td>\n",
       "      <td>00004427740977a56f391bc2bbc636803ed933205228f8...</td>\n",
       "      <td>0</td>\n",
       "      <td>0</td>\n",
       "      <td>0</td>\n",
       "      <td>0</td>\n",
       "      <td>...</td>\n",
       "      <td>-1</td>\n",
       "      <td>-1.000000</td>\n",
       "      <td>-1.000000</td>\n",
       "      <td>-1</td>\n",
       "      <td>-1.0</td>\n",
       "      <td>-1.000000</td>\n",
       "      <td>-1.00</td>\n",
       "      <td>-1.000000e+00</td>\n",
       "      <td>-1.000000</td>\n",
       "      <td>-1.000000e+00</td>\n",
       "    </tr>\n",
       "    <tr>\n",
       "      <th>...</th>\n",
       "      <td>...</td>\n",
       "      <td>...</td>\n",
       "      <td>...</td>\n",
       "      <td>...</td>\n",
       "      <td>...</td>\n",
       "      <td>...</td>\n",
       "      <td>...</td>\n",
       "      <td>...</td>\n",
       "      <td>...</td>\n",
       "      <td>...</td>\n",
       "      <td>...</td>\n",
       "      <td>...</td>\n",
       "      <td>...</td>\n",
       "      <td>...</td>\n",
       "      <td>...</td>\n",
       "      <td>...</td>\n",
       "      <td>...</td>\n",
       "      <td>...</td>\n",
       "      <td>...</td>\n",
       "      <td>...</td>\n",
       "      <td>...</td>\n",
       "    </tr>\n",
       "    <tr>\n",
       "      <th>853887</th>\n",
       "      <td>11</td>\n",
       "      <td>0</td>\n",
       "      <td>0</td>\n",
       "      <td>0</td>\n",
       "      <td>0</td>\n",
       "      <td>ffffa99ee602d379ea65e0fbdbfb0c82ed074e28cd3ada...</td>\n",
       "      <td>0</td>\n",
       "      <td>0</td>\n",
       "      <td>0</td>\n",
       "      <td>0</td>\n",
       "      <td>...</td>\n",
       "      <td>319</td>\n",
       "      <td>1.059701</td>\n",
       "      <td>0.222571</td>\n",
       "      <td>71</td>\n",
       "      <td>12575020.0</td>\n",
       "      <td>45.507812</td>\n",
       "      <td>1984717.75</td>\n",
       "      <td>1.771130e+05</td>\n",
       "      <td>48196.054688</td>\n",
       "      <td>1.984672e+06</td>\n",
       "    </tr>\n",
       "    <tr>\n",
       "      <th>853888</th>\n",
       "      <td>11</td>\n",
       "      <td>0</td>\n",
       "      <td>0</td>\n",
       "      <td>0</td>\n",
       "      <td>0</td>\n",
       "      <td>ffffa9af8a057b55b18af946e157391cd9f5a5fd9b61cb...</td>\n",
       "      <td>0</td>\n",
       "      <td>0</td>\n",
       "      <td>0</td>\n",
       "      <td>1</td>\n",
       "      <td>...</td>\n",
       "      <td>323</td>\n",
       "      <td>1.425532</td>\n",
       "      <td>0.622291</td>\n",
       "      <td>201</td>\n",
       "      <td>20925224.0</td>\n",
       "      <td>1.763178</td>\n",
       "      <td>1552848.25</td>\n",
       "      <td>1.041056e+05</td>\n",
       "      <td>5948.513672</td>\n",
       "      <td>1.552846e+06</td>\n",
       "    </tr>\n",
       "    <tr>\n",
       "      <th>853889</th>\n",
       "      <td>11</td>\n",
       "      <td>0</td>\n",
       "      <td>0</td>\n",
       "      <td>0</td>\n",
       "      <td>0</td>\n",
       "      <td>ffffab5f6ae1c8d04d83ef12e2ad803298737992698079...</td>\n",
       "      <td>2</td>\n",
       "      <td>0</td>\n",
       "      <td>0</td>\n",
       "      <td>0</td>\n",
       "      <td>...</td>\n",
       "      <td>336</td>\n",
       "      <td>1.581522</td>\n",
       "      <td>0.866071</td>\n",
       "      <td>291</td>\n",
       "      <td>23130860.0</td>\n",
       "      <td>36.625301</td>\n",
       "      <td>1740085.00</td>\n",
       "      <td>7.948749e+04</td>\n",
       "      <td>10342.759766</td>\n",
       "      <td>1.740048e+06</td>\n",
       "    </tr>\n",
       "    <tr>\n",
       "      <th>853890</th>\n",
       "      <td>11</td>\n",
       "      <td>0</td>\n",
       "      <td>0</td>\n",
       "      <td>0</td>\n",
       "      <td>0</td>\n",
       "      <td>ffffda41a92ae10c8ae3920828129ef09c1517ba7c74cb...</td>\n",
       "      <td>0</td>\n",
       "      <td>0</td>\n",
       "      <td>0</td>\n",
       "      <td>0</td>\n",
       "      <td>...</td>\n",
       "      <td>338</td>\n",
       "      <td>1.191919</td>\n",
       "      <td>0.349112</td>\n",
       "      <td>118</td>\n",
       "      <td>170973232.0</td>\n",
       "      <td>3871.174805</td>\n",
       "      <td>12794200.00</td>\n",
       "      <td>1.448926e+06</td>\n",
       "      <td>407116.125000</td>\n",
       "      <td>1.279033e+07</td>\n",
       "    </tr>\n",
       "    <tr>\n",
       "      <th>853891</th>\n",
       "      <td>11</td>\n",
       "      <td>0</td>\n",
       "      <td>0</td>\n",
       "      <td>0</td>\n",
       "      <td>0</td>\n",
       "      <td>fffff598cd1a947b8ce0b86d56fd356729ec7bacb7053a...</td>\n",
       "      <td>0</td>\n",
       "      <td>0</td>\n",
       "      <td>0</td>\n",
       "      <td>0</td>\n",
       "      <td>...</td>\n",
       "      <td>-1</td>\n",
       "      <td>-1.000000</td>\n",
       "      <td>-1.000000</td>\n",
       "      <td>-1</td>\n",
       "      <td>-1.0</td>\n",
       "      <td>-1.000000</td>\n",
       "      <td>-1.00</td>\n",
       "      <td>-1.000000e+00</td>\n",
       "      <td>-1.000000</td>\n",
       "      <td>-1.000000e+00</td>\n",
       "    </tr>\n",
       "  </tbody>\n",
       "</table>\n",
       "<p>2561676 rows × 56 columns</p>\n",
       "</div>"
      ],
      "text/plain": [
       "        mon  target_1  target_2  target_3  target_4  \\\n",
       "0         9         0         0         1         0   \n",
       "1         9         0         0         0         0   \n",
       "2         9         0         0         0         0   \n",
       "3         9         0         0         0         0   \n",
       "4         9         0         0         0         0   \n",
       "...     ...       ...       ...       ...       ...   \n",
       "853887   11         0         0         0         0   \n",
       "853888   11         0         0         0         0   \n",
       "853889   11         0         0         0         0   \n",
       "853890   11         0         0         0         0   \n",
       "853891   11         0         0         0         0   \n",
       "\n",
       "                                                client_id  target_1_cnt  \\\n",
       "0       000006265d27d1166ed67506682be7380007a5bead4362...             0   \n",
       "1       00000c9536a42b45ca93288862cddcbb52a3e1e76f8684...             0   \n",
       "2       00002ba5d2cf0fe2e9ad4a4397f4634f26e84f58ed48e3...             0   \n",
       "3       000030a4067420da425d21ea72d5e647d26cf279e55179...             0   \n",
       "4       00004427740977a56f391bc2bbc636803ed933205228f8...             0   \n",
       "...                                                   ...           ...   \n",
       "853887  ffffa99ee602d379ea65e0fbdbfb0c82ed074e28cd3ada...             0   \n",
       "853888  ffffa9af8a057b55b18af946e157391cd9f5a5fd9b61cb...             0   \n",
       "853889  ffffab5f6ae1c8d04d83ef12e2ad803298737992698079...             2   \n",
       "853890  ffffda41a92ae10c8ae3920828129ef09c1517ba7c74cb...             0   \n",
       "853891  fffff598cd1a947b8ce0b86d56fd356729ec7bacb7053a...             0   \n",
       "\n",
       "        target_2_cnt  target_3_cnt  target_4_cnt  ...  trx_len_period  \\\n",
       "0                  0             0             0  ...             303   \n",
       "1                  0             0             0  ...              -1   \n",
       "2                  0             0             0  ...             301   \n",
       "3                  0             0             0  ...             268   \n",
       "4                  0             0             0  ...              -1   \n",
       "...              ...           ...           ...  ...             ...   \n",
       "853887             0             0             0  ...             319   \n",
       "853888             0             0             1  ...             323   \n",
       "853889             0             0             0  ...             336   \n",
       "853890             0             0             0  ...             338   \n",
       "853891             0             0             0  ...              -1   \n",
       "\n",
       "        trx_cnt_per_day  trx_density  amt_cnt      amt_sum      amt_min  \\\n",
       "0              1.935185     1.379538      395  110755200.0     0.019202   \n",
       "1             -1.000000    -1.000000       -1         -1.0    -1.000000   \n",
       "2              1.615764     1.089701      328   27318648.0   139.141693   \n",
       "3              1.200000     0.201493       54   44068160.0     1.919947   \n",
       "4             -1.000000    -1.000000       -1         -1.0    -1.000000   \n",
       "...                 ...          ...      ...          ...          ...   \n",
       "853887         1.059701     0.222571       71   12575020.0    45.507812   \n",
       "853888         1.425532     0.622291      201   20925224.0     1.763178   \n",
       "853889         1.581522     0.866071      291   23130860.0    36.625301   \n",
       "853890         1.191919     0.349112      118  170973232.0  3871.174805   \n",
       "853891        -1.000000    -1.000000       -1         -1.0    -1.000000   \n",
       "\n",
       "            amt_max      amt_mean     amt_median     amt_range  \n",
       "0       13725419.00  2.803929e+05    2407.836670  1.372542e+07  \n",
       "1             -1.00 -1.000000e+00      -1.000000 -1.000000e+00  \n",
       "2        3531107.75  8.328856e+04   29830.580078  3.530968e+06  \n",
       "3       17721738.00  8.160771e+05   23429.347656  1.772174e+07  \n",
       "4             -1.00 -1.000000e+00      -1.000000 -1.000000e+00  \n",
       "...             ...           ...            ...           ...  \n",
       "853887   1984717.75  1.771130e+05   48196.054688  1.984672e+06  \n",
       "853888   1552848.25  1.041056e+05    5948.513672  1.552846e+06  \n",
       "853889   1740085.00  7.948749e+04   10342.759766  1.740048e+06  \n",
       "853890  12794200.00  1.448926e+06  407116.125000  1.279033e+07  \n",
       "853891        -1.00 -1.000000e+00      -1.000000 -1.000000e+00  \n",
       "\n",
       "[2561676 rows x 56 columns]"
      ]
     },
     "execution_count": 14,
     "metadata": {},
     "output_type": "execute_result"
    }
   ],
   "source": [
    "train_df = pd.concat([\n",
    "    make_df(train_target, 9, train_dial_features_9, train_geo_features_9, train_trx_features_9),\n",
    "    make_df(train_target, 10, train_dial_features_10, train_geo_features_10, train_trx_features_10),\n",
    "    make_df(train_target, 11, train_dial_features_11, train_geo_features_11, train_trx_features_11),\n",
    "])\n",
    "train_df"
   ]
  },
  {
   "cell_type": "code",
   "execution_count": 15,
   "id": "143bde0b",
   "metadata": {},
   "outputs": [
    {
     "data": {
      "text/html": [
       "<div>\n",
       "<style scoped>\n",
       "    .dataframe tbody tr th:only-of-type {\n",
       "        vertical-align: middle;\n",
       "    }\n",
       "\n",
       "    .dataframe tbody tr th {\n",
       "        vertical-align: top;\n",
       "    }\n",
       "\n",
       "    .dataframe thead th {\n",
       "        text-align: right;\n",
       "    }\n",
       "</style>\n",
       "<table border=\"1\" class=\"dataframe\">\n",
       "  <thead>\n",
       "    <tr style=\"text-align: right;\">\n",
       "      <th></th>\n",
       "      <th>mon</th>\n",
       "      <th>target_1</th>\n",
       "      <th>target_2</th>\n",
       "      <th>target_3</th>\n",
       "      <th>target_4</th>\n",
       "      <th>client_id</th>\n",
       "      <th>target_1_cnt</th>\n",
       "      <th>target_2_cnt</th>\n",
       "      <th>target_3_cnt</th>\n",
       "      <th>target_4_cnt</th>\n",
       "      <th>...</th>\n",
       "      <th>trx_len_period</th>\n",
       "      <th>trx_cnt_per_day</th>\n",
       "      <th>trx_density</th>\n",
       "      <th>amt_cnt</th>\n",
       "      <th>amt_sum</th>\n",
       "      <th>amt_min</th>\n",
       "      <th>amt_max</th>\n",
       "      <th>amt_mean</th>\n",
       "      <th>amt_median</th>\n",
       "      <th>amt_range</th>\n",
       "    </tr>\n",
       "  </thead>\n",
       "  <tbody>\n",
       "    <tr>\n",
       "      <th>0</th>\n",
       "      <td>9</td>\n",
       "      <td>0</td>\n",
       "      <td>0</td>\n",
       "      <td>0</td>\n",
       "      <td>0</td>\n",
       "      <td>00011c01bb22d8f62d9655f32d123dcca5ae55179f8266...</td>\n",
       "      <td>0</td>\n",
       "      <td>0</td>\n",
       "      <td>0</td>\n",
       "      <td>0</td>\n",
       "      <td>...</td>\n",
       "      <td>304</td>\n",
       "      <td>1.437086</td>\n",
       "      <td>0.713816</td>\n",
       "      <td>217</td>\n",
       "      <td>1.147953e+07</td>\n",
       "      <td>52.802216</td>\n",
       "      <td>1.026145e+06</td>\n",
       "      <td>52901.054688</td>\n",
       "      <td>8270.170898</td>\n",
       "      <td>1.026092e+06</td>\n",
       "    </tr>\n",
       "    <tr>\n",
       "      <th>1</th>\n",
       "      <td>9</td>\n",
       "      <td>0</td>\n",
       "      <td>0</td>\n",
       "      <td>1</td>\n",
       "      <td>0</td>\n",
       "      <td>0001ac6446bf223a094d6514a6c890d82e9aa92104dee0...</td>\n",
       "      <td>0</td>\n",
       "      <td>0</td>\n",
       "      <td>0</td>\n",
       "      <td>0</td>\n",
       "      <td>...</td>\n",
       "      <td>304</td>\n",
       "      <td>2.196891</td>\n",
       "      <td>1.394737</td>\n",
       "      <td>424</td>\n",
       "      <td>6.166176e+07</td>\n",
       "      <td>0.125596</td>\n",
       "      <td>6.472754e+06</td>\n",
       "      <td>145428.687500</td>\n",
       "      <td>35113.679688</td>\n",
       "      <td>6.472754e+06</td>\n",
       "    </tr>\n",
       "    <tr>\n",
       "      <th>2</th>\n",
       "      <td>9</td>\n",
       "      <td>0</td>\n",
       "      <td>0</td>\n",
       "      <td>0</td>\n",
       "      <td>0</td>\n",
       "      <td>0001b878e81279fa43c4429616359b5b276eecc69ddc31...</td>\n",
       "      <td>0</td>\n",
       "      <td>0</td>\n",
       "      <td>0</td>\n",
       "      <td>0</td>\n",
       "      <td>...</td>\n",
       "      <td>259</td>\n",
       "      <td>1.050000</td>\n",
       "      <td>0.081081</td>\n",
       "      <td>21</td>\n",
       "      <td>9.336847e+06</td>\n",
       "      <td>4227.821289</td>\n",
       "      <td>3.991036e+06</td>\n",
       "      <td>444611.750000</td>\n",
       "      <td>130198.226562</td>\n",
       "      <td>3.986808e+06</td>\n",
       "    </tr>\n",
       "    <tr>\n",
       "      <th>3</th>\n",
       "      <td>9</td>\n",
       "      <td>0</td>\n",
       "      <td>0</td>\n",
       "      <td>0</td>\n",
       "      <td>0</td>\n",
       "      <td>0003304a0f65d675ddfbc0691e0c564d26a4c9e08edf67...</td>\n",
       "      <td>0</td>\n",
       "      <td>0</td>\n",
       "      <td>0</td>\n",
       "      <td>0</td>\n",
       "      <td>...</td>\n",
       "      <td>305</td>\n",
       "      <td>1.685567</td>\n",
       "      <td>1.072131</td>\n",
       "      <td>327</td>\n",
       "      <td>5.691666e+07</td>\n",
       "      <td>0.027988</td>\n",
       "      <td>7.880474e+06</td>\n",
       "      <td>174057.046875</td>\n",
       "      <td>19582.207031</td>\n",
       "      <td>7.880474e+06</td>\n",
       "    </tr>\n",
       "    <tr>\n",
       "      <th>4</th>\n",
       "      <td>9</td>\n",
       "      <td>0</td>\n",
       "      <td>0</td>\n",
       "      <td>0</td>\n",
       "      <td>0</td>\n",
       "      <td>00037813e71deead5685649d494c9a412391942fe771e2...</td>\n",
       "      <td>1</td>\n",
       "      <td>0</td>\n",
       "      <td>0</td>\n",
       "      <td>1</td>\n",
       "      <td>...</td>\n",
       "      <td>91</td>\n",
       "      <td>1.294118</td>\n",
       "      <td>0.241758</td>\n",
       "      <td>22</td>\n",
       "      <td>9.973691e+06</td>\n",
       "      <td>10193.813477</td>\n",
       "      <td>3.209490e+06</td>\n",
       "      <td>453349.593750</td>\n",
       "      <td>73133.242188</td>\n",
       "      <td>3.199296e+06</td>\n",
       "    </tr>\n",
       "    <tr>\n",
       "      <th>...</th>\n",
       "      <td>...</td>\n",
       "      <td>...</td>\n",
       "      <td>...</td>\n",
       "      <td>...</td>\n",
       "      <td>...</td>\n",
       "      <td>...</td>\n",
       "      <td>...</td>\n",
       "      <td>...</td>\n",
       "      <td>...</td>\n",
       "      <td>...</td>\n",
       "      <td>...</td>\n",
       "      <td>...</td>\n",
       "      <td>...</td>\n",
       "      <td>...</td>\n",
       "      <td>...</td>\n",
       "      <td>...</td>\n",
       "      <td>...</td>\n",
       "      <td>...</td>\n",
       "      <td>...</td>\n",
       "      <td>...</td>\n",
       "      <td>...</td>\n",
       "    </tr>\n",
       "    <tr>\n",
       "      <th>48872</th>\n",
       "      <td>10</td>\n",
       "      <td>0</td>\n",
       "      <td>0</td>\n",
       "      <td>0</td>\n",
       "      <td>0</td>\n",
       "      <td>fffb5a08dfd1731d8a64ece41cb427249ae398e8ad684e...</td>\n",
       "      <td>0</td>\n",
       "      <td>0</td>\n",
       "      <td>0</td>\n",
       "      <td>0</td>\n",
       "      <td>...</td>\n",
       "      <td>-1</td>\n",
       "      <td>-1.000000</td>\n",
       "      <td>-1.000000</td>\n",
       "      <td>-1</td>\n",
       "      <td>-1.000000e+00</td>\n",
       "      <td>-1.000000</td>\n",
       "      <td>-1.000000e+00</td>\n",
       "      <td>-1.000000</td>\n",
       "      <td>-1.000000</td>\n",
       "      <td>-1.000000e+00</td>\n",
       "    </tr>\n",
       "    <tr>\n",
       "      <th>48873</th>\n",
       "      <td>10</td>\n",
       "      <td>0</td>\n",
       "      <td>0</td>\n",
       "      <td>0</td>\n",
       "      <td>0</td>\n",
       "      <td>fffb6dce2508d4a68c18546b59f6cf0f2dfcebd55035da...</td>\n",
       "      <td>0</td>\n",
       "      <td>0</td>\n",
       "      <td>0</td>\n",
       "      <td>0</td>\n",
       "      <td>...</td>\n",
       "      <td>118</td>\n",
       "      <td>1.000000</td>\n",
       "      <td>0.042373</td>\n",
       "      <td>5</td>\n",
       "      <td>4.746866e+05</td>\n",
       "      <td>9174.087891</td>\n",
       "      <td>4.212281e+05</td>\n",
       "      <td>94937.312500</td>\n",
       "      <td>13418.260742</td>\n",
       "      <td>4.120540e+05</td>\n",
       "    </tr>\n",
       "    <tr>\n",
       "      <th>48874</th>\n",
       "      <td>10</td>\n",
       "      <td>0</td>\n",
       "      <td>0</td>\n",
       "      <td>0</td>\n",
       "      <td>0</td>\n",
       "      <td>fffb7431655f360f93a4fe4a2628dee9d476c191dfb05e...</td>\n",
       "      <td>0</td>\n",
       "      <td>0</td>\n",
       "      <td>0</td>\n",
       "      <td>0</td>\n",
       "      <td>...</td>\n",
       "      <td>334</td>\n",
       "      <td>1.805668</td>\n",
       "      <td>1.335329</td>\n",
       "      <td>446</td>\n",
       "      <td>2.050116e+07</td>\n",
       "      <td>0.016002</td>\n",
       "      <td>1.400206e+06</td>\n",
       "      <td>45966.718750</td>\n",
       "      <td>5046.887695</td>\n",
       "      <td>1.400206e+06</td>\n",
       "    </tr>\n",
       "    <tr>\n",
       "      <th>48875</th>\n",
       "      <td>10</td>\n",
       "      <td>0</td>\n",
       "      <td>0</td>\n",
       "      <td>0</td>\n",
       "      <td>0</td>\n",
       "      <td>fffbcae1f0b7a651ad9ca6acbe35fd193aeafa2f9bc227...</td>\n",
       "      <td>0</td>\n",
       "      <td>0</td>\n",
       "      <td>0</td>\n",
       "      <td>0</td>\n",
       "      <td>...</td>\n",
       "      <td>334</td>\n",
       "      <td>1.862903</td>\n",
       "      <td>1.383234</td>\n",
       "      <td>462</td>\n",
       "      <td>4.314782e+07</td>\n",
       "      <td>31.141556</td>\n",
       "      <td>1.466791e+06</td>\n",
       "      <td>93393.539062</td>\n",
       "      <td>14448.648438</td>\n",
       "      <td>1.466760e+06</td>\n",
       "    </tr>\n",
       "    <tr>\n",
       "      <th>48876</th>\n",
       "      <td>10</td>\n",
       "      <td>0</td>\n",
       "      <td>0</td>\n",
       "      <td>0</td>\n",
       "      <td>0</td>\n",
       "      <td>fffd09493bc0336b0000f99a714eda056653aa3af2a3fd...</td>\n",
       "      <td>0</td>\n",
       "      <td>0</td>\n",
       "      <td>0</td>\n",
       "      <td>0</td>\n",
       "      <td>...</td>\n",
       "      <td>88</td>\n",
       "      <td>1.000000</td>\n",
       "      <td>0.022727</td>\n",
       "      <td>2</td>\n",
       "      <td>1.375720e+06</td>\n",
       "      <td>360661.937500</td>\n",
       "      <td>1.015058e+06</td>\n",
       "      <td>687860.250000</td>\n",
       "      <td>687860.250000</td>\n",
       "      <td>6.543966e+05</td>\n",
       "    </tr>\n",
       "  </tbody>\n",
       "</table>\n",
       "<p>143279 rows × 56 columns</p>\n",
       "</div>"
      ],
      "text/plain": [
       "       mon  target_1  target_2  target_3  target_4  \\\n",
       "0        9         0         0         0         0   \n",
       "1        9         0         0         1         0   \n",
       "2        9         0         0         0         0   \n",
       "3        9         0         0         0         0   \n",
       "4        9         0         0         0         0   \n",
       "...    ...       ...       ...       ...       ...   \n",
       "48872   10         0         0         0         0   \n",
       "48873   10         0         0         0         0   \n",
       "48874   10         0         0         0         0   \n",
       "48875   10         0         0         0         0   \n",
       "48876   10         0         0         0         0   \n",
       "\n",
       "                                               client_id  target_1_cnt  \\\n",
       "0      00011c01bb22d8f62d9655f32d123dcca5ae55179f8266...             0   \n",
       "1      0001ac6446bf223a094d6514a6c890d82e9aa92104dee0...             0   \n",
       "2      0001b878e81279fa43c4429616359b5b276eecc69ddc31...             0   \n",
       "3      0003304a0f65d675ddfbc0691e0c564d26a4c9e08edf67...             0   \n",
       "4      00037813e71deead5685649d494c9a412391942fe771e2...             1   \n",
       "...                                                  ...           ...   \n",
       "48872  fffb5a08dfd1731d8a64ece41cb427249ae398e8ad684e...             0   \n",
       "48873  fffb6dce2508d4a68c18546b59f6cf0f2dfcebd55035da...             0   \n",
       "48874  fffb7431655f360f93a4fe4a2628dee9d476c191dfb05e...             0   \n",
       "48875  fffbcae1f0b7a651ad9ca6acbe35fd193aeafa2f9bc227...             0   \n",
       "48876  fffd09493bc0336b0000f99a714eda056653aa3af2a3fd...             0   \n",
       "\n",
       "       target_2_cnt  target_3_cnt  target_4_cnt  ...  trx_len_period  \\\n",
       "0                 0             0             0  ...             304   \n",
       "1                 0             0             0  ...             304   \n",
       "2                 0             0             0  ...             259   \n",
       "3                 0             0             0  ...             305   \n",
       "4                 0             0             1  ...              91   \n",
       "...             ...           ...           ...  ...             ...   \n",
       "48872             0             0             0  ...              -1   \n",
       "48873             0             0             0  ...             118   \n",
       "48874             0             0             0  ...             334   \n",
       "48875             0             0             0  ...             334   \n",
       "48876             0             0             0  ...              88   \n",
       "\n",
       "       trx_cnt_per_day  trx_density  amt_cnt       amt_sum        amt_min  \\\n",
       "0             1.437086     0.713816      217  1.147953e+07      52.802216   \n",
       "1             2.196891     1.394737      424  6.166176e+07       0.125596   \n",
       "2             1.050000     0.081081       21  9.336847e+06    4227.821289   \n",
       "3             1.685567     1.072131      327  5.691666e+07       0.027988   \n",
       "4             1.294118     0.241758       22  9.973691e+06   10193.813477   \n",
       "...                ...          ...      ...           ...            ...   \n",
       "48872        -1.000000    -1.000000       -1 -1.000000e+00      -1.000000   \n",
       "48873         1.000000     0.042373        5  4.746866e+05    9174.087891   \n",
       "48874         1.805668     1.335329      446  2.050116e+07       0.016002   \n",
       "48875         1.862903     1.383234      462  4.314782e+07      31.141556   \n",
       "48876         1.000000     0.022727        2  1.375720e+06  360661.937500   \n",
       "\n",
       "            amt_max       amt_mean     amt_median     amt_range  \n",
       "0      1.026145e+06   52901.054688    8270.170898  1.026092e+06  \n",
       "1      6.472754e+06  145428.687500   35113.679688  6.472754e+06  \n",
       "2      3.991036e+06  444611.750000  130198.226562  3.986808e+06  \n",
       "3      7.880474e+06  174057.046875   19582.207031  7.880474e+06  \n",
       "4      3.209490e+06  453349.593750   73133.242188  3.199296e+06  \n",
       "...             ...            ...            ...           ...  \n",
       "48872 -1.000000e+00      -1.000000      -1.000000 -1.000000e+00  \n",
       "48873  4.212281e+05   94937.312500   13418.260742  4.120540e+05  \n",
       "48874  1.400206e+06   45966.718750    5046.887695  1.400206e+06  \n",
       "48875  1.466791e+06   93393.539062   14448.648438  1.466760e+06  \n",
       "48876  1.015058e+06  687860.250000  687860.250000  6.543966e+05  \n",
       "\n",
       "[143279 rows x 56 columns]"
      ]
     },
     "execution_count": 15,
     "metadata": {},
     "output_type": "execute_result"
    }
   ],
   "source": [
    "val_df = pd.concat([\n",
    "    make_df(test_target, 9, val_dial_features_9, val_geo_features_9, val_trx_features_9),\n",
    "    make_df(test_target, 10, val_dial_features_10, val_geo_features_10, val_trx_features_10),\n",
    "])\n",
    "val_df"
   ]
  },
  {
   "cell_type": "code",
   "execution_count": 16,
   "id": "c816f483",
   "metadata": {},
   "outputs": [
    {
     "data": {
      "text/plain": [
       "0"
      ]
     },
     "execution_count": 16,
     "metadata": {},
     "output_type": "execute_result"
    }
   ],
   "source": [
    "gc.collect()"
   ]
  },
  {
   "cell_type": "markdown",
   "id": "ecdda82a",
   "metadata": {},
   "source": [
    "# 1"
   ]
  },
  {
   "cell_type": "code",
   "execution_count": 28,
   "id": "bd92a0a3",
   "metadata": {},
   "outputs": [],
   "source": [
    "train_pool = Pool(\n",
    "    data=train_df.drop([\"client_id\", \"target_1\", \"target_2\", \"target_3\", \"target_4\", \"src_type21\", \"src_type31\"], axis=1),\n",
    "    label=train_df[\"target_1\"],\n",
    "    cat_features=[\"mon\", \"src_type22\", \"src_type32\"]\n",
    ")\n",
    "\n",
    "val_pool = Pool(\n",
    "    data=val_df.drop([\"client_id\", \"target_1\", \"target_2\", \"target_3\", \"target_4\", \"src_type21\", \"src_type31\"], axis=1),\n",
    "    label=val_df[\"target_1\"],\n",
    "    cat_features=[\"mon\", \"src_type22\", \"src_type32\"]\n",
    ")"
   ]
  },
  {
   "cell_type": "code",
   "execution_count": 29,
   "id": "2a938926",
   "metadata": {},
   "outputs": [],
   "source": [
    "params = {\n",
    "    \"task_type\": \"GPU\",\n",
    "    \"loss_function\": \"CrossEntropy\",\n",
    "    \"eval_metric\": \"AUC\",\n",
    "    \"iterations\": 2500,\n",
    "    \"max_depth\": 7,\n",
    "    \"learning_rate\": 0.05,\n",
    "}"
   ]
  },
  {
   "cell_type": "code",
   "execution_count": 30,
   "id": "ce1e6812",
   "metadata": {},
   "outputs": [
    {
     "data": {
      "application/vnd.jupyter.widget-view+json": {
       "model_id": "d76909b0ef5f4e8898e2ef6477b53a83",
       "version_major": 2,
       "version_minor": 0
      },
      "text/plain": [
       "MetricVisualizer(layout=Layout(align_self='stretch', height='500px'))"
      ]
     },
     "metadata": {},
     "output_type": "display_data"
    },
    {
     "name": "stderr",
     "output_type": "stream",
     "text": [
      "Default metric period is 5 because AUC is/are not implemented for GPU\n"
     ]
    },
    {
     "data": {
      "text/plain": [
       "<catboost.core.CatBoostClassifier at 0x215c755a280>"
      ]
     },
     "execution_count": 30,
     "metadata": {},
     "output_type": "execute_result"
    }
   ],
   "source": [
    "model_cb_1 = CatBoostClassifier(**params, random_seed=56, one_hot_max_size=4)\n",
    "model_cb_1.fit(train_pool, eval_set=val_pool, plot=True, verbose=False, use_best_model=True)"
   ]
  },
  {
   "cell_type": "code",
   "execution_count": 31,
   "id": "09f86c06",
   "metadata": {},
   "outputs": [
    {
     "data": {
      "text/plain": [
       "0.809767872095108"
      ]
     },
     "execution_count": 31,
     "metadata": {},
     "output_type": "execute_result"
    }
   ],
   "source": [
    "max(model_cb_1.get_evals_result()[\"validation\"][\"AUC\"])"
   ]
  },
  {
   "cell_type": "raw",
   "id": "76c97a19",
   "metadata": {},
   "source": [
    "0.8029018044471741\n",
    "\n",
    "0.8097678720951080"
   ]
  },
  {
   "cell_type": "markdown",
   "id": "eb9ec7ee",
   "metadata": {},
   "source": [
    "# 2"
   ]
  },
  {
   "cell_type": "code",
   "execution_count": 32,
   "id": "6953df84",
   "metadata": {},
   "outputs": [],
   "source": [
    "train_pool = Pool(\n",
    "    data=train_df.drop([\"client_id\", \"target_1\", \"target_2\", \"target_3\", \"target_4\", \"src_type21\", \"src_type31\"], axis=1),\n",
    "    label=train_df[\"target_2\"],\n",
    "    cat_features=[\"mon\", \"src_type22\", \"src_type32\"]\n",
    ")\n",
    "\n",
    "val_pool = Pool(\n",
    "    data=val_df.drop([\"client_id\", \"target_1\", \"target_2\", \"target_3\", \"target_4\", \"src_type21\", \"src_type31\"], axis=1),\n",
    "    label=val_df[\"target_2\"],\n",
    "    cat_features=[\"mon\", \"src_type22\", \"src_type32\"]\n",
    ")"
   ]
  },
  {
   "cell_type": "code",
   "execution_count": 33,
   "id": "04b039b5",
   "metadata": {},
   "outputs": [],
   "source": [
    "params = {\n",
    "    \"task_type\": \"GPU\",\n",
    "    \"loss_function\": \"CrossEntropy\",\n",
    "    \"eval_metric\": \"AUC\",\n",
    "    \"iterations\": 2500,\n",
    "    \"max_depth\": 7,\n",
    "    \"learning_rate\": 0.05,\n",
    "}"
   ]
  },
  {
   "cell_type": "code",
   "execution_count": 34,
   "id": "e0d650bc",
   "metadata": {},
   "outputs": [
    {
     "data": {
      "application/vnd.jupyter.widget-view+json": {
       "model_id": "b90a92df5a4645968993a46d62181603",
       "version_major": 2,
       "version_minor": 0
      },
      "text/plain": [
       "MetricVisualizer(layout=Layout(align_self='stretch', height='500px'))"
      ]
     },
     "metadata": {},
     "output_type": "display_data"
    },
    {
     "name": "stderr",
     "output_type": "stream",
     "text": [
      "Default metric period is 5 because AUC is/are not implemented for GPU\n"
     ]
    },
    {
     "data": {
      "text/plain": [
       "<catboost.core.CatBoostClassifier at 0x215c750b760>"
      ]
     },
     "execution_count": 34,
     "metadata": {},
     "output_type": "execute_result"
    }
   ],
   "source": [
    "model_cb_2 = CatBoostClassifier(**params, random_seed=56, one_hot_max_size=4)\n",
    "model_cb_2.fit(train_pool, eval_set=val_pool, plot=True, verbose=False, use_best_model=True)"
   ]
  },
  {
   "cell_type": "code",
   "execution_count": 35,
   "id": "8637b0bf",
   "metadata": {},
   "outputs": [
    {
     "data": {
      "text/plain": [
       "0.8747016787528992"
      ]
     },
     "execution_count": 35,
     "metadata": {},
     "output_type": "execute_result"
    }
   ],
   "source": [
    "max(model_cb_2.get_evals_result()[\"validation\"][\"AUC\"])"
   ]
  },
  {
   "cell_type": "raw",
   "id": "ee1c9746",
   "metadata": {},
   "source": [
    "0.8563638627529144\n",
    "\n",
    "0.8747016787528992"
   ]
  },
  {
   "cell_type": "markdown",
   "id": "6d84369c",
   "metadata": {},
   "source": [
    "# 3"
   ]
  },
  {
   "cell_type": "code",
   "execution_count": 36,
   "id": "ecabfe25",
   "metadata": {},
   "outputs": [],
   "source": [
    "train_pool = Pool(\n",
    "    data=train_df.drop([\"client_id\", \"target_1\", \"target_2\", \"target_3\", \"target_4\", \"src_type21\", \"src_type31\"], axis=1),\n",
    "    label=train_df[\"target_3\"],\n",
    "    cat_features=[\"mon\", \"src_type22\", \"src_type32\"]\n",
    ")\n",
    "\n",
    "val_pool = Pool(\n",
    "    data=val_df.drop([\"client_id\", \"target_1\", \"target_2\", \"target_3\", \"target_4\", \"src_type21\", \"src_type31\"], axis=1),\n",
    "    label=val_df[\"target_3\"],\n",
    "    cat_features=[\"mon\", \"src_type22\", \"src_type32\"]\n",
    ")"
   ]
  },
  {
   "cell_type": "code",
   "execution_count": 37,
   "id": "350601a7",
   "metadata": {},
   "outputs": [],
   "source": [
    "params = {\n",
    "    \"task_type\": \"GPU\",\n",
    "    \"loss_function\": \"CrossEntropy\",\n",
    "    \"eval_metric\": \"AUC\",\n",
    "    \"iterations\": 2500,\n",
    "    \"max_depth\": 7,\n",
    "    \"learning_rate\": 0.05,\n",
    "}"
   ]
  },
  {
   "cell_type": "code",
   "execution_count": 38,
   "id": "64de79ca",
   "metadata": {},
   "outputs": [
    {
     "data": {
      "application/vnd.jupyter.widget-view+json": {
       "model_id": "4e1ce37acfea425f864b09d4017313a8",
       "version_major": 2,
       "version_minor": 0
      },
      "text/plain": [
       "MetricVisualizer(layout=Layout(align_self='stretch', height='500px'))"
      ]
     },
     "metadata": {},
     "output_type": "display_data"
    },
    {
     "name": "stderr",
     "output_type": "stream",
     "text": [
      "Default metric period is 5 because AUC is/are not implemented for GPU\n"
     ]
    },
    {
     "data": {
      "text/plain": [
       "<catboost.core.CatBoostClassifier at 0x215c779fdf0>"
      ]
     },
     "execution_count": 38,
     "metadata": {},
     "output_type": "execute_result"
    }
   ],
   "source": [
    "model_cb_3 = CatBoostClassifier(**params, random_seed=56, one_hot_max_size=4)\n",
    "model_cb_3.fit(train_pool, eval_set=val_pool, plot=True, verbose=False, use_best_model=True)"
   ]
  },
  {
   "cell_type": "code",
   "execution_count": 39,
   "id": "dc4988e5",
   "metadata": {},
   "outputs": [
    {
     "data": {
      "text/plain": [
       "0.8426342308521271"
      ]
     },
     "execution_count": 39,
     "metadata": {},
     "output_type": "execute_result"
    }
   ],
   "source": [
    "max(model_cb_3.get_evals_result()[\"validation\"][\"AUC\"])"
   ]
  },
  {
   "cell_type": "raw",
   "id": "a5601a2d",
   "metadata": {},
   "source": [
    "0.8363898992538452\n",
    "\n",
    "0.8426342308521271"
   ]
  },
  {
   "cell_type": "markdown",
   "id": "3857aaa5",
   "metadata": {},
   "source": [
    "# 4"
   ]
  },
  {
   "cell_type": "code",
   "execution_count": 40,
   "id": "f36d56f9",
   "metadata": {},
   "outputs": [],
   "source": [
    "train_pool = Pool(\n",
    "    data=train_df.drop([\"client_id\", \"target_1\", \"target_2\", \"target_3\", \"target_4\", \"src_type21\", \"src_type31\"], axis=1),\n",
    "    label=train_df[\"target_4\"],\n",
    "    cat_features=[\"mon\", \"src_type22\", \"src_type32\"]\n",
    ")\n",
    "\n",
    "val_pool = Pool(\n",
    "    data=val_df.drop([\"client_id\", \"target_1\", \"target_2\", \"target_3\", \"target_4\", \"src_type21\", \"src_type31\"], axis=1),\n",
    "    label=val_df[\"target_4\"],\n",
    "    cat_features=[\"mon\", \"src_type22\", \"src_type32\"]\n",
    ")"
   ]
  },
  {
   "cell_type": "code",
   "execution_count": 41,
   "id": "d9454b30",
   "metadata": {},
   "outputs": [],
   "source": [
    "params = {\n",
    "    \"task_type\": \"GPU\",\n",
    "    \"loss_function\": \"CrossEntropy\",\n",
    "    \"eval_metric\": \"AUC\",\n",
    "    \"iterations\": 2500,\n",
    "    \"max_depth\": 7,\n",
    "    \"learning_rate\": 0.05,\n",
    "}"
   ]
  },
  {
   "cell_type": "code",
   "execution_count": 42,
   "id": "b31b5bd3",
   "metadata": {},
   "outputs": [
    {
     "data": {
      "application/vnd.jupyter.widget-view+json": {
       "model_id": "3049a0aa61694837b9310154c3388958",
       "version_major": 2,
       "version_minor": 0
      },
      "text/plain": [
       "MetricVisualizer(layout=Layout(align_self='stretch', height='500px'))"
      ]
     },
     "metadata": {},
     "output_type": "display_data"
    },
    {
     "name": "stderr",
     "output_type": "stream",
     "text": [
      "Default metric period is 5 because AUC is/are not implemented for GPU\n"
     ]
    },
    {
     "data": {
      "text/plain": [
       "<catboost.core.CatBoostClassifier at 0x215ba1a0040>"
      ]
     },
     "execution_count": 42,
     "metadata": {},
     "output_type": "execute_result"
    }
   ],
   "source": [
    "model_cb_4 = CatBoostClassifier(**params, random_seed=56, one_hot_max_size=4)\n",
    "model_cb_4.fit(train_pool, eval_set=val_pool, plot=True, verbose=False, use_best_model=True)"
   ]
  },
  {
   "cell_type": "code",
   "execution_count": 43,
   "id": "f1cd6e2c",
   "metadata": {},
   "outputs": [
    {
     "data": {
      "text/plain": [
       "0.909576028585434"
      ]
     },
     "execution_count": 43,
     "metadata": {},
     "output_type": "execute_result"
    }
   ],
   "source": [
    "max(model_cb_4.get_evals_result()[\"validation\"][\"AUC\"])"
   ]
  },
  {
   "cell_type": "raw",
   "id": "798a0750",
   "metadata": {},
   "source": [
    "0.8707984685897827\n",
    "\n",
    "0.909576028585434"
   ]
  },
  {
   "cell_type": "markdown",
   "id": "120c914d",
   "metadata": {},
   "source": [
    "# Summary"
   ]
  },
  {
   "cell_type": "code",
   "execution_count": 44,
   "id": "d36fc63f",
   "metadata": {},
   "outputs": [
    {
     "data": {
      "text/plain": [
       "0.8591699525713921"
      ]
     },
     "execution_count": 44,
     "metadata": {},
     "output_type": "execute_result"
    }
   ],
   "source": [
    "s = 0.0\n",
    "s += max(model_cb_1.get_evals_result()[\"validation\"][\"AUC\"])\n",
    "s += max(model_cb_2.get_evals_result()[\"validation\"][\"AUC\"])\n",
    "s += max(model_cb_3.get_evals_result()[\"validation\"][\"AUC\"])\n",
    "s += max(model_cb_4.get_evals_result()[\"validation\"][\"AUC\"])\n",
    "s / 4.0"
   ]
  },
  {
   "cell_type": "raw",
   "id": "659fed1e",
   "metadata": {},
   "source": [
    "0.8415857926011086\n",
    "\n",
    "0.8591699525713921"
   ]
  },
  {
   "cell_type": "markdown",
   "id": "6563858a",
   "metadata": {},
   "source": [
    "# All"
   ]
  },
  {
   "cell_type": "markdown",
   "id": "55dcbcf7",
   "metadata": {},
   "source": [
    "## 1"
   ]
  },
  {
   "cell_type": "code",
   "execution_count": 64,
   "id": "1592aab2",
   "metadata": {},
   "outputs": [],
   "source": [
    "df = pd.concat([train_df, val_df])\n",
    "train_pool = Pool(\n",
    "    data=df.drop([\"client_id\", \"target_1\", \"target_2\", \"target_3\", \"target_4\", \"src_type21\", \"src_type31\"], axis=1),\n",
    "    label=df[\"target_1\"],\n",
    "    cat_features=[\"mon\", \"src_type22\", \"src_type32\"],\n",
    ")"
   ]
  },
  {
   "cell_type": "code",
   "execution_count": 65,
   "id": "27268a16",
   "metadata": {},
   "outputs": [],
   "source": [
    "params = {\n",
    "    \"task_type\": \"GPU\",\n",
    "    \"loss_function\": \"CrossEntropy\",\n",
    "    \"eval_metric\": \"AUC\",\n",
    "    \"iterations\": 2500,\n",
    "    \"max_depth\": 7,\n",
    "    \"learning_rate\": 0.05,\n",
    "}"
   ]
  },
  {
   "cell_type": "code",
   "execution_count": 66,
   "id": "410c27d7",
   "metadata": {},
   "outputs": [
    {
     "data": {
      "application/vnd.jupyter.widget-view+json": {
       "model_id": "43583d7063554d1ba8f9813d6c3d2f7d",
       "version_major": 2,
       "version_minor": 0
      },
      "text/plain": [
       "MetricVisualizer(layout=Layout(align_self='stretch', height='500px'))"
      ]
     },
     "metadata": {},
     "output_type": "display_data"
    },
    {
     "name": "stderr",
     "output_type": "stream",
     "text": [
      "Default metric period is 5 because AUC is/are not implemented for GPU\n"
     ]
    },
    {
     "data": {
      "text/plain": [
       "<catboost.core.CatBoostClassifier at 0x215c740c610>"
      ]
     },
     "execution_count": 66,
     "metadata": {},
     "output_type": "execute_result"
    }
   ],
   "source": [
    "model_cb_1 = CatBoostClassifier(**params, random_seed=56, one_hot_max_size=4)\n",
    "model_cb_1.fit(train_pool, plot=True, verbose=False)"
   ]
  },
  {
   "cell_type": "markdown",
   "id": "3196c816",
   "metadata": {},
   "source": [
    "## 2"
   ]
  },
  {
   "cell_type": "code",
   "execution_count": 67,
   "id": "84f41219",
   "metadata": {},
   "outputs": [],
   "source": [
    "df = pd.concat([train_df, val_df])\n",
    "train_pool = Pool(\n",
    "    data=df.drop([\"client_id\", \"target_1\", \"target_2\", \"target_3\", \"target_4\", \"src_type21\", \"src_type31\"], axis=1),\n",
    "    label=df[\"target_2\"],\n",
    "    cat_features=[\"mon\", \"src_type22\", \"src_type32\"],\n",
    ")"
   ]
  },
  {
   "cell_type": "code",
   "execution_count": 68,
   "id": "0e89baf3",
   "metadata": {},
   "outputs": [],
   "source": [
    "params = {\n",
    "    \"task_type\": \"GPU\",\n",
    "    \"loss_function\": \"CrossEntropy\",\n",
    "    \"eval_metric\": \"AUC\",\n",
    "    \"iterations\": 1500,\n",
    "    \"max_depth\": 7,\n",
    "    \"learning_rate\": 0.05,\n",
    "}"
   ]
  },
  {
   "cell_type": "code",
   "execution_count": 69,
   "id": "3049a5f6",
   "metadata": {},
   "outputs": [
    {
     "data": {
      "application/vnd.jupyter.widget-view+json": {
       "model_id": "fff57801442c4f2cb78342d2b8c76567",
       "version_major": 2,
       "version_minor": 0
      },
      "text/plain": [
       "MetricVisualizer(layout=Layout(align_self='stretch', height='500px'))"
      ]
     },
     "metadata": {},
     "output_type": "display_data"
    },
    {
     "name": "stderr",
     "output_type": "stream",
     "text": [
      "Default metric period is 5 because AUC is/are not implemented for GPU\n"
     ]
    },
    {
     "data": {
      "text/plain": [
       "<catboost.core.CatBoostClassifier at 0x215c8d47910>"
      ]
     },
     "execution_count": 69,
     "metadata": {},
     "output_type": "execute_result"
    }
   ],
   "source": [
    "model_cb_2 = CatBoostClassifier(**params, random_seed=56, one_hot_max_size=4)\n",
    "model_cb_2.fit(train_pool, plot=True, verbose=False)"
   ]
  },
  {
   "cell_type": "markdown",
   "id": "7916a383",
   "metadata": {},
   "source": [
    "## 3"
   ]
  },
  {
   "cell_type": "code",
   "execution_count": 70,
   "id": "8759fd5f",
   "metadata": {},
   "outputs": [],
   "source": [
    "df = pd.concat([train_df, val_df])\n",
    "train_pool = Pool(\n",
    "    data=df.drop([\"client_id\", \"target_1\", \"target_2\", \"target_3\", \"target_4\", \"src_type21\", \"src_type31\"], axis=1),\n",
    "    label=df[\"target_3\"],\n",
    "    cat_features=[\"mon\", \"src_type22\", \"src_type32\"],\n",
    ")"
   ]
  },
  {
   "cell_type": "code",
   "execution_count": 71,
   "id": "1527e77b",
   "metadata": {},
   "outputs": [],
   "source": [
    "params = {\n",
    "    \"task_type\": \"GPU\",\n",
    "    \"loss_function\": \"CrossEntropy\",\n",
    "    \"eval_metric\": \"AUC\",\n",
    "    \"iterations\": 2250,\n",
    "    \"max_depth\": 7,\n",
    "    \"learning_rate\": 0.05,\n",
    "}"
   ]
  },
  {
   "cell_type": "code",
   "execution_count": 72,
   "id": "85a7ebb4",
   "metadata": {},
   "outputs": [
    {
     "data": {
      "application/vnd.jupyter.widget-view+json": {
       "model_id": "af6800b6ba344cb5ad567ef7628d2600",
       "version_major": 2,
       "version_minor": 0
      },
      "text/plain": [
       "MetricVisualizer(layout=Layout(align_self='stretch', height='500px'))"
      ]
     },
     "metadata": {},
     "output_type": "display_data"
    },
    {
     "name": "stderr",
     "output_type": "stream",
     "text": [
      "Default metric period is 5 because AUC is/are not implemented for GPU\n"
     ]
    },
    {
     "data": {
      "text/plain": [
       "<catboost.core.CatBoostClassifier at 0x21641eb1220>"
      ]
     },
     "execution_count": 72,
     "metadata": {},
     "output_type": "execute_result"
    }
   ],
   "source": [
    "model_cb_3 = CatBoostClassifier(**params, random_seed=56, one_hot_max_size=4)\n",
    "model_cb_3.fit(train_pool, plot=True, verbose=False)"
   ]
  },
  {
   "cell_type": "markdown",
   "id": "55718a37",
   "metadata": {},
   "source": [
    "## 4"
   ]
  },
  {
   "cell_type": "code",
   "execution_count": 73,
   "id": "cb747372",
   "metadata": {},
   "outputs": [],
   "source": [
    "df = pd.concat([train_df, val_df])\n",
    "train_pool = Pool(\n",
    "    data=df.drop([\"client_id\", \"target_1\", \"target_2\", \"target_3\", \"target_4\", \"src_type21\", \"src_type31\"], axis=1),\n",
    "    label=df[\"target_4\"],\n",
    "    cat_features=[\"mon\", \"src_type22\", \"src_type32\"],\n",
    ")"
   ]
  },
  {
   "cell_type": "code",
   "execution_count": 74,
   "id": "53ccc23c",
   "metadata": {},
   "outputs": [],
   "source": [
    "params = {\n",
    "    \"task_type\": \"GPU\",\n",
    "    \"loss_function\": \"CrossEntropy\",\n",
    "    \"eval_metric\": \"AUC\",\n",
    "    \"iterations\": 2500,\n",
    "    \"max_depth\": 7,\n",
    "    \"learning_rate\": 0.05,\n",
    "}"
   ]
  },
  {
   "cell_type": "code",
   "execution_count": 75,
   "id": "a0241a41",
   "metadata": {},
   "outputs": [
    {
     "data": {
      "application/vnd.jupyter.widget-view+json": {
       "model_id": "3b982eeb9a2c4a05ba41320b6b6dded5",
       "version_major": 2,
       "version_minor": 0
      },
      "text/plain": [
       "MetricVisualizer(layout=Layout(align_self='stretch', height='500px'))"
      ]
     },
     "metadata": {},
     "output_type": "display_data"
    },
    {
     "name": "stderr",
     "output_type": "stream",
     "text": [
      "Default metric period is 5 because AUC is/are not implemented for GPU\n"
     ]
    },
    {
     "data": {
      "text/plain": [
       "<catboost.core.CatBoostClassifier at 0x215c73fb910>"
      ]
     },
     "execution_count": 75,
     "metadata": {},
     "output_type": "execute_result"
    }
   ],
   "source": [
    "model_cb_4 = CatBoostClassifier(**params, random_seed=56, one_hot_max_size=4)\n",
    "model_cb_4.fit(train_pool, plot=True, verbose=False)"
   ]
  },
  {
   "cell_type": "markdown",
   "id": "ce8939ef",
   "metadata": {},
   "source": [
    "## Inference"
   ]
  },
  {
   "cell_type": "code",
   "execution_count": 76,
   "id": "7b79a359",
   "metadata": {},
   "outputs": [],
   "source": [
    "def make_df(data, last_month, dial_features, geo_features, trx_features):\n",
    "    clients = (\n",
    "        data\n",
    "        .group_by(\"client_id\")\n",
    "        .agg(last_mon=pl.col(\"mon\").max())\n",
    "        .filter(pl.col(\"last_mon\") == last_month)\n",
    "    )[\"client_id\"]\n",
    "    \n",
    "    data = data.filter(pl.col(\"client_id\").is_in(clients))\n",
    "    \n",
    "    df = (\n",
    "        data\n",
    "        .group_by(\"client_id\")\n",
    "        .agg(\n",
    "            target_1_cnt=pl.col(\"target_1\").sum(),\n",
    "            target_2_cnt=pl.col(\"target_2\").sum(),\n",
    "            target_3_cnt=pl.col(\"target_3\").sum(),\n",
    "            target_4_cnt=pl.col(\"target_4\").sum(),\n",
    "        )\n",
    "        .with_columns(\n",
    "            mon=pl.lit(last_month + 1, pl.UInt8)\n",
    "        )\n",
    "    )\n",
    "    \n",
    "    for i in (1, 2, 3, 4):\n",
    "        cur = (\n",
    "            data\n",
    "            .filter(pl.col(f\"target_{i}\") == 1)\n",
    "            .group_by(\"client_id\")\n",
    "            .agg((last_month + 1 - pl.col(\"mon\").max()).alias(f\"target_{i}_last\"))\n",
    "        )\n",
    "        df = df.join(cur, on=\"client_id\", how=\"left\").fill_null(-1)\n",
    "        \n",
    "    df = df.join(dial_features, on=\"client_id\", how=\"left\").fill_null(-1)\n",
    "    df = df.join(geo_features, on=\"client_id\", how=\"left\").fill_null(-1)\n",
    "    df = df.join(trx_features, on=\"client_id\", how=\"left\").fill_null(-1)\n",
    "    \n",
    "    return df.sort(\"client_id\").to_pandas()"
   ]
  },
  {
   "cell_type": "code",
   "execution_count": 77,
   "id": "663ebd5b",
   "metadata": {},
   "outputs": [
    {
     "data": {
      "text/html": [
       "<div>\n",
       "<style scoped>\n",
       "    .dataframe tbody tr th:only-of-type {\n",
       "        vertical-align: middle;\n",
       "    }\n",
       "\n",
       "    .dataframe tbody tr th {\n",
       "        vertical-align: top;\n",
       "    }\n",
       "\n",
       "    .dataframe thead th {\n",
       "        text-align: right;\n",
       "    }\n",
       "</style>\n",
       "<table border=\"1\" class=\"dataframe\">\n",
       "  <thead>\n",
       "    <tr style=\"text-align: right;\">\n",
       "      <th></th>\n",
       "      <th>target_1</th>\n",
       "      <th>target_2</th>\n",
       "      <th>target_3</th>\n",
       "      <th>target_4</th>\n",
       "    </tr>\n",
       "    <tr>\n",
       "      <th>client_id</th>\n",
       "      <th></th>\n",
       "      <th></th>\n",
       "      <th></th>\n",
       "      <th></th>\n",
       "    </tr>\n",
       "  </thead>\n",
       "  <tbody>\n",
       "    <tr>\n",
       "      <th>00128b10d2dd4d3e458244fc4a0f2205a86c2058843230727658cd6da1ef94c8</th>\n",
       "      <td>0.001395</td>\n",
       "      <td>0.000347</td>\n",
       "      <td>0.001010</td>\n",
       "      <td>0.000652</td>\n",
       "    </tr>\n",
       "    <tr>\n",
       "      <th>00136b2bb7c74fa8fb5362311096d4d69d652064d1cca8f68bf52f7de8ef213b</th>\n",
       "      <td>0.002157</td>\n",
       "      <td>0.000092</td>\n",
       "      <td>0.000929</td>\n",
       "      <td>0.000724</td>\n",
       "    </tr>\n",
       "    <tr>\n",
       "      <th>00154d0e99ec74f19a48b13975cf3bd8af6016f73497864553530994f91aa82d</th>\n",
       "      <td>0.002502</td>\n",
       "      <td>0.000790</td>\n",
       "      <td>0.003451</td>\n",
       "      <td>0.002504</td>\n",
       "    </tr>\n",
       "    <tr>\n",
       "      <th>0015f88936ad24473f9189b44812d1112a0d5c7950dfb635161b0d96273fa73c</th>\n",
       "      <td>0.002056</td>\n",
       "      <td>0.000107</td>\n",
       "      <td>0.001724</td>\n",
       "      <td>0.000808</td>\n",
       "    </tr>\n",
       "    <tr>\n",
       "      <th>00183b1793f295e0caacf88724ff50d680d2685abccab8ce9090cbb88aab01f9</th>\n",
       "      <td>0.007432</td>\n",
       "      <td>0.004129</td>\n",
       "      <td>0.005457</td>\n",
       "      <td>0.022631</td>\n",
       "    </tr>\n",
       "    <tr>\n",
       "      <th>...</th>\n",
       "      <td>...</td>\n",
       "      <td>...</td>\n",
       "      <td>...</td>\n",
       "      <td>...</td>\n",
       "    </tr>\n",
       "    <tr>\n",
       "      <th>fffb5a08dfd1731d8a64ece41cb427249ae398e8ad684e846f06e8ce0f67578d</th>\n",
       "      <td>0.000026</td>\n",
       "      <td>0.000002</td>\n",
       "      <td>0.000022</td>\n",
       "      <td>0.000007</td>\n",
       "    </tr>\n",
       "    <tr>\n",
       "      <th>fffb6dce2508d4a68c18546b59f6cf0f2dfcebd55035da0f789be51ec7d246b1</th>\n",
       "      <td>0.001722</td>\n",
       "      <td>0.000112</td>\n",
       "      <td>0.000429</td>\n",
       "      <td>0.000431</td>\n",
       "    </tr>\n",
       "    <tr>\n",
       "      <th>fffb7431655f360f93a4fe4a2628dee9d476c191dfb05ec0a8fdb04c9a6242fd</th>\n",
       "      <td>0.005104</td>\n",
       "      <td>0.000225</td>\n",
       "      <td>0.006404</td>\n",
       "      <td>0.006068</td>\n",
       "    </tr>\n",
       "    <tr>\n",
       "      <th>fffbcae1f0b7a651ad9ca6acbe35fd193aeafa2f9bc2276b6bac8b3ccc75b82d</th>\n",
       "      <td>0.002513</td>\n",
       "      <td>0.000202</td>\n",
       "      <td>0.004706</td>\n",
       "      <td>0.006886</td>\n",
       "    </tr>\n",
       "    <tr>\n",
       "      <th>fffd09493bc0336b0000f99a714eda056653aa3af2a3fd16de0b3edc1ec111f5</th>\n",
       "      <td>0.001815</td>\n",
       "      <td>0.000062</td>\n",
       "      <td>0.000202</td>\n",
       "      <td>0.000346</td>\n",
       "    </tr>\n",
       "  </tbody>\n",
       "</table>\n",
       "<p>140488 rows × 4 columns</p>\n",
       "</div>"
      ],
      "text/plain": [
       "                                                    target_1  target_2  \\\n",
       "client_id                                                                \n",
       "00128b10d2dd4d3e458244fc4a0f2205a86c20588432307...  0.001395  0.000347   \n",
       "00136b2bb7c74fa8fb5362311096d4d69d652064d1cca8f...  0.002157  0.000092   \n",
       "00154d0e99ec74f19a48b13975cf3bd8af6016f73497864...  0.002502  0.000790   \n",
       "0015f88936ad24473f9189b44812d1112a0d5c7950dfb63...  0.002056  0.000107   \n",
       "00183b1793f295e0caacf88724ff50d680d2685abccab8c...  0.007432  0.004129   \n",
       "...                                                      ...       ...   \n",
       "fffb5a08dfd1731d8a64ece41cb427249ae398e8ad684e8...  0.000026  0.000002   \n",
       "fffb6dce2508d4a68c18546b59f6cf0f2dfcebd55035da0...  0.001722  0.000112   \n",
       "fffb7431655f360f93a4fe4a2628dee9d476c191dfb05ec...  0.005104  0.000225   \n",
       "fffbcae1f0b7a651ad9ca6acbe35fd193aeafa2f9bc2276...  0.002513  0.000202   \n",
       "fffd09493bc0336b0000f99a714eda056653aa3af2a3fd1...  0.001815  0.000062   \n",
       "\n",
       "                                                    target_3  target_4  \n",
       "client_id                                                               \n",
       "00128b10d2dd4d3e458244fc4a0f2205a86c20588432307...  0.001010  0.000652  \n",
       "00136b2bb7c74fa8fb5362311096d4d69d652064d1cca8f...  0.000929  0.000724  \n",
       "00154d0e99ec74f19a48b13975cf3bd8af6016f73497864...  0.003451  0.002504  \n",
       "0015f88936ad24473f9189b44812d1112a0d5c7950dfb63...  0.001724  0.000808  \n",
       "00183b1793f295e0caacf88724ff50d680d2685abccab8c...  0.005457  0.022631  \n",
       "...                                                      ...       ...  \n",
       "fffb5a08dfd1731d8a64ece41cb427249ae398e8ad684e8...  0.000022  0.000007  \n",
       "fffb6dce2508d4a68c18546b59f6cf0f2dfcebd55035da0...  0.000429  0.000431  \n",
       "fffb7431655f360f93a4fe4a2628dee9d476c191dfb05ec...  0.006404  0.006068  \n",
       "fffbcae1f0b7a651ad9ca6acbe35fd193aeafa2f9bc2276...  0.004706  0.006886  \n",
       "fffd09493bc0336b0000f99a714eda056653aa3af2a3fd1...  0.000202  0.000346  \n",
       "\n",
       "[140488 rows x 4 columns]"
      ]
     },
     "execution_count": 77,
     "metadata": {},
     "output_type": "execute_result"
    }
   ],
   "source": [
    "submission = pd.read_csv(\"./data/sample_submission.csv\", index_col=0).set_index(\"client_id\")\n",
    "submission"
   ]
  },
  {
   "cell_type": "code",
   "execution_count": 78,
   "id": "7900dabc",
   "metadata": {},
   "outputs": [],
   "source": [
    "test_df = make_df(test_target, 9 - 1, val_dial_features_9, val_geo_features_9, val_trx_features_9)\n",
    "test_pool = Pool(\n",
    "    data=test_df.drop([\"client_id\", \"src_type21\", \"src_type31\"], axis=1),\n",
    "    cat_features=[\"mon\", \"src_type22\", \"src_type32\"],\n",
    ")\n",
    "submission.loc[test_df[\"client_id\"], \"target_1\"] = model_cb_1.predict_proba(test_pool)[:, 1]\n",
    "submission.loc[test_df[\"client_id\"], \"target_2\"] = model_cb_2.predict_proba(test_pool)[:, 1]\n",
    "submission.loc[test_df[\"client_id\"], \"target_3\"] = model_cb_3.predict_proba(test_pool)[:, 1]\n",
    "submission.loc[test_df[\"client_id\"], \"target_4\"] = model_cb_4.predict_proba(test_pool)[:, 1]"
   ]
  },
  {
   "cell_type": "code",
   "execution_count": 79,
   "id": "c7d7353e",
   "metadata": {},
   "outputs": [],
   "source": [
    "test_df = make_df(test_target, 10 - 1, val_dial_features_10, val_geo_features_10, val_trx_features_10)\n",
    "test_pool = Pool(\n",
    "    data=test_df.drop([\"client_id\", \"src_type21\", \"src_type31\"], axis=1),\n",
    "    cat_features=[\"mon\", \"src_type22\", \"src_type32\"],\n",
    ")\n",
    "submission.loc[test_df[\"client_id\"], \"target_1\"] = model_cb_1.predict_proba(test_pool)[:, 1]\n",
    "submission.loc[test_df[\"client_id\"], \"target_2\"] = model_cb_2.predict_proba(test_pool)[:, 1]\n",
    "submission.loc[test_df[\"client_id\"], \"target_3\"] = model_cb_3.predict_proba(test_pool)[:, 1]\n",
    "submission.loc[test_df[\"client_id\"], \"target_4\"] = model_cb_4.predict_proba(test_pool)[:, 1]"
   ]
  },
  {
   "cell_type": "code",
   "execution_count": 80,
   "id": "1c4c817f",
   "metadata": {},
   "outputs": [],
   "source": [
    "test_df = make_df(test_target, 11 - 1, val_dial_features_11, val_geo_features_11, val_trx_features_11)\n",
    "test_pool = Pool(\n",
    "    data=test_df.drop([\"client_id\", \"src_type21\", \"src_type31\"], axis=1),\n",
    "    cat_features=[\"mon\", \"src_type22\", \"src_type32\"],\n",
    ")\n",
    "submission.loc[test_df[\"client_id\"], \"target_1\"] = model_cb_1.predict_proba(test_pool)[:, 1]\n",
    "submission.loc[test_df[\"client_id\"], \"target_2\"] = model_cb_2.predict_proba(test_pool)[:, 1]\n",
    "submission.loc[test_df[\"client_id\"], \"target_3\"] = model_cb_3.predict_proba(test_pool)[:, 1]\n",
    "submission.loc[test_df[\"client_id\"], \"target_4\"] = model_cb_4.predict_proba(test_pool)[:, 1]"
   ]
  },
  {
   "cell_type": "code",
   "execution_count": 81,
   "id": "3ea80e69",
   "metadata": {},
   "outputs": [],
   "source": [
    "submission.reset_index().to_csv(\"./submission.csv\")"
   ]
  }
 ],
 "metadata": {
  "kernelspec": {
   "display_name": "Python 3 (ipykernel)",
   "language": "python",
   "name": "python3"
  },
  "language_info": {
   "codemirror_mode": {
    "name": "ipython",
    "version": 3
   },
   "file_extension": ".py",
   "mimetype": "text/x-python",
   "name": "python",
   "nbconvert_exporter": "python",
   "pygments_lexer": "ipython3",
   "version": "3.8.13"
  }
 },
 "nbformat": 4,
 "nbformat_minor": 5
}
