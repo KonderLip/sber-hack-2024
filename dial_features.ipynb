{
 "cells": [
  {
   "cell_type": "code",
   "execution_count": 1,
   "id": "5bb2388f",
   "metadata": {},
   "outputs": [],
   "source": [
    "from datetime import datetime\n",
    "\n",
    "import polars as pl"
   ]
  },
  {
   "cell_type": "code",
   "execution_count": null,
   "id": "73b78d47",
   "metadata": {},
   "outputs": [],
   "source": []
  },
  {
   "cell_type": "code",
   "execution_count": 2,
   "id": "d36f7094",
   "metadata": {},
   "outputs": [],
   "source": [
    "months = [\n",
    "    '2022-02-28',\n",
    "    '2022-03-31',\n",
    "    '2022-04-30',\n",
    "    '2022-05-31',\n",
    "    '2022-06-30',\n",
    "    '2022-07-31',\n",
    "    '2022-08-31',\n",
    "    '2022-09-30',\n",
    "    '2022-10-31',\n",
    "    '2022-11-30',\n",
    "    '2022-12-31',\n",
    "    '2023-01-31',\n",
    "]\n",
    "month2id = dict((month, idx) for idx, month in enumerate(months))\n",
    "id2month = dict((idx, month) for idx, month in enumerate(months))"
   ]
  },
  {
   "cell_type": "code",
   "execution_count": null,
   "id": "a3167a3c",
   "metadata": {},
   "outputs": [],
   "source": []
  },
  {
   "cell_type": "code",
   "execution_count": 3,
   "id": "928ff0fe",
   "metadata": {},
   "outputs": [
    {
     "name": "stdout",
     "output_type": "stream",
     "text": [
      "(1215209, 3)\n"
     ]
    },
    {
     "data": {
      "text/html": [
       "<div><style>\n",
       ".dataframe > thead > tr > th,\n",
       ".dataframe > tbody > tr > td {\n",
       "  text-align: right;\n",
       "  white-space: pre-wrap;\n",
       "}\n",
       "</style>\n",
       "<small>shape: (5, 3)</small><table border=\"1\" class=\"dataframe\"><thead><tr><th>client_id</th><th>event_time</th><th>embedding</th></tr><tr><td>str</td><td>datetime[μs]</td><td>list[f32]</td></tr></thead><tbody><tr><td>&quot;a039ad3b595d4f…</td><td>2022-05-02 12:24:30.565231</td><td>[-0.003248, 0.140231, … -0.010614]</td></tr><tr><td>&quot;a039ad3b595d4f…</td><td>2022-10-28 09:05:18.394466</td><td>[0.058927, -0.007723, … 0.086532]</td></tr><tr><td>&quot;a039ad3b595d4f…</td><td>2022-12-15 08:36:26.987451</td><td>[0.079807, -0.003912, … 0.095575]</td></tr><tr><td>&quot;a060e69e9e049a…</td><td>2022-09-13 13:37:03.710475</td><td>[0.523752, -0.30542, … 0.568542]</td></tr><tr><td>&quot;a08c690dd972d2…</td><td>2022-05-02 09:12:22.795170</td><td>[-0.009235, -0.069714, … -0.062696]</td></tr></tbody></table></div>"
      ],
      "text/plain": [
       "shape: (5, 3)\n",
       "┌──────────────────────────────────┬────────────────────────────┬──────────────────────────────────┐\n",
       "│ client_id                        ┆ event_time                 ┆ embedding                        │\n",
       "│ ---                              ┆ ---                        ┆ ---                              │\n",
       "│ str                              ┆ datetime[μs]               ┆ list[f32]                        │\n",
       "╞══════════════════════════════════╪════════════════════════════╪══════════════════════════════════╡\n",
       "│ a039ad3b595d4f5b1a318076286b0e64 ┆ 2022-05-02 12:24:30.565231 ┆ [-0.003248, 0.140231, …          │\n",
       "│ …                                ┆                            ┆ -0.01061…                        │\n",
       "│ a039ad3b595d4f5b1a318076286b0e64 ┆ 2022-10-28 09:05:18.394466 ┆ [0.058927, -0.007723, …          │\n",
       "│ …                                ┆                            ┆ 0.086532…                        │\n",
       "│ a039ad3b595d4f5b1a318076286b0e64 ┆ 2022-12-15 08:36:26.987451 ┆ [0.079807, -0.003912, …          │\n",
       "│ …                                ┆                            ┆ 0.095575…                        │\n",
       "│ a060e69e9e049ad012a4036c4cff6487 ┆ 2022-09-13 13:37:03.710475 ┆ [0.523752, -0.30542, … 0.568542] │\n",
       "│ …                                ┆                            ┆                                  │\n",
       "│ a08c690dd972d2066188950605635ff0 ┆ 2022-05-02 09:12:22.795170 ┆ [-0.009235, -0.069714, …         │\n",
       "│ …                                ┆                            ┆ -0.0626…                         │\n",
       "└──────────────────────────────────┴────────────────────────────┴──────────────────────────────────┘"
      ]
     },
     "execution_count": 3,
     "metadata": {},
     "output_type": "execute_result"
    }
   ],
   "source": [
    "train_dial = pl.read_parquet(\"./dial_train.parquet/*\")\n",
    "print(train_dial.shape)\n",
    "train_dial.head()"
   ]
  },
  {
   "cell_type": "code",
   "execution_count": 4,
   "id": "accef6ab",
   "metadata": {},
   "outputs": [
    {
     "name": "stdout",
     "output_type": "stream",
     "text": [
      "(286526, 3)\n"
     ]
    },
    {
     "data": {
      "text/html": [
       "<div><style>\n",
       ".dataframe > thead > tr > th,\n",
       ".dataframe > tbody > tr > td {\n",
       "  text-align: right;\n",
       "  white-space: pre-wrap;\n",
       "}\n",
       "</style>\n",
       "<small>shape: (5, 3)</small><table border=\"1\" class=\"dataframe\"><thead><tr><th>client_id</th><th>event_time</th><th>embedding</th></tr><tr><td>str</td><td>datetime[ns]</td><td>list[f32]</td></tr></thead><tbody><tr><td>&quot;08b3569cdfd015…</td><td>2022-02-26 10:53:11.777539</td><td>[0.110589, -0.000545, … 0.134537]</td></tr><tr><td>&quot;08b3569cdfd015…</td><td>2022-05-01 09:37:13.140523</td><td>[0.00209, 0.072185, … 0.015157]</td></tr><tr><td>&quot;08b3569cdfd015…</td><td>2022-05-09 08:48:24.248675</td><td>[0.194512, -0.032053, … 0.160809]</td></tr><tr><td>&quot;08b3569cdfd015…</td><td>2022-03-21 07:02:23.951399</td><td>[0.045035, 0.042004, … -0.112547]</td></tr><tr><td>&quot;08b3569cdfd015…</td><td>2022-03-19 08:55:18.098455</td><td>[0.330715, -0.023786, … 0.342075]</td></tr></tbody></table></div>"
      ],
      "text/plain": [
       "shape: (5, 3)\n",
       "┌──────────────────────────────────┬────────────────────────────┬──────────────────────────────────┐\n",
       "│ client_id                        ┆ event_time                 ┆ embedding                        │\n",
       "│ ---                              ┆ ---                        ┆ ---                              │\n",
       "│ str                              ┆ datetime[ns]               ┆ list[f32]                        │\n",
       "╞══════════════════════════════════╪════════════════════════════╪══════════════════════════════════╡\n",
       "│ 08b3569cdfd015e4ef7ed3632cf86bca ┆ 2022-02-26 10:53:11.777539 ┆ [0.110589, -0.000545, …          │\n",
       "│ …                                ┆                            ┆ 0.134537…                        │\n",
       "│ 08b3569cdfd015e4ef7ed3632cf86bca ┆ 2022-05-01 09:37:13.140523 ┆ [0.00209, 0.072185, … 0.015157]  │\n",
       "│ …                                ┆                            ┆                                  │\n",
       "│ 08b3569cdfd015e4ef7ed3632cf86bca ┆ 2022-05-09 08:48:24.248675 ┆ [0.194512, -0.032053, …          │\n",
       "│ …                                ┆                            ┆ 0.160809…                        │\n",
       "│ 08b3569cdfd015e4ef7ed3632cf86bca ┆ 2022-03-21 07:02:23.951399 ┆ [0.045035, 0.042004, …           │\n",
       "│ …                                ┆                            ┆ -0.112547…                       │\n",
       "│ 08b3569cdfd015e4ef7ed3632cf86bca ┆ 2022-03-19 08:55:18.098455 ┆ [0.330715, -0.023786, …          │\n",
       "│ …                                ┆                            ┆ 0.342075…                        │\n",
       "└──────────────────────────────────┴────────────────────────────┴──────────────────────────────────┘"
      ]
     },
     "execution_count": 4,
     "metadata": {},
     "output_type": "execute_result"
    }
   ],
   "source": [
    "val_dial = pl.read_parquet(\"./dial_test.parquet/*\")\n",
    "print(val_dial.shape)\n",
    "val_dial.head()"
   ]
  },
  {
   "cell_type": "code",
   "execution_count": null,
   "id": "6d02b9ed",
   "metadata": {},
   "outputs": [],
   "source": []
  },
  {
   "cell_type": "code",
   "execution_count": 5,
   "id": "8041ab94",
   "metadata": {},
   "outputs": [],
   "source": [
    "def make_features(data, mon):\n",
    "    min_dt = datetime(2021, 1, 1)\n",
    "    features = (\n",
    "        data\n",
    "        .filter(pl.col(\"event_time\") < datetime.strptime(months[mon], \"%Y-%m-%d\").replace(day=1))\n",
    "        .with_columns(event_day=(pl.col(\"event_time\") - min_dt).dt.days())\n",
    "        .group_by(\"client_id\")\n",
    "        .agg(\n",
    "            dial_cnt=pl.count(),\n",
    "            dial_uniq_days=pl.col(\"event_day\").n_unique(),\n",
    "            dial_first_day=pl.col(\"event_day\").min(),\n",
    "            dial_last_day=pl.col(\"event_day\").max(),\n",
    "        )\n",
    "        .with_columns(\n",
    "            dial_len_period=pl.col(\"dial_last_day\") - pl.col(\"dial_first_day\") + 1,\n",
    "        )\n",
    "        .with_columns(\n",
    "            dial_cnt_per_day=pl.col(\"dial_cnt\") / pl.col(\"dial_uniq_days\"),\n",
    "            dial_density=pl.col(\"dial_cnt\") / pl.col(\"dial_len_period\"),\n",
    "        )\n",
    "    )\n",
    "    return features"
   ]
  },
  {
   "cell_type": "code",
   "execution_count": null,
   "id": "dd03a185",
   "metadata": {},
   "outputs": [],
   "source": []
  },
  {
   "cell_type": "code",
   "execution_count": 6,
   "id": "d1482384",
   "metadata": {},
   "outputs": [],
   "source": [
    "mon = 9"
   ]
  },
  {
   "cell_type": "code",
   "execution_count": null,
   "id": "15ac843d",
   "metadata": {},
   "outputs": [],
   "source": []
  },
  {
   "cell_type": "code",
   "execution_count": 7,
   "id": "55e9cfab",
   "metadata": {},
   "outputs": [
    {
     "data": {
      "text/html": [
       "<div><style>\n",
       ".dataframe > thead > tr > th,\n",
       ".dataframe > tbody > tr > td {\n",
       "  text-align: right;\n",
       "  white-space: pre-wrap;\n",
       "}\n",
       "</style>\n",
       "<small>shape: (267_225, 8)</small><table border=\"1\" class=\"dataframe\"><thead><tr><th>client_id</th><th>dial_cnt</th><th>dial_uniq_days</th><th>dial_first_day</th><th>dial_last_day</th><th>dial_len_period</th><th>dial_cnt_per_day</th><th>dial_density</th></tr><tr><td>str</td><td>u32</td><td>u32</td><td>i64</td><td>i64</td><td>i64</td><td>f64</td><td>f64</td></tr></thead><tbody><tr><td>&quot;8f9884eb7c674b…</td><td>1</td><td>1</td><td>575</td><td>575</td><td>1</td><td>1.0</td><td>1.0</td></tr><tr><td>&quot;733793da1060ea…</td><td>2</td><td>2</td><td>560</td><td>601</td><td>42</td><td>1.0</td><td>0.047619</td></tr><tr><td>&quot;e8c9e71ddb15cc…</td><td>1</td><td>1</td><td>508</td><td>508</td><td>1</td><td>1.0</td><td>1.0</td></tr><tr><td>&quot;542594d1a4c073…</td><td>2</td><td>2</td><td>375</td><td>378</td><td>4</td><td>1.0</td><td>0.5</td></tr><tr><td>&quot;1739c16f648a22…</td><td>1</td><td>1</td><td>539</td><td>539</td><td>1</td><td>1.0</td><td>1.0</td></tr><tr><td>&quot;582548eedf972e…</td><td>1</td><td>1</td><td>520</td><td>520</td><td>1</td><td>1.0</td><td>1.0</td></tr><tr><td>&quot;e747989d830629…</td><td>2</td><td>2</td><td>482</td><td>615</td><td>134</td><td>1.0</td><td>0.014925</td></tr><tr><td>&quot;01d6c39ef9db54…</td><td>1</td><td>1</td><td>381</td><td>381</td><td>1</td><td>1.0</td><td>1.0</td></tr><tr><td>&quot;ab396dacb3bcb7…</td><td>11</td><td>11</td><td>588</td><td>624</td><td>37</td><td>1.0</td><td>0.297297</td></tr><tr><td>&quot;fdcf9bfb346fe4…</td><td>1</td><td>1</td><td>553</td><td>553</td><td>1</td><td>1.0</td><td>1.0</td></tr><tr><td>&quot;eafa946e617a8e…</td><td>2</td><td>2</td><td>446</td><td>466</td><td>21</td><td>1.0</td><td>0.095238</td></tr><tr><td>&quot;cec4d58dac4be6…</td><td>1</td><td>1</td><td>549</td><td>549</td><td>1</td><td>1.0</td><td>1.0</td></tr><tr><td>&hellip;</td><td>&hellip;</td><td>&hellip;</td><td>&hellip;</td><td>&hellip;</td><td>&hellip;</td><td>&hellip;</td><td>&hellip;</td></tr><tr><td>&quot;394ab0aa1dfde1…</td><td>7</td><td>7</td><td>432</td><td>555</td><td>124</td><td>1.0</td><td>0.056452</td></tr><tr><td>&quot;bd4652617aca10…</td><td>1</td><td>1</td><td>556</td><td>556</td><td>1</td><td>1.0</td><td>1.0</td></tr><tr><td>&quot;4b40cac9f98603…</td><td>2</td><td>2</td><td>519</td><td>539</td><td>21</td><td>1.0</td><td>0.095238</td></tr><tr><td>&quot;35b69bd85b4760…</td><td>1</td><td>1</td><td>603</td><td>603</td><td>1</td><td>1.0</td><td>1.0</td></tr><tr><td>&quot;1f012fab675463…</td><td>1</td><td>1</td><td>374</td><td>374</td><td>1</td><td>1.0</td><td>1.0</td></tr><tr><td>&quot;dd3ee56f74927a…</td><td>5</td><td>5</td><td>374</td><td>461</td><td>88</td><td>1.0</td><td>0.056818</td></tr><tr><td>&quot;935649f203d91f…</td><td>2</td><td>2</td><td>599</td><td>604</td><td>6</td><td>1.0</td><td>0.333333</td></tr><tr><td>&quot;4168782fce7636…</td><td>7</td><td>7</td><td>374</td><td>435</td><td>62</td><td>1.0</td><td>0.112903</td></tr><tr><td>&quot;b7a256f6215c3c…</td><td>1</td><td>1</td><td>602</td><td>602</td><td>1</td><td>1.0</td><td>1.0</td></tr><tr><td>&quot;bc65bfb437ccee…</td><td>1</td><td>1</td><td>560</td><td>560</td><td>1</td><td>1.0</td><td>1.0</td></tr><tr><td>&quot;0cfe8d1592523d…</td><td>4</td><td>4</td><td>434</td><td>589</td><td>156</td><td>1.0</td><td>0.025641</td></tr><tr><td>&quot;00406f25da787a…</td><td>1</td><td>1</td><td>568</td><td>568</td><td>1</td><td>1.0</td><td>1.0</td></tr></tbody></table></div>"
      ],
      "text/plain": [
       "shape: (267_225, 8)\n",
       "┌────────────┬──────────┬────────────┬────────────┬────────────┬───────────┬───────────┬───────────┐\n",
       "│ client_id  ┆ dial_cnt ┆ dial_uniq_ ┆ dial_first ┆ dial_last_ ┆ dial_len_ ┆ dial_cnt_ ┆ dial_dens │\n",
       "│ ---        ┆ ---      ┆ days       ┆ _day       ┆ day        ┆ period    ┆ per_day   ┆ ity       │\n",
       "│ str        ┆ u32      ┆ ---        ┆ ---        ┆ ---        ┆ ---       ┆ ---       ┆ ---       │\n",
       "│            ┆          ┆ u32        ┆ i64        ┆ i64        ┆ i64       ┆ f64       ┆ f64       │\n",
       "╞════════════╪══════════╪════════════╪════════════╪════════════╪═══════════╪═══════════╪═══════════╡\n",
       "│ 8f9884eb7c ┆ 1        ┆ 1          ┆ 575        ┆ 575        ┆ 1         ┆ 1.0       ┆ 1.0       │\n",
       "│ 674b9ded42 ┆          ┆            ┆            ┆            ┆           ┆           ┆           │\n",
       "│ d5ed70fd96 ┆          ┆            ┆            ┆            ┆           ┆           ┆           │\n",
       "│ 75…        ┆          ┆            ┆            ┆            ┆           ┆           ┆           │\n",
       "│ 733793da10 ┆ 2        ┆ 2          ┆ 560        ┆ 601        ┆ 42        ┆ 1.0       ┆ 0.047619  │\n",
       "│ 60ea603671 ┆          ┆            ┆            ┆            ┆           ┆           ┆           │\n",
       "│ 63e6841dab ┆          ┆            ┆            ┆            ┆           ┆           ┆           │\n",
       "│ ea…        ┆          ┆            ┆            ┆            ┆           ┆           ┆           │\n",
       "│ e8c9e71ddb ┆ 1        ┆ 1          ┆ 508        ┆ 508        ┆ 1         ┆ 1.0       ┆ 1.0       │\n",
       "│ 15cc3b2a0a ┆          ┆            ┆            ┆            ┆           ┆           ┆           │\n",
       "│ d19145fbda ┆          ┆            ┆            ┆            ┆           ┆           ┆           │\n",
       "│ e8…        ┆          ┆            ┆            ┆            ┆           ┆           ┆           │\n",
       "│ 542594d1a4 ┆ 2        ┆ 2          ┆ 375        ┆ 378        ┆ 4         ┆ 1.0       ┆ 0.5       │\n",
       "│ c07302ac03 ┆          ┆            ┆            ┆            ┆           ┆           ┆           │\n",
       "│ c0e9e266f2 ┆          ┆            ┆            ┆            ┆           ┆           ┆           │\n",
       "│ 08…        ┆          ┆            ┆            ┆            ┆           ┆           ┆           │\n",
       "│ …          ┆ …        ┆ …          ┆ …          ┆ …          ┆ …         ┆ …         ┆ …         │\n",
       "│ b7a256f621 ┆ 1        ┆ 1          ┆ 602        ┆ 602        ┆ 1         ┆ 1.0       ┆ 1.0       │\n",
       "│ 5c3c55933f ┆          ┆            ┆            ┆            ┆           ┆           ┆           │\n",
       "│ f26638a9bf ┆          ┆            ┆            ┆            ┆           ┆           ┆           │\n",
       "│ 0d…        ┆          ┆            ┆            ┆            ┆           ┆           ┆           │\n",
       "│ bc65bfb437 ┆ 1        ┆ 1          ┆ 560        ┆ 560        ┆ 1         ┆ 1.0       ┆ 1.0       │\n",
       "│ cceee4b35d ┆          ┆            ┆            ┆            ┆           ┆           ┆           │\n",
       "│ ee1e4c3c57 ┆          ┆            ┆            ┆            ┆           ┆           ┆           │\n",
       "│ b2…        ┆          ┆            ┆            ┆            ┆           ┆           ┆           │\n",
       "│ 0cfe8d1592 ┆ 4        ┆ 4          ┆ 434        ┆ 589        ┆ 156       ┆ 1.0       ┆ 0.025641  │\n",
       "│ 523d19e3b8 ┆          ┆            ┆            ┆            ┆           ┆           ┆           │\n",
       "│ a71867e058 ┆          ┆            ┆            ┆            ┆           ┆           ┆           │\n",
       "│ f0…        ┆          ┆            ┆            ┆            ┆           ┆           ┆           │\n",
       "│ 00406f25da ┆ 1        ┆ 1          ┆ 568        ┆ 568        ┆ 1         ┆ 1.0       ┆ 1.0       │\n",
       "│ 787aca534d ┆          ┆            ┆            ┆            ┆           ┆           ┆           │\n",
       "│ 710213a5ff ┆          ┆            ┆            ┆            ┆           ┆           ┆           │\n",
       "│ b3…        ┆          ┆            ┆            ┆            ┆           ┆           ┆           │\n",
       "└────────────┴──────────┴────────────┴────────────┴────────────┴───────────┴───────────┴───────────┘"
      ]
     },
     "execution_count": 7,
     "metadata": {},
     "output_type": "execute_result"
    }
   ],
   "source": [
    "train_features = make_features(train_dial, mon)\n",
    "train_features"
   ]
  },
  {
   "cell_type": "code",
   "execution_count": 8,
   "id": "dc06ac88",
   "metadata": {},
   "outputs": [
    {
     "data": {
      "text/html": [
       "<div><style>\n",
       ".dataframe > thead > tr > th,\n",
       ".dataframe > tbody > tr > td {\n",
       "  text-align: right;\n",
       "  white-space: pre-wrap;\n",
       "}\n",
       "</style>\n",
       "<small>shape: (70_075, 8)</small><table border=\"1\" class=\"dataframe\"><thead><tr><th>client_id</th><th>dial_cnt</th><th>dial_uniq_days</th><th>dial_first_day</th><th>dial_last_day</th><th>dial_len_period</th><th>dial_cnt_per_day</th><th>dial_density</th></tr><tr><td>str</td><td>u32</td><td>u32</td><td>i64</td><td>i64</td><td>i64</td><td>f64</td><td>f64</td></tr></thead><tbody><tr><td>&quot;95d58177b3898f…</td><td>1</td><td>1</td><td>619</td><td>619</td><td>1</td><td>1.0</td><td>1.0</td></tr><tr><td>&quot;bc7045aee5f443…</td><td>2</td><td>2</td><td>369</td><td>495</td><td>127</td><td>1.0</td><td>0.015748</td></tr><tr><td>&quot;810f011714081d…</td><td>1</td><td>1</td><td>418</td><td>418</td><td>1</td><td>1.0</td><td>1.0</td></tr><tr><td>&quot;d983062355163c…</td><td>2</td><td>2</td><td>521</td><td>548</td><td>28</td><td>1.0</td><td>0.071429</td></tr><tr><td>&quot;7ea7c3186613a7…</td><td>3</td><td>3</td><td>545</td><td>635</td><td>91</td><td>1.0</td><td>0.032967</td></tr><tr><td>&quot;7cd728b5c5be88…</td><td>2</td><td>2</td><td>457</td><td>469</td><td>13</td><td>1.0</td><td>0.153846</td></tr><tr><td>&quot;5dd4a0a01b1572…</td><td>9</td><td>9</td><td>365</td><td>572</td><td>208</td><td>1.0</td><td>0.043269</td></tr><tr><td>&quot;d18ff1ed03664b…</td><td>1</td><td>1</td><td>534</td><td>534</td><td>1</td><td>1.0</td><td>1.0</td></tr><tr><td>&quot;60c8036f581cd4…</td><td>3</td><td>2</td><td>618</td><td>635</td><td>18</td><td>1.5</td><td>0.166667</td></tr><tr><td>&quot;ce207ecae6c1f1…</td><td>1</td><td>1</td><td>577</td><td>577</td><td>1</td><td>1.0</td><td>1.0</td></tr><tr><td>&quot;840c40df01900d…</td><td>2</td><td>2</td><td>542</td><td>627</td><td>86</td><td>1.0</td><td>0.023256</td></tr><tr><td>&quot;50c7bfed62a297…</td><td>1</td><td>1</td><td>600</td><td>600</td><td>1</td><td>1.0</td><td>1.0</td></tr><tr><td>&hellip;</td><td>&hellip;</td><td>&hellip;</td><td>&hellip;</td><td>&hellip;</td><td>&hellip;</td><td>&hellip;</td><td>&hellip;</td></tr><tr><td>&quot;056adb1b1f3a93…</td><td>1</td><td>1</td><td>611</td><td>611</td><td>1</td><td>1.0</td><td>1.0</td></tr><tr><td>&quot;1534753b1b336c…</td><td>1</td><td>1</td><td>370</td><td>370</td><td>1</td><td>1.0</td><td>1.0</td></tr><tr><td>&quot;44ec2fd6c02c15…</td><td>2</td><td>2</td><td>626</td><td>637</td><td>12</td><td>1.0</td><td>0.166667</td></tr><tr><td>&quot;179927abffe984…</td><td>3</td><td>3</td><td>497</td><td>599</td><td>103</td><td>1.0</td><td>0.029126</td></tr><tr><td>&quot;8ddc60ebfd28a8…</td><td>1</td><td>1</td><td>548</td><td>548</td><td>1</td><td>1.0</td><td>1.0</td></tr><tr><td>&quot;bfc73160758edf…</td><td>2</td><td>2</td><td>587</td><td>597</td><td>11</td><td>1.0</td><td>0.181818</td></tr><tr><td>&quot;b2e573a1ca8185…</td><td>9</td><td>8</td><td>544</td><td>583</td><td>40</td><td>1.125</td><td>0.225</td></tr><tr><td>&quot;79c239c5919426…</td><td>1</td><td>1</td><td>595</td><td>595</td><td>1</td><td>1.0</td><td>1.0</td></tr><tr><td>&quot;f1b0673c81775a…</td><td>3</td><td>3</td><td>596</td><td>603</td><td>8</td><td>1.0</td><td>0.375</td></tr><tr><td>&quot;e4aca1dd12a73b…</td><td>2</td><td>2</td><td>450</td><td>474</td><td>25</td><td>1.0</td><td>0.08</td></tr><tr><td>&quot;804c320d64c780…</td><td>1</td><td>1</td><td>522</td><td>522</td><td>1</td><td>1.0</td><td>1.0</td></tr><tr><td>&quot;2563d31b5e7d5f…</td><td>8</td><td>7</td><td>411</td><td>510</td><td>100</td><td>1.142857</td><td>0.08</td></tr></tbody></table></div>"
      ],
      "text/plain": [
       "shape: (70_075, 8)\n",
       "┌────────────┬──────────┬────────────┬────────────┬────────────┬───────────┬───────────┬───────────┐\n",
       "│ client_id  ┆ dial_cnt ┆ dial_uniq_ ┆ dial_first ┆ dial_last_ ┆ dial_len_ ┆ dial_cnt_ ┆ dial_dens │\n",
       "│ ---        ┆ ---      ┆ days       ┆ _day       ┆ day        ┆ period    ┆ per_day   ┆ ity       │\n",
       "│ str        ┆ u32      ┆ ---        ┆ ---        ┆ ---        ┆ ---       ┆ ---       ┆ ---       │\n",
       "│            ┆          ┆ u32        ┆ i64        ┆ i64        ┆ i64       ┆ f64       ┆ f64       │\n",
       "╞════════════╪══════════╪════════════╪════════════╪════════════╪═══════════╪═══════════╪═══════════╡\n",
       "│ 95d58177b3 ┆ 1        ┆ 1          ┆ 619        ┆ 619        ┆ 1         ┆ 1.0       ┆ 1.0       │\n",
       "│ 898f7a86bd ┆          ┆            ┆            ┆            ┆           ┆           ┆           │\n",
       "│ f79b39f071 ┆          ┆            ┆            ┆            ┆           ┆           ┆           │\n",
       "│ 9c…        ┆          ┆            ┆            ┆            ┆           ┆           ┆           │\n",
       "│ bc7045aee5 ┆ 2        ┆ 2          ┆ 369        ┆ 495        ┆ 127       ┆ 1.0       ┆ 0.015748  │\n",
       "│ f4430bd9e8 ┆          ┆            ┆            ┆            ┆           ┆           ┆           │\n",
       "│ 7618cbca8a ┆          ┆            ┆            ┆            ┆           ┆           ┆           │\n",
       "│ eb…        ┆          ┆            ┆            ┆            ┆           ┆           ┆           │\n",
       "│ 810f011714 ┆ 1        ┆ 1          ┆ 418        ┆ 418        ┆ 1         ┆ 1.0       ┆ 1.0       │\n",
       "│ 081d077d34 ┆          ┆            ┆            ┆            ┆           ┆           ┆           │\n",
       "│ 583333f19b ┆          ┆            ┆            ┆            ┆           ┆           ┆           │\n",
       "│ 6c…        ┆          ┆            ┆            ┆            ┆           ┆           ┆           │\n",
       "│ d983062355 ┆ 2        ┆ 2          ┆ 521        ┆ 548        ┆ 28        ┆ 1.0       ┆ 0.071429  │\n",
       "│ 163cb65de1 ┆          ┆            ┆            ┆            ┆           ┆           ┆           │\n",
       "│ f90e6ecde5 ┆          ┆            ┆            ┆            ┆           ┆           ┆           │\n",
       "│ 44…        ┆          ┆            ┆            ┆            ┆           ┆           ┆           │\n",
       "│ …          ┆ …        ┆ …          ┆ …          ┆ …          ┆ …         ┆ …         ┆ …         │\n",
       "│ f1b0673c81 ┆ 3        ┆ 3          ┆ 596        ┆ 603        ┆ 8         ┆ 1.0       ┆ 0.375     │\n",
       "│ 775a6240d0 ┆          ┆            ┆            ┆            ┆           ┆           ┆           │\n",
       "│ eac99346db ┆          ┆            ┆            ┆            ┆           ┆           ┆           │\n",
       "│ 0b…        ┆          ┆            ┆            ┆            ┆           ┆           ┆           │\n",
       "│ e4aca1dd12 ┆ 2        ┆ 2          ┆ 450        ┆ 474        ┆ 25        ┆ 1.0       ┆ 0.08      │\n",
       "│ a73b11e6e2 ┆          ┆            ┆            ┆            ┆           ┆           ┆           │\n",
       "│ 3a6a8ea338 ┆          ┆            ┆            ┆            ┆           ┆           ┆           │\n",
       "│ 7c…        ┆          ┆            ┆            ┆            ┆           ┆           ┆           │\n",
       "│ 804c320d64 ┆ 1        ┆ 1          ┆ 522        ┆ 522        ┆ 1         ┆ 1.0       ┆ 1.0       │\n",
       "│ c7801ed602 ┆          ┆            ┆            ┆            ┆           ┆           ┆           │\n",
       "│ 9f81e5539b ┆          ┆            ┆            ┆            ┆           ┆           ┆           │\n",
       "│ ff…        ┆          ┆            ┆            ┆            ┆           ┆           ┆           │\n",
       "│ 2563d31b5e ┆ 8        ┆ 7          ┆ 411        ┆ 510        ┆ 100       ┆ 1.142857  ┆ 0.08      │\n",
       "│ 7d5faf06ee ┆          ┆            ┆            ┆            ┆           ┆           ┆           │\n",
       "│ 3ce342bad4 ┆          ┆            ┆            ┆            ┆           ┆           ┆           │\n",
       "│ 0d…        ┆          ┆            ┆            ┆            ┆           ┆           ┆           │\n",
       "└────────────┴──────────┴────────────┴────────────┴────────────┴───────────┴───────────┴───────────┘"
      ]
     },
     "execution_count": 8,
     "metadata": {},
     "output_type": "execute_result"
    }
   ],
   "source": [
    "val_features = make_features(val_dial, mon)\n",
    "val_features"
   ]
  },
  {
   "cell_type": "code",
   "execution_count": 9,
   "id": "d68aec6c",
   "metadata": {},
   "outputs": [],
   "source": [
    "train_features.write_parquet(f\"./features/train_dial_features_{mon}.pq\")\n",
    "val_features.write_parquet(f\"./features/val_dial_features_{mon}.pq\")"
   ]
  }
 ],
 "metadata": {
  "kernelspec": {
   "display_name": "Python 3 (ipykernel)",
   "language": "python",
   "name": "python3"
  },
  "language_info": {
   "codemirror_mode": {
    "name": "ipython",
    "version": 3
   },
   "file_extension": ".py",
   "mimetype": "text/x-python",
   "name": "python",
   "nbconvert_exporter": "python",
   "pygments_lexer": "ipython3",
   "version": "3.8.13"
  }
 },
 "nbformat": 4,
 "nbformat_minor": 5
}
