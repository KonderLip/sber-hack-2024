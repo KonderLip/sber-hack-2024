{
 "cells": [
  {
   "cell_type": "markdown",
   "id": "482ea76b950b4c3b",
   "metadata": {},
   "source": [
    "# Libraries"
   ]
  },
  {
   "cell_type": "code",
   "execution_count": 1,
   "id": "7674b3ec",
   "metadata": {},
   "outputs": [],
   "source": [
    "import warnings\n",
    "\n",
    "warnings.filterwarnings(\"ignore\")"
   ]
  },
  {
   "cell_type": "code",
   "execution_count": 2,
   "id": "7f3fec06940938d6",
   "metadata": {},
   "outputs": [],
   "source": [
    "import gc\n",
    "import os\n",
    "\n",
    "from datetime import datetime\n",
    "from functools import partial\n",
    "from tqdm.auto import tqdm\n",
    "\n",
    "import polars as pl\n",
    "\n",
    "import torch\n",
    "import pytorch_lightning\n",
    "from torch import nn\n",
    "from torchinfo import summary\n",
    "from pytorch_lightning.loggers import WandbLogger\n",
    "\n",
    "from ptls.nn import TrxEncoder, PBL2Norm, PBLayerNorm, RnnSeqEncoder\n",
    "from ptls.frames.supervised import SeqToTargetDataset, SequenceToTarget\n",
    "from ptls.frames import PtlsDataModule\n",
    "\n",
    "from src.config import MONTHS, N_CHUNKS\n",
    "from src.preprocessing import PolarsDataPreprocessor\n",
    "from src.utils import prepare_data, to_records, init_weights\n",
    "from src.metric import AUROC\n",
    "from build_chunks import train_clients"
   ]
  },
  {
   "cell_type": "code",
   "execution_count": 3,
   "id": "24c0c11295e01422",
   "metadata": {},
   "outputs": [
    {
     "name": "stderr",
     "output_type": "stream",
     "text": [
      "Global seed set to 56\n"
     ]
    },
    {
     "data": {
      "text/plain": [
       "56"
      ]
     },
     "execution_count": 3,
     "metadata": {},
     "output_type": "execute_result"
    }
   ],
   "source": [
    "pl.set_random_seed(56)\n",
    "pytorch_lightning.seed_everything(56)"
   ]
  },
  {
   "cell_type": "markdown",
   "id": "db3180885a24b2b7",
   "metadata": {},
   "source": [
    "# Data"
   ]
  },
  {
   "cell_type": "markdown",
   "id": "aeb1774e",
   "metadata": {},
   "source": [
    "целевой месяц"
   ]
  },
  {
   "cell_type": "code",
   "execution_count": 4,
   "id": "ea601dc298f065d4",
   "metadata": {},
   "outputs": [],
   "source": [
    "MON = 10"
   ]
  },
  {
   "cell_type": "markdown",
   "id": "d754aae122a3e939",
   "metadata": {},
   "source": [
    "объединим одинаковые подряд идущие действия в одно"
   ]
  },
  {
   "cell_type": "code",
   "execution_count": 5,
   "id": "b7157165afe49790",
   "metadata": {},
   "outputs": [],
   "source": [
    "def unite(data):\n",
    "    cols = [\n",
    "        \"day_ind\", \"event_type\", \"event_subtype\", \"currency\", \"src_type11\", \"src_type12\", \"dst_type11\", \"dst_type12\"\n",
    "    ]\n",
    "    data = data.sort(\"event_time\")\n",
    "    data = data.with_columns(\n",
    "        [pl.col(col).fill_null(-1) for col in cols]\n",
    "    )\n",
    "    data = data.with_columns(\n",
    "        [(pl.col(col) != pl.col(col).shift(1).over(\"client_id\")).fill_null(False).alias(f\"flag_{col}\") for col in cols]\n",
    "    )\n",
    "    flag = False\n",
    "    for col in cols:\n",
    "        flag |= data[f\"flag_{col}\"]\n",
    "    data = data.with_columns(flag=flag)\n",
    "    data = data.with_columns(group_id=pl.col(\"flag\").cumsum().over(\"client_id\"))\n",
    "    return (\n",
    "        data\n",
    "        .group_by((\"client_id\", \"group_id\"), maintain_order=True)\n",
    "        .agg(\n",
    "            pl.col(\"event_time\").mean(),  # положим средний момент времени, когда были выполнены транзакции\n",
    "            pl.col(\"amount\").sum(),  # положим общую сумму транзакций\n",
    "            pl.col(\"event_type\").first(),\n",
    "            pl.col(\"event_subtype\").first(),\n",
    "            pl.col(\"currency\").first(),\n",
    "            pl.col(\"src_type11\").first(),\n",
    "            pl.col(\"src_type12\").first(),\n",
    "            pl.col(\"dst_type11\").first(),\n",
    "            pl.col(\"dst_type12\").first(),\n",
    "            pl.col(\"src_type21\").first(),\n",
    "            pl.col(\"src_type22\").first(),\n",
    "            pl.col(\"src_type31\").first(),\n",
    "            pl.col(\"src_type32\").first(),\n",
    "            pl.col(\"mon_ind\").first(),\n",
    "            pl.col(\"day_ind\").first(),\n",
    "        )\n",
    "        .drop(\"group_id\")\n",
    "    )"
   ]
  },
  {
   "cell_type": "markdown",
   "id": "591c2816cf0fe393",
   "metadata": {},
   "source": [
    "## Prepare data preprocessor"
   ]
  },
  {
   "cell_type": "markdown",
   "id": "e2ab51e1518b9a1a",
   "metadata": {},
   "source": [
    "`src_type21`, `src_type22`, `src_type31`, `src_type32` — одинаковые для одного пользователя, при этом `src_type22` и `src_type32` значительно улучшают качество, а `src_type21` и `src_type31` — ухудшают"
   ]
  },
  {
   "cell_type": "code",
   "execution_count": 6,
   "id": "6e9dc09b00f27c96",
   "metadata": {},
   "outputs": [],
   "source": [
    "trx_preprocessor = PolarsDataPreprocessor(\n",
    "    col_id=\"client_id\",\n",
    "    col_event_time=\"event_time\",\n",
    "    cols_category=[\n",
    "        \"mon_ind\", \"day_ind\",\n",
    "        \"event_type\", \"event_subtype\",\n",
    "        \"currency\",\n",
    "        \"src_type11\", \"src_type12\", \"dst_type11\", \"dst_type12\",\n",
    "        \"src_type22\", \"src_type32\",\n",
    "    ],\n",
    ")"
   ]
  },
  {
   "cell_type": "code",
   "execution_count": 7,
   "id": "657a970cc37a5d4f",
   "metadata": {},
   "outputs": [
    {
     "data": {
      "text/html": [
       "<div><style>\n",
       ".dataframe > thead > tr > th,\n",
       ".dataframe > tbody > tr > td {\n",
       "  text-align: right;\n",
       "  white-space: pre-wrap;\n",
       "}\n",
       "</style>\n",
       "<small>shape: (5, 2)</small><table border=\"1\" class=\"dataframe\"><thead><tr><th>client_id</th><th>target</th></tr><tr><td>str</td><td>list[i32]</td></tr></thead><tbody><tr><td>&quot;1d4ebf30ab5b98…</td><td>[0, 0, … 0]</td></tr><tr><td>&quot;1d55174bce3ef4…</td><td>[0, 0, … 0]</td></tr><tr><td>&quot;1d5d052f87d6bd…</td><td>[0, 0, … 0]</td></tr><tr><td>&quot;1d68b588164639…</td><td>[0, 0, … 0]</td></tr><tr><td>&quot;1d817e82e1cc59…</td><td>[0, 0, … 0]</td></tr></tbody></table></div>"
      ],
      "text/plain": [
       "shape: (5, 2)\n",
       "┌───────────────────────────────────┬─────────────┐\n",
       "│ client_id                         ┆ target      │\n",
       "│ ---                               ┆ ---         │\n",
       "│ str                               ┆ list[i32]   │\n",
       "╞═══════════════════════════════════╪═════════════╡\n",
       "│ 1d4ebf30ab5b981c60a6596e8daa4bdc… ┆ [0, 0, … 0] │\n",
       "│ 1d55174bce3ef488233380aca206ca2f… ┆ [0, 0, … 0] │\n",
       "│ 1d5d052f87d6bd22a30b5df160fffdcd… ┆ [0, 0, … 0] │\n",
       "│ 1d68b588164639d64879b33da867818e… ┆ [0, 0, … 0] │\n",
       "│ 1d817e82e1cc594e32e10217b716faa3… ┆ [0, 0, … 0] │\n",
       "└───────────────────────────────────┴─────────────┘"
      ]
     },
     "execution_count": 7,
     "metadata": {},
     "output_type": "execute_result"
    }
   ],
   "source": [
    "train_target = pl.read_parquet(\"./data/train_target.parquet/*\")\n",
    "train_target = train_target.filter(pl.col(\"mon\") == MONTHS[MON])\n",
    "train_target = train_target.with_columns(target=pl.concat_list([f\"target_{i}\" for i in range(1, 5)]))\n",
    "train_target = train_target.select((\"client_id\", \"target\"))\n",
    "train_target.head()"
   ]
  },
  {
   "cell_type": "markdown",
   "id": "8d812733",
   "metadata": {},
   "source": [
    "считаем счетчики для категориальных признаков"
   ]
  },
  {
   "cell_type": "code",
   "execution_count": 8,
   "id": "d3905ff738de6dd8",
   "metadata": {},
   "outputs": [
    {
     "data": {
      "application/vnd.jupyter.widget-view+json": {
       "model_id": "",
       "version_major": 2,
       "version_minor": 0
      },
      "text/plain": [
       "  0%|          | 0/8 [00:00<?, ?it/s]"
      ]
     },
     "metadata": {},
     "output_type": "display_data"
    }
   ],
   "source": [
    "%%time\n",
    "\n",
    "source = \"./data/chunks/trx_train.parquet/\"\n",
    "for file in tqdm(os.listdir(source)):\n",
    "    train_trx = pl.read_parquet(os.path.join(source, file))\n",
    "    train_trx = train_trx.filter(pl.col(\"event_time\") < datetime.strptime(MONTHS[MON], \"%Y-%m-%d\").replace(day=1))\n",
    "    train_trx = train_trx.filter(pl.col(\"client_id\").is_in(train_target[\"client_id\"]))\n",
    "    train_trx = prepare_data(train_trx)\n",
    "    train_trx = unite(train_trx)\n",
    "    trx_preprocessor.fit(train_trx)"
   ]
  },
  {
   "cell_type": "markdown",
   "id": "b2509c6d",
   "metadata": {},
   "source": [
    "создаем словари"
   ]
  },
  {
   "cell_type": "code",
   "execution_count": 9,
   "id": "49da2d8091e7c9ff",
   "metadata": {},
   "outputs": [
    {
     "data": {
      "text/plain": [
       "<src.preprocessing.PolarsDataPreprocessor at 0x2283dcbdca0>"
      ]
     },
     "execution_count": 9,
     "metadata": {},
     "output_type": "execute_result"
    }
   ],
   "source": [
    "trx_preprocessor.freeze()"
   ]
  },
  {
   "cell_type": "markdown",
   "id": "fba9fec32a14ab5a",
   "metadata": {},
   "source": [
    "## Prepare val data"
   ]
  },
  {
   "cell_type": "code",
   "execution_count": 10,
   "id": "579de845667930b5",
   "metadata": {},
   "outputs": [
    {
     "data": {
      "text/html": [
       "<div><style>\n",
       ".dataframe > thead > tr > th,\n",
       ".dataframe > tbody > tr > td {\n",
       "  text-align: right;\n",
       "  white-space: pre-wrap;\n",
       "}\n",
       "</style>\n",
       "<small>shape: (5, 2)</small><table border=\"1\" class=\"dataframe\"><thead><tr><th>client_id</th><th>target</th></tr><tr><td>str</td><td>list[i32]</td></tr></thead><tbody><tr><td>&quot;581cdd678867bb…</td><td>[0, 0, … 0]</td></tr><tr><td>&quot;b32e9c14b572f2…</td><td>[0, 0, … 0]</td></tr><tr><td>&quot;12d1d490206e23…</td><td>[0, 0, … 0]</td></tr><tr><td>&quot;75b2572752044c…</td><td>[0, 0, … 0]</td></tr><tr><td>&quot;1ae27bb78f3530…</td><td>[0, 0, … 0]</td></tr></tbody></table></div>"
      ],
      "text/plain": [
       "shape: (5, 2)\n",
       "┌───────────────────────────────────┬─────────────┐\n",
       "│ client_id                         ┆ target      │\n",
       "│ ---                               ┆ ---         │\n",
       "│ str                               ┆ list[i32]   │\n",
       "╞═══════════════════════════════════╪═════════════╡\n",
       "│ 581cdd678867bb73426dcb7b7fbb3d5a… ┆ [0, 0, … 0] │\n",
       "│ b32e9c14b572f215975dfd41a5e6546f… ┆ [0, 0, … 0] │\n",
       "│ 12d1d490206e236d969b930fcc72300a… ┆ [0, 0, … 0] │\n",
       "│ 75b2572752044c4c86b7d090b1a4c2a0… ┆ [0, 0, … 0] │\n",
       "│ 1ae27bb78f3530e3b288aea86d729e10… ┆ [0, 0, … 0] │\n",
       "└───────────────────────────────────┴─────────────┘"
      ]
     },
     "execution_count": 10,
     "metadata": {},
     "output_type": "execute_result"
    }
   ],
   "source": [
    "val_target = pl.read_parquet(\"./data/test_target_b.parquet/*\").unique()\n",
    "val_target = val_target.filter(pl.col(\"mon\") == MONTHS[MON])\n",
    "val_target = val_target.with_columns(target=pl.concat_list([f\"target_{i}\" for i in range(1, 5)]))\n",
    "val_target = val_target.select((\"client_id\", \"target\"))\n",
    "val_target.head()"
   ]
  },
  {
   "cell_type": "code",
   "execution_count": 11,
   "id": "6a1c451289870feb",
   "metadata": {},
   "outputs": [
    {
     "data": {
      "application/vnd.jupyter.widget-view+json": {
       "model_id": "",
       "version_major": 2,
       "version_minor": 0
      },
      "text/plain": [
       "  0%|          | 0/3 [00:00<?, ?it/s]"
      ]
     },
     "metadata": {},
     "output_type": "display_data"
    },
    {
     "data": {
      "text/html": [
       "<div><style>\n",
       ".dataframe > thead > tr > th,\n",
       ".dataframe > tbody > tr > td {\n",
       "  text-align: right;\n",
       "  white-space: pre-wrap;\n",
       "}\n",
       "</style>\n",
       "<small>shape: (5, 16)</small><table border=\"1\" class=\"dataframe\"><thead><tr><th>client_id</th><th>event_time</th><th>amount</th><th>event_type</th><th>event_subtype</th><th>currency</th><th>src_type11</th><th>src_type12</th><th>dst_type11</th><th>dst_type12</th><th>src_type21</th><th>src_type22</th><th>src_type31</th><th>src_type32</th><th>mon_ind</th><th>day_ind</th></tr><tr><td>str</td><td>f64</td><td>f32</td><td>i32</td><td>i32</td><td>i32</td><td>i32</td><td>i32</td><td>i32</td><td>i32</td><td>i32</td><td>i32</td><td>i32</td><td>i32</td><td>i64</td><td>i64</td></tr></thead><tbody><tr><td>&quot;72165b9123a68d…</td><td>3.15252e7</td><td>1363.118042</td><td>54</td><td>8</td><td>11</td><td>70</td><td>201</td><td>1171</td><td>23776</td><td>46241</td><td>15</td><td>1323</td><td>25</td><td>11</td><td>364</td></tr><tr><td>&quot;d4cdf7c3849920…</td><td>3.1525206e7</td><td>9923.888672</td><td>37</td><td>18</td><td>11</td><td>19</td><td>902</td><td>852</td><td>14606</td><td>11174</td><td>39</td><td>1474</td><td>39</td><td>11</td><td>364</td></tr><tr><td>&quot;72165b9123a68d…</td><td>3.1525211e7</td><td>936.750793</td><td>54</td><td>55</td><td>11</td><td>70</td><td>201</td><td>1171</td><td>23776</td><td>46241</td><td>15</td><td>1323</td><td>25</td><td>11</td><td>364</td></tr><tr><td>&quot;59594460508b42…</td><td>3.1525218e7</td><td>50.728539</td><td>40</td><td>51</td><td>11</td><td>72</td><td>280</td><td>433</td><td>10049</td><td>46241</td><td>15</td><td>623</td><td>81</td><td>11</td><td>364</td></tr><tr><td>&quot;7b26eb6a9135e7…</td><td>3.1525225e7</td><td>1924.053467</td><td>16</td><td>31</td><td>11</td><td>19</td><td>344</td><td>813</td><td>18723</td><td>30859</td><td>87</td><td>536</td><td>81</td><td>11</td><td>364</td></tr></tbody></table></div>"
      ],
      "text/plain": [
       "shape: (5, 16)\n",
       "┌────────────┬────────────┬────────────┬───────────┬───┬───────────┬───────────┬─────────┬─────────┐\n",
       "│ client_id  ┆ event_time ┆ amount     ┆ event_typ ┆ … ┆ src_type3 ┆ src_type3 ┆ mon_ind ┆ day_ind │\n",
       "│ ---        ┆ ---        ┆ ---        ┆ e         ┆   ┆ 1         ┆ 2         ┆ ---     ┆ ---     │\n",
       "│ str        ┆ f64        ┆ f32        ┆ ---       ┆   ┆ ---       ┆ ---       ┆ i64     ┆ i64     │\n",
       "│            ┆            ┆            ┆ i32       ┆   ┆ i32       ┆ i32       ┆         ┆         │\n",
       "╞════════════╪════════════╪════════════╪═══════════╪═══╪═══════════╪═══════════╪═════════╪═════════╡\n",
       "│ 72165b9123 ┆ 3.15252e7  ┆ 1363.11804 ┆ 54        ┆ … ┆ 1323      ┆ 25        ┆ 11      ┆ 364     │\n",
       "│ a68d643549 ┆            ┆ 2          ┆           ┆   ┆           ┆           ┆         ┆         │\n",
       "│ 1e1e17fefb ┆            ┆            ┆           ┆   ┆           ┆           ┆         ┆         │\n",
       "│ 16…        ┆            ┆            ┆           ┆   ┆           ┆           ┆         ┆         │\n",
       "│ d4cdf7c384 ┆ 3.1525206e ┆ 9923.88867 ┆ 37        ┆ … ┆ 1474      ┆ 39        ┆ 11      ┆ 364     │\n",
       "│ 9920ad412c ┆ 7          ┆ 2          ┆           ┆   ┆           ┆           ┆         ┆         │\n",
       "│ 18e84d290d ┆            ┆            ┆           ┆   ┆           ┆           ┆         ┆         │\n",
       "│ e7…        ┆            ┆            ┆           ┆   ┆           ┆           ┆         ┆         │\n",
       "│ 72165b9123 ┆ 3.1525211e ┆ 936.750793 ┆ 54        ┆ … ┆ 1323      ┆ 25        ┆ 11      ┆ 364     │\n",
       "│ a68d643549 ┆ 7          ┆            ┆           ┆   ┆           ┆           ┆         ┆         │\n",
       "│ 1e1e17fefb ┆            ┆            ┆           ┆   ┆           ┆           ┆         ┆         │\n",
       "│ 16…        ┆            ┆            ┆           ┆   ┆           ┆           ┆         ┆         │\n",
       "│ 5959446050 ┆ 3.1525218e ┆ 50.728539  ┆ 40        ┆ … ┆ 623       ┆ 81        ┆ 11      ┆ 364     │\n",
       "│ 8b42f37843 ┆ 7          ┆            ┆           ┆   ┆           ┆           ┆         ┆         │\n",
       "│ cd60714bb8 ┆            ┆            ┆           ┆   ┆           ┆           ┆         ┆         │\n",
       "│ c0…        ┆            ┆            ┆           ┆   ┆           ┆           ┆         ┆         │\n",
       "│ 7b26eb6a91 ┆ 3.1525225e ┆ 1924.05346 ┆ 16        ┆ … ┆ 536       ┆ 81        ┆ 11      ┆ 364     │\n",
       "│ 35e790d9c1 ┆ 7          ┆ 7          ┆           ┆   ┆           ┆           ┆         ┆         │\n",
       "│ a00fa3dea8 ┆            ┆            ┆           ┆   ┆           ┆           ┆         ┆         │\n",
       "│ 9b…        ┆            ┆            ┆           ┆   ┆           ┆           ┆         ┆         │\n",
       "└────────────┴────────────┴────────────┴───────────┴───┴───────────┴───────────┴─────────┴─────────┘"
      ]
     },
     "execution_count": 11,
     "metadata": {},
     "output_type": "execute_result"
    }
   ],
   "source": [
    "source = \"./data/trx_test.parquet/\"\n",
    "val_trx = []\n",
    "for file in tqdm(os.listdir(source)):\n",
    "    cur = pl.read_parquet(os.path.join(source, file))\n",
    "    cur = cur.filter(pl.col(\"event_time\") < datetime.strptime(MONTHS[MON], \"%Y-%m-%d\").replace(day=1))\n",
    "    cur = cur.filter(pl.col(\"client_id\").is_in(val_target[\"client_id\"]))\n",
    "    val_trx.append(cur)\n",
    "val_trx = pl.concat(val_trx)\n",
    "val_trx = prepare_data(val_trx)\n",
    "val_trx = unite(val_trx)\n",
    "print(val_trx.shape)\n",
    "val_trx.head()"
   ]
  },
  {
   "cell_type": "code",
   "execution_count": 12,
   "id": "86b3c73b33fc59b5",
   "metadata": {},
   "outputs": [
    {
     "data": {
      "text/plain": [
       "48877"
      ]
     },
     "execution_count": 12,
     "metadata": {},
     "output_type": "execute_result"
    }
   ],
   "source": [
    "val_trx = trx_preprocessor.transform(val_trx)\n",
    "val_trx = val_trx.join(val_target, on=\"client_id\", how=\"outer\").sample(fraction=1.0, shuffle=True, seed=56)\n",
    "val_dict = to_records(val_trx)\n",
    "len(val_dict)"
   ]
  },
  {
   "cell_type": "code",
   "execution_count": 13,
   "id": "5237d00777780814",
   "metadata": {},
   "outputs": [],
   "source": [
    "val_data = SeqToTargetDataset(val_dict, target_col_name=\"target\", target_dtype=torch.float32)"
   ]
  },
  {
   "cell_type": "markdown",
   "id": "15c921da4ebb3d0e",
   "metadata": {},
   "source": [
    "# Model"
   ]
  },
  {
   "cell_type": "markdown",
   "id": "abf08838",
   "metadata": {},
   "source": [
    "модель состоит из трех частей:\n",
    "\n",
    "    1) кодировщик отдельной транзакции\n",
    "    2) кодировцик всей последовательности\n",
    "    3) классификационная голова"
   ]
  },
  {
   "cell_type": "code",
   "execution_count": 14,
   "id": "20a06b6548a44816",
   "metadata": {},
   "outputs": [],
   "source": [
    "HIDDEN_SIZE = 128\n",
    "NUM_CLASSES = 4"
   ]
  },
  {
   "cell_type": "markdown",
   "id": "fa19b3424e3ed5c2",
   "metadata": {},
   "source": [
    "## TrxEncoder"
   ]
  },
  {
   "cell_type": "code",
   "execution_count": 15,
   "id": "4905c4fae4e35d7d",
   "metadata": {},
   "outputs": [
    {
     "data": {
      "text/plain": [
       "{'mon_ind': 13,\n",
       " 'day_ind': 336,\n",
       " 'event_type': 56,\n",
       " 'event_subtype': 58,\n",
       " 'currency': 17,\n",
       " 'src_type11': 76,\n",
       " 'src_type12': 326,\n",
       " 'dst_type11': 77,\n",
       " 'dst_type12': 387,\n",
       " 'src_type22': 89,\n",
       " 'src_type32': 90}"
      ]
     },
     "execution_count": 15,
     "metadata": {},
     "output_type": "execute_result"
    }
   ],
   "source": [
    "trx_preprocessor.get_category_dictionary_sizes()"
   ]
  },
  {
   "cell_type": "code",
   "execution_count": 16,
   "id": "69cda0735ce85b07",
   "metadata": {},
   "outputs": [],
   "source": [
    "trx_base_encoder = TrxEncoder(\n",
    "    embeddings={\n",
    "        \"mon_ind\": {\"in\": 13, \"out\": 6},\n",
    "        \"day_ind\": {\"in\": 336, \"out\": 32},\n",
    "\n",
    "        \"event_type\": {\"in\": 56, \"out\": 16},\n",
    "        \"event_subtype\": {\"in\": 58, \"out\": 16},\n",
    "\n",
    "        \"currency\": {\"in\": 17, \"out\": 8},\n",
    "\n",
    "        \"src_type11\": {\"in\": 76, \"out\": 16},\n",
    "        \"src_type12\": {\"in\": 326, \"out\": 32},\n",
    "        \"dst_type11\": {\"in\": 77, \"out\": 16},\n",
    "        \"dst_type12\": {\"in\": 387, \"out\": 32},\n",
    "\n",
    "        \"src_type22\": {\"in\": 89, \"out\": 16},\n",
    "        \"src_type32\": {\"in\": 90, \"out\": 16},\n",
    "    },\n",
    "    linear_projection_size=128,\n",
    ")\n",
    "# важно добавить нормировку для эмбеддингов\n",
    "trx_encoder = nn.Sequential(trx_base_encoder, PBL2Norm(), PBLayerNorm(HIDDEN_SIZE))"
   ]
  },
  {
   "cell_type": "markdown",
   "id": "daa5ae48476e2ac2",
   "metadata": {},
   "source": [
    "## SeqEncoder"
   ]
  },
  {
   "cell_type": "code",
   "execution_count": 17,
   "id": "e4b5bb2c24edbde7",
   "metadata": {},
   "outputs": [],
   "source": [
    "seq_encoder = RnnSeqEncoder(\n",
    "    trx_encoder=trx_encoder,\n",
    "    input_size=HIDDEN_SIZE,\n",
    "    hidden_size=HIDDEN_SIZE,\n",
    ")"
   ]
  },
  {
   "cell_type": "markdown",
   "id": "6c37142bb270310",
   "metadata": {},
   "source": [
    "## Head"
   ]
  },
  {
   "cell_type": "markdown",
   "id": "cf445fd5",
   "metadata": {},
   "source": [
    "используем BCEWithLogitsLoss, поэтому в конце нет Sigmoid-ы"
   ]
  },
  {
   "cell_type": "code",
   "execution_count": 18,
   "id": "43cd94676fa96e3d",
   "metadata": {},
   "outputs": [],
   "source": [
    "head = nn.Sequential(\n",
    "    nn.Linear(HIDDEN_SIZE, HIDDEN_SIZE // 2),\n",
    "    nn.ReLU(),\n",
    "    nn.Linear(HIDDEN_SIZE // 2, NUM_CLASSES),\n",
    ")"
   ]
  },
  {
   "cell_type": "markdown",
   "id": "d24e24819975ebbe",
   "metadata": {},
   "source": [
    "## Framework"
   ]
  },
  {
   "cell_type": "code",
   "execution_count": 19,
   "id": "758d9153d284c47f",
   "metadata": {},
   "outputs": [],
   "source": [
    "sup_module = SequenceToTarget(\n",
    "    seq_encoder=seq_encoder,\n",
    "    head=head,\n",
    "    loss=nn.BCEWithLogitsLoss(),\n",
    "    metric_list=AUROC(NUM_CLASSES),\n",
    "    optimizer_partial=partial(torch.optim.AdamW, lr=1e-4),\n",
    "    lr_scheduler_partial=partial(torch.optim.lr_scheduler.ConstantLR, factor=1.0),  # заглушка, чтобы Lr не менялся\n",
    ")"
   ]
  },
  {
   "cell_type": "code",
   "execution_count": 20,
   "id": "72170b0f8bcdbd27",
   "metadata": {},
   "outputs": [
    {
     "data": {
      "text/plain": [
       "===========================================================================\n",
       "Layer (type:depth-idx)                             Param #\n",
       "===========================================================================\n",
       "SequenceToTarget                                   --\n",
       "├─RnnSeqEncoder: 1-1                               --\n",
       "│    └─Sequential: 2-1                             --\n",
       "│    │    └─TrxEncoder: 3-1                        67,414\n",
       "│    │    └─PBShell: 3-2                           --\n",
       "│    │    └─PBShell: 3-3                           256\n",
       "│    └─RnnEncoder: 2-2                             128\n",
       "│    │    └─GRU: 3-4                               99,072\n",
       "│    │    └─LastStepEncoder: 3-5                   --\n",
       "├─Sequential: 1-2                                  --\n",
       "│    └─Linear: 2-3                                 8,256\n",
       "│    └─ReLU: 2-4                                   --\n",
       "│    └─Linear: 2-5                                 260\n",
       "├─BCEWithLogitsLoss: 1-3                           --\n",
       "├─ModuleDict: 1-4                                  --\n",
       "│    └─AUROC: 2-6                                  --\n",
       "│    │    └─MultilabelAUROC: 3-6                   --\n",
       "├─ModuleDict: 1-5                                  --\n",
       "│    └─AUROC: 2-7                                  --\n",
       "│    │    └─MultilabelAUROC: 3-7                   --\n",
       "├─ModuleDict: 1-6                                  --\n",
       "│    └─AUROC: 2-8                                  --\n",
       "│    │    └─MultilabelAUROC: 3-8                   --\n",
       "===========================================================================\n",
       "Total params: 175,386\n",
       "Trainable params: 175,386\n",
       "Non-trainable params: 0\n",
       "==========================================================================="
      ]
     },
     "execution_count": 20,
     "metadata": {},
     "output_type": "execute_result"
    }
   ],
   "source": [
    "summary(sup_module)"
   ]
  },
  {
   "cell_type": "markdown",
   "id": "e2c9acb4d0ac4f6f",
   "metadata": {},
   "source": [
    "## Initialize the weights"
   ]
  },
  {
   "cell_type": "code",
   "execution_count": 21,
   "id": "631ac4c65e6dbee2",
   "metadata": {},
   "outputs": [],
   "source": [
    "for module in sup_module.seq_encoder.trx_encoder.modules():\n",
    "    init_weights(module, 1 / HIDDEN_SIZE ** 0.5)\n",
    "\n",
    "for module in sup_module.head.modules():\n",
    "    init_weights(module, 1 / HIDDEN_SIZE ** 0.5)"
   ]
  },
  {
   "cell_type": "markdown",
   "id": "5805c4a01cef1a25",
   "metadata": {},
   "source": [
    "# Train model"
   ]
  },
  {
   "cell_type": "code",
   "execution_count": 22,
   "id": "a0b43472f1c831cc",
   "metadata": {},
   "outputs": [
   ],
   "source": [
    "logger = WandbLogger()"
   ]
  },
  {
   "cell_type": "code",
   "execution_count": 23,
   "id": "8df3e70940b1b2a6",
   "metadata": {},
   "outputs": [],
   "source": [
    "EPOCHS = 2"
   ]
  },
  {
   "cell_type": "markdown",
   "id": "bff81387",
   "metadata": {},
   "source": [
    "каждую эпоху обучаем на каждом из чанков последовательно"
   ]
  },
  {
   "cell_type": "code",
   "execution_count": 24,
   "id": "5af58cebacb6530e",
   "metadata": {
    "scrolled": false
   },
   "outputs": [
    {
     "data": {
      "application/vnd.jupyter.widget-view+json": {
       "model_id": "10df00a9ed8649a9b0b961a3503cf8f8",
       "version_major": 2,
       "version_minor": 0
      },
      "text/plain": [
       "  0%|          | 0/2 [00:00<?, ?it/s]"
      ]
     },
     "metadata": {},
     "output_type": "display_data"
    },
    {
     "data": {
      "application/vnd.jupyter.widget-view+json": {
       "model_id": "8ad92398bc47402ebca42cc8ae1daf0f",
       "version_major": 2,
       "version_minor": 0
      },
      "text/plain": [
       "  0%|          | 0/8 [00:00<?, ?it/s]"
      ]
     },
     "metadata": {},
     "output_type": "display_data"
    },
    {
     "data": {
      "application/vnd.jupyter.widget-view+json": {
       "model_id": "",
       "version_major": 2,
       "version_minor": 0
      },
      "text/plain": [
       "Sanity Checking: 0it [00:00, ?it/s]"
      ]
     },
     "metadata": {},
     "output_type": "display_data"
    },
    {
     "data": {
      "application/vnd.jupyter.widget-view+json": {
       "model_id": "dcc4d997cd3f4678a09507091a0b25b9",
       "version_major": 2,
       "version_minor": 0
      },
      "text/plain": [
       "Training: 0it [00:00, ?it/s]"
      ]
     },
     "metadata": {},
     "output_type": "display_data"
    },
    {
     "data": {
      "application/vnd.jupyter.widget-view+json": {
       "model_id": "",
       "version_major": 2,
       "version_minor": 0
      },
      "text/plain": [
       "Validation: 0it [00:00, ?it/s]"
      ]
     },
     "metadata": {},
     "output_type": "display_data"
    },
    {
     "data": {
      "application/vnd.jupyter.widget-view+json": {
       "model_id": "",
       "version_major": 2,
       "version_minor": 0
      },
      "text/plain": [
       "Validation: 0it [00:00, ?it/s]"
      ]
     },
     "metadata": {},
     "output_type": "display_data"
    },
    {
     "data": {
      "application/vnd.jupyter.widget-view+json": {
       "model_id": "",
       "version_major": 2,
       "version_minor": 0
      },
      "text/plain": [
       "Sanity Checking: 0it [00:00, ?it/s]"
      ]
     },
     "metadata": {},
     "output_type": "display_data"
    },
    {
     "data": {
      "application/vnd.jupyter.widget-view+json": {
       "model_id": "8e555dfaeb44408caebe7c6143eaa39b",
       "version_major": 2,
       "version_minor": 0
      },
      "text/plain": [
       "Training: 0it [00:00, ?it/s]"
      ]
     },
     "metadata": {},
     "output_type": "display_data"
    },
    {
     "data": {
      "application/vnd.jupyter.widget-view+json": {
       "model_id": "",
       "version_major": 2,
       "version_minor": 0
      },
      "text/plain": [
       "Validation: 0it [00:00, ?it/s]"
      ]
     },
     "metadata": {},
     "output_type": "display_data"
    },
    {
     "data": {
      "application/vnd.jupyter.widget-view+json": {
       "model_id": "",
       "version_major": 2,
       "version_minor": 0
      },
      "text/plain": [
       "Validation: 0it [00:00, ?it/s]"
      ]
     },
     "metadata": {},
     "output_type": "display_data"
    },
    {
     "data": {
      "application/vnd.jupyter.widget-view+json": {
       "model_id": "",
       "version_major": 2,
       "version_minor": 0
      },
      "text/plain": [
       "Sanity Checking: 0it [00:00, ?it/s]"
      ]
     },
     "metadata": {},
     "output_type": "display_data"
    },
    {
     "data": {
      "application/vnd.jupyter.widget-view+json": {
       "model_id": "12d85d7dc565484fb660f235471462d1",
       "version_major": 2,
       "version_minor": 0
      },
      "text/plain": [
       "Training: 0it [00:00, ?it/s]"
      ]
     },
     "metadata": {},
     "output_type": "display_data"
    },
    {
     "data": {
      "application/vnd.jupyter.widget-view+json": {
       "model_id": "",
       "version_major": 2,
       "version_minor": 0
      },
      "text/plain": [
       "Validation: 0it [00:00, ?it/s]"
      ]
     },
     "metadata": {},
     "output_type": "display_data"
    },
    {
     "data": {
      "application/vnd.jupyter.widget-view+json": {
       "model_id": "",
       "version_major": 2,
       "version_minor": 0
      },
      "text/plain": [
       "Validation: 0it [00:00, ?it/s]"
      ]
     },
     "metadata": {},
     "output_type": "display_data"
    },
    {
     "data": {
      "application/vnd.jupyter.widget-view+json": {
       "model_id": "",
       "version_major": 2,
       "version_minor": 0
      },
      "text/plain": [
       "Sanity Checking: 0it [00:00, ?it/s]"
      ]
     },
     "metadata": {},
     "output_type": "display_data"
    },
    {
     "data": {
      "application/vnd.jupyter.widget-view+json": {
       "model_id": "6fe9ccdd777e40b58aba974930deca2a",
       "version_major": 2,
       "version_minor": 0
      },
      "text/plain": [
       "Training: 0it [00:00, ?it/s]"
      ]
     },
     "metadata": {},
     "output_type": "display_data"
    },
    {
     "data": {
      "application/vnd.jupyter.widget-view+json": {
       "model_id": "",
       "version_major": 2,
       "version_minor": 0
      },
      "text/plain": [
       "Validation: 0it [00:00, ?it/s]"
      ]
     },
     "metadata": {},
     "output_type": "display_data"
    },
    {
     "data": {
      "application/vnd.jupyter.widget-view+json": {
       "model_id": "",
       "version_major": 2,
       "version_minor": 0
      },
      "text/plain": [
       "Validation: 0it [00:00, ?it/s]"
      ]
     },
     "metadata": {},
     "output_type": "display_data"
    },
    {
     "data": {
      "application/vnd.jupyter.widget-view+json": {
       "model_id": "",
       "version_major": 2,
       "version_minor": 0
      },
      "text/plain": [
       "Sanity Checking: 0it [00:00, ?it/s]"
      ]
     },
     "metadata": {},
     "output_type": "display_data"
    },
    {
     "data": {
      "application/vnd.jupyter.widget-view+json": {
       "model_id": "1c0feff4ca0a466db05f76df9dd27e77",
       "version_major": 2,
       "version_minor": 0
      },
      "text/plain": [
       "Training: 0it [00:00, ?it/s]"
      ]
     },
     "metadata": {},
     "output_type": "display_data"
    },
    {
     "data": {
      "application/vnd.jupyter.widget-view+json": {
       "model_id": "",
       "version_major": 2,
       "version_minor": 0
      },
      "text/plain": [
       "Validation: 0it [00:00, ?it/s]"
      ]
     },
     "metadata": {},
     "output_type": "display_data"
    },
    {
     "data": {
      "application/vnd.jupyter.widget-view+json": {
       "model_id": "",
       "version_major": 2,
       "version_minor": 0
      },
      "text/plain": [
       "Validation: 0it [00:00, ?it/s]"
      ]
     },
     "metadata": {},
     "output_type": "display_data"
    },
    {
     "data": {
      "application/vnd.jupyter.widget-view+json": {
       "model_id": "",
       "version_major": 2,
       "version_minor": 0
      },
      "text/plain": [
       "Sanity Checking: 0it [00:00, ?it/s]"
      ]
     },
     "metadata": {},
     "output_type": "display_data"
    },
    {
     "data": {
      "application/vnd.jupyter.widget-view+json": {
       "model_id": "093dbc0bed724b18bd131bf12873c831",
       "version_major": 2,
       "version_minor": 0
      },
      "text/plain": [
       "Training: 0it [00:00, ?it/s]"
      ]
     },
     "metadata": {},
     "output_type": "display_data"
    },
    {
     "data": {
      "application/vnd.jupyter.widget-view+json": {
       "model_id": "",
       "version_major": 2,
       "version_minor": 0
      },
      "text/plain": [
       "Validation: 0it [00:00, ?it/s]"
      ]
     },
     "metadata": {},
     "output_type": "display_data"
    },
    {
     "data": {
      "application/vnd.jupyter.widget-view+json": {
       "model_id": "",
       "version_major": 2,
       "version_minor": 0
      },
      "text/plain": [
       "Validation: 0it [00:00, ?it/s]"
      ]
     },
     "metadata": {},
     "output_type": "display_data"
    },
    {
     "data": {
      "application/vnd.jupyter.widget-view+json": {
       "model_id": "",
       "version_major": 2,
       "version_minor": 0
      },
      "text/plain": [
       "Sanity Checking: 0it [00:00, ?it/s]"
      ]
     },
     "metadata": {},
     "output_type": "display_data"
    },
    {
     "data": {
      "application/vnd.jupyter.widget-view+json": {
       "model_id": "a5f4306949b24bd3a551ae5f0be89029",
       "version_major": 2,
       "version_minor": 0
      },
      "text/plain": [
       "Training: 0it [00:00, ?it/s]"
      ]
     },
     "metadata": {},
     "output_type": "display_data"
    },
    {
     "data": {
      "application/vnd.jupyter.widget-view+json": {
       "model_id": "",
       "version_major": 2,
       "version_minor": 0
      },
      "text/plain": [
       "Validation: 0it [00:00, ?it/s]"
      ]
     },
     "metadata": {},
     "output_type": "display_data"
    },
    {
     "data": {
      "application/vnd.jupyter.widget-view+json": {
       "model_id": "",
       "version_major": 2,
       "version_minor": 0
      },
      "text/plain": [
       "Validation: 0it [00:00, ?it/s]"
      ]
     },
     "metadata": {},
     "output_type": "display_data"
    },
    {
     "data": {
      "application/vnd.jupyter.widget-view+json": {
       "model_id": "",
       "version_major": 2,
       "version_minor": 0
      },
      "text/plain": [
       "Sanity Checking: 0it [00:00, ?it/s]"
      ]
     },
     "metadata": {},
     "output_type": "display_data"
    },
    {
     "data": {
      "application/vnd.jupyter.widget-view+json": {
       "model_id": "f4eaef3ff53a47918f1bf4890c146ad1",
       "version_major": 2,
       "version_minor": 0
      },
      "text/plain": [
       "Training: 0it [00:00, ?it/s]"
      ]
     },
     "metadata": {},
     "output_type": "display_data"
    },
    {
     "data": {
      "application/vnd.jupyter.widget-view+json": {
       "model_id": "",
       "version_major": 2,
       "version_minor": 0
      },
      "text/plain": [
       "Validation: 0it [00:00, ?it/s]"
      ]
     },
     "metadata": {},
     "output_type": "display_data"
    },
    {
     "data": {
      "application/vnd.jupyter.widget-view+json": {
       "model_id": "",
       "version_major": 2,
       "version_minor": 0
      },
      "text/plain": [
       "Validation: 0it [00:00, ?it/s]"
      ]
     },
     "metadata": {},
     "output_type": "display_data"
    },
    {
     "data": {
      "application/vnd.jupyter.widget-view+json": {
       "model_id": "b090662d08a24988999d2e6b9234eb0d",
       "version_major": 2,
       "version_minor": 0
      },
      "text/plain": [
       "  0%|          | 0/8 [00:00<?, ?it/s]"
      ]
     },
     "metadata": {},
     "output_type": "display_data"
    },
    {
     "data": {
      "application/vnd.jupyter.widget-view+json": {
       "model_id": "",
       "version_major": 2,
       "version_minor": 0
      },
      "text/plain": [
       "Sanity Checking: 0it [00:00, ?it/s]"
      ]
     },
     "metadata": {},
     "output_type": "display_data"
    },
    {
     "data": {
      "application/vnd.jupyter.widget-view+json": {
       "model_id": "ef2f1a2b953c40089afcd39fe8f59e4e",
       "version_major": 2,
       "version_minor": 0
      },
      "text/plain": [
       "Training: 0it [00:00, ?it/s]"
      ]
     },
     "metadata": {},
     "output_type": "display_data"
    },
    {
     "data": {
      "application/vnd.jupyter.widget-view+json": {
       "model_id": "",
       "version_major": 2,
       "version_minor": 0
      },
      "text/plain": [
       "Validation: 0it [00:00, ?it/s]"
      ]
     },
     "metadata": {},
     "output_type": "display_data"
    },
    {
     "data": {
      "application/vnd.jupyter.widget-view+json": {
       "model_id": "",
       "version_major": 2,
       "version_minor": 0
      },
      "text/plain": [
       "Validation: 0it [00:00, ?it/s]"
      ]
     },
     "metadata": {},
     "output_type": "display_data"
    },
    {
     "data": {
      "application/vnd.jupyter.widget-view+json": {
       "model_id": "",
       "version_major": 2,
       "version_minor": 0
      },
      "text/plain": [
       "Sanity Checking: 0it [00:00, ?it/s]"
      ]
     },
     "metadata": {},
     "output_type": "display_data"
    },
    {
     "data": {
      "application/vnd.jupyter.widget-view+json": {
       "model_id": "2e7026eaa0804a11a9e59daa7faf6d40",
       "version_major": 2,
       "version_minor": 0
      },
      "text/plain": [
       "Training: 0it [00:00, ?it/s]"
      ]
     },
     "metadata": {},
     "output_type": "display_data"
    },
    {
     "data": {
      "application/vnd.jupyter.widget-view+json": {
       "model_id": "",
       "version_major": 2,
       "version_minor": 0
      },
      "text/plain": [
       "Validation: 0it [00:00, ?it/s]"
      ]
     },
     "metadata": {},
     "output_type": "display_data"
    },
    {
     "data": {
      "application/vnd.jupyter.widget-view+json": {
       "model_id": "",
       "version_major": 2,
       "version_minor": 0
      },
      "text/plain": [
       "Validation: 0it [00:00, ?it/s]"
      ]
     },
     "metadata": {},
     "output_type": "display_data"
    },
    {
     "data": {
      "application/vnd.jupyter.widget-view+json": {
       "model_id": "",
       "version_major": 2,
       "version_minor": 0
      },
      "text/plain": [
       "Sanity Checking: 0it [00:00, ?it/s]"
      ]
     },
     "metadata": {},
     "output_type": "display_data"
    },
    {
     "data": {
      "application/vnd.jupyter.widget-view+json": {
       "model_id": "0489d58739c84c458ff7c4b8f2b5973d",
       "version_major": 2,
       "version_minor": 0
      },
      "text/plain": [
       "Training: 0it [00:00, ?it/s]"
      ]
     },
     "metadata": {},
     "output_type": "display_data"
    },
    {
     "data": {
      "application/vnd.jupyter.widget-view+json": {
       "model_id": "",
       "version_major": 2,
       "version_minor": 0
      },
      "text/plain": [
       "Validation: 0it [00:00, ?it/s]"
      ]
     },
     "metadata": {},
     "output_type": "display_data"
    },
    {
     "data": {
      "application/vnd.jupyter.widget-view+json": {
       "model_id": "",
       "version_major": 2,
       "version_minor": 0
      },
      "text/plain": [
       "Validation: 0it [00:00, ?it/s]"
      ]
     },
     "metadata": {},
     "output_type": "display_data"
    },
    {
     "data": {
      "application/vnd.jupyter.widget-view+json": {
       "model_id": "",
       "version_major": 2,
       "version_minor": 0
      },
      "text/plain": [
       "Sanity Checking: 0it [00:00, ?it/s]"
      ]
     },
     "metadata": {},
     "output_type": "display_data"
    },
    {
     "data": {
      "application/vnd.jupyter.widget-view+json": {
       "model_id": "ad98a3d6985c4eeca0b0c19e8e4f274a",
       "version_major": 2,
       "version_minor": 0
      },
      "text/plain": [
       "Training: 0it [00:00, ?it/s]"
      ]
     },
     "metadata": {},
     "output_type": "display_data"
    },
    {
     "data": {
      "application/vnd.jupyter.widget-view+json": {
       "model_id": "",
       "version_major": 2,
       "version_minor": 0
      },
      "text/plain": [
       "Validation: 0it [00:00, ?it/s]"
      ]
     },
     "metadata": {},
     "output_type": "display_data"
    },
    {
     "data": {
      "application/vnd.jupyter.widget-view+json": {
       "model_id": "",
       "version_major": 2,
       "version_minor": 0
      },
      "text/plain": [
       "Validation: 0it [00:00, ?it/s]"
      ]
     },
     "metadata": {},
     "output_type": "display_data"
    },
    {
     "data": {
      "application/vnd.jupyter.widget-view+json": {
       "model_id": "",
       "version_major": 2,
       "version_minor": 0
      },
      "text/plain": [
       "Sanity Checking: 0it [00:00, ?it/s]"
      ]
     },
     "metadata": {},
     "output_type": "display_data"
    },
    {
     "data": {
      "application/vnd.jupyter.widget-view+json": {
       "model_id": "79a2cbad712e492a8967366614bf6af8",
       "version_major": 2,
       "version_minor": 0
      },
      "text/plain": [
       "Training: 0it [00:00, ?it/s]"
      ]
     },
     "metadata": {},
     "output_type": "display_data"
    },
    {
     "data": {
      "application/vnd.jupyter.widget-view+json": {
       "model_id": "",
       "version_major": 2,
       "version_minor": 0
      },
      "text/plain": [
       "Validation: 0it [00:00, ?it/s]"
      ]
     },
     "metadata": {},
     "output_type": "display_data"
    },
    {
     "data": {
      "application/vnd.jupyter.widget-view+json": {
       "model_id": "",
       "version_major": 2,
       "version_minor": 0
      },
      "text/plain": [
       "Validation: 0it [00:00, ?it/s]"
      ]
     },
     "metadata": {},
     "output_type": "display_data"
    },
    {
     "data": {
      "application/vnd.jupyter.widget-view+json": {
       "model_id": "",
       "version_major": 2,
       "version_minor": 0
      },
      "text/plain": [
       "Sanity Checking: 0it [00:00, ?it/s]"
      ]
     },
     "metadata": {},
     "output_type": "display_data"
    },
    {
     "data": {
      "application/vnd.jupyter.widget-view+json": {
       "model_id": "7be060af3705403b97f31067c40d685f",
       "version_major": 2,
       "version_minor": 0
      },
      "text/plain": [
       "Training: 0it [00:00, ?it/s]"
      ]
     },
     "metadata": {},
     "output_type": "display_data"
    },
    {
     "data": {
      "application/vnd.jupyter.widget-view+json": {
       "model_id": "",
       "version_major": 2,
       "version_minor": 0
      },
      "text/plain": [
       "Validation: 0it [00:00, ?it/s]"
      ]
     },
     "metadata": {},
     "output_type": "display_data"
    },
    {
     "data": {
      "application/vnd.jupyter.widget-view+json": {
       "model_id": "",
       "version_major": 2,
       "version_minor": 0
      },
      "text/plain": [
       "Validation: 0it [00:00, ?it/s]"
      ]
     },
     "metadata": {},
     "output_type": "display_data"
    },
    {
     "data": {
      "application/vnd.jupyter.widget-view+json": {
       "model_id": "",
       "version_major": 2,
       "version_minor": 0
      },
      "text/plain": [
       "Sanity Checking: 0it [00:00, ?it/s]"
      ]
     },
     "metadata": {},
     "output_type": "display_data"
    },
    {
     "data": {
      "application/vnd.jupyter.widget-view+json": {
       "model_id": "cb576d7be1014ad6a35420eec82f3730",
       "version_major": 2,
       "version_minor": 0
      },
      "text/plain": [
       "Training: 0it [00:00, ?it/s]"
      ]
     },
     "metadata": {},
     "output_type": "display_data"
    },
    {
     "data": {
      "application/vnd.jupyter.widget-view+json": {
       "model_id": "",
       "version_major": 2,
       "version_minor": 0
      },
      "text/plain": [
       "Validation: 0it [00:00, ?it/s]"
      ]
     },
     "metadata": {},
     "output_type": "display_data"
    },
    {
     "data": {
      "application/vnd.jupyter.widget-view+json": {
       "model_id": "",
       "version_major": 2,
       "version_minor": 0
      },
      "text/plain": [
       "Validation: 0it [00:00, ?it/s]"
      ]
     },
     "metadata": {},
     "output_type": "display_data"
    },
    {
     "data": {
      "application/vnd.jupyter.widget-view+json": {
       "model_id": "",
       "version_major": 2,
       "version_minor": 0
      },
      "text/plain": [
       "Sanity Checking: 0it [00:00, ?it/s]"
      ]
     },
     "metadata": {},
     "output_type": "display_data"
    },
    {
     "data": {
      "application/vnd.jupyter.widget-view+json": {
       "model_id": "5be20351cf424c9b81ad872f2d4544e3",
       "version_major": 2,
       "version_minor": 0
      },
      "text/plain": [
       "Training: 0it [00:00, ?it/s]"
      ]
     },
     "metadata": {},
     "output_type": "display_data"
    },
    {
     "data": {
      "application/vnd.jupyter.widget-view+json": {
       "model_id": "",
       "version_major": 2,
       "version_minor": 0
      },
      "text/plain": [
       "Validation: 0it [00:00, ?it/s]"
      ]
     },
     "metadata": {},
     "output_type": "display_data"
    },
    {
     "data": {
      "application/vnd.jupyter.widget-view+json": {
       "model_id": "",
       "version_major": 2,
       "version_minor": 0
      },
      "text/plain": [
       "Validation: 0it [00:00, ?it/s]"
      ]
     },
     "metadata": {},
     "output_type": "display_data"
    }
   ],
   "source": [
    "%%time\n",
    "\n",
    "source = \"./data/chunks/trx_train.parquet/\"\n",
    "chunk_size = (len(train_clients) + N_CHUNKS - 1) // N_CHUNKS\n",
    "for epoch in tqdm(range(EPOCHS)):\n",
    "    print(f\"Epoch: {epoch}\")\n",
    "    trainer = None\n",
    "    for i in tqdm(range(N_CHUNKS)):\n",
    "        # клиенты, которые попали в чанк и есть в обучающей выборке\n",
    "        cur_clients = set(train_clients[i * chunk_size:(i + 1) * chunk_size]) & set(train_target[\"client_id\"])\n",
    "\n",
    "        train_trx = pl.read_parquet(os.path.join(source, f\"part-{i}.parquet\"))\n",
    "        train_trx = train_trx.filter(pl.col(\"event_time\") < datetime.strptime(MONTHS[MON], \"%Y-%m-%d\").replace(day=1))\n",
    "        train_trx = train_trx.filter(pl.col(\"client_id\").is_in(cur_clients))\n",
    "        train_trx = prepare_data(train_trx)\n",
    "        train_trx = unite(train_trx)\n",
    "\n",
    "        train_trx = trx_preprocessor.transform(train_trx)\n",
    "        train_trx = train_trx.join(\n",
    "            train_target.filter(pl.col(\"client_id\").is_in(cur_clients)), on=\"client_id\", how=\"outer\"\n",
    "        )\n",
    "        train_dict = to_records(train_trx)\n",
    "\n",
    "        train_data = SeqToTargetDataset(train_dict, target_col_name=\"target\", target_dtype=torch.float32)\n",
    "\n",
    "        sup_data = PtlsDataModule(\n",
    "            train_data=train_data,\n",
    "            train_num_workers=0,\n",
    "            train_batch_size=256,\n",
    "            valid_data=val_data,\n",
    "            valid_num_workers=0,\n",
    "            valid_batch_size=256,\n",
    "        )\n",
    "\n",
    "        trainer = pytorch_lightning.Trainer(\n",
    "            logger=logger,\n",
    "            max_epochs=2,  # для ускорения сделаем несколько прогонов\n",
    "            accelerator=\"gpu\",\n",
    "            devices=1,\n",
    "            enable_progress_bar=True,\n",
    "        )\n",
    "\n",
    "        trainer.fit(sup_module, sup_data)\n",
    "\n",
    "        del sup_data, train_data, train_dict, train_trx\n",
    "        gc.collect()\n",
    "\n",
    "    print(trainer.callback_metrics['valid/AUROC'].item())"
   ]
  },
  {
   "cell_type": "markdown",
   "id": "6aad1b248662f9f4",
   "metadata": {},
   "source": [
    "0.8249"
   ]
  }
 ],
 "metadata": {
  "finalized": {
   "timestamp": 1719217995660,
   "trusted": true
  },
  "kernelspec": {
   "display_name": "Python 3 (ipykernel)",
   "language": "python",
   "name": "python3"
  },
  "language_info": {
   "codemirror_mode": {
    "name": "ipython",
    "version": 3
   },
   "file_extension": ".py",
   "mimetype": "text/x-python",
   "name": "python",
   "nbconvert_exporter": "python",
   "pygments_lexer": "ipython3",
   "version": "3.8.13"
  },
  "widgets": {
   "application/vnd.jupyter.widget-state+json": {
    "state": {
     "000f230ad8004c84b25e1a7e41247f98": {
      "model_module": "@jupyter-widgets/base",
      "model_module_version": "1.2.0",
      "model_name": "LayoutModel",
      "state": {
       "display": "inline-flex",
       "flex_flow": "row wrap",
       "width": "100%"
      }
     },
     "006271f0319f47598f837931217c6b67": {
      "model_module": "@jupyter-widgets/controls",
      "model_module_version": "1.5.0",
      "model_name": "DescriptionStyleModel",
      "state": {
       "description_width": ""
      }
     },
     "006947f238fc4378be307bf28552836e": {
      "model_module": "@jupyter-widgets/controls",
      "model_module_version": "1.5.0",
      "model_name": "HTMLModel",
      "state": {
       "layout": "IPY_MODEL_e767327d2bd24433bc8fbccc47e95dbe",
       "style": "IPY_MODEL_6f30c0f562d8491d8e6a078d59fcebd6",
       "value": " 191/191 [00:12&lt;00:00, 15.17it/s]"
      }
     },
     "0086ddc4c27241618bf188dcd213ff5a": {
      "model_module": "@jupyter-widgets/controls",
      "model_module_version": "1.5.0",
      "model_name": "ProgressStyleModel",
      "state": {
       "description_width": ""
      }
     },
     "00a49eac8d2f423b925541b5baaadec9": {
      "model_module": "@jupyter-widgets/controls",
      "model_module_version": "1.5.0",
      "model_name": "FloatProgressModel",
      "state": {
       "layout": "IPY_MODEL_36bad241ec594e8b85990831d9ae32e7",
       "max": 2,
       "style": "IPY_MODEL_11f53605455b40248e1958fec6fd49c8",
       "value": 2
      }
     },
     "00a9db0e7a2740489c649722493e1683": {
      "model_module": "@jupyter-widgets/controls",
      "model_module_version": "1.5.0",
      "model_name": "HTMLModel",
      "state": {
       "layout": "IPY_MODEL_a87454b9100946778da680dd5358430c",
       "style": "IPY_MODEL_2327460339e342fdbdeee1c25384568c",
       "value": "Epoch 1: 100%"
      }
     },
     "00abaa7aa3f848488d7277ca9d4d96e9": {
      "model_module": "@jupyter-widgets/controls",
      "model_module_version": "1.5.0",
      "model_name": "HTMLModel",
      "state": {
       "layout": "IPY_MODEL_2d905040f3d5448c977c0c75a8f7adf5",
       "style": "IPY_MODEL_873b230131234a3195833f92d10f1968",
       "value": " 2/2 [00:00&lt;00:00, 13.70it/s]"
      }
     },
     "00ec94e527fe4bc28926dc39590ccb52": {
      "model_module": "@jupyter-widgets/controls",
      "model_module_version": "1.5.0",
      "model_name": "DescriptionStyleModel",
      "state": {
       "description_width": ""
      }
     },
     "00f124d4e5634839ba9bb0143027105f": {
      "model_module": "@jupyter-widgets/base",
      "model_module_version": "1.2.0",
      "model_name": "LayoutModel",
      "state": {}
     },
     "01713ccf3f2740799fc5e936cfb803c9": {
      "model_module": "@jupyter-widgets/controls",
      "model_module_version": "1.5.0",
      "model_name": "HTMLModel",
      "state": {
       "layout": "IPY_MODEL_8de7b13701ce42169de66c89d57a8cd3",
       "style": "IPY_MODEL_345d5b576d4b448ba4db0a5c1b3f4a3a",
       "value": "Epoch 1: 100%"
      }
     },
     "017e17f495c248a2bbd5abad29b7b8e2": {
      "model_module": "@jupyter-widgets/controls",
      "model_module_version": "1.5.0",
      "model_name": "HTMLModel",
      "state": {
       "layout": "IPY_MODEL_0fd521f516a045719cb2d9cebf2b9620",
       "style": "IPY_MODEL_28e6d3f70d464de1be4ceddae32ad87f",
       "value": "Sanity Checking DataLoader 0: 100%"
      }
     },
     "01acd0e0db1d49b4bcdf736ef052830c": {
      "model_module": "@jupyter-widgets/controls",
      "model_module_version": "1.5.0",
      "model_name": "ProgressStyleModel",
      "state": {
       "description_width": ""
      }
     },
     "01d81230321a4a9ba5327ce11370994e": {
      "model_module": "@jupyter-widgets/base",
      "model_module_version": "1.2.0",
      "model_name": "LayoutModel",
      "state": {}
     },
     "01f4e97be8344f089c84e0542cc6e15d": {
      "model_module": "@jupyter-widgets/controls",
      "model_module_version": "1.5.0",
      "model_name": "HTMLModel",
      "state": {
       "layout": "IPY_MODEL_cf3e5912aff44f158967cd65edad405f",
       "style": "IPY_MODEL_22a1b1b0a23946a9bd90b1936b7f27bd",
       "value": " 417/417 [01:04&lt;00:00,  6.51it/s, v_num=x13x, seq_len=118.0, y=0.0083, valid/AUROC=0.826]"
      }
     },
     "01fa674f2d8d40cda65febbce61f2cbf": {
      "model_module": "@jupyter-widgets/controls",
      "model_module_version": "1.5.0",
      "model_name": "FloatProgressModel",
      "state": {
       "layout": "IPY_MODEL_5c24c67c112842c4943f83e7cdc5de10",
       "max": 2,
       "style": "IPY_MODEL_2523d362f4d64ca8859fad999f6ecb52",
       "value": 2
      }
     },
     "020bbf7b38f44f21a66e0ca326f14efa": {
      "model_module": "@jupyter-widgets/controls",
      "model_module_version": "1.5.0",
      "model_name": "DescriptionStyleModel",
      "state": {
       "description_width": ""
      }
     },
     "023d070733c2410cb07ac8c1bc683953": {
      "model_module": "@jupyter-widgets/base",
      "model_module_version": "1.2.0",
      "model_name": "LayoutModel",
      "state": {
       "display": "inline-flex",
       "flex_flow": "row wrap",
       "visibility": "hidden",
       "width": "100%"
      }
     },
     "0256a66078854aa0a48b8d3709e63a50": {
      "model_module": "@jupyter-widgets/base",
      "model_module_version": "1.2.0",
      "model_name": "LayoutModel",
      "state": {
       "display": "inline-flex",
       "flex_flow": "row wrap",
       "visibility": "hidden",
       "width": "100%"
      }
     },
     "025f7989e5f446ab9cedc7ffa9c8b0fb": {
      "model_module": "@jupyter-widgets/controls",
      "model_module_version": "1.5.0",
      "model_name": "HTMLModel",
      "state": {
       "layout": "IPY_MODEL_871f1c007a304fe0b7d2472756481e47",
       "style": "IPY_MODEL_77dcfdcdec974981937536df3a6f0ccb",
       "value": "Sanity Checking DataLoader 0: 100%"
      }
     },
     "02758f9f84a44018b09112eb19508ad1": {
      "model_module": "@jupyter-widgets/controls",
      "model_module_version": "1.5.0",
      "model_name": "HBoxModel",
      "state": {
       "children": [
        "IPY_MODEL_88a109f00daa4f4f9f1a79bc02655356",
        "IPY_MODEL_04984ed8c4c94422ad8ce14b777d1e1d",
        "IPY_MODEL_ea241dac30204694b8caa78be1611226"
       ],
       "layout": "IPY_MODEL_770e5f91b44c4b948e765098d5c19ea6"
      }
     },
     "0299e3dc28674351b5af55f9bebe0bf8": {
      "model_module": "@jupyter-widgets/controls",
      "model_module_version": "1.5.0",
      "model_name": "DescriptionStyleModel",
      "state": {
       "description_width": ""
      }
     },
     "02b96d40816a403cae938f3f5799ee9d": {
      "model_module": "@jupyter-widgets/controls",
      "model_module_version": "1.5.0",
      "model_name": "DescriptionStyleModel",
      "state": {
       "description_width": ""
      }
     },
     "02d08808128e41bc96ab95e995319707": {
      "model_module": "@jupyter-widgets/base",
      "model_module_version": "1.2.0",
      "model_name": "LayoutModel",
      "state": {
       "flex": "2"
      }
     },
     "02e3cbdd38f744648bee76b84bcb0aa0": {
      "model_module": "@jupyter-widgets/controls",
      "model_module_version": "1.5.0",
      "model_name": "ProgressStyleModel",
      "state": {
       "description_width": ""
      }
     },
     "0303a8d171b1415ca7cdcb273095b86b": {
      "model_module": "@jupyter-widgets/controls",
      "model_module_version": "1.5.0",
      "model_name": "FloatProgressModel",
      "state": {
       "bar_style": "danger",
       "layout": "IPY_MODEL_c2c3ce5965c94940b1495182eab65f66",
       "max": 8,
       "style": "IPY_MODEL_e3df60806e544e0bb8b5c503f581f614",
       "value": 3
      }
     },
     "030706f6d41942859eb5ece82c9d166b": {
      "model_module": "@jupyter-widgets/controls",
      "model_module_version": "1.5.0",
      "model_name": "DescriptionStyleModel",
      "state": {
       "description_width": ""
      }
     },
     "030b321e7a934561b9aa632eae33d44b": {
      "model_module": "@jupyter-widgets/controls",
      "model_module_version": "1.5.0",
      "model_name": "ProgressStyleModel",
      "state": {
       "description_width": ""
      }
     },
     "03427fa6d0454520953ae0832761a2a3": {
      "model_module": "@jupyter-widgets/base",
      "model_module_version": "1.2.0",
      "model_name": "LayoutModel",
      "state": {}
     },
     "0353509a46cb4925a51b0c9e61da5ab5": {
      "model_module": "@jupyter-widgets/base",
      "model_module_version": "1.2.0",
      "model_name": "LayoutModel",
      "state": {
       "flex": "2"
      }
     },
     "0386a861c9c44cd18dcbe7a901b0cec5": {
      "model_module": "@jupyter-widgets/controls",
      "model_module_version": "1.5.0",
      "model_name": "HTMLModel",
      "state": {
       "layout": "IPY_MODEL_d70b4aac79864473996e848e384edb69",
       "style": "IPY_MODEL_93cdd4cd16a048c98b049909888be7e5",
       "value": "Epoch 1: 100%"
      }
     },
     "03a2c315e9814b25a7272f81d8041c2b": {
      "model_module": "@jupyter-widgets/base",
      "model_module_version": "1.2.0",
      "model_name": "LayoutModel",
      "state": {}
     },
     "03bfc894a9174142b7e610a03d257fbe": {
      "model_module": "@jupyter-widgets/controls",
      "model_module_version": "1.5.0",
      "model_name": "HTMLModel",
      "state": {
       "layout": "IPY_MODEL_4ed953687db445b1b7c50b23895d1ea0",
       "style": "IPY_MODEL_c8ef88e0b26e4f64b0598a37904a0d34",
       "value": " 2/2 [00:00&lt;00:00,  5.76it/s]"
      }
     },
     "03ceaf62968642b9b45774b04cdd1fe0": {
      "model_module": "@jupyter-widgets/controls",
      "model_module_version": "1.5.0",
      "model_name": "FloatProgressModel",
      "state": {
       "layout": "IPY_MODEL_6595d82751094bfeb685ce7cf34e16de",
       "max": 191,
       "style": "IPY_MODEL_15836876c1af4494a230bad435f0d6ed",
       "value": 191
      }
     },
     "03dbfbf72b9d46b380e7ba063bba9a54": {
      "model_module": "@jupyter-widgets/base",
      "model_module_version": "1.2.0",
      "model_name": "LayoutModel",
      "state": {
       "flex": "2"
      }
     },
     "040880a3a32b414b9e4075df02e9ca6a": {
      "model_module": "@jupyter-widgets/controls",
      "model_module_version": "1.5.0",
      "model_name": "HTMLModel",
      "state": {
       "layout": "IPY_MODEL_3cf1a5b7ee574c848a71593e317d9dfe",
       "style": "IPY_MODEL_2d1689500dff4f64aee326be08b3176e",
       "value": " 2/2 [00:00&lt;00:00, 11.02it/s]"
      }
     },
     "041586b45d064038b448c640f90d443b": {
      "model_module": "@jupyter-widgets/base",
      "model_module_version": "1.2.0",
      "model_name": "LayoutModel",
      "state": {}
     },
     "0489d58739c84c458ff7c4b8f2b5973d": {
      "model_module": "@jupyter-widgets/controls",
      "model_module_version": "1.5.0",
      "model_name": "HBoxModel",
      "state": {
       "children": [
        "IPY_MODEL_7ca2fd8c57a7408e8c7bd2e7a0f824c0",
        "IPY_MODEL_9b57573fe0234d3e8c4967f833e5503d",
        "IPY_MODEL_adb0bcb5da3c4664a23404d2d9f0efbe"
       ],
       "layout": "IPY_MODEL_1a8b3e869d274097843648ada3ed6635"
      }
     },
     "04984ed8c4c94422ad8ce14b777d1e1d": {
      "model_module": "@jupyter-widgets/controls",
      "model_module_version": "1.5.0",
      "model_name": "FloatProgressModel",
      "state": {
       "bar_style": "danger",
       "layout": "IPY_MODEL_da03a1fcddde49d9bd8f3679e4aebbcd",
       "max": 1,
       "style": "IPY_MODEL_75481478fed24699b59aaa8569ad961e"
      }
     },
     "050ee188dc41463588eae58ce1ecad3e": {
      "model_module": "@jupyter-widgets/base",
      "model_module_version": "1.2.0",
      "model_name": "LayoutModel",
      "state": {
       "flex": "2"
      }
     },
     "0526753fcd154874aa8e72567812b10b": {
      "model_module": "@jupyter-widgets/base",
      "model_module_version": "1.2.0",
      "model_name": "LayoutModel",
      "state": {
       "flex": "2"
      }
     },
     "05268d0df6c54298ab649688024e2453": {
      "model_module": "@jupyter-widgets/base",
      "model_module_version": "1.2.0",
      "model_name": "LayoutModel",
      "state": {}
     },
     "0570cfc5976e4852abc64f96bf3d9858": {
      "model_module": "@jupyter-widgets/controls",
      "model_module_version": "1.5.0",
      "model_name": "DescriptionStyleModel",
      "state": {
       "description_width": ""
      }
     },
     "057af749a8824c20ba464adffbea2780": {
      "model_module": "@jupyter-widgets/base",
      "model_module_version": "1.2.0",
      "model_name": "LayoutModel",
      "state": {
       "flex": "2"
      }
     },
     "0613a62980124763ba04c05702b36a48": {
      "model_module": "@jupyter-widgets/base",
      "model_module_version": "1.2.0",
      "model_name": "LayoutModel",
      "state": {
       "flex": "2"
      }
     },
     "0634d559abbb469fa19eea1d867bfece": {
      "model_module": "@jupyter-widgets/controls",
      "model_module_version": "1.5.0",
      "model_name": "DescriptionStyleModel",
      "state": {
       "description_width": ""
      }
     },
     "0658c3f40bba4c6ca8fb294be5a82a6c": {
      "model_module": "@jupyter-widgets/controls",
      "model_module_version": "1.5.0",
      "model_name": "HTMLModel",
      "state": {
       "layout": "IPY_MODEL_c330b9cd1790451d8b8e7055047ebb61",
       "style": "IPY_MODEL_8899af9393124cf78c0681ac7d2fb9a6",
       "value": "Validation DataLoader 0: 100%"
      }
     },
     "068011a862f14fedaa186e9e7531a96c": {
      "model_module": "@jupyter-widgets/controls",
      "model_module_version": "1.5.0",
      "model_name": "ProgressStyleModel",
      "state": {
       "description_width": ""
      }
     },
     "068e373541ef4748b12ada85e5cefa36": {
      "model_module": "@jupyter-widgets/base",
      "model_module_version": "1.2.0",
      "model_name": "LayoutModel",
      "state": {
       "display": "inline-flex",
       "flex_flow": "row wrap",
       "visibility": "hidden",
       "width": "100%"
      }
     },
     "069250bf9d33408ba6919848dce7fb34": {
      "model_module": "@jupyter-widgets/base",
      "model_module_version": "1.2.0",
      "model_name": "LayoutModel",
      "state": {}
     },
     "069399da686643ca95ae2d84bf7d3cbe": {
      "model_module": "@jupyter-widgets/base",
      "model_module_version": "1.2.0",
      "model_name": "LayoutModel",
      "state": {
       "display": "inline-flex",
       "flex_flow": "row wrap",
       "visibility": "hidden",
       "width": "100%"
      }
     },
     "06b4275f2bdc4c3f9f38c09d40238b1d": {
      "model_module": "@jupyter-widgets/controls",
      "model_module_version": "1.5.0",
      "model_name": "DescriptionStyleModel",
      "state": {
       "description_width": ""
      }
     },
     "06bb4119deaf4a63bd1474401eb7cfeb": {
      "model_module": "@jupyter-widgets/base",
      "model_module_version": "1.2.0",
      "model_name": "LayoutModel",
      "state": {}
     },
     "06d088b217ef4726b9b325fb747907c0": {
      "model_module": "@jupyter-widgets/controls",
      "model_module_version": "1.5.0",
      "model_name": "ProgressStyleModel",
      "state": {
       "description_width": ""
      }
     },
     "06d8d8e78f7441e2a3144b2e152b097a": {
      "model_module": "@jupyter-widgets/controls",
      "model_module_version": "1.5.0",
      "model_name": "DescriptionStyleModel",
      "state": {
       "description_width": ""
      }
     },
     "06eedf77de9a41289097dec10aa37e9d": {
      "model_module": "@jupyter-widgets/controls",
      "model_module_version": "1.5.0",
      "model_name": "HTMLModel",
      "state": {
       "layout": "IPY_MODEL_364266639337422d858f9fae5c7c0b85",
       "style": "IPY_MODEL_f07a6c4c7f1c49ad9cbf3697917ea6fe",
       "value": " 0/1 [05:10&lt;?, ?it/s]"
      }
     },
     "06f52d6e43dc408a96200bb1a473a208": {
      "model_module": "@jupyter-widgets/controls",
      "model_module_version": "1.5.0",
      "model_name": "FloatProgressModel",
      "state": {
       "layout": "IPY_MODEL_e96a7c16742343d1a6a8c4c0d8cc011f",
       "max": 191,
       "style": "IPY_MODEL_1a855e8b9a684829b09caed3cdc24582",
       "value": 191
      }
     },
     "0712a1ec2b444a1a89fc683040598765": {
      "model_module": "@jupyter-widgets/base",
      "model_module_version": "1.2.0",
      "model_name": "LayoutModel",
      "state": {
       "flex": "2"
      }
     },
     "072e5e880e4e49ae86fba11e5e657991": {
      "model_module": "@jupyter-widgets/controls",
      "model_module_version": "1.5.0",
      "model_name": "DescriptionStyleModel",
      "state": {
       "description_width": ""
      }
     },
     "07433a0be1dc4b49ac1b083bc2d4dbba": {
      "model_module": "@jupyter-widgets/base",
      "model_module_version": "1.2.0",
      "model_name": "LayoutModel",
      "state": {
       "flex": "2"
      }
     },
     "074e2fdfd0e34aee8d4e1c07c5cb74c8": {
      "model_module": "@jupyter-widgets/base",
      "model_module_version": "1.2.0",
      "model_name": "LayoutModel",
      "state": {}
     },
     "07553958c9924126a05fa6fe4c80a92d": {
      "model_module": "@jupyter-widgets/controls",
      "model_module_version": "1.5.0",
      "model_name": "HBoxModel",
      "state": {
       "children": [
        "IPY_MODEL_c4a0e8d80d2746d3939d3b0cf60c0f43",
        "IPY_MODEL_adb8a37f3e7f4909935eb8a44193d227",
        "IPY_MODEL_179b9b6161d44b2daf7f82eec2352b9f"
       ],
       "layout": "IPY_MODEL_bddaecf4e521448a895e020f97c221ef"
      }
     },
     "077c773cc51d4b3fbc9504acecf34dd8": {
      "model_module": "@jupyter-widgets/controls",
      "model_module_version": "1.5.0",
      "model_name": "FloatProgressModel",
      "state": {
       "layout": "IPY_MODEL_0613a62980124763ba04c05702b36a48",
       "max": 191,
       "style": "IPY_MODEL_48049a8c0e8c45e2bd2465b99a9ef3e0",
       "value": 191
      }
     },
     "07817e6a4333409391c08eabfd2494f6": {
      "model_module": "@jupyter-widgets/controls",
      "model_module_version": "1.5.0",
      "model_name": "HTMLModel",
      "state": {
       "layout": "IPY_MODEL_8e7ae7f4eeb0452bbc93980d96169e28",
       "style": "IPY_MODEL_421192463c7c4cc381af6ebb80680799",
       "value": " 191/191 [00:12&lt;00:00, 14.95it/s]"
      }
     },
     "079e98b6140940a79d5378e37a94176b": {
      "model_module": "@jupyter-widgets/controls",
      "model_module_version": "1.5.0",
      "model_name": "HTMLModel",
      "state": {
       "layout": "IPY_MODEL_b3122549c6ef485897c75ce24402e19e",
       "style": "IPY_MODEL_396279f0280b468bb1de79a92e3e1689",
       "value": "Validation DataLoader 0: 100%"
      }
     },
     "07da3a24b9194ea58a0822e030212513": {
      "model_module": "@jupyter-widgets/controls",
      "model_module_version": "1.5.0",
      "model_name": "HBoxModel",
      "state": {
       "children": [
        "IPY_MODEL_afccba4e5f4648a7aec34d6e26afa453",
        "IPY_MODEL_71b8d5df0ea64d128d35aab841c9911e",
        "IPY_MODEL_3a8e8be775a4435188bb983469a5c2d6"
       ],
       "layout": "IPY_MODEL_5e3653dbf8174fa898c935cb614b0210"
      }
     },
     "07e12370fb1a4fa38b2c5a57587d7574": {
      "model_module": "@jupyter-widgets/controls",
      "model_module_version": "1.5.0",
      "model_name": "HTMLModel",
      "state": {
       "layout": "IPY_MODEL_0eff5cfeeec249f3ac75e8ec8dfdfc20",
       "style": "IPY_MODEL_26e10a9e226f459697f0fffbbf335700",
       "value": "100%"
      }
     },
     "082ab39b4e864c1e8956111a872b4b53": {
      "model_module": "@jupyter-widgets/controls",
      "model_module_version": "1.5.0",
      "model_name": "DescriptionStyleModel",
      "state": {
       "description_width": ""
      }
     },
     "086a6a666bf84259a227a24087682625": {
      "model_module": "@jupyter-widgets/controls",
      "model_module_version": "1.5.0",
      "model_name": "HTMLModel",
      "state": {
       "layout": "IPY_MODEL_569913b238d64b00808a805ae120fce4",
       "style": "IPY_MODEL_020bbf7b38f44f21a66e0ca326f14efa",
       "value": "Validation DataLoader 0: 100%"
      }
     },
     "0898bee2ae1d4a989bd35d7ec8aa3e7c": {
      "model_module": "@jupyter-widgets/base",
      "model_module_version": "1.2.0",
      "model_name": "LayoutModel",
      "state": {}
     },
     "089d5d2563684b7a8b682265db94265b": {
      "model_module": "@jupyter-widgets/controls",
      "model_module_version": "1.5.0",
      "model_name": "HTMLModel",
      "state": {
       "layout": "IPY_MODEL_c477aa9666cc4b6d903e2b2d2b32261f",
       "style": "IPY_MODEL_28c8710c28b74d0082446374ab26a429",
       "value": " 8/8 [00:52&lt;00:00,  6.50s/it]"
      }
     },
     "08a3c949ab8242ffa6826e64c75c6e55": {
      "model_module": "@jupyter-widgets/controls",
      "model_module_version": "1.5.0",
      "model_name": "DescriptionStyleModel",
      "state": {
       "description_width": ""
      }
     },
     "08ae9eb5dbb24794af4c98828523d920": {
      "model_module": "@jupyter-widgets/controls",
      "model_module_version": "1.5.0",
      "model_name": "ProgressStyleModel",
      "state": {
       "description_width": ""
      }
     },
     "08bbfcd97eef44b18202620f14a091e9": {
      "model_module": "@jupyter-widgets/base",
      "model_module_version": "1.2.0",
      "model_name": "LayoutModel",
      "state": {
       "display": "inline-flex",
       "flex_flow": "row wrap",
       "visibility": "hidden",
       "width": "100%"
      }
     },
     "08cbd2712b5942b3a4f189ad6589c192": {
      "model_module": "@jupyter-widgets/base",
      "model_module_version": "1.2.0",
      "model_name": "LayoutModel",
      "state": {}
     },
     "08e09ca70d9b4f4eafefd3cc20656435": {
      "model_module": "@jupyter-widgets/base",
      "model_module_version": "1.2.0",
      "model_name": "LayoutModel",
      "state": {
       "display": "inline-flex",
       "flex_flow": "row wrap",
       "visibility": "hidden",
       "width": "100%"
      }
     },
     "08e2e18c2a9b47548cf42fa42b893b02": {
      "model_module": "@jupyter-widgets/controls",
      "model_module_version": "1.5.0",
      "model_name": "ProgressStyleModel",
      "state": {
       "description_width": ""
      }
     },
     "08f7b6bf44674ee3b8fb944043659805": {
      "model_module": "@jupyter-widgets/controls",
      "model_module_version": "1.5.0",
      "model_name": "DescriptionStyleModel",
      "state": {
       "description_width": ""
      }
     },
     "091edf7949c64958a44043fb9459bae7": {
      "model_module": "@jupyter-widgets/controls",
      "model_module_version": "1.5.0",
      "model_name": "DescriptionStyleModel",
      "state": {
       "description_width": ""
      }
     },
     "0928b52eaa854dc397a27230d1c9bf51": {
      "model_module": "@jupyter-widgets/controls",
      "model_module_version": "1.5.0",
      "model_name": "HBoxModel",
      "state": {
       "children": [
        "IPY_MODEL_8409fedbb7254d72b4c3a3733d089773",
        "IPY_MODEL_f7df65b4a1df458c8cec48cabf691a13",
        "IPY_MODEL_2c3b15708fc24fa9ad53edd851ca411d"
       ],
       "layout": "IPY_MODEL_476efa23c0d74b32ab6dcaed59dd5271"
      }
     },
     "093dbc0bed724b18bd131bf12873c831": {
      "model_module": "@jupyter-widgets/controls",
      "model_module_version": "1.5.0",
      "model_name": "HBoxModel",
      "state": {
       "children": [
        "IPY_MODEL_fd58ebe59ca548938f2f938005fb6f69",
        "IPY_MODEL_55f46a7134f6426982fa53604c6b4163",
        "IPY_MODEL_cae448f036cb4816820eb59070df85a9"
       ],
       "layout": "IPY_MODEL_b377402b6479494fb918318bf9a64ebf"
      }
     },
     "094aa32da1be410190fdc4208186110d": {
      "model_module": "@jupyter-widgets/controls",
      "model_module_version": "1.5.0",
      "model_name": "DescriptionStyleModel",
      "state": {
       "description_width": ""
      }
     },
     "09547fa3d9504507ab0d55c87f5d2550": {
      "model_module": "@jupyter-widgets/controls",
      "model_module_version": "1.5.0",
      "model_name": "DescriptionStyleModel",
      "state": {
       "description_width": ""
      }
     },
     "095a5f0c48c54fb6b1e05b79507fd7cc": {
      "model_module": "@jupyter-widgets/base",
      "model_module_version": "1.2.0",
      "model_name": "LayoutModel",
      "state": {}
     },
     "096222d36db7478d9acf3cfd46645b12": {
      "model_module": "@jupyter-widgets/controls",
      "model_module_version": "1.5.0",
      "model_name": "DescriptionStyleModel",
      "state": {
       "description_width": ""
      }
     },
     "099d90f7aedf47e5ab1a4211c86315f1": {
      "model_module": "@jupyter-widgets/controls",
      "model_module_version": "1.5.0",
      "model_name": "DescriptionStyleModel",
      "state": {
       "description_width": ""
      }
     },
     "09aaef0020ab4724b83ede4ddd190ee5": {
      "model_module": "@jupyter-widgets/base",
      "model_module_version": "1.2.0",
      "model_name": "LayoutModel",
      "state": {}
     },
     "09cd9ccf4a544212818a5f4268267c3f": {
      "model_module": "@jupyter-widgets/base",
      "model_module_version": "1.2.0",
      "model_name": "LayoutModel",
      "state": {
       "flex": "2"
      }
     },
     "0a008e8e65f04249a4de0afa17d031ba": {
      "model_module": "@jupyter-widgets/controls",
      "model_module_version": "1.5.0",
      "model_name": "VBoxModel",
      "state": {
       "children": [
        "IPY_MODEL_2d0ba6ac2c364bc8b281c88c9ef60546",
        "IPY_MODEL_ab0b4a742e004db2861d8e322739608b"
       ],
       "layout": "IPY_MODEL_c730a2f092434d64963cc36668263dce"
      }
     },
     "0a07575d5bff41378d22e1df74ed3026": {
      "model_module": "@jupyter-widgets/controls",
      "model_module_version": "1.5.0",
      "model_name": "HTMLModel",
      "state": {
       "layout": "IPY_MODEL_fa7e7b8bb02a434da001dbd223e8c5eb",
       "style": "IPY_MODEL_892884b1193b4f0193e87c719174cd17",
       "value": "Validation DataLoader 0: 100%"
      }
     },
     "0a3f50f0d49b448197ac4c32b2cd7e59": {
      "model_module": "@jupyter-widgets/controls",
      "model_module_version": "1.5.0",
      "model_name": "HTMLModel",
      "state": {
       "layout": "IPY_MODEL_b21072669bd34345a081d9064776f952",
       "style": "IPY_MODEL_08a3c949ab8242ffa6826e64c75c6e55",
       "value": " 0/1 [05:34&lt;?, ?it/s]"
      }
     },
     "0a6e0a6cfd104062b1578a7a93e14fac": {
      "model_module": "@jupyter-widgets/controls",
      "model_module_version": "1.5.0",
      "model_name": "FloatProgressModel",
      "state": {
       "layout": "IPY_MODEL_f5799a34426e4c9bbb869ad725b54252",
       "max": 191,
       "style": "IPY_MODEL_30e619410fe049809fb8f140fac1bbc6",
       "value": 191
      }
     },
     "0a708b9cd028408b844968b9ca37291a": {
      "model_module": "@jupyter-widgets/controls",
      "model_module_version": "1.5.0",
      "model_name": "HTMLModel",
      "state": {
       "layout": "IPY_MODEL_36796b7ccefe4fea91389552f1bcc059",
       "style": "IPY_MODEL_485be793cbb44ddabe62977d45941e85",
       "value": "Epoch 0:  19%"
      }
     },
     "0a8b415246de4a918413ce8b71dca3b8": {
      "model_module": "@jupyter-widgets/base",
      "model_module_version": "1.2.0",
      "model_name": "LayoutModel",
      "state": {}
     },
     "0a8d7164d2644479ae466545e6c81ceb": {
      "model_module": "@jupyter-widgets/controls",
      "model_module_version": "1.5.0",
      "model_name": "HTMLModel",
      "state": {
       "layout": "IPY_MODEL_2b2f02fe8a2d42df9ae1eb05f9c48821",
       "style": "IPY_MODEL_37c39e6de9db4a85a1fce99c5bfd00a4",
       "value": "Validation DataLoader 0: 100%"
      }
     },
     "0abb8229cb6d45a295fc129a283d91f8": {
      "model_module": "@jupyter-widgets/base",
      "model_module_version": "1.2.0",
      "model_name": "LayoutModel",
      "state": {}
     },
     "0abbf454313f4e75ba7a7e1cad677c0c": {
      "model_module": "@jupyter-widgets/base",
      "model_module_version": "1.2.0",
      "model_name": "LayoutModel",
      "state": {
       "display": "inline-flex",
       "flex_flow": "row wrap",
       "visibility": "hidden",
       "width": "100%"
      }
     },
     "0afd8877efab41a582e426c2dbbfac72": {
      "model_module": "@jupyter-widgets/controls",
      "model_module_version": "1.5.0",
      "model_name": "FloatProgressModel",
      "state": {
       "bar_style": "success",
       "layout": "IPY_MODEL_ad60f74e0a4a42988548b459c7d16bd7",
       "max": 417,
       "style": "IPY_MODEL_ae48d61122394cbf97532d6f02f1fff5",
       "value": 417
      }
     },
     "0b0395644b4e49be83dc9f20b7e27fe9": {
      "model_module": "@jupyter-widgets/base",
      "model_module_version": "1.2.0",
      "model_name": "LayoutModel",
      "state": {}
     },
     "0b0e1a34a64d412b981e89db28416df7": {
      "model_module": "@jupyter-widgets/controls",
      "model_module_version": "1.5.0",
      "model_name": "DescriptionStyleModel",
      "state": {
       "description_width": ""
      }
     },
     "0b10c08787714703a5b971a07f5b85cb": {
      "model_module": "@jupyter-widgets/base",
      "model_module_version": "1.2.0",
      "model_name": "LayoutModel",
      "state": {}
     },
     "0b164eb270f142d3af1e5c69d6df8909": {
      "model_module": "@jupyter-widgets/controls",
      "model_module_version": "1.5.0",
      "model_name": "FloatProgressModel",
      "state": {
       "layout": "IPY_MODEL_86f11c27ad9b4cc1a33762a93c615bc3",
       "max": 191,
       "style": "IPY_MODEL_e5f67d1f3cc24000a50856656a106599",
       "value": 191
      }
     },
     "0b1d7de587e64001846e19591d995665": {
      "model_module": "@jupyter-widgets/controls",
      "model_module_version": "1.5.0",
      "model_name": "DescriptionStyleModel",
      "state": {
       "description_width": ""
      }
     },
     "0b2a945c4af847818234acd18d1212d5": {
      "model_module": "@jupyter-widgets/base",
      "model_module_version": "1.2.0",
      "model_name": "LayoutModel",
      "state": {
       "display": "inline-flex",
       "flex_flow": "row wrap",
       "visibility": "hidden",
       "width": "100%"
      }
     },
     "0b5595c0ca374e65b5e7bb58b03ff370": {
      "model_module": "@jupyter-widgets/base",
      "model_module_version": "1.2.0",
      "model_name": "LayoutModel",
      "state": {}
     },
     "0b7ca9c690c54c5c9791f06ba693024d": {
      "model_module": "@jupyter-widgets/controls",
      "model_module_version": "1.5.0",
      "model_name": "HTMLModel",
      "state": {
       "layout": "IPY_MODEL_b202a13fc83f4f8fa4339be0098268a8",
       "style": "IPY_MODEL_b1805cc753c340359fce2c6b74277782",
       "value": "  0%"
      }
     },
     "0b82afaaa0d942329f9e05fe8f69ba7a": {
      "model_module": "@jupyter-widgets/controls",
      "model_module_version": "1.5.0",
      "model_name": "DescriptionStyleModel",
      "state": {
       "description_width": ""
      }
     },
     "0b8a6a4d7e7e4670ab975106c68d06a2": {
      "model_module": "@jupyter-widgets/base",
      "model_module_version": "1.2.0",
      "model_name": "LayoutModel",
      "state": {
       "display": "inline-flex",
       "flex_flow": "row wrap",
       "width": "100%"
      }
     },
     "0ba77ea7486a45ffb739ad484fc6f2e8": {
      "model_module": "@jupyter-widgets/controls",
      "model_module_version": "1.5.0",
      "model_name": "FloatProgressModel",
      "state": {
       "layout": "IPY_MODEL_61e8076556ce4f10838472d4368b1d58",
       "max": 191,
       "style": "IPY_MODEL_c70d0c3e236844208482f57851695a89",
       "value": 191
      }
     },
     "0bb91f1c6f5c4fb0a35f1e53ccbb32af": {
      "model_module": "@jupyter-widgets/base",
      "model_module_version": "1.2.0",
      "model_name": "LayoutModel",
      "state": {
       "flex": "2"
      }
     },
     "0be4e4cb0dbe4edf9367a789f3cf591a": {
      "model_module": "@jupyter-widgets/base",
      "model_module_version": "1.2.0",
      "model_name": "LayoutModel",
      "state": {}
     },
     "0c1929be7b9e43f0b40e26f597405029": {
      "model_module": "@jupyter-widgets/base",
      "model_module_version": "1.2.0",
      "model_name": "LayoutModel",
      "state": {
       "display": "inline-flex",
       "flex_flow": "row wrap",
       "width": "100%"
      }
     },
     "0c24ea1881a54708baeb18b984cb50e2": {
      "model_module": "@jupyter-widgets/base",
      "model_module_version": "1.2.0",
      "model_name": "LayoutModel",
      "state": {
       "flex": "2"
      }
     },
     "0c6441031be04fd9ba1d642d13b96853": {
      "model_module": "@jupyter-widgets/controls",
      "model_module_version": "1.5.0",
      "model_name": "DescriptionStyleModel",
      "state": {
       "description_width": ""
      }
     },
     "0cc3703e49e44000b79a30ffa122d186": {
      "model_module": "@jupyter-widgets/controls",
      "model_module_version": "1.5.0",
      "model_name": "HTMLModel",
      "state": {
       "layout": "IPY_MODEL_4c1217aed91d43b98e05dda5ff6480e4",
       "style": "IPY_MODEL_8e189102c057424b8e169fa385ee7196",
       "value": "Sanity Checking DataLoader 0: 100%"
      }
     },
     "0cd9a11da4a743d5bad38a317fcf7c07": {
      "model_module": "@jupyter-widgets/controls",
      "model_module_version": "1.5.0",
      "model_name": "DescriptionStyleModel",
      "state": {
       "description_width": ""
      }
     },
     "0cdaf302a3f3466f94538f2d82c7079b": {
      "model_module": "@jupyter-widgets/controls",
      "model_module_version": "1.5.0",
      "model_name": "ProgressStyleModel",
      "state": {
       "description_width": ""
      }
     },
     "0d395cf7bb4540389c33ae201c8c1a0f": {
      "model_module": "@jupyter-widgets/base",
      "model_module_version": "1.2.0",
      "model_name": "LayoutModel",
      "state": {}
     },
     "0d49d961060e4fceb2d12585cb1abdac": {
      "model_module": "@jupyter-widgets/base",
      "model_module_version": "1.2.0",
      "model_name": "LayoutModel",
      "state": {}
     },
     "0d4c1d2a929e4f3e8bff2cdee8a41526": {
      "model_module": "@jupyter-widgets/base",
      "model_module_version": "1.2.0",
      "model_name": "LayoutModel",
      "state": {
       "display": "inline-flex",
       "flex_flow": "row wrap",
       "visibility": "hidden",
       "width": "100%"
      }
     },
     "0d4c8329577a453d990111c7f833a11c": {
      "model_module": "@jupyter-widgets/base",
      "model_module_version": "1.2.0",
      "model_name": "LayoutModel",
      "state": {
       "display": "inline-flex",
       "flex_flow": "row wrap",
       "visibility": "hidden",
       "width": "100%"
      }
     },
     "0da2927fd65f478887bc4baee0a9276f": {
      "model_module": "@jupyter-widgets/controls",
      "model_module_version": "1.5.0",
      "model_name": "HTMLModel",
      "state": {
       "layout": "IPY_MODEL_6bd92b52f0d44123ac2cc1baed6d090f",
       "style": "IPY_MODEL_a4794fdbd9af4c2b963831d46cb9e7dc",
       "value": " 191/191 [00:10&lt;00:00, 17.87it/s]"
      }
     },
     "0dbeff23d8944d87aad8e776e44985fd": {
      "model_module": "@jupyter-widgets/controls",
      "model_module_version": "1.5.0",
      "model_name": "HTMLModel",
      "state": {
       "layout": "IPY_MODEL_da45934a8c3f4568b588c17893e3018b",
       "style": "IPY_MODEL_25731671bdb841269e9f88972970cfb1",
       "value": " 2/2 [00:00&lt;00:00, 14.55it/s]"
      }
     },
     "0dd7a2af8315422486edfc644081d146": {
      "model_module": "@jupyter-widgets/base",
      "model_module_version": "1.2.0",
      "model_name": "LayoutModel",
      "state": {}
     },
     "0de55178625b4d46b635f24c6d859ff5": {
      "model_module": "@jupyter-widgets/base",
      "model_module_version": "1.2.0",
      "model_name": "LayoutModel",
      "state": {
       "display": "inline-flex",
       "flex_flow": "row wrap",
       "visibility": "hidden",
       "width": "100%"
      }
     },
     "0de609717d2549219f68da30d23fc50a": {
      "model_module": "@jupyter-widgets/controls",
      "model_module_version": "1.5.0",
      "model_name": "HTMLModel",
      "state": {
       "layout": "IPY_MODEL_a0f7af20de3f4332bbe744a1a51ad2e4",
       "style": "IPY_MODEL_096222d36db7478d9acf3cfd46645b12",
       "value": " 417/417 [00:56&lt;00:00,  7.44it/s, v_num=x13x, seq_len=94.10, y=0.0083, valid/AUROC=0.639]"
      }
     },
     "0eff5cfeeec249f3ac75e8ec8dfdfc20": {
      "model_module": "@jupyter-widgets/base",
      "model_module_version": "1.2.0",
      "model_name": "LayoutModel",
      "state": {}
     },
     "0f235ef827e84356ab0806aa67c146c9": {
      "model_module": "@jupyter-widgets/controls",
      "model_module_version": "1.5.0",
      "model_name": "DescriptionStyleModel",
      "state": {
       "description_width": ""
      }
     },
     "0f376ee2741c487f9b636bf3323cbf25": {
      "model_module": "@jupyter-widgets/controls",
      "model_module_version": "1.5.0",
      "model_name": "HTMLModel",
      "state": {
       "layout": "IPY_MODEL_ac0ed4e6e8fe4446bffab7a10ac922b5",
       "style": "IPY_MODEL_08f7b6bf44674ee3b8fb944043659805",
       "value": " 191/191 [00:12&lt;00:00, 15.05it/s]"
      }
     },
     "0f41a6af854e4d08a3cd1928014ceabf": {
      "model_module": "@jupyter-widgets/base",
      "model_module_version": "1.2.0",
      "model_name": "LayoutModel",
      "state": {
       "display": "inline-flex",
       "flex_flow": "row wrap",
       "width": "100%"
      }
     },
     "0f6e043edd34438eb2b4617013f08ba8": {
      "model_module": "@jupyter-widgets/controls",
      "model_module_version": "1.5.0",
      "model_name": "HTMLModel",
      "state": {
       "layout": "IPY_MODEL_7c3aa53650a347298a0732501359074d",
       "style": "IPY_MODEL_24a732d9853a4026987d1520fbdd53e6",
       "value": " 41/417 [00:39&lt;06:04,  1.03it/s, v_num=dla8, seq_len=1.550, y=0.0234, valid/AUROC=0.531]"
      }
     },
     "0f7df11a3fbe4e2c9359b260907f535c": {
      "model_module": "@jupyter-widgets/controls",
      "model_module_version": "1.5.0",
      "model_name": "HTMLModel",
      "state": {
       "layout": "IPY_MODEL_ea1d21168a5641e299be2ed05b12030a",
       "style": "IPY_MODEL_fabe8909751a4ec99695ca7db437c88c",
       "value": "Sanity Checking DataLoader 0: 100%"
      }
     },
     "0f88828c7ce24a9cbce5391d726d1537": {
      "model_module": "@jupyter-widgets/base",
      "model_module_version": "1.2.0",
      "model_name": "LayoutModel",
      "state": {}
     },
     "0fadd076e7744c1c820ce934e1f4e026": {
      "model_module": "@jupyter-widgets/controls",
      "model_module_version": "1.5.0",
      "model_name": "DescriptionStyleModel",
      "state": {
       "description_width": ""
      }
     },
     "0fd521f516a045719cb2d9cebf2b9620": {
      "model_module": "@jupyter-widgets/base",
      "model_module_version": "1.2.0",
      "model_name": "LayoutModel",
      "state": {}
     },
     "0fe0a777a3d04dbb9f3b633db33736ca": {
      "model_module": "@jupyter-widgets/base",
      "model_module_version": "1.2.0",
      "model_name": "LayoutModel",
      "state": {
       "flex": "2"
      }
     },
     "1005517a68454978acc45b7e37c8ba7d": {
      "model_module": "@jupyter-widgets/controls",
      "model_module_version": "1.5.0",
      "model_name": "ProgressStyleModel",
      "state": {
       "description_width": ""
      }
     },
     "1022a5c0294146b180a0fb8c8d4258c3": {
      "model_module": "@jupyter-widgets/controls",
      "model_module_version": "1.5.0",
      "model_name": "HTMLModel",
      "state": {
       "layout": "IPY_MODEL_e2e289133bb04a69b756a928300dc858",
       "style": "IPY_MODEL_ad0c083ba2f4489698e3c3e9e371e495",
       "value": " 191/191 [00:10&lt;00:00, 17.92it/s]"
      }
     },
     "104ad2161e424dc2a577406c1b69c8b6": {
      "model_module": "@jupyter-widgets/controls",
      "model_module_version": "1.5.0",
      "model_name": "ProgressStyleModel",
      "state": {
       "description_width": ""
      }
     },
     "106d5c8fcf844ea6bdfb0b810b86d6a2": {
      "model_module": "@jupyter-widgets/controls",
      "model_module_version": "1.5.0",
      "model_name": "ProgressStyleModel",
      "state": {
       "description_width": ""
      }
     },
     "10899f63cd164fd8bb72874b8d282367": {
      "model_module": "@jupyter-widgets/base",
      "model_module_version": "1.2.0",
      "model_name": "LayoutModel",
      "state": {}
     },
     "10cd62c5d04f4dcab00e86cb3a495796": {
      "model_module": "@jupyter-widgets/controls",
      "model_module_version": "1.5.0",
      "model_name": "VBoxModel",
      "state": {
       "children": [
        "IPY_MODEL_2cc773f2774243bd8708d3745e5818e8",
        "IPY_MODEL_8df9939e4f074576afeaea6ba5f53615"
       ],
       "layout": "IPY_MODEL_4e42ced0e9c34a7fba11188cecf15715"
      }
     },
     "10d2a55f762b4429a75e5ae362eccf07": {
      "model_module": "@jupyter-widgets/controls",
      "model_module_version": "1.5.0",
      "model_name": "DescriptionStyleModel",
      "state": {
       "description_width": ""
      }
     },
     "10df00a9ed8649a9b0b961a3503cf8f8": {
      "model_module": "@jupyter-widgets/controls",
      "model_module_version": "1.5.0",
      "model_name": "HBoxModel",
      "state": {
       "children": [
        "IPY_MODEL_bde8beac7c2a4acfb6cd870a598e067a",
        "IPY_MODEL_f6d046bb243d4f6c909ff10bec93c092",
        "IPY_MODEL_862f8b35cf16482498d370abe749de18"
       ],
       "layout": "IPY_MODEL_9c35c752b4724eb5bf559558c1a6e0c1"
      }
     },
     "113ea4b1a04040c59567e9e5d691c0a3": {
      "model_module": "@jupyter-widgets/base",
      "model_module_version": "1.2.0",
      "model_name": "LayoutModel",
      "state": {
       "display": "inline-flex",
       "flex_flow": "row wrap",
       "visibility": "hidden",
       "width": "100%"
      }
     },
     "11406904850d47918fa07151a1511c64": {
      "model_module": "@jupyter-widgets/base",
      "model_module_version": "1.2.0",
      "model_name": "LayoutModel",
      "state": {}
     },
     "1143b400bf67459bab33e451a2083fba": {
      "model_module": "@jupyter-widgets/base",
      "model_module_version": "1.2.0",
      "model_name": "LayoutModel",
      "state": {
       "flex": "2"
      }
     },
     "1165a5739a1d40098169e49b0ff61d3d": {
      "model_module": "@jupyter-widgets/controls",
      "model_module_version": "1.5.0",
      "model_name": "FloatProgressModel",
      "state": {
       "bar_style": "success",
       "layout": "IPY_MODEL_fd8ca6af171c42aba76c0cb088670530",
       "max": 417,
       "style": "IPY_MODEL_7524890325d14c39a0c5d2d136971cad",
       "value": 417
      }
     },
     "117c982d4ddd4c4fbbe48db29e343964": {
      "model_module": "@jupyter-widgets/controls",
      "model_module_version": "1.5.0",
      "model_name": "ProgressStyleModel",
      "state": {
       "description_width": ""
      }
     },
     "1180b7053f6e4e12baa2561894affb4b": {
      "model_module": "@jupyter-widgets/base",
      "model_module_version": "1.2.0",
      "model_name": "LayoutModel",
      "state": {
       "flex": "2"
      }
     },
     "118c4df1647c4562b3944d20d927640d": {
      "model_module": "@jupyter-widgets/base",
      "model_module_version": "1.2.0",
      "model_name": "LayoutModel",
      "state": {
       "display": "inline-flex",
       "flex_flow": "row wrap",
       "visibility": "hidden",
       "width": "100%"
      }
     },
     "11b29eefefd4496b8a1e620db168a11e": {
      "model_module": "@jupyter-widgets/base",
      "model_module_version": "1.2.0",
      "model_name": "LayoutModel",
      "state": {
       "flex": "2"
      }
     },
     "11d59332e2e340b5a14d4c3570706440": {
      "model_module": "@jupyter-widgets/controls",
      "model_module_version": "1.5.0",
      "model_name": "HTMLModel",
      "state": {
       "layout": "IPY_MODEL_6e6f749d46734f028d1e29afc308461f",
       "style": "IPY_MODEL_e648cec3b847491382e71fa3a13cd428",
       "value": " 191/191 [00:10&lt;00:00, 18.09it/s]"
      }
     },
     "11f53605455b40248e1958fec6fd49c8": {
      "model_module": "@jupyter-widgets/controls",
      "model_module_version": "1.5.0",
      "model_name": "ProgressStyleModel",
      "state": {
       "description_width": ""
      }
     },
     "1205ab8791564514bfdcd9178129ef4c": {
      "model_module": "@jupyter-widgets/base",
      "model_module_version": "1.2.0",
      "model_name": "LayoutModel",
      "state": {}
     },
     "121113b32afe49e9a1421659d9f9d532": {
      "model_module": "@jupyter-widgets/base",
      "model_module_version": "1.2.0",
      "model_name": "LayoutModel",
      "state": {}
     },
     "12166669b4444877a9840a5c25ca3181": {
      "model_module": "@jupyter-widgets/controls",
      "model_module_version": "1.5.0",
      "model_name": "HTMLModel",
      "state": {
       "layout": "IPY_MODEL_1ef1124d9bda4b20aacbc7d335f3a839",
       "style": "IPY_MODEL_26331972e4bf4edab76fe5fa704a2ae7",
       "value": " 191/191 [00:12&lt;00:00, 15.91it/s]"
      }
     },
     "121edff158f946c6abb45b0e875fb2db": {
      "model_module": "@jupyter-widgets/controls",
      "model_module_version": "1.5.0",
      "model_name": "HTMLModel",
      "state": {
       "layout": "IPY_MODEL_d8c73bec282d4071a893d8c972c419eb",
       "style": "IPY_MODEL_d752a2851f4f499faec2a96ec1bcc46f",
       "value": " 191/191 [00:10&lt;00:00, 18.11it/s]"
      }
     },
     "123900225dfa4e8eaba4224944350dba": {
      "model_module": "@jupyter-widgets/base",
      "model_module_version": "1.2.0",
      "model_name": "LayoutModel",
      "state": {
       "display": "inline-flex",
       "flex_flow": "row wrap",
       "visibility": "hidden",
       "width": "100%"
      }
     },
     "12399e2f969b44caaa0d6712024ed13f": {
      "model_module": "@jupyter-widgets/base",
      "model_module_version": "1.2.0",
      "model_name": "LayoutModel",
      "state": {}
     },
     "126bf943d41c45c1888eca8bae10dd2b": {
      "model_module": "@jupyter-widgets/controls",
      "model_module_version": "1.5.0",
      "model_name": "ProgressStyleModel",
      "state": {
       "description_width": ""
      }
     },
     "126ec0c67e93422b99ce8a83aba50d81": {
      "model_module": "@jupyter-widgets/controls",
      "model_module_version": "1.5.0",
      "model_name": "HTMLModel",
      "state": {
       "layout": "IPY_MODEL_65ae9c4efa694d8596b8c43aded43822",
       "style": "IPY_MODEL_276b4502e24d40709eb4611eb67f442c",
       "value": "100%"
      }
     },
     "127a3344c6bd48b3b53f2b0acce1cb93": {
      "model_module": "@jupyter-widgets/controls",
      "model_module_version": "1.5.0",
      "model_name": "ProgressStyleModel",
      "state": {
       "description_width": ""
      }
     },
     "129d3cee95e945808bec62d25fcb85bc": {
      "model_module": "@jupyter-widgets/controls",
      "model_module_version": "1.5.0",
      "model_name": "DescriptionStyleModel",
      "state": {
       "description_width": ""
      }
     },
     "12a03c5c11844d1bb2bff02691c5ae77": {
      "model_module": "@jupyter-widgets/controls",
      "model_module_version": "1.5.0",
      "model_name": "HTMLModel",
      "state": {
       "layout": "IPY_MODEL_743bde27460b4d26b588a189511d1c93",
       "style": "IPY_MODEL_7d6566d7ff3748d28da0ee085ceec6c7",
       "value": "Epoch 1: 100%"
      }
     },
     "12a15acef208463291b13c1f06ed9d26": {
      "model_module": "@jupyter-widgets/base",
      "model_module_version": "1.2.0",
      "model_name": "LayoutModel",
      "state": {
       "display": "inline-flex",
       "flex_flow": "row wrap",
       "visibility": "hidden",
       "width": "100%"
      }
     },
     "12d85d7dc565484fb660f235471462d1": {
      "model_module": "@jupyter-widgets/controls",
      "model_module_version": "1.5.0",
      "model_name": "HBoxModel",
      "state": {
       "children": [
        "IPY_MODEL_c2d8ed28ef1c4e7491f1be7e0f368d09",
        "IPY_MODEL_25553c74615d4c17b998241c54b03a73",
        "IPY_MODEL_31335a4ee802477ca88b5d4d3e047c80"
       ],
       "layout": "IPY_MODEL_e44ba1f822f84760adb2dca74252f09b"
      }
     },
     "12d8627d250543f7b294d27263fbdb57": {
      "model_module": "@jupyter-widgets/base",
      "model_module_version": "1.2.0",
      "model_name": "LayoutModel",
      "state": {}
     },
     "12f0d25c67a141d98f7bde74b967136b": {
      "model_module": "@jupyter-widgets/controls",
      "model_module_version": "1.5.0",
      "model_name": "HTMLModel",
      "state": {
       "layout": "IPY_MODEL_cde1c2d41d9444178738dba8fbd80dbd",
       "style": "IPY_MODEL_edda525e2f4b4147bc113f31a985ff52",
       "value": " 191/191 [00:11&lt;00:00, 17.07it/s]"
      }
     },
     "12f41b23d1e7479d814d6e341876fbaa": {
      "model_module": "@jupyter-widgets/base",
      "model_module_version": "1.2.0",
      "model_name": "LayoutModel",
      "state": {}
     },
     "1393f3d3c116468eb2599fa200c7704b": {
      "model_module": "@jupyter-widgets/base",
      "model_module_version": "1.2.0",
      "model_name": "LayoutModel",
      "state": {}
     },
     "14083bc3bf0d4a20bd6903d032592b75": {
      "model_module": "@jupyter-widgets/controls",
      "model_module_version": "1.5.0",
      "model_name": "FloatProgressModel",
      "state": {
       "bar_style": "danger",
       "layout": "IPY_MODEL_61cf1e3f45134cc986398513f03f254a",
       "max": 417,
       "style": "IPY_MODEL_31770de14e5b4f24b6edda96f35a717a",
       "value": 41
      }
     },
     "14099b48f1294e0290e2141c160884f0": {
      "model_module": "@jupyter-widgets/controls",
      "model_module_version": "1.5.0",
      "model_name": "HTMLModel",
      "state": {
       "layout": "IPY_MODEL_10899f63cd164fd8bb72874b8d282367",
       "style": "IPY_MODEL_3415b169f69f4c1ba9ce4f89e1badc85",
       "value": "Sanity Checking DataLoader 0: 100%"
      }
     },
     "14333b66ec8748b8b9d7265708b056e8": {
      "model_module": "@jupyter-widgets/controls",
      "model_module_version": "1.5.0",
      "model_name": "HTMLModel",
      "state": {
       "layout": "IPY_MODEL_c1432ffa55d34322a191681b4c708b3d",
       "style": "IPY_MODEL_4694f84b637344ca985423e9c6033edd",
       "value": "Validation DataLoader 0: 100%"
      }
     },
     "143cd599ac374fee82b21420139f3026": {
      "model_module": "@jupyter-widgets/controls",
      "model_module_version": "1.5.0",
      "model_name": "DescriptionStyleModel",
      "state": {
       "description_width": ""
      }
     },
     "14482f132dcf48a699c9256a5934338c": {
      "model_module": "@jupyter-widgets/controls",
      "model_module_version": "1.5.0",
      "model_name": "HTMLModel",
      "state": {
       "layout": "IPY_MODEL_939023954e7c4916b5c74267829f99f9",
       "style": "IPY_MODEL_6d5b3e6bc8764016a70f3fd626862da0",
       "value": " 191/191 [00:11&lt;00:00, 16.95it/s]"
      }
     },
     "14671b6caa4143ea8b0823108c2d262d": {
      "model_module": "@jupyter-widgets/controls",
      "model_module_version": "1.5.0",
      "model_name": "ProgressStyleModel",
      "state": {
       "description_width": ""
      }
     },
     "1490e7a694e64f8f80efc321c35beb53": {
      "model_module": "@jupyter-widgets/controls",
      "model_module_version": "1.5.0",
      "model_name": "HBoxModel",
      "state": {
       "children": [
        "IPY_MODEL_aa496b12cbdc4a6da13281c018c67392",
        "IPY_MODEL_ecef9cc10fb64ce6b69ff6d502e5ad51",
        "IPY_MODEL_e36053478d914561a050c2962c3e41ec"
       ],
       "layout": "IPY_MODEL_8de91a7fd8bc409eb71d502ab8412e8c"
      }
     },
     "14974b601ec445809e2d58aa79ccaf6b": {
      "model_module": "@jupyter-widgets/controls",
      "model_module_version": "1.5.0",
      "model_name": "FloatProgressModel",
      "state": {
       "bar_style": "success",
       "layout": "IPY_MODEL_fe494356712c49fbbb8543d44081b884",
       "max": 3,
       "style": "IPY_MODEL_08ae9eb5dbb24794af4c98828523d920",
       "value": 3
      }
     },
     "152eeb492ef2447fa03b706354a953c4": {
      "model_module": "@jupyter-widgets/base",
      "model_module_version": "1.2.0",
      "model_name": "LayoutModel",
      "state": {}
     },
     "156eeaaea19148fcb613fe26fce66c56": {
      "model_module": "@jupyter-widgets/controls",
      "model_module_version": "1.5.0",
      "model_name": "HTMLModel",
      "state": {
       "layout": "IPY_MODEL_15f8fc0857604cf8b277688be4cf985e",
       "style": "IPY_MODEL_3aa7913c5afa43659a8fd9984f825ccf",
       "value": "Epoch 1: 100%"
      }
     },
     "1579b5ed688b4682a783df78654c9a9f": {
      "model_module": "@jupyter-widgets/controls",
      "model_module_version": "1.5.0",
      "model_name": "HTMLModel",
      "state": {
       "layout": "IPY_MODEL_46af13256f7546dba748653227b9c210",
       "style": "IPY_MODEL_175bbe16643946c98453f55fc4c16c8b",
       "value": "Sanity Checking DataLoader 0: 100%"
      }
     },
     "15836876c1af4494a230bad435f0d6ed": {
      "model_module": "@jupyter-widgets/controls",
      "model_module_version": "1.5.0",
      "model_name": "ProgressStyleModel",
      "state": {
       "description_width": ""
      }
     },
     "15b72af75f734318843bec83afdc0f24": {
      "model_module": "@jupyter-widgets/controls",
      "model_module_version": "1.5.0",
      "model_name": "ProgressStyleModel",
      "state": {
       "description_width": ""
      }
     },
     "15ca9a2983eb4202a8be696bc079bbc6": {
      "model_module": "@jupyter-widgets/base",
      "model_module_version": "1.2.0",
      "model_name": "LayoutModel",
      "state": {}
     },
     "15f8fc0857604cf8b277688be4cf985e": {
      "model_module": "@jupyter-widgets/base",
      "model_module_version": "1.2.0",
      "model_name": "LayoutModel",
      "state": {}
     },
     "16454ecf78794bba95ebc2a2c1493b30": {
      "model_module": "@jupyter-widgets/controls",
      "model_module_version": "1.5.0",
      "model_name": "DescriptionStyleModel",
      "state": {
       "description_width": ""
      }
     },
     "16474fdc3d0c4c89bc0bf516b886e381": {
      "model_module": "@jupyter-widgets/controls",
      "model_module_version": "1.5.0",
      "model_name": "DescriptionStyleModel",
      "state": {
       "description_width": ""
      }
     },
     "164b46ce186e4cdb932df422a073a7c8": {
      "model_module": "@jupyter-widgets/controls",
      "model_module_version": "1.5.0",
      "model_name": "DescriptionStyleModel",
      "state": {
       "description_width": ""
      }
     },
     "166cd664ec12414e85c2082c33d507e0": {
      "model_module": "@jupyter-widgets/controls",
      "model_module_version": "1.5.0",
      "model_name": "ProgressStyleModel",
      "state": {
       "description_width": ""
      }
     },
     "16a0d5184e444fcaaf97276d24467d48": {
      "model_module": "@jupyter-widgets/controls",
      "model_module_version": "1.5.0",
      "model_name": "HTMLModel",
      "state": {
       "layout": "IPY_MODEL_737167c6ecd64ab5be60092113b7e933",
       "style": "IPY_MODEL_dbce2b9830ec440b8f658b42cf12d596",
       "value": "Epoch 1: 100%"
      }
     },
     "16e9a41ae8f14630a3547cedb7370efd": {
      "model_module": "@jupyter-widgets/base",
      "model_module_version": "1.2.0",
      "model_name": "LayoutModel",
      "state": {
       "display": "inline-flex",
       "flex_flow": "row wrap",
       "visibility": "hidden",
       "width": "100%"
      }
     },
     "1745db5513bf4b4498c9f5e728c49109": {
      "model_module": "@jupyter-widgets/controls",
      "model_module_version": "1.5.0",
      "model_name": "ProgressStyleModel",
      "state": {
       "description_width": ""
      }
     },
     "175bbe16643946c98453f55fc4c16c8b": {
      "model_module": "@jupyter-widgets/controls",
      "model_module_version": "1.5.0",
      "model_name": "DescriptionStyleModel",
      "state": {
       "description_width": ""
      }
     },
     "177b4733118146bd91df8ea72f11b959": {
      "model_module": "@jupyter-widgets/base",
      "model_module_version": "1.2.0",
      "model_name": "LayoutModel",
      "state": {}
     },
     "179b9b6161d44b2daf7f82eec2352b9f": {
      "model_module": "@jupyter-widgets/controls",
      "model_module_version": "1.5.0",
      "model_name": "HTMLModel",
      "state": {
       "layout": "IPY_MODEL_3c1ea53303e14d05a91b8b29de2c02af",
       "style": "IPY_MODEL_9c83f18cf74d49ff8b64f63da4315377",
       "value": " 232/417 [00:14&lt;00:11, 15.81it/s, v_num=dla8, seq_len=1.880, y=0.0156, valid/AUROC=0.624]"
      }
     },
     "17a3cab5fbb14f6cbfb715185c8d38e5": {
      "model_module": "@jupyter-widgets/base",
      "model_module_version": "1.2.0",
      "model_name": "LayoutModel",
      "state": {
       "flex": "2"
      }
     },
     "17b8fbc8e89a4b87ac309879457e09cd": {
      "model_module": "@jupyter-widgets/base",
      "model_module_version": "1.2.0",
      "model_name": "LayoutModel",
      "state": {
       "display": "inline-flex",
       "flex_flow": "row wrap",
       "visibility": "hidden",
       "width": "100%"
      }
     },
     "17c54e87006d415d8a8b517a94d8a99b": {
      "model_module": "@jupyter-widgets/controls",
      "model_module_version": "1.5.0",
      "model_name": "HTMLModel",
      "state": {
       "layout": "IPY_MODEL_0d49d961060e4fceb2d12585cb1abdac",
       "style": "IPY_MODEL_0c6441031be04fd9ba1d642d13b96853",
       "value": " 8/8 [01:40&lt;00:00, 12.68s/it]"
      }
     },
     "17d182719d7b499ca85394a4827b2560": {
      "model_module": "@jupyter-widgets/controls",
      "model_module_version": "1.5.0",
      "model_name": "HTMLModel",
      "state": {
       "layout": "IPY_MODEL_8135a29eeb9141f58e935305a6809585",
       "style": "IPY_MODEL_ccff63ad53ef49369f3e52bede420bf9",
       "value": " 1/1 [13:45&lt;00:00, 825.84s/it]"
      }
     },
     "17f8a3e5aeb64bc19c8f8a5bba4c59b9": {
      "model_module": "@jupyter-widgets/controls",
      "model_module_version": "1.5.0",
      "model_name": "FloatProgressModel",
      "state": {
       "layout": "IPY_MODEL_ab3b861084234f0aa176f59a23cb000d",
       "max": 2,
       "style": "IPY_MODEL_e8ec2bb7045945858daee6bdca50e7ff",
       "value": 2
      }
     },
     "18169d77a5574a9d9f3e1936600bf319": {
      "model_module": "@jupyter-widgets/base",
      "model_module_version": "1.2.0",
      "model_name": "LayoutModel",
      "state": {
       "flex": "2"
      }
     },
     "181a4735c491409d8d40c31de8dcd076": {
      "model_module": "@jupyter-widgets/base",
      "model_module_version": "1.2.0",
      "model_name": "LayoutModel",
      "state": {}
     },
     "1825b3c7bec04da59233f1a6e1d5b647": {
      "model_module": "@jupyter-widgets/controls",
      "model_module_version": "1.5.0",
      "model_name": "DescriptionStyleModel",
      "state": {
       "description_width": ""
      }
     },
     "184819e8cf3a48b9a950148913ddfc15": {
      "model_module": "@jupyter-widgets/base",
      "model_module_version": "1.2.0",
      "model_name": "LayoutModel",
      "state": {}
     },
     "184c8175331e484db851f222e51d0ce7": {
      "model_module": "@jupyter-widgets/controls",
      "model_module_version": "1.5.0",
      "model_name": "ProgressStyleModel",
      "state": {
       "description_width": ""
      }
     },
     "18a391abd7ef4732ab66d553abe0feab": {
      "model_module": "@jupyter-widgets/base",
      "model_module_version": "1.2.0",
      "model_name": "LayoutModel",
      "state": {
       "display": "inline-flex",
       "flex_flow": "row wrap",
       "visibility": "hidden",
       "width": "100%"
      }
     },
     "18acd5eb34bd4eac8ff27827b61ed8e2": {
      "model_module": "@jupyter-widgets/base",
      "model_module_version": "1.2.0",
      "model_name": "LayoutModel",
      "state": {
       "flex": "2"
      }
     },
     "18c33c8aa9354a478d0147055a24bd82": {
      "model_module": "@jupyter-widgets/base",
      "model_module_version": "1.2.0",
      "model_name": "LayoutModel",
      "state": {
       "flex": "2"
      }
     },
     "18deb0196ff04361902c0f1e5d82cdce": {
      "model_module": "@jupyter-widgets/base",
      "model_module_version": "1.2.0",
      "model_name": "LayoutModel",
      "state": {
       "display": "inline-flex",
       "flex_flow": "row wrap",
       "visibility": "hidden",
       "width": "100%"
      }
     },
     "18eccdc1df5c4fc9a03387ad53c478fb": {
      "model_module": "@jupyter-widgets/controls",
      "model_module_version": "1.5.0",
      "model_name": "DescriptionStyleModel",
      "state": {
       "description_width": ""
      }
     },
     "1919e4cdad5e48568410e861bb06f83a": {
      "model_module": "@jupyter-widgets/controls",
      "model_module_version": "1.5.0",
      "model_name": "HTMLModel",
      "state": {
       "layout": "IPY_MODEL_aa1afc134c734003a07d1b69d2a2e561",
       "style": "IPY_MODEL_83f7dbd4728749319576f4a9eebf3122",
       "value": "Epoch 1: 100%"
      }
     },
     "192184561bd746c3819ed54b10f9f2c8": {
      "model_module": "@jupyter-widgets/controls",
      "model_module_version": "1.5.0",
      "model_name": "DescriptionStyleModel",
      "state": {
       "description_width": ""
      }
     },
     "19265d72cb9343afb11b337849d1a827": {
      "model_module": "@jupyter-widgets/controls",
      "model_module_version": "1.5.0",
      "model_name": "HBoxModel",
      "state": {
       "children": [
        "IPY_MODEL_2b5bcc6847da470989885a500b1e9c91",
        "IPY_MODEL_593e66a9ecf7453597a9daf3c63f0a34",
        "IPY_MODEL_06eedf77de9a41289097dec10aa37e9d"
       ],
       "layout": "IPY_MODEL_7f9bf6c205824fcdad7c6eb3144e5aab"
      }
     },
     "1937116339a648aaaa01e4ea1dbc667c": {
      "model_module": "@jupyter-widgets/base",
      "model_module_version": "1.2.0",
      "model_name": "LayoutModel",
      "state": {}
     },
     "196d311f77e94ecbb2df29b0e37eec46": {
      "model_module": "@jupyter-widgets/controls",
      "model_module_version": "1.5.0",
      "model_name": "FloatProgressModel",
      "state": {
       "layout": "IPY_MODEL_768ac8162dce4ff39d84231c60f289de",
       "max": 191,
       "style": "IPY_MODEL_27801563cccb4d35875042fdaf10bbe2",
       "value": 191
      }
     },
     "197bcc227a5741039d2c676d0eead03b": {
      "model_module": "@jupyter-widgets/base",
      "model_module_version": "1.2.0",
      "model_name": "LayoutModel",
      "state": {
       "display": "inline-flex",
       "flex_flow": "row wrap",
       "visibility": "hidden",
       "width": "100%"
      }
     },
     "198183562bb04e00bbaf21982ba89924": {
      "model_module": "@jupyter-widgets/controls",
      "model_module_version": "1.5.0",
      "model_name": "HTMLModel",
      "state": {
       "layout": "IPY_MODEL_03427fa6d0454520953ae0832761a2a3",
       "style": "IPY_MODEL_f224a8fcc54c4f018dc64970f0e52274",
       "value": " 191/191 [00:13&lt;00:00, 14.15it/s]"
      }
     },
     "1a0b907af0db4218be1fbdec63f6ab52": {
      "model_module": "@jupyter-widgets/controls",
      "model_module_version": "1.5.0",
      "model_name": "HTMLModel",
      "state": {
       "layout": "IPY_MODEL_5aab5da85c6642c2b2f0ef36cecb63c8",
       "style": "IPY_MODEL_082ab39b4e864c1e8956111a872b4b53",
       "value": " 191/191 [00:14&lt;00:00, 13.47it/s]"
      }
     },
     "1a56507d15d04398b47449887361870c": {
      "model_module": "@jupyter-widgets/controls",
      "model_module_version": "1.5.0",
      "model_name": "ProgressStyleModel",
      "state": {
       "description_width": ""
      }
     },
     "1a56c562ded84b849f07bf5fedbd8b02": {
      "model_module": "@jupyter-widgets/controls",
      "model_module_version": "1.5.0",
      "model_name": "DescriptionStyleModel",
      "state": {
       "description_width": ""
      }
     },
     "1a855e8b9a684829b09caed3cdc24582": {
      "model_module": "@jupyter-widgets/controls",
      "model_module_version": "1.5.0",
      "model_name": "ProgressStyleModel",
      "state": {
       "description_width": ""
      }
     },
     "1a8b3e869d274097843648ada3ed6635": {
      "model_module": "@jupyter-widgets/base",
      "model_module_version": "1.2.0",
      "model_name": "LayoutModel",
      "state": {
       "display": "inline-flex",
       "flex_flow": "row wrap",
       "width": "100%"
      }
     },
     "1aa54d5a63834a5481c4bbeb6d595dcf": {
      "model_module": "@jupyter-widgets/controls",
      "model_module_version": "1.5.0",
      "model_name": "DescriptionStyleModel",
      "state": {
       "description_width": ""
      }
     },
     "1ac27ce13b0a4433a76ded331ed90168": {
      "model_module": "@jupyter-widgets/base",
      "model_module_version": "1.2.0",
      "model_name": "LayoutModel",
      "state": {}
     },
     "1ad33839ce124e2e8f75d30b6bff46d5": {
      "model_module": "@jupyter-widgets/base",
      "model_module_version": "1.2.0",
      "model_name": "LayoutModel",
      "state": {}
     },
     "1afa91df603a490f92d6f50d67a0b004": {
      "model_module": "@jupyter-widgets/base",
      "model_module_version": "1.2.0",
      "model_name": "LayoutModel",
      "state": {}
     },
     "1b0337ae938d48ffa24aa32e19cac603": {
      "model_module": "@jupyter-widgets/base",
      "model_module_version": "1.2.0",
      "model_name": "LayoutModel",
      "state": {
       "flex": "2"
      }
     },
     "1b27428c88504be190fabc29e1638bcf": {
      "model_module": "@jupyter-widgets/controls",
      "model_module_version": "1.5.0",
      "model_name": "DescriptionStyleModel",
      "state": {
       "description_width": ""
      }
     },
     "1b3f54481bfe4e0c8a2f4250eacb6132": {
      "model_module": "@jupyter-widgets/controls",
      "model_module_version": "1.5.0",
      "model_name": "DescriptionStyleModel",
      "state": {
       "description_width": ""
      }
     },
     "1b6389588cfb4ffc8e1f9111f2cf3b8c": {
      "model_module": "@jupyter-widgets/controls",
      "model_module_version": "1.5.0",
      "model_name": "DescriptionStyleModel",
      "state": {
       "description_width": ""
      }
     },
     "1b73c8d6d37343f884e7fed9f4358546": {
      "model_module": "@jupyter-widgets/controls",
      "model_module_version": "1.5.0",
      "model_name": "ProgressStyleModel",
      "state": {
       "description_width": ""
      }
     },
     "1b91636fe3a44b8aa9f97e6314f3f7b6": {
      "model_module": "@jupyter-widgets/controls",
      "model_module_version": "1.5.0",
      "model_name": "FloatProgressModel",
      "state": {
       "layout": "IPY_MODEL_09cd9ccf4a544212818a5f4268267c3f",
       "max": 191,
       "style": "IPY_MODEL_625f66eee31d4645ad7ee1cc378e59ac",
       "value": 191
      }
     },
     "1b927f48c3f248619a944c89eb2a5bd3": {
      "model_module": "@jupyter-widgets/controls",
      "model_module_version": "1.5.0",
      "model_name": "HTMLModel",
      "state": {
       "layout": "IPY_MODEL_686817f3f3584489b0854b8565c1479f",
       "style": "IPY_MODEL_5be209df81e64ead89c1e18b16e320f5",
       "value": "Sanity Checking DataLoader 0: 100%"
      }
     },
     "1badabbe50b841ceabe8eded94ea5678": {
      "model_module": "@jupyter-widgets/base",
      "model_module_version": "1.2.0",
      "model_name": "LayoutModel",
      "state": {
       "display": "inline-flex",
       "flex_flow": "row wrap",
       "visibility": "hidden",
       "width": "100%"
      }
     },
     "1bd9aa9aae784f4fa23114e5c37bf5bf": {
      "model_module": "@jupyter-widgets/controls",
      "model_module_version": "1.5.0",
      "model_name": "HTMLModel",
      "state": {
       "layout": "IPY_MODEL_21fc5adacb0943f7b30311e7b24466c3",
       "style": "IPY_MODEL_7a546480942f4ed6b6da40403bd1953d",
       "value": "Validation DataLoader 0: 100%"
      }
     },
     "1be83887b52a4c92bf73c550b462a3a8": {
      "model_module": "@jupyter-widgets/controls",
      "model_module_version": "1.5.0",
      "model_name": "FloatProgressModel",
      "state": {
       "layout": "IPY_MODEL_631d2caadb8842308c16c54b76938981",
       "max": 191,
       "style": "IPY_MODEL_27b6958b3dab4f4da40cde1d6bcc47c9",
       "value": 191
      }
     },
     "1c0feff4ca0a466db05f76df9dd27e77": {
      "model_module": "@jupyter-widgets/controls",
      "model_module_version": "1.5.0",
      "model_name": "HBoxModel",
      "state": {
       "children": [
        "IPY_MODEL_856c65ee060f4caf8a564a3768afe83e",
        "IPY_MODEL_c46b0d558bc9444b881517a746ba975a",
        "IPY_MODEL_a10fafc134b14579944f402613632daf"
       ],
       "layout": "IPY_MODEL_000f230ad8004c84b25e1a7e41247f98"
      }
     },
     "1c3b44003f0f480d838ec2452bead85d": {
      "model_module": "@jupyter-widgets/controls",
      "model_module_version": "1.5.0",
      "model_name": "HTMLModel",
      "state": {
       "layout": "IPY_MODEL_5332e6111ab74cb7b4b0048559fe9282",
       "style": "IPY_MODEL_3f71dc98204245d0a22059eb119cb7c7",
       "value": " 417/417 [00:36&lt;00:00, 11.47it/s, v_num=dla8, seq_len=1.740, y=0.0083, valid/AUROC=0.507]"
      }
     },
     "1c507a6589e044fa833a01e968eb3552": {
      "model_module": "@jupyter-widgets/base",
      "model_module_version": "1.2.0",
      "model_name": "LayoutModel",
      "state": {}
     },
     "1ca60cd75fcd4d909088f173de89d373": {
      "model_module": "@jupyter-widgets/base",
      "model_module_version": "1.2.0",
      "model_name": "LayoutModel",
      "state": {}
     },
     "1ce196b5eccb4113bf0a7341848982c1": {
      "model_module": "@jupyter-widgets/base",
      "model_module_version": "1.2.0",
      "model_name": "LayoutModel",
      "state": {}
     },
     "1d06481e30c3400ab5009c76e6e7d465": {
      "model_module": "@jupyter-widgets/base",
      "model_module_version": "1.2.0",
      "model_name": "LayoutModel",
      "state": {
       "display": "inline-flex",
       "flex_flow": "row wrap",
       "visibility": "hidden",
       "width": "100%"
      }
     },
     "1d32ae0b3f834344a8ac6adc4b778616": {
      "model_module": "@jupyter-widgets/base",
      "model_module_version": "1.2.0",
      "model_name": "LayoutModel",
      "state": {}
     },
     "1d7125e1c6a44391a8cbd2827fe83869": {
      "model_module": "@jupyter-widgets/controls",
      "model_module_version": "1.5.0",
      "model_name": "ProgressStyleModel",
      "state": {
       "description_width": ""
      }
     },
     "1d7ed88ef8c9425a82511111676a1a96": {
      "model_module": "@jupyter-widgets/controls",
      "model_module_version": "1.5.0",
      "model_name": "DescriptionStyleModel",
      "state": {
       "description_width": ""
      }
     },
     "1d8cc2c846fd4f16a6669ae8710dfa95": {
      "model_module": "@jupyter-widgets/base",
      "model_module_version": "1.2.0",
      "model_name": "LayoutModel",
      "state": {}
     },
     "1d949a83cffe41e4941efd1a4d0a50de": {
      "model_module": "@jupyter-widgets/controls",
      "model_module_version": "1.5.0",
      "model_name": "DescriptionStyleModel",
      "state": {
       "description_width": ""
      }
     },
     "1dbf6e30f6f84949974cb9529d87416f": {
      "model_module": "@jupyter-widgets/base",
      "model_module_version": "1.2.0",
      "model_name": "LayoutModel",
      "state": {}
     },
     "1e914d723a5f4395b4611d85f0c0d9d3": {
      "model_module": "@jupyter-widgets/base",
      "model_module_version": "1.2.0",
      "model_name": "LayoutModel",
      "state": {
       "display": "inline-flex",
       "flex_flow": "row wrap",
       "width": "100%"
      }
     },
     "1eae871788704a81aee3233f8a3f534e": {
      "model_module": "@jupyter-widgets/controls",
      "model_module_version": "1.5.0",
      "model_name": "DescriptionStyleModel",
      "state": {
       "description_width": ""
      }
     },
     "1eb39ca96c2049679934f042ad8f1fcd": {
      "model_module": "@jupyter-widgets/base",
      "model_module_version": "1.2.0",
      "model_name": "LayoutModel",
      "state": {}
     },
     "1eea9a0ecb1c44b8aa3415f5098ae349": {
      "model_module": "@jupyter-widgets/controls",
      "model_module_version": "1.5.0",
      "model_name": "HTMLModel",
      "state": {
       "layout": "IPY_MODEL_86edc0de48a34d899630a427d2c11755",
       "style": "IPY_MODEL_83e266724e044f1995decb454be9f62c",
       "value": "Validation DataLoader 0: 100%"
      }
     },
     "1ef1124d9bda4b20aacbc7d335f3a839": {
      "model_module": "@jupyter-widgets/base",
      "model_module_version": "1.2.0",
      "model_name": "LayoutModel",
      "state": {}
     },
     "1ef42bf115e145e4a110ca69fe89c60a": {
      "model_module": "@jupyter-widgets/base",
      "model_module_version": "1.2.0",
      "model_name": "LayoutModel",
      "state": {
       "display": "inline-flex",
       "flex_flow": "row wrap",
       "width": "100%"
      }
     },
     "1f13ffd8b55b43f897508e6d7a2bd24a": {
      "model_module": "@jupyter-widgets/controls",
      "model_module_version": "1.5.0",
      "model_name": "DescriptionStyleModel",
      "state": {
       "description_width": ""
      }
     },
     "1f5b78889db14c5992319688a9a41ff9": {
      "model_module": "@jupyter-widgets/controls",
      "model_module_version": "1.5.0",
      "model_name": "ProgressStyleModel",
      "state": {
       "description_width": ""
      }
     },
     "1f60c7a5ef3e447780ffd40aeb6e5f2a": {
      "model_module": "@jupyter-widgets/controls",
      "model_module_version": "1.5.0",
      "model_name": "HTMLModel",
      "state": {
       "layout": "IPY_MODEL_e87a2a695aab4e598fca0400856d6a72",
       "style": "IPY_MODEL_dd57d75841d348528296361fb6f22050",
       "value": " 417/417 [00:35&lt;00:00, 11.70it/s, v_num=dla8, seq_len=1.780, y=0.0124, valid/AUROC=0.543]"
      }
     },
     "1f6dbd2ebf8d438bb1447679ca6ec5db": {
      "model_module": "@jupyter-widgets/base",
      "model_module_version": "1.2.0",
      "model_name": "LayoutModel",
      "state": {
       "flex": "2"
      }
     },
     "1f905d656834495baf457095ad039482": {
      "model_module": "@jupyter-widgets/base",
      "model_module_version": "1.2.0",
      "model_name": "LayoutModel",
      "state": {}
     },
     "1fa421b11fb04e31859e521a353e19ca": {
      "model_module": "@jupyter-widgets/base",
      "model_module_version": "1.2.0",
      "model_name": "LayoutModel",
      "state": {
       "flex": "2"
      }
     },
     "1fb6c3fad3914485a56cb4058c9f2c0a": {
      "model_module": "@jupyter-widgets/controls",
      "model_module_version": "1.5.0",
      "model_name": "ProgressStyleModel",
      "state": {
       "description_width": ""
      }
     },
     "1fdab1b905c8441bbe3897c35fe3778c": {
      "model_module": "@jupyter-widgets/base",
      "model_module_version": "1.2.0",
      "model_name": "LayoutModel",
      "state": {}
     },
     "1fe720270c5943e4af96a1eb61c2a4c7": {
      "model_module": "@jupyter-widgets/controls",
      "model_module_version": "1.5.0",
      "model_name": "DescriptionStyleModel",
      "state": {
       "description_width": ""
      }
     },
     "2026b6da7c0143fb805d154d207e8413": {
      "model_module": "@jupyter-widgets/controls",
      "model_module_version": "1.5.0",
      "model_name": "DescriptionStyleModel",
      "state": {
       "description_width": ""
      }
     },
     "2072486e8c614518bde6ae1ff52c5f9e": {
      "model_module": "@jupyter-widgets/base",
      "model_module_version": "1.2.0",
      "model_name": "LayoutModel",
      "state": {}
     },
     "20d13d44a8cb48bb9c1588271895064d": {
      "model_module": "@jupyter-widgets/base",
      "model_module_version": "1.2.0",
      "model_name": "LayoutModel",
      "state": {}
     },
     "21019b32c1dd4409a83abd714c011b97": {
      "model_module": "@jupyter-widgets/controls",
      "model_module_version": "1.5.0",
      "model_name": "FloatProgressModel",
      "state": {
       "layout": "IPY_MODEL_a07cfa17eade477a9cb7449f964ab035",
       "max": 191,
       "style": "IPY_MODEL_e7f5a11ae981488093370c9420975b61",
       "value": 191
      }
     },
     "2136ac75f10a416a8e059d3ad31bee5c": {
      "model_module": "@jupyter-widgets/controls",
      "model_module_version": "1.5.0",
      "model_name": "DescriptionStyleModel",
      "state": {
       "description_width": ""
      }
     },
     "213fb845192b456e8233d253fa343d5c": {
      "model_module": "@jupyter-widgets/base",
      "model_module_version": "1.2.0",
      "model_name": "LayoutModel",
      "state": {}
     },
     "21e7fbda014049da903d08ae96dab730": {
      "model_module": "@jupyter-widgets/controls",
      "model_module_version": "1.5.0",
      "model_name": "HTMLModel",
      "state": {
       "layout": "IPY_MODEL_64dea1e43077494fa04c9904fb5b6695",
       "style": "IPY_MODEL_bb6a4b0df43443ff89e51dbe40028868",
       "value": "Validation DataLoader 0: 100%"
      }
     },
     "21fc5adacb0943f7b30311e7b24466c3": {
      "model_module": "@jupyter-widgets/base",
      "model_module_version": "1.2.0",
      "model_name": "LayoutModel",
      "state": {}
     },
     "2227770e0a554f74890b08414009381f": {
      "model_module": "@jupyter-widgets/base",
      "model_module_version": "1.2.0",
      "model_name": "LayoutModel",
      "state": {}
     },
     "2243505a8a524ebbb3710b7e0ded24da": {
      "model_module": "@jupyter-widgets/base",
      "model_module_version": "1.2.0",
      "model_name": "LayoutModel",
      "state": {}
     },
     "224aca6fc40a4300bec19d8089faa094": {
      "model_module": "@jupyter-widgets/base",
      "model_module_version": "1.2.0",
      "model_name": "LayoutModel",
      "state": {}
     },
     "228cf11339b34a14b51a437477093ed6": {
      "model_module": "@jupyter-widgets/base",
      "model_module_version": "1.2.0",
      "model_name": "LayoutModel",
      "state": {}
     },
     "22982af20d204116af578d5e5f2b97be": {
      "model_module": "@jupyter-widgets/controls",
      "model_module_version": "1.5.0",
      "model_name": "FloatProgressModel",
      "state": {
       "bar_style": "success",
       "layout": "IPY_MODEL_9412759296d64bb58dfc4468159801b3",
       "max": 417,
       "style": "IPY_MODEL_ae601aceceb2499099c98a11238a50c5",
       "value": 417
      }
     },
     "22a1b1b0a23946a9bd90b1936b7f27bd": {
      "model_module": "@jupyter-widgets/controls",
      "model_module_version": "1.5.0",
      "model_name": "DescriptionStyleModel",
      "state": {
       "description_width": ""
      }
     },
     "22e2cbd2dc19482a8c01fd1da10c5442": {
      "model_module": "@jupyter-widgets/controls",
      "model_module_version": "1.5.0",
      "model_name": "DescriptionStyleModel",
      "state": {
       "description_width": ""
      }
     },
     "22f32bbeef7d4360ba62378df900a124": {
      "model_module": "@jupyter-widgets/controls",
      "model_module_version": "1.5.0",
      "model_name": "DescriptionStyleModel",
      "state": {
       "description_width": ""
      }
     },
     "22f887fd10064145bd7304b41512378f": {
      "model_module": "@jupyter-widgets/controls",
      "model_module_version": "1.5.0",
      "model_name": "HTMLModel",
      "state": {
       "layout": "IPY_MODEL_8eacd6bb074d40a9a467f2d53d9c3f89",
       "style": "IPY_MODEL_e5571793fe054dcf99b352d06118d8fc",
       "value": "Validation DataLoader 0: 100%"
      }
     },
     "230cff4f4ada453aba6abc88826eef1d": {
      "model_module": "@jupyter-widgets/controls",
      "model_module_version": "1.5.0",
      "model_name": "HTMLModel",
      "state": {
       "layout": "IPY_MODEL_b5c3a35ad49841b58725c9a4b6df043e",
       "style": "IPY_MODEL_efecffc288354ea09bc55572e395d4b4",
       "value": " 191/191 [00:12&lt;00:00, 15.31it/s]"
      }
     },
     "2324a62e966c4a78a92fbb34eab322e1": {
      "model_module": "@jupyter-widgets/controls",
      "model_module_version": "1.5.0",
      "model_name": "FloatProgressModel",
      "state": {
       "bar_style": "success",
       "layout": "IPY_MODEL_7ef2dedd4c4c4086a37322b77a603e56",
       "max": 417,
       "style": "IPY_MODEL_34e03954ce5b463ba54bdf913ac70b22",
       "value": 417
      }
     },
     "2327460339e342fdbdeee1c25384568c": {
      "model_module": "@jupyter-widgets/controls",
      "model_module_version": "1.5.0",
      "model_name": "DescriptionStyleModel",
      "state": {
       "description_width": ""
      }
     },
     "235ef5ce1c7d4ee7b5d1d85cb6c5d25a": {
      "model_module": "@jupyter-widgets/controls",
      "model_module_version": "1.5.0",
      "model_name": "HTMLModel",
      "state": {
       "layout": "IPY_MODEL_181a4735c491409d8d40c31de8dcd076",
       "style": "IPY_MODEL_4025235244d54797a8ed57a9991e1871",
       "value": " 417/417 [00:59&lt;00:00,  6.98it/s, v_num=x13x, seq_len=124.0, y=0.0083, valid/AUROC=0.814]"
      }
     },
     "236b963d25c4494abc92ea68c4bb98fe": {
      "model_module": "@jupyter-widgets/controls",
      "model_module_version": "1.5.0",
      "model_name": "HTMLModel",
      "state": {
       "layout": "IPY_MODEL_63ee1cc020214fc992d86a7e93173346",
       "style": "IPY_MODEL_f2e210d6ba3e4877b361c4f183ad786d",
       "value": " 191/191 [00:12&lt;00:00, 15.80it/s]"
      }
     },
     "2370b8d865fd4b91b6757fdbfeb15ba2": {
      "model_module": "@jupyter-widgets/controls",
      "model_module_version": "1.5.0",
      "model_name": "HTMLModel",
      "state": {
       "layout": "IPY_MODEL_1dbf6e30f6f84949974cb9529d87416f",
       "style": "IPY_MODEL_c8f03d274ff9430ebe94dfb5027546a0",
       "value": "Validation DataLoader 0: 100%"
      }
     },
     "2412557865a24595a737248f74312e27": {
      "model_module": "@jupyter-widgets/controls",
      "model_module_version": "1.5.0",
      "model_name": "HTMLModel",
      "state": {
       "layout": "IPY_MODEL_c181ff24a4f0425f8daeefcfc07321b6",
       "style": "IPY_MODEL_0b0e1a34a64d412b981e89db28416df7",
       "value": " 2/2 [00:00&lt;00:00, 13.75it/s]"
      }
     },
     "2419409bcc0b45fab7707646f46f502b": {
      "model_module": "@jupyter-widgets/controls",
      "model_module_version": "1.5.0",
      "model_name": "DescriptionStyleModel",
      "state": {
       "description_width": ""
      }
     },
     "2442a3dca8a741e780798e3ca0e8f07e": {
      "model_module": "@jupyter-widgets/controls",
      "model_module_version": "1.5.0",
      "model_name": "FloatProgressModel",
      "state": {
       "layout": "IPY_MODEL_eddd32ac3b804e05b1dbfc46a3978f7c",
       "max": 191,
       "style": "IPY_MODEL_d4a1ba81038e406d8775c163fb581997",
       "value": 191
      }
     },
     "2446d48061b24b0282d916c2c660f2df": {
      "model_module": "@jupyter-widgets/controls",
      "model_module_version": "1.5.0",
      "model_name": "HBoxModel",
      "state": {
       "children": [
        "IPY_MODEL_946f11d7b03b4a3c94f61f8cb0ff9867",
        "IPY_MODEL_740dc15ea4624248af5445f8610f6cd3",
        "IPY_MODEL_2b06313afd284aa88a520ca164ef2572"
       ],
       "layout": "IPY_MODEL_f24a0981e53d4b19a8ba3a2f0022bc8c"
      }
     },
     "24a3c96f0bfb4fa599cfe4ec00d6a43d": {
      "model_module": "@jupyter-widgets/controls",
      "model_module_version": "1.5.0",
      "model_name": "HTMLModel",
      "state": {
       "layout": "IPY_MODEL_15ca9a2983eb4202a8be696bc079bbc6",
       "style": "IPY_MODEL_31ac31b4fb0644d9a371d541f1c1b2cd",
       "value": "Validation DataLoader 0: 100%"
      }
     },
     "24a732d9853a4026987d1520fbdd53e6": {
      "model_module": "@jupyter-widgets/controls",
      "model_module_version": "1.5.0",
      "model_name": "DescriptionStyleModel",
      "state": {
       "description_width": ""
      }
     },
     "24c48a01846b4617826814a0a88683e1": {
      "model_module": "@jupyter-widgets/base",
      "model_module_version": "1.2.0",
      "model_name": "LayoutModel",
      "state": {
       "flex": "2"
      }
     },
     "24d68ccead9d4b62b73e380ede6d84cb": {
      "model_module": "@jupyter-widgets/controls",
      "model_module_version": "1.5.0",
      "model_name": "HTMLModel",
      "state": {
       "layout": "IPY_MODEL_c99366dd646e4f0388127f87cba7da10",
       "style": "IPY_MODEL_ce8bf779112c4887a81c865fc107a733",
       "value": "Sanity Checking DataLoader 0: 100%"
      }
     },
     "2523d362f4d64ca8859fad999f6ecb52": {
      "model_module": "@jupyter-widgets/controls",
      "model_module_version": "1.5.0",
      "model_name": "ProgressStyleModel",
      "state": {
       "description_width": ""
      }
     },
     "25289aa51ce44976badb81f4e0d3b87f": {
      "model_module": "@jupyter-widgets/controls",
      "model_module_version": "1.5.0",
      "model_name": "DescriptionStyleModel",
      "state": {
       "description_width": ""
      }
     },
     "25553c74615d4c17b998241c54b03a73": {
      "model_module": "@jupyter-widgets/controls",
      "model_module_version": "1.5.0",
      "model_name": "FloatProgressModel",
      "state": {
       "bar_style": "success",
       "layout": "IPY_MODEL_d196fa1677fd42ac8052ab1d70837ab1",
       "max": 417,
       "style": "IPY_MODEL_c2b99881ee144b4a98272d7c2caf7bd0",
       "value": 417
      }
     },
     "255876d73e7d440abdd6095e998a26d3": {
      "model_module": "@jupyter-widgets/controls",
      "model_module_version": "1.5.0",
      "model_name": "HTMLModel",
      "state": {
       "layout": "IPY_MODEL_88be439094ca47bcb4301c89697fab8b",
       "style": "IPY_MODEL_70a84c04eaf943e393c16075d955028d",
       "value": " 417/417 [00:27&lt;00:00, 15.25it/s, v_num=dla8, seq_len=1.680, y=0.029, valid/AUROC=0.543]"
      }
     },
     "255df3b8a3a24834bb023f299e7b5b41": {
      "model_module": "@jupyter-widgets/controls",
      "model_module_version": "1.5.0",
      "model_name": "HTMLModel",
      "state": {
       "layout": "IPY_MODEL_46a6d93a65334635b0cbab0418ac65a3",
       "style": "IPY_MODEL_a8080d2f4d984b0e9def8ccc563bdf0d",
       "value": "Sanity Checking DataLoader 0: 100%"
      }
     },
     "25731671bdb841269e9f88972970cfb1": {
      "model_module": "@jupyter-widgets/controls",
      "model_module_version": "1.5.0",
      "model_name": "DescriptionStyleModel",
      "state": {
       "description_width": ""
      }
     },
     "25c3f1116db94524a2431bff6ffd4d7f": {
      "model_module": "@jupyter-widgets/controls",
      "model_module_version": "1.5.0",
      "model_name": "FloatProgressModel",
      "state": {
       "layout": "IPY_MODEL_98c3c68a942f456483380c4c92dbc42b",
       "max": 191,
       "style": "IPY_MODEL_08e2e18c2a9b47548cf42fa42b893b02",
       "value": 191
      }
     },
     "25d4cab4eedd4289a8ed4d8a00b31a22": {
      "model_module": "@jupyter-widgets/controls",
      "model_module_version": "1.5.0",
      "model_name": "DescriptionStyleModel",
      "state": {
       "description_width": ""
      }
     },
     "25ec1d10a629411ea7574c9feda72f4f": {
      "model_module": "@jupyter-widgets/base",
      "model_module_version": "1.2.0",
      "model_name": "LayoutModel",
      "state": {}
     },
     "25f03663cc72416482a2c850be6f599b": {
      "model_module": "@jupyter-widgets/base",
      "model_module_version": "1.2.0",
      "model_name": "LayoutModel",
      "state": {}
     },
     "26331972e4bf4edab76fe5fa704a2ae7": {
      "model_module": "@jupyter-widgets/controls",
      "model_module_version": "1.5.0",
      "model_name": "DescriptionStyleModel",
      "state": {
       "description_width": ""
      }
     },
     "26e10a9e226f459697f0fffbbf335700": {
      "model_module": "@jupyter-widgets/controls",
      "model_module_version": "1.5.0",
      "model_name": "DescriptionStyleModel",
      "state": {
       "description_width": ""
      }
     },
     "27298ae0c0f94f04a65bea80ff0d1838": {
      "model_module": "@jupyter-widgets/base",
      "model_module_version": "1.2.0",
      "model_name": "LayoutModel",
      "state": {
       "flex": "2"
      }
     },
     "27474886459748deb5b25f63aa0757ad": {
      "model_module": "@jupyter-widgets/controls",
      "model_module_version": "1.5.0",
      "model_name": "DescriptionStyleModel",
      "state": {
       "description_width": ""
      }
     },
     "276b4502e24d40709eb4611eb67f442c": {
      "model_module": "@jupyter-widgets/controls",
      "model_module_version": "1.5.0",
      "model_name": "DescriptionStyleModel",
      "state": {
       "description_width": ""
      }
     },
     "277f68d7b0044056854d6a2a4ec7ee07": {
      "model_module": "@jupyter-widgets/controls",
      "model_module_version": "1.5.0",
      "model_name": "ProgressStyleModel",
      "state": {
       "description_width": ""
      }
     },
     "27801563cccb4d35875042fdaf10bbe2": {
      "model_module": "@jupyter-widgets/controls",
      "model_module_version": "1.5.0",
      "model_name": "ProgressStyleModel",
      "state": {
       "description_width": ""
      }
     },
     "2780580d97e3418390320534fa570feb": {
      "model_module": "@jupyter-widgets/controls",
      "model_module_version": "1.5.0",
      "model_name": "HTMLModel",
      "state": {
       "layout": "IPY_MODEL_a8e63eaad69643f3a61dca330e3d9cc1",
       "style": "IPY_MODEL_a2bf1050e60347c894dd6e32d640cf57",
       "value": "Sanity Checking DataLoader 0: 100%"
      }
     },
     "27b6958b3dab4f4da40cde1d6bcc47c9": {
      "model_module": "@jupyter-widgets/controls",
      "model_module_version": "1.5.0",
      "model_name": "ProgressStyleModel",
      "state": {
       "description_width": ""
      }
     },
     "27f4706d34384c2786be28812750d411": {
      "model_module": "@jupyter-widgets/controls",
      "model_module_version": "1.5.0",
      "model_name": "HTMLModel",
      "state": {
       "layout": "IPY_MODEL_6e2fc7b0556340f1bc6077d1a3f6a3f5",
       "style": "IPY_MODEL_dfd264ed31c04eb8a1da61dbac39453b",
       "value": " 191/191 [00:10&lt;00:00, 18.25it/s]"
      }
     },
     "27f7975d575b494e84a94ebc038051c7": {
      "model_module": "@jupyter-widgets/base",
      "model_module_version": "1.2.0",
      "model_name": "LayoutModel",
      "state": {}
     },
     "2864577996da434b849dfb8cf4df665c": {
      "model_module": "@jupyter-widgets/controls",
      "model_module_version": "1.5.0",
      "model_name": "DescriptionStyleModel",
      "state": {
       "description_width": ""
      }
     },
     "2887bf1070e541d6bdef5fbe2b95271e": {
      "model_module": "@jupyter-widgets/controls",
      "model_module_version": "1.5.0",
      "model_name": "DescriptionStyleModel",
      "state": {
       "description_width": ""
      }
     },
     "2899fe3d3bdc48e4916a329c5ee19e67": {
      "model_module": "@jupyter-widgets/controls",
      "model_module_version": "1.5.0",
      "model_name": "HTMLModel",
      "state": {
       "layout": "IPY_MODEL_fe24a830d34441bdb2d86c658c2bb98b",
       "style": "IPY_MODEL_8049184ba33e48e8b4888492c76981b5",
       "value": " 417/417 [01:00&lt;00:00,  6.85it/s, v_num=x13x, seq_len=124.0, y=0.0124, valid/AUROC=0.824]"
      }
     },
     "28c8710c28b74d0082446374ab26a429": {
      "model_module": "@jupyter-widgets/controls",
      "model_module_version": "1.5.0",
      "model_name": "DescriptionStyleModel",
      "state": {
       "description_width": ""
      }
     },
     "28d9016545a24a289e072f12029de894": {
      "model_module": "@jupyter-widgets/controls",
      "model_module_version": "1.5.0",
      "model_name": "HBoxModel",
      "state": {
       "children": [
        "IPY_MODEL_7356919ac1a54224b6dc401d83b270b8",
        "IPY_MODEL_c2f58e5b8c41443e8bbd18dca13b2ee6",
        "IPY_MODEL_a99faff87cdf490bb55f24b759628ded"
       ],
       "layout": "IPY_MODEL_e94074f1668b4a8892896fcc6a4ecf5f"
      }
     },
     "28e6d3f70d464de1be4ceddae32ad87f": {
      "model_module": "@jupyter-widgets/controls",
      "model_module_version": "1.5.0",
      "model_name": "DescriptionStyleModel",
      "state": {
       "description_width": ""
      }
     },
     "28ed0a135aa847f188c6a02791bf06ac": {
      "model_module": "@jupyter-widgets/controls",
      "model_module_version": "1.5.0",
      "model_name": "DescriptionStyleModel",
      "state": {
       "description_width": ""
      }
     },
     "28f9e0e6bbaf45e6b074780a4d61799e": {
      "model_module": "@jupyter-widgets/base",
      "model_module_version": "1.2.0",
      "model_name": "LayoutModel",
      "state": {
       "flex": "2"
      }
     },
     "291290f1dd784c85aee40edca2f0597f": {
      "model_module": "@jupyter-widgets/controls",
      "model_module_version": "1.5.0",
      "model_name": "HTMLModel",
      "state": {
       "layout": "IPY_MODEL_ea912a4665864fefa9310170ed022f5c",
       "style": "IPY_MODEL_c97c5b5a9ecd414d9c69b043752e1c7a",
       "value": "Validation DataLoader 0: 100%"
      }
     },
     "2923aa3f99c34269a05254b56afcce3a": {
      "model_module": "@jupyter-widgets/controls",
      "model_module_version": "1.5.0",
      "model_name": "FloatProgressModel",
      "state": {
       "layout": "IPY_MODEL_8d04c7d80bee42a5908d9713df70817e",
       "max": 191,
       "style": "IPY_MODEL_068011a862f14fedaa186e9e7531a96c",
       "value": 191
      }
     },
     "2925984bd19f48dc9d10587316c82b72": {
      "model_module": "@jupyter-widgets/controls",
      "model_module_version": "1.5.0",
      "model_name": "FloatProgressModel",
      "state": {
       "layout": "IPY_MODEL_c734249a165349d3beff8cacc53547f7",
       "max": 2,
       "style": "IPY_MODEL_57d8debca44b4852809d53455865b2c8",
       "value": 2
      }
     },
     "2969c1fc709b4ab18b5585e11ad69590": {
      "model_module": "@jupyter-widgets/base",
      "model_module_version": "1.2.0",
      "model_name": "LayoutModel",
      "state": {
       "flex": "2"
      }
     },
     "2970d8f61aad4314a2df05a07405fecf": {
      "model_module": "@jupyter-widgets/controls",
      "model_module_version": "1.5.0",
      "model_name": "ProgressStyleModel",
      "state": {
       "description_width": ""
      }
     },
     "29a6b1abfad84934aa9a0ecf3487476e": {
      "model_module": "@jupyter-widgets/controls",
      "model_module_version": "1.5.0",
      "model_name": "ProgressStyleModel",
      "state": {
       "description_width": ""
      }
     },
     "2a112c9109124d30a241308e75a7c759": {
      "model_module": "@jupyter-widgets/base",
      "model_module_version": "1.2.0",
      "model_name": "LayoutModel",
      "state": {}
     },
     "2a22b1e0c57d4dcfbd7dfa2bc1331a74": {
      "model_module": "@jupyter-widgets/controls",
      "model_module_version": "1.5.0",
      "model_name": "HTMLModel",
      "state": {
       "layout": "IPY_MODEL_2a85e06cdd3442d3a81795f6cb3a81b3",
       "style": "IPY_MODEL_78454d3e1c1842418a546c5bb7191f4e",
       "value": " 3/8 [05:33&lt;08:34, 102.89s/it]"
      }
     },
     "2a780b68c64d42e59aafb13e84699919": {
      "model_module": "@jupyter-widgets/controls",
      "model_module_version": "1.5.0",
      "model_name": "FloatProgressModel",
      "state": {
       "layout": "IPY_MODEL_62bfdb0d4f9e4ea39109b87b990490b8",
       "max": 2,
       "style": "IPY_MODEL_f967d7f5635040108a8bc46154cb0431",
       "value": 2
      }
     },
     "2a85e06cdd3442d3a81795f6cb3a81b3": {
      "model_module": "@jupyter-widgets/base",
      "model_module_version": "1.2.0",
      "model_name": "LayoutModel",
      "state": {}
     },
     "2ad84b09edd646a6a23d6e9880387413": {
      "model_module": "@jupyter-widgets/base",
      "model_module_version": "1.2.0",
      "model_name": "LayoutModel",
      "state": {
       "flex": "2"
      }
     },
     "2af1a34489cc4f8b874a2bd7834035e2": {
      "model_module": "@jupyter-widgets/controls",
      "model_module_version": "1.5.0",
      "model_name": "DescriptionStyleModel",
      "state": {
       "description_width": ""
      }
     },
     "2b06313afd284aa88a520ca164ef2572": {
      "model_module": "@jupyter-widgets/controls",
      "model_module_version": "1.5.0",
      "model_name": "HTMLModel",
      "state": {
       "layout": "IPY_MODEL_a7bcc42d4d4e44f298d814f335403260",
       "style": "IPY_MODEL_6dcb7398d00b40dca3f2993f3020e17e",
       "value": " 0/2 [00:00&lt;?, ?it/s]"
      }
     },
     "2b076a6151a442dc93b348b86af6b5d9": {
      "model_module": "@jupyter-widgets/controls",
      "model_module_version": "1.5.0",
      "model_name": "HTMLModel",
      "state": {
       "layout": "IPY_MODEL_a0b2d391373b415194c9e8fedbf69f82",
       "style": "IPY_MODEL_2419409bcc0b45fab7707646f46f502b",
       "value": "Epoch 1: 100%"
      }
     },
     "2b21542c1b8b4ef199b46ed518b2f90f": {
      "model_module": "@jupyter-widgets/controls",
      "model_module_version": "1.5.0",
      "model_name": "FloatProgressModel",
      "state": {
       "layout": "IPY_MODEL_1143b400bf67459bab33e451a2083fba",
       "max": 191,
       "style": "IPY_MODEL_eb56444a6e2e42cdb722db999827da08",
       "value": 191
      }
     },
     "2b2f02fe8a2d42df9ae1eb05f9c48821": {
      "model_module": "@jupyter-widgets/base",
      "model_module_version": "1.2.0",
      "model_name": "LayoutModel",
      "state": {}
     },
     "2b384ed476f94c2a9aa10f66eee38d2b": {
      "model_module": "@jupyter-widgets/base",
      "model_module_version": "1.2.0",
      "model_name": "LayoutModel",
      "state": {}
     },
     "2b5bcc6847da470989885a500b1e9c91": {
      "model_module": "@jupyter-widgets/controls",
      "model_module_version": "1.5.0",
      "model_name": "HTMLModel",
      "state": {
       "layout": "IPY_MODEL_96b8e592fa424d1d991d718f8ba3f757",
       "style": "IPY_MODEL_16454ecf78794bba95ebc2a2c1493b30",
       "value": "  0%"
      }
     },
     "2b647fb33cfb42cb83be4ca53ba5333d": {
      "model_module": "@jupyter-widgets/controls",
      "model_module_version": "1.5.0",
      "model_name": "HTMLModel",
      "state": {
       "layout": "IPY_MODEL_c42cebf6b4cd439aa51255b682e46619",
       "style": "IPY_MODEL_463dde09a17744e584f7541618d6fccf",
       "value": " 38%"
      }
     },
     "2bf774cd8e1e42e3b558b691a01cd6ad": {
      "model_module": "@jupyter-widgets/base",
      "model_module_version": "1.2.0",
      "model_name": "LayoutModel",
      "state": {
       "flex": "2"
      }
     },
     "2c132ee2dc29481b9980495c5cd8f797": {
      "model_module": "@jupyter-widgets/base",
      "model_module_version": "1.2.0",
      "model_name": "LayoutModel",
      "state": {}
     },
     "2c169141460e4c0eaa96e26ed53740de": {
      "model_module": "@jupyter-widgets/base",
      "model_module_version": "1.2.0",
      "model_name": "LayoutModel",
      "state": {
       "flex": "2"
      }
     },
     "2c1c5fb99cbd4237b1c59d3d6373ff0b": {
      "model_module": "@jupyter-widgets/controls",
      "model_module_version": "1.5.0",
      "model_name": "HTMLModel",
      "state": {
       "layout": "IPY_MODEL_4d7b250f50a743bc97c7152c683d51b9",
       "style": "IPY_MODEL_7482c415cc5b4b03ba7308a9273a7db9",
       "value": "Epoch 1: 100%"
      }
     },
     "2c3346507a9c40eea7b9fad2e581d9a4": {
      "model_module": "@jupyter-widgets/controls",
      "model_module_version": "1.5.0",
      "model_name": "FloatProgressModel",
      "state": {
       "layout": "IPY_MODEL_493c1a1c6f2f4d0ba1338f78b75f64f1",
       "max": 2,
       "style": "IPY_MODEL_f3366192f4ff4574b3b644d08f83031f",
       "value": 2
      }
     },
     "2c3b15708fc24fa9ad53edd851ca411d": {
      "model_module": "@jupyter-widgets/controls",
      "model_module_version": "1.5.0",
      "model_name": "HTMLModel",
      "state": {
       "layout": "IPY_MODEL_93765e3cd2f54a30ac9790e0dc1c370e",
       "style": "IPY_MODEL_6027f6a423684503901d2ee71cffb409",
       "value": " 0/1 [00:28&lt;?, ?it/s]"
      }
     },
     "2c7ea584ec1e42bc9cf9cca0d02d245e": {
      "model_module": "@jupyter-widgets/base",
      "model_module_version": "1.2.0",
      "model_name": "LayoutModel",
      "state": {}
     },
     "2c9964fc6a0e474c83a15c0986b1b69e": {
      "model_module": "@jupyter-widgets/controls",
      "model_module_version": "1.5.0",
      "model_name": "HTMLModel",
      "state": {
       "layout": "IPY_MODEL_0b0395644b4e49be83dc9f20b7e27fe9",
       "style": "IPY_MODEL_64fa40d6fad042088523754d441d4dc8",
       "value": " 2/2 [00:00&lt;00:00, 14.93it/s]"
      }
     },
     "2cc5210730dc4243a32d78b647cc8ead": {
      "model_module": "@jupyter-widgets/base",
      "model_module_version": "1.2.0",
      "model_name": "LayoutModel",
      "state": {
       "display": "inline-flex",
       "flex_flow": "row wrap",
       "visibility": "hidden",
       "width": "100%"
      }
     },
     "2cc773f2774243bd8708d3745e5818e8": {
      "model_module": "@jupyter-widgets/controls",
      "model_module_version": "1.5.0",
      "model_name": "LabelModel",
      "state": {
       "layout": "IPY_MODEL_05268d0df6c54298ab649688024e2453",
       "style": "IPY_MODEL_2ee4a107391742e293668520c626e0aa"
      }
     },
     "2ce17ef2088a4a40a86eca83fcad7b1d": {
      "model_module": "@jupyter-widgets/controls",
      "model_module_version": "1.5.0",
      "model_name": "DescriptionStyleModel",
      "state": {
       "description_width": ""
      }
     },
     "2d0ba6ac2c364bc8b281c88c9ef60546": {
      "model_module": "@jupyter-widgets/controls",
      "model_module_version": "1.5.0",
      "model_name": "LabelModel",
      "state": {
       "layout": "IPY_MODEL_33dab21f76f241ee9dcdfbac1ad6966c",
       "style": "IPY_MODEL_c9988a5d2be648b7a5c7624b8810c21e"
      }
     },
     "2d13dab54e744f74be80a401b332a4ea": {
      "model_module": "@jupyter-widgets/controls",
      "model_module_version": "1.5.0",
      "model_name": "HTMLModel",
      "state": {
       "layout": "IPY_MODEL_47315cec7516487bb158bce3ca1b644e",
       "style": "IPY_MODEL_f788dc54fe064a058cbe3082373ac26a",
       "value": "Epoch 1: 100%"
      }
     },
     "2d1689500dff4f64aee326be08b3176e": {
      "model_module": "@jupyter-widgets/controls",
      "model_module_version": "1.5.0",
      "model_name": "DescriptionStyleModel",
      "state": {
       "description_width": ""
      }
     },
     "2d1dafae48cc428b9ceae148b906c355": {
      "model_module": "@jupyter-widgets/base",
      "model_module_version": "1.2.0",
      "model_name": "LayoutModel",
      "state": {}
     },
     "2d3b51802c044a4b89b2468dad79e1b0": {
      "model_module": "@jupyter-widgets/base",
      "model_module_version": "1.2.0",
      "model_name": "LayoutModel",
      "state": {
       "flex": "2"
      }
     },
     "2d58767485b544dfac28923174ca8f19": {
      "model_module": "@jupyter-widgets/controls",
      "model_module_version": "1.5.0",
      "model_name": "HTMLModel",
      "state": {
       "layout": "IPY_MODEL_70c9238bc0fc4471b8d8f841bcdd3318",
       "style": "IPY_MODEL_c0a6a0a43c50441ba8f14b3cc84c701a",
       "value": "Validation DataLoader 0: 100%"
      }
     },
     "2d5d33023e824a779c5621eb6feeac61": {
      "model_module": "@jupyter-widgets/controls",
      "model_module_version": "1.5.0",
      "model_name": "DescriptionStyleModel",
      "state": {
       "description_width": ""
      }
     },
     "2d6dcf152bc6471382c6eb3f3fcdbd11": {
      "model_module": "@jupyter-widgets/controls",
      "model_module_version": "1.5.0",
      "model_name": "FloatProgressModel",
      "state": {
       "layout": "IPY_MODEL_28f9e0e6bbaf45e6b074780a4d61799e",
       "max": 191,
       "style": "IPY_MODEL_127a3344c6bd48b3b53f2b0acce1cb93",
       "value": 191
      }
     },
     "2d905040f3d5448c977c0c75a8f7adf5": {
      "model_module": "@jupyter-widgets/base",
      "model_module_version": "1.2.0",
      "model_name": "LayoutModel",
      "state": {}
     },
     "2dbdd3019e4e4c7eb3b9cf7d3f681ce3": {
      "model_module": "@jupyter-widgets/base",
      "model_module_version": "1.2.0",
      "model_name": "LayoutModel",
      "state": {}
     },
     "2dd6fda04e7845b7841e264f1359ce20": {
      "model_module": "@jupyter-widgets/controls",
      "model_module_version": "1.5.0",
      "model_name": "ProgressStyleModel",
      "state": {
       "description_width": ""
      }
     },
     "2df5811c72b24758baf753b3297243b1": {
      "model_module": "@jupyter-widgets/controls",
      "model_module_version": "1.5.0",
      "model_name": "HTMLModel",
      "state": {
       "layout": "IPY_MODEL_775112c2581d4b47a09ad1a1c99d0491",
       "style": "IPY_MODEL_a16f465c1c8948b9892e8fc30a6a353d",
       "value": " 0/1 [01:58&lt;?, ?it/s]"
      }
     },
     "2e14dbb1200e4978bce636c196d85f8d": {
      "model_module": "@jupyter-widgets/base",
      "model_module_version": "1.2.0",
      "model_name": "LayoutModel",
      "state": {
       "display": "inline-flex",
       "flex_flow": "row wrap",
       "visibility": "hidden",
       "width": "100%"
      }
     },
     "2e42fb37d4664e1ebf79b5d360eb8574": {
      "model_module": "@jupyter-widgets/controls",
      "model_module_version": "1.5.0",
      "model_name": "ProgressStyleModel",
      "state": {
       "description_width": ""
      }
     },
     "2e4d7431206c4a88bbc7cb6b29383b10": {
      "model_module": "@jupyter-widgets/base",
      "model_module_version": "1.2.0",
      "model_name": "LayoutModel",
      "state": {
       "flex": "2"
      }
     },
     "2e4e32fc812b4db8a8df30d85bf4a89a": {
      "model_module": "@jupyter-widgets/controls",
      "model_module_version": "1.5.0",
      "model_name": "ProgressStyleModel",
      "state": {
       "description_width": ""
      }
     },
     "2e7026eaa0804a11a9e59daa7faf6d40": {
      "model_module": "@jupyter-widgets/controls",
      "model_module_version": "1.5.0",
      "model_name": "HBoxModel",
      "state": {
       "children": [
        "IPY_MODEL_34234615d04e4672a65c405963a79401",
        "IPY_MODEL_736d66d92f2b4e30abc251f5d163a1e3",
        "IPY_MODEL_76a3fca2440540c28ca430a093314373"
       ],
       "layout": "IPY_MODEL_5276c098a71441bf997792054b4e5514"
      }
     },
     "2ee4a107391742e293668520c626e0aa": {
      "model_module": "@jupyter-widgets/controls",
      "model_module_version": "1.5.0",
      "model_name": "DescriptionStyleModel",
      "state": {
       "description_width": ""
      }
     },
     "2f35be9e17bd4f69b3f4ba79f1effc60": {
      "model_module": "@jupyter-widgets/controls",
      "model_module_version": "1.5.0",
      "model_name": "HTMLModel",
      "state": {
       "layout": "IPY_MODEL_649ed33e38b84aa4a0a65169532c7ae2",
       "style": "IPY_MODEL_54aaf643885e48abb1a34d7e67838181",
       "value": " 417/417 [00:34&lt;00:00, 11.92it/s, v_num=dla8, seq_len=1.630, y=0.0083, valid/AUROC=0.543]"
      }
     },
     "2f571361b2734f86aa0956d0c98dfdf8": {
      "model_module": "@jupyter-widgets/controls",
      "model_module_version": "1.5.0",
      "model_name": "FloatProgressModel",
      "state": {
       "bar_style": "success",
       "layout": "IPY_MODEL_956e28072cf044ab8768fe1be8fdf22e",
       "max": 417,
       "style": "IPY_MODEL_1d7125e1c6a44391a8cbd2827fe83869",
       "value": 417
      }
     },
     "2f7dbf8c561748d8b430e9bbe064993b": {
      "model_module": "@jupyter-widgets/base",
      "model_module_version": "1.2.0",
      "model_name": "LayoutModel",
      "state": {}
     },
     "2f8582d304c342c3b9aefec19f92a4d9": {
      "model_module": "@jupyter-widgets/controls",
      "model_module_version": "1.5.0",
      "model_name": "DescriptionStyleModel",
      "state": {
       "description_width": ""
      }
     },
     "2fc0eba206f94c7088258905fb2eea3d": {
      "model_module": "@jupyter-widgets/controls",
      "model_module_version": "1.5.0",
      "model_name": "DescriptionStyleModel",
      "state": {
       "description_width": ""
      }
     },
     "2fc9d3e62ec8483faaf2fe46e711ec91": {
      "model_module": "@jupyter-widgets/controls",
      "model_module_version": "1.5.0",
      "model_name": "DescriptionStyleModel",
      "state": {
       "description_width": ""
      }
     },
     "30090c3d6ed0478c9a0da34ac204abf3": {
      "model_module": "@jupyter-widgets/controls",
      "model_module_version": "1.5.0",
      "model_name": "ProgressStyleModel",
      "state": {
       "description_width": ""
      }
     },
     "30ad431d7a014cf7ae1d3ff2d461fd40": {
      "model_module": "@jupyter-widgets/base",
      "model_module_version": "1.2.0",
      "model_name": "LayoutModel",
      "state": {
       "flex": "2"
      }
     },
     "30ae597f39a74e4996414c06b5c9fda2": {
      "model_module": "@jupyter-widgets/controls",
      "model_module_version": "1.5.0",
      "model_name": "DescriptionStyleModel",
      "state": {
       "description_width": ""
      }
     },
     "30cf9753dc0149c895a6157e2cb3e022": {
      "model_module": "@jupyter-widgets/base",
      "model_module_version": "1.2.0",
      "model_name": "LayoutModel",
      "state": {
       "flex": "2"
      }
     },
     "30d298742eb846d19474d349cb244b5e": {
      "model_module": "@jupyter-widgets/base",
      "model_module_version": "1.2.0",
      "model_name": "LayoutModel",
      "state": {}
     },
     "30e619410fe049809fb8f140fac1bbc6": {
      "model_module": "@jupyter-widgets/controls",
      "model_module_version": "1.5.0",
      "model_name": "ProgressStyleModel",
      "state": {
       "description_width": ""
      }
     },
     "3130c66d2ab84726828e6d9c5e1e8bdd": {
      "model_module": "@jupyter-widgets/controls",
      "model_module_version": "1.5.0",
      "model_name": "DescriptionStyleModel",
      "state": {
       "description_width": ""
      }
     },
     "31335a4ee802477ca88b5d4d3e047c80": {
      "model_module": "@jupyter-widgets/controls",
      "model_module_version": "1.5.0",
      "model_name": "HTMLModel",
      "state": {
       "layout": "IPY_MODEL_e3cec323ff6f4fbb8a1172a6774cef1c",
       "style": "IPY_MODEL_bbe1f9da042f4ac998adfcd987c9e8d5",
       "value": " 417/417 [00:55&lt;00:00,  7.48it/s, v_num=x13x, seq_len=89.90, y=0.0083, valid/AUROC=0.788]"
      }
     },
     "313a206d5a0b4518855dafa7dc9944f9": {
      "model_module": "@jupyter-widgets/base",
      "model_module_version": "1.2.0",
      "model_name": "LayoutModel",
      "state": {}
     },
     "313b8933362f4303a2c2f3f8b62b19ee": {
      "model_module": "@jupyter-widgets/base",
      "model_module_version": "1.2.0",
      "model_name": "LayoutModel",
      "state": {}
     },
     "315c98ee479e4b378816f5ebe063f4bf": {
      "model_module": "@jupyter-widgets/controls",
      "model_module_version": "1.5.0",
      "model_name": "HTMLModel",
      "state": {
       "layout": "IPY_MODEL_c35cae272f004fb0a84d28d27bc5cbcd",
       "style": "IPY_MODEL_944a9d507e76461e940ef2359bab012f",
       "value": " 417/417 [01:00&lt;00:00,  6.89it/s, v_num=x13x, seq_len=106.0, y=0.00415, valid/AUROC=0.823]"
      }
     },
     "3170e8c8e0224c5aa44c8b106ee5abbe": {
      "model_module": "@jupyter-widgets/base",
      "model_module_version": "1.2.0",
      "model_name": "LayoutModel",
      "state": {}
     },
     "31770de14e5b4f24b6edda96f35a717a": {
      "model_module": "@jupyter-widgets/controls",
      "model_module_version": "1.5.0",
      "model_name": "ProgressStyleModel",
      "state": {
       "description_width": ""
      }
     },
     "317fbf4511b74ae0ada6fc3e3831ed2c": {
      "model_module": "@jupyter-widgets/base",
      "model_module_version": "1.2.0",
      "model_name": "LayoutModel",
      "state": {
       "flex": "2"
      }
     },
     "31ac31b4fb0644d9a371d541f1c1b2cd": {
      "model_module": "@jupyter-widgets/controls",
      "model_module_version": "1.5.0",
      "model_name": "DescriptionStyleModel",
      "state": {
       "description_width": ""
      }
     },
     "31f5d8cf48b64a239e1dc8f2d774dcd4": {
      "model_module": "@jupyter-widgets/controls",
      "model_module_version": "1.5.0",
      "model_name": "FloatProgressModel",
      "state": {
       "bar_style": "success",
       "layout": "IPY_MODEL_869b0c02ac1c4c7dab7983b1edd60175",
       "max": 8,
       "style": "IPY_MODEL_933eceef760f4635bafb4f009102ecdd",
       "value": 8
      }
     },
     "3210a43ebb35482098fd446c556e13e0": {
      "model_module": "@jupyter-widgets/controls",
      "model_module_version": "1.5.0",
      "model_name": "HTMLModel",
      "state": {
       "layout": "IPY_MODEL_bbe3b3b3762c44e382974c0fa09703d5",
       "style": "IPY_MODEL_cc79dce8e8284d1fa982fd6dfaeeea31",
       "value": "Validation DataLoader 0: 100%"
      }
     },
     "3247757708fa436c96a9269b53182028": {
      "model_module": "@jupyter-widgets/controls",
      "model_module_version": "1.5.0",
      "model_name": "FloatProgressModel",
      "state": {
       "layout": "IPY_MODEL_a4f607eef11e46368fbd2d8c2f3ec1f1",
       "max": 2,
       "style": "IPY_MODEL_1b73c8d6d37343f884e7fed9f4358546",
       "value": 2
      }
     },
     "3264e498acd44f33acb480923dc9af7a": {
      "model_module": "@jupyter-widgets/controls",
      "model_module_version": "1.5.0",
      "model_name": "HTMLModel",
      "state": {
       "layout": "IPY_MODEL_f8da393709e6465e8c7e7c3a293ff4c5",
       "style": "IPY_MODEL_b8fa9017a3a64ae28626bdcd15299d64",
       "value": " 191/191 [00:10&lt;00:00, 17.70it/s]"
      }
     },
     "32756a7966464a4f9ed437e0a2367ff5": {
      "model_module": "@jupyter-widgets/controls",
      "model_module_version": "1.5.0",
      "model_name": "ProgressStyleModel",
      "state": {
       "description_width": ""
      }
     },
     "327efd99f8e54a8a81e7d1900518de2b": {
      "model_module": "@jupyter-widgets/controls",
      "model_module_version": "1.5.0",
      "model_name": "DescriptionStyleModel",
      "state": {
       "description_width": ""
      }
     },
     "32809a54afbd4f3f90803f98298e2f69": {
      "model_module": "@jupyter-widgets/controls",
      "model_module_version": "1.5.0",
      "model_name": "HTMLModel",
      "state": {
       "layout": "IPY_MODEL_8bdbc246957f459cbde703bef9bd8a1e",
       "style": "IPY_MODEL_18eccdc1df5c4fc9a03387ad53c478fb",
       "value": "Validation DataLoader 0: 100%"
      }
     },
     "32824cd601bd4f00b7856022b2aa73a1": {
      "model_module": "@jupyter-widgets/controls",
      "model_module_version": "1.5.0",
      "model_name": "DescriptionStyleModel",
      "state": {
       "description_width": ""
      }
     },
     "32bed845703f458283b50641c7cf0ae9": {
      "model_module": "@jupyter-widgets/controls",
      "model_module_version": "1.5.0",
      "model_name": "HTMLModel",
      "state": {
       "layout": "IPY_MODEL_1205ab8791564514bfdcd9178129ef4c",
       "style": "IPY_MODEL_4801e8845c4344bfb1d67258d4582f51",
       "value": " 2/2 [00:00&lt;00:00,  5.48it/s]"
      }
     },
     "32fde0b28917442690b29968d72493f4": {
      "model_module": "@jupyter-widgets/controls",
      "model_module_version": "1.5.0",
      "model_name": "DescriptionStyleModel",
      "state": {
       "description_width": ""
      }
     },
     "3304bd266c564af1aacca902f6d96ae3": {
      "model_module": "@jupyter-widgets/controls",
      "model_module_version": "1.5.0",
      "model_name": "FloatProgressModel",
      "state": {
       "layout": "IPY_MODEL_317fbf4511b74ae0ada6fc3e3831ed2c",
       "max": 191,
       "style": "IPY_MODEL_106d5c8fcf844ea6bdfb0b810b86d6a2",
       "value": 191
      }
     },
     "33c73da474994b32a21bf7a614cd44ae": {
      "model_module": "@jupyter-widgets/base",
      "model_module_version": "1.2.0",
      "model_name": "LayoutModel",
      "state": {}
     },
     "33dab21f76f241ee9dcdfbac1ad6966c": {
      "model_module": "@jupyter-widgets/base",
      "model_module_version": "1.2.0",
      "model_name": "LayoutModel",
      "state": {}
     },
     "33e2b1fc8d97458181f691d9ed12f3ea": {
      "model_module": "@jupyter-widgets/controls",
      "model_module_version": "1.5.0",
      "model_name": "DescriptionStyleModel",
      "state": {
       "description_width": ""
      }
     },
     "33e7283c2d52429c874128a50d89ee1c": {
      "model_module": "@jupyter-widgets/controls",
      "model_module_version": "1.5.0",
      "model_name": "HTMLModel",
      "state": {
       "layout": "IPY_MODEL_65ff9defc9c249e7b1340bfed68ad732",
       "style": "IPY_MODEL_b7fcbb72bafc4574ab0c7e7b1d9e66a9",
       "value": "Validation DataLoader 0: 100%"
      }
     },
     "33f88ca151dd440a910f696cb13f956e": {
      "model_module": "@jupyter-widgets/controls",
      "model_module_version": "1.5.0",
      "model_name": "FloatProgressModel",
      "state": {
       "layout": "IPY_MODEL_f7f7d861821444919748893a1d33f23b",
       "max": 1,
       "style": "IPY_MODEL_781205fda692401596bd5624aab9c259"
      }
     },
     "3415b169f69f4c1ba9ce4f89e1badc85": {
      "model_module": "@jupyter-widgets/controls",
      "model_module_version": "1.5.0",
      "model_name": "DescriptionStyleModel",
      "state": {
       "description_width": ""
      }
     },
     "34234615d04e4672a65c405963a79401": {
      "model_module": "@jupyter-widgets/controls",
      "model_module_version": "1.5.0",
      "model_name": "HTMLModel",
      "state": {
       "layout": "IPY_MODEL_47846bae02d4408fb89737caffe591aa",
       "style": "IPY_MODEL_10d2a55f762b4429a75e5ae362eccf07",
       "value": "Epoch 1: 100%"
      }
     },
     "344931bd24ee4c37879973cf1aea855f": {
      "model_module": "@jupyter-widgets/base",
      "model_module_version": "1.2.0",
      "model_name": "LayoutModel",
      "state": {}
     },
     "344cf6f729cf4d9eb93a169ba3a8acdb": {
      "model_module": "@jupyter-widgets/controls",
      "model_module_version": "1.5.0",
      "model_name": "DescriptionStyleModel",
      "state": {
       "description_width": ""
      }
     },
     "344eee8c3d184a4ba5f3ed5be7d94e74": {
      "model_module": "@jupyter-widgets/controls",
      "model_module_version": "1.5.0",
      "model_name": "FloatProgressModel",
      "state": {
       "layout": "IPY_MODEL_9833539f474a4c4798f857ae7e7efe60",
       "max": 1,
       "style": "IPY_MODEL_708a829df6c64d9987037620f4e8038b"
      }
     },
     "345c4145ed8a4855a455f9678acba6c8": {
      "model_module": "@jupyter-widgets/base",
      "model_module_version": "1.2.0",
      "model_name": "LayoutModel",
      "state": {}
     },
     "345d5b576d4b448ba4db0a5c1b3f4a3a": {
      "model_module": "@jupyter-widgets/controls",
      "model_module_version": "1.5.0",
      "model_name": "DescriptionStyleModel",
      "state": {
       "description_width": ""
      }
     },
     "346932861af04dea91f28555c6d2b8f9": {
      "model_module": "@jupyter-widgets/base",
      "model_module_version": "1.2.0",
      "model_name": "LayoutModel",
      "state": {}
     },
     "34a7e30e7ea14542953fe4e6b5e22b63": {
      "model_module": "@jupyter-widgets/controls",
      "model_module_version": "1.5.0",
      "model_name": "HTMLModel",
      "state": {
       "layout": "IPY_MODEL_ebee8023aa164271a15d7d7faa840720",
       "style": "IPY_MODEL_e00b5837e52941b39d68395d44999a83",
       "value": "Sanity Checking DataLoader 0: 100%"
      }
     },
     "34b8cef504024941a9d4967887d800ab": {
      "model_module": "@jupyter-widgets/controls",
      "model_module_version": "1.5.0",
      "model_name": "DescriptionStyleModel",
      "state": {
       "description_width": ""
      }
     },
     "34e03954ce5b463ba54bdf913ac70b22": {
      "model_module": "@jupyter-widgets/controls",
      "model_module_version": "1.5.0",
      "model_name": "ProgressStyleModel",
      "state": {
       "description_width": ""
      }
     },
     "350bbf82933643649d2abc31c251e113": {
      "model_module": "@jupyter-widgets/base",
      "model_module_version": "1.2.0",
      "model_name": "LayoutModel",
      "state": {}
     },
     "3534d8f8fa59412582490b01bfb4a72e": {
      "model_module": "@jupyter-widgets/controls",
      "model_module_version": "1.5.0",
      "model_name": "HTMLModel",
      "state": {
       "layout": "IPY_MODEL_83ec644919b64c5885be28dac0149bf9",
       "style": "IPY_MODEL_50cf86ca7b754fe2baceccd1b301ea77",
       "value": " 191/191 [00:10&lt;00:00, 17.85it/s]"
      }
     },
     "35b419d876c64635aec20a06b881988e": {
      "model_module": "@jupyter-widgets/controls",
      "model_module_version": "1.5.0",
      "model_name": "HTMLModel",
      "state": {
       "layout": "IPY_MODEL_8f66810946094d4fbf4efc4c3f9c341b",
       "style": "IPY_MODEL_2d5d33023e824a779c5621eb6feeac61",
       "value": " 8/8 [27:11&lt;00:00, 205.63s/it]"
      }
     },
     "35c7d73519de4035bb2102d24149c9a9": {
      "model_module": "@jupyter-widgets/controls",
      "model_module_version": "1.5.0",
      "model_name": "FloatProgressModel",
      "state": {
       "bar_style": "success",
       "layout": "IPY_MODEL_7c8da0cbd90d4a2f82928ba3e8768692",
       "max": 417,
       "style": "IPY_MODEL_b935dcf6eadc45ca9c828ac4c60d28b8",
       "value": 417
      }
     },
     "360ee778329d4858a0cec0c2923d1d7d": {
      "model_module": "@jupyter-widgets/base",
      "model_module_version": "1.2.0",
      "model_name": "LayoutModel",
      "state": {
       "display": "inline-flex",
       "flex_flow": "row wrap",
       "visibility": "hidden",
       "width": "100%"
      }
     },
     "3613ef41ed8a471ebca43aeacbde4cd9": {
      "model_module": "@jupyter-widgets/base",
      "model_module_version": "1.2.0",
      "model_name": "LayoutModel",
      "state": {
       "flex": "2"
      }
     },
     "363638a119964201aa61db8a72980f2d": {
      "model_module": "@jupyter-widgets/controls",
      "model_module_version": "1.5.0",
      "model_name": "HTMLModel",
      "state": {
       "layout": "IPY_MODEL_b14328f3b4fc40b5a797cb679b4b61be",
       "style": "IPY_MODEL_ce5babf37a6e482f893da3a4e76ad77b",
       "value": " 191/191 [00:11&lt;00:00, 15.96it/s]"
      }
     },
     "364266639337422d858f9fae5c7c0b85": {
      "model_module": "@jupyter-widgets/base",
      "model_module_version": "1.2.0",
      "model_name": "LayoutModel",
      "state": {}
     },
     "36768f31f99f4062b737a34519390559": {
      "model_module": "@jupyter-widgets/controls",
      "model_module_version": "1.5.0",
      "model_name": "DescriptionStyleModel",
      "state": {
       "description_width": ""
      }
     },
     "36796b7ccefe4fea91389552f1bcc059": {
      "model_module": "@jupyter-widgets/base",
      "model_module_version": "1.2.0",
      "model_name": "LayoutModel",
      "state": {}
     },
     "36b16d096e90472694df6191a9eb6ca8": {
      "model_module": "@jupyter-widgets/base",
      "model_module_version": "1.2.0",
      "model_name": "LayoutModel",
      "state": {}
     },
     "36bad241ec594e8b85990831d9ae32e7": {
      "model_module": "@jupyter-widgets/base",
      "model_module_version": "1.2.0",
      "model_name": "LayoutModel",
      "state": {
       "flex": "2"
      }
     },
     "36bfe2e1cb4142f281b83e07f5d0c7a6": {
      "model_module": "@jupyter-widgets/controls",
      "model_module_version": "1.5.0",
      "model_name": "FloatProgressModel",
      "state": {
       "bar_style": "success",
       "layout": "IPY_MODEL_d67b023ee4ef4721ba078d13acb7a747",
       "max": 1,
       "style": "IPY_MODEL_1a56507d15d04398b47449887361870c",
       "value": 1
      }
     },
     "36f6a1e84e2a4898badf3794dea35225": {
      "model_module": "@jupyter-widgets/controls",
      "model_module_version": "1.5.0",
      "model_name": "HTMLModel",
      "state": {
       "layout": "IPY_MODEL_536a5e8ca3254d41a89b11d837cda930",
       "style": "IPY_MODEL_818528f5b7e447d39fd40abb3a3d5e6f",
       "value": " 12%"
      }
     },
     "3733b73328be4a37ad340a1d2b24cef6": {
      "model_module": "@jupyter-widgets/base",
      "model_module_version": "1.2.0",
      "model_name": "LayoutModel",
      "state": {}
     },
     "378744ae60b8445895c52fbb249d5576": {
      "model_module": "@jupyter-widgets/base",
      "model_module_version": "1.2.0",
      "model_name": "LayoutModel",
      "state": {}
     },
     "378d1e162b574209b599cfa52db30c10": {
      "model_module": "@jupyter-widgets/controls",
      "model_module_version": "1.5.0",
      "model_name": "FloatProgressModel",
      "state": {
       "layout": "IPY_MODEL_64f114b10d3e4ab5a47a29761684b5d8",
       "max": 191,
       "style": "IPY_MODEL_860aa97e6b9c4d44ad6a3ea13b381193",
       "value": 191
      }
     },
     "37a8198313504c63ac0208c432c3f425": {
      "model_module": "@jupyter-widgets/controls",
      "model_module_version": "1.5.0",
      "model_name": "HBoxModel",
      "state": {
       "children": [
        "IPY_MODEL_156eeaaea19148fcb613fe26fce66c56",
        "IPY_MODEL_99e94afe3c55457790d32c7002f59b8d",
        "IPY_MODEL_45186b2b15524981b9d62d9b73b57901"
       ],
       "layout": "IPY_MODEL_478fe962551446b79084f6e06f1254f2"
      }
     },
     "37c39e6de9db4a85a1fce99c5bfd00a4": {
      "model_module": "@jupyter-widgets/controls",
      "model_module_version": "1.5.0",
      "model_name": "DescriptionStyleModel",
      "state": {
       "description_width": ""
      }
     },
     "37e5b5a8ad0142729b813b70534c3cbc": {
      "model_module": "@jupyter-widgets/base",
      "model_module_version": "1.2.0",
      "model_name": "LayoutModel",
      "state": {}
     },
     "3816b5d5ee70472d9c9daffbb3a91639": {
      "model_module": "@jupyter-widgets/base",
      "model_module_version": "1.2.0",
      "model_name": "LayoutModel",
      "state": {}
     },
     "381ca709d689415d9051b64db1b4ebfb": {
      "model_module": "@jupyter-widgets/controls",
      "model_module_version": "1.5.0",
      "model_name": "DescriptionStyleModel",
      "state": {
       "description_width": ""
      }
     },
     "384da6edf3b64f408422605893c984b0": {
      "model_module": "@jupyter-widgets/controls",
      "model_module_version": "1.5.0",
      "model_name": "HTMLModel",
      "state": {
       "layout": "IPY_MODEL_0b10c08787714703a5b971a07f5b85cb",
       "style": "IPY_MODEL_36768f31f99f4062b737a34519390559",
       "value": " 191/191 [00:12&lt;00:00, 15.73it/s]"
      }
     },
     "38b868696d5744289f8694eb31a18184": {
      "model_module": "@jupyter-widgets/controls",
      "model_module_version": "1.5.0",
      "model_name": "HTMLModel",
      "state": {
       "layout": "IPY_MODEL_00f124d4e5634839ba9bb0143027105f",
       "style": "IPY_MODEL_a595410bbe76471ca5a6a51f003cecda",
       "value": "Validation DataLoader 0: 100%"
      }
     },
     "38bfb8ec3cf141109fa4e2a984a511eb": {
      "model_module": "@jupyter-widgets/controls",
      "model_module_version": "1.5.0",
      "model_name": "HBoxModel",
      "state": {
       "children": [
        "IPY_MODEL_952f831746924eea99a183771c0d1ab6",
        "IPY_MODEL_b1ef4f73c6884b9090286a6d9f30ef5e",
        "IPY_MODEL_cf217362663c40a996637616ec307877"
       ],
       "layout": "IPY_MODEL_71c970e91dff4fd39cc3cd19212a9502"
      }
     },
     "3907986af8704ff5a82d48b5a59930ba": {
      "model_module": "@jupyter-widgets/base",
      "model_module_version": "1.2.0",
      "model_name": "LayoutModel",
      "state": {}
     },
     "39521ba553394a1993ce2b3f7d86892d": {
      "model_module": "@jupyter-widgets/base",
      "model_module_version": "1.2.0",
      "model_name": "LayoutModel",
      "state": {}
     },
     "396279f0280b468bb1de79a92e3e1689": {
      "model_module": "@jupyter-widgets/controls",
      "model_module_version": "1.5.0",
      "model_name": "DescriptionStyleModel",
      "state": {
       "description_width": ""
      }
     },
     "3995676f3c344ed4a26b7204ccb2f904": {
      "model_module": "@jupyter-widgets/base",
      "model_module_version": "1.2.0",
      "model_name": "LayoutModel",
      "state": {
       "display": "inline-flex",
       "flex_flow": "row wrap",
       "visibility": "hidden",
       "width": "100%"
      }
     },
     "39a8f6f6708149cd8213ebed5ae158e2": {
      "model_module": "@jupyter-widgets/controls",
      "model_module_version": "1.5.0",
      "model_name": "HTMLModel",
      "state": {
       "layout": "IPY_MODEL_f724d048bb814d10961b2e496d4b0105",
       "style": "IPY_MODEL_e4f9268b06af4fae8f923c69d48e1a5a",
       "value": " 417/417 [00:36&lt;00:00, 11.37it/s, v_num=dla8, seq_len=1.640, y=0.0166, valid/AUROC=0.668]"
      }
     },
     "39c00601cea0439db3ec53cb243ca1fd": {
      "model_module": "@jupyter-widgets/controls",
      "model_module_version": "1.5.0",
      "model_name": "HTMLModel",
      "state": {
       "layout": "IPY_MODEL_3e9c7031d8934ee6afa8f3288a302952",
       "style": "IPY_MODEL_4861284f3a294850a3dc57e367d6362d",
       "value": " 2/2 [00:00&lt;00:00, 13.11it/s]"
      }
     },
     "39f6736de53f4c5b8190aac339166312": {
      "model_module": "@jupyter-widgets/base",
      "model_module_version": "1.2.0",
      "model_name": "LayoutModel",
      "state": {}
     },
     "3a27b8d323ea43cba19e94ca5fa9ee06": {
      "model_module": "@jupyter-widgets/controls",
      "model_module_version": "1.5.0",
      "model_name": "DescriptionStyleModel",
      "state": {
       "description_width": ""
      }
     },
     "3a3c2faf507d4ae791d5e431c62267ba": {
      "model_module": "@jupyter-widgets/controls",
      "model_module_version": "1.5.0",
      "model_name": "FloatProgressModel",
      "state": {
       "layout": "IPY_MODEL_c70affeed19f4362872df53396792c8b",
       "max": 191,
       "style": "IPY_MODEL_5cc4eaf662484bed8498f9a1e0663cff",
       "value": 191
      }
     },
     "3a4b61f6a73f4c5db0d64a482a614857": {
      "model_module": "@jupyter-widgets/controls",
      "model_module_version": "1.5.0",
      "model_name": "HTMLModel",
      "state": {
       "layout": "IPY_MODEL_bff855e59b0a43f683b4f4bee8dfde38",
       "style": "IPY_MODEL_d86eb16572064c9ebf316fe42c0b947d",
       "value": "Validation DataLoader 0: 100%"
      }
     },
     "3a8e8be775a4435188bb983469a5c2d6": {
      "model_module": "@jupyter-widgets/controls",
      "model_module_version": "1.5.0",
      "model_name": "HTMLModel",
      "state": {
       "layout": "IPY_MODEL_20d13d44a8cb48bb9c1588271895064d",
       "style": "IPY_MODEL_f722736ec39843d8bb756d1618f0a634",
       "value": " 8/8 [00:52&lt;00:00,  6.57s/it]"
      }
     },
     "3aa7913c5afa43659a8fd9984f825ccf": {
      "model_module": "@jupyter-widgets/controls",
      "model_module_version": "1.5.0",
      "model_name": "DescriptionStyleModel",
      "state": {
       "description_width": ""
      }
     },
     "3ab430fdfa8d40c0a7d6e783e2af7e97": {
      "model_module": "@jupyter-widgets/controls",
      "model_module_version": "1.5.0",
      "model_name": "DescriptionStyleModel",
      "state": {
       "description_width": ""
      }
     },
     "3adb038cafd84376aef5eed2fc5ed3db": {
      "model_module": "@jupyter-widgets/controls",
      "model_module_version": "1.5.0",
      "model_name": "HTMLModel",
      "state": {
       "layout": "IPY_MODEL_931874c891d6431b97162a6864fc0923",
       "style": "IPY_MODEL_7a8bb4ccd3574d00a88130cceeab767e",
       "value": " 0/8 [00:28&lt;?, ?it/s]"
      }
     },
     "3ae9bf1873314aa8900ecdaa7b327161": {
      "model_module": "@jupyter-widgets/base",
      "model_module_version": "1.2.0",
      "model_name": "LayoutModel",
      "state": {}
     },
     "3b48040d0dfe4e90b75308e38c346d0f": {
      "model_module": "@jupyter-widgets/controls",
      "model_module_version": "1.5.0",
      "model_name": "ProgressStyleModel",
      "state": {
       "description_width": ""
      }
     },
     "3b6b1247c4b54fb887233ddc3f2bc859": {
      "model_module": "@jupyter-widgets/base",
      "model_module_version": "1.2.0",
      "model_name": "LayoutModel",
      "state": {}
     },
     "3b6e1f17fc3b4be38f62d393e0993c05": {
      "model_module": "@jupyter-widgets/base",
      "model_module_version": "1.2.0",
      "model_name": "LayoutModel",
      "state": {}
     },
     "3ba20a498dc244f997a9eb830f8ecaac": {
      "model_module": "@jupyter-widgets/controls",
      "model_module_version": "1.5.0",
      "model_name": "FloatProgressModel",
      "state": {
       "layout": "IPY_MODEL_43ee1022448a4f87859eba3576f06170",
       "max": 2,
       "style": "IPY_MODEL_491d5b820da54b9da407357b9b1c737a",
       "value": 2
      }
     },
     "3ba7092a0007441b819cda142a2a3134": {
      "model_module": "@jupyter-widgets/base",
      "model_module_version": "1.2.0",
      "model_name": "LayoutModel",
      "state": {
       "flex": "2"
      }
     },
     "3bb439f98925419e8c56534cf8361579": {
      "model_module": "@jupyter-widgets/controls",
      "model_module_version": "1.5.0",
      "model_name": "FloatProgressModel",
      "state": {
       "layout": "IPY_MODEL_b64166f0c58b4431924ac8187826dbea",
       "max": 191,
       "style": "IPY_MODEL_95a5680a4f2246b182c6a73e679ff2bf",
       "value": 191
      }
     },
     "3bb754b38a404bc5acde8b078c2a8add": {
      "model_module": "@jupyter-widgets/controls",
      "model_module_version": "1.5.0",
      "model_name": "DescriptionStyleModel",
      "state": {
       "description_width": ""
      }
     },
     "3bdac9c5604a49fc911dbc65cf878eb7": {
      "model_module": "@jupyter-widgets/base",
      "model_module_version": "1.2.0",
      "model_name": "LayoutModel",
      "state": {
       "flex": "2"
      }
     },
     "3bdcae8e114d4f688a60d207d1936f50": {
      "model_module": "@jupyter-widgets/controls",
      "model_module_version": "1.5.0",
      "model_name": "ProgressStyleModel",
      "state": {
       "description_width": ""
      }
     },
     "3c1ea53303e14d05a91b8b29de2c02af": {
      "model_module": "@jupyter-widgets/base",
      "model_module_version": "1.2.0",
      "model_name": "LayoutModel",
      "state": {}
     },
     "3caf570ca4c44bb09b0dbd4c7a14c6ff": {
      "model_module": "@jupyter-widgets/controls",
      "model_module_version": "1.5.0",
      "model_name": "HTMLModel",
      "state": {
       "layout": "IPY_MODEL_d8605638f0394842b4b13cee499109ed",
       "style": "IPY_MODEL_7312eb66536f4af28a8275985f038858",
       "value": "Validation DataLoader 0: 100%"
      }
     },
     "3cbd26c3d8524008b2082ec45942665f": {
      "model_module": "@jupyter-widgets/base",
      "model_module_version": "1.2.0",
      "model_name": "LayoutModel",
      "state": {}
     },
     "3cd97de8d97e416e84246e8cef585aa0": {
      "model_module": "@jupyter-widgets/controls",
      "model_module_version": "1.5.0",
      "model_name": "FloatProgressModel",
      "state": {
       "bar_style": "danger",
       "layout": "IPY_MODEL_44693b90ddf4434c9a079bcdacd7d372",
       "max": 8,
       "style": "IPY_MODEL_02e3cbdd38f744648bee76b84bcb0aa0",
       "value": 2
      }
     },
     "3cf1a5b7ee574c848a71593e317d9dfe": {
      "model_module": "@jupyter-widgets/base",
      "model_module_version": "1.2.0",
      "model_name": "LayoutModel",
      "state": {}
     },
     "3d373fb1bdf042c080d73b421f9d7bdd": {
      "model_module": "@jupyter-widgets/controls",
      "model_module_version": "1.5.0",
      "model_name": "HTMLModel",
      "state": {
       "layout": "IPY_MODEL_1c507a6589e044fa833a01e968eb3552",
       "style": "IPY_MODEL_33e2b1fc8d97458181f691d9ed12f3ea",
       "value": "Epoch 1: 100%"
      }
     },
     "3d4aaa9c91294961a06d11ce46a6ca2b": {
      "model_module": "@jupyter-widgets/controls",
      "model_module_version": "1.5.0",
      "model_name": "DescriptionStyleModel",
      "state": {
       "description_width": ""
      }
     },
     "3d5ff94cda604a6b8e9bef5191da42ee": {
      "model_module": "@jupyter-widgets/controls",
      "model_module_version": "1.5.0",
      "model_name": "FloatProgressModel",
      "state": {
       "layout": "IPY_MODEL_a43558ccb3b9485db576bbc5fe3eef04",
       "max": 191,
       "style": "IPY_MODEL_2e4e32fc812b4db8a8df30d85bf4a89a",
       "value": 191
      }
     },
     "3d7d663cc725408b8e74f98353a13bd8": {
      "model_module": "@jupyter-widgets/controls",
      "model_module_version": "1.5.0",
      "model_name": "DescriptionStyleModel",
      "state": {
       "description_width": ""
      }
     },
     "3dac5e7e8bbf4ab0a5cbc2e9cc16013b": {
      "model_module": "@jupyter-widgets/base",
      "model_module_version": "1.2.0",
      "model_name": "LayoutModel",
      "state": {
       "display": "inline-flex",
       "flex_flow": "row wrap",
       "visibility": "hidden",
       "width": "100%"
      }
     },
     "3daef8af499147988422a4fa39425bbc": {
      "model_module": "@jupyter-widgets/controls",
      "model_module_version": "1.5.0",
      "model_name": "FloatProgressModel",
      "state": {
       "layout": "IPY_MODEL_99643e4567354bfeaa33a92071cef318",
       "max": 191,
       "style": "IPY_MODEL_3b48040d0dfe4e90b75308e38c346d0f",
       "value": 191
      }
     },
     "3e017c33ecb343f68bcf526b25af4d24": {
      "model_module": "@jupyter-widgets/controls",
      "model_module_version": "1.5.0",
      "model_name": "ProgressStyleModel",
      "state": {
       "description_width": ""
      }
     },
     "3e0c90afd90c4111b423d553bd18f735": {
      "model_module": "@jupyter-widgets/controls",
      "model_module_version": "1.5.0",
      "model_name": "DescriptionStyleModel",
      "state": {
       "description_width": ""
      }
     },
     "3e2f5a354392465fbd927c87351ec7a0": {
      "model_module": "@jupyter-widgets/base",
      "model_module_version": "1.2.0",
      "model_name": "LayoutModel",
      "state": {
       "flex": "2"
      }
     },
     "3e9101033b2b4bd69eb75bc71b654f37": {
      "model_module": "@jupyter-widgets/controls",
      "model_module_version": "1.5.0",
      "model_name": "FloatProgressModel",
      "state": {
       "bar_style": "success",
       "layout": "IPY_MODEL_4fc2479ccb744d0cbcb37adf6435a822",
       "max": 417,
       "style": "IPY_MODEL_d22f9c242e5d44b7b53214b6e995f08f",
       "value": 417
      }
     },
     "3e9c7031d8934ee6afa8f3288a302952": {
      "model_module": "@jupyter-widgets/base",
      "model_module_version": "1.2.0",
      "model_name": "LayoutModel",
      "state": {}
     },
     "3ef4b88e2817493aa15dbe557ea2ca36": {
      "model_module": "@jupyter-widgets/base",
      "model_module_version": "1.2.0",
      "model_name": "LayoutModel",
      "state": {}
     },
     "3f09610d12844a0b969ca46e7c10ff4f": {
      "model_module": "@jupyter-widgets/base",
      "model_module_version": "1.2.0",
      "model_name": "LayoutModel",
      "state": {}
     },
     "3f2c301b32cd49e596f809fa6e564e2d": {
      "model_module": "@jupyter-widgets/base",
      "model_module_version": "1.2.0",
      "model_name": "LayoutModel",
      "state": {
       "flex": "2"
      }
     },
     "3f3be37128db40e8a9af3cfe8b8fa022": {
      "model_module": "@jupyter-widgets/base",
      "model_module_version": "1.2.0",
      "model_name": "LayoutModel",
      "state": {
       "display": "inline-flex",
       "flex_flow": "row wrap",
       "visibility": "hidden",
       "width": "100%"
      }
     },
     "3f456a2d060546119d253aa4175192d1": {
      "model_module": "@jupyter-widgets/base",
      "model_module_version": "1.2.0",
      "model_name": "LayoutModel",
      "state": {}
     },
     "3f5d8bad359c4659986264b597410334": {
      "model_module": "@jupyter-widgets/base",
      "model_module_version": "1.2.0",
      "model_name": "LayoutModel",
      "state": {
       "flex": "2"
      }
     },
     "3f6c674fd8d04e9ab59fd0598f1765c2": {
      "model_module": "@jupyter-widgets/controls",
      "model_module_version": "1.5.0",
      "model_name": "ProgressStyleModel",
      "state": {
       "description_width": ""
      }
     },
     "3f71dc98204245d0a22059eb119cb7c7": {
      "model_module": "@jupyter-widgets/controls",
      "model_module_version": "1.5.0",
      "model_name": "DescriptionStyleModel",
      "state": {
       "description_width": ""
      }
     },
     "3fc3885dbc114cbe97abb667b340f96a": {
      "model_module": "@jupyter-widgets/controls",
      "model_module_version": "1.5.0",
      "model_name": "HTMLModel",
      "state": {
       "layout": "IPY_MODEL_5589d1029f844db39bf6ba46d6cf1621",
       "style": "IPY_MODEL_b9d4e6ff12e4487bb7c0faea841d7cd1",
       "value": " 2/2 [00:00&lt;00:00, 10.42it/s]"
      }
     },
     "400dc660657c4f46a2e0d6e638726e3a": {
      "model_module": "@jupyter-widgets/base",
      "model_module_version": "1.2.0",
      "model_name": "LayoutModel",
      "state": {}
     },
     "40241f3f94ab44909d6f31761e1e896c": {
      "model_module": "@jupyter-widgets/base",
      "model_module_version": "1.2.0",
      "model_name": "LayoutModel",
      "state": {
       "display": "inline-flex",
       "flex_flow": "row wrap",
       "visibility": "hidden",
       "width": "100%"
      }
     },
     "4025235244d54797a8ed57a9991e1871": {
      "model_module": "@jupyter-widgets/controls",
      "model_module_version": "1.5.0",
      "model_name": "DescriptionStyleModel",
      "state": {
       "description_width": ""
      }
     },
     "4066b044f5584617b5114210b2f353e0": {
      "model_module": "@jupyter-widgets/controls",
      "model_module_version": "1.5.0",
      "model_name": "LabelModel",
      "state": {
       "layout": "IPY_MODEL_0898bee2ae1d4a989bd35d7ec8aa3e7c",
       "style": "IPY_MODEL_597b765bdc0947b1bd3d92aef49c6cf1"
      }
     },
     "4078090678fb49a1baa8609bee75284a": {
      "model_module": "@jupyter-widgets/base",
      "model_module_version": "1.2.0",
      "model_name": "LayoutModel",
      "state": {}
     },
     "40a651e342e749468c58325a47de0169": {
      "model_module": "@jupyter-widgets/controls",
      "model_module_version": "1.5.0",
      "model_name": "DescriptionStyleModel",
      "state": {
       "description_width": ""
      }
     },
     "40c9e194a3e24979835fbb8a81e38c52": {
      "model_module": "@jupyter-widgets/base",
      "model_module_version": "1.2.0",
      "model_name": "LayoutModel",
      "state": {
       "flex": "2"
      }
     },
     "40d861d59b02424d96b7eb25812fd1d5": {
      "model_module": "@jupyter-widgets/controls",
      "model_module_version": "1.5.0",
      "model_name": "HTMLModel",
      "state": {
       "layout": "IPY_MODEL_5bd2fef31d9e48ffb4fb11d193962e5d",
       "style": "IPY_MODEL_1aa54d5a63834a5481c4bbeb6d595dcf",
       "value": " 2/2 [00:00&lt;00:00,  5.88it/s]"
      }
     },
     "40f5428be3b24b87acca079c68997907": {
      "model_module": "@jupyter-widgets/controls",
      "model_module_version": "1.5.0",
      "model_name": "HTMLModel",
      "state": {
       "layout": "IPY_MODEL_12d8627d250543f7b294d27263fbdb57",
       "style": "IPY_MODEL_22e2cbd2dc19482a8c01fd1da10c5442",
       "value": "Validation DataLoader 0:  71%"
      }
     },
     "40fde63344654a769614780335e4b910": {
      "model_module": "@jupyter-widgets/controls",
      "model_module_version": "1.5.0",
      "model_name": "HBoxModel",
      "state": {
       "children": [
        "IPY_MODEL_d32fe1269dbc4ed7a9769353359d6aa6",
        "IPY_MODEL_cc51cf002bb541f9855a142777350d92",
        "IPY_MODEL_f51b6bc7e7b547ae92149ce4cd2055e4"
       ],
       "layout": "IPY_MODEL_b22725a39d7e416099ac0031a6ed29ab"
      }
     },
     "4124f79ca072456a8d3a6da889e70836": {
      "model_module": "@jupyter-widgets/controls",
      "model_module_version": "1.5.0",
      "model_name": "FloatProgressModel",
      "state": {
       "bar_style": "success",
       "layout": "IPY_MODEL_dac33110d6174c56ae1122b9e1b415e0",
       "max": 8,
       "style": "IPY_MODEL_ee6117ea97354bf38c3b336ae96a91df",
       "value": 8
      }
     },
     "412f98ce8e304067be7c8dcf6afcfcd3": {
      "model_module": "@jupyter-widgets/controls",
      "model_module_version": "1.5.0",
      "model_name": "HBoxModel",
      "state": {
       "children": [
        "IPY_MODEL_2b076a6151a442dc93b348b86af6b5d9",
        "IPY_MODEL_65bd3a59e91646f6aa5495abb7ceaf5a",
        "IPY_MODEL_1c3b44003f0f480d838ec2452bead85d"
       ],
       "layout": "IPY_MODEL_0f41a6af854e4d08a3cd1928014ceabf"
      }
     },
     "41364421eb164505b94d8e26c4c0ae8d": {
      "model_module": "@jupyter-widgets/base",
      "model_module_version": "1.2.0",
      "model_name": "LayoutModel",
      "state": {
       "display": "inline-flex",
       "flex_flow": "row wrap",
       "width": "100%"
      }
     },
     "413b15c64fdd42478b720fe5550e44aa": {
      "model_module": "@jupyter-widgets/controls",
      "model_module_version": "1.5.0",
      "model_name": "DescriptionStyleModel",
      "state": {
       "description_width": ""
      }
     },
     "416aa4bbfd2f4b5d81582e9b3df06944": {
      "model_module": "@jupyter-widgets/controls",
      "model_module_version": "1.5.0",
      "model_name": "HTMLModel",
      "state": {
       "layout": "IPY_MODEL_d1fdd84b32b848bd939e6390edfc8df0",
       "style": "IPY_MODEL_8af398694fcd4932bce618062f8d1057",
       "value": " 2/2 [00:00&lt;00:00, 14.04it/s]"
      }
     },
     "41a45bcf82444406ba2599a1785269dd": {
      "model_module": "@jupyter-widgets/controls",
      "model_module_version": "1.5.0",
      "model_name": "HTMLModel",
      "state": {
       "layout": "IPY_MODEL_a4b617d5691c4dcda28a98d547feeed1",
       "style": "IPY_MODEL_cc640ed49d2742c39704ea139193c907",
       "value": "Validation DataLoader 0: 100%"
      }
     },
     "41ce038875a84fbe90934423c97b047d": {
      "model_module": "@jupyter-widgets/controls",
      "model_module_version": "1.5.0",
      "model_name": "DescriptionStyleModel",
      "state": {
       "description_width": ""
      }
     },
     "41da219fbc7247f1bce36e366f8f3bd2": {
      "model_module": "@jupyter-widgets/controls",
      "model_module_version": "1.5.0",
      "model_name": "HTMLModel",
      "state": {
       "layout": "IPY_MODEL_90b4dcc380cf46889c754f1c143797ed",
       "style": "IPY_MODEL_944f45e346d646f69eb79e6dc29e52f2",
       "value": "Validation DataLoader 0: 100%"
      }
     },
     "420dff17c3b44024a3ae5256caaa5c1e": {
      "model_module": "@jupyter-widgets/base",
      "model_module_version": "1.2.0",
      "model_name": "LayoutModel",
      "state": {}
     },
     "421192463c7c4cc381af6ebb80680799": {
      "model_module": "@jupyter-widgets/controls",
      "model_module_version": "1.5.0",
      "model_name": "DescriptionStyleModel",
      "state": {
       "description_width": ""
      }
     },
     "426a6505b40a4b90ad8588ed0100f71c": {
      "model_module": "@jupyter-widgets/controls",
      "model_module_version": "1.5.0",
      "model_name": "FloatProgressModel",
      "state": {
       "layout": "IPY_MODEL_18169d77a5574a9d9f3e1936600bf319",
       "max": 191,
       "style": "IPY_MODEL_d8b3f7778ff8434289a4990b5ab37534",
       "value": 191
      }
     },
     "429153a679e54cbb81acf4800bd900e9": {
      "model_module": "@jupyter-widgets/base",
      "model_module_version": "1.2.0",
      "model_name": "LayoutModel",
      "state": {
       "flex": "2"
      }
     },
     "429f8e2f24e84a10a92298abc5c1996f": {
      "model_module": "@jupyter-widgets/controls",
      "model_module_version": "1.5.0",
      "model_name": "HTMLModel",
      "state": {
       "layout": "IPY_MODEL_3b6e1f17fc3b4be38f62d393e0993c05",
       "style": "IPY_MODEL_7b7468c1f09f460cbc3bdc2bcc9714eb",
       "value": "Sanity Checking DataLoader 0: 100%"
      }
     },
     "42ac7bb9676f42b98c720247b91a45b1": {
      "model_module": "@jupyter-widgets/base",
      "model_module_version": "1.2.0",
      "model_name": "LayoutModel",
      "state": {
       "display": "inline-flex",
       "flex_flow": "row wrap",
       "visibility": "hidden",
       "width": "100%"
      }
     },
     "42af9e2c4f6546d9bf73d09cc9bd06ea": {
      "model_module": "@jupyter-widgets/base",
      "model_module_version": "1.2.0",
      "model_name": "LayoutModel",
      "state": {}
     },
     "42d7830accd64042b6c6fd733d4de746": {
      "model_module": "@jupyter-widgets/base",
      "model_module_version": "1.2.0",
      "model_name": "LayoutModel",
      "state": {
       "flex": "2"
      }
     },
     "4338413a9fef4ecc8112e0da0e727408": {
      "model_module": "@jupyter-widgets/controls",
      "model_module_version": "1.5.0",
      "model_name": "DescriptionStyleModel",
      "state": {
       "description_width": ""
      }
     },
     "433a2a9b744b4c27a076c3e9fa4b4343": {
      "model_module": "@jupyter-widgets/controls",
      "model_module_version": "1.5.0",
      "model_name": "ProgressStyleModel",
      "state": {
       "description_width": ""
      }
     },
     "433e48faefb14d32ab1741782b1dd4b2": {
      "model_module": "@jupyter-widgets/controls",
      "model_module_version": "1.5.0",
      "model_name": "FloatProgressModel",
      "state": {
       "layout": "IPY_MODEL_0526753fcd154874aa8e72567812b10b",
       "max": 191,
       "style": "IPY_MODEL_166cd664ec12414e85c2082c33d507e0",
       "value": 191
      }
     },
     "435c434847df4c0680f3f8c0ac65d439": {
      "model_module": "@jupyter-widgets/controls",
      "model_module_version": "1.5.0",
      "model_name": "DescriptionStyleModel",
      "state": {
       "description_width": ""
      }
     },
     "4375ee3901274429a5a0f857379cb79c": {
      "model_module": "@jupyter-widgets/base",
      "model_module_version": "1.2.0",
      "model_name": "LayoutModel",
      "state": {
       "display": "inline-flex",
       "flex_flow": "row wrap",
       "visibility": "hidden",
       "width": "100%"
      }
     },
     "43c0663a7c294858ac16b36e43707d1c": {
      "model_module": "@jupyter-widgets/base",
      "model_module_version": "1.2.0",
      "model_name": "LayoutModel",
      "state": {
       "display": "inline-flex",
       "flex_flow": "row wrap",
       "visibility": "hidden",
       "width": "100%"
      }
     },
     "43c540ab1a8543e892620a918a3f375f": {
      "model_module": "@jupyter-widgets/base",
      "model_module_version": "1.2.0",
      "model_name": "LayoutModel",
      "state": {
       "display": "inline-flex",
       "flex_flow": "row wrap",
       "visibility": "hidden",
       "width": "100%"
      }
     },
     "43ee1022448a4f87859eba3576f06170": {
      "model_module": "@jupyter-widgets/base",
      "model_module_version": "1.2.0",
      "model_name": "LayoutModel",
      "state": {
       "flex": "2"
      }
     },
     "44693b90ddf4434c9a079bcdacd7d372": {
      "model_module": "@jupyter-widgets/base",
      "model_module_version": "1.2.0",
      "model_name": "LayoutModel",
      "state": {}
     },
     "44bba5e41a094da4b026f93382a3701f": {
      "model_module": "@jupyter-widgets/controls",
      "model_module_version": "1.5.0",
      "model_name": "HTMLModel",
      "state": {
       "layout": "IPY_MODEL_f5f9c73905c84593a2432e7dc7fa76ec",
       "style": "IPY_MODEL_d9f378f7e3b346acaf448d46f0b8fe1d",
       "value": "Sanity Checking DataLoader 0: 100%"
      }
     },
     "44c0b7945a57442e9e7b22cc2254ba2c": {
      "model_module": "@jupyter-widgets/controls",
      "model_module_version": "1.5.0",
      "model_name": "HTMLModel",
      "state": {
       "layout": "IPY_MODEL_8095d07d27ee42d3a37958282efe1cc7",
       "style": "IPY_MODEL_80aa37a7ef88465d95a2f708809c78aa",
       "value": "Validation DataLoader 0: 100%"
      }
     },
     "44d3f435049645ccb3b265a81c9b1ad2": {
      "model_module": "@jupyter-widgets/controls",
      "model_module_version": "1.5.0",
      "model_name": "HTMLModel",
      "state": {
       "layout": "IPY_MODEL_930199d5df724b46a6e7471a02cdc035",
       "style": "IPY_MODEL_7d52fbfbe59a4384a0e2857f5c9f74ae",
       "value": "100%"
      }
     },
     "45186b2b15524981b9d62d9b73b57901": {
      "model_module": "@jupyter-widgets/controls",
      "model_module_version": "1.5.0",
      "model_name": "HTMLModel",
      "state": {
       "layout": "IPY_MODEL_524a457d4f1c43a6aa8b59b0ab77c68a",
       "style": "IPY_MODEL_ceaa56c7a0b042bfb50f0e6b5896aeb3",
       "value": " 417/417 [00:35&lt;00:00, 11.65it/s, v_num=rbu8, seq_len=1.920, y=0.0083, valid/AUROC=0.669]"
      }
     },
     "452e8a02f2f140f7b9ca73855f00d452": {
      "model_module": "@jupyter-widgets/controls",
      "model_module_version": "1.5.0",
      "model_name": "HTMLModel",
      "state": {
       "layout": "IPY_MODEL_bfdfb9abafdc429db41c53fa933db048",
       "style": "IPY_MODEL_1f13ffd8b55b43f897508e6d7a2bd24a",
       "value": "Validation DataLoader 0: 100%"
      }
     },
     "4558ea09b6844c4b927b1ef8e674e4c4": {
      "model_module": "@jupyter-widgets/controls",
      "model_module_version": "1.5.0",
      "model_name": "HBoxModel",
      "state": {
       "children": [
        "IPY_MODEL_9e10be2dea4541f293c3bee65cb808f9",
        "IPY_MODEL_8065af76dbb549c78478ce8a8ce93df7",
        "IPY_MODEL_0a3f50f0d49b448197ac4c32b2cd7e59"
       ],
       "layout": "IPY_MODEL_c57de3ba886b4bf18ef5899bac5cdcc1"
      }
     },
     "4560fbf540a9487d8f981bdec5a5c8a9": {
      "model_module": "@jupyter-widgets/controls",
      "model_module_version": "1.5.0",
      "model_name": "HTMLModel",
      "state": {
       "layout": "IPY_MODEL_42af9e2c4f6546d9bf73d09cc9bd06ea",
       "style": "IPY_MODEL_34b8cef504024941a9d4967887d800ab",
       "value": "Sanity Checking DataLoader 0: 100%"
      }
     },
     "459873bc03664b36b2f6ca9791c4a281": {
      "model_module": "@jupyter-widgets/controls",
      "model_module_version": "1.5.0",
      "model_name": "HTMLModel",
      "state": {
       "layout": "IPY_MODEL_5d93ad8d311a43ffb974c4a07046ba4f",
       "style": "IPY_MODEL_1825b3c7bec04da59233f1a6e1d5b647",
       "value": " 417/417 [00:35&lt;00:00, 11.79it/s, v_num=dla8, seq_len=1.590, y=0.0166, valid/AUROC=0.624]"
      }
     },
     "459c236e915d42b292d51e22c344e74d": {
      "model_module": "@jupyter-widgets/base",
      "model_module_version": "1.2.0",
      "model_name": "LayoutModel",
      "state": {
       "display": "inline-flex",
       "flex_flow": "row wrap",
       "visibility": "hidden",
       "width": "100%"
      }
     },
     "45b41d660b5c4acb84d53d3d9b5dd8a1": {
      "model_module": "@jupyter-widgets/base",
      "model_module_version": "1.2.0",
      "model_name": "LayoutModel",
      "state": {}
     },
     "45bab709b8da4e5e95391985f3e67e07": {
      "model_module": "@jupyter-widgets/controls",
      "model_module_version": "1.5.0",
      "model_name": "ProgressStyleModel",
      "state": {
       "description_width": ""
      }
     },
     "45c24a1990734120aa57ca2f86ac17b1": {
      "model_module": "@jupyter-widgets/controls",
      "model_module_version": "1.5.0",
      "model_name": "HTMLModel",
      "state": {
       "layout": "IPY_MODEL_2f7dbf8c561748d8b430e9bbe064993b",
       "style": "IPY_MODEL_6e3d2f5b34bc4025918df2981f386193",
       "value": "  0%"
      }
     },
     "45cd914918b6469a9c74b159f0314b6b": {
      "model_module": "@jupyter-widgets/controls",
      "model_module_version": "1.5.0",
      "model_name": "ProgressStyleModel",
      "state": {
       "description_width": ""
      }
     },
     "45cf025ddaec4ae99d715b518c0fee9d": {
      "model_module": "@jupyter-widgets/controls",
      "model_module_version": "1.5.0",
      "model_name": "HTMLModel",
      "state": {
       "layout": "IPY_MODEL_6a9dbb3d106044d78c98890495eecf63",
       "style": "IPY_MODEL_60e13509883044d69f019eed5aae4771",
       "value": "Epoch 1: 100%"
      }
     },
     "45e725cffe1e4378aad87b71870d749f": {
      "model_module": "@jupyter-widgets/controls",
      "model_module_version": "1.5.0",
      "model_name": "DescriptionStyleModel",
      "state": {
       "description_width": ""
      }
     },
     "45e7525f5746457ea23d9dd5cb71fe07": {
      "model_module": "@jupyter-widgets/controls",
      "model_module_version": "1.5.0",
      "model_name": "HTMLModel",
      "state": {
       "layout": "IPY_MODEL_597c05b7ebdc43c3b9b2ab21f1253b7b",
       "style": "IPY_MODEL_71f6e501e04e463e8f985dfeeb770251",
       "value": " 191/191 [00:10&lt;00:00, 18.16it/s]"
      }
     },
     "46383f928e1347468aa4d1b8f5f3b8ce": {
      "model_module": "@jupyter-widgets/controls",
      "model_module_version": "1.5.0",
      "model_name": "FloatProgressModel",
      "state": {
       "layout": "IPY_MODEL_18c33c8aa9354a478d0147055a24bd82",
       "max": 191,
       "style": "IPY_MODEL_8f416abcb0824f9fa09b2dbe384fd1df",
       "value": 191
      }
     },
     "463dde09a17744e584f7541618d6fccf": {
      "model_module": "@jupyter-widgets/controls",
      "model_module_version": "1.5.0",
      "model_name": "DescriptionStyleModel",
      "state": {
       "description_width": ""
      }
     },
     "466e01286eb243c4ae15c9eeee6b35d1": {
      "model_module": "@jupyter-widgets/controls",
      "model_module_version": "1.5.0",
      "model_name": "ProgressStyleModel",
      "state": {
       "description_width": ""
      }
     },
     "468b444a8b054fabb7b2ebc220d8397f": {
      "model_module": "@jupyter-widgets/controls",
      "model_module_version": "1.5.0",
      "model_name": "ProgressStyleModel",
      "state": {
       "description_width": ""
      }
     },
     "4693c1fe7c7a4c0abd1759f626cc84b4": {
      "model_module": "@jupyter-widgets/controls",
      "model_module_version": "1.5.0",
      "model_name": "HTMLModel",
      "state": {
       "layout": "IPY_MODEL_b949f86baffe45089ae42e87d9961cdb",
       "style": "IPY_MODEL_b2d3dc379f9847fd94a90122a7aac56e",
       "value": "Epoch 1: 100%"
      }
     },
     "4694f84b637344ca985423e9c6033edd": {
      "model_module": "@jupyter-widgets/controls",
      "model_module_version": "1.5.0",
      "model_name": "DescriptionStyleModel",
      "state": {
       "description_width": ""
      }
     },
     "46a6d93a65334635b0cbab0418ac65a3": {
      "model_module": "@jupyter-widgets/base",
      "model_module_version": "1.2.0",
      "model_name": "LayoutModel",
      "state": {}
     },
     "46af13256f7546dba748653227b9c210": {
      "model_module": "@jupyter-widgets/base",
      "model_module_version": "1.2.0",
      "model_name": "LayoutModel",
      "state": {}
     },
     "46c587a6a17240d8b17e22835ca5e07d": {
      "model_module": "@jupyter-widgets/base",
      "model_module_version": "1.2.0",
      "model_name": "LayoutModel",
      "state": {}
     },
     "47051c8776fd468f84a55dcd8899768b": {
      "model_module": "@jupyter-widgets/controls",
      "model_module_version": "1.5.0",
      "model_name": "HTMLModel",
      "state": {
       "layout": "IPY_MODEL_98e7acec6f1847c0aa899706e5afa963",
       "style": "IPY_MODEL_986d2780e0ab45a6bf6c2639b3b72a2b",
       "value": "Validation DataLoader 0: 100%"
      }
     },
     "47060c93c9574a228fe4e995a05f5e32": {
      "model_module": "@jupyter-widgets/base",
      "model_module_version": "1.2.0",
      "model_name": "LayoutModel",
      "state": {}
     },
     "47315cec7516487bb158bce3ca1b644e": {
      "model_module": "@jupyter-widgets/base",
      "model_module_version": "1.2.0",
      "model_name": "LayoutModel",
      "state": {}
     },
     "476efa23c0d74b32ab6dcaed59dd5271": {
      "model_module": "@jupyter-widgets/base",
      "model_module_version": "1.2.0",
      "model_name": "LayoutModel",
      "state": {}
     },
     "47846bae02d4408fb89737caffe591aa": {
      "model_module": "@jupyter-widgets/base",
      "model_module_version": "1.2.0",
      "model_name": "LayoutModel",
      "state": {}
     },
     "478fe962551446b79084f6e06f1254f2": {
      "model_module": "@jupyter-widgets/base",
      "model_module_version": "1.2.0",
      "model_name": "LayoutModel",
      "state": {
       "display": "inline-flex",
       "flex_flow": "row wrap",
       "width": "100%"
      }
     },
     "47b4f2a4055c42b5816ce897bcb49553": {
      "model_module": "@jupyter-widgets/controls",
      "model_module_version": "1.5.0",
      "model_name": "HTMLModel",
      "state": {
       "layout": "IPY_MODEL_525ad45415b74174ab2a54137f2d48f6",
       "style": "IPY_MODEL_4338413a9fef4ecc8112e0da0e727408",
       "value": " 191/191 [00:10&lt;00:00, 18.22it/s]"
      }
     },
     "47bde7340cfc4504b8b2cb1144b34112": {
      "model_module": "@jupyter-widgets/controls",
      "model_module_version": "1.5.0",
      "model_name": "DescriptionStyleModel",
      "state": {
       "description_width": ""
      }
     },
     "47d5f4579de7463e9f51c5ff6dc28175": {
      "model_module": "@jupyter-widgets/controls",
      "model_module_version": "1.5.0",
      "model_name": "LabelModel",
      "state": {
       "layout": "IPY_MODEL_4e870db711914a20898328146001b802",
       "style": "IPY_MODEL_902d28b9a4514cd5a1babb726a8a7052"
      }
     },
     "47ffcf53e166441982ebf90edd1f31d5": {
      "model_module": "@jupyter-widgets/base",
      "model_module_version": "1.2.0",
      "model_name": "LayoutModel",
      "state": {
       "display": "inline-flex",
       "flex_flow": "row wrap",
       "visibility": "hidden",
       "width": "100%"
      }
     },
     "4801e8845c4344bfb1d67258d4582f51": {
      "model_module": "@jupyter-widgets/controls",
      "model_module_version": "1.5.0",
      "model_name": "DescriptionStyleModel",
      "state": {
       "description_width": ""
      }
     },
     "48049a8c0e8c45e2bd2465b99a9ef3e0": {
      "model_module": "@jupyter-widgets/controls",
      "model_module_version": "1.5.0",
      "model_name": "ProgressStyleModel",
      "state": {
       "description_width": ""
      }
     },
     "48349471a5dc4987b0a2114b259ca353": {
      "model_module": "@jupyter-widgets/controls",
      "model_module_version": "1.5.0",
      "model_name": "ProgressStyleModel",
      "state": {
       "description_width": ""
      }
     },
     "485be793cbb44ddabe62977d45941e85": {
      "model_module": "@jupyter-widgets/controls",
      "model_module_version": "1.5.0",
      "model_name": "DescriptionStyleModel",
      "state": {
       "description_width": ""
      }
     },
     "4861284f3a294850a3dc57e367d6362d": {
      "model_module": "@jupyter-widgets/controls",
      "model_module_version": "1.5.0",
      "model_name": "DescriptionStyleModel",
      "state": {
       "description_width": ""
      }
     },
     "488680dd73a34f40a7d8d47cd792d95d": {
      "model_module": "@jupyter-widgets/controls",
      "model_module_version": "1.5.0",
      "model_name": "HTMLModel",
      "state": {
       "layout": "IPY_MODEL_f6914edb87a644fea54c0b4ea7aff9b4",
       "style": "IPY_MODEL_c438884490504a1cb10857bc9b4c30b5",
       "value": "Validation DataLoader 0: 100%"
      }
     },
     "4895ece1a344490eb12305f1d9d0dcae": {
      "model_module": "@jupyter-widgets/controls",
      "model_module_version": "1.5.0",
      "model_name": "HTMLModel",
      "state": {
       "layout": "IPY_MODEL_177b4733118146bd91df8ea72f11b959",
       "style": "IPY_MODEL_2ce17ef2088a4a40a86eca83fcad7b1d",
       "value": " 191/191 [00:11&lt;00:00, 16.91it/s]"
      }
     },
     "48a8b81ed0554cd39a0d45e757331d5f": {
      "model_module": "@jupyter-widgets/base",
      "model_module_version": "1.2.0",
      "model_name": "LayoutModel",
      "state": {}
     },
     "48c9e8d7d968440497fce0444f930bc8": {
      "model_module": "@jupyter-widgets/base",
      "model_module_version": "1.2.0",
      "model_name": "LayoutModel",
      "state": {
       "display": "inline-flex",
       "flex_flow": "row wrap",
       "width": "100%"
      }
     },
     "48f02797d0214709aa13d270a9868e1f": {
      "model_module": "@jupyter-widgets/controls",
      "model_module_version": "1.5.0",
      "model_name": "ProgressStyleModel",
      "state": {
       "description_width": ""
      }
     },
     "491d5b820da54b9da407357b9b1c737a": {
      "model_module": "@jupyter-widgets/controls",
      "model_module_version": "1.5.0",
      "model_name": "ProgressStyleModel",
      "state": {
       "description_width": ""
      }
     },
     "492fe86967244cccb435f3e4f22272a7": {
      "model_module": "@jupyter-widgets/controls",
      "model_module_version": "1.5.0",
      "model_name": "HTMLModel",
      "state": {
       "layout": "IPY_MODEL_2243505a8a524ebbb3710b7e0ded24da",
       "style": "IPY_MODEL_435c434847df4c0680f3f8c0ac65d439",
       "value": " 191/191 [00:10&lt;00:00, 18.04it/s]"
      }
     },
     "493c1a1c6f2f4d0ba1338f78b75f64f1": {
      "model_module": "@jupyter-widgets/base",
      "model_module_version": "1.2.0",
      "model_name": "LayoutModel",
      "state": {
       "flex": "2"
      }
     },
     "49458105faf24956870e563fa6b38197": {
      "model_module": "@jupyter-widgets/controls",
      "model_module_version": "1.5.0",
      "model_name": "FloatProgressModel",
      "state": {
       "layout": "IPY_MODEL_9fb2165180914514899d16a4b4b736e6",
       "max": 2,
       "style": "IPY_MODEL_8944c21fbcfe46f5996c553e3258e090",
       "value": 2
      }
     },
     "49b789ad62c641e180f8f641ec3f47d2": {
      "model_module": "@jupyter-widgets/controls",
      "model_module_version": "1.5.0",
      "model_name": "DescriptionStyleModel",
      "state": {
       "description_width": ""
      }
     },
     "4a04d2a263124b4b89baa9833a38effd": {
      "model_module": "@jupyter-widgets/controls",
      "model_module_version": "1.5.0",
      "model_name": "FloatProgressModel",
      "state": {
       "layout": "IPY_MODEL_d83919dc990b4c8eb4bc6ea1f3f317dc",
       "max": 2,
       "style": "IPY_MODEL_93b15f1f006e411590fe0af9c940c456",
       "value": 2
      }
     },
     "4a7905c7df8f4d87a59014bcfcd19d8c": {
      "model_module": "@jupyter-widgets/controls",
      "model_module_version": "1.5.0",
      "model_name": "ProgressStyleModel",
      "state": {
       "description_width": ""
      }
     },
     "4acffb8d8ca1409088b7d64c0764c8e5": {
      "model_module": "@jupyter-widgets/base",
      "model_module_version": "1.2.0",
      "model_name": "LayoutModel",
      "state": {}
     },
     "4b0c52d7f1094859913f08f7f7e5d561": {
      "model_module": "@jupyter-widgets/base",
      "model_module_version": "1.2.0",
      "model_name": "LayoutModel",
      "state": {}
     },
     "4b215fbfd3fa44f3a286b8a8767a005c": {
      "model_module": "@jupyter-widgets/controls",
      "model_module_version": "1.5.0",
      "model_name": "HBoxModel",
      "state": {
       "children": [
        "IPY_MODEL_d198c30a62de4536ac1952d98b306d0e",
        "IPY_MODEL_3e9101033b2b4bd69eb75bc71b654f37",
        "IPY_MODEL_e473a01d45ee4872a5e3862065f72e32"
       ],
       "layout": "IPY_MODEL_e3c8006ac7984a6caa7c95c3d04d5fc2"
      }
     },
     "4b6789d2ec5942b5a83121def5f60445": {
      "model_module": "@jupyter-widgets/controls",
      "model_module_version": "1.5.0",
      "model_name": "HBoxModel",
      "state": {
       "children": [
        "IPY_MODEL_a2dfe363f5a34a2f9306884ba7190a96",
        "IPY_MODEL_5ecfa691d410422c93d0d86aa1cf94b2",
        "IPY_MODEL_17c54e87006d415d8a8b517a94d8a99b"
       ],
       "layout": "IPY_MODEL_11406904850d47918fa07151a1511c64"
      }
     },
     "4be0b3a861134c558da9d64cb9d4048f": {
      "model_module": "@jupyter-widgets/base",
      "model_module_version": "1.2.0",
      "model_name": "LayoutModel",
      "state": {}
     },
     "4bf5a8ae067047739c3154578ae50c22": {
      "model_module": "@jupyter-widgets/controls",
      "model_module_version": "1.5.0",
      "model_name": "FloatProgressModel",
      "state": {
       "layout": "IPY_MODEL_6f011feb6767483691c747467613e0dd",
       "max": 191,
       "style": "IPY_MODEL_bc5593df4d634182b5f5e1d7ab983a43",
       "value": 191
      }
     },
     "4c1217aed91d43b98e05dda5ff6480e4": {
      "model_module": "@jupyter-widgets/base",
      "model_module_version": "1.2.0",
      "model_name": "LayoutModel",
      "state": {}
     },
     "4c390e7bf1b14c86817e366ff813a8fa": {
      "model_module": "@jupyter-widgets/controls",
      "model_module_version": "1.5.0",
      "model_name": "HTMLModel",
      "state": {
       "layout": "IPY_MODEL_9d70d34052ef4d7b98a59bc980156888",
       "style": "IPY_MODEL_82253b9be703465bb2949c3e160d3ed8",
       "value": " 417/417 [00:36&lt;00:00, 11.35it/s, v_num=rbu8, seq_len=1.710, y=0.00415, valid/AUROC=0.683]"
      }
     },
     "4c51c1fd9abb48e7aed3378b2aab494a": {
      "model_module": "@jupyter-widgets/controls",
      "model_module_version": "1.5.0",
      "model_name": "DescriptionStyleModel",
      "state": {
       "description_width": ""
      }
     },
     "4c693b220dcb411ea5714075362d9c3d": {
      "model_module": "@jupyter-widgets/base",
      "model_module_version": "1.2.0",
      "model_name": "LayoutModel",
      "state": {}
     },
     "4c7c3378187741f185fe6fcededa9859": {
      "model_module": "@jupyter-widgets/base",
      "model_module_version": "1.2.0",
      "model_name": "LayoutModel",
      "state": {
       "flex": "2"
      }
     },
     "4ca774f7254741e598a96bc403072f79": {
      "model_module": "@jupyter-widgets/base",
      "model_module_version": "1.2.0",
      "model_name": "LayoutModel",
      "state": {}
     },
     "4cb4a8bd15c846829ac9351ea22cf698": {
      "model_module": "@jupyter-widgets/controls",
      "model_module_version": "1.5.0",
      "model_name": "HTMLModel",
      "state": {
       "layout": "IPY_MODEL_655cee8f8b774df3a8cd1c4365404327",
       "style": "IPY_MODEL_0299e3dc28674351b5af55f9bebe0bf8",
       "value": " 191/191 [00:10&lt;00:00, 17.90it/s]"
      }
     },
     "4cb79a50a32c4257b11b4613dea142f5": {
      "model_module": "@jupyter-widgets/controls",
      "model_module_version": "1.5.0",
      "model_name": "FloatProgressModel",
      "state": {
       "layout": "IPY_MODEL_a0a44e1a09e4444bbbfd6c3abbbea611",
       "max": 191,
       "style": "IPY_MODEL_3e017c33ecb343f68bcf526b25af4d24",
       "value": 191
      }
     },
     "4cf86c2fa7c1493f9425bac7e8d596ef": {
      "model_module": "@jupyter-widgets/controls",
      "model_module_version": "1.5.0",
      "model_name": "HTMLModel",
      "state": {
       "layout": "IPY_MODEL_d73edf8c3b6e4ba1a633d74e0ef01e64",
       "style": "IPY_MODEL_b224cf964b80471c9cd80057068f38e7",
       "value": "Sanity Checking DataLoader 0: 100%"
      }
     },
     "4d33f4e61c7b429695a8ced281bb9bb9": {
      "model_module": "@jupyter-widgets/base",
      "model_module_version": "1.2.0",
      "model_name": "LayoutModel",
      "state": {}
     },
     "4d5fa231151c4e2ebd9ab6d0574fc2e5": {
      "model_module": "@jupyter-widgets/base",
      "model_module_version": "1.2.0",
      "model_name": "LayoutModel",
      "state": {}
     },
     "4d7b250f50a743bc97c7152c683d51b9": {
      "model_module": "@jupyter-widgets/base",
      "model_module_version": "1.2.0",
      "model_name": "LayoutModel",
      "state": {}
     },
     "4d7b35a882e5450a8900476502f1ccdc": {
      "model_module": "@jupyter-widgets/controls",
      "model_module_version": "1.5.0",
      "model_name": "ProgressStyleModel",
      "state": {
       "description_width": ""
      }
     },
     "4e004b3e385642b8bf89808359bd0850": {
      "model_module": "@jupyter-widgets/base",
      "model_module_version": "1.2.0",
      "model_name": "LayoutModel",
      "state": {
       "flex": "2"
      }
     },
     "4e29b230eaae4a91945f563fb0968a55": {
      "model_module": "@jupyter-widgets/controls",
      "model_module_version": "1.5.0",
      "model_name": "DescriptionStyleModel",
      "state": {
       "description_width": ""
      }
     },
     "4e2b8460b42d4a46b9e8ffd0580f051d": {
      "model_module": "@jupyter-widgets/controls",
      "model_module_version": "1.5.0",
      "model_name": "FloatProgressModel",
      "state": {
       "bar_style": "success",
       "layout": "IPY_MODEL_87439274d0dd44b9a7a5dd18d6401402",
       "max": 3,
       "style": "IPY_MODEL_126bf943d41c45c1888eca8bae10dd2b",
       "value": 3
      }
     },
     "4e42ced0e9c34a7fba11188cecf15715": {
      "model_module": "@jupyter-widgets/base",
      "model_module_version": "1.2.0",
      "model_name": "LayoutModel",
      "state": {}
     },
     "4e870db711914a20898328146001b802": {
      "model_module": "@jupyter-widgets/base",
      "model_module_version": "1.2.0",
      "model_name": "LayoutModel",
      "state": {}
     },
     "4ed953687db445b1b7c50b23895d1ea0": {
      "model_module": "@jupyter-widgets/base",
      "model_module_version": "1.2.0",
      "model_name": "LayoutModel",
      "state": {}
     },
     "4eef099848fd4f6ea3cf06ec12a9b330": {
      "model_module": "@jupyter-widgets/base",
      "model_module_version": "1.2.0",
      "model_name": "LayoutModel",
      "state": {}
     },
     "4f01f50a556f4225a65334cdeede8252": {
      "model_module": "@jupyter-widgets/base",
      "model_module_version": "1.2.0",
      "model_name": "LayoutModel",
      "state": {
       "display": "inline-flex",
       "flex_flow": "row wrap",
       "visibility": "hidden",
       "width": "100%"
      }
     },
     "4f2b7da713e1425dbae523ee94f21fe9": {
      "model_module": "@jupyter-widgets/controls",
      "model_module_version": "1.5.0",
      "model_name": "ProgressStyleModel",
      "state": {
       "description_width": ""
      }
     },
     "4f9c7c11341340bc85353d44d8fe63aa": {
      "model_module": "@jupyter-widgets/controls",
      "model_module_version": "1.5.0",
      "model_name": "FloatProgressModel",
      "state": {
       "layout": "IPY_MODEL_907b760c00a147feb75ed0964314199d",
       "max": 191,
       "style": "IPY_MODEL_d410cd757f9a4382ade36a8b07e1635b",
       "value": 191
      }
     },
     "4f9e8010683b4462899ad19263a40493": {
      "model_module": "@jupyter-widgets/controls",
      "model_module_version": "1.5.0",
      "model_name": "FloatProgressModel",
      "state": {
       "layout": "IPY_MODEL_952e0d59d22e4372b1c92a745e0c6c23",
       "max": 2,
       "style": "IPY_MODEL_f2333ef0b9664304b10d48e7fda98d80",
       "value": 2
      }
     },
     "4fbf5726c66f4a13bdeb586214393435": {
      "model_module": "@jupyter-widgets/controls",
      "model_module_version": "1.5.0",
      "model_name": "HTMLModel",
      "state": {
       "layout": "IPY_MODEL_b3f2f5bf3e8a4e0388421b3e2e94b343",
       "style": "IPY_MODEL_27474886459748deb5b25f63aa0757ad",
       "value": " 417/417 [00:35&lt;00:00, 11.62it/s, v_num=rbu8, seq_len=1.740, y=0.0083, valid/AUROC=0.681]"
      }
     },
     "4fc1940cd30e421e920563afa38fb62b": {
      "model_module": "@jupyter-widgets/controls",
      "model_module_version": "1.5.0",
      "model_name": "HTMLModel",
      "state": {
       "layout": "IPY_MODEL_7d12a582458a4808941a925a3a38b053",
       "style": "IPY_MODEL_6ed029bf78a24a5c9fad62831ca7ec23",
       "value": "Validation DataLoader 0: 100%"
      }
     },
     "4fc2479ccb744d0cbcb37adf6435a822": {
      "model_module": "@jupyter-widgets/base",
      "model_module_version": "1.2.0",
      "model_name": "LayoutModel",
      "state": {
       "flex": "2"
      }
     },
     "4ffb8ad881184e08ae887f1669966b5f": {
      "model_module": "@jupyter-widgets/controls",
      "model_module_version": "1.5.0",
      "model_name": "HTMLModel",
      "state": {
       "layout": "IPY_MODEL_f57e158a09fc4497b7a45487fe29e47d",
       "style": "IPY_MODEL_0634d559abbb469fa19eea1d867bfece",
       "value": " 2/2 [00:00&lt;00:00, 13.89it/s]"
      }
     },
     "50cf86ca7b754fe2baceccd1b301ea77": {
      "model_module": "@jupyter-widgets/controls",
      "model_module_version": "1.5.0",
      "model_name": "DescriptionStyleModel",
      "state": {
       "description_width": ""
      }
     },
     "50d58425e92e4598ae9b78dd329b6baa": {
      "model_module": "@jupyter-widgets/controls",
      "model_module_version": "1.5.0",
      "model_name": "ProgressStyleModel",
      "state": {
       "description_width": ""
      }
     },
     "50dc711b68ef40a18b6e6718e020c78f": {
      "model_module": "@jupyter-widgets/base",
      "model_module_version": "1.2.0",
      "model_name": "LayoutModel",
      "state": {}
     },
     "511116d179aa4cc0ac7955df2ad8f333": {
      "model_module": "@jupyter-widgets/base",
      "model_module_version": "1.2.0",
      "model_name": "LayoutModel",
      "state": {}
     },
     "51767b3764bc452a97659c2b0c93b91d": {
      "model_module": "@jupyter-widgets/base",
      "model_module_version": "1.2.0",
      "model_name": "LayoutModel",
      "state": {}
     },
     "51b6c8b7658e4ed1aec667a2eb5a80b1": {
      "model_module": "@jupyter-widgets/controls",
      "model_module_version": "1.5.0",
      "model_name": "ProgressStyleModel",
      "state": {
       "description_width": ""
      }
     },
     "51c200fc6cbd4a69917fddcfce6922c7": {
      "model_module": "@jupyter-widgets/controls",
      "model_module_version": "1.5.0",
      "model_name": "HTMLModel",
      "state": {
       "layout": "IPY_MODEL_6423b146317f47fe96e999e23d9366f9",
       "style": "IPY_MODEL_e47f9a2cc78149aa94fecdad6a0fbab9",
       "value": "Validation DataLoader 0: 100%"
      }
     },
     "51e1b27f414542c2b472a14739a7f96c": {
      "model_module": "@jupyter-widgets/base",
      "model_module_version": "1.2.0",
      "model_name": "LayoutModel",
      "state": {}
     },
     "51f579c3497d44258901f86664a60f00": {
      "model_module": "@jupyter-widgets/controls",
      "model_module_version": "1.5.0",
      "model_name": "DescriptionStyleModel",
      "state": {
       "description_width": ""
      }
     },
     "51fdb878023c4150a751fb20b9cc24f1": {
      "model_module": "@jupyter-widgets/base",
      "model_module_version": "1.2.0",
      "model_name": "LayoutModel",
      "state": {
       "display": "inline-flex",
       "flex_flow": "row wrap",
       "visibility": "hidden",
       "width": "100%"
      }
     },
     "520618dd37d8494697e7112df812dd60": {
      "model_module": "@jupyter-widgets/base",
      "model_module_version": "1.2.0",
      "model_name": "LayoutModel",
      "state": {
       "display": "inline-flex",
       "flex_flow": "row wrap",
       "visibility": "hidden",
       "width": "100%"
      }
     },
     "524a457d4f1c43a6aa8b59b0ab77c68a": {
      "model_module": "@jupyter-widgets/base",
      "model_module_version": "1.2.0",
      "model_name": "LayoutModel",
      "state": {}
     },
     "524b345efff84106aa5a87a5443a4d63": {
      "model_module": "@jupyter-widgets/controls",
      "model_module_version": "1.5.0",
      "model_name": "FloatProgressModel",
      "state": {
       "layout": "IPY_MODEL_24c48a01846b4617826814a0a88683e1",
       "max": 191,
       "style": "IPY_MODEL_ab8fdec51ea34275a6950c386afcc94d",
       "value": 191
      }
     },
     "525ad45415b74174ab2a54137f2d48f6": {
      "model_module": "@jupyter-widgets/base",
      "model_module_version": "1.2.0",
      "model_name": "LayoutModel",
      "state": {}
     },
     "52703a5a3db2411d979c5e254c3a1de8": {
      "model_module": "@jupyter-widgets/controls",
      "model_module_version": "1.5.0",
      "model_name": "DescriptionStyleModel",
      "state": {
       "description_width": ""
      }
     },
     "5276c098a71441bf997792054b4e5514": {
      "model_module": "@jupyter-widgets/base",
      "model_module_version": "1.2.0",
      "model_name": "LayoutModel",
      "state": {
       "display": "inline-flex",
       "flex_flow": "row wrap",
       "width": "100%"
      }
     },
     "52f2fd9dc2ea46deb3cf48b37a384681": {
      "model_module": "@jupyter-widgets/controls",
      "model_module_version": "1.5.0",
      "model_name": "DescriptionStyleModel",
      "state": {
       "description_width": ""
      }
     },
     "5324258f5990432a8a2d91439603e25d": {
      "model_module": "@jupyter-widgets/controls",
      "model_module_version": "1.5.0",
      "model_name": "HTMLModel",
      "state": {
       "layout": "IPY_MODEL_39521ba553394a1993ce2b3f7d86892d",
       "style": "IPY_MODEL_8437110537cd4558af76ef7483d7b2db",
       "value": "Validation DataLoader 0: 100%"
      }
     },
     "532ea69e4eba4e1bb587796f2b5e4bb0": {
      "model_module": "@jupyter-widgets/controls",
      "model_module_version": "1.5.0",
      "model_name": "HTMLModel",
      "state": {
       "layout": "IPY_MODEL_c1e85c301fb1426c8dfdcb739e370524",
       "style": "IPY_MODEL_b069ba31055841e7a813cdce673e271d",
       "value": "Sanity Checking DataLoader 0: 100%"
      }
     },
     "5332e6111ab74cb7b4b0048559fe9282": {
      "model_module": "@jupyter-widgets/base",
      "model_module_version": "1.2.0",
      "model_name": "LayoutModel",
      "state": {}
     },
     "533dfda9caed45a68d284b364471d883": {
      "model_module": "@jupyter-widgets/base",
      "model_module_version": "1.2.0",
      "model_name": "LayoutModel",
      "state": {}
     },
     "5346a2bd9db6473f9f29f899a8fa9f12": {
      "model_module": "@jupyter-widgets/controls",
      "model_module_version": "1.5.0",
      "model_name": "DescriptionStyleModel",
      "state": {
       "description_width": ""
      }
     },
     "5365fa9f92b94189974b7e636c721a4a": {
      "model_module": "@jupyter-widgets/base",
      "model_module_version": "1.2.0",
      "model_name": "LayoutModel",
      "state": {}
     },
     "536a5e8ca3254d41a89b11d837cda930": {
      "model_module": "@jupyter-widgets/base",
      "model_module_version": "1.2.0",
      "model_name": "LayoutModel",
      "state": {}
     },
     "53986554a7d94f0bb2f262ed73de3a19": {
      "model_module": "@jupyter-widgets/base",
      "model_module_version": "1.2.0",
      "model_name": "LayoutModel",
      "state": {}
     },
     "53ef7e61cd9148a5b4215f2aecf8b279": {
      "model_module": "@jupyter-widgets/controls",
      "model_module_version": "1.5.0",
      "model_name": "VBoxModel",
      "state": {
       "children": [
        "IPY_MODEL_6081381f271b454e9145d4a6d4eec513",
        "IPY_MODEL_b4e3d1643eab404ca11a73207ec84ea8"
       ],
       "layout": "IPY_MODEL_08cbd2712b5942b3a4f189ad6589c192"
      }
     },
     "5410bc07dd0c4c058018392d77214679": {
      "model_module": "@jupyter-widgets/base",
      "model_module_version": "1.2.0",
      "model_name": "LayoutModel",
      "state": {}
     },
     "542f1518593d48788fb02706724d5ee5": {
      "model_module": "@jupyter-widgets/base",
      "model_module_version": "1.2.0",
      "model_name": "LayoutModel",
      "state": {
       "display": "inline-flex",
       "flex_flow": "row wrap",
       "visibility": "hidden",
       "width": "100%"
      }
     },
     "54aaf643885e48abb1a34d7e67838181": {
      "model_module": "@jupyter-widgets/controls",
      "model_module_version": "1.5.0",
      "model_name": "DescriptionStyleModel",
      "state": {
       "description_width": ""
      }
     },
     "54e309bf720c42b1815343107053bb35": {
      "model_module": "@jupyter-widgets/base",
      "model_module_version": "1.2.0",
      "model_name": "LayoutModel",
      "state": {}
     },
     "54ed782a46824981a496a213bef0aad6": {
      "model_module": "@jupyter-widgets/base",
      "model_module_version": "1.2.0",
      "model_name": "LayoutModel",
      "state": {}
     },
     "5589d1029f844db39bf6ba46d6cf1621": {
      "model_module": "@jupyter-widgets/base",
      "model_module_version": "1.2.0",
      "model_name": "LayoutModel",
      "state": {}
     },
     "5589e7f303144b4e938f17d1cccb4e02": {
      "model_module": "@jupyter-widgets/controls",
      "model_module_version": "1.5.0",
      "model_name": "DescriptionStyleModel",
      "state": {
       "description_width": ""
      }
     },
     "55bda982acb24118a69636950c9f07e4": {
      "model_module": "@jupyter-widgets/controls",
      "model_module_version": "1.5.0",
      "model_name": "FloatProgressModel",
      "state": {
       "layout": "IPY_MODEL_3613ef41ed8a471ebca43aeacbde4cd9",
       "max": 191,
       "style": "IPY_MODEL_a25f89fbc01c4ab488b39eb6f93d3467",
       "value": 191
      }
     },
     "55f46a7134f6426982fa53604c6b4163": {
      "model_module": "@jupyter-widgets/controls",
      "model_module_version": "1.5.0",
      "model_name": "FloatProgressModel",
      "state": {
       "bar_style": "success",
       "layout": "IPY_MODEL_a73a5019e16c427f9c9677e3de83d706",
       "max": 417,
       "style": "IPY_MODEL_b4ecb7cb4ada4277b01b1a3bf6029911",
       "value": 417
      }
     },
     "562ee788529646a5aff0c79d681389e9": {
      "model_module": "@jupyter-widgets/controls",
      "model_module_version": "1.5.0",
      "model_name": "ProgressStyleModel",
      "state": {
       "description_width": ""
      }
     },
     "565847ad33a947b3b592da2ba471e26a": {
      "model_module": "@jupyter-widgets/base",
      "model_module_version": "1.2.0",
      "model_name": "LayoutModel",
      "state": {}
     },
     "569913b238d64b00808a805ae120fce4": {
      "model_module": "@jupyter-widgets/base",
      "model_module_version": "1.2.0",
      "model_name": "LayoutModel",
      "state": {}
     },
     "56f9b326fa7f43b5a88e1e9e8301ef34": {
      "model_module": "@jupyter-widgets/controls",
      "model_module_version": "1.5.0",
      "model_name": "FloatProgressModel",
      "state": {
       "layout": "IPY_MODEL_ca1a0a478b2e4ff9ad369f7cf661beac",
       "max": 191,
       "style": "IPY_MODEL_7c97331fa4d34dc3858a6412902591eb",
       "value": 191
      }
     },
     "5715e71565cd43cb81625ab9a43f7b81": {
      "model_module": "@jupyter-widgets/controls",
      "model_module_version": "1.5.0",
      "model_name": "DescriptionStyleModel",
      "state": {
       "description_width": ""
      }
     },
     "5792775c89014123a6cb7ecd5f4657c5": {
      "model_module": "@jupyter-widgets/base",
      "model_module_version": "1.2.0",
      "model_name": "LayoutModel",
      "state": {}
     },
     "57a27eb27eab4172870dbee300cbd3e4": {
      "model_module": "@jupyter-widgets/controls",
      "model_module_version": "1.5.0",
      "model_name": "DescriptionStyleModel",
      "state": {
       "description_width": ""
      }
     },
     "57d8debca44b4852809d53455865b2c8": {
      "model_module": "@jupyter-widgets/controls",
      "model_module_version": "1.5.0",
      "model_name": "ProgressStyleModel",
      "state": {
       "description_width": ""
      }
     },
     "57da144c5e1144ec83488607c3dc7ae9": {
      "model_module": "@jupyter-widgets/controls",
      "model_module_version": "1.5.0",
      "model_name": "HTMLModel",
      "state": {
       "layout": "IPY_MODEL_0abb8229cb6d45a295fc129a283d91f8",
       "style": "IPY_MODEL_0fadd076e7744c1c820ce934e1f4e026",
       "value": " 191/191 [00:10&lt;00:00, 17.85it/s]"
      }
     },
     "587ded2b069f4fb29a1225a85af88a04": {
      "model_module": "@jupyter-widgets/base",
      "model_module_version": "1.2.0",
      "model_name": "LayoutModel",
      "state": {}
     },
     "58b372db9d88425d8d36d0a5988ab893": {
      "model_module": "@jupyter-widgets/base",
      "model_module_version": "1.2.0",
      "model_name": "LayoutModel",
      "state": {
       "display": "inline-flex",
       "flex_flow": "row wrap",
       "width": "100%"
      }
     },
     "58c4aed54b02450d93fdb45dddbcb01d": {
      "model_module": "@jupyter-widgets/controls",
      "model_module_version": "1.5.0",
      "model_name": "FloatProgressModel",
      "state": {
       "layout": "IPY_MODEL_40c9e194a3e24979835fbb8a81e38c52",
       "max": 2,
       "style": "IPY_MODEL_6b3be50d8ac74e7e9e5a6bd6d5d2d04c",
       "value": 2
      }
     },
     "58e748b272ff451ba61d90dad071f04c": {
      "model_module": "@jupyter-widgets/base",
      "model_module_version": "1.2.0",
      "model_name": "LayoutModel",
      "state": {}
     },
     "5915182a0b0540a3b54afb6314f76d98": {
      "model_module": "@jupyter-widgets/controls",
      "model_module_version": "1.5.0",
      "model_name": "DescriptionStyleModel",
      "state": {
       "description_width": ""
      }
     },
     "592c43b6edd2432b99e63fd4ccd7b9c8": {
      "model_module": "@jupyter-widgets/controls",
      "model_module_version": "1.5.0",
      "model_name": "HTMLModel",
      "state": {
       "layout": "IPY_MODEL_bb90078173404e04afb5a0f5da3556a0",
       "style": "IPY_MODEL_344cf6f729cf4d9eb93a169ba3a8acdb",
       "value": "Sanity Checking DataLoader 0: 100%"
      }
     },
     "593e66a9ecf7453597a9daf3c63f0a34": {
      "model_module": "@jupyter-widgets/controls",
      "model_module_version": "1.5.0",
      "model_name": "FloatProgressModel",
      "state": {
       "bar_style": "danger",
       "layout": "IPY_MODEL_ec355d27ab0548a5a9e7e3f20c4cf7a2",
       "max": 1,
       "style": "IPY_MODEL_dfb7724c387946e8b4ed5b15313b64c8"
      }
     },
     "5970a912aedd4547af55b807ec5f8903": {
      "model_module": "@jupyter-widgets/controls",
      "model_module_version": "1.5.0",
      "model_name": "DescriptionStyleModel",
      "state": {
       "description_width": ""
      }
     },
     "597b765bdc0947b1bd3d92aef49c6cf1": {
      "model_module": "@jupyter-widgets/controls",
      "model_module_version": "1.5.0",
      "model_name": "DescriptionStyleModel",
      "state": {
       "description_width": ""
      }
     },
     "597c05b7ebdc43c3b9b2ab21f1253b7b": {
      "model_module": "@jupyter-widgets/base",
      "model_module_version": "1.2.0",
      "model_name": "LayoutModel",
      "state": {}
     },
     "59932c82e01245a9b1272cdf08f80dcb": {
      "model_module": "@jupyter-widgets/controls",
      "model_module_version": "1.5.0",
      "model_name": "ProgressStyleModel",
      "state": {
       "description_width": ""
      }
     },
     "59a8b5b39e804ee88feb911ca48483d8": {
      "model_module": "@jupyter-widgets/base",
      "model_module_version": "1.2.0",
      "model_name": "LayoutModel",
      "state": {
       "display": "inline-flex",
       "flex_flow": "row wrap",
       "visibility": "hidden",
       "width": "100%"
      }
     },
     "59c66ab29a7542c69f1a5637de588c04": {
      "model_module": "@jupyter-widgets/controls",
      "model_module_version": "1.5.0",
      "model_name": "DescriptionStyleModel",
      "state": {
       "description_width": ""
      }
     },
     "59d0b574b8ac49a3ace97b8c48315def": {
      "model_module": "@jupyter-widgets/controls",
      "model_module_version": "1.5.0",
      "model_name": "DescriptionStyleModel",
      "state": {
       "description_width": ""
      }
     },
     "59e26fbd543e4b4d9050f3ce5d3eaf99": {
      "model_module": "@jupyter-widgets/controls",
      "model_module_version": "1.5.0",
      "model_name": "HTMLModel",
      "state": {
       "layout": "IPY_MODEL_b75406002a5c450bb4fc3b0812a3f323",
       "style": "IPY_MODEL_7ca1aa3af85b4ba48eeb832a3412c674",
       "value": " 2/2 [00:00&lt;00:00, 12.70it/s]"
      }
     },
     "5a1a263de0c44728b1558c1e4d7f1d71": {
      "model_module": "@jupyter-widgets/base",
      "model_module_version": "1.2.0",
      "model_name": "LayoutModel",
      "state": {
       "display": "inline-flex",
       "flex_flow": "row wrap",
       "visibility": "hidden",
       "width": "100%"
      }
     },
     "5a255f1879344b778b94b86e3f751d07": {
      "model_module": "@jupyter-widgets/controls",
      "model_module_version": "1.5.0",
      "model_name": "FloatProgressModel",
      "state": {
       "layout": "IPY_MODEL_1f6dbd2ebf8d438bb1447679ca6ec5db",
       "max": 191,
       "style": "IPY_MODEL_afcc3ec3290f4dfba7e730713697c059",
       "value": 191
      }
     },
     "5a27adee36174c378965cba27dd8a2c7": {
      "model_module": "@jupyter-widgets/base",
      "model_module_version": "1.2.0",
      "model_name": "LayoutModel",
      "state": {
       "display": "inline-flex",
       "flex_flow": "row wrap",
       "visibility": "hidden",
       "width": "100%"
      }
     },
     "5a40b476d1cc400e980d656fe16bc22a": {
      "model_module": "@jupyter-widgets/controls",
      "model_module_version": "1.5.0",
      "model_name": "DescriptionStyleModel",
      "state": {
       "description_width": ""
      }
     },
     "5a759b82fd1b4cd99820de262e2402fa": {
      "model_module": "@jupyter-widgets/base",
      "model_module_version": "1.2.0",
      "model_name": "LayoutModel",
      "state": {
       "display": "inline-flex",
       "flex_flow": "row wrap",
       "visibility": "hidden",
       "width": "100%"
      }
     },
     "5aab5da85c6642c2b2f0ef36cecb63c8": {
      "model_module": "@jupyter-widgets/base",
      "model_module_version": "1.2.0",
      "model_name": "LayoutModel",
      "state": {}
     },
     "5abfa8ddca374100959f43e900244151": {
      "model_module": "@jupyter-widgets/controls",
      "model_module_version": "1.5.0",
      "model_name": "FloatProgressModel",
      "state": {
       "layout": "IPY_MODEL_9f18ae5bc67246148d473748ad714990",
       "max": 2,
       "style": "IPY_MODEL_3bdcae8e114d4f688a60d207d1936f50",
       "value": 2
      }
     },
     "5ace0a21581244f4aef55ab5118fbe3c": {
      "model_module": "@jupyter-widgets/base",
      "model_module_version": "1.2.0",
      "model_name": "LayoutModel",
      "state": {}
     },
     "5ae00b01076d43348213a19121dee7da": {
      "model_module": "@jupyter-widgets/controls",
      "model_module_version": "1.5.0",
      "model_name": "FloatProgressModel",
      "state": {
       "layout": "IPY_MODEL_dd890ca279894c50a8bf118e5931fa73",
       "max": 191,
       "style": "IPY_MODEL_ebc58a49e2d246839755e6b73bdb6788",
       "value": 191
      }
     },
     "5b5385da9adc4b649848318aaf787bc6": {
      "model_module": "@jupyter-widgets/base",
      "model_module_version": "1.2.0",
      "model_name": "LayoutModel",
      "state": {}
     },
     "5b5cf222da754e348dc57512411df2b7": {
      "model_module": "@jupyter-widgets/controls",
      "model_module_version": "1.5.0",
      "model_name": "HTMLModel",
      "state": {
       "layout": "IPY_MODEL_d50fa2c365494e429d74b3ee0820663b",
       "style": "IPY_MODEL_609473b13609431a9041ef02cd46138b",
       "value": " 191/191 [00:12&lt;00:00, 15.13it/s]"
      }
     },
     "5b74cd2f937744ff9db84468f57951b2": {
      "model_module": "@jupyter-widgets/controls",
      "model_module_version": "1.5.0",
      "model_name": "ProgressStyleModel",
      "state": {
       "description_width": ""
      }
     },
     "5baab691cb10451b8cd4f93b16ea1a0f": {
      "model_module": "@jupyter-widgets/base",
      "model_module_version": "1.2.0",
      "model_name": "LayoutModel",
      "state": {
       "display": "inline-flex",
       "flex_flow": "row wrap",
       "visibility": "hidden",
       "width": "100%"
      }
     },
     "5bd2fef31d9e48ffb4fb11d193962e5d": {
      "model_module": "@jupyter-widgets/base",
      "model_module_version": "1.2.0",
      "model_name": "LayoutModel",
      "state": {}
     },
     "5be20351cf424c9b81ad872f2d4544e3": {
      "model_module": "@jupyter-widgets/controls",
      "model_module_version": "1.5.0",
      "model_name": "HBoxModel",
      "state": {
       "children": [
        "IPY_MODEL_3d373fb1bdf042c080d73b421f9d7bdd",
        "IPY_MODEL_fe77559b18bb45429de563de23d9c051",
        "IPY_MODEL_9cbe51e7121b4cec9c0dc258ebd471da"
       ],
       "layout": "IPY_MODEL_5d97a1cb4f4149efb68a19b7cf29c112"
      }
     },
     "5be209df81e64ead89c1e18b16e320f5": {
      "model_module": "@jupyter-widgets/controls",
      "model_module_version": "1.5.0",
      "model_name": "DescriptionStyleModel",
      "state": {
       "description_width": ""
      }
     },
     "5bedb5490a0f43a8906befa8c346945d": {
      "model_module": "@jupyter-widgets/base",
      "model_module_version": "1.2.0",
      "model_name": "LayoutModel",
      "state": {}
     },
     "5bfc60e6656d47b28cfba2781e37f94b": {
      "model_module": "@jupyter-widgets/controls",
      "model_module_version": "1.5.0",
      "model_name": "HTMLModel",
      "state": {
       "layout": "IPY_MODEL_a8555d742b3d412d80f38072ae6ee49d",
       "style": "IPY_MODEL_84d18a1a954a406d8cc6564e1388c4f5",
       "value": "Epoch 1: 100%"
      }
     },
     "5bfcb9015c37435fbd502d9eeacce540": {
      "model_module": "@jupyter-widgets/base",
      "model_module_version": "1.2.0",
      "model_name": "LayoutModel",
      "state": {}
     },
     "5c24c67c112842c4943f83e7cdc5de10": {
      "model_module": "@jupyter-widgets/base",
      "model_module_version": "1.2.0",
      "model_name": "LayoutModel",
      "state": {
       "flex": "2"
      }
     },
     "5c58e1a5549348b98e4064e5c47cd9e3": {
      "model_module": "@jupyter-widgets/controls",
      "model_module_version": "1.5.0",
      "model_name": "FloatProgressModel",
      "state": {
       "bar_style": "success",
       "layout": "IPY_MODEL_f06c99b098b64d2cb76daa1b4fd4f52d",
       "max": 417,
       "style": "IPY_MODEL_01acd0e0db1d49b4bcdf736ef052830c",
       "value": 417
      }
     },
     "5c665e734865494289ab9f85bb283692": {
      "model_module": "@jupyter-widgets/base",
      "model_module_version": "1.2.0",
      "model_name": "LayoutModel",
      "state": {}
     },
     "5c68ed6de85745e1bc7799ae1ae7fe49": {
      "model_module": "@jupyter-widgets/controls",
      "model_module_version": "1.5.0",
      "model_name": "ProgressStyleModel",
      "state": {
       "description_width": ""
      }
     },
     "5cc058c4ccfd4573ae10f30b1835d69f": {
      "model_module": "@jupyter-widgets/controls",
      "model_module_version": "1.5.0",
      "model_name": "DescriptionStyleModel",
      "state": {
       "description_width": ""
      }
     },
     "5cc4eaf662484bed8498f9a1e0663cff": {
      "model_module": "@jupyter-widgets/controls",
      "model_module_version": "1.5.0",
      "model_name": "ProgressStyleModel",
      "state": {
       "description_width": ""
      }
     },
     "5ccc829329a049eaae5aa3cf3cfe18e2": {
      "model_module": "@jupyter-widgets/base",
      "model_module_version": "1.2.0",
      "model_name": "LayoutModel",
      "state": {}
     },
     "5cd37bed16834483b78eae7cd6ea1cb5": {
      "model_module": "@jupyter-widgets/controls",
      "model_module_version": "1.5.0",
      "model_name": "FloatProgressModel",
      "state": {
       "bar_style": "success",
       "layout": "IPY_MODEL_2c169141460e4c0eaa96e26ed53740de",
       "max": 417,
       "style": "IPY_MODEL_e16c20eea8784453a5819ab6ada87ad6",
       "value": 417
      }
     },
     "5ce4ea2914184e32be3b9e93742189c4": {
      "model_module": "@jupyter-widgets/base",
      "model_module_version": "1.2.0",
      "model_name": "LayoutModel",
      "state": {}
     },
     "5d217b80e6014f5eb3005609b1e403fb": {
      "model_module": "@jupyter-widgets/base",
      "model_module_version": "1.2.0",
      "model_name": "LayoutModel",
      "state": {}
     },
     "5d4101046cec46d8a3d1be5edd9f9c09": {
      "model_module": "@jupyter-widgets/base",
      "model_module_version": "1.2.0",
      "model_name": "LayoutModel",
      "state": {}
     },
     "5d5bf24eda6247948053efca82aa7a37": {
      "model_module": "@jupyter-widgets/controls",
      "model_module_version": "1.5.0",
      "model_name": "HTMLModel",
      "state": {
       "layout": "IPY_MODEL_a41691e571a0427cbd289b5b7917fa0a",
       "style": "IPY_MODEL_3d4aaa9c91294961a06d11ce46a6ca2b",
       "value": " 191/191 [00:11&lt;00:00, 16.47it/s]"
      }
     },
     "5d62301dc5164379a66b5abef74ad1f2": {
      "model_module": "@jupyter-widgets/base",
      "model_module_version": "1.2.0",
      "model_name": "LayoutModel",
      "state": {
       "display": "inline-flex",
       "flex_flow": "row wrap",
       "visibility": "hidden",
       "width": "100%"
      }
     },
     "5d93ad8d311a43ffb974c4a07046ba4f": {
      "model_module": "@jupyter-widgets/base",
      "model_module_version": "1.2.0",
      "model_name": "LayoutModel",
      "state": {}
     },
     "5d97a1cb4f4149efb68a19b7cf29c112": {
      "model_module": "@jupyter-widgets/base",
      "model_module_version": "1.2.0",
      "model_name": "LayoutModel",
      "state": {
       "display": "inline-flex",
       "flex_flow": "row wrap",
       "width": "100%"
      }
     },
     "5dec10ec40e84be7ac67dbf9cb9e60ec": {
      "model_module": "@jupyter-widgets/base",
      "model_module_version": "1.2.0",
      "model_name": "LayoutModel",
      "state": {}
     },
     "5df725782419403280847e4031516a50": {
      "model_module": "@jupyter-widgets/controls",
      "model_module_version": "1.5.0",
      "model_name": "HTMLModel",
      "state": {
       "layout": "IPY_MODEL_c8a7471e098642b6a284448273aaa92b",
       "style": "IPY_MODEL_7d30424c4ca045ec85aec7868bb112b3",
       "value": " 191/191 [00:11&lt;00:00, 16.61it/s]"
      }
     },
     "5e1817017c1d4d6687fa8a1f1cf8b2fa": {
      "model_module": "@jupyter-widgets/controls",
      "model_module_version": "1.5.0",
      "model_name": "DescriptionStyleModel",
      "state": {
       "description_width": ""
      }
     },
     "5e3335f331034167abc78c31b540c0bd": {
      "model_module": "@jupyter-widgets/base",
      "model_module_version": "1.2.0",
      "model_name": "LayoutModel",
      "state": {}
     },
     "5e36499b9e85428aa460230fdafb78e7": {
      "model_module": "@jupyter-widgets/controls",
      "model_module_version": "1.5.0",
      "model_name": "FloatProgressModel",
      "state": {
       "bar_style": "success",
       "layout": "IPY_MODEL_344931bd24ee4c37879973cf1aea855f",
       "max": 3,
       "style": "IPY_MODEL_9965f26733244b6db53ce771d48f45aa",
       "value": 3
      }
     },
     "5e3653dbf8174fa898c935cb614b0210": {
      "model_module": "@jupyter-widgets/base",
      "model_module_version": "1.2.0",
      "model_name": "LayoutModel",
      "state": {}
     },
     "5e630f22d90b4629938c8033979ebcfd": {
      "model_module": "@jupyter-widgets/controls",
      "model_module_version": "1.5.0",
      "model_name": "DescriptionStyleModel",
      "state": {
       "description_width": ""
      }
     },
     "5e833b60a4a04a41a2d064069ae36662": {
      "model_module": "@jupyter-widgets/controls",
      "model_module_version": "1.5.0",
      "model_name": "DescriptionStyleModel",
      "state": {
       "description_width": ""
      }
     },
     "5ecfa691d410422c93d0d86aa1cf94b2": {
      "model_module": "@jupyter-widgets/controls",
      "model_module_version": "1.5.0",
      "model_name": "FloatProgressModel",
      "state": {
       "bar_style": "success",
       "layout": "IPY_MODEL_4eef099848fd4f6ea3cf06ec12a9b330",
       "max": 8,
       "style": "IPY_MODEL_3f6c674fd8d04e9ab59fd0598f1765c2",
       "value": 8
      }
     },
     "5ef18ccf77d24782b96a26beb521aa37": {
      "model_module": "@jupyter-widgets/base",
      "model_module_version": "1.2.0",
      "model_name": "LayoutModel",
      "state": {
       "flex": "2"
      }
     },
     "5f02a3c6d5184624b2deeeef9c8ff990": {
      "model_module": "@jupyter-widgets/controls",
      "model_module_version": "1.5.0",
      "model_name": "HTMLModel",
      "state": {
       "layout": "IPY_MODEL_c5953063a7f3428f9f35af0baa763107",
       "style": "IPY_MODEL_f8f3e4dd397d4c06878bf558075c82b2",
       "value": " 25%"
      }
     },
     "5f21773923a84936bab621b38f2f39e3": {
      "model_module": "@jupyter-widgets/base",
      "model_module_version": "1.2.0",
      "model_name": "LayoutModel",
      "state": {
       "flex": "2"
      }
     },
     "5f63894fba1e4a408e1802449676b184": {
      "model_module": "@jupyter-widgets/base",
      "model_module_version": "1.2.0",
      "model_name": "LayoutModel",
      "state": {}
     },
     "5f66e1f5a05b48f89efd3fa5523b3d8f": {
      "model_module": "@jupyter-widgets/controls",
      "model_module_version": "1.5.0",
      "model_name": "HTMLModel",
      "state": {
       "layout": "IPY_MODEL_5d4101046cec46d8a3d1be5edd9f9c09",
       "style": "IPY_MODEL_6007e040ebb746889b06b0d91a39fdec",
       "value": "Sanity Checking DataLoader 0: 100%"
      }
     },
     "5f6acd197c274d48a0d488e4056e7063": {
      "model_module": "@jupyter-widgets/base",
      "model_module_version": "1.2.0",
      "model_name": "LayoutModel",
      "state": {
       "display": "inline-flex",
       "flex_flow": "row wrap",
       "visibility": "hidden",
       "width": "100%"
      }
     },
     "5f95101aea3d44e0baa61735f0896958": {
      "model_module": "@jupyter-widgets/base",
      "model_module_version": "1.2.0",
      "model_name": "LayoutModel",
      "state": {
       "display": "inline-flex",
       "flex_flow": "row wrap",
       "width": "100%"
      }
     },
     "5f99bc70adc14c04aa7ebbc41846b522": {
      "model_module": "@jupyter-widgets/controls",
      "model_module_version": "1.5.0",
      "model_name": "ProgressStyleModel",
      "state": {
       "description_width": ""
      }
     },
     "5fc71d5152e94a9ebbab9844d0572806": {
      "model_module": "@jupyter-widgets/controls",
      "model_module_version": "1.5.0",
      "model_name": "HTMLModel",
      "state": {
       "layout": "IPY_MODEL_75d3e6b0f675449197a78a5e6402c8b0",
       "style": "IPY_MODEL_6292d7b59b884fd380455f2503a5fac3",
       "value": " 191/191 [00:10&lt;00:00, 18.02it/s]"
      }
     },
     "6007e040ebb746889b06b0d91a39fdec": {
      "model_module": "@jupyter-widgets/controls",
      "model_module_version": "1.5.0",
      "model_name": "DescriptionStyleModel",
      "state": {
       "description_width": ""
      }
     },
     "60095b7b73c04c6e8fc53de2cbc76796": {
      "model_module": "@jupyter-widgets/base",
      "model_module_version": "1.2.0",
      "model_name": "LayoutModel",
      "state": {}
     },
     "6027f6a423684503901d2ee71cffb409": {
      "model_module": "@jupyter-widgets/controls",
      "model_module_version": "1.5.0",
      "model_name": "DescriptionStyleModel",
      "state": {
       "description_width": ""
      }
     },
     "603b0a0a5d9c4f9396c3098e848b981b": {
      "model_module": "@jupyter-widgets/controls",
      "model_module_version": "1.5.0",
      "model_name": "FloatProgressModel",
      "state": {
       "layout": "IPY_MODEL_6d198f9be7474bfaa6f06d6678ebf59e",
       "max": 2,
       "style": "IPY_MODEL_ac460bfdc48a4b88a035b19b84494307",
       "value": 2
      }
     },
     "6064167f77a14107bc90746cd5ca9275": {
      "model_module": "@jupyter-widgets/base",
      "model_module_version": "1.2.0",
      "model_name": "LayoutModel",
      "state": {
       "flex": "2"
      }
     },
     "6067acb48ca94b8da12966b19a73afba": {
      "model_module": "@jupyter-widgets/base",
      "model_module_version": "1.2.0",
      "model_name": "LayoutModel",
      "state": {}
     },
     "6081381f271b454e9145d4a6d4eec513": {
      "model_module": "@jupyter-widgets/controls",
      "model_module_version": "1.5.0",
      "model_name": "LabelModel",
      "state": {
       "layout": "IPY_MODEL_5b5385da9adc4b649848318aaf787bc6",
       "style": "IPY_MODEL_2887bf1070e541d6bdef5fbe2b95271e"
      }
     },
     "609473b13609431a9041ef02cd46138b": {
      "model_module": "@jupyter-widgets/controls",
      "model_module_version": "1.5.0",
      "model_name": "DescriptionStyleModel",
      "state": {
       "description_width": ""
      }
     },
     "60d8b14bc2c644568daaa8b4dfbcf082": {
      "model_module": "@jupyter-widgets/base",
      "model_module_version": "1.2.0",
      "model_name": "LayoutModel",
      "state": {}
     },
     "60da614272df4d269a841d217321fd26": {
      "model_module": "@jupyter-widgets/controls",
      "model_module_version": "1.5.0",
      "model_name": "HTMLModel",
      "state": {
       "layout": "IPY_MODEL_1eb39ca96c2049679934f042ad8f1fcd",
       "style": "IPY_MODEL_00ec94e527fe4bc28926dc39590ccb52",
       "value": "Validation DataLoader 0: 100%"
      }
     },
     "60e13509883044d69f019eed5aae4771": {
      "model_module": "@jupyter-widgets/controls",
      "model_module_version": "1.5.0",
      "model_name": "DescriptionStyleModel",
      "state": {
       "description_width": ""
      }
     },
     "6117d885bb7f41afb373facb1900163d": {
      "model_module": "@jupyter-widgets/controls",
      "model_module_version": "1.5.0",
      "model_name": "FloatProgressModel",
      "state": {
       "bar_style": "success",
       "layout": "IPY_MODEL_d06bd8dc34ad459c9dfd4291ec2cdcd1",
       "max": 417,
       "style": "IPY_MODEL_1f5b78889db14c5992319688a9a41ff9",
       "value": 417
      }
     },
     "618f3dd131134ac385829086bbb8ad0a": {
      "model_module": "@jupyter-widgets/base",
      "model_module_version": "1.2.0",
      "model_name": "LayoutModel",
      "state": {
       "display": "inline-flex",
       "flex_flow": "row wrap",
       "visibility": "hidden",
       "width": "100%"
      }
     },
     "61ba651f09ad4f58acc818cdd599729c": {
      "model_module": "@jupyter-widgets/controls",
      "model_module_version": "1.5.0",
      "model_name": "ProgressStyleModel",
      "state": {
       "description_width": ""
      }
     },
     "61cf1e3f45134cc986398513f03f254a": {
      "model_module": "@jupyter-widgets/base",
      "model_module_version": "1.2.0",
      "model_name": "LayoutModel",
      "state": {
       "flex": "2"
      }
     },
     "61d687d79cf24a4ba93a6436909dbc80": {
      "model_module": "@jupyter-widgets/controls",
      "model_module_version": "1.5.0",
      "model_name": "HTMLModel",
      "state": {
       "layout": "IPY_MODEL_121113b32afe49e9a1421659d9f9d532",
       "style": "IPY_MODEL_8d827b2e93ea4d18896bca5311f406c8",
       "value": "Validation DataLoader 0: 100%"
      }
     },
     "61e8076556ce4f10838472d4368b1d58": {
      "model_module": "@jupyter-widgets/base",
      "model_module_version": "1.2.0",
      "model_name": "LayoutModel",
      "state": {
       "flex": "2"
      }
     },
     "6216607575d149ff8426835758a19fe2": {
      "model_module": "@jupyter-widgets/controls",
      "model_module_version": "1.5.0",
      "model_name": "DescriptionStyleModel",
      "state": {
       "description_width": ""
      }
     },
     "621abe161ff74cef9455aa3e9d67ae81": {
      "model_module": "@jupyter-widgets/controls",
      "model_module_version": "1.5.0",
      "model_name": "FloatProgressModel",
      "state": {
       "layout": "IPY_MODEL_821de9ebf5cd4be797719ac6cf0cce9f",
       "max": 191,
       "style": "IPY_MODEL_1005517a68454978acc45b7e37c8ba7d",
       "value": 191
      }
     },
     "6246f868b9fe4772b439bd7cf22d5f5b": {
      "model_module": "@jupyter-widgets/controls",
      "model_module_version": "1.5.0",
      "model_name": "HTMLModel",
      "state": {
       "layout": "IPY_MODEL_01d81230321a4a9ba5327ce11370994e",
       "style": "IPY_MODEL_30ae597f39a74e4996414c06b5c9fda2",
       "value": " 191/191 [00:10&lt;00:00, 18.17it/s]"
      }
     },
     "625f66eee31d4645ad7ee1cc378e59ac": {
      "model_module": "@jupyter-widgets/controls",
      "model_module_version": "1.5.0",
      "model_name": "ProgressStyleModel",
      "state": {
       "description_width": ""
      }
     },
     "6292d7b59b884fd380455f2503a5fac3": {
      "model_module": "@jupyter-widgets/controls",
      "model_module_version": "1.5.0",
      "model_name": "DescriptionStyleModel",
      "state": {
       "description_width": ""
      }
     },
     "62abf29cee72495d8a1a642f4439509b": {
      "model_module": "@jupyter-widgets/controls",
      "model_module_version": "1.5.0",
      "model_name": "DescriptionStyleModel",
      "state": {
       "description_width": ""
      }
     },
     "62bcb027767143b893066434023d1d5d": {
      "model_module": "@jupyter-widgets/controls",
      "model_module_version": "1.5.0",
      "model_name": "DescriptionStyleModel",
      "state": {
       "description_width": ""
      }
     },
     "62bfdb0d4f9e4ea39109b87b990490b8": {
      "model_module": "@jupyter-widgets/base",
      "model_module_version": "1.2.0",
      "model_name": "LayoutModel",
      "state": {
       "flex": "2"
      }
     },
     "62c2fd2eeff94d1aabc6ffec3a3806fc": {
      "model_module": "@jupyter-widgets/base",
      "model_module_version": "1.2.0",
      "model_name": "LayoutModel",
      "state": {}
     },
     "62c3e8a0265645358c2716c1fa6b0113": {
      "model_module": "@jupyter-widgets/controls",
      "model_module_version": "1.5.0",
      "model_name": "DescriptionStyleModel",
      "state": {
       "description_width": ""
      }
     },
     "62dd2709eafa401498b40601956bb719": {
      "model_module": "@jupyter-widgets/base",
      "model_module_version": "1.2.0",
      "model_name": "LayoutModel",
      "state": {}
     },
     "631303ae2edc4407ab208d406a58243e": {
      "model_module": "@jupyter-widgets/controls",
      "model_module_version": "1.5.0",
      "model_name": "FloatProgressModel",
      "state": {
       "bar_style": "success",
       "layout": "IPY_MODEL_cad005f0b1524a5ebb1ac6b0f87e4503",
       "max": 417,
       "style": "IPY_MODEL_a38d669a6696407590063f4714e1c71b",
       "value": 417
      }
     },
     "631d2caadb8842308c16c54b76938981": {
      "model_module": "@jupyter-widgets/base",
      "model_module_version": "1.2.0",
      "model_name": "LayoutModel",
      "state": {
       "flex": "2"
      }
     },
     "6330d29996d44e099b4782ab4e10c5b9": {
      "model_module": "@jupyter-widgets/base",
      "model_module_version": "1.2.0",
      "model_name": "LayoutModel",
      "state": {}
     },
     "633ea3e74d4241b0a9b13fd90c71a2e9": {
      "model_module": "@jupyter-widgets/base",
      "model_module_version": "1.2.0",
      "model_name": "LayoutModel",
      "state": {
       "flex": "2"
      }
     },
     "636c1c72aaf844d5bc3a87f39c70270c": {
      "model_module": "@jupyter-widgets/base",
      "model_module_version": "1.2.0",
      "model_name": "LayoutModel",
      "state": {}
     },
     "636c7d00bd8c476f8a8c83b0dbfc1d1f": {
      "model_module": "@jupyter-widgets/base",
      "model_module_version": "1.2.0",
      "model_name": "LayoutModel",
      "state": {}
     },
     "63985d43f02d46e887725dcc31dc8328": {
      "model_module": "@jupyter-widgets/base",
      "model_module_version": "1.2.0",
      "model_name": "LayoutModel",
      "state": {}
     },
     "63a4512f2ba1438c84a6d9f2c90312f8": {
      "model_module": "@jupyter-widgets/controls",
      "model_module_version": "1.5.0",
      "model_name": "HTMLModel",
      "state": {
       "layout": "IPY_MODEL_2b384ed476f94c2a9aa10f66eee38d2b",
       "style": "IPY_MODEL_74efdaf2fcd9441ba03843507899cf17",
       "value": "Validation DataLoader 0: 100%"
      }
     },
     "63c78190a2c6479fa9e3d4135a595767": {
      "model_module": "@jupyter-widgets/base",
      "model_module_version": "1.2.0",
      "model_name": "LayoutModel",
      "state": {}
     },
     "63cc5ed9cb6846f18ab7f277b2f7d8eb": {
      "model_module": "@jupyter-widgets/controls",
      "model_module_version": "1.5.0",
      "model_name": "DescriptionStyleModel",
      "state": {
       "description_width": ""
      }
     },
     "63df6fcbc856430bab5de8ff7818ea1a": {
      "model_module": "@jupyter-widgets/controls",
      "model_module_version": "1.5.0",
      "model_name": "VBoxModel",
      "state": {
       "children": [
        "IPY_MODEL_4066b044f5584617b5114210b2f353e0",
        "IPY_MODEL_c1acfede7e464156aae2dcbf11cc6b3f"
       ],
       "layout": "IPY_MODEL_be2a15825561478d9055b8c19de66d01"
      }
     },
     "63e7f145aea24ad7ab74e2647e671932": {
      "model_module": "@jupyter-widgets/controls",
      "model_module_version": "1.5.0",
      "model_name": "FloatProgressModel",
      "state": {
       "layout": "IPY_MODEL_d01f1a84a3834397ab690d163e8bd3e0",
       "max": 2,
       "style": "IPY_MODEL_7db3b81a533b43c6b1474a8a918d8b3d",
       "value": 2
      }
     },
     "63ea5930d6574d2eb847e45bb80f61fc": {
      "model_module": "@jupyter-widgets/controls",
      "model_module_version": "1.5.0",
      "model_name": "ProgressStyleModel",
      "state": {
       "description_width": ""
      }
     },
     "63ee1cc020214fc992d86a7e93173346": {
      "model_module": "@jupyter-widgets/base",
      "model_module_version": "1.2.0",
      "model_name": "LayoutModel",
      "state": {}
     },
     "6423b146317f47fe96e999e23d9366f9": {
      "model_module": "@jupyter-widgets/base",
      "model_module_version": "1.2.0",
      "model_name": "LayoutModel",
      "state": {}
     },
     "644bbd4d5a6341238432853af40ad6a4": {
      "model_module": "@jupyter-widgets/base",
      "model_module_version": "1.2.0",
      "model_name": "LayoutModel",
      "state": {}
     },
     "647e6861f33e4182a57b66f51d0e1bfb": {
      "model_module": "@jupyter-widgets/controls",
      "model_module_version": "1.5.0",
      "model_name": "HTMLModel",
      "state": {
       "layout": "IPY_MODEL_420dff17c3b44024a3ae5256caaa5c1e",
       "style": "IPY_MODEL_1fe720270c5943e4af96a1eb61c2a4c7",
       "value": " 2/2 [00:00&lt;00:00, 14.18it/s]"
      }
     },
     "649ed33e38b84aa4a0a65169532c7ae2": {
      "model_module": "@jupyter-widgets/base",
      "model_module_version": "1.2.0",
      "model_name": "LayoutModel",
      "state": {}
     },
     "64c3def0e73947d781b154284c3f43ed": {
      "model_module": "@jupyter-widgets/controls",
      "model_module_version": "1.5.0",
      "model_name": "DescriptionStyleModel",
      "state": {
       "description_width": ""
      }
     },
     "64dea1e43077494fa04c9904fb5b6695": {
      "model_module": "@jupyter-widgets/base",
      "model_module_version": "1.2.0",
      "model_name": "LayoutModel",
      "state": {}
     },
     "64f114b10d3e4ab5a47a29761684b5d8": {
      "model_module": "@jupyter-widgets/base",
      "model_module_version": "1.2.0",
      "model_name": "LayoutModel",
      "state": {
       "flex": "2"
      }
     },
     "64fa40d6fad042088523754d441d4dc8": {
      "model_module": "@jupyter-widgets/controls",
      "model_module_version": "1.5.0",
      "model_name": "DescriptionStyleModel",
      "state": {
       "description_width": ""
      }
     },
     "6502ed2f33d1459a8c47b861b648de0d": {
      "model_module": "@jupyter-widgets/base",
      "model_module_version": "1.2.0",
      "model_name": "LayoutModel",
      "state": {
       "display": "inline-flex",
       "flex_flow": "row wrap",
       "visibility": "hidden",
       "width": "100%"
      }
     },
     "65204ca8f1bb4289958e5532bcf4c38b": {
      "model_module": "@jupyter-widgets/base",
      "model_module_version": "1.2.0",
      "model_name": "LayoutModel",
      "state": {}
     },
     "653eb46b0eb44b0d8347f66101ce1506": {
      "model_module": "@jupyter-widgets/base",
      "model_module_version": "1.2.0",
      "model_name": "LayoutModel",
      "state": {
       "display": "inline-flex",
       "flex_flow": "row wrap",
       "visibility": "hidden",
       "width": "100%"
      }
     },
     "654073ff02b84762bb65422ee5bbe14f": {
      "model_module": "@jupyter-widgets/controls",
      "model_module_version": "1.5.0",
      "model_name": "FloatProgressModel",
      "state": {
       "layout": "IPY_MODEL_ecfa62f5e20a458392993ac1d5cef40d",
       "max": 191,
       "style": "IPY_MODEL_d762b9f19bf04c20a612392ae5ab0a03",
       "value": 191
      }
     },
     "655cee8f8b774df3a8cd1c4365404327": {
      "model_module": "@jupyter-widgets/base",
      "model_module_version": "1.2.0",
      "model_name": "LayoutModel",
      "state": {}
     },
     "657c8311b3a64ca1b40202fed02db913": {
      "model_module": "@jupyter-widgets/controls",
      "model_module_version": "1.5.0",
      "model_name": "HTMLModel",
      "state": {
       "layout": "IPY_MODEL_c4b90ad9272a42b5bd84fb537764c1a8",
       "style": "IPY_MODEL_94b41964f221465aac65c56073a2fbb6",
       "value": " 2/2 [00:00&lt;00:00, 13.03it/s]"
      }
     },
     "658ecbc95a4b4ebc875526d6b7fedd40": {
      "model_module": "@jupyter-widgets/controls",
      "model_module_version": "1.5.0",
      "model_name": "DescriptionStyleModel",
      "state": {
       "description_width": ""
      }
     },
     "6595d82751094bfeb685ce7cf34e16de": {
      "model_module": "@jupyter-widgets/base",
      "model_module_version": "1.2.0",
      "model_name": "LayoutModel",
      "state": {
       "flex": "2"
      }
     },
     "65997898a4d642cb8816a76957641386": {
      "model_module": "@jupyter-widgets/controls",
      "model_module_version": "1.5.0",
      "model_name": "DescriptionStyleModel",
      "state": {
       "description_width": ""
      }
     },
     "65ae9c4efa694d8596b8c43aded43822": {
      "model_module": "@jupyter-widgets/base",
      "model_module_version": "1.2.0",
      "model_name": "LayoutModel",
      "state": {}
     },
     "65b6e970186b4074a98308e02c314bb8": {
      "model_module": "@jupyter-widgets/base",
      "model_module_version": "1.2.0",
      "model_name": "LayoutModel",
      "state": {}
     },
     "65bd3a59e91646f6aa5495abb7ceaf5a": {
      "model_module": "@jupyter-widgets/controls",
      "model_module_version": "1.5.0",
      "model_name": "FloatProgressModel",
      "state": {
       "bar_style": "success",
       "layout": "IPY_MODEL_6611d72dda714c7c8203f785a3d2394a",
       "max": 417,
       "style": "IPY_MODEL_93cd8cc45b20450c995bac79d04a2d57",
       "value": 417
      }
     },
     "65f0902bd1944fd6be62f71d4d9cb98d": {
      "model_module": "@jupyter-widgets/base",
      "model_module_version": "1.2.0",
      "model_name": "LayoutModel",
      "state": {}
     },
     "65ff9defc9c249e7b1340bfed68ad732": {
      "model_module": "@jupyter-widgets/base",
      "model_module_version": "1.2.0",
      "model_name": "LayoutModel",
      "state": {}
     },
     "6611d72dda714c7c8203f785a3d2394a": {
      "model_module": "@jupyter-widgets/base",
      "model_module_version": "1.2.0",
      "model_name": "LayoutModel",
      "state": {
       "flex": "2"
      }
     },
     "66779803457a4902b29c79b551f260c5": {
      "model_module": "@jupyter-widgets/controls",
      "model_module_version": "1.5.0",
      "model_name": "ProgressStyleModel",
      "state": {
       "description_width": ""
      }
     },
     "66f34f9a9cd84f5d84089060a3680e4f": {
      "model_module": "@jupyter-widgets/controls",
      "model_module_version": "1.5.0",
      "model_name": "HTMLModel",
      "state": {
       "layout": "IPY_MODEL_f48f8012d0934457b07ec565d71e80b5",
       "style": "IPY_MODEL_c3ef60fde9aa455786f001ff2a66c144",
       "value": " 191/191 [00:10&lt;00:00, 17.73it/s]"
      }
     },
     "6737954d26dc4ee8b135a031f665a6b0": {
      "model_module": "@jupyter-widgets/controls",
      "model_module_version": "1.5.0",
      "model_name": "DescriptionStyleModel",
      "state": {
       "description_width": ""
      }
     },
     "676a4d35e8eb4b169e160f3aa1e58ba6": {
      "model_module": "@jupyter-widgets/controls",
      "model_module_version": "1.5.0",
      "model_name": "HTMLModel",
      "state": {
       "layout": "IPY_MODEL_636c7d00bd8c476f8a8c83b0dbfc1d1f",
       "style": "IPY_MODEL_6216607575d149ff8426835758a19fe2",
       "value": " 2/2 [00:00&lt;00:00,  6.08it/s]"
      }
     },
     "67787d0dffcd42b0af8345d789bbc7b7": {
      "model_module": "@jupyter-widgets/base",
      "model_module_version": "1.2.0",
      "model_name": "LayoutModel",
      "state": {}
     },
     "6826f68f05cd4778a1509546a5a8229c": {
      "model_module": "@jupyter-widgets/controls",
      "model_module_version": "1.5.0",
      "model_name": "DescriptionStyleModel",
      "state": {
       "description_width": ""
      }
     },
     "683cd007a2dd4708900ecf02f481aba6": {
      "model_module": "@jupyter-widgets/base",
      "model_module_version": "1.2.0",
      "model_name": "LayoutModel",
      "state": {}
     },
     "684d6e1160c343069892821cf335cf3f": {
      "model_module": "@jupyter-widgets/controls",
      "model_module_version": "1.5.0",
      "model_name": "FloatProgressModel",
      "state": {
       "layout": "IPY_MODEL_d1f3e6aa4e484c7da0194e097196d23d",
       "max": 191,
       "style": "IPY_MODEL_d8e012c8c8cb4bbf9aa29c53ffc598c0",
       "value": 191
      }
     },
     "6864e03eda40454d88d8bd80f6b2a04e": {
      "model_module": "@jupyter-widgets/controls",
      "model_module_version": "1.5.0",
      "model_name": "HTMLModel",
      "state": {
       "layout": "IPY_MODEL_30d298742eb846d19474d349cb244b5e",
       "style": "IPY_MODEL_b2903cf45aa9431fa7ad54e5bf757fff",
       "value": " 191/191 [00:10&lt;00:00, 18.66it/s]"
      }
     },
     "686817f3f3584489b0854b8565c1479f": {
      "model_module": "@jupyter-widgets/base",
      "model_module_version": "1.2.0",
      "model_name": "LayoutModel",
      "state": {}
     },
     "687c61338544484f820a28cae648c57d": {
      "model_module": "@jupyter-widgets/controls",
      "model_module_version": "1.5.0",
      "model_name": "DescriptionStyleModel",
      "state": {
       "description_width": ""
      }
     },
     "690a4b3e02714a2fa2864c8039150ff4": {
      "model_module": "@jupyter-widgets/controls",
      "model_module_version": "1.5.0",
      "model_name": "FloatProgressModel",
      "state": {
       "layout": "IPY_MODEL_a57630ceb778474da49ff8ed361867b8",
       "max": 2,
       "style": "IPY_MODEL_ec355792d85a4892aed2f0c8ad57b41c",
       "value": 2
      }
     },
     "6930891588fa41509575b3f1531b839b": {
      "model_module": "@jupyter-widgets/base",
      "model_module_version": "1.2.0",
      "model_name": "LayoutModel",
      "state": {}
     },
     "694496af6011469687938504dd5bfb00": {
      "model_module": "@jupyter-widgets/base",
      "model_module_version": "1.2.0",
      "model_name": "LayoutModel",
      "state": {
       "display": "inline-flex",
       "flex_flow": "row wrap",
       "visibility": "hidden",
       "width": "100%"
      }
     },
     "699558f72c1c4156b95a39e76c17c7e5": {
      "model_module": "@jupyter-widgets/base",
      "model_module_version": "1.2.0",
      "model_name": "LayoutModel",
      "state": {}
     },
     "699df4327c814e1aa528060de6501388": {
      "model_module": "@jupyter-widgets/base",
      "model_module_version": "1.2.0",
      "model_name": "LayoutModel",
      "state": {}
     },
     "69b9d02b302f43bab5d0a44951fffef9": {
      "model_module": "@jupyter-widgets/controls",
      "model_module_version": "1.5.0",
      "model_name": "FloatProgressModel",
      "state": {
       "layout": "IPY_MODEL_4078090678fb49a1baa8609bee75284a",
       "max": 1,
       "style": "IPY_MODEL_cda35daaa24f46e390390ef628258684"
      }
     },
     "69c02a82ad5345c890c65b5e756c50bf": {
      "model_module": "@jupyter-widgets/controls",
      "model_module_version": "1.5.0",
      "model_name": "DescriptionStyleModel",
      "state": {
       "description_width": ""
      }
     },
     "69d294ed8fa14765a068935cf5bb6512": {
      "model_module": "@jupyter-widgets/controls",
      "model_module_version": "1.5.0",
      "model_name": "DescriptionStyleModel",
      "state": {
       "description_width": ""
      }
     },
     "69f983fb678a4d0eb862d15def076080": {
      "model_module": "@jupyter-widgets/controls",
      "model_module_version": "1.5.0",
      "model_name": "DescriptionStyleModel",
      "state": {
       "description_width": ""
      }
     },
     "6a50d757a17746729718f8633d5b97ed": {
      "model_module": "@jupyter-widgets/controls",
      "model_module_version": "1.5.0",
      "model_name": "DescriptionStyleModel",
      "state": {
       "description_width": ""
      }
     },
     "6a994a5949334c21a7e41bedc8fd65b6": {
      "model_module": "@jupyter-widgets/controls",
      "model_module_version": "1.5.0",
      "model_name": "HTMLModel",
      "state": {
       "layout": "IPY_MODEL_63985d43f02d46e887725dcc31dc8328",
       "style": "IPY_MODEL_0b1d7de587e64001846e19591d995665",
       "value": " 2/2 [00:00&lt;00:00, 10.36it/s]"
      }
     },
     "6a9dbb3d106044d78c98890495eecf63": {
      "model_module": "@jupyter-widgets/base",
      "model_module_version": "1.2.0",
      "model_name": "LayoutModel",
      "state": {}
     },
     "6ac8f5e1e330460f9606d5b99bbcc686": {
      "model_module": "@jupyter-widgets/controls",
      "model_module_version": "1.5.0",
      "model_name": "HTMLModel",
      "state": {
       "layout": "IPY_MODEL_1afa91df603a490f92d6f50d67a0b004",
       "style": "IPY_MODEL_0b82afaaa0d942329f9e05fe8f69ba7a",
       "value": " 191/191 [00:10&lt;00:00, 18.22it/s]"
      }
     },
     "6b3be50d8ac74e7e9e5a6bd6d5d2d04c": {
      "model_module": "@jupyter-widgets/controls",
      "model_module_version": "1.5.0",
      "model_name": "ProgressStyleModel",
      "state": {
       "description_width": ""
      }
     },
     "6b5ffa28063847f0b5b4b4a83081aeff": {
      "model_module": "@jupyter-widgets/controls",
      "model_module_version": "1.5.0",
      "model_name": "ProgressStyleModel",
      "state": {
       "description_width": ""
      }
     },
     "6b6801763ffa42cabbd4a24982fc8a43": {
      "model_module": "@jupyter-widgets/base",
      "model_module_version": "1.2.0",
      "model_name": "LayoutModel",
      "state": {}
     },
     "6b811e07738a487395c9578c9bfde33c": {
      "model_module": "@jupyter-widgets/base",
      "model_module_version": "1.2.0",
      "model_name": "LayoutModel",
      "state": {
       "display": "inline-flex",
       "flex_flow": "row wrap",
       "visibility": "hidden",
       "width": "100%"
      }
     },
     "6bd92b52f0d44123ac2cc1baed6d090f": {
      "model_module": "@jupyter-widgets/base",
      "model_module_version": "1.2.0",
      "model_name": "LayoutModel",
      "state": {}
     },
     "6c017075ae384957a212e1400264d38e": {
      "model_module": "@jupyter-widgets/controls",
      "model_module_version": "1.5.0",
      "model_name": "HTMLModel",
      "state": {
       "layout": "IPY_MODEL_9e3ca45584ba4eb191384cd90093cc6e",
       "style": "IPY_MODEL_2fc0eba206f94c7088258905fb2eea3d",
       "value": " 8/8 [13:45&lt;00:00, 103.68s/it]"
      }
     },
     "6c36ab631e204e4b84ab082622a273eb": {
      "model_module": "@jupyter-widgets/controls",
      "model_module_version": "1.5.0",
      "model_name": "FloatProgressModel",
      "state": {
       "bar_style": "success",
       "layout": "IPY_MODEL_bd7c57e5a9cd4e4c9a68ddface820e0c",
       "max": 417,
       "style": "IPY_MODEL_5c68ed6de85745e1bc7799ae1ae7fe49",
       "value": 417
      }
     },
     "6c5089d104ba4fd7bb9791260f5cfdb9": {
      "model_module": "@jupyter-widgets/controls",
      "model_module_version": "1.5.0",
      "model_name": "DescriptionStyleModel",
      "state": {
       "description_width": ""
      }
     },
     "6c7e58c91a6e47938d07ae7817938f9e": {
      "model_module": "@jupyter-widgets/controls",
      "model_module_version": "1.5.0",
      "model_name": "FloatProgressModel",
      "state": {
       "layout": "IPY_MODEL_c5a8fcf2642d4b7984c27751ae997435",
       "max": 2,
       "style": "IPY_MODEL_63ea5930d6574d2eb847e45bb80f61fc",
       "value": 2
      }
     },
     "6c84395870dc4aed8f1e5a6087679490": {
      "model_module": "@jupyter-widgets/controls",
      "model_module_version": "1.5.0",
      "model_name": "HTMLModel",
      "state": {
       "layout": "IPY_MODEL_bebdd4d023ea47a080633328859092d9",
       "style": "IPY_MODEL_072e5e880e4e49ae86fba11e5e657991",
       "value": " 417/417 [00:36&lt;00:00, 11.41it/s, v_num=rbu8, seq_len=1.750, y=0.0124, valid/AUROC=0.684]"
      }
     },
     "6ccf1137573a4177a432882f03e875dc": {
      "model_module": "@jupyter-widgets/controls",
      "model_module_version": "1.5.0",
      "model_name": "HTMLModel",
      "state": {
       "layout": "IPY_MODEL_2227770e0a554f74890b08414009381f",
       "style": "IPY_MODEL_8f53b1b3a36244208039585f6a11c591",
       "value": " 191/191 [00:10&lt;00:00, 17.77it/s]"
      }
     },
     "6cd7bb42a8e44b10bfcfe6334d99e641": {
      "model_module": "@jupyter-widgets/controls",
      "model_module_version": "1.5.0",
      "model_name": "HTMLModel",
      "state": {
       "layout": "IPY_MODEL_152eeb492ef2447fa03b706354a953c4",
       "style": "IPY_MODEL_1a56c562ded84b849f07bf5fedbd8b02",
       "value": "Validation DataLoader 0: 100%"
      }
     },
     "6d198f9be7474bfaa6f06d6678ebf59e": {
      "model_module": "@jupyter-widgets/base",
      "model_module_version": "1.2.0",
      "model_name": "LayoutModel",
      "state": {
       "flex": "2"
      }
     },
     "6d57c27fe54c48679aea2417d93dc7aa": {
      "model_module": "@jupyter-widgets/controls",
      "model_module_version": "1.5.0",
      "model_name": "HTMLModel",
      "state": {
       "layout": "IPY_MODEL_9b53f5b466654764abc715cf5fec66f1",
       "style": "IPY_MODEL_6a50d757a17746729718f8633d5b97ed",
       "value": " 417/417 [00:56&lt;00:00,  7.43it/s, v_num=x13x, seq_len=107.0, y=0.0124, valid/AUROC=0.767]"
      }
     },
     "6d5b3e6bc8764016a70f3fd626862da0": {
      "model_module": "@jupyter-widgets/controls",
      "model_module_version": "1.5.0",
      "model_name": "DescriptionStyleModel",
      "state": {
       "description_width": ""
      }
     },
     "6dcb7398d00b40dca3f2993f3020e17e": {
      "model_module": "@jupyter-widgets/controls",
      "model_module_version": "1.5.0",
      "model_name": "DescriptionStyleModel",
      "state": {
       "description_width": ""
      }
     },
     "6df4b6ecc6ee418bb74545f2e343cfd7": {
      "model_module": "@jupyter-widgets/base",
      "model_module_version": "1.2.0",
      "model_name": "LayoutModel",
      "state": {}
     },
     "6e12f6b1b1b842afa01581973a9ad4bf": {
      "model_module": "@jupyter-widgets/controls",
      "model_module_version": "1.5.0",
      "model_name": "HBoxModel",
      "state": {
       "children": [
        "IPY_MODEL_4693c1fe7c7a4c0abd1759f626cc84b4",
        "IPY_MODEL_cdf1e6225c42429f9dfb7ba2cf068bb7",
        "IPY_MODEL_a6a69f732d3d47dead7b300cf142da8d"
       ],
       "layout": "IPY_MODEL_8179b612e48b4a8ba2387062c9dcdc94"
      }
     },
     "6e2fc7b0556340f1bc6077d1a3f6a3f5": {
      "model_module": "@jupyter-widgets/base",
      "model_module_version": "1.2.0",
      "model_name": "LayoutModel",
      "state": {}
     },
     "6e3d2f5b34bc4025918df2981f386193": {
      "model_module": "@jupyter-widgets/controls",
      "model_module_version": "1.5.0",
      "model_name": "DescriptionStyleModel",
      "state": {
       "description_width": ""
      }
     },
     "6e6f749d46734f028d1e29afc308461f": {
      "model_module": "@jupyter-widgets/base",
      "model_module_version": "1.2.0",
      "model_name": "LayoutModel",
      "state": {}
     },
     "6ed029bf78a24a5c9fad62831ca7ec23": {
      "model_module": "@jupyter-widgets/controls",
      "model_module_version": "1.5.0",
      "model_name": "DescriptionStyleModel",
      "state": {
       "description_width": ""
      }
     },
     "6f011feb6767483691c747467613e0dd": {
      "model_module": "@jupyter-widgets/base",
      "model_module_version": "1.2.0",
      "model_name": "LayoutModel",
      "state": {
       "flex": "2"
      }
     },
     "6f30c0f562d8491d8e6a078d59fcebd6": {
      "model_module": "@jupyter-widgets/controls",
      "model_module_version": "1.5.0",
      "model_name": "DescriptionStyleModel",
      "state": {
       "description_width": ""
      }
     },
     "6fe010938c4c4477b755b76a85ed58af": {
      "model_module": "@jupyter-widgets/base",
      "model_module_version": "1.2.0",
      "model_name": "LayoutModel",
      "state": {
       "flex": "2"
      }
     },
     "6fe9ccdd777e40b58aba974930deca2a": {
      "model_module": "@jupyter-widgets/controls",
      "model_module_version": "1.5.0",
      "model_name": "HBoxModel",
      "state": {
       "children": [
        "IPY_MODEL_effc8de42dda47e2807dac15b0f21b47",
        "IPY_MODEL_fc8eb0c55df94e348de1dd4858c42b71",
        "IPY_MODEL_7539290a8a914032b5bfdf846bef4250"
       ],
       "layout": "IPY_MODEL_cf66a9ddcdb7474bb7366f85cff1e6b9"
      }
     },
     "7049835e51724aca8f384d4406057499": {
      "model_module": "@jupyter-widgets/base",
      "model_module_version": "1.2.0",
      "model_name": "LayoutModel",
      "state": {
       "display": "inline-flex",
       "flex_flow": "row wrap",
       "visibility": "hidden",
       "width": "100%"
      }
     },
     "7075d2502f0942c5858b960bf3d68acc": {
      "model_module": "@jupyter-widgets/base",
      "model_module_version": "1.2.0",
      "model_name": "LayoutModel",
      "state": {}
     },
     "708a829df6c64d9987037620f4e8038b": {
      "model_module": "@jupyter-widgets/controls",
      "model_module_version": "1.5.0",
      "model_name": "ProgressStyleModel",
      "state": {
       "description_width": ""
      }
     },
     "70a84c04eaf943e393c16075d955028d": {
      "model_module": "@jupyter-widgets/controls",
      "model_module_version": "1.5.0",
      "model_name": "DescriptionStyleModel",
      "state": {
       "description_width": ""
      }
     },
     "70bfdd5863124eafb7edb7706a19201c": {
      "model_module": "@jupyter-widgets/base",
      "model_module_version": "1.2.0",
      "model_name": "LayoutModel",
      "state": {}
     },
     "70c9238bc0fc4471b8d8f841bcdd3318": {
      "model_module": "@jupyter-widgets/base",
      "model_module_version": "1.2.0",
      "model_name": "LayoutModel",
      "state": {}
     },
     "70ce61b270104efe81e6babb79ea6cbd": {
      "model_module": "@jupyter-widgets/controls",
      "model_module_version": "1.5.0",
      "model_name": "FloatProgressModel",
      "state": {
       "layout": "IPY_MODEL_1fa421b11fb04e31859e521a353e19ca",
       "max": 417,
       "style": "IPY_MODEL_959221b554054c729198393c1295430b",
       "value": 417
      }
     },
     "710d57a6a2314e80851eda1c870d7985": {
      "model_module": "@jupyter-widgets/controls",
      "model_module_version": "1.5.0",
      "model_name": "ProgressStyleModel",
      "state": {
       "description_width": ""
      }
     },
     "717031d055434e44b773b93d2eb028cc": {
      "model_module": "@jupyter-widgets/base",
      "model_module_version": "1.2.0",
      "model_name": "LayoutModel",
      "state": {
       "flex": "2"
      }
     },
     "71744e3d1c1b4b3d9159c02ef48ecd50": {
      "model_module": "@jupyter-widgets/controls",
      "model_module_version": "1.5.0",
      "model_name": "ProgressStyleModel",
      "state": {
       "description_width": ""
      }
     },
     "7194c5efecfe40c1b31ac0e261ea4ce4": {
      "model_module": "@jupyter-widgets/controls",
      "model_module_version": "1.5.0",
      "model_name": "LabelModel",
      "state": {
       "layout": "IPY_MODEL_cffd3c655e224af7b74273f746c5a14e",
       "style": "IPY_MODEL_2864577996da434b849dfb8cf4df665c"
      }
     },
     "71a2fe748c1b4b98afb66d14ad8a5aec": {
      "model_module": "@jupyter-widgets/controls",
      "model_module_version": "1.5.0",
      "model_name": "FloatProgressModel",
      "state": {
       "layout": "IPY_MODEL_dccc498f308b43b6b23906db436156bb",
       "max": 2,
       "style": "IPY_MODEL_2dd6fda04e7845b7841e264f1359ce20",
       "value": 2
      }
     },
     "71b8d5df0ea64d128d35aab841c9911e": {
      "model_module": "@jupyter-widgets/controls",
      "model_module_version": "1.5.0",
      "model_name": "FloatProgressModel",
      "state": {
       "bar_style": "success",
       "layout": "IPY_MODEL_8e6559beeebd43f186c9ddf1474f83ae",
       "max": 8,
       "style": "IPY_MODEL_2e42fb37d4664e1ebf79b5d360eb8574",
       "value": 8
      }
     },
     "71c970e91dff4fd39cc3cd19212a9502": {
      "model_module": "@jupyter-widgets/base",
      "model_module_version": "1.2.0",
      "model_name": "LayoutModel",
      "state": {}
     },
     "71dee65379b842749e53d73fc18d9fad": {
      "model_module": "@jupyter-widgets/controls",
      "model_module_version": "1.5.0",
      "model_name": "HBoxModel",
      "state": {
       "children": [
        "IPY_MODEL_07e12370fb1a4fa38b2c5a57587d7574",
        "IPY_MODEL_d40ecb5ad7384ab7bf898ff8a6811ff0",
        "IPY_MODEL_089d5d2563684b7a8b682265db94265b"
       ],
       "layout": "IPY_MODEL_e9f23d32b5284ab6bc66f6e4f035e963"
      }
     },
     "71ed7e05649845ba8a5f9b9b75925a64": {
      "model_module": "@jupyter-widgets/controls",
      "model_module_version": "1.5.0",
      "model_name": "HTMLModel",
      "state": {
       "layout": "IPY_MODEL_c9b7b0a4a4ef4fed8f422ccf0ad99290",
       "style": "IPY_MODEL_62c3e8a0265645358c2716c1fa6b0113",
       "value": " 191/191 [00:10&lt;00:00, 18.24it/s]"
      }
     },
     "71f6e501e04e463e8f985dfeeb770251": {
      "model_module": "@jupyter-widgets/controls",
      "model_module_version": "1.5.0",
      "model_name": "DescriptionStyleModel",
      "state": {
       "description_width": ""
      }
     },
     "7201494d9c274e8e8ea97ce74bc8f439": {
      "model_module": "@jupyter-widgets/controls",
      "model_module_version": "1.5.0",
      "model_name": "DescriptionStyleModel",
      "state": {
       "description_width": ""
      }
     },
     "7235a3059936483bac4b484afa9622c0": {
      "model_module": "@jupyter-widgets/controls",
      "model_module_version": "1.5.0",
      "model_name": "HTMLModel",
      "state": {
       "layout": "IPY_MODEL_03a2c315e9814b25a7272f81d8041c2b",
       "style": "IPY_MODEL_164b46ce186e4cdb932df422a073a7c8",
       "value": " 2/2 [00:00&lt;00:00, 13.70it/s]"
      }
     },
     "725a02dd53574b3480fc704cd9793970": {
      "model_module": "@jupyter-widgets/controls",
      "model_module_version": "1.5.0",
      "model_name": "ProgressStyleModel",
      "state": {
       "description_width": ""
      }
     },
     "72655585122d44af866ae5e90f0f0bab": {
      "model_module": "@jupyter-widgets/controls",
      "model_module_version": "1.5.0",
      "model_name": "FloatProgressModel",
      "state": {
       "layout": "IPY_MODEL_3f5d8bad359c4659986264b597410334",
       "max": 191,
       "style": "IPY_MODEL_184c8175331e484db851f222e51d0ce7",
       "value": 191
      }
     },
     "72d24db20a8e4548bcebeba7fe9b3ef3": {
      "model_module": "@jupyter-widgets/base",
      "model_module_version": "1.2.0",
      "model_name": "LayoutModel",
      "state": {
       "flex": "2"
      }
     },
     "7305bb9a72b14d8e80a583479cbc5db0": {
      "model_module": "@jupyter-widgets/controls",
      "model_module_version": "1.5.0",
      "model_name": "DescriptionStyleModel",
      "state": {
       "description_width": ""
      }
     },
     "7312eb66536f4af28a8275985f038858": {
      "model_module": "@jupyter-widgets/controls",
      "model_module_version": "1.5.0",
      "model_name": "DescriptionStyleModel",
      "state": {
       "description_width": ""
      }
     },
     "732fee261ea3409d84c88e9f9ad685d4": {
      "model_module": "@jupyter-widgets/base",
      "model_module_version": "1.2.0",
      "model_name": "LayoutModel",
      "state": {
       "display": "inline-flex",
       "flex_flow": "row wrap",
       "visibility": "hidden",
       "width": "100%"
      }
     },
     "7331ac5ab7bd4c8893aa2103c129b954": {
      "model_module": "@jupyter-widgets/controls",
      "model_module_version": "1.5.0",
      "model_name": "FloatProgressModel",
      "state": {
       "layout": "IPY_MODEL_d1207ee08329469fab24a80c6c9b77d5",
       "max": 2,
       "style": "IPY_MODEL_a0a57a1f11de4e2681c852db242ba3b8",
       "value": 2
      }
     },
     "734d689198d7493f9dc4a00cd9325781": {
      "model_module": "@jupyter-widgets/base",
      "model_module_version": "1.2.0",
      "model_name": "LayoutModel",
      "state": {
       "display": "inline-flex",
       "flex_flow": "row wrap",
       "visibility": "hidden",
       "width": "100%"
      }
     },
     "7356919ac1a54224b6dc401d83b270b8": {
      "model_module": "@jupyter-widgets/controls",
      "model_module_version": "1.5.0",
      "model_name": "HTMLModel",
      "state": {
       "layout": "IPY_MODEL_350bbf82933643649d2abc31c251e113",
       "style": "IPY_MODEL_7305bb9a72b14d8e80a583479cbc5db0",
       "value": "100%"
      }
     },
     "7366228558bb4e9982ce3e9a70187799": {
      "model_module": "@jupyter-widgets/base",
      "model_module_version": "1.2.0",
      "model_name": "LayoutModel",
      "state": {
       "display": "inline-flex",
       "flex_flow": "row wrap",
       "visibility": "hidden",
       "width": "100%"
      }
     },
     "736a232d066643928611ca74b7e71980": {
      "model_module": "@jupyter-widgets/controls",
      "model_module_version": "1.5.0",
      "model_name": "ProgressStyleModel",
      "state": {
       "description_width": ""
      }
     },
     "736d66d92f2b4e30abc251f5d163a1e3": {
      "model_module": "@jupyter-widgets/controls",
      "model_module_version": "1.5.0",
      "model_name": "FloatProgressModel",
      "state": {
       "bar_style": "success",
       "layout": "IPY_MODEL_760c982094f14664b3276bfeab37657b",
       "max": 417,
       "style": "IPY_MODEL_433a2a9b744b4c27a076c3e9fa4b4343",
       "value": 417
      }
     },
     "737167c6ecd64ab5be60092113b7e933": {
      "model_module": "@jupyter-widgets/base",
      "model_module_version": "1.2.0",
      "model_name": "LayoutModel",
      "state": {}
     },
     "73904bf63f244fe0832612d8bf48c215": {
      "model_module": "@jupyter-widgets/base",
      "model_module_version": "1.2.0",
      "model_name": "LayoutModel",
      "state": {
       "flex": "2"
      }
     },
     "73ae378e2c044dcb8a3719d71c1153f9": {
      "model_module": "@jupyter-widgets/base",
      "model_module_version": "1.2.0",
      "model_name": "LayoutModel",
      "state": {
       "display": "inline-flex",
       "flex_flow": "row wrap",
       "visibility": "hidden",
       "width": "100%"
      }
     },
     "73e022d5fb4b4f1080d4286407912329": {
      "model_module": "@jupyter-widgets/controls",
      "model_module_version": "1.5.0",
      "model_name": "DescriptionStyleModel",
      "state": {
       "description_width": ""
      }
     },
     "73ff86a94b4c4a05aaca258c98fb6fc5": {
      "model_module": "@jupyter-widgets/controls",
      "model_module_version": "1.5.0",
      "model_name": "ProgressStyleModel",
      "state": {
       "description_width": ""
      }
     },
     "740dc15ea4624248af5445f8610f6cd3": {
      "model_module": "@jupyter-widgets/controls",
      "model_module_version": "1.5.0",
      "model_name": "FloatProgressModel",
      "state": {
       "layout": "IPY_MODEL_90883c28e3cd4ec49c11302d0a074f92",
       "max": 2,
       "style": "IPY_MODEL_9ba63b23e6984f1c896e2a5d6b5106ad"
      }
     },
     "743b76911d024e4c98465bb6b1431608": {
      "model_module": "@jupyter-widgets/controls",
      "model_module_version": "1.5.0",
      "model_name": "HTMLModel",
      "state": {
       "layout": "IPY_MODEL_ad18015a903a40eab8d9a1cdf477de52",
       "style": "IPY_MODEL_b48ee49ee3c3430bbb2bf0f30782d540",
       "value": " 80/417 [00:05&lt;00:21, 15.84it/s, v_num=dla8, seq_len=1.660, y=0.0195]"
      }
     },
     "743bde27460b4d26b588a189511d1c93": {
      "model_module": "@jupyter-widgets/base",
      "model_module_version": "1.2.0",
      "model_name": "LayoutModel",
      "state": {}
     },
     "74463bf77b184b108697f3c9d8d79a2b": {
      "model_module": "@jupyter-widgets/controls",
      "model_module_version": "1.5.0",
      "model_name": "DescriptionStyleModel",
      "state": {
       "description_width": ""
      }
     },
     "747ae1b0c07d46d29cb85e9b7298e3d8": {
      "model_module": "@jupyter-widgets/controls",
      "model_module_version": "1.5.0",
      "model_name": "ProgressStyleModel",
      "state": {
       "description_width": ""
      }
     },
     "7482c415cc5b4b03ba7308a9273a7db9": {
      "model_module": "@jupyter-widgets/controls",
      "model_module_version": "1.5.0",
      "model_name": "DescriptionStyleModel",
      "state": {
       "description_width": ""
      }
     },
     "7497779b7ca242f48a05dbd7645124cd": {
      "model_module": "@jupyter-widgets/base",
      "model_module_version": "1.2.0",
      "model_name": "LayoutModel",
      "state": {
       "display": "inline-flex",
       "flex_flow": "row wrap",
       "visibility": "hidden",
       "width": "100%"
      }
     },
     "74a1939177004cbc8803ecbf183423e9": {
      "model_module": "@jupyter-widgets/controls",
      "model_module_version": "1.5.0",
      "model_name": "DescriptionStyleModel",
      "state": {
       "description_width": ""
      }
     },
     "74a69d22375944fbab475882b562d067": {
      "model_module": "@jupyter-widgets/controls",
      "model_module_version": "1.5.0",
      "model_name": "HTMLModel",
      "state": {
       "layout": "IPY_MODEL_33c73da474994b32a21bf7a614cd44ae",
       "style": "IPY_MODEL_e9ee0f05b5504d0cb7a6abb839dc76d4",
       "value": "Epoch 1: 100%"
      }
     },
     "74bc9258ce7449e2965a65a01b1fc99a": {
      "model_module": "@jupyter-widgets/base",
      "model_module_version": "1.2.0",
      "model_name": "LayoutModel",
      "state": {}
     },
     "74efdaf2fcd9441ba03843507899cf17": {
      "model_module": "@jupyter-widgets/controls",
      "model_module_version": "1.5.0",
      "model_name": "DescriptionStyleModel",
      "state": {
       "description_width": ""
      }
     },
     "751bbff8d4fa449ea0e7639f786b0faa": {
      "model_module": "@jupyter-widgets/base",
      "model_module_version": "1.2.0",
      "model_name": "LayoutModel",
      "state": {}
     },
     "7524890325d14c39a0c5d2d136971cad": {
      "model_module": "@jupyter-widgets/controls",
      "model_module_version": "1.5.0",
      "model_name": "ProgressStyleModel",
      "state": {
       "description_width": ""
      }
     },
     "7539290a8a914032b5bfdf846bef4250": {
      "model_module": "@jupyter-widgets/controls",
      "model_module_version": "1.5.0",
      "model_name": "HTMLModel",
      "state": {
       "layout": "IPY_MODEL_1ca60cd75fcd4d909088f173de89d373",
       "style": "IPY_MODEL_74463bf77b184b108697f3c9d8d79a2b",
       "value": " 417/417 [00:56&lt;00:00,  7.42it/s, v_num=x13x, seq_len=108.0, y=0.0166, valid/AUROC=0.801]"
      }
     },
     "75481478fed24699b59aaa8569ad961e": {
      "model_module": "@jupyter-widgets/controls",
      "model_module_version": "1.5.0",
      "model_name": "ProgressStyleModel",
      "state": {
       "description_width": ""
      }
     },
     "75d3e6b0f675449197a78a5e6402c8b0": {
      "model_module": "@jupyter-widgets/base",
      "model_module_version": "1.2.0",
      "model_name": "LayoutModel",
      "state": {}
     },
     "76080f2b67f04367b1e8f1cf7528abb1": {
      "model_module": "@jupyter-widgets/base",
      "model_module_version": "1.2.0",
      "model_name": "LayoutModel",
      "state": {
       "display": "inline-flex",
       "flex_flow": "row wrap",
       "width": "100%"
      }
     },
     "760c982094f14664b3276bfeab37657b": {
      "model_module": "@jupyter-widgets/base",
      "model_module_version": "1.2.0",
      "model_name": "LayoutModel",
      "state": {
       "flex": "2"
      }
     },
     "762ae169049c4865accd37df640f9567": {
      "model_module": "@jupyter-widgets/controls",
      "model_module_version": "1.5.0",
      "model_name": "HBoxModel",
      "state": {
       "children": [
        "IPY_MODEL_83d93daaa4d8487da6a8888d06955ceb",
        "IPY_MODEL_36bfe2e1cb4142f281b83e07f5d0c7a6",
        "IPY_MODEL_17d182719d7b499ca85394a4827b2560"
       ],
       "layout": "IPY_MODEL_51e1b27f414542c2b472a14739a7f96c"
      }
     },
     "768ac8162dce4ff39d84231c60f289de": {
      "model_module": "@jupyter-widgets/base",
      "model_module_version": "1.2.0",
      "model_name": "LayoutModel",
      "state": {
       "flex": "2"
      }
     },
     "768dfbe7f8934766af92ceb9c34c268a": {
      "model_module": "@jupyter-widgets/controls",
      "model_module_version": "1.5.0",
      "model_name": "ProgressStyleModel",
      "state": {
       "description_width": ""
      }
     },
     "76a3fca2440540c28ca430a093314373": {
      "model_module": "@jupyter-widgets/controls",
      "model_module_version": "1.5.0",
      "model_name": "HTMLModel",
      "state": {
       "layout": "IPY_MODEL_b0ef94515d834e598c83cf3c24739154",
       "style": "IPY_MODEL_1b3f54481bfe4e0c8a2f4250eacb6132",
       "value": " 417/417 [00:59&lt;00:00,  6.97it/s, v_num=x13x, seq_len=94.60, y=0.0083, valid/AUROC=0.820]"
      }
     },
     "76ec3d35c91c41b99712c24665c03893": {
      "model_module": "@jupyter-widgets/base",
      "model_module_version": "1.2.0",
      "model_name": "LayoutModel",
      "state": {
       "display": "inline-flex",
       "flex_flow": "row wrap",
       "width": "100%"
      }
     },
     "76f67d4c95aa4154a69818ce46b9d706": {
      "model_module": "@jupyter-widgets/controls",
      "model_module_version": "1.5.0",
      "model_name": "FloatProgressModel",
      "state": {
       "layout": "IPY_MODEL_5ef18ccf77d24782b96a26beb521aa37",
       "max": 2,
       "style": "IPY_MODEL_bb496a68b2434cb9b4783cb82b44584b",
       "value": 2
      }
     },
     "770e5f91b44c4b948e765098d5c19ea6": {
      "model_module": "@jupyter-widgets/base",
      "model_module_version": "1.2.0",
      "model_name": "LayoutModel",
      "state": {}
     },
     "7711ff8c7d534e5bb13252491ee49ef2": {
      "model_module": "@jupyter-widgets/controls",
      "model_module_version": "1.5.0",
      "model_name": "ProgressStyleModel",
      "state": {
       "description_width": ""
      }
     },
     "77332326d17a42e88c8db9304c82b300": {
      "model_module": "@jupyter-widgets/controls",
      "model_module_version": "1.5.0",
      "model_name": "HTMLModel",
      "state": {
       "layout": "IPY_MODEL_8212edb3201d40d995b2ec68d2d98b97",
       "style": "IPY_MODEL_b07e7462b4f54eb38e69bc9015b0308c",
       "value": "100%"
      }
     },
     "775112c2581d4b47a09ad1a1c99d0491": {
      "model_module": "@jupyter-widgets/base",
      "model_module_version": "1.2.0",
      "model_name": "LayoutModel",
      "state": {}
     },
     "775f885f25094936bdffd7e169748f16": {
      "model_module": "@jupyter-widgets/base",
      "model_module_version": "1.2.0",
      "model_name": "LayoutModel",
      "state": {
       "display": "inline-flex",
       "flex_flow": "row wrap",
       "visibility": "hidden",
       "width": "100%"
      }
     },
     "77dcfdcdec974981937536df3a6f0ccb": {
      "model_module": "@jupyter-widgets/controls",
      "model_module_version": "1.5.0",
      "model_name": "DescriptionStyleModel",
      "state": {
       "description_width": ""
      }
     },
     "781205fda692401596bd5624aab9c259": {
      "model_module": "@jupyter-widgets/controls",
      "model_module_version": "1.5.0",
      "model_name": "ProgressStyleModel",
      "state": {
       "description_width": ""
      }
     },
     "7816f9fdf0e54c1192e54fd78bc17698": {
      "model_module": "@jupyter-widgets/base",
      "model_module_version": "1.2.0",
      "model_name": "LayoutModel",
      "state": {}
     },
     "78454d3e1c1842418a546c5bb7191f4e": {
      "model_module": "@jupyter-widgets/controls",
      "model_module_version": "1.5.0",
      "model_name": "DescriptionStyleModel",
      "state": {
       "description_width": ""
      }
     },
     "785a5197b3364270abfd98e75bed17ab": {
      "model_module": "@jupyter-widgets/controls",
      "model_module_version": "1.5.0",
      "model_name": "DescriptionStyleModel",
      "state": {
       "description_width": ""
      }
     },
     "786be597c1b64112ab8ab581bd91d9b7": {
      "model_module": "@jupyter-widgets/base",
      "model_module_version": "1.2.0",
      "model_name": "LayoutModel",
      "state": {}
     },
     "7880e9c30e754b2299522293dbe825a5": {
      "model_module": "@jupyter-widgets/controls",
      "model_module_version": "1.5.0",
      "model_name": "HTMLModel",
      "state": {
       "layout": "IPY_MODEL_7816f9fdf0e54c1192e54fd78bc17698",
       "style": "IPY_MODEL_d4bb998e40964bb8be9bcd833c4c636b",
       "value": " 0/1 [01:49&lt;?, ?it/s]"
      }
     },
     "78fd0b6c88cd450b8dac9366e13b793e": {
      "model_module": "@jupyter-widgets/controls",
      "model_module_version": "1.5.0",
      "model_name": "FloatProgressModel",
      "state": {
       "layout": "IPY_MODEL_5f21773923a84936bab621b38f2f39e3",
       "max": 2,
       "style": "IPY_MODEL_b4e2f2154fb34db3907d0fbfe37006ce",
       "value": 2
      }
     },
     "790e1b91f944453ba1bda69b051ec1a6": {
      "model_module": "@jupyter-widgets/controls",
      "model_module_version": "1.5.0",
      "model_name": "DescriptionStyleModel",
      "state": {
       "description_width": ""
      }
     },
     "7935b430ce2c46acb3995ff5f7c20414": {
      "model_module": "@jupyter-widgets/controls",
      "model_module_version": "1.5.0",
      "model_name": "DescriptionStyleModel",
      "state": {
       "description_width": ""
      }
     },
     "7990876b664244e3900a9550e3679557": {
      "model_module": "@jupyter-widgets/controls",
      "model_module_version": "1.5.0",
      "model_name": "HTMLModel",
      "state": {
       "layout": "IPY_MODEL_4c693b220dcb411ea5714075362d9c3d",
       "style": "IPY_MODEL_0f235ef827e84356ab0806aa67c146c9",
       "value": "Validation DataLoader 0: 100%"
      }
     },
     "7998a4a41a9a408c8c7937c7c172f2b4": {
      "model_module": "@jupyter-widgets/controls",
      "model_module_version": "1.5.0",
      "model_name": "HTMLModel",
      "state": {
       "layout": "IPY_MODEL_4ca774f7254741e598a96bc403072f79",
       "style": "IPY_MODEL_90352fe269874435b041b34ba401fb92",
       "value": " 2/2 [00:00&lt;00:00,  5.59it/s]"
      }
     },
     "79a2cbad712e492a8967366614bf6af8": {
      "model_module": "@jupyter-widgets/controls",
      "model_module_version": "1.5.0",
      "model_name": "HBoxModel",
      "state": {
       "children": [
        "IPY_MODEL_befda4a3e8784a2e9fb1fe69b5ecfde1",
        "IPY_MODEL_f6d6c16b409d4db3b902e36d583db04c",
        "IPY_MODEL_2899fe3d3bdc48e4916a329c5ee19e67"
       ],
       "layout": "IPY_MODEL_d4b3d92751a3444ab6b660c1e8fe80ee"
      }
     },
     "79aeece412b8483ea4899043656b809d": {
      "model_module": "@jupyter-widgets/controls",
      "model_module_version": "1.5.0",
      "model_name": "DescriptionStyleModel",
      "state": {
       "description_width": ""
      }
     },
     "79da6e3f9cf44c2db679c678a2212a51": {
      "model_module": "@jupyter-widgets/base",
      "model_module_version": "1.2.0",
      "model_name": "LayoutModel",
      "state": {}
     },
     "7a546480942f4ed6b6da40403bd1953d": {
      "model_module": "@jupyter-widgets/controls",
      "model_module_version": "1.5.0",
      "model_name": "DescriptionStyleModel",
      "state": {
       "description_width": ""
      }
     },
     "7a646aca3abd4c69a3029a60452bc560": {
      "model_module": "@jupyter-widgets/controls",
      "model_module_version": "1.5.0",
      "model_name": "HTMLModel",
      "state": {
       "layout": "IPY_MODEL_3ef4b88e2817493aa15dbe557ea2ca36",
       "style": "IPY_MODEL_b9c6a4efc63f48ac8faded003fe1d047",
       "value": "Validation DataLoader 0: 100%"
      }
     },
     "7a784b2fb70f4d5e8fddfa0b3f8a4746": {
      "model_module": "@jupyter-widgets/controls",
      "model_module_version": "1.5.0",
      "model_name": "DescriptionStyleModel",
      "state": {
       "description_width": ""
      }
     },
     "7a7ff35a6d754b838221610b2c28da45": {
      "model_module": "@jupyter-widgets/controls",
      "model_module_version": "1.5.0",
      "model_name": "FloatProgressModel",
      "state": {
       "layout": "IPY_MODEL_2969c1fc709b4ab18b5585e11ad69590",
       "max": 191,
       "style": "IPY_MODEL_1745db5513bf4b4498c9f5e728c49109",
       "value": 191
      }
     },
     "7a8bb4ccd3574d00a88130cceeab767e": {
      "model_module": "@jupyter-widgets/controls",
      "model_module_version": "1.5.0",
      "model_name": "DescriptionStyleModel",
      "state": {
       "description_width": ""
      }
     },
     "7abd663c80db4871a18388be2bbbdc8c": {
      "model_module": "@jupyter-widgets/base",
      "model_module_version": "1.2.0",
      "model_name": "LayoutModel",
      "state": {}
     },
     "7adb054d1fed49bd90aca19ed9fd0ef3": {
      "model_module": "@jupyter-widgets/controls",
      "model_module_version": "1.5.0",
      "model_name": "DescriptionStyleModel",
      "state": {
       "description_width": ""
      }
     },
     "7ae87d2ee1c84c47ac22dcf5a2e1f5df": {
      "model_module": "@jupyter-widgets/controls",
      "model_module_version": "1.5.0",
      "model_name": "DescriptionStyleModel",
      "state": {
       "description_width": ""
      }
     },
     "7af8149175ca43fa8e704b4e238d7023": {
      "model_module": "@jupyter-widgets/controls",
      "model_module_version": "1.5.0",
      "model_name": "HTMLModel",
      "state": {
       "layout": "IPY_MODEL_f823bb3223f04935b0f319388c0136fe",
       "style": "IPY_MODEL_006271f0319f47598f837931217c6b67",
       "value": "Validation DataLoader 0: 100%"
      }
     },
     "7af94ea60f7e4582bf9435e4de0fbdc5": {
      "model_module": "@jupyter-widgets/controls",
      "model_module_version": "1.5.0",
      "model_name": "HTMLModel",
      "state": {
       "layout": "IPY_MODEL_587ded2b069f4fb29a1225a85af88a04",
       "style": "IPY_MODEL_74a1939177004cbc8803ecbf183423e9",
       "value": " 191/191 [00:10&lt;00:00, 18.45it/s]"
      }
     },
     "7b104abd5d7d45a99c6e1a298852775a": {
      "model_module": "@jupyter-widgets/controls",
      "model_module_version": "1.5.0",
      "model_name": "DescriptionStyleModel",
      "state": {
       "description_width": ""
      }
     },
     "7b1a2c2668c4498ba34f279381f2002a": {
      "model_module": "@jupyter-widgets/base",
      "model_module_version": "1.2.0",
      "model_name": "LayoutModel",
      "state": {
       "display": "inline-flex",
       "flex_flow": "row wrap",
       "width": "100%"
      }
     },
     "7b5aa49c7f614556b26060ece44e7a4e": {
      "model_module": "@jupyter-widgets/controls",
      "model_module_version": "1.5.0",
      "model_name": "ProgressStyleModel",
      "state": {
       "description_width": ""
      }
     },
     "7b7468c1f09f460cbc3bdc2bcc9714eb": {
      "model_module": "@jupyter-widgets/controls",
      "model_module_version": "1.5.0",
      "model_name": "DescriptionStyleModel",
      "state": {
       "description_width": ""
      }
     },
     "7ba33fc89696490a9ffceab10d96dada": {
      "model_module": "@jupyter-widgets/base",
      "model_module_version": "1.2.0",
      "model_name": "LayoutModel",
      "state": {
       "flex": "2"
      }
     },
     "7be060af3705403b97f31067c40d685f": {
      "model_module": "@jupyter-widgets/controls",
      "model_module_version": "1.5.0",
      "model_name": "HBoxModel",
      "state": {
       "children": [
        "IPY_MODEL_a9cf49f26adf4dbe84bf981c98760a70",
        "IPY_MODEL_98517c269bd6454daf14717cf4e6a321",
        "IPY_MODEL_b27f03a5936b4a55be0de20cc112b35f"
       ],
       "layout": "IPY_MODEL_f4938d71f13b4339aa8aec07418ee2fc"
      }
     },
     "7bedde746e8e4288a056c4a76f840ad4": {
      "model_module": "@jupyter-widgets/base",
      "model_module_version": "1.2.0",
      "model_name": "LayoutModel",
      "state": {}
     },
     "7c036cc2deda41efb19aaecf6a4263c1": {
      "model_module": "@jupyter-widgets/controls",
      "model_module_version": "1.5.0",
      "model_name": "FloatProgressModel",
      "state": {
       "layout": "IPY_MODEL_cf6ae12290bd42bb9816973dff672a3f",
       "max": 2,
       "style": "IPY_MODEL_fb73531c3778433d823633e41e9c29fd",
       "value": 2
      }
     },
     "7c27db010bde4a3a9c657889724de49e": {
      "model_module": "@jupyter-widgets/controls",
      "model_module_version": "1.5.0",
      "model_name": "DescriptionStyleModel",
      "state": {
       "description_width": ""
      }
     },
     "7c3781255e3f4f9a85db4249b0d7f4fe": {
      "model_module": "@jupyter-widgets/controls",
      "model_module_version": "1.5.0",
      "model_name": "DescriptionStyleModel",
      "state": {
       "description_width": ""
      }
     },
     "7c3aa53650a347298a0732501359074d": {
      "model_module": "@jupyter-widgets/base",
      "model_module_version": "1.2.0",
      "model_name": "LayoutModel",
      "state": {}
     },
     "7c3faf1cd53b4c74b9967ad6190c8783": {
      "model_module": "@jupyter-widgets/controls",
      "model_module_version": "1.5.0",
      "model_name": "ProgressStyleModel",
      "state": {
       "description_width": ""
      }
     },
     "7c553568a27a4941a898a3276f706b32": {
      "model_module": "@jupyter-widgets/controls",
      "model_module_version": "1.5.0",
      "model_name": "DescriptionStyleModel",
      "state": {
       "description_width": ""
      }
     },
     "7c56ff77dfe14c209a87ed7cbea5cf24": {
      "model_module": "@jupyter-widgets/controls",
      "model_module_version": "1.5.0",
      "model_name": "HBoxModel",
      "state": {
       "children": [
        "IPY_MODEL_c52fde293107403c976306a59a12150d",
        "IPY_MODEL_8d97c662cad74283bf2ae6fa284ba368",
        "IPY_MODEL_f4e3cf4fd2ae417d856d96860f11c4de"
       ],
       "layout": "IPY_MODEL_e79d43846356443d90fd201e79b7b8f5"
      }
     },
     "7c871e25c78f402fb811a2825be5a1f1": {
      "model_module": "@jupyter-widgets/controls",
      "model_module_version": "1.5.0",
      "model_name": "DescriptionStyleModel",
      "state": {
       "description_width": ""
      }
     },
     "7c88af83c12e441b903da67df9763bc4": {
      "model_module": "@jupyter-widgets/base",
      "model_module_version": "1.2.0",
      "model_name": "LayoutModel",
      "state": {}
     },
     "7c8da0cbd90d4a2f82928ba3e8768692": {
      "model_module": "@jupyter-widgets/base",
      "model_module_version": "1.2.0",
      "model_name": "LayoutModel",
      "state": {
       "flex": "2"
      }
     },
     "7c97331fa4d34dc3858a6412902591eb": {
      "model_module": "@jupyter-widgets/controls",
      "model_module_version": "1.5.0",
      "model_name": "ProgressStyleModel",
      "state": {
       "description_width": ""
      }
     },
     "7c9a9d21a6f0455aa262ce7e89e1e691": {
      "model_module": "@jupyter-widgets/controls",
      "model_module_version": "1.5.0",
      "model_name": "FloatProgressModel",
      "state": {
       "layout": "IPY_MODEL_fb2cce638d034efc8eb380240ae7888b",
       "max": 2,
       "style": "IPY_MODEL_15b72af75f734318843bec83afdc0f24",
       "value": 2
      }
     },
     "7ca1aa3af85b4ba48eeb832a3412c674": {
      "model_module": "@jupyter-widgets/controls",
      "model_module_version": "1.5.0",
      "model_name": "DescriptionStyleModel",
      "state": {
       "description_width": ""
      }
     },
     "7ca2fd8c57a7408e8c7bd2e7a0f824c0": {
      "model_module": "@jupyter-widgets/controls",
      "model_module_version": "1.5.0",
      "model_name": "HTMLModel",
      "state": {
       "layout": "IPY_MODEL_f6309972d396445b9a62523fd59570c0",
       "style": "IPY_MODEL_d572c0964ef0459a84ce40e1392a4305",
       "value": "Epoch 1: 100%"
      }
     },
     "7cd543951b524ea8817c177b8c335138": {
      "model_module": "@jupyter-widgets/controls",
      "model_module_version": "1.5.0",
      "model_name": "HTMLModel",
      "state": {
       "layout": "IPY_MODEL_1fdab1b905c8441bbe3897c35fe3778c",
       "style": "IPY_MODEL_62bcb027767143b893066434023d1d5d",
       "value": " 191/191 [00:10&lt;00:00, 17.79it/s]"
      }
     },
     "7d0ca4140f314cb0b5184e8b01e1b18b": {
      "model_module": "@jupyter-widgets/base",
      "model_module_version": "1.2.0",
      "model_name": "LayoutModel",
      "state": {}
     },
     "7d12a582458a4808941a925a3a38b053": {
      "model_module": "@jupyter-widgets/base",
      "model_module_version": "1.2.0",
      "model_name": "LayoutModel",
      "state": {}
     },
     "7d1a3f9d17f64fa397167bc8b2a2653a": {
      "model_module": "@jupyter-widgets/controls",
      "model_module_version": "1.5.0",
      "model_name": "HTMLModel",
      "state": {
       "layout": "IPY_MODEL_9c4372d88e8541f9b3c533b7d56ce78b",
       "style": "IPY_MODEL_a3cc6c95397a46f28a8584e042268bd7",
       "value": " 191/191 [00:10&lt;00:00, 17.97it/s]"
      }
     },
     "7d30424c4ca045ec85aec7868bb112b3": {
      "model_module": "@jupyter-widgets/controls",
      "model_module_version": "1.5.0",
      "model_name": "DescriptionStyleModel",
      "state": {
       "description_width": ""
      }
     },
     "7d3d4231eb0147a38fefb34d562d6fdf": {
      "model_module": "@jupyter-widgets/controls",
      "model_module_version": "1.5.0",
      "model_name": "HTMLModel",
      "state": {
       "layout": "IPY_MODEL_d7280027dfe34c9ea3f935d03e133d96",
       "style": "IPY_MODEL_ccacbe137e5d4f6590597685d380703e",
       "value": "Sanity Checking DataLoader 0: 100%"
      }
     },
     "7d3fae5d80f74e09a4ed5558e4917655": {
      "model_module": "@jupyter-widgets/controls",
      "model_module_version": "1.5.0",
      "model_name": "HTMLModel",
      "state": {
       "layout": "IPY_MODEL_c80e09d72bd540fd9b7a9d3730784a29",
       "style": "IPY_MODEL_413b15c64fdd42478b720fe5550e44aa",
       "value": "Sanity Checking DataLoader 0: 100%"
      }
     },
     "7d52fbfbe59a4384a0e2857f5c9f74ae": {
      "model_module": "@jupyter-widgets/controls",
      "model_module_version": "1.5.0",
      "model_name": "DescriptionStyleModel",
      "state": {
       "description_width": ""
      }
     },
     "7d59955fde0249449d027f5298448ec7": {
      "model_module": "@jupyter-widgets/controls",
      "model_module_version": "1.5.0",
      "model_name": "FloatProgressModel",
      "state": {
       "bar_style": "success",
       "layout": "IPY_MODEL_9121752ac58d41f3b1169acc35ea7ffb",
       "max": 417,
       "style": "IPY_MODEL_736a232d066643928611ca74b7e71980",
       "value": 417
      }
     },
     "7d6566d7ff3748d28da0ee085ceec6c7": {
      "model_module": "@jupyter-widgets/controls",
      "model_module_version": "1.5.0",
      "model_name": "DescriptionStyleModel",
      "state": {
       "description_width": ""
      }
     },
     "7dae98b12e5d42cba5089b2af28a3bac": {
      "model_module": "@jupyter-widgets/controls",
      "model_module_version": "1.5.0",
      "model_name": "ProgressStyleModel",
      "state": {
       "description_width": ""
      }
     },
     "7db3b81a533b43c6b1474a8a918d8b3d": {
      "model_module": "@jupyter-widgets/controls",
      "model_module_version": "1.5.0",
      "model_name": "ProgressStyleModel",
      "state": {
       "description_width": ""
      }
     },
     "7db4e9307e2d486cb3f874a17ad7d76e": {
      "model_module": "@jupyter-widgets/base",
      "model_module_version": "1.2.0",
      "model_name": "LayoutModel",
      "state": {}
     },
     "7dc500bdca7a4ac28afa5820b15e57ad": {
      "model_module": "@jupyter-widgets/controls",
      "model_module_version": "1.5.0",
      "model_name": "DescriptionStyleModel",
      "state": {
       "description_width": ""
      }
     },
     "7df08b5e55804a9990ba5d0fabc4d248": {
      "model_module": "@jupyter-widgets/base",
      "model_module_version": "1.2.0",
      "model_name": "LayoutModel",
      "state": {
       "display": "inline-flex",
       "flex_flow": "row wrap",
       "width": "100%"
      }
     },
     "7dff12ce25ec4fc68c9dc150ae4e0de4": {
      "model_module": "@jupyter-widgets/controls",
      "model_module_version": "1.5.0",
      "model_name": "DescriptionStyleModel",
      "state": {
       "description_width": ""
      }
     },
     "7e0ce7a86c824eeaa3e4421efc6ec189": {
      "model_module": "@jupyter-widgets/controls",
      "model_module_version": "1.5.0",
      "model_name": "HTMLModel",
      "state": {
       "layout": "IPY_MODEL_c75552a662c84d07a54cfcb432aaa5d1",
       "style": "IPY_MODEL_143cd599ac374fee82b21420139f3026",
       "value": "Validation DataLoader 0: 100%"
      }
     },
     "7e61f6f0eb054268a2b92bd8f6587e1b": {
      "model_module": "@jupyter-widgets/controls",
      "model_module_version": "1.5.0",
      "model_name": "ProgressStyleModel",
      "state": {
       "description_width": ""
      }
     },
     "7e83f5c84f8f4540917def6448c141d6": {
      "model_module": "@jupyter-widgets/base",
      "model_module_version": "1.2.0",
      "model_name": "LayoutModel",
      "state": {
       "flex": "2"
      }
     },
     "7eb064877a47465b8daf18edde8cbf04": {
      "model_module": "@jupyter-widgets/base",
      "model_module_version": "1.2.0",
      "model_name": "LayoutModel",
      "state": {
       "display": "inline-flex",
       "flex_flow": "row wrap",
       "visibility": "hidden",
       "width": "100%"
      }
     },
     "7ed0c53925e543349da8f011116c937f": {
      "model_module": "@jupyter-widgets/controls",
      "model_module_version": "1.5.0",
      "model_name": "HTMLModel",
      "state": {
       "layout": "IPY_MODEL_683cd007a2dd4708900ecf02f481aba6",
       "style": "IPY_MODEL_1d949a83cffe41e4941efd1a4d0a50de",
       "value": "Epoch 1: 100%"
      }
     },
     "7ef2dedd4c4c4086a37322b77a603e56": {
      "model_module": "@jupyter-widgets/base",
      "model_module_version": "1.2.0",
      "model_name": "LayoutModel",
      "state": {
       "flex": "2"
      }
     },
     "7f27d90c29384234b86246d303d9a537": {
      "model_module": "@jupyter-widgets/controls",
      "model_module_version": "1.5.0",
      "model_name": "HTMLModel",
      "state": {
       "layout": "IPY_MODEL_48a8b81ed0554cd39a0d45e757331d5f",
       "style": "IPY_MODEL_f3eb2f5ca937452393b85cba879e5f38",
       "value": " 8/8 [06:04&lt;00:00, 45.48s/it]"
      }
     },
     "7f4858b219d84b6d8d5d0c55d6699329": {
      "model_module": "@jupyter-widgets/base",
      "model_module_version": "1.2.0",
      "model_name": "LayoutModel",
      "state": {
       "display": "inline-flex",
       "flex_flow": "row wrap",
       "visibility": "hidden",
       "width": "100%"
      }
     },
     "7f6ed3950a5040c9ac337db1c4cb5014": {
      "model_module": "@jupyter-widgets/base",
      "model_module_version": "1.2.0",
      "model_name": "LayoutModel",
      "state": {
       "display": "inline-flex",
       "flex_flow": "row wrap",
       "visibility": "hidden",
       "width": "100%"
      }
     },
     "7f9bbbb140fe4691a2492c1c5d8a21d2": {
      "model_module": "@jupyter-widgets/controls",
      "model_module_version": "1.5.0",
      "model_name": "ProgressStyleModel",
      "state": {
       "description_width": ""
      }
     },
     "7f9bf6c205824fcdad7c6eb3144e5aab": {
      "model_module": "@jupyter-widgets/base",
      "model_module_version": "1.2.0",
      "model_name": "LayoutModel",
      "state": {}
     },
     "7fb5bbaf3c3b4d149c37503e6cf6915c": {
      "model_module": "@jupyter-widgets/controls",
      "model_module_version": "1.5.0",
      "model_name": "ProgressStyleModel",
      "state": {
       "description_width": ""
      }
     },
     "7fbffd37010c4d06ba9f79305061e258": {
      "model_module": "@jupyter-widgets/controls",
      "model_module_version": "1.5.0",
      "model_name": "HTMLModel",
      "state": {
       "layout": "IPY_MODEL_fbc5d69ddb2946279dbb6fe1aa8641fc",
       "style": "IPY_MODEL_69f983fb678a4d0eb862d15def076080",
       "value": " 2/2 [00:00&lt;00:00, 10.67it/s]"
      }
     },
     "8049184ba33e48e8b4888492c76981b5": {
      "model_module": "@jupyter-widgets/controls",
      "model_module_version": "1.5.0",
      "model_name": "DescriptionStyleModel",
      "state": {
       "description_width": ""
      }
     },
     "805015fbc2f246c8bc2e0d51bfe5e276": {
      "model_module": "@jupyter-widgets/controls",
      "model_module_version": "1.5.0",
      "model_name": "DescriptionStyleModel",
      "state": {
       "description_width": ""
      }
     },
     "8065af76dbb549c78478ce8a8ce93df7": {
      "model_module": "@jupyter-widgets/controls",
      "model_module_version": "1.5.0",
      "model_name": "FloatProgressModel",
      "state": {
       "bar_style": "danger",
       "layout": "IPY_MODEL_e53880f9ee3546128fc96e950d92965a",
       "max": 1,
       "style": "IPY_MODEL_7c3faf1cd53b4c74b9967ad6190c8783"
      }
     },
     "8095d07d27ee42d3a37958282efe1cc7": {
      "model_module": "@jupyter-widgets/base",
      "model_module_version": "1.2.0",
      "model_name": "LayoutModel",
      "state": {}
     },
     "809e508489a942e7b201dad1a3365f4e": {
      "model_module": "@jupyter-widgets/base",
      "model_module_version": "1.2.0",
      "model_name": "LayoutModel",
      "state": {
       "flex": "2"
      }
     },
     "80aa37a7ef88465d95a2f708809c78aa": {
      "model_module": "@jupyter-widgets/controls",
      "model_module_version": "1.5.0",
      "model_name": "DescriptionStyleModel",
      "state": {
       "description_width": ""
      }
     },
     "80af0f875c1549cab9cfd5f311b1dd1e": {
      "model_module": "@jupyter-widgets/controls",
      "model_module_version": "1.5.0",
      "model_name": "DescriptionStyleModel",
      "state": {
       "description_width": ""
      }
     },
     "80b06531c08f4504831916887e3dbd0d": {
      "model_module": "@jupyter-widgets/controls",
      "model_module_version": "1.5.0",
      "model_name": "FloatProgressModel",
      "state": {
       "bar_style": "danger",
       "layout": "IPY_MODEL_b656290cfcdb4c62a25e71a46c5eae8c",
       "max": 8,
       "style": "IPY_MODEL_954a9028133049429337b87ecc861fcf",
       "value": 1
      }
     },
     "80d95f1c9dde43e1af9e8cd296b47bd5": {
      "model_module": "@jupyter-widgets/base",
      "model_module_version": "1.2.0",
      "model_name": "LayoutModel",
      "state": {
       "display": "inline-flex",
       "flex_flow": "row wrap",
       "visibility": "hidden",
       "width": "100%"
      }
     },
     "80ed50b02c2b4067870370515db51532": {
      "model_module": "@jupyter-widgets/base",
      "model_module_version": "1.2.0",
      "model_name": "LayoutModel",
      "state": {
       "display": "inline-flex",
       "flex_flow": "row wrap",
       "visibility": "hidden",
       "width": "100%"
      }
     },
     "8108385e5f744d558ed6c3b07166f9fe": {
      "model_module": "@jupyter-widgets/controls",
      "model_module_version": "1.5.0",
      "model_name": "FloatProgressModel",
      "state": {
       "layout": "IPY_MODEL_cc42ed53533948e7bb1d9004f694e93f",
       "max": 191,
       "style": "IPY_MODEL_06d088b217ef4726b9b325fb747907c0",
       "value": 191
      }
     },
     "812bf5562a09405c8919900737c83051": {
      "model_module": "@jupyter-widgets/controls",
      "model_module_version": "1.5.0",
      "model_name": "HTMLModel",
      "state": {
       "layout": "IPY_MODEL_7abd663c80db4871a18388be2bbbdc8c",
       "style": "IPY_MODEL_47bde7340cfc4504b8b2cb1144b34112",
       "value": " 3/3 [02:54&lt;00:00, 53.63s/it]"
      }
     },
     "8135a29eeb9141f58e935305a6809585": {
      "model_module": "@jupyter-widgets/base",
      "model_module_version": "1.2.0",
      "model_name": "LayoutModel",
      "state": {}
     },
     "816bfad60a1a4abe8c842497e60cae69": {
      "model_module": "@jupyter-widgets/controls",
      "model_module_version": "1.5.0",
      "model_name": "FloatProgressModel",
      "state": {
       "layout": "IPY_MODEL_fc1a4d97e646486faa2a9b83ce99a049",
       "max": 2,
       "style": "IPY_MODEL_85fade8452844e82a127d74b90164ea3",
       "value": 2
      }
     },
     "8179b612e48b4a8ba2387062c9dcdc94": {
      "model_module": "@jupyter-widgets/base",
      "model_module_version": "1.2.0",
      "model_name": "LayoutModel",
      "state": {
       "display": "inline-flex",
       "flex_flow": "row wrap",
       "width": "100%"
      }
     },
     "818528f5b7e447d39fd40abb3a3d5e6f": {
      "model_module": "@jupyter-widgets/controls",
      "model_module_version": "1.5.0",
      "model_name": "DescriptionStyleModel",
      "state": {
       "description_width": ""
      }
     },
     "81bdea468d41458389ea6c4d57d18464": {
      "model_module": "@jupyter-widgets/base",
      "model_module_version": "1.2.0",
      "model_name": "LayoutModel",
      "state": {}
     },
     "81e51bbdc5ed4b92a6e4187b16e112b2": {
      "model_module": "@jupyter-widgets/base",
      "model_module_version": "1.2.0",
      "model_name": "LayoutModel",
      "state": {}
     },
     "8212edb3201d40d995b2ec68d2d98b97": {
      "model_module": "@jupyter-widgets/base",
      "model_module_version": "1.2.0",
      "model_name": "LayoutModel",
      "state": {}
     },
     "821d9084e33b46639d1cc66721fdbe7e": {
      "model_module": "@jupyter-widgets/base",
      "model_module_version": "1.2.0",
      "model_name": "LayoutModel",
      "state": {}
     },
     "821de9ebf5cd4be797719ac6cf0cce9f": {
      "model_module": "@jupyter-widgets/base",
      "model_module_version": "1.2.0",
      "model_name": "LayoutModel",
      "state": {
       "flex": "2"
      }
     },
     "82205dcf86b846ebb7341187002a5dd5": {
      "model_module": "@jupyter-widgets/base",
      "model_module_version": "1.2.0",
      "model_name": "LayoutModel",
      "state": {}
     },
     "82253b9be703465bb2949c3e160d3ed8": {
      "model_module": "@jupyter-widgets/controls",
      "model_module_version": "1.5.0",
      "model_name": "DescriptionStyleModel",
      "state": {
       "description_width": ""
      }
     },
     "8255dc8ffc44493d93fba3a10f262896": {
      "model_module": "@jupyter-widgets/controls",
      "model_module_version": "1.5.0",
      "model_name": "HTMLModel",
      "state": {
       "layout": "IPY_MODEL_a523a6e3a9454ee493a7af6af380d99a",
       "style": "IPY_MODEL_83037c89c617485fa8b6c2f68bea2b8a",
       "value": " 191/191 [00:12&lt;00:00, 15.40it/s]"
      }
     },
     "82a4045d83dd4f36a17d656269441bb8": {
      "model_module": "@jupyter-widgets/controls",
      "model_module_version": "1.5.0",
      "model_name": "ProgressStyleModel",
      "state": {
       "description_width": ""
      }
     },
     "82c068b3a1474e59b71658017c4b510e": {
      "model_module": "@jupyter-widgets/base",
      "model_module_version": "1.2.0",
      "model_name": "LayoutModel",
      "state": {}
     },
     "83037c89c617485fa8b6c2f68bea2b8a": {
      "model_module": "@jupyter-widgets/controls",
      "model_module_version": "1.5.0",
      "model_name": "DescriptionStyleModel",
      "state": {
       "description_width": ""
      }
     },
     "83312fd8e6814477b95258fe9d8002ce": {
      "model_module": "@jupyter-widgets/controls",
      "model_module_version": "1.5.0",
      "model_name": "DescriptionStyleModel",
      "state": {
       "description_width": ""
      }
     },
     "834167f4f0f743b9bb66ad3bad7e5894": {
      "model_module": "@jupyter-widgets/controls",
      "model_module_version": "1.5.0",
      "model_name": "DescriptionStyleModel",
      "state": {
       "description_width": ""
      }
     },
     "83a21734f31e417399bb315a0ff964f8": {
      "model_module": "@jupyter-widgets/controls",
      "model_module_version": "1.5.0",
      "model_name": "DescriptionStyleModel",
      "state": {
       "description_width": ""
      }
     },
     "83cea1229bbd4d8d84ce3a04bf22bdd6": {
      "model_module": "@jupyter-widgets/controls",
      "model_module_version": "1.5.0",
      "model_name": "HTMLModel",
      "state": {
       "layout": "IPY_MODEL_074e2fdfd0e34aee8d4e1c07c5cb74c8",
       "style": "IPY_MODEL_c3e75631086e4e6580b43ed1d1fb919b",
       "value": "Epoch 1: 100%"
      }
     },
     "83d93daaa4d8487da6a8888d06955ceb": {
      "model_module": "@jupyter-widgets/controls",
      "model_module_version": "1.5.0",
      "model_name": "HTMLModel",
      "state": {
       "layout": "IPY_MODEL_aa927956ad6143e3a5f41272251d2f0c",
       "style": "IPY_MODEL_3d7d663cc725408b8e74f98353a13bd8",
       "value": "100%"
      }
     },
     "83e266724e044f1995decb454be9f62c": {
      "model_module": "@jupyter-widgets/controls",
      "model_module_version": "1.5.0",
      "model_name": "DescriptionStyleModel",
      "state": {
       "description_width": ""
      }
     },
     "83ec644919b64c5885be28dac0149bf9": {
      "model_module": "@jupyter-widgets/base",
      "model_module_version": "1.2.0",
      "model_name": "LayoutModel",
      "state": {}
     },
     "83f7dbd4728749319576f4a9eebf3122": {
      "model_module": "@jupyter-widgets/controls",
      "model_module_version": "1.5.0",
      "model_name": "DescriptionStyleModel",
      "state": {
       "description_width": ""
      }
     },
     "8409fedbb7254d72b4c3a3733d089773": {
      "model_module": "@jupyter-widgets/controls",
      "model_module_version": "1.5.0",
      "model_name": "HTMLModel",
      "state": {
       "layout": "IPY_MODEL_7075d2502f0942c5858b960bf3d68acc",
       "style": "IPY_MODEL_7adb054d1fed49bd90aca19ed9fd0ef3",
       "value": "  0%"
      }
     },
     "842c0df962574f1995ec78e152750d70": {
      "model_module": "@jupyter-widgets/base",
      "model_module_version": "1.2.0",
      "model_name": "LayoutModel",
      "state": {
       "flex": "2"
      }
     },
     "842fbf427ba5485da4a02e1db047e44a": {
      "model_module": "@jupyter-widgets/controls",
      "model_module_version": "1.5.0",
      "model_name": "HBoxModel",
      "state": {
       "children": [
        "IPY_MODEL_2c1c5fb99cbd4237b1c59d3d6373ff0b",
        "IPY_MODEL_0afd8877efab41a582e426c2dbbfac72",
        "IPY_MODEL_ceab38c039a54d938f750d6ffd501b0b"
       ],
       "layout": "IPY_MODEL_bcc2c3fc98934e0bb95ba3cddf3fc7b4"
      }
     },
     "8437110537cd4558af76ef7483d7b2db": {
      "model_module": "@jupyter-widgets/controls",
      "model_module_version": "1.5.0",
      "model_name": "DescriptionStyleModel",
      "state": {
       "description_width": ""
      }
     },
     "84834c68fe2f4a7bbabfc124d1477b15": {
      "model_module": "@jupyter-widgets/controls",
      "model_module_version": "1.5.0",
      "model_name": "HTMLModel",
      "state": {
       "layout": "IPY_MODEL_4acffb8d8ca1409088b7d64c0764c8e5",
       "style": "IPY_MODEL_5e1817017c1d4d6687fa8a1f1cf8b2fa",
       "value": "Sanity Checking DataLoader 0: 100%"
      }
     },
     "84956c0e58a54392b15f33fb6e77f805": {
      "model_module": "@jupyter-widgets/controls",
      "model_module_version": "1.5.0",
      "model_name": "HTMLModel",
      "state": {
       "layout": "IPY_MODEL_400dc660657c4f46a2e0d6e638726e3a",
       "style": "IPY_MODEL_62abf29cee72495d8a1a642f4439509b",
       "value": " 191/191 [00:11&lt;00:00, 16.14it/s]"
      }
     },
     "84bf0849d4254cc9b92b96387e0fdc6e": {
      "model_module": "@jupyter-widgets/controls",
      "model_module_version": "1.5.0",
      "model_name": "HTMLModel",
      "state": {
       "layout": "IPY_MODEL_e5f294c2ec6a49eea747a24127fb0a04",
       "style": "IPY_MODEL_9658214936984d33bbc4903540cb7339",
       "value": "Epoch 1: 100%"
      }
     },
     "84d18a1a954a406d8cc6564e1388c4f5": {
      "model_module": "@jupyter-widgets/controls",
      "model_module_version": "1.5.0",
      "model_name": "DescriptionStyleModel",
      "state": {
       "description_width": ""
      }
     },
     "84e6eb05466d47ec9df6e21c4c0f3553": {
      "model_module": "@jupyter-widgets/controls",
      "model_module_version": "1.5.0",
      "model_name": "HTMLModel",
      "state": {
       "layout": "IPY_MODEL_60095b7b73c04c6e8fc53de2cbc76796",
       "style": "IPY_MODEL_73e022d5fb4b4f1080d4286407912329",
       "value": " 417/417 [00:36&lt;00:00, 11.49it/s, v_num=dla8, seq_len=1.750, y=0.0166, valid/AUROC=0.668]"
      }
     },
     "853c66c11faa4b30a92370260921b95c": {
      "model_module": "@jupyter-widgets/controls",
      "model_module_version": "1.5.0",
      "model_name": "HBoxModel",
      "state": {
       "children": [
        "IPY_MODEL_12a03c5c11844d1bb2bff02691c5ae77",
        "IPY_MODEL_70ce61b270104efe81e6babb79ea6cbd",
        "IPY_MODEL_255876d73e7d440abdd6095e998a26d3"
       ],
       "layout": "IPY_MODEL_5f95101aea3d44e0baa61735f0896958"
      }
     },
     "855a4efdf5304dedb74d635a22b0cab3": {
      "model_module": "@jupyter-widgets/base",
      "model_module_version": "1.2.0",
      "model_name": "LayoutModel",
      "state": {
       "display": "inline-flex",
       "flex_flow": "row wrap",
       "visibility": "hidden",
       "width": "100%"
      }
     },
     "856c65ee060f4caf8a564a3768afe83e": {
      "model_module": "@jupyter-widgets/controls",
      "model_module_version": "1.5.0",
      "model_name": "HTMLModel",
      "state": {
       "layout": "IPY_MODEL_7bedde746e8e4288a056c4a76f840ad4",
       "style": "IPY_MODEL_790e1b91f944453ba1bda69b051ec1a6",
       "value": "Epoch 1: 100%"
      }
     },
     "857fd0b09f814951bb7f1bf61e9f6349": {
      "model_module": "@jupyter-widgets/controls",
      "model_module_version": "1.5.0",
      "model_name": "FloatProgressModel",
      "state": {
       "layout": "IPY_MODEL_af3b0a00a2ac4eea98d0e91d7b392418",
       "max": 191,
       "style": "IPY_MODEL_e4b6e62e945246b6912d47589aec7e51",
       "value": 191
      }
     },
     "85b8706ed1674d8e9f4cb431f03e2d7c": {
      "model_module": "@jupyter-widgets/base",
      "model_module_version": "1.2.0",
      "model_name": "LayoutModel",
      "state": {
       "display": "inline-flex",
       "flex_flow": "row wrap",
       "width": "100%"
      }
     },
     "85c7d0d96a4f47e98babe282122efe50": {
      "model_module": "@jupyter-widgets/base",
      "model_module_version": "1.2.0",
      "model_name": "LayoutModel",
      "state": {}
     },
     "85dc2213e62341989165c7aeaf3f504d": {
      "model_module": "@jupyter-widgets/controls",
      "model_module_version": "1.5.0",
      "model_name": "HTMLModel",
      "state": {
       "layout": "IPY_MODEL_d1147561729c438eb0cb97cffac9743a",
       "style": "IPY_MODEL_9e7ab39a43d849faa9f1d567df7c1b2a",
       "value": " 1/8 [01:49&lt;12:00, 102.91s/it]"
      }
     },
     "85fade8452844e82a127d74b90164ea3": {
      "model_module": "@jupyter-widgets/controls",
      "model_module_version": "1.5.0",
      "model_name": "ProgressStyleModel",
      "state": {
       "description_width": ""
      }
     },
     "860aa97e6b9c4d44ad6a3ea13b381193": {
      "model_module": "@jupyter-widgets/controls",
      "model_module_version": "1.5.0",
      "model_name": "ProgressStyleModel",
      "state": {
       "description_width": ""
      }
     },
     "862f8b35cf16482498d370abe749de18": {
      "model_module": "@jupyter-widgets/controls",
      "model_module_version": "1.5.0",
      "model_name": "HTMLModel",
      "state": {
       "layout": "IPY_MODEL_27f7975d575b494e84a94ebc038051c7",
       "style": "IPY_MODEL_dfd2b19ade3f47f2b6c5192b8db4df1e",
       "value": " 2/2 [55:46&lt;00:00, 1680.53s/it]"
      }
     },
     "865113c9c5b14262bc85f174ea64de03": {
      "model_module": "@jupyter-widgets/controls",
      "model_module_version": "1.5.0",
      "model_name": "HTMLModel",
      "state": {
       "layout": "IPY_MODEL_51767b3764bc452a97659c2b0c93b91d",
       "style": "IPY_MODEL_09547fa3d9504507ab0d55c87f5d2550",
       "value": "Epoch 1: 100%"
      }
     },
     "8682288a754b41e192ebc801170a2e25": {
      "model_module": "@jupyter-widgets/base",
      "model_module_version": "1.2.0",
      "model_name": "LayoutModel",
      "state": {
       "display": "inline-flex",
       "flex_flow": "row wrap",
       "visibility": "hidden",
       "width": "100%"
      }
     },
     "868e716ac5cc4030a55f1c4a26c81dd8": {
      "model_module": "@jupyter-widgets/base",
      "model_module_version": "1.2.0",
      "model_name": "LayoutModel",
      "state": {}
     },
     "869b0c02ac1c4c7dab7983b1edd60175": {
      "model_module": "@jupyter-widgets/base",
      "model_module_version": "1.2.0",
      "model_name": "LayoutModel",
      "state": {}
     },
     "86c5d83205994f798df7f393d75f6765": {
      "model_module": "@jupyter-widgets/base",
      "model_module_version": "1.2.0",
      "model_name": "LayoutModel",
      "state": {
       "flex": "2"
      }
     },
     "86edc0de48a34d899630a427d2c11755": {
      "model_module": "@jupyter-widgets/base",
      "model_module_version": "1.2.0",
      "model_name": "LayoutModel",
      "state": {}
     },
     "86f11c27ad9b4cc1a33762a93c615bc3": {
      "model_module": "@jupyter-widgets/base",
      "model_module_version": "1.2.0",
      "model_name": "LayoutModel",
      "state": {
       "flex": "2"
      }
     },
     "86faf68bef33461bb4ccc267c9365fd5": {
      "model_module": "@jupyter-widgets/controls",
      "model_module_version": "1.5.0",
      "model_name": "HTMLModel",
      "state": {
       "layout": "IPY_MODEL_cfe4d89c93fe4a77a7f6cf031f81169c",
       "style": "IPY_MODEL_1eae871788704a81aee3233f8a3f534e",
       "value": "Validation DataLoader 0: 100%"
      }
     },
     "871b6274bcbd4b3eae175b417bb5bcfe": {
      "model_module": "@jupyter-widgets/controls",
      "model_module_version": "1.5.0",
      "model_name": "HBoxModel",
      "state": {
       "children": [
        "IPY_MODEL_2b647fb33cfb42cb83be4ca53ba5333d",
        "IPY_MODEL_cc6ea94e2a1e4c55a5ab9069df6c33aa",
        "IPY_MODEL_2a22b1e0c57d4dcfbd7dfa2bc1331a74"
       ],
       "layout": "IPY_MODEL_54ed782a46824981a496a213bef0aad6"
      }
     },
     "871f1c007a304fe0b7d2472756481e47": {
      "model_module": "@jupyter-widgets/base",
      "model_module_version": "1.2.0",
      "model_name": "LayoutModel",
      "state": {}
     },
     "873b230131234a3195833f92d10f1968": {
      "model_module": "@jupyter-widgets/controls",
      "model_module_version": "1.5.0",
      "model_name": "DescriptionStyleModel",
      "state": {
       "description_width": ""
      }
     },
     "87439274d0dd44b9a7a5dd18d6401402": {
      "model_module": "@jupyter-widgets/base",
      "model_module_version": "1.2.0",
      "model_name": "LayoutModel",
      "state": {}
     },
     "87a79f000a664d07933ef5f1cd0e5d17": {
      "model_module": "@jupyter-widgets/controls",
      "model_module_version": "1.5.0",
      "model_name": "ProgressStyleModel",
      "state": {
       "description_width": ""
      }
     },
     "881424aaa407408997a2f26e655e6fe4": {
      "model_module": "@jupyter-widgets/base",
      "model_module_version": "1.2.0",
      "model_name": "LayoutModel",
      "state": {
       "flex": "2"
      }
     },
     "88541e3e0a2f4d6daae5bd0e2022d632": {
      "model_module": "@jupyter-widgets/controls",
      "model_module_version": "1.5.0",
      "model_name": "DescriptionStyleModel",
      "state": {
       "description_width": ""
      }
     },
     "88676d06f08d4a94a6c35affd8613ff9": {
      "model_module": "@jupyter-widgets/base",
      "model_module_version": "1.2.0",
      "model_name": "LayoutModel",
      "state": {}
     },
     "888e2d6d7c014fce905e02f727bd39e2": {
      "model_module": "@jupyter-widgets/controls",
      "model_module_version": "1.5.0",
      "model_name": "FloatProgressModel",
      "state": {
       "layout": "IPY_MODEL_eb1839b78e894dfbb7c3ba911dc9d66d",
       "max": 2,
       "style": "IPY_MODEL_5b74cd2f937744ff9db84468f57951b2",
       "value": 2
      }
     },
     "8899af9393124cf78c0681ac7d2fb9a6": {
      "model_module": "@jupyter-widgets/controls",
      "model_module_version": "1.5.0",
      "model_name": "DescriptionStyleModel",
      "state": {
       "description_width": ""
      }
     },
     "88a109f00daa4f4f9f1a79bc02655356": {
      "model_module": "@jupyter-widgets/controls",
      "model_module_version": "1.5.0",
      "model_name": "HTMLModel",
      "state": {
       "layout": "IPY_MODEL_fad555f89f8a4268b81b04ea78e968e2",
       "style": "IPY_MODEL_32824cd601bd4f00b7856022b2aa73a1",
       "value": "  0%"
      }
     },
     "88afa4a8252648d591d240d0a608bc34": {
      "model_module": "@jupyter-widgets/controls",
      "model_module_version": "1.5.0",
      "model_name": "HBoxModel",
      "state": {
       "children": [
        "IPY_MODEL_fb3b240e4a194efe891ba2630d2cde21",
        "IPY_MODEL_c48c7dbdb9974d5aa24c1cc6a0cf2615",
        "IPY_MODEL_cd718ee52b814f1ea964f24f76c5950e"
       ],
       "layout": "IPY_MODEL_58b372db9d88425d8d36d0a5988ab893"
      }
     },
     "88bb57665cf4440b9b2355f152a49bd3": {
      "model_module": "@jupyter-widgets/controls",
      "model_module_version": "1.5.0",
      "model_name": "ProgressStyleModel",
      "state": {
       "description_width": ""
      }
     },
     "88be439094ca47bcb4301c89697fab8b": {
      "model_module": "@jupyter-widgets/base",
      "model_module_version": "1.2.0",
      "model_name": "LayoutModel",
      "state": {}
     },
     "88cfb3ece0a74f999aa5257ab1cd2b71": {
      "model_module": "@jupyter-widgets/base",
      "model_module_version": "1.2.0",
      "model_name": "LayoutModel",
      "state": {}
     },
     "892884b1193b4f0193e87c719174cd17": {
      "model_module": "@jupyter-widgets/controls",
      "model_module_version": "1.5.0",
      "model_name": "DescriptionStyleModel",
      "state": {
       "description_width": ""
      }
     },
     "8944c21fbcfe46f5996c553e3258e090": {
      "model_module": "@jupyter-widgets/controls",
      "model_module_version": "1.5.0",
      "model_name": "ProgressStyleModel",
      "state": {
       "description_width": ""
      }
     },
     "897400af152e41d0867a2f40031f41b9": {
      "model_module": "@jupyter-widgets/controls",
      "model_module_version": "1.5.0",
      "model_name": "HTMLModel",
      "state": {
       "layout": "IPY_MODEL_94f2a1727b3848be842e9aa0d4031fe8",
       "style": "IPY_MODEL_1d7ed88ef8c9425a82511111676a1a96",
       "value": " 2/2 [00:00&lt;00:00,  5.89it/s]"
      }
     },
     "89b73d1c22264d90840e410339fed5df": {
      "model_module": "@jupyter-widgets/controls",
      "model_module_version": "1.5.0",
      "model_name": "VBoxModel",
      "state": {
       "children": [
        "IPY_MODEL_c2e1ccfdf6eb4b2b86e746278c6ce6a8",
        "IPY_MODEL_344eee8c3d184a4ba5f3ed5be7d94e74"
       ],
       "layout": "IPY_MODEL_ae99b4a188614a8e909f4a4f36833bf6"
      }
     },
     "89d10dc30d234db7b10245638464b531": {
      "model_module": "@jupyter-widgets/controls",
      "model_module_version": "1.5.0",
      "model_name": "FloatProgressModel",
      "state": {
       "layout": "IPY_MODEL_4e004b3e385642b8bf89808359bd0850",
       "max": 2,
       "style": "IPY_MODEL_82a4045d83dd4f36a17d656269441bb8",
       "value": 2
      }
     },
     "89e2e358a922401dad387b92f792e36b": {
      "model_module": "@jupyter-widgets/controls",
      "model_module_version": "1.5.0",
      "model_name": "HTMLModel",
      "state": {
       "layout": "IPY_MODEL_67787d0dffcd42b0af8345d789bbc7b7",
       "style": "IPY_MODEL_02b96d40816a403cae938f3f5799ee9d",
       "value": " 2/2 [00:00&lt;00:00, 14.18it/s]"
      }
     },
     "89e4c5d27b5b4655afdac3a74602d9d2": {
      "model_module": "@jupyter-widgets/base",
      "model_module_version": "1.2.0",
      "model_name": "LayoutModel",
      "state": {}
     },
     "8a3d4679b633483087919148bf17130c": {
      "model_module": "@jupyter-widgets/base",
      "model_module_version": "1.2.0",
      "model_name": "LayoutModel",
      "state": {
       "display": "inline-flex",
       "flex_flow": "row wrap",
       "visibility": "hidden",
       "width": "100%"
      }
     },
     "8a985321744144ac95d03f7696454b35": {
      "model_module": "@jupyter-widgets/controls",
      "model_module_version": "1.5.0",
      "model_name": "ProgressStyleModel",
      "state": {
       "description_width": ""
      }
     },
     "8ad92398bc47402ebca42cc8ae1daf0f": {
      "model_module": "@jupyter-widgets/controls",
      "model_module_version": "1.5.0",
      "model_name": "HBoxModel",
      "state": {
       "children": [
        "IPY_MODEL_f45de19d1bdd4210a1bd77f3ace4ee5d",
        "IPY_MODEL_db2edaa1524741989188ee462c3f65c4",
        "IPY_MODEL_35b419d876c64635aec20a06b881988e"
       ],
       "layout": "IPY_MODEL_ec9cf89825e74a0ebc5ecae42e0e04d7"
      }
     },
     "8af398694fcd4932bce618062f8d1057": {
      "model_module": "@jupyter-widgets/controls",
      "model_module_version": "1.5.0",
      "model_name": "DescriptionStyleModel",
      "state": {
       "description_width": ""
      }
     },
     "8b3785390b394bd6b740483877de7bac": {
      "model_module": "@jupyter-widgets/controls",
      "model_module_version": "1.5.0",
      "model_name": "HTMLModel",
      "state": {
       "layout": "IPY_MODEL_09aaef0020ab4724b83ede4ddd190ee5",
       "style": "IPY_MODEL_192184561bd746c3819ed54b10f9f2c8",
       "value": "Sanity Checking DataLoader 0: 100%"
      }
     },
     "8b79a984381d460fb6f02ab0206b3e52": {
      "model_module": "@jupyter-widgets/base",
      "model_module_version": "1.2.0",
      "model_name": "LayoutModel",
      "state": {}
     },
     "8bdbc246957f459cbde703bef9bd8a1e": {
      "model_module": "@jupyter-widgets/base",
      "model_module_version": "1.2.0",
      "model_name": "LayoutModel",
      "state": {}
     },
     "8c0fd2fcdbe348ffb2335f836099a6cf": {
      "model_module": "@jupyter-widgets/controls",
      "model_module_version": "1.5.0",
      "model_name": "ProgressStyleModel",
      "state": {
       "description_width": ""
      }
     },
     "8c17a3c0cf8647e2a35f43b6e63a5049": {
      "model_module": "@jupyter-widgets/base",
      "model_module_version": "1.2.0",
      "model_name": "LayoutModel",
      "state": {
       "flex": "2"
      }
     },
     "8c29854603d44cf7be2670009340682f": {
      "model_module": "@jupyter-widgets/base",
      "model_module_version": "1.2.0",
      "model_name": "LayoutModel",
      "state": {
       "display": "inline-flex",
       "flex_flow": "row wrap",
       "visibility": "hidden",
       "width": "100%"
      }
     },
     "8c5069457d9b4eb5971e0431154a9c2d": {
      "model_module": "@jupyter-widgets/controls",
      "model_module_version": "1.5.0",
      "model_name": "HTMLModel",
      "state": {
       "layout": "IPY_MODEL_2c7ea584ec1e42bc9cf9cca0d02d245e",
       "style": "IPY_MODEL_d0609530dda5465190291ca893d63594",
       "value": "Validation DataLoader 0: 100%"
      }
     },
     "8c5d912ca5ca4a0598dbac3b8e47cb99": {
      "model_module": "@jupyter-widgets/base",
      "model_module_version": "1.2.0",
      "model_name": "LayoutModel",
      "state": {
       "display": "inline-flex",
       "flex_flow": "row wrap",
       "visibility": "hidden",
       "width": "100%"
      }
     },
     "8c69fb37d5ef43309f3c9a7b0efe9d1d": {
      "model_module": "@jupyter-widgets/controls",
      "model_module_version": "1.5.0",
      "model_name": "HTMLModel",
      "state": {
       "layout": "IPY_MODEL_47060c93c9574a228fe4e995a05f5e32",
       "style": "IPY_MODEL_69c02a82ad5345c890c65b5e756c50bf",
       "value": " 12%"
      }
     },
     "8ca52eafa5c349579b9d5bad63c031a5": {
      "model_module": "@jupyter-widgets/base",
      "model_module_version": "1.2.0",
      "model_name": "LayoutModel",
      "state": {
       "display": "inline-flex",
       "flex_flow": "row wrap",
       "visibility": "hidden",
       "width": "100%"
      }
     },
     "8cc45e042cd14bd784a72a2768ff13f2": {
      "model_module": "@jupyter-widgets/controls",
      "model_module_version": "1.5.0",
      "model_name": "FloatProgressModel",
      "state": {
       "bar_style": "danger",
       "layout": "IPY_MODEL_636c1c72aaf844d5bc3a87f39c70270c",
       "max": 8,
       "style": "IPY_MODEL_ad621db394814d76aa0abb3b78a2a2c3"
      }
     },
     "8cf94b079a1f4405bdf1579dd9b2b742": {
      "model_module": "@jupyter-widgets/controls",
      "model_module_version": "1.5.0",
      "model_name": "DescriptionStyleModel",
      "state": {
       "description_width": ""
      }
     },
     "8d04c7d80bee42a5908d9713df70817e": {
      "model_module": "@jupyter-widgets/base",
      "model_module_version": "1.2.0",
      "model_name": "LayoutModel",
      "state": {
       "flex": "2"
      }
     },
     "8d09d15f1eb146f888e02f004f20ec21": {
      "model_module": "@jupyter-widgets/base",
      "model_module_version": "1.2.0",
      "model_name": "LayoutModel",
      "state": {
       "display": "inline-flex",
       "flex_flow": "row wrap",
       "visibility": "hidden",
       "width": "100%"
      }
     },
     "8d1a082b86d2487cb087a64a8a537e1f": {
      "model_module": "@jupyter-widgets/controls",
      "model_module_version": "1.5.0",
      "model_name": "HBoxModel",
      "state": {
       "children": [
        "IPY_MODEL_83cea1229bbd4d8d84ce3a04bf22bdd6",
        "IPY_MODEL_2f571361b2734f86aa0956d0c98dfdf8",
        "IPY_MODEL_1f60c7a5ef3e447780ffd40aeb6e5f2a"
       ],
       "layout": "IPY_MODEL_d6b17fb531d64efe9b3942fa6588175d"
      }
     },
     "8d827b2e93ea4d18896bca5311f406c8": {
      "model_module": "@jupyter-widgets/controls",
      "model_module_version": "1.5.0",
      "model_name": "DescriptionStyleModel",
      "state": {
       "description_width": ""
      }
     },
     "8d97c662cad74283bf2ae6fa284ba368": {
      "model_module": "@jupyter-widgets/controls",
      "model_module_version": "1.5.0",
      "model_name": "FloatProgressModel",
      "state": {
       "bar_style": "success",
       "layout": "IPY_MODEL_0712a1ec2b444a1a89fc683040598765",
       "max": 417,
       "style": "IPY_MODEL_562ee788529646a5aff0c79d681389e9",
       "value": 417
      }
     },
     "8de7b13701ce42169de66c89d57a8cd3": {
      "model_module": "@jupyter-widgets/base",
      "model_module_version": "1.2.0",
      "model_name": "LayoutModel",
      "state": {}
     },
     "8de91a7fd8bc409eb71d502ab8412e8c": {
      "model_module": "@jupyter-widgets/base",
      "model_module_version": "1.2.0",
      "model_name": "LayoutModel",
      "state": {}
     },
     "8df9939e4f074576afeaea6ba5f53615": {
      "model_module": "@jupyter-widgets/controls",
      "model_module_version": "1.5.0",
      "model_name": "FloatProgressModel",
      "state": {
       "layout": "IPY_MODEL_3cbd26c3d8524008b2082ec45942665f",
       "max": 1,
       "style": "IPY_MODEL_7fb5bbaf3c3b4d149c37503e6cf6915c"
      }
     },
     "8e189102c057424b8e169fa385ee7196": {
      "model_module": "@jupyter-widgets/controls",
      "model_module_version": "1.5.0",
      "model_name": "DescriptionStyleModel",
      "state": {
       "description_width": ""
      }
     },
     "8e27a34449444e9bb7f1da27180b404d": {
      "model_module": "@jupyter-widgets/base",
      "model_module_version": "1.2.0",
      "model_name": "LayoutModel",
      "state": {}
     },
     "8e555dfaeb44408caebe7c6143eaa39b": {
      "model_module": "@jupyter-widgets/controls",
      "model_module_version": "1.5.0",
      "model_name": "HBoxModel",
      "state": {
       "children": [
        "IPY_MODEL_84bf0849d4254cc9b92b96387e0fdc6e",
        "IPY_MODEL_22982af20d204116af578d5e5f2b97be",
        "IPY_MODEL_6d57c27fe54c48679aea2417d93dc7aa"
       ],
       "layout": "IPY_MODEL_aaa51ce23dd346bfa1da0a182bba482e"
      }
     },
     "8e6559beeebd43f186c9ddf1474f83ae": {
      "model_module": "@jupyter-widgets/base",
      "model_module_version": "1.2.0",
      "model_name": "LayoutModel",
      "state": {}
     },
     "8e7ae7f4eeb0452bbc93980d96169e28": {
      "model_module": "@jupyter-widgets/base",
      "model_module_version": "1.2.0",
      "model_name": "LayoutModel",
      "state": {}
     },
     "8e8780dcec86449abd8bb1c8b72b1c5f": {
      "model_module": "@jupyter-widgets/base",
      "model_module_version": "1.2.0",
      "model_name": "LayoutModel",
      "state": {}
     },
     "8ea600d034134932b861195d50c712c1": {
      "model_module": "@jupyter-widgets/base",
      "model_module_version": "1.2.0",
      "model_name": "LayoutModel",
      "state": {}
     },
     "8eacd6bb074d40a9a467f2d53d9c3f89": {
      "model_module": "@jupyter-widgets/base",
      "model_module_version": "1.2.0",
      "model_name": "LayoutModel",
      "state": {}
     },
     "8ecfaf45fafd4bec8462f4b9f87bc3f5": {
      "model_module": "@jupyter-widgets/controls",
      "model_module_version": "1.5.0",
      "model_name": "HTMLModel",
      "state": {
       "layout": "IPY_MODEL_0f88828c7ce24a9cbce5391d726d1537",
       "style": "IPY_MODEL_be392efdcfb34b87ab5ff32a73656610",
       "value": "Sanity Checking DataLoader 0: 100%"
      }
     },
     "8f14ef7a6d6847e2b37cfc8444635c47": {
      "model_module": "@jupyter-widgets/controls",
      "model_module_version": "1.5.0",
      "model_name": "FloatProgressModel",
      "state": {
       "layout": "IPY_MODEL_0353509a46cb4925a51b0c9e61da5ab5",
       "max": 191,
       "style": "IPY_MODEL_466e01286eb243c4ae15c9eeee6b35d1",
       "value": 191
      }
     },
     "8f416abcb0824f9fa09b2dbe384fd1df": {
      "model_module": "@jupyter-widgets/controls",
      "model_module_version": "1.5.0",
      "model_name": "ProgressStyleModel",
      "state": {
       "description_width": ""
      }
     },
     "8f53b1b3a36244208039585f6a11c591": {
      "model_module": "@jupyter-widgets/controls",
      "model_module_version": "1.5.0",
      "model_name": "DescriptionStyleModel",
      "state": {
       "description_width": ""
      }
     },
     "8f66810946094d4fbf4efc4c3f9c341b": {
      "model_module": "@jupyter-widgets/base",
      "model_module_version": "1.2.0",
      "model_name": "LayoutModel",
      "state": {}
     },
     "8faec5ad2be84cb892e9b80bef5a324f": {
      "model_module": "@jupyter-widgets/controls",
      "model_module_version": "1.5.0",
      "model_name": "DescriptionStyleModel",
      "state": {
       "description_width": ""
      }
     },
     "8fc65451ab1242adbd374908f3aab7d1": {
      "model_module": "@jupyter-widgets/base",
      "model_module_version": "1.2.0",
      "model_name": "LayoutModel",
      "state": {}
     },
     "8fddb10b4430446988a076046f43349f": {
      "model_module": "@jupyter-widgets/controls",
      "model_module_version": "1.5.0",
      "model_name": "HTMLModel",
      "state": {
       "layout": "IPY_MODEL_a0624c59be4c4f58960e62ee4b709450",
       "style": "IPY_MODEL_b05aa5ad03ce437299db9d40084b779d",
       "value": " 2/2 [00:00&lt;00:00, 10.93it/s]"
      }
     },
     "902d28b9a4514cd5a1babb726a8a7052": {
      "model_module": "@jupyter-widgets/controls",
      "model_module_version": "1.5.0",
      "model_name": "DescriptionStyleModel",
      "state": {
       "description_width": ""
      }
     },
     "90352fe269874435b041b34ba401fb92": {
      "model_module": "@jupyter-widgets/controls",
      "model_module_version": "1.5.0",
      "model_name": "DescriptionStyleModel",
      "state": {
       "description_width": ""
      }
     },
     "90378610eb9047cebc3a0c1ec0dad912": {
      "model_module": "@jupyter-widgets/controls",
      "model_module_version": "1.5.0",
      "model_name": "HBoxModel",
      "state": {
       "children": [
        "IPY_MODEL_126ec0c67e93422b99ce8a83aba50d81",
        "IPY_MODEL_d4cff23bc76841b9b28acecc5507a5d2",
        "IPY_MODEL_af8cdf36813c46da8a6f5b07079816d8"
       ],
       "layout": "IPY_MODEL_8b79a984381d460fb6f02ab0206b3e52"
      }
     },
     "9077069f30664a479e441c4da2dfc53b": {
      "model_module": "@jupyter-widgets/controls",
      "model_module_version": "1.5.0",
      "model_name": "HBoxModel",
      "state": {
       "children": [
        "IPY_MODEL_16a0d5184e444fcaaf97276d24467d48",
        "IPY_MODEL_5cd37bed16834483b78eae7cd6ea1cb5",
        "IPY_MODEL_39a8f6f6708149cd8213ebed5ae158e2"
       ],
       "layout": "IPY_MODEL_76ec3d35c91c41b99712c24665c03893"
      }
     },
     "907b760c00a147feb75ed0964314199d": {
      "model_module": "@jupyter-widgets/base",
      "model_module_version": "1.2.0",
      "model_name": "LayoutModel",
      "state": {
       "flex": "2"
      }
     },
     "90883c28e3cd4ec49c11302d0a074f92": {
      "model_module": "@jupyter-widgets/base",
      "model_module_version": "1.2.0",
      "model_name": "LayoutModel",
      "state": {
       "flex": "2"
      }
     },
     "90b4dcc380cf46889c754f1c143797ed": {
      "model_module": "@jupyter-widgets/base",
      "model_module_version": "1.2.0",
      "model_name": "LayoutModel",
      "state": {}
     },
     "90e3ad13b2a24d2cb31473c81cc14e2a": {
      "model_module": "@jupyter-widgets/base",
      "model_module_version": "1.2.0",
      "model_name": "LayoutModel",
      "state": {
       "display": "inline-flex",
       "flex_flow": "row wrap",
       "visibility": "hidden",
       "width": "100%"
      }
     },
     "90e54e2602a941c4bca2e639865c06db": {
      "model_module": "@jupyter-widgets/controls",
      "model_module_version": "1.5.0",
      "model_name": "HBoxModel",
      "state": {
       "children": [
        "IPY_MODEL_0386a861c9c44cd18dcbe7a901b0cec5",
        "IPY_MODEL_6117d885bb7f41afb373facb1900163d",
        "IPY_MODEL_cb8550714fe94510bd22cf73b4aa97cb"
       ],
       "layout": "IPY_MODEL_e6dcdddb2cbc4c829b4291b74118666e"
      }
     },
     "91181f535ec3406db01bf41426676488": {
      "model_module": "@jupyter-widgets/base",
      "model_module_version": "1.2.0",
      "model_name": "LayoutModel",
      "state": {}
     },
     "9121752ac58d41f3b1169acc35ea7ffb": {
      "model_module": "@jupyter-widgets/base",
      "model_module_version": "1.2.0",
      "model_name": "LayoutModel",
      "state": {
       "flex": "2"
      }
     },
     "9135c4c5fb4c41009f78fdcb7116cedb": {
      "model_module": "@jupyter-widgets/controls",
      "model_module_version": "1.5.0",
      "model_name": "DescriptionStyleModel",
      "state": {
       "description_width": ""
      }
     },
     "91942af6340b4dab8ede7d3b9e95fdd3": {
      "model_module": "@jupyter-widgets/base",
      "model_module_version": "1.2.0",
      "model_name": "LayoutModel",
      "state": {
       "flex": "2"
      }
     },
     "919b5e0a4e7d4dde9a4ce183d6674be0": {
      "model_module": "@jupyter-widgets/controls",
      "model_module_version": "1.5.0",
      "model_name": "HTMLModel",
      "state": {
       "layout": "IPY_MODEL_65b6e970186b4074a98308e02c314bb8",
       "style": "IPY_MODEL_7b104abd5d7d45a99c6e1a298852775a",
       "value": " 2/2 [00:00&lt;00:00,  5.92it/s]"
      }
     },
     "919f7894a4454b6d98978ba24aa2856e": {
      "model_module": "@jupyter-widgets/controls",
      "model_module_version": "1.5.0",
      "model_name": "HTMLModel",
      "state": {
       "layout": "IPY_MODEL_1ac27ce13b0a4433a76ded331ed90168",
       "style": "IPY_MODEL_9524be097caf4e0d90603fb66e2b74fc",
       "value": " 2/2 [00:00&lt;00:00, 13.20it/s]"
      }
     },
     "91dd493aeb154455ba8f36ae9c8bd7b3": {
      "model_module": "@jupyter-widgets/base",
      "model_module_version": "1.2.0",
      "model_name": "LayoutModel",
      "state": {
       "display": "inline-flex",
       "flex_flow": "row wrap",
       "visibility": "hidden",
       "width": "100%"
      }
     },
     "91e42399fa5040578b42dbb448009e79": {
      "model_module": "@jupyter-widgets/base",
      "model_module_version": "1.2.0",
      "model_name": "LayoutModel",
      "state": {}
     },
     "922015f9dd8f4009b6f64132a00f6d27": {
      "model_module": "@jupyter-widgets/controls",
      "model_module_version": "1.5.0",
      "model_name": "DescriptionStyleModel",
      "state": {
       "description_width": ""
      }
     },
     "929c0daa78e04241beee54dca9615e51": {
      "model_module": "@jupyter-widgets/controls",
      "model_module_version": "1.5.0",
      "model_name": "HBoxModel",
      "state": {
       "children": [
        "IPY_MODEL_0a708b9cd028408b844968b9ca37291a",
        "IPY_MODEL_968b431e7d0f4bee9068c7af056336f5",
        "IPY_MODEL_743b76911d024e4c98465bb6b1431608"
       ],
       "layout": "IPY_MODEL_1ef42bf115e145e4a110ca69fe89c60a"
      }
     },
     "92dfcf98e63c44dfa5f31a46f34dc398": {
      "model_module": "@jupyter-widgets/controls",
      "model_module_version": "1.5.0",
      "model_name": "ProgressStyleModel",
      "state": {
       "description_width": ""
      }
     },
     "930199d5df724b46a6e7471a02cdc035": {
      "model_module": "@jupyter-widgets/base",
      "model_module_version": "1.2.0",
      "model_name": "LayoutModel",
      "state": {}
     },
     "931874c891d6431b97162a6864fc0923": {
      "model_module": "@jupyter-widgets/base",
      "model_module_version": "1.2.0",
      "model_name": "LayoutModel",
      "state": {}
     },
     "933eceef760f4635bafb4f009102ecdd": {
      "model_module": "@jupyter-widgets/controls",
      "model_module_version": "1.5.0",
      "model_name": "ProgressStyleModel",
      "state": {
       "description_width": ""
      }
     },
     "9358d19e80ac493f9ed67796b296b317": {
      "model_module": "@jupyter-widgets/controls",
      "model_module_version": "1.5.0",
      "model_name": "DescriptionStyleModel",
      "state": {
       "description_width": ""
      }
     },
     "93765e3cd2f54a30ac9790e0dc1c370e": {
      "model_module": "@jupyter-widgets/base",
      "model_module_version": "1.2.0",
      "model_name": "LayoutModel",
      "state": {}
     },
     "939023954e7c4916b5c74267829f99f9": {
      "model_module": "@jupyter-widgets/base",
      "model_module_version": "1.2.0",
      "model_name": "LayoutModel",
      "state": {}
     },
     "93b15f1f006e411590fe0af9c940c456": {
      "model_module": "@jupyter-widgets/controls",
      "model_module_version": "1.5.0",
      "model_name": "ProgressStyleModel",
      "state": {
       "description_width": ""
      }
     },
     "93b9706e393043d8af6b749904fd1b1c": {
      "model_module": "@jupyter-widgets/base",
      "model_module_version": "1.2.0",
      "model_name": "LayoutModel",
      "state": {
       "display": "inline-flex",
       "flex_flow": "row wrap",
       "visibility": "hidden",
       "width": "100%"
      }
     },
     "93cd8cc45b20450c995bac79d04a2d57": {
      "model_module": "@jupyter-widgets/controls",
      "model_module_version": "1.5.0",
      "model_name": "ProgressStyleModel",
      "state": {
       "description_width": ""
      }
     },
     "93cdd4cd16a048c98b049909888be7e5": {
      "model_module": "@jupyter-widgets/controls",
      "model_module_version": "1.5.0",
      "model_name": "DescriptionStyleModel",
      "state": {
       "description_width": ""
      }
     },
     "93f9af16b2ee406a97095f17892a4988": {
      "model_module": "@jupyter-widgets/base",
      "model_module_version": "1.2.0",
      "model_name": "LayoutModel",
      "state": {
       "display": "inline-flex",
       "flex_flow": "row wrap",
       "visibility": "hidden",
       "width": "100%"
      }
     },
     "9412759296d64bb58dfc4468159801b3": {
      "model_module": "@jupyter-widgets/base",
      "model_module_version": "1.2.0",
      "model_name": "LayoutModel",
      "state": {
       "flex": "2"
      }
     },
     "943c807320c448309eee9f2da6bde1a4": {
      "model_module": "@jupyter-widgets/base",
      "model_module_version": "1.2.0",
      "model_name": "LayoutModel",
      "state": {
       "display": "inline-flex",
       "flex_flow": "row wrap",
       "visibility": "hidden",
       "width": "100%"
      }
     },
     "944a9d507e76461e940ef2359bab012f": {
      "model_module": "@jupyter-widgets/controls",
      "model_module_version": "1.5.0",
      "model_name": "DescriptionStyleModel",
      "state": {
       "description_width": ""
      }
     },
     "944f45e346d646f69eb79e6dc29e52f2": {
      "model_module": "@jupyter-widgets/controls",
      "model_module_version": "1.5.0",
      "model_name": "DescriptionStyleModel",
      "state": {
       "description_width": ""
      }
     },
     "94511e9484d445f0a6c9939f1ac23041": {
      "model_module": "@jupyter-widgets/controls",
      "model_module_version": "1.5.0",
      "model_name": "FloatProgressModel",
      "state": {
       "bar_style": "danger",
       "layout": "IPY_MODEL_2d1dafae48cc428b9ceae148b906c355",
       "max": 1,
       "style": "IPY_MODEL_fffb9417a5c646d6800ace443392e980"
      }
     },
     "9468c58aacb042f98ae7c1b6515a7654": {
      "model_module": "@jupyter-widgets/controls",
      "model_module_version": "1.5.0",
      "model_name": "ProgressStyleModel",
      "state": {
       "description_width": ""
      }
     },
     "946f11d7b03b4a3c94f61f8cb0ff9867": {
      "model_module": "@jupyter-widgets/controls",
      "model_module_version": "1.5.0",
      "model_name": "HTMLModel",
      "state": {
       "layout": "IPY_MODEL_4d5fa231151c4e2ebd9ab6d0574fc2e5",
       "style": "IPY_MODEL_5589e7f303144b4e938f17d1cccb4e02",
       "value": "Sanity Checking DataLoader 0:   0%"
      }
     },
     "94b41964f221465aac65c56073a2fbb6": {
      "model_module": "@jupyter-widgets/controls",
      "model_module_version": "1.5.0",
      "model_name": "DescriptionStyleModel",
      "state": {
       "description_width": ""
      }
     },
     "94f2a1727b3848be842e9aa0d4031fe8": {
      "model_module": "@jupyter-widgets/base",
      "model_module_version": "1.2.0",
      "model_name": "LayoutModel",
      "state": {}
     },
     "9500342358334401aabfafd4236add1b": {
      "model_module": "@jupyter-widgets/controls",
      "model_module_version": "1.5.0",
      "model_name": "DescriptionStyleModel",
      "state": {
       "description_width": ""
      }
     },
     "9524be097caf4e0d90603fb66e2b74fc": {
      "model_module": "@jupyter-widgets/controls",
      "model_module_version": "1.5.0",
      "model_name": "DescriptionStyleModel",
      "state": {
       "description_width": ""
      }
     },
     "952e0d59d22e4372b1c92a745e0c6c23": {
      "model_module": "@jupyter-widgets/base",
      "model_module_version": "1.2.0",
      "model_name": "LayoutModel",
      "state": {
       "flex": "2"
      }
     },
     "952f831746924eea99a183771c0d1ab6": {
      "model_module": "@jupyter-widgets/controls",
      "model_module_version": "1.5.0",
      "model_name": "HTMLModel",
      "state": {
       "layout": "IPY_MODEL_1ce196b5eccb4113bf0a7341848982c1",
       "style": "IPY_MODEL_add0d655eb494a99b8704c78e71a9cdc",
       "value": "100%"
      }
     },
     "954a9028133049429337b87ecc861fcf": {
      "model_module": "@jupyter-widgets/controls",
      "model_module_version": "1.5.0",
      "model_name": "ProgressStyleModel",
      "state": {
       "description_width": ""
      }
     },
     "956a23b5927f4be4b0e9fbc97761047b": {
      "model_module": "@jupyter-widgets/base",
      "model_module_version": "1.2.0",
      "model_name": "LayoutModel",
      "state": {}
     },
     "956e28072cf044ab8768fe1be8fdf22e": {
      "model_module": "@jupyter-widgets/base",
      "model_module_version": "1.2.0",
      "model_name": "LayoutModel",
      "state": {
       "flex": "2"
      }
     },
     "959221b554054c729198393c1295430b": {
      "model_module": "@jupyter-widgets/controls",
      "model_module_version": "1.5.0",
      "model_name": "ProgressStyleModel",
      "state": {
       "description_width": ""
      }
     },
     "95a5680a4f2246b182c6a73e679ff2bf": {
      "model_module": "@jupyter-widgets/controls",
      "model_module_version": "1.5.0",
      "model_name": "ProgressStyleModel",
      "state": {
       "description_width": ""
      }
     },
     "95b5b0f8d5cd4437b1cd327998be215d": {
      "model_module": "@jupyter-widgets/controls",
      "model_module_version": "1.5.0",
      "model_name": "HTMLModel",
      "state": {
       "layout": "IPY_MODEL_62dd2709eafa401498b40601956bb719",
       "style": "IPY_MODEL_83a21734f31e417399bb315a0ff964f8",
       "value": " 191/191 [00:13&lt;00:00, 14.09it/s]"
      }
     },
     "9602772f1a614afb809dc820dfbad3ec": {
      "model_module": "@jupyter-widgets/controls",
      "model_module_version": "1.5.0",
      "model_name": "HTMLModel",
      "state": {
       "layout": "IPY_MODEL_ea2abcbe2cc14db592f8d073f624396b",
       "style": "IPY_MODEL_da41e4bb80ba4ca18e40129ceb04bc42",
       "value": " 3/3 [00:02&lt;00:00,  1.09it/s]"
      }
     },
     "964a54413ed74f8495a494a1534fbc05": {
      "model_module": "@jupyter-widgets/base",
      "model_module_version": "1.2.0",
      "model_name": "LayoutModel",
      "state": {}
     },
     "9658214936984d33bbc4903540cb7339": {
      "model_module": "@jupyter-widgets/controls",
      "model_module_version": "1.5.0",
      "model_name": "DescriptionStyleModel",
      "state": {
       "description_width": ""
      }
     },
     "968b35c9daa845e684a59d1fa24f902c": {
      "model_module": "@jupyter-widgets/controls",
      "model_module_version": "1.5.0",
      "model_name": "HTMLModel",
      "state": {
       "layout": "IPY_MODEL_1ad33839ce124e2e8f75d30b6bff46d5",
       "style": "IPY_MODEL_f098ff1c5e03413d84e4023ee6c36bbe",
       "value": " 191/191 [00:11&lt;00:00, 17.17it/s]"
      }
     },
     "968b431e7d0f4bee9068c7af056336f5": {
      "model_module": "@jupyter-widgets/controls",
      "model_module_version": "1.5.0",
      "model_name": "FloatProgressModel",
      "state": {
       "layout": "IPY_MODEL_0bb91f1c6f5c4fb0a35f1e53ccbb32af",
       "max": 417,
       "style": "IPY_MODEL_48349471a5dc4987b0a2114b259ca353",
       "value": 80
      }
     },
     "96b8e592fa424d1d991d718f8ba3f757": {
      "model_module": "@jupyter-widgets/base",
      "model_module_version": "1.2.0",
      "model_name": "LayoutModel",
      "state": {}
     },
     "9717b12b46c44df08271dc7eb0d493f3": {
      "model_module": "@jupyter-widgets/controls",
      "model_module_version": "1.5.0",
      "model_name": "DescriptionStyleModel",
      "state": {
       "description_width": ""
      }
     },
     "97425bfd39554416a07eedf65a201e2a": {
      "model_module": "@jupyter-widgets/controls",
      "model_module_version": "1.5.0",
      "model_name": "DescriptionStyleModel",
      "state": {
       "description_width": ""
      }
     },
     "975f97db2963445da3a428113fe93c2c": {
      "model_module": "@jupyter-widgets/controls",
      "model_module_version": "1.5.0",
      "model_name": "DescriptionStyleModel",
      "state": {
       "description_width": ""
      }
     },
     "9767d6decc08451fb216cd796cea0f81": {
      "model_module": "@jupyter-widgets/controls",
      "model_module_version": "1.5.0",
      "model_name": "HTMLModel",
      "state": {
       "layout": "IPY_MODEL_095a5f0c48c54fb6b1e05b79507fd7cc",
       "style": "IPY_MODEL_52f2fd9dc2ea46deb3cf48b37a384681",
       "value": " 191/191 [00:10&lt;00:00, 17.56it/s]"
      }
     },
     "9770d7e27ebb46e3a9fbf0434104bf1d": {
      "model_module": "@jupyter-widgets/base",
      "model_module_version": "1.2.0",
      "model_name": "LayoutModel",
      "state": {}
     },
     "97a9af7a83b84d99b8b014e54bca3ed6": {
      "model_module": "@jupyter-widgets/controls",
      "model_module_version": "1.5.0",
      "model_name": "FloatProgressModel",
      "state": {
       "layout": "IPY_MODEL_ceabfd1332304747a31243999ba8dd9d",
       "max": 191,
       "style": "IPY_MODEL_51b6c8b7658e4ed1aec667a2eb5a80b1",
       "value": 191
      }
     },
     "97ce4c76912348348d452bd2852c86c6": {
      "model_module": "@jupyter-widgets/controls",
      "model_module_version": "1.5.0",
      "model_name": "DescriptionStyleModel",
      "state": {
       "description_width": ""
      }
     },
     "981ac1da56944825859ae2d26e5fa3f8": {
      "model_module": "@jupyter-widgets/base",
      "model_module_version": "1.2.0",
      "model_name": "LayoutModel",
      "state": {
       "display": "inline-flex",
       "flex_flow": "row wrap",
       "visibility": "hidden",
       "width": "100%"
      }
     },
     "9826172e2307492983280a5112bcdecd": {
      "model_module": "@jupyter-widgets/base",
      "model_module_version": "1.2.0",
      "model_name": "LayoutModel",
      "state": {
       "flex": "2"
      }
     },
     "9833539f474a4c4798f857ae7e7efe60": {
      "model_module": "@jupyter-widgets/base",
      "model_module_version": "1.2.0",
      "model_name": "LayoutModel",
      "state": {}
     },
     "98517c269bd6454daf14717cf4e6a321": {
      "model_module": "@jupyter-widgets/controls",
      "model_module_version": "1.5.0",
      "model_name": "FloatProgressModel",
      "state": {
       "bar_style": "success",
       "layout": "IPY_MODEL_c0ad72396aad4be0846752c7cd645dbc",
       "max": 417,
       "style": "IPY_MODEL_a8f18e67475a4064b360c0ba8e1719d7",
       "value": 417
      }
     },
     "986d2780e0ab45a6bf6c2639b3b72a2b": {
      "model_module": "@jupyter-widgets/controls",
      "model_module_version": "1.5.0",
      "model_name": "DescriptionStyleModel",
      "state": {
       "description_width": ""
      }
     },
     "98b86965552e4bef9a159e43e70c1a0f": {
      "model_module": "@jupyter-widgets/controls",
      "model_module_version": "1.5.0",
      "model_name": "HTMLModel",
      "state": {
       "layout": "IPY_MODEL_5d217b80e6014f5eb3005609b1e403fb",
       "style": "IPY_MODEL_2fc9d3e62ec8483faaf2fe46e711ec91",
       "value": "Validation DataLoader 0: 100%"
      }
     },
     "98c3c68a942f456483380c4c92dbc42b": {
      "model_module": "@jupyter-widgets/base",
      "model_module_version": "1.2.0",
      "model_name": "LayoutModel",
      "state": {
       "flex": "2"
      }
     },
     "98ddaac9051e4fa98aa11f41789db6ce": {
      "model_module": "@jupyter-widgets/controls",
      "model_module_version": "1.5.0",
      "model_name": "DescriptionStyleModel",
      "state": {
       "description_width": ""
      }
     },
     "98de6b3e675f48e5a3a51af9c503453b": {
      "model_module": "@jupyter-widgets/base",
      "model_module_version": "1.2.0",
      "model_name": "LayoutModel",
      "state": {
       "flex": "2"
      }
     },
     "98e7acec6f1847c0aa899706e5afa963": {
      "model_module": "@jupyter-widgets/base",
      "model_module_version": "1.2.0",
      "model_name": "LayoutModel",
      "state": {}
     },
     "99182b5ed12c4af6adbab7ab2de17716": {
      "model_module": "@jupyter-widgets/base",
      "model_module_version": "1.2.0",
      "model_name": "LayoutModel",
      "state": {
       "display": "inline-flex",
       "flex_flow": "row wrap",
       "visibility": "hidden",
       "width": "100%"
      }
     },
     "992430da89b846ddb3bf4fe93740fb5e": {
      "model_module": "@jupyter-widgets/controls",
      "model_module_version": "1.5.0",
      "model_name": "HTMLModel",
      "state": {
       "layout": "IPY_MODEL_346932861af04dea91f28555c6d2b8f9",
       "style": "IPY_MODEL_64c3def0e73947d781b154284c3f43ed",
       "value": " 191/191 [00:11&lt;00:00, 16.80it/s]"
      }
     },
     "995bba4eb24c4807bafd0906bf2d9702": {
      "model_module": "@jupyter-widgets/controls",
      "model_module_version": "1.5.0",
      "model_name": "DescriptionStyleModel",
      "state": {
       "description_width": ""
      }
     },
     "99643e4567354bfeaa33a92071cef318": {
      "model_module": "@jupyter-widgets/base",
      "model_module_version": "1.2.0",
      "model_name": "LayoutModel",
      "state": {
       "flex": "2"
      }
     },
     "9965f26733244b6db53ce771d48f45aa": {
      "model_module": "@jupyter-widgets/controls",
      "model_module_version": "1.5.0",
      "model_name": "ProgressStyleModel",
      "state": {
       "description_width": ""
      }
     },
     "99c5263799634476a0f14298b41e6b58": {
      "model_module": "@jupyter-widgets/controls",
      "model_module_version": "1.5.0",
      "model_name": "HTMLModel",
      "state": {
       "layout": "IPY_MODEL_53986554a7d94f0bb2f262ed73de3a19",
       "style": "IPY_MODEL_5346a2bd9db6473f9f29f899a8fa9f12",
       "value": " 191/191 [00:10&lt;00:00, 17.95it/s]"
      }
     },
     "99e94afe3c55457790d32c7002f59b8d": {
      "model_module": "@jupyter-widgets/controls",
      "model_module_version": "1.5.0",
      "model_name": "FloatProgressModel",
      "state": {
       "bar_style": "success",
       "layout": "IPY_MODEL_3bdac9c5604a49fc911dbc65cf878eb7",
       "max": 417,
       "style": "IPY_MODEL_bbe17d5866144e95b37546b34f54ef4f",
       "value": 417
      }
     },
     "9a1a2c555ab04c739f27796a9e86805b": {
      "model_module": "@jupyter-widgets/controls",
      "model_module_version": "1.5.0",
      "model_name": "FloatProgressModel",
      "state": {
       "layout": "IPY_MODEL_f94a5d334727401c9bca4f568e1715e5",
       "max": 2,
       "style": "IPY_MODEL_f14b421dd1584cc29f67d99eaf28fe95",
       "value": 2
      }
     },
     "9a1ef66657ab41138a93b262c3e0def4": {
      "model_module": "@jupyter-widgets/base",
      "model_module_version": "1.2.0",
      "model_name": "LayoutModel",
      "state": {}
     },
     "9a53f76cf6b5484e94daf2d78f4afb51": {
      "model_module": "@jupyter-widgets/controls",
      "model_module_version": "1.5.0",
      "model_name": "HBoxModel",
      "state": {
       "children": [
        "IPY_MODEL_8c69fb37d5ef43309f3c9a7b0efe9d1d",
        "IPY_MODEL_e854b0f197f64c6e9b42b9bc8e4fbcc1",
        "IPY_MODEL_aed312b7adf24598918f0d1558a50bf7"
       ],
       "layout": "IPY_MODEL_b6f15188dba64b2eb59119ebff26dd83"
      }
     },
     "9a5d106d6e50473b9982cef7aa790675": {
      "model_module": "@jupyter-widgets/base",
      "model_module_version": "1.2.0",
      "model_name": "LayoutModel",
      "state": {}
     },
     "9ab6a1c607f8462ca5b9ad7ea98ae75d": {
      "model_module": "@jupyter-widgets/controls",
      "model_module_version": "1.5.0",
      "model_name": "DescriptionStyleModel",
      "state": {
       "description_width": ""
      }
     },
     "9abfe991c8b245e4a1c10e089b32bbb7": {
      "model_module": "@jupyter-widgets/controls",
      "model_module_version": "1.5.0",
      "model_name": "HTMLModel",
      "state": {
       "layout": "IPY_MODEL_8ea600d034134932b861195d50c712c1",
       "style": "IPY_MODEL_5e630f22d90b4629938c8033979ebcfd",
       "value": "Sanity Checking DataLoader 0: 100%"
      }
     },
     "9adc3d1873ec45d8a72b21d9c6ecc98f": {
      "model_module": "@jupyter-widgets/base",
      "model_module_version": "1.2.0",
      "model_name": "LayoutModel",
      "state": {
       "display": "inline-flex",
       "flex_flow": "row wrap",
       "visibility": "hidden",
       "width": "100%"
      }
     },
     "9aebe8cc8b854553a387db4d115fff76": {
      "model_module": "@jupyter-widgets/controls",
      "model_module_version": "1.5.0",
      "model_name": "ProgressStyleModel",
      "state": {
       "description_width": ""
      }
     },
     "9afd6b8dbf264379acf1f6235a049d7f": {
      "model_module": "@jupyter-widgets/controls",
      "model_module_version": "1.5.0",
      "model_name": "FloatProgressModel",
      "state": {
       "layout": "IPY_MODEL_72d24db20a8e4548bcebeba7fe9b3ef3",
       "max": 191,
       "style": "IPY_MODEL_6b5ffa28063847f0b5b4b4a83081aeff",
       "value": 191
      }
     },
     "9b0a5a869f614df59a1027a22d4d9e6f": {
      "model_module": "@jupyter-widgets/controls",
      "model_module_version": "1.5.0",
      "model_name": "HTMLModel",
      "state": {
       "layout": "IPY_MODEL_65f0902bd1944fd6be62f71d4d9cb98d",
       "style": "IPY_MODEL_f511db215e9e43429b93af1afde2b4ca",
       "value": "Validation DataLoader 0: 100%"
      }
     },
     "9b1fadbd922e450d8c2412d61d7fbea0": {
      "model_module": "@jupyter-widgets/controls",
      "model_module_version": "1.5.0",
      "model_name": "HTMLModel",
      "state": {
       "layout": "IPY_MODEL_2072486e8c614518bde6ae1ff52c5f9e",
       "style": "IPY_MODEL_658ecbc95a4b4ebc875526d6b7fedd40",
       "value": "Validation DataLoader 0: 100%"
      }
     },
     "9b53f5b466654764abc715cf5fec66f1": {
      "model_module": "@jupyter-widgets/base",
      "model_module_version": "1.2.0",
      "model_name": "LayoutModel",
      "state": {}
     },
     "9b57573fe0234d3e8c4967f833e5503d": {
      "model_module": "@jupyter-widgets/controls",
      "model_module_version": "1.5.0",
      "model_name": "FloatProgressModel",
      "state": {
       "bar_style": "success",
       "layout": "IPY_MODEL_73904bf63f244fe0832612d8bf48c215",
       "max": 417,
       "style": "IPY_MODEL_e12de2e8337f4acc8e30f6ceaa97e745",
       "value": 417
      }
     },
     "9b63f31ee9cc40edaac0ff5aadfcdf0c": {
      "model_module": "@jupyter-widgets/base",
      "model_module_version": "1.2.0",
      "model_name": "LayoutModel",
      "state": {}
     },
     "9b86635c421441a89241f91b249d117b": {
      "model_module": "@jupyter-widgets/controls",
      "model_module_version": "1.5.0",
      "model_name": "HBoxModel",
      "state": {
       "children": [
        "IPY_MODEL_e9e992190f30416196e9b975ff6069ee",
        "IPY_MODEL_0303a8d171b1415ca7cdcb273095b86b",
        "IPY_MODEL_f99c2af48e954de09b274fd5c9d28001"
       ],
       "layout": "IPY_MODEL_cc5999804bac493fb24c9fe715d578aa"
      }
     },
     "9ba63b23e6984f1c896e2a5d6b5106ad": {
      "model_module": "@jupyter-widgets/controls",
      "model_module_version": "1.5.0",
      "model_name": "ProgressStyleModel",
      "state": {
       "description_width": ""
      }
     },
     "9bbd76539c4a4ff9851eff9877e9f68d": {
      "model_module": "@jupyter-widgets/controls",
      "model_module_version": "1.5.0",
      "model_name": "DescriptionStyleModel",
      "state": {
       "description_width": ""
      }
     },
     "9bed0d60cf7b4aae84b841552d218f80": {
      "model_module": "@jupyter-widgets/base",
      "model_module_version": "1.2.0",
      "model_name": "LayoutModel",
      "state": {}
     },
     "9bed7fc411d44e0b99c3951eb93303af": {
      "model_module": "@jupyter-widgets/controls",
      "model_module_version": "1.5.0",
      "model_name": "ProgressStyleModel",
      "state": {
       "description_width": ""
      }
     },
     "9c1f8aa6db0d44e6b55ce1102dc1e003": {
      "model_module": "@jupyter-widgets/controls",
      "model_module_version": "1.5.0",
      "model_name": "HTMLModel",
      "state": {
       "layout": "IPY_MODEL_46c587a6a17240d8b17e22835ca5e07d",
       "style": "IPY_MODEL_9bbd76539c4a4ff9851eff9877e9f68d",
       "value": "Sanity Checking DataLoader 0: 100%"
      }
     },
     "9c265648fd1e455daa1cdd14d4136f19": {
      "model_module": "@jupyter-widgets/controls",
      "model_module_version": "1.5.0",
      "model_name": "HBoxModel",
      "state": {
       "children": [
        "IPY_MODEL_f9b710dfd00444f1894d8ee22b3040bf",
        "IPY_MODEL_b59f9bf66e8448f2a3b755aaba2b0de6",
        "IPY_MODEL_f5753c4e15ed45bc92e410772a41f520"
       ],
       "layout": "IPY_MODEL_7b1a2c2668c4498ba34f279381f2002a"
      }
     },
     "9c35c752b4724eb5bf559558c1a6e0c1": {
      "model_module": "@jupyter-widgets/base",
      "model_module_version": "1.2.0",
      "model_name": "LayoutModel",
      "state": {}
     },
     "9c4372d88e8541f9b3c533b7d56ce78b": {
      "model_module": "@jupyter-widgets/base",
      "model_module_version": "1.2.0",
      "model_name": "LayoutModel",
      "state": {}
     },
     "9c83f18cf74d49ff8b64f63da4315377": {
      "model_module": "@jupyter-widgets/controls",
      "model_module_version": "1.5.0",
      "model_name": "DescriptionStyleModel",
      "state": {
       "description_width": ""
      }
     },
     "9ca1faef8c86419da4ee7ced7ee2f6dd": {
      "model_module": "@jupyter-widgets/controls",
      "model_module_version": "1.5.0",
      "model_name": "HTMLModel",
      "state": {
       "layout": "IPY_MODEL_ab8c5ea3a9094578a15fdaeae2f447da",
       "style": "IPY_MODEL_45e725cffe1e4378aad87b71870d749f",
       "value": "Validation DataLoader 0: 100%"
      }
     },
     "9cbe51e7121b4cec9c0dc258ebd471da": {
      "model_module": "@jupyter-widgets/controls",
      "model_module_version": "1.5.0",
      "model_name": "HTMLModel",
      "state": {
       "layout": "IPY_MODEL_88676d06f08d4a94a6c35affd8613ff9",
       "style": "IPY_MODEL_6737954d26dc4ee8b135a031f665a6b0",
       "value": " 417/417 [01:06&lt;00:00,  6.26it/s, v_num=x13x, seq_len=121.0, y=0.0211, valid/AUROC=0.825]"
      }
     },
     "9cf8995edf17442abcc20de149a18b1e": {
      "model_module": "@jupyter-widgets/base",
      "model_module_version": "1.2.0",
      "model_name": "LayoutModel",
      "state": {}
     },
     "9d31bc7fac9b434b97f9e53ae84e1895": {
      "model_module": "@jupyter-widgets/controls",
      "model_module_version": "1.5.0",
      "model_name": "HTMLModel",
      "state": {
       "layout": "IPY_MODEL_5f63894fba1e4a408e1802449676b184",
       "style": "IPY_MODEL_06b4275f2bdc4c3f9f38c09d40238b1d",
       "value": "Validation DataLoader 0: 100%"
      }
     },
     "9d70d34052ef4d7b98a59bc980156888": {
      "model_module": "@jupyter-widgets/base",
      "model_module_version": "1.2.0",
      "model_name": "LayoutModel",
      "state": {}
     },
     "9de907f9125549958567e203af1b4a63": {
      "model_module": "@jupyter-widgets/controls",
      "model_module_version": "1.5.0",
      "model_name": "HTMLModel",
      "state": {
       "layout": "IPY_MODEL_3907986af8704ff5a82d48b5a59930ba",
       "style": "IPY_MODEL_16474fdc3d0c4c89bc0bf516b886e381",
       "value": " 2/2 [00:00&lt;00:00, 15.27it/s]"
      }
     },
     "9e10be2dea4541f293c3bee65cb808f9": {
      "model_module": "@jupyter-widgets/controls",
      "model_module_version": "1.5.0",
      "model_name": "HTMLModel",
      "state": {
       "layout": "IPY_MODEL_65204ca8f1bb4289958e5532bcf4c38b",
       "style": "IPY_MODEL_2136ac75f10a416a8e059d3ad31bee5c",
       "value": "  0%"
      }
     },
     "9e3ca45584ba4eb191384cd90093cc6e": {
      "model_module": "@jupyter-widgets/base",
      "model_module_version": "1.2.0",
      "model_name": "LayoutModel",
      "state": {}
     },
     "9e7ab39a43d849faa9f1d567df7c1b2a": {
      "model_module": "@jupyter-widgets/controls",
      "model_module_version": "1.5.0",
      "model_name": "DescriptionStyleModel",
      "state": {
       "description_width": ""
      }
     },
     "9eda4c2aef4645afbacd32f2dcd70318": {
      "model_module": "@jupyter-widgets/controls",
      "model_module_version": "1.5.0",
      "model_name": "DescriptionStyleModel",
      "state": {
       "description_width": ""
      }
     },
     "9edc50ec80f04b3db36fe9fa60174e5b": {
      "model_module": "@jupyter-widgets/controls",
      "model_module_version": "1.5.0",
      "model_name": "HBoxModel",
      "state": {
       "children": [
        "IPY_MODEL_b9dee8fcc2f345fca4f181aa4d5edbf7",
        "IPY_MODEL_5e36499b9e85428aa460230fdafb78e7",
        "IPY_MODEL_9602772f1a614afb809dc820dfbad3ec"
       ],
       "layout": "IPY_MODEL_041586b45d064038b448c640f90d443b"
      }
     },
     "9f18ae5bc67246148d473748ad714990": {
      "model_module": "@jupyter-widgets/base",
      "model_module_version": "1.2.0",
      "model_name": "LayoutModel",
      "state": {
       "flex": "2"
      }
     },
     "9f322125948445b3aa5ad609c0896d5d": {
      "model_module": "@jupyter-widgets/controls",
      "model_module_version": "1.5.0",
      "model_name": "DescriptionStyleModel",
      "state": {
       "description_width": ""
      }
     },
     "9f673a0c0b1743eebf5e72e19c67076a": {
      "model_module": "@jupyter-widgets/base",
      "model_module_version": "1.2.0",
      "model_name": "LayoutModel",
      "state": {}
     },
     "9f6adf20b8e24eb684257e0d1d6b0c3a": {
      "model_module": "@jupyter-widgets/base",
      "model_module_version": "1.2.0",
      "model_name": "LayoutModel",
      "state": {
       "display": "inline-flex",
       "flex_flow": "row wrap",
       "visibility": "hidden",
       "width": "100%"
      }
     },
     "9fb2165180914514899d16a4b4b736e6": {
      "model_module": "@jupyter-widgets/base",
      "model_module_version": "1.2.0",
      "model_name": "LayoutModel",
      "state": {
       "flex": "2"
      }
     },
     "9fbcb5c2e0e04515b239b5f80b448803": {
      "model_module": "@jupyter-widgets/controls",
      "model_module_version": "1.5.0",
      "model_name": "HTMLModel",
      "state": {
       "layout": "IPY_MODEL_25ec1d10a629411ea7574c9feda72f4f",
       "style": "IPY_MODEL_f628d693a7a345749cb7f0e1b9ad4c50",
       "value": " 191/191 [00:10&lt;00:00, 18.04it/s]"
      }
     },
     "9fd60a73474142ccbb8696f76b9e0f16": {
      "model_module": "@jupyter-widgets/controls",
      "model_module_version": "1.5.0",
      "model_name": "ProgressStyleModel",
      "state": {
       "description_width": ""
      }
     },
     "a0238a423d874c73942a7d83164e1d0a": {
      "model_module": "@jupyter-widgets/base",
      "model_module_version": "1.2.0",
      "model_name": "LayoutModel",
      "state": {
       "flex": "2"
      }
     },
     "a047c88404f34a55a6e35002f0144c81": {
      "model_module": "@jupyter-widgets/controls",
      "model_module_version": "1.5.0",
      "model_name": "ProgressStyleModel",
      "state": {
       "description_width": ""
      }
     },
     "a0624c59be4c4f58960e62ee4b709450": {
      "model_module": "@jupyter-widgets/base",
      "model_module_version": "1.2.0",
      "model_name": "LayoutModel",
      "state": {}
     },
     "a07cfa17eade477a9cb7449f964ab035": {
      "model_module": "@jupyter-widgets/base",
      "model_module_version": "1.2.0",
      "model_name": "LayoutModel",
      "state": {
       "flex": "2"
      }
     },
     "a0a44e1a09e4444bbbfd6c3abbbea611": {
      "model_module": "@jupyter-widgets/base",
      "model_module_version": "1.2.0",
      "model_name": "LayoutModel",
      "state": {
       "flex": "2"
      }
     },
     "a0a57a1f11de4e2681c852db242ba3b8": {
      "model_module": "@jupyter-widgets/controls",
      "model_module_version": "1.5.0",
      "model_name": "ProgressStyleModel",
      "state": {
       "description_width": ""
      }
     },
     "a0b2d391373b415194c9e8fedbf69f82": {
      "model_module": "@jupyter-widgets/base",
      "model_module_version": "1.2.0",
      "model_name": "LayoutModel",
      "state": {}
     },
     "a0f7af20de3f4332bbe744a1a51ad2e4": {
      "model_module": "@jupyter-widgets/base",
      "model_module_version": "1.2.0",
      "model_name": "LayoutModel",
      "state": {}
     },
     "a10fafc134b14579944f402613632daf": {
      "model_module": "@jupyter-widgets/controls",
      "model_module_version": "1.5.0",
      "model_name": "HTMLModel",
      "state": {
       "layout": "IPY_MODEL_e354b6af9fd84aefa29e8303ed4fa26f",
       "style": "IPY_MODEL_7c27db010bde4a3a9c657889724de49e",
       "value": " 417/417 [00:56&lt;00:00,  7.38it/s, v_num=x13x, seq_len=104.0, y=0.0166, valid/AUROC=0.804]"
      }
     },
     "a1141339578449d1861897f7365aa334": {
      "model_module": "@jupyter-widgets/controls",
      "model_module_version": "1.5.0",
      "model_name": "HTMLModel",
      "state": {
       "layout": "IPY_MODEL_c9a5637dfa3c4752ae201f9840d8a51d",
       "style": "IPY_MODEL_e94bb66bf4ba4b3c8818a034aef36358",
       "value": " 2/8 [04:20&lt;08:45, 87.57s/it]"
      }
     },
     "a13e848b035b44e0aaa3d32e03747158": {
      "model_module": "@jupyter-widgets/base",
      "model_module_version": "1.2.0",
      "model_name": "LayoutModel",
      "state": {}
     },
     "a16ab0b3c4794a2b9a88cd9527647402": {
      "model_module": "@jupyter-widgets/controls",
      "model_module_version": "1.5.0",
      "model_name": "HTMLModel",
      "state": {
       "layout": "IPY_MODEL_956a23b5927f4be4b0e9fbc97761047b",
       "style": "IPY_MODEL_63cc5ed9cb6846f18ab7f277b2f7d8eb",
       "value": " 191/191 [00:11&lt;00:00, 16.82it/s]"
      }
     },
     "a16d2dccdf114613b878feb9d2164e13": {
      "model_module": "@jupyter-widgets/controls",
      "model_module_version": "1.5.0",
      "model_name": "HTMLModel",
      "state": {
       "layout": "IPY_MODEL_f7bc6d3173f74af180caa0273ebcf8c2",
       "style": "IPY_MODEL_ebbc6451abe846e68ac725e036913d81",
       "value": "Validation DataLoader 0: 100%"
      }
     },
     "a16f465c1c8948b9892e8fc30a6a353d": {
      "model_module": "@jupyter-widgets/controls",
      "model_module_version": "1.5.0",
      "model_name": "DescriptionStyleModel",
      "state": {
       "description_width": ""
      }
     },
     "a170fc2fcd8244e68f60495cf0f085e2": {
      "model_module": "@jupyter-widgets/base",
      "model_module_version": "1.2.0",
      "model_name": "LayoutModel",
      "state": {
       "flex": "2"
      }
     },
     "a18f8975f76f4a86a1f9774520243f57": {
      "model_module": "@jupyter-widgets/controls",
      "model_module_version": "1.5.0",
      "model_name": "DescriptionStyleModel",
      "state": {
       "description_width": ""
      }
     },
     "a1e04b0ed5194e0294334a18d1c28e8b": {
      "model_module": "@jupyter-widgets/controls",
      "model_module_version": "1.5.0",
      "model_name": "HTMLModel",
      "state": {
       "layout": "IPY_MODEL_54e309bf720c42b1815343107053bb35",
       "style": "IPY_MODEL_e6330d3786584f2fad821e6e86ebd474",
       "value": "Sanity Checking DataLoader 0: 100%"
      }
     },
     "a2147e727e7a472c9cefaa7801aff1bf": {
      "model_module": "@jupyter-widgets/controls",
      "model_module_version": "1.5.0",
      "model_name": "HTMLModel",
      "state": {
       "layout": "IPY_MODEL_313a206d5a0b4518855dafa7dc9944f9",
       "style": "IPY_MODEL_9f322125948445b3aa5ad609c0896d5d",
       "value": "Validation DataLoader 0: 100%"
      }
     },
     "a25f89fbc01c4ab488b39eb6f93d3467": {
      "model_module": "@jupyter-widgets/controls",
      "model_module_version": "1.5.0",
      "model_name": "ProgressStyleModel",
      "state": {
       "description_width": ""
      }
     },
     "a2bf1050e60347c894dd6e32d640cf57": {
      "model_module": "@jupyter-widgets/controls",
      "model_module_version": "1.5.0",
      "model_name": "DescriptionStyleModel",
      "state": {
       "description_width": ""
      }
     },
     "a2dfe363f5a34a2f9306884ba7190a96": {
      "model_module": "@jupyter-widgets/controls",
      "model_module_version": "1.5.0",
      "model_name": "HTMLModel",
      "state": {
       "layout": "IPY_MODEL_c1a279ef841c4ee58032dd36b65b6781",
       "style": "IPY_MODEL_099d90f7aedf47e5ab1a4211c86315f1",
       "value": "100%"
      }
     },
     "a312e91b26314f48bfa252542efee5b7": {
      "model_module": "@jupyter-widgets/controls",
      "model_module_version": "1.5.0",
      "model_name": "HTMLModel",
      "state": {
       "layout": "IPY_MODEL_62c2fd2eeff94d1aabc6ffec3a3806fc",
       "style": "IPY_MODEL_d810011fab9a4ab6be13f82f55af825e",
       "value": "  0%"
      }
     },
     "a38d669a6696407590063f4714e1c71b": {
      "model_module": "@jupyter-widgets/controls",
      "model_module_version": "1.5.0",
      "model_name": "ProgressStyleModel",
      "state": {
       "description_width": ""
      }
     },
     "a39b5d457746431c90a0e4e3faba14c1": {
      "model_module": "@jupyter-widgets/base",
      "model_module_version": "1.2.0",
      "model_name": "LayoutModel",
      "state": {}
     },
     "a3cc6c95397a46f28a8584e042268bd7": {
      "model_module": "@jupyter-widgets/controls",
      "model_module_version": "1.5.0",
      "model_name": "DescriptionStyleModel",
      "state": {
       "description_width": ""
      }
     },
     "a3da5dfe7c9e43e99abe74b8f8c403cd": {
      "model_module": "@jupyter-widgets/base",
      "model_module_version": "1.2.0",
      "model_name": "LayoutModel",
      "state": {
       "flex": "2"
      }
     },
     "a3e745a2cce84b6e80ab8490eefd5019": {
      "model_module": "@jupyter-widgets/controls",
      "model_module_version": "1.5.0",
      "model_name": "HTMLModel",
      "state": {
       "layout": "IPY_MODEL_d5deb4ee20404f5c975a7c15c86ccf6c",
       "style": "IPY_MODEL_687c61338544484f820a28cae648c57d",
       "value": "Sanity Checking DataLoader 0: 100%"
      }
     },
     "a41691e571a0427cbd289b5b7917fa0a": {
      "model_module": "@jupyter-widgets/base",
      "model_module_version": "1.2.0",
      "model_name": "LayoutModel",
      "state": {}
     },
     "a43558ccb3b9485db576bbc5fe3eef04": {
      "model_module": "@jupyter-widgets/base",
      "model_module_version": "1.2.0",
      "model_name": "LayoutModel",
      "state": {
       "flex": "2"
      }
     },
     "a4794fdbd9af4c2b963831d46cb9e7dc": {
      "model_module": "@jupyter-widgets/controls",
      "model_module_version": "1.5.0",
      "model_name": "DescriptionStyleModel",
      "state": {
       "description_width": ""
      }
     },
     "a49dd29554e8408aaaae04e90c331863": {
      "model_module": "@jupyter-widgets/controls",
      "model_module_version": "1.5.0",
      "model_name": "HTMLModel",
      "state": {
       "layout": "IPY_MODEL_bba3ee12870e4f29a55a074b7375c0fa",
       "style": "IPY_MODEL_7dc500bdca7a4ac28afa5820b15e57ad",
       "value": " 191/191 [00:11&lt;00:00, 16.95it/s]"
      }
     },
     "a4b617d5691c4dcda28a98d547feeed1": {
      "model_module": "@jupyter-widgets/base",
      "model_module_version": "1.2.0",
      "model_name": "LayoutModel",
      "state": {}
     },
     "a4f607eef11e46368fbd2d8c2f3ec1f1": {
      "model_module": "@jupyter-widgets/base",
      "model_module_version": "1.2.0",
      "model_name": "LayoutModel",
      "state": {
       "flex": "2"
      }
     },
     "a518c8da16684016a02f6ed9de9562cb": {
      "model_module": "@jupyter-widgets/controls",
      "model_module_version": "1.5.0",
      "model_name": "FloatProgressModel",
      "state": {
       "layout": "IPY_MODEL_050ee188dc41463588eae58ce1ecad3e",
       "max": 191,
       "style": "IPY_MODEL_d3dbb60925eb438e8a5f0b813afb6dc0",
       "value": 191
      }
     },
     "a523a6e3a9454ee493a7af6af380d99a": {
      "model_module": "@jupyter-widgets/base",
      "model_module_version": "1.2.0",
      "model_name": "LayoutModel",
      "state": {}
     },
     "a5494167d08547cb9a0f7c1597fb8edb": {
      "model_module": "@jupyter-widgets/base",
      "model_module_version": "1.2.0",
      "model_name": "LayoutModel",
      "state": {
       "flex": "2"
      }
     },
     "a57630ceb778474da49ff8ed361867b8": {
      "model_module": "@jupyter-widgets/base",
      "model_module_version": "1.2.0",
      "model_name": "LayoutModel",
      "state": {
       "flex": "2"
      }
     },
     "a585842283824519875834cb84e26c49": {
      "model_module": "@jupyter-widgets/base",
      "model_module_version": "1.2.0",
      "model_name": "LayoutModel",
      "state": {}
     },
     "a595410bbe76471ca5a6a51f003cecda": {
      "model_module": "@jupyter-widgets/controls",
      "model_module_version": "1.5.0",
      "model_name": "DescriptionStyleModel",
      "state": {
       "description_width": ""
      }
     },
     "a59862927d624d41be5610cea3bd54aa": {
      "model_module": "@jupyter-widgets/base",
      "model_module_version": "1.2.0",
      "model_name": "LayoutModel",
      "state": {
       "display": "inline-flex",
       "flex_flow": "row wrap",
       "visibility": "hidden",
       "width": "100%"
      }
     },
     "a5db6cb03561406aa9bd5df98f8344e2": {
      "model_module": "@jupyter-widgets/controls",
      "model_module_version": "1.5.0",
      "model_name": "HBoxModel",
      "state": {
       "children": [
        "IPY_MODEL_1919e4cdad5e48568410e861bb06f83a",
        "IPY_MODEL_631303ae2edc4407ab208d406a58243e",
        "IPY_MODEL_6c84395870dc4aed8f1e5a6087679490"
       ],
       "layout": "IPY_MODEL_bf94c2ec4a3447dba0b8142448eafc25"
      }
     },
     "a5ddaf2537924a5786e4d93600476537": {
      "model_module": "@jupyter-widgets/controls",
      "model_module_version": "1.5.0",
      "model_name": "HTMLModel",
      "state": {
       "layout": "IPY_MODEL_228cf11339b34a14b51a437477093ed6",
       "style": "IPY_MODEL_de43a7576a8048adbc2cef84eb8976cc",
       "value": "Validation DataLoader 0: 100%"
      }
     },
     "a5f4306949b24bd3a551ae5f0be89029": {
      "model_module": "@jupyter-widgets/controls",
      "model_module_version": "1.5.0",
      "model_name": "HBoxModel",
      "state": {
       "children": [
        "IPY_MODEL_a9fe3854aedd46a69983ae47a1b6650e",
        "IPY_MODEL_35c7d73519de4035bb2102d24149c9a9",
        "IPY_MODEL_e042c7ff194a4d698f91fc9d2ba5b86f"
       ],
       "layout": "IPY_MODEL_c70e1faa7c754a7e850d2d1583816074"
      }
     },
     "a5f666082a8944c2aba5c633f3290504": {
      "model_module": "@jupyter-widgets/controls",
      "model_module_version": "1.5.0",
      "model_name": "FloatProgressModel",
      "state": {
       "layout": "IPY_MODEL_213fb845192b456e8233d253fa343d5c",
       "max": 1,
       "style": "IPY_MODEL_4d7b35a882e5450a8900476502f1ccdc"
      }
     },
     "a6a2ceb0758743bdbc3510f055c2cde1": {
      "model_module": "@jupyter-widgets/controls",
      "model_module_version": "1.5.0",
      "model_name": "FloatProgressModel",
      "state": {
       "layout": "IPY_MODEL_429153a679e54cbb81acf4800bd900e9",
       "max": 191,
       "style": "IPY_MODEL_88bb57665cf4440b9b2355f152a49bd3",
       "value": 191
      }
     },
     "a6a69f732d3d47dead7b300cf142da8d": {
      "model_module": "@jupyter-widgets/controls",
      "model_module_version": "1.5.0",
      "model_name": "HTMLModel",
      "state": {
       "layout": "IPY_MODEL_ee5871de631547579a4d860e52a6468a",
       "style": "IPY_MODEL_5e833b60a4a04a41a2d064069ae36662",
       "value": " 417/417 [00:35&lt;00:00, 11.89it/s, v_num=dla8, seq_len=1.550, y=0.0166, valid/AUROC=0.531]"
      }
     },
     "a6c448e956a54b28b9384e6236f0fa21": {
      "model_module": "@jupyter-widgets/controls",
      "model_module_version": "1.5.0",
      "model_name": "HTMLModel",
      "state": {
       "layout": "IPY_MODEL_5365fa9f92b94189974b7e636c721a4a",
       "style": "IPY_MODEL_fc21f735d3c64ba3ad6f7558a1eaf064",
       "value": " 417/417 [00:58&lt;00:00,  7.13it/s, v_num=x13x, seq_len=110.0, y=0.0127, valid/AUROC=0.818]"
      }
     },
     "a73a5019e16c427f9c9677e3de83d706": {
      "model_module": "@jupyter-widgets/base",
      "model_module_version": "1.2.0",
      "model_name": "LayoutModel",
      "state": {
       "flex": "2"
      }
     },
     "a7692b906ecc41a6992c3b36a81c35e8": {
      "model_module": "@jupyter-widgets/controls",
      "model_module_version": "1.5.0",
      "model_name": "HTMLModel",
      "state": {
       "layout": "IPY_MODEL_39f6736de53f4c5b8190aac339166312",
       "style": "IPY_MODEL_5915182a0b0540a3b54afb6314f76d98",
       "value": "Sanity Checking DataLoader 0: 100%"
      }
     },
     "a799787153524dd69a759beb9a5811df": {
      "model_module": "@jupyter-widgets/base",
      "model_module_version": "1.2.0",
      "model_name": "LayoutModel",
      "state": {
       "display": "inline-flex",
       "flex_flow": "row wrap",
       "visibility": "hidden",
       "width": "100%"
      }
     },
     "a7bcc42d4d4e44f298d814f335403260": {
      "model_module": "@jupyter-widgets/base",
      "model_module_version": "1.2.0",
      "model_name": "LayoutModel",
      "state": {}
     },
     "a7ff10c6413c483dbf39dc9204482629": {
      "model_module": "@jupyter-widgets/controls",
      "model_module_version": "1.5.0",
      "model_name": "FloatProgressModel",
      "state": {
       "layout": "IPY_MODEL_0fe0a777a3d04dbb9f3b633db33736ca",
       "max": 191,
       "style": "IPY_MODEL_9bed7fc411d44e0b99c3951eb93303af",
       "value": 191
      }
     },
     "a8080d2f4d984b0e9def8ccc563bdf0d": {
      "model_module": "@jupyter-widgets/controls",
      "model_module_version": "1.5.0",
      "model_name": "DescriptionStyleModel",
      "state": {
       "description_width": ""
      }
     },
     "a81dbbe10fcc451799e3667c2b485eec": {
      "model_module": "@jupyter-widgets/controls",
      "model_module_version": "1.5.0",
      "model_name": "FloatProgressModel",
      "state": {
       "layout": "IPY_MODEL_a170fc2fcd8244e68f60495cf0f085e2",
       "max": 191,
       "style": "IPY_MODEL_8c0fd2fcdbe348ffb2335f836099a6cf",
       "value": 191
      }
     },
     "a8555d742b3d412d80f38072ae6ee49d": {
      "model_module": "@jupyter-widgets/base",
      "model_module_version": "1.2.0",
      "model_name": "LayoutModel",
      "state": {}
     },
     "a864df3f9c6b40d48f21a2dce8f927a7": {
      "model_module": "@jupyter-widgets/controls",
      "model_module_version": "1.5.0",
      "model_name": "HTMLModel",
      "state": {
       "layout": "IPY_MODEL_fa65fde78d6e46f19631e28db29cb6bc",
       "style": "IPY_MODEL_dd7b2b66f779486f917747d1fcf69b00",
       "value": "Sanity Checking DataLoader 0: 100%"
      }
     },
     "a87454b9100946778da680dd5358430c": {
      "model_module": "@jupyter-widgets/base",
      "model_module_version": "1.2.0",
      "model_name": "LayoutModel",
      "state": {}
     },
     "a8753b5f93c54a80bc62da7392428df4": {
      "model_module": "@jupyter-widgets/base",
      "model_module_version": "1.2.0",
      "model_name": "LayoutModel",
      "state": {
       "display": "inline-flex",
       "flex_flow": "row wrap",
       "visibility": "hidden",
       "width": "100%"
      }
     },
     "a895469a3a2d49349078529f1069a385": {
      "model_module": "@jupyter-widgets/controls",
      "model_module_version": "1.5.0",
      "model_name": "DescriptionStyleModel",
      "state": {
       "description_width": ""
      }
     },
     "a8e63eaad69643f3a61dca330e3d9cc1": {
      "model_module": "@jupyter-widgets/base",
      "model_module_version": "1.2.0",
      "model_name": "LayoutModel",
      "state": {}
     },
     "a8ecd6650ded42e08c80708c4b9dc1e8": {
      "model_module": "@jupyter-widgets/controls",
      "model_module_version": "1.5.0",
      "model_name": "HTMLModel",
      "state": {
       "layout": "IPY_MODEL_1d8cc2c846fd4f16a6669ae8710dfa95",
       "style": "IPY_MODEL_bc78cb370713415a9d3e8b37768c608f",
       "value": " 2/2 [00:00&lt;00:00,  5.74it/s]"
      }
     },
     "a8f18e67475a4064b360c0ba8e1719d7": {
      "model_module": "@jupyter-widgets/controls",
      "model_module_version": "1.5.0",
      "model_name": "ProgressStyleModel",
      "state": {
       "description_width": ""
      }
     },
     "a95ceff74a494d09977e5497a23c461e": {
      "model_module": "@jupyter-widgets/controls",
      "model_module_version": "1.5.0",
      "model_name": "HTMLModel",
      "state": {
       "layout": "IPY_MODEL_565847ad33a947b3b592da2ba471e26a",
       "style": "IPY_MODEL_e344fb37c9ba47d48dded8de96219740",
       "value": " 191/191 [00:11&lt;00:00, 17.30it/s]"
      }
     },
     "a99faff87cdf490bb55f24b759628ded": {
      "model_module": "@jupyter-widgets/controls",
      "model_module_version": "1.5.0",
      "model_name": "HTMLModel",
      "state": {
       "layout": "IPY_MODEL_1d32ae0b3f834344a8ac6adc4b778616",
       "style": "IPY_MODEL_25d4cab4eedd4289a8ed4d8a00b31a22",
       "value": " 3/3 [00:02&lt;00:00,  1.04it/s]"
      }
     },
     "a9cf49f26adf4dbe84bf981c98760a70": {
      "model_module": "@jupyter-widgets/controls",
      "model_module_version": "1.5.0",
      "model_name": "HTMLModel",
      "state": {
       "layout": "IPY_MODEL_d35a1685a90d4b3099ac9c47d00c9a7b",
       "style": "IPY_MODEL_28ed0a135aa847f188c6a02791bf06ac",
       "value": "Epoch 1: 100%"
      }
     },
     "a9dd267b8649428db1811f66791271a6": {
      "model_module": "@jupyter-widgets/controls",
      "model_module_version": "1.5.0",
      "model_name": "VBoxModel",
      "state": {
       "children": [
        "IPY_MODEL_7194c5efecfe40c1b31ac0e261ea4ce4",
        "IPY_MODEL_33f88ca151dd440a910f696cb13f956e"
       ],
       "layout": "IPY_MODEL_1f905d656834495baf457095ad039482"
      }
     },
     "a9fe3854aedd46a69983ae47a1b6650e": {
      "model_module": "@jupyter-widgets/controls",
      "model_module_version": "1.5.0",
      "model_name": "HTMLModel",
      "state": {
       "layout": "IPY_MODEL_06bb4119deaf4a63bd1474401eb7cfeb",
       "style": "IPY_MODEL_7c3781255e3f4f9a85db4249b0d7f4fe",
       "value": "Epoch 1: 100%"
      }
     },
     "aa03ad0df2374479ae92d059462163f9": {
      "model_module": "@jupyter-widgets/controls",
      "model_module_version": "1.5.0",
      "model_name": "FloatProgressModel",
      "state": {
       "layout": "IPY_MODEL_42d7830accd64042b6c6fd733d4de746",
       "max": 2,
       "style": "IPY_MODEL_7f9bbbb140fe4691a2492c1c5d8a21d2",
       "value": 2
      }
     },
     "aa18f23ea64c4d0ba56957a275293713": {
      "model_module": "@jupyter-widgets/base",
      "model_module_version": "1.2.0",
      "model_name": "LayoutModel",
      "state": {}
     },
     "aa1afc134c734003a07d1b69d2a2e561": {
      "model_module": "@jupyter-widgets/base",
      "model_module_version": "1.2.0",
      "model_name": "LayoutModel",
      "state": {}
     },
     "aa496b12cbdc4a6da13281c018c67392": {
      "model_module": "@jupyter-widgets/controls",
      "model_module_version": "1.5.0",
      "model_name": "HTMLModel",
      "state": {
       "layout": "IPY_MODEL_6b6801763ffa42cabbd4a24982fc8a43",
       "style": "IPY_MODEL_aa669e532be241c2850614056c015733",
       "value": "  0%"
      }
     },
     "aa669e532be241c2850614056c015733": {
      "model_module": "@jupyter-widgets/controls",
      "model_module_version": "1.5.0",
      "model_name": "DescriptionStyleModel",
      "state": {
       "description_width": ""
      }
     },
     "aa927956ad6143e3a5f41272251d2f0c": {
      "model_module": "@jupyter-widgets/base",
      "model_module_version": "1.2.0",
      "model_name": "LayoutModel",
      "state": {}
     },
     "aaa51ce23dd346bfa1da0a182bba482e": {
      "model_module": "@jupyter-widgets/base",
      "model_module_version": "1.2.0",
      "model_name": "LayoutModel",
      "state": {
       "display": "inline-flex",
       "flex_flow": "row wrap",
       "width": "100%"
      }
     },
     "aaa59a51f47444cda5b3feb559f1d31c": {
      "model_module": "@jupyter-widgets/controls",
      "model_module_version": "1.5.0",
      "model_name": "HBoxModel",
      "state": {
       "children": [
        "IPY_MODEL_00a9db0e7a2740489c649722493e1683",
        "IPY_MODEL_c9b79dff957f4ecca07a045788660f70",
        "IPY_MODEL_4c390e7bf1b14c86817e366ff813a8fa"
       ],
       "layout": "IPY_MODEL_0b8a6a4d7e7e4670ab975106c68d06a2"
      }
     },
     "aae1fdbff54d450c9680c3b54aadfcbe": {
      "model_module": "@jupyter-widgets/controls",
      "model_module_version": "1.5.0",
      "model_name": "DescriptionStyleModel",
      "state": {
       "description_width": ""
      }
     },
     "ab0b4a742e004db2861d8e322739608b": {
      "model_module": "@jupyter-widgets/controls",
      "model_module_version": "1.5.0",
      "model_name": "FloatProgressModel",
      "state": {
       "layout": "IPY_MODEL_ae5494d1421a443393b60b78568f3c2f",
       "max": 1,
       "style": "IPY_MODEL_d6ba96c305ee46a9972d0680e1dbbd6a"
      }
     },
     "ab0edf7e2d1440418fe3ce0089073c11": {
      "model_module": "@jupyter-widgets/controls",
      "model_module_version": "1.5.0",
      "model_name": "DescriptionStyleModel",
      "state": {
       "description_width": ""
      }
     },
     "ab3b861084234f0aa176f59a23cb000d": {
      "model_module": "@jupyter-widgets/base",
      "model_module_version": "1.2.0",
      "model_name": "LayoutModel",
      "state": {
       "flex": "2"
      }
     },
     "ab7b8d7f4e70402599229c393d492e89": {
      "model_module": "@jupyter-widgets/controls",
      "model_module_version": "1.5.0",
      "model_name": "FloatProgressModel",
      "state": {
       "layout": "IPY_MODEL_98de6b3e675f48e5a3a51af9c503453b",
       "max": 191,
       "style": "IPY_MODEL_66779803457a4902b29c79b551f260c5",
       "value": 191
      }
     },
     "ab8c5ea3a9094578a15fdaeae2f447da": {
      "model_module": "@jupyter-widgets/base",
      "model_module_version": "1.2.0",
      "model_name": "LayoutModel",
      "state": {}
     },
     "ab8fdec51ea34275a6950c386afcc94d": {
      "model_module": "@jupyter-widgets/controls",
      "model_module_version": "1.5.0",
      "model_name": "ProgressStyleModel",
      "state": {
       "description_width": ""
      }
     },
     "abc03bfc9e1c448686446ee242981687": {
      "model_module": "@jupyter-widgets/controls",
      "model_module_version": "1.5.0",
      "model_name": "HTMLModel",
      "state": {
       "layout": "IPY_MODEL_d8be96ec91c74565a35323754c903c9b",
       "style": "IPY_MODEL_dc15bc7a7e9d4d19a5e58577f3fca94a",
       "value": "Validation DataLoader 0: 100%"
      }
     },
     "abdfea32234d4bb99e27d87a3a19833c": {
      "model_module": "@jupyter-widgets/controls",
      "model_module_version": "1.5.0",
      "model_name": "HTMLModel",
      "state": {
       "layout": "IPY_MODEL_f46b54c1a506482ca2dd7fb14b72d5a1",
       "style": "IPY_MODEL_cbaeaaab2a334954b1660f8a64e58419",
       "value": " 2/8 [03:25&lt;08:12, 82.16s/it]"
      }
     },
     "ac0e2afd255f43d98cdf32311574f1a3": {
      "model_module": "@jupyter-widgets/controls",
      "model_module_version": "1.5.0",
      "model_name": "HTMLModel",
      "state": {
       "layout": "IPY_MODEL_cd533c99680c4b2c84629ecee1509a72",
       "style": "IPY_MODEL_e3e1e09fa13240aebc0750d10ff27179",
       "value": "Validation DataLoader 0: 100%"
      }
     },
     "ac0ed4e6e8fe4446bffab7a10ac922b5": {
      "model_module": "@jupyter-widgets/base",
      "model_module_version": "1.2.0",
      "model_name": "LayoutModel",
      "state": {}
     },
     "ac460bfdc48a4b88a035b19b84494307": {
      "model_module": "@jupyter-widgets/controls",
      "model_module_version": "1.5.0",
      "model_name": "ProgressStyleModel",
      "state": {
       "description_width": ""
      }
     },
     "ac60172f75f64d5fa5e4b0f9701c94ab": {
      "model_module": "@jupyter-widgets/controls",
      "model_module_version": "1.5.0",
      "model_name": "HTMLModel",
      "state": {
       "layout": "IPY_MODEL_ed68e62d44dd43fcbb36e721277fe6c4",
       "style": "IPY_MODEL_eb8099da277849e29212cd13fae85047",
       "value": " 191/191 [00:10&lt;00:00, 17.93it/s]"
      }
     },
     "ad0c083ba2f4489698e3c3e9e371e495": {
      "model_module": "@jupyter-widgets/controls",
      "model_module_version": "1.5.0",
      "model_name": "DescriptionStyleModel",
      "state": {
       "description_width": ""
      }
     },
     "ad18015a903a40eab8d9a1cdf477de52": {
      "model_module": "@jupyter-widgets/base",
      "model_module_version": "1.2.0",
      "model_name": "LayoutModel",
      "state": {}
     },
     "ad3d9409e40b4c24b0d1392191dda7d7": {
      "model_module": "@jupyter-widgets/controls",
      "model_module_version": "1.5.0",
      "model_name": "DescriptionStyleModel",
      "state": {
       "description_width": ""
      }
     },
     "ad60f74e0a4a42988548b459c7d16bd7": {
      "model_module": "@jupyter-widgets/base",
      "model_module_version": "1.2.0",
      "model_name": "LayoutModel",
      "state": {
       "flex": "2"
      }
     },
     "ad621db394814d76aa0abb3b78a2a2c3": {
      "model_module": "@jupyter-widgets/controls",
      "model_module_version": "1.5.0",
      "model_name": "ProgressStyleModel",
      "state": {
       "description_width": ""
      }
     },
     "ad96d4f768714b0c8c9e274a8e590244": {
      "model_module": "@jupyter-widgets/controls",
      "model_module_version": "1.5.0",
      "model_name": "HBoxModel",
      "state": {
       "children": [
        "IPY_MODEL_bd93a70fae014a2e9d2c807eda13d2ee",
        "IPY_MODEL_14974b601ec445809e2d58aa79ccaf6b",
        "IPY_MODEL_812bf5562a09405c8919900737c83051"
       ],
       "layout": "IPY_MODEL_ef26138740f547bb94d26af1f891e6bf"
      }
     },
     "ad98a3d6985c4eeca0b0c19e8e4f274a": {
      "model_module": "@jupyter-widgets/controls",
      "model_module_version": "1.5.0",
      "model_name": "HBoxModel",
      "state": {
       "children": [
        "IPY_MODEL_ea6f96598af24bf380be694c46d8e150",
        "IPY_MODEL_fb73101148f549a9aee7cc66bee97e9e",
        "IPY_MODEL_315c98ee479e4b378816f5ebe063f4bf"
       ],
       "layout": "IPY_MODEL_7df08b5e55804a9990ba5d0fabc4d248"
      }
     },
     "adb0bcb5da3c4664a23404d2d9f0efbe": {
      "model_module": "@jupyter-widgets/controls",
      "model_module_version": "1.5.0",
      "model_name": "HTMLModel",
      "state": {
       "layout": "IPY_MODEL_f8a3fa9a464f4e2da08637c3cb766d80",
       "style": "IPY_MODEL_d88aa565d0ce456694e9859a29a831a6",
       "value": " 417/417 [00:59&lt;00:00,  6.97it/s, v_num=x13x, seq_len=113.0, y=0.029, valid/AUROC=0.818]"
      }
     },
     "adb8a37f3e7f4909935eb8a44193d227": {
      "model_module": "@jupyter-widgets/controls",
      "model_module_version": "1.5.0",
      "model_name": "FloatProgressModel",
      "state": {
       "layout": "IPY_MODEL_03dbfbf72b9d46b380e7ba063bba9a54",
       "max": 417,
       "style": "IPY_MODEL_7dae98b12e5d42cba5089b2af28a3bac",
       "value": 232
      }
     },
     "add0d655eb494a99b8704c78e71a9cdc": {
      "model_module": "@jupyter-widgets/controls",
      "model_module_version": "1.5.0",
      "model_name": "DescriptionStyleModel",
      "state": {
       "description_width": ""
      }
     },
     "ade958830b26407ebee69b6a3aff0f93": {
      "model_module": "@jupyter-widgets/base",
      "model_module_version": "1.2.0",
      "model_name": "LayoutModel",
      "state": {
       "display": "inline-flex",
       "flex_flow": "row wrap",
       "visibility": "hidden",
       "width": "100%"
      }
     },
     "ae1e082186f34bc78dee258225c8e6c9": {
      "model_module": "@jupyter-widgets/controls",
      "model_module_version": "1.5.0",
      "model_name": "HTMLModel",
      "state": {
       "layout": "IPY_MODEL_bd5fa050e66d4244b1231bcca47121ac",
       "style": "IPY_MODEL_8cf94b079a1f4405bdf1579dd9b2b742",
       "value": " 2/2 [00:00&lt;00:00,  7.56it/s]"
      }
     },
     "ae48d61122394cbf97532d6f02f1fff5": {
      "model_module": "@jupyter-widgets/controls",
      "model_module_version": "1.5.0",
      "model_name": "ProgressStyleModel",
      "state": {
       "description_width": ""
      }
     },
     "ae5494d1421a443393b60b78568f3c2f": {
      "model_module": "@jupyter-widgets/base",
      "model_module_version": "1.2.0",
      "model_name": "LayoutModel",
      "state": {}
     },
     "ae5d572aa8c540588111857c352c44df": {
      "model_module": "@jupyter-widgets/controls",
      "model_module_version": "1.5.0",
      "model_name": "ProgressStyleModel",
      "state": {
       "description_width": ""
      }
     },
     "ae601aceceb2499099c98a11238a50c5": {
      "model_module": "@jupyter-widgets/controls",
      "model_module_version": "1.5.0",
      "model_name": "ProgressStyleModel",
      "state": {
       "description_width": ""
      }
     },
     "ae99b4a188614a8e909f4a4f36833bf6": {
      "model_module": "@jupyter-widgets/base",
      "model_module_version": "1.2.0",
      "model_name": "LayoutModel",
      "state": {}
     },
     "aed312b7adf24598918f0d1558a50bf7": {
      "model_module": "@jupyter-widgets/controls",
      "model_module_version": "1.5.0",
      "model_name": "HTMLModel",
      "state": {
       "layout": "IPY_MODEL_89e4c5d27b5b4655afdac3a74602d9d2",
       "style": "IPY_MODEL_32fde0b28917442690b29968d72493f4",
       "value": " 1/8 [01:58&lt;12:05, 103.63s/it]"
      }
     },
     "aee3dc2b852c49ce95c4c07cc1f1ce88": {
      "model_module": "@jupyter-widgets/controls",
      "model_module_version": "1.5.0",
      "model_name": "DescriptionStyleModel",
      "state": {
       "description_width": ""
      }
     },
     "af1fe89ed74240ebb4a151fe2619d1ca": {
      "model_module": "@jupyter-widgets/base",
      "model_module_version": "1.2.0",
      "model_name": "LayoutModel",
      "state": {
       "display": "inline-flex",
       "flex_flow": "row wrap",
       "visibility": "hidden",
       "width": "100%"
      }
     },
     "af3b0a00a2ac4eea98d0e91d7b392418": {
      "model_module": "@jupyter-widgets/base",
      "model_module_version": "1.2.0",
      "model_name": "LayoutModel",
      "state": {
       "flex": "2"
      }
     },
     "af57d3fe261f46d2b43c71faef9be237": {
      "model_module": "@jupyter-widgets/controls",
      "model_module_version": "1.5.0",
      "model_name": "HTMLModel",
      "state": {
       "layout": "IPY_MODEL_63c78190a2c6479fa9e3d4135a595767",
       "style": "IPY_MODEL_2af1a34489cc4f8b874a2bd7834035e2",
       "value": " 2/2 [00:00&lt;00:00,  5.93it/s]"
      }
     },
     "af711fdcaabb4eef8c9dc6d6c9b2a4c2": {
      "model_module": "@jupyter-widgets/controls",
      "model_module_version": "1.5.0",
      "model_name": "FloatProgressModel",
      "state": {
       "layout": "IPY_MODEL_809e508489a942e7b201dad1a3365f4e",
       "max": 191,
       "style": "IPY_MODEL_d2841461695d432ebc03b8bdf0bb66dc",
       "value": 191
      }
     },
     "af8cdf36813c46da8a6f5b07079816d8": {
      "model_module": "@jupyter-widgets/controls",
      "model_module_version": "1.5.0",
      "model_name": "HTMLModel",
      "state": {
       "layout": "IPY_MODEL_9b63f31ee9cc40edaac0ff5aadfcdf0c",
       "style": "IPY_MODEL_69d294ed8fa14765a068935cf5bb6512",
       "value": " 8/8 [00:52&lt;00:00,  6.53s/it]"
      }
     },
     "afcc3ec3290f4dfba7e730713697c059": {
      "model_module": "@jupyter-widgets/controls",
      "model_module_version": "1.5.0",
      "model_name": "ProgressStyleModel",
      "state": {
       "description_width": ""
      }
     },
     "afccba4e5f4648a7aec34d6e26afa453": {
      "model_module": "@jupyter-widgets/controls",
      "model_module_version": "1.5.0",
      "model_name": "HTMLModel",
      "state": {
       "layout": "IPY_MODEL_964a54413ed74f8495a494a1534fbc05",
       "style": "IPY_MODEL_a895469a3a2d49349078529f1069a385",
       "value": "100%"
      }
     },
     "b051c3199e304c29894d71029dfe4e08": {
      "model_module": "@jupyter-widgets/base",
      "model_module_version": "1.2.0",
      "model_name": "LayoutModel",
      "state": {
       "flex": "2"
      }
     },
     "b05aa5ad03ce437299db9d40084b779d": {
      "model_module": "@jupyter-widgets/controls",
      "model_module_version": "1.5.0",
      "model_name": "DescriptionStyleModel",
      "state": {
       "description_width": ""
      }
     },
     "b069ba31055841e7a813cdce673e271d": {
      "model_module": "@jupyter-widgets/controls",
      "model_module_version": "1.5.0",
      "model_name": "DescriptionStyleModel",
      "state": {
       "description_width": ""
      }
     },
     "b0794b464aac4839ac4965e433f9faa9": {
      "model_module": "@jupyter-widgets/controls",
      "model_module_version": "1.5.0",
      "model_name": "HTMLModel",
      "state": {
       "layout": "IPY_MODEL_3b6b1247c4b54fb887233ddc3f2bc859",
       "style": "IPY_MODEL_9ab6a1c607f8462ca5b9ad7ea98ae75d",
       "value": " 191/191 [00:11&lt;00:00, 16.88it/s]"
      }
     },
     "b07e7462b4f54eb38e69bc9015b0308c": {
      "model_module": "@jupyter-widgets/controls",
      "model_module_version": "1.5.0",
      "model_name": "DescriptionStyleModel",
      "state": {
       "description_width": ""
      }
     },
     "b090662d08a24988999d2e6b9234eb0d": {
      "model_module": "@jupyter-widgets/controls",
      "model_module_version": "1.5.0",
      "model_name": "HBoxModel",
      "state": {
       "children": [
        "IPY_MODEL_77332326d17a42e88c8db9304c82b300",
        "IPY_MODEL_31f5d8cf48b64a239e1dc8f2d774dcd4",
        "IPY_MODEL_c558d5d3aaa749cdba97957558d3c9ba"
       ],
       "layout": "IPY_MODEL_81bdea468d41458389ea6c4d57d18464"
      }
     },
     "b0d5708d696a42a085d5bfacb4cfd55f": {
      "model_module": "@jupyter-widgets/controls",
      "model_module_version": "1.5.0",
      "model_name": "HTMLModel",
      "state": {
       "layout": "IPY_MODEL_9770d7e27ebb46e3a9fbf0434104bf1d",
       "style": "IPY_MODEL_3130c66d2ab84726828e6d9c5e1e8bdd",
       "value": " 191/191 [00:12&lt;00:00, 14.82it/s]"
      }
     },
     "b0e014ddc77c4dac9157ce656567bc4b": {
      "model_module": "@jupyter-widgets/controls",
      "model_module_version": "1.5.0",
      "model_name": "FloatProgressModel",
      "state": {
       "layout": "IPY_MODEL_4c7c3378187741f185fe6fcededa9859",
       "max": 191,
       "style": "IPY_MODEL_dc790726dee64f16960a7193de71bdc1",
       "value": 191
      }
     },
     "b0ef94515d834e598c83cf3c24739154": {
      "model_module": "@jupyter-widgets/base",
      "model_module_version": "1.2.0",
      "model_name": "LayoutModel",
      "state": {}
     },
     "b10d39e159274885ae374329fb32df26": {
      "model_module": "@jupyter-widgets/controls",
      "model_module_version": "1.5.0",
      "model_name": "HTMLModel",
      "state": {
       "layout": "IPY_MODEL_ddc90bd6bd2a4f21bbb85bc5e6868b95",
       "style": "IPY_MODEL_327efd99f8e54a8a81e7d1900518de2b",
       "value": " 2/2 [00:00&lt;00:00,  6.58it/s]"
      }
     },
     "b121306720644a9da64af432e0cad706": {
      "model_module": "@jupyter-widgets/controls",
      "model_module_version": "1.5.0",
      "model_name": "DescriptionStyleModel",
      "state": {
       "description_width": ""
      }
     },
     "b13ae490cc81473e8a6cc2144c36e58a": {
      "model_module": "@jupyter-widgets/controls",
      "model_module_version": "1.5.0",
      "model_name": "DescriptionStyleModel",
      "state": {
       "description_width": ""
      }
     },
     "b14328f3b4fc40b5a797cb679b4b61be": {
      "model_module": "@jupyter-widgets/base",
      "model_module_version": "1.2.0",
      "model_name": "LayoutModel",
      "state": {}
     },
     "b15ed20a717341bd91639aef6ff42fb4": {
      "model_module": "@jupyter-widgets/controls",
      "model_module_version": "1.5.0",
      "model_name": "HTMLModel",
      "state": {
       "layout": "IPY_MODEL_224aca6fc40a4300bec19d8089faa094",
       "style": "IPY_MODEL_79aeece412b8483ea4899043656b809d",
       "value": " 191/191 [00:10&lt;00:00, 17.40it/s]"
      }
     },
     "b1805cc753c340359fce2c6b74277782": {
      "model_module": "@jupyter-widgets/controls",
      "model_module_version": "1.5.0",
      "model_name": "DescriptionStyleModel",
      "state": {
       "description_width": ""
      }
     },
     "b1ef4f73c6884b9090286a6d9f30ef5e": {
      "model_module": "@jupyter-widgets/controls",
      "model_module_version": "1.5.0",
      "model_name": "FloatProgressModel",
      "state": {
       "bar_style": "success",
       "layout": "IPY_MODEL_cb50e70c62324f568b1f574d5acf5958",
       "max": 3,
       "style": "IPY_MODEL_ae5d572aa8c540588111857c352c44df",
       "value": 3
      }
     },
     "b202a13fc83f4f8fa4339be0098268a8": {
      "model_module": "@jupyter-widgets/base",
      "model_module_version": "1.2.0",
      "model_name": "LayoutModel",
      "state": {}
     },
     "b21072669bd34345a081d9064776f952": {
      "model_module": "@jupyter-widgets/base",
      "model_module_version": "1.2.0",
      "model_name": "LayoutModel",
      "state": {}
     },
     "b218836e5a64436399abc227911a952c": {
      "model_module": "@jupyter-widgets/base",
      "model_module_version": "1.2.0",
      "model_name": "LayoutModel",
      "state": {}
     },
     "b224cf964b80471c9cd80057068f38e7": {
      "model_module": "@jupyter-widgets/controls",
      "model_module_version": "1.5.0",
      "model_name": "DescriptionStyleModel",
      "state": {
       "description_width": ""
      }
     },
     "b22725a39d7e416099ac0031a6ed29ab": {
      "model_module": "@jupyter-widgets/base",
      "model_module_version": "1.2.0",
      "model_name": "LayoutModel",
      "state": {
       "display": "inline-flex",
       "flex_flow": "row wrap",
       "width": "100%"
      }
     },
     "b231f0a8d8584e839bd292da836ba44d": {
      "model_module": "@jupyter-widgets/controls",
      "model_module_version": "1.5.0",
      "model_name": "HTMLModel",
      "state": {
       "layout": "IPY_MODEL_da7bf4f621e54175a7f481d455f16c5b",
       "style": "IPY_MODEL_922015f9dd8f4009b6f64132a00f6d27",
       "value": " 191/191 [00:10&lt;00:00, 17.97it/s]"
      }
     },
     "b241c83eeb3a4dfaad33cb893b07f02b": {
      "model_module": "@jupyter-widgets/base",
      "model_module_version": "1.2.0",
      "model_name": "LayoutModel",
      "state": {}
     },
     "b24ff0ebf04146ebb027f57b04576943": {
      "model_module": "@jupyter-widgets/base",
      "model_module_version": "1.2.0",
      "model_name": "LayoutModel",
      "state": {}
     },
     "b27f03a5936b4a55be0de20cc112b35f": {
      "model_module": "@jupyter-widgets/controls",
      "model_module_version": "1.5.0",
      "model_name": "HTMLModel",
      "state": {
       "layout": "IPY_MODEL_b24ff0ebf04146ebb027f57b04576943",
       "style": "IPY_MODEL_51f579c3497d44258901f86664a60f00",
       "value": " 417/417 [01:01&lt;00:00,  6.78it/s, v_num=x13x, seq_len=117.0, y=0.0124, valid/AUROC=0.823]"
      }
     },
     "b2903cf45aa9431fa7ad54e5bf757fff": {
      "model_module": "@jupyter-widgets/controls",
      "model_module_version": "1.5.0",
      "model_name": "DescriptionStyleModel",
      "state": {
       "description_width": ""
      }
     },
     "b2bc2efedd6f4ed0bcb1af1d7970ccf8": {
      "model_module": "@jupyter-widgets/controls",
      "model_module_version": "1.5.0",
      "model_name": "HTMLModel",
      "state": {
       "layout": "IPY_MODEL_e97c2ca628034039b868216a32b0a43d",
       "style": "IPY_MODEL_7dff12ce25ec4fc68c9dc150ae4e0de4",
       "value": "Sanity Checking DataLoader 0: 100%"
      }
     },
     "b2d3dc379f9847fd94a90122a7aac56e": {
      "model_module": "@jupyter-widgets/controls",
      "model_module_version": "1.5.0",
      "model_name": "DescriptionStyleModel",
      "state": {
       "description_width": ""
      }
     },
     "b3122549c6ef485897c75ce24402e19e": {
      "model_module": "@jupyter-widgets/base",
      "model_module_version": "1.2.0",
      "model_name": "LayoutModel",
      "state": {}
     },
     "b35836a042a448679d434aec1fa16784": {
      "model_module": "@jupyter-widgets/base",
      "model_module_version": "1.2.0",
      "model_name": "LayoutModel",
      "state": {}
     },
     "b377402b6479494fb918318bf9a64ebf": {
      "model_module": "@jupyter-widgets/base",
      "model_module_version": "1.2.0",
      "model_name": "LayoutModel",
      "state": {
       "display": "inline-flex",
       "flex_flow": "row wrap",
       "width": "100%"
      }
     },
     "b3d94b77252b4b328833e5fb0c565f65": {
      "model_module": "@jupyter-widgets/controls",
      "model_module_version": "1.5.0",
      "model_name": "FloatProgressModel",
      "state": {
       "bar_style": "success",
       "layout": "IPY_MODEL_ccef9d46302247989e5adf582bb04cfe",
       "max": 8,
       "style": "IPY_MODEL_4f2b7da713e1425dbae523ee94f21fe9",
       "value": 8
      }
     },
     "b3f2f5bf3e8a4e0388421b3e2e94b343": {
      "model_module": "@jupyter-widgets/base",
      "model_module_version": "1.2.0",
      "model_name": "LayoutModel",
      "state": {}
     },
     "b44c287346bb4b04b20a4a71c826446e": {
      "model_module": "@jupyter-widgets/controls",
      "model_module_version": "1.5.0",
      "model_name": "HBoxModel",
      "state": {
       "children": [
        "IPY_MODEL_bfea1a8bb37a41968fa608279e0e744b",
        "IPY_MODEL_ec3cc83fef5a4dc899b3c2403311b8ed",
        "IPY_MODEL_a1141339578449d1861897f7365aa334"
       ],
       "layout": "IPY_MODEL_533dfda9caed45a68d284b364471d883"
      }
     },
     "b48ee49ee3c3430bbb2bf0f30782d540": {
      "model_module": "@jupyter-widgets/controls",
      "model_module_version": "1.5.0",
      "model_name": "DescriptionStyleModel",
      "state": {
       "description_width": ""
      }
     },
     "b4c11061302a456699bd35c50fdb756a": {
      "model_module": "@jupyter-widgets/controls",
      "model_module_version": "1.5.0",
      "model_name": "HTMLModel",
      "state": {
       "layout": "IPY_MODEL_5e3335f331034167abc78c31b540c0bd",
       "style": "IPY_MODEL_22f32bbeef7d4360ba62378df900a124",
       "value": "Validation DataLoader 0: 100%"
      }
     },
     "b4e2f2154fb34db3907d0fbfe37006ce": {
      "model_module": "@jupyter-widgets/controls",
      "model_module_version": "1.5.0",
      "model_name": "ProgressStyleModel",
      "state": {
       "description_width": ""
      }
     },
     "b4e3d1643eab404ca11a73207ec84ea8": {
      "model_module": "@jupyter-widgets/controls",
      "model_module_version": "1.5.0",
      "model_name": "FloatProgressModel",
      "state": {
       "layout": "IPY_MODEL_3ae9bf1873314aa8900ecdaa7b327161",
       "max": 1,
       "style": "IPY_MODEL_0086ddc4c27241618bf188dcd213ff5a"
      }
     },
     "b4ecb7cb4ada4277b01b1a3bf6029911": {
      "model_module": "@jupyter-widgets/controls",
      "model_module_version": "1.5.0",
      "model_name": "ProgressStyleModel",
      "state": {
       "description_width": ""
      }
     },
     "b5434a05fdcd4784a7eb743035a73099": {
      "model_module": "@jupyter-widgets/base",
      "model_module_version": "1.2.0",
      "model_name": "LayoutModel",
      "state": {}
     },
     "b54ebd8852184b7c96776431314d4108": {
      "model_module": "@jupyter-widgets/controls",
      "model_module_version": "1.5.0",
      "model_name": "FloatProgressModel",
      "state": {
       "layout": "IPY_MODEL_2d3b51802c044a4b89b2468dad79e1b0",
       "max": 2,
       "style": "IPY_MODEL_f5271cfc03a540ed88988bb990da2912",
       "value": 2
      }
     },
     "b59f9bf66e8448f2a3b755aaba2b0de6": {
      "model_module": "@jupyter-widgets/controls",
      "model_module_version": "1.5.0",
      "model_name": "FloatProgressModel",
      "state": {
       "bar_style": "success",
       "layout": "IPY_MODEL_e483517a0e3d4b08960755a835d443ae",
       "max": 417,
       "style": "IPY_MODEL_14671b6caa4143ea8b0823108c2d262d",
       "value": 417
      }
     },
     "b5b83eb5d296496797cb25b50df5419a": {
      "model_module": "@jupyter-widgets/controls",
      "model_module_version": "1.5.0",
      "model_name": "HTMLModel",
      "state": {
       "layout": "IPY_MODEL_a13e848b035b44e0aaa3d32e03747158",
       "style": "IPY_MODEL_9135c4c5fb4c41009f78fdcb7116cedb",
       "value": "Validation DataLoader 0: 100%"
      }
     },
     "b5c3a35ad49841b58725c9a4b6df043e": {
      "model_module": "@jupyter-widgets/base",
      "model_module_version": "1.2.0",
      "model_name": "LayoutModel",
      "state": {}
     },
     "b62dcbc569f2442d9a50d0e730901418": {
      "model_module": "@jupyter-widgets/controls",
      "model_module_version": "1.5.0",
      "model_name": "HTMLModel",
      "state": {
       "layout": "IPY_MODEL_d41c171cc09644719b1105ae69c5868c",
       "style": "IPY_MODEL_3ab430fdfa8d40c0a7d6e783e2af7e97",
       "value": "Validation DataLoader 0: 100%"
      }
     },
     "b64166f0c58b4431924ac8187826dbea": {
      "model_module": "@jupyter-widgets/base",
      "model_module_version": "1.2.0",
      "model_name": "LayoutModel",
      "state": {
       "flex": "2"
      }
     },
     "b651fd159ff5424bbe22f743cdb00cc8": {
      "model_module": "@jupyter-widgets/base",
      "model_module_version": "1.2.0",
      "model_name": "LayoutModel",
      "state": {}
     },
     "b656290cfcdb4c62a25e71a46c5eae8c": {
      "model_module": "@jupyter-widgets/base",
      "model_module_version": "1.2.0",
      "model_name": "LayoutModel",
      "state": {}
     },
     "b6c8e3e6d64b4905a2ce58cb3c34afd3": {
      "model_module": "@jupyter-widgets/base",
      "model_module_version": "1.2.0",
      "model_name": "LayoutModel",
      "state": {
       "display": "inline-flex",
       "flex_flow": "row wrap",
       "visibility": "hidden",
       "width": "100%"
      }
     },
     "b6f15188dba64b2eb59119ebff26dd83": {
      "model_module": "@jupyter-widgets/base",
      "model_module_version": "1.2.0",
      "model_name": "LayoutModel",
      "state": {}
     },
     "b6f4e710b60b4b2fa58eb6ee56e1ca00": {
      "model_module": "@jupyter-widgets/controls",
      "model_module_version": "1.5.0",
      "model_name": "DescriptionStyleModel",
      "state": {
       "description_width": ""
      }
     },
     "b6fa601c22d34568b174ab5e827bae48": {
      "model_module": "@jupyter-widgets/controls",
      "model_module_version": "1.5.0",
      "model_name": "FloatProgressModel",
      "state": {
       "layout": "IPY_MODEL_1b0337ae938d48ffa24aa32e19cac603",
       "max": 191,
       "style": "IPY_MODEL_5f99bc70adc14c04aa7ebbc41846b522",
       "value": 191
      }
     },
     "b6fe99436eb6440aac4faf1fbc57d905": {
      "model_module": "@jupyter-widgets/base",
      "model_module_version": "1.2.0",
      "model_name": "LayoutModel",
      "state": {
       "display": "inline-flex",
       "flex_flow": "row wrap",
       "visibility": "hidden",
       "width": "100%"
      }
     },
     "b72b8b09d5594cff811677e56285ecac": {
      "model_module": "@jupyter-widgets/controls",
      "model_module_version": "1.5.0",
      "model_name": "HTMLModel",
      "state": {
       "layout": "IPY_MODEL_3f09610d12844a0b969ca46e7c10ff4f",
       "style": "IPY_MODEL_98ddaac9051e4fa98aa11f41789db6ce",
       "value": "Validation DataLoader 0: 100%"
      }
     },
     "b736a4838cc74637aa5d129615edb476": {
      "model_module": "@jupyter-widgets/controls",
      "model_module_version": "1.5.0",
      "model_name": "HTMLModel",
      "state": {
       "layout": "IPY_MODEL_3816b5d5ee70472d9c9daffbb3a91639",
       "style": "IPY_MODEL_ec892f2dd4a043d8a10109c0a2ef94da",
       "value": " 2/2 [00:00&lt;00:00,  5.86it/s]"
      }
     },
     "b75406002a5c450bb4fc3b0812a3f323": {
      "model_module": "@jupyter-widgets/base",
      "model_module_version": "1.2.0",
      "model_name": "LayoutModel",
      "state": {}
     },
     "b75f147dcb5d4e22ba96072137f98a10": {
      "model_module": "@jupyter-widgets/controls",
      "model_module_version": "1.5.0",
      "model_name": "FloatProgressModel",
      "state": {
       "bar_style": "success",
       "layout": "IPY_MODEL_18acd5eb34bd4eac8ff27827b61ed8e2",
       "max": 417,
       "style": "IPY_MODEL_c4cc3b535cbc4c58af405857152a2ffb",
       "value": 417
      }
     },
     "b7712fae0cf34d78920380aad358364e": {
      "model_module": "@jupyter-widgets/controls",
      "model_module_version": "1.5.0",
      "model_name": "HTMLModel",
      "state": {
       "layout": "IPY_MODEL_e96e417c45ff4bb5b75bf9c4c5b6e00c",
       "style": "IPY_MODEL_c746314ea756487eac3fec946650bcf6",
       "value": "Validation DataLoader 0: 100%"
      }
     },
     "b79b6accca3c438b8f6deaf48f6780f2": {
      "model_module": "@jupyter-widgets/base",
      "model_module_version": "1.2.0",
      "model_name": "LayoutModel",
      "state": {}
     },
     "b7e2b66aef2943ceb192fbc5ca9508da": {
      "model_module": "@jupyter-widgets/base",
      "model_module_version": "1.2.0",
      "model_name": "LayoutModel",
      "state": {}
     },
     "b7f8de6e465645668f786adb2ae07769": {
      "model_module": "@jupyter-widgets/base",
      "model_module_version": "1.2.0",
      "model_name": "LayoutModel",
      "state": {
       "display": "inline-flex",
       "flex_flow": "row wrap",
       "visibility": "hidden",
       "width": "100%"
      }
     },
     "b7fb737b7ecf46fb888c55f96c88a5e0": {
      "model_module": "@jupyter-widgets/controls",
      "model_module_version": "1.5.0",
      "model_name": "HTMLModel",
      "state": {
       "layout": "IPY_MODEL_0dd7a2af8315422486edfc644081d146",
       "style": "IPY_MODEL_381ca709d689415d9051b64db1b4ebfb",
       "value": " 191/191 [00:10&lt;00:00, 17.84it/s]"
      }
     },
     "b7fcbb72bafc4574ab0c7e7b1d9e66a9": {
      "model_module": "@jupyter-widgets/controls",
      "model_module_version": "1.5.0",
      "model_name": "DescriptionStyleModel",
      "state": {
       "description_width": ""
      }
     },
     "b8059e935afb45e4a634990bf6e47eab": {
      "model_module": "@jupyter-widgets/base",
      "model_module_version": "1.2.0",
      "model_name": "LayoutModel",
      "state": {}
     },
     "b80669edfa25428fbdc51f8a8595a3e0": {
      "model_module": "@jupyter-widgets/controls",
      "model_module_version": "1.5.0",
      "model_name": "HTMLModel",
      "state": {
       "layout": "IPY_MODEL_cc8ad06894264fc99affe18f8fdc3e2d",
       "style": "IPY_MODEL_f47b7ecdfbf746b6b8bd6cdcc77d7b89",
       "value": "Validation DataLoader 0: 100%"
      }
     },
     "b81a7a867e24458983530fa1c138d4e9": {
      "model_module": "@jupyter-widgets/controls",
      "model_module_version": "1.5.0",
      "model_name": "HTMLModel",
      "state": {
       "layout": "IPY_MODEL_0be4e4cb0dbe4edf9367a789f3cf591a",
       "style": "IPY_MODEL_97425bfd39554416a07eedf65a201e2a",
       "value": " 191/191 [00:12&lt;00:00, 15.30it/s]"
      }
     },
     "b839b143edc142dba63a11149cfe1afc": {
      "model_module": "@jupyter-widgets/controls",
      "model_module_version": "1.5.0",
      "model_name": "HTMLModel",
      "state": {
       "layout": "IPY_MODEL_ff76839e56c5410c9d1b77d67b992a7d",
       "style": "IPY_MODEL_e602af070cc6489a8a0c793327b8532a",
       "value": " 2/2 [00:00&lt;00:00,  4.74it/s]"
      }
     },
     "b83c4483682a414090a989145c221a41": {
      "model_module": "@jupyter-widgets/controls",
      "model_module_version": "1.5.0",
      "model_name": "FloatProgressModel",
      "state": {
       "layout": "IPY_MODEL_3f2c301b32cd49e596f809fa6e564e2d",
       "max": 2,
       "style": "IPY_MODEL_f9e16b619760454ab0951c40af04a8ab",
       "value": 2
      }
     },
     "b8a0aa88502e4d9f805b5a66f4ff7788": {
      "model_module": "@jupyter-widgets/controls",
      "model_module_version": "1.5.0",
      "model_name": "HTMLModel",
      "state": {
       "layout": "IPY_MODEL_12f41b23d1e7479d814d6e341876fbaa",
       "style": "IPY_MODEL_e538be137f60433a815dce12f8cc956b",
       "value": " 191/191 [00:11&lt;00:00, 16.91it/s]"
      }
     },
     "b8fa9017a3a64ae28626bdcd15299d64": {
      "model_module": "@jupyter-widgets/controls",
      "model_module_version": "1.5.0",
      "model_name": "DescriptionStyleModel",
      "state": {
       "description_width": ""
      }
     },
     "b916029e2dde4e11bd5cf22732136b67": {
      "model_module": "@jupyter-widgets/controls",
      "model_module_version": "1.5.0",
      "model_name": "LabelModel",
      "state": {
       "layout": "IPY_MODEL_3170e8c8e0224c5aa44c8b106ee5abbe",
       "style": "IPY_MODEL_785a5197b3364270abfd98e75bed17ab"
      }
     },
     "b935dcf6eadc45ca9c828ac4c60d28b8": {
      "model_module": "@jupyter-widgets/controls",
      "model_module_version": "1.5.0",
      "model_name": "ProgressStyleModel",
      "state": {
       "description_width": ""
      }
     },
     "b949f86baffe45089ae42e87d9961cdb": {
      "model_module": "@jupyter-widgets/base",
      "model_module_version": "1.2.0",
      "model_name": "LayoutModel",
      "state": {}
     },
     "b9c6a4efc63f48ac8faded003fe1d047": {
      "model_module": "@jupyter-widgets/controls",
      "model_module_version": "1.5.0",
      "model_name": "DescriptionStyleModel",
      "state": {
       "description_width": ""
      }
     },
     "b9d4870647854eaea410d9dfd586499a": {
      "model_module": "@jupyter-widgets/controls",
      "model_module_version": "1.5.0",
      "model_name": "ProgressStyleModel",
      "state": {
       "description_width": ""
      }
     },
     "b9d4e6ff12e4487bb7c0faea841d7cd1": {
      "model_module": "@jupyter-widgets/controls",
      "model_module_version": "1.5.0",
      "model_name": "DescriptionStyleModel",
      "state": {
       "description_width": ""
      }
     },
     "b9dee8fcc2f345fca4f181aa4d5edbf7": {
      "model_module": "@jupyter-widgets/controls",
      "model_module_version": "1.5.0",
      "model_name": "HTMLModel",
      "state": {
       "layout": "IPY_MODEL_6930891588fa41509575b3f1531b839b",
       "style": "IPY_MODEL_7935b430ce2c46acb3995ff5f7c20414",
       "value": "100%"
      }
     },
     "ba5ab573f3414230b936de81eac9a775": {
      "model_module": "@jupyter-widgets/controls",
      "model_module_version": "1.5.0",
      "model_name": "FloatProgressModel",
      "state": {
       "layout": "IPY_MODEL_27298ae0c0f94f04a65bea80ff0d1838",
       "max": 191,
       "style": "IPY_MODEL_117c982d4ddd4c4fbbe48db29e343964",
       "value": 191
      }
     },
     "ba7acd15333f49c2950672e04d9bbf98": {
      "model_module": "@jupyter-widgets/controls",
      "model_module_version": "1.5.0",
      "model_name": "HBoxModel",
      "state": {
       "children": [
        "IPY_MODEL_36f6a1e84e2a4898badf3794dea35225",
        "IPY_MODEL_80b06531c08f4504831916887e3dbd0d",
        "IPY_MODEL_85dc2213e62341989165c7aeaf3f504d"
       ],
       "layout": "IPY_MODEL_25f03663cc72416482a2c850be6f599b"
      }
     },
     "baddf8c51562484cbdbb34dc10c7b4ee": {
      "model_module": "@jupyter-widgets/controls",
      "model_module_version": "1.5.0",
      "model_name": "FloatProgressModel",
      "state": {
       "layout": "IPY_MODEL_6064167f77a14107bc90746cd5ca9275",
       "max": 2,
       "style": "IPY_MODEL_768dfbe7f8934766af92ceb9c34c268a",
       "value": 2
      }
     },
     "baeb8e8899c04b569336fcdde3714024": {
      "model_module": "@jupyter-widgets/controls",
      "model_module_version": "1.5.0",
      "model_name": "HBoxModel",
      "state": {
       "children": [
        "IPY_MODEL_0b7ca9c690c54c5c9791f06ba693024d",
        "IPY_MODEL_94511e9484d445f0a6c9939f1ac23041",
        "IPY_MODEL_7880e9c30e754b2299522293dbe825a5"
       ],
       "layout": "IPY_MODEL_0a8b415246de4a918413ce8b71dca3b8"
      }
     },
     "baec1888c56a482cb60f151a66bd63ae": {
      "model_module": "@jupyter-widgets/base",
      "model_module_version": "1.2.0",
      "model_name": "LayoutModel",
      "state": {}
     },
     "bb496a68b2434cb9b4783cb82b44584b": {
      "model_module": "@jupyter-widgets/controls",
      "model_module_version": "1.5.0",
      "model_name": "ProgressStyleModel",
      "state": {
       "description_width": ""
      }
     },
     "bb5e340a78204a36b975d887814fe742": {
      "model_module": "@jupyter-widgets/controls",
      "model_module_version": "1.5.0",
      "model_name": "ProgressStyleModel",
      "state": {
       "description_width": ""
      }
     },
     "bb6a4b0df43443ff89e51dbe40028868": {
      "model_module": "@jupyter-widgets/controls",
      "model_module_version": "1.5.0",
      "model_name": "DescriptionStyleModel",
      "state": {
       "description_width": ""
      }
     },
     "bb7c6821b45841ec9012b39c6ddacce3": {
      "model_module": "@jupyter-widgets/controls",
      "model_module_version": "1.5.0",
      "model_name": "HTMLModel",
      "state": {
       "layout": "IPY_MODEL_786be597c1b64112ab8ab581bd91d9b7",
       "style": "IPY_MODEL_975f97db2963445da3a428113fe93c2c",
       "value": " 191/191 [00:10&lt;00:00, 18.31it/s]"
      }
     },
     "bb846207fe454adfae918a50887a9571": {
      "model_module": "@jupyter-widgets/base",
      "model_module_version": "1.2.0",
      "model_name": "LayoutModel",
      "state": {
       "display": "inline-flex",
       "flex_flow": "row wrap",
       "width": "100%"
      }
     },
     "bb90078173404e04afb5a0f5da3556a0": {
      "model_module": "@jupyter-widgets/base",
      "model_module_version": "1.2.0",
      "model_name": "LayoutModel",
      "state": {}
     },
     "bba3ee12870e4f29a55a074b7375c0fa": {
      "model_module": "@jupyter-widgets/base",
      "model_module_version": "1.2.0",
      "model_name": "LayoutModel",
      "state": {}
     },
     "bbb87997aaf343c8813d8c8b39ab480c": {
      "model_module": "@jupyter-widgets/base",
      "model_module_version": "1.2.0",
      "model_name": "LayoutModel",
      "state": {
       "display": "inline-flex",
       "flex_flow": "row wrap",
       "visibility": "hidden",
       "width": "100%"
      }
     },
     "bbd4978e2fdc4f5596a556c09a87a93a": {
      "model_module": "@jupyter-widgets/controls",
      "model_module_version": "1.5.0",
      "model_name": "DescriptionStyleModel",
      "state": {
       "description_width": ""
      }
     },
     "bbe17d5866144e95b37546b34f54ef4f": {
      "model_module": "@jupyter-widgets/controls",
      "model_module_version": "1.5.0",
      "model_name": "ProgressStyleModel",
      "state": {
       "description_width": ""
      }
     },
     "bbe1f9da042f4ac998adfcd987c9e8d5": {
      "model_module": "@jupyter-widgets/controls",
      "model_module_version": "1.5.0",
      "model_name": "DescriptionStyleModel",
      "state": {
       "description_width": ""
      }
     },
     "bbe3b3b3762c44e382974c0fa09703d5": {
      "model_module": "@jupyter-widgets/base",
      "model_module_version": "1.2.0",
      "model_name": "LayoutModel",
      "state": {}
     },
     "bc5593df4d634182b5f5e1d7ab983a43": {
      "model_module": "@jupyter-widgets/controls",
      "model_module_version": "1.5.0",
      "model_name": "ProgressStyleModel",
      "state": {
       "description_width": ""
      }
     },
     "bc78cb370713415a9d3e8b37768c608f": {
      "model_module": "@jupyter-widgets/controls",
      "model_module_version": "1.5.0",
      "model_name": "DescriptionStyleModel",
      "state": {
       "description_width": ""
      }
     },
     "bc8732bea6434989abcff20faec508c8": {
      "model_module": "@jupyter-widgets/controls",
      "model_module_version": "1.5.0",
      "model_name": "HTMLModel",
      "state": {
       "layout": "IPY_MODEL_88cfb3ece0a74f999aa5257ab1cd2b71",
       "style": "IPY_MODEL_dd7970ec31764d04ab5788398601bf0f",
       "value": "Sanity Checking DataLoader 0: 100%"
      }
     },
     "bcc2c3fc98934e0bb95ba3cddf3fc7b4": {
      "model_module": "@jupyter-widgets/base",
      "model_module_version": "1.2.0",
      "model_name": "LayoutModel",
      "state": {
       "display": "inline-flex",
       "flex_flow": "row wrap",
       "width": "100%"
      }
     },
     "bd5fa050e66d4244b1231bcca47121ac": {
      "model_module": "@jupyter-widgets/base",
      "model_module_version": "1.2.0",
      "model_name": "LayoutModel",
      "state": {}
     },
     "bd6b93545e114652a01112499ccc2cc4": {
      "model_module": "@jupyter-widgets/controls",
      "model_module_version": "1.5.0",
      "model_name": "HTMLModel",
      "state": {
       "layout": "IPY_MODEL_868e716ac5cc4030a55f1c4a26c81dd8",
       "style": "IPY_MODEL_3a27b8d323ea43cba19e94ca5fa9ee06",
       "value": " 191/191 [00:10&lt;00:00, 17.90it/s]"
      }
     },
     "bd77a99fe2cd4d589e5b4a6fdb6bd5f3": {
      "model_module": "@jupyter-widgets/controls",
      "model_module_version": "1.5.0",
      "model_name": "FloatProgressModel",
      "state": {
       "layout": "IPY_MODEL_9826172e2307492983280a5112bcdecd",
       "max": 191,
       "style": "IPY_MODEL_30090c3d6ed0478c9a0da34ac204abf3",
       "value": 191
      }
     },
     "bd7c57e5a9cd4e4c9a68ddface820e0c": {
      "model_module": "@jupyter-widgets/base",
      "model_module_version": "1.2.0",
      "model_name": "LayoutModel",
      "state": {
       "flex": "2"
      }
     },
     "bd7d4f4bc157419e804b3c1e9c140082": {
      "model_module": "@jupyter-widgets/controls",
      "model_module_version": "1.5.0",
      "model_name": "HBoxModel",
      "state": {
       "children": [
        "IPY_MODEL_cf252983d8ce405a8a663b226ecb8a70",
        "IPY_MODEL_4124f79ca072456a8d3a6da889e70836",
        "IPY_MODEL_6c017075ae384957a212e1400264d38e"
       ],
       "layout": "IPY_MODEL_5bfcb9015c37435fbd502d9eeacce540"
      }
     },
     "bd83deea4d8d4537bfd1d2a070c3a5a4": {
      "model_module": "@jupyter-widgets/controls",
      "model_module_version": "1.5.0",
      "model_name": "ProgressStyleModel",
      "state": {
       "description_width": ""
      }
     },
     "bd93a70fae014a2e9d2c807eda13d2ee": {
      "model_module": "@jupyter-widgets/controls",
      "model_module_version": "1.5.0",
      "model_name": "HTMLModel",
      "state": {
       "layout": "IPY_MODEL_2dbdd3019e4e4c7eb3b9cf7d3f681ce3",
       "style": "IPY_MODEL_d791586c318c4565b844e0b518cb39bb",
       "value": "100%"
      }
     },
     "bddaecf4e521448a895e020f97c221ef": {
      "model_module": "@jupyter-widgets/base",
      "model_module_version": "1.2.0",
      "model_name": "LayoutModel",
      "state": {
       "display": "inline-flex",
       "flex_flow": "row wrap",
       "width": "100%"
      }
     },
     "bde8beac7c2a4acfb6cd870a598e067a": {
      "model_module": "@jupyter-widgets/controls",
      "model_module_version": "1.5.0",
      "model_name": "HTMLModel",
      "state": {
       "layout": "IPY_MODEL_8fc65451ab1242adbd374908f3aab7d1",
       "style": "IPY_MODEL_7c871e25c78f402fb811a2825be5a1f1",
       "value": "100%"
      }
     },
     "be1f798ff46141a48d113eff09f9cead": {
      "model_module": "@jupyter-widgets/controls",
      "model_module_version": "1.5.0",
      "model_name": "ProgressStyleModel",
      "state": {
       "description_width": ""
      }
     },
     "be2a15825561478d9055b8c19de66d01": {
      "model_module": "@jupyter-widgets/base",
      "model_module_version": "1.2.0",
      "model_name": "LayoutModel",
      "state": {}
     },
     "be392efdcfb34b87ab5ff32a73656610": {
      "model_module": "@jupyter-widgets/controls",
      "model_module_version": "1.5.0",
      "model_name": "DescriptionStyleModel",
      "state": {
       "description_width": ""
      }
     },
     "be84ef16a3c9487ea9136998073bf34d": {
      "model_module": "@jupyter-widgets/base",
      "model_module_version": "1.2.0",
      "model_name": "LayoutModel",
      "state": {
       "flex": "2"
      }
     },
     "beb982f9937c48389b122e783ef4e924": {
      "model_module": "@jupyter-widgets/controls",
      "model_module_version": "1.5.0",
      "model_name": "DescriptionStyleModel",
      "state": {
       "description_width": ""
      }
     },
     "beba6a95dbc745dea7da96dacc2cc6c4": {
      "model_module": "@jupyter-widgets/controls",
      "model_module_version": "1.5.0",
      "model_name": "ProgressStyleModel",
      "state": {
       "description_width": ""
      }
     },
     "bebdd4d023ea47a080633328859092d9": {
      "model_module": "@jupyter-widgets/base",
      "model_module_version": "1.2.0",
      "model_name": "LayoutModel",
      "state": {}
     },
     "befce8a3a2af410084dfe29897f65d42": {
      "model_module": "@jupyter-widgets/base",
      "model_module_version": "1.2.0",
      "model_name": "LayoutModel",
      "state": {
       "display": "inline-flex",
       "flex_flow": "row wrap",
       "visibility": "hidden",
       "width": "100%"
      }
     },
     "befda4a3e8784a2e9fb1fe69b5ecfde1": {
      "model_module": "@jupyter-widgets/controls",
      "model_module_version": "1.5.0",
      "model_name": "HTMLModel",
      "state": {
       "layout": "IPY_MODEL_644bbd4d5a6341238432853af40ad6a4",
       "style": "IPY_MODEL_cda29f9a8bf24080bde065f8586fbf53",
       "value": "Epoch 1: 100%"
      }
     },
     "bf5673e88cd143a1b25167d9999e9c18": {
      "model_module": "@jupyter-widgets/controls",
      "model_module_version": "1.5.0",
      "model_name": "HTMLModel",
      "state": {
       "layout": "IPY_MODEL_d785cd981dc44b269653d0bf775bd787",
       "style": "IPY_MODEL_f1a67aebfb2240dc8310079d4e033814",
       "value": "100%"
      }
     },
     "bf94c2ec4a3447dba0b8142448eafc25": {
      "model_module": "@jupyter-widgets/base",
      "model_module_version": "1.2.0",
      "model_name": "LayoutModel",
      "state": {
       "display": "inline-flex",
       "flex_flow": "row wrap",
       "width": "100%"
      }
     },
     "bfdfb9abafdc429db41c53fa933db048": {
      "model_module": "@jupyter-widgets/base",
      "model_module_version": "1.2.0",
      "model_name": "LayoutModel",
      "state": {}
     },
     "bfea1a8bb37a41968fa608279e0e744b": {
      "model_module": "@jupyter-widgets/controls",
      "model_module_version": "1.5.0",
      "model_name": "HTMLModel",
      "state": {
       "layout": "IPY_MODEL_b8059e935afb45e4a634990bf6e47eab",
       "style": "IPY_MODEL_5a40b476d1cc400e980d656fe16bc22a",
       "value": " 25%"
      }
     },
     "bff855e59b0a43f683b4f4bee8dfde38": {
      "model_module": "@jupyter-widgets/base",
      "model_module_version": "1.2.0",
      "model_name": "LayoutModel",
      "state": {}
     },
     "bff8a14a94e8453f870190c46fa0c9d0": {
      "model_module": "@jupyter-widgets/controls",
      "model_module_version": "1.5.0",
      "model_name": "DescriptionStyleModel",
      "state": {
       "description_width": ""
      }
     },
     "c08976cf9529426c9bfc8c43da7477fa": {
      "model_module": "@jupyter-widgets/controls",
      "model_module_version": "1.5.0",
      "model_name": "FloatProgressModel",
      "state": {
       "layout": "IPY_MODEL_11b29eefefd4496b8a1e620db168a11e",
       "max": 191,
       "style": "IPY_MODEL_a047c88404f34a55a6e35002f0144c81",
       "value": 191
      }
     },
     "c0a6a0a43c50441ba8f14b3cc84c701a": {
      "model_module": "@jupyter-widgets/controls",
      "model_module_version": "1.5.0",
      "model_name": "DescriptionStyleModel",
      "state": {
       "description_width": ""
      }
     },
     "c0ad72396aad4be0846752c7cd645dbc": {
      "model_module": "@jupyter-widgets/base",
      "model_module_version": "1.2.0",
      "model_name": "LayoutModel",
      "state": {
       "flex": "2"
      }
     },
     "c0c5b97f277942c785850e1a0865917b": {
      "model_module": "@jupyter-widgets/controls",
      "model_module_version": "1.5.0",
      "model_name": "ProgressStyleModel",
      "state": {
       "description_width": ""
      }
     },
     "c13ffa2177bf44d69298237a4d2a970e": {
      "model_module": "@jupyter-widgets/controls",
      "model_module_version": "1.5.0",
      "model_name": "FloatProgressModel",
      "state": {
       "layout": "IPY_MODEL_eb28c3f6899b4eb1b2e134c5c4a895d3",
       "max": 191,
       "style": "IPY_MODEL_030b321e7a934561b9aa632eae33d44b",
       "value": 191
      }
     },
     "c1432ffa55d34322a191681b4c708b3d": {
      "model_module": "@jupyter-widgets/base",
      "model_module_version": "1.2.0",
      "model_name": "LayoutModel",
      "state": {}
     },
     "c181ff24a4f0425f8daeefcfc07321b6": {
      "model_module": "@jupyter-widgets/base",
      "model_module_version": "1.2.0",
      "model_name": "LayoutModel",
      "state": {}
     },
     "c1a279ef841c4ee58032dd36b65b6781": {
      "model_module": "@jupyter-widgets/base",
      "model_module_version": "1.2.0",
      "model_name": "LayoutModel",
      "state": {}
     },
     "c1acfede7e464156aae2dcbf11cc6b3f": {
      "model_module": "@jupyter-widgets/controls",
      "model_module_version": "1.5.0",
      "model_name": "FloatProgressModel",
      "state": {
       "layout": "IPY_MODEL_caa61623162f475eb0c2c7effa8fb367",
       "max": 1,
       "style": "IPY_MODEL_c0c5b97f277942c785850e1a0865917b"
      }
     },
     "c1e85c301fb1426c8dfdcb739e370524": {
      "model_module": "@jupyter-widgets/base",
      "model_module_version": "1.2.0",
      "model_name": "LayoutModel",
      "state": {}
     },
     "c233e109b71747e0bfa03e0dc9a49e91": {
      "model_module": "@jupyter-widgets/base",
      "model_module_version": "1.2.0",
      "model_name": "LayoutModel",
      "state": {
       "display": "inline-flex",
       "flex_flow": "row wrap",
       "visibility": "hidden",
       "width": "100%"
      }
     },
     "c25c6d5e7c374a579f76509fd0d04823": {
      "model_module": "@jupyter-widgets/controls",
      "model_module_version": "1.5.0",
      "model_name": "DescriptionStyleModel",
      "state": {
       "description_width": ""
      }
     },
     "c2b24a4453af49509cf85b053b8149f8": {
      "model_module": "@jupyter-widgets/base",
      "model_module_version": "1.2.0",
      "model_name": "LayoutModel",
      "state": {
       "flex": "2"
      }
     },
     "c2b99881ee144b4a98272d7c2caf7bd0": {
      "model_module": "@jupyter-widgets/controls",
      "model_module_version": "1.5.0",
      "model_name": "ProgressStyleModel",
      "state": {
       "description_width": ""
      }
     },
     "c2c3ce5965c94940b1495182eab65f66": {
      "model_module": "@jupyter-widgets/base",
      "model_module_version": "1.2.0",
      "model_name": "LayoutModel",
      "state": {}
     },
     "c2d8ed28ef1c4e7491f1be7e0f368d09": {
      "model_module": "@jupyter-widgets/controls",
      "model_module_version": "1.5.0",
      "model_name": "HTMLModel",
      "state": {
       "layout": "IPY_MODEL_c75dc48b3eea43af8809d71dbd055555",
       "style": "IPY_MODEL_aae1fdbff54d450c9680c3b54aadfcbe",
       "value": "Epoch 1: 100%"
      }
     },
     "c2decb9fb16048a2a6fa70e967d0d7fa": {
      "model_module": "@jupyter-widgets/controls",
      "model_module_version": "1.5.0",
      "model_name": "HTMLModel",
      "state": {
       "layout": "IPY_MODEL_e79e14a7fe3840ba9998f32fe2633010",
       "style": "IPY_MODEL_eb50875472fc42c3911b5d1306b3610c",
       "value": "Sanity Checking DataLoader 0: 100%"
      }
     },
     "c2e1ccfdf6eb4b2b86e746278c6ce6a8": {
      "model_module": "@jupyter-widgets/controls",
      "model_module_version": "1.5.0",
      "model_name": "LabelModel",
      "state": {
       "layout": "IPY_MODEL_1937116339a648aaaa01e4ea1dbc667c",
       "style": "IPY_MODEL_d96ffa70eb7e46c19eca28f5acbf78e2"
      }
     },
     "c2f58e5b8c41443e8bbd18dca13b2ee6": {
      "model_module": "@jupyter-widgets/controls",
      "model_module_version": "1.5.0",
      "model_name": "FloatProgressModel",
      "state": {
       "bar_style": "success",
       "layout": "IPY_MODEL_345c4145ed8a4855a455f9678acba6c8",
       "max": 3,
       "style": "IPY_MODEL_2970d8f61aad4314a2df05a07405fecf",
       "value": 3
      }
     },
     "c3091010879d432e8824893e1f674898": {
      "model_module": "@jupyter-widgets/controls",
      "model_module_version": "1.5.0",
      "model_name": "HBoxModel",
      "state": {
       "children": [
        "IPY_MODEL_de82cdf8a0554c5690957125d0583908",
        "IPY_MODEL_14083bc3bf0d4a20bd6903d032592b75",
        "IPY_MODEL_0f6e043edd34438eb2b4617013f08ba8"
       ],
       "layout": "IPY_MODEL_41364421eb164505b94d8e26c4c0ae8d"
      }
     },
     "c330b9cd1790451d8b8e7055047ebb61": {
      "model_module": "@jupyter-widgets/base",
      "model_module_version": "1.2.0",
      "model_name": "LayoutModel",
      "state": {}
     },
     "c34a456069d644d3a6850b57f1248f92": {
      "model_module": "@jupyter-widgets/controls",
      "model_module_version": "1.5.0",
      "model_name": "HTMLModel",
      "state": {
       "layout": "IPY_MODEL_9bed0d60cf7b4aae84b841552d218f80",
       "style": "IPY_MODEL_ca86d7a888444333a41e7d69366acb3a",
       "value": "Validation DataLoader 0: 100%"
      }
     },
     "c35cae272f004fb0a84d28d27bc5cbcd": {
      "model_module": "@jupyter-widgets/base",
      "model_module_version": "1.2.0",
      "model_name": "LayoutModel",
      "state": {}
     },
     "c375c0c6ac644eaa8d410c5d9599dabb": {
      "model_module": "@jupyter-widgets/base",
      "model_module_version": "1.2.0",
      "model_name": "LayoutModel",
      "state": {}
     },
     "c3b2d9b53f17421592979149fc451c02": {
      "model_module": "@jupyter-widgets/base",
      "model_module_version": "1.2.0",
      "model_name": "LayoutModel",
      "state": {}
     },
     "c3e75631086e4e6580b43ed1d1fb919b": {
      "model_module": "@jupyter-widgets/controls",
      "model_module_version": "1.5.0",
      "model_name": "DescriptionStyleModel",
      "state": {
       "description_width": ""
      }
     },
     "c3ef60fde9aa455786f001ff2a66c144": {
      "model_module": "@jupyter-widgets/controls",
      "model_module_version": "1.5.0",
      "model_name": "DescriptionStyleModel",
      "state": {
       "description_width": ""
      }
     },
     "c3fbacb8cf5b490981ec61be754ef297": {
      "model_module": "@jupyter-widgets/controls",
      "model_module_version": "1.5.0",
      "model_name": "FloatProgressModel",
      "state": {
       "layout": "IPY_MODEL_e4647b73dade4c8b840cf7297ce4ff65",
       "max": 191,
       "style": "IPY_MODEL_ce15f56dd8564e1c8455bd4f808eb900",
       "value": 191
      }
     },
     "c42cebf6b4cd439aa51255b682e46619": {
      "model_module": "@jupyter-widgets/base",
      "model_module_version": "1.2.0",
      "model_name": "LayoutModel",
      "state": {}
     },
     "c438884490504a1cb10857bc9b4c30b5": {
      "model_module": "@jupyter-widgets/controls",
      "model_module_version": "1.5.0",
      "model_name": "DescriptionStyleModel",
      "state": {
       "description_width": ""
      }
     },
     "c46b0d558bc9444b881517a746ba975a": {
      "model_module": "@jupyter-widgets/controls",
      "model_module_version": "1.5.0",
      "model_name": "FloatProgressModel",
      "state": {
       "bar_style": "success",
       "layout": "IPY_MODEL_02d08808128e41bc96ab95e995319707",
       "max": 417,
       "style": "IPY_MODEL_e16dffbffde74065b799fc3c58ea1eea",
       "value": 417
      }
     },
     "c4755527403d40a3a47fc4f717354bb2": {
      "model_module": "@jupyter-widgets/controls",
      "model_module_version": "1.5.0",
      "model_name": "HBoxModel",
      "state": {
       "children": [
        "IPY_MODEL_7ed0c53925e543349da8f011116c937f",
        "IPY_MODEL_6c36ab631e204e4b84ab082622a273eb",
        "IPY_MODEL_84e6eb05466d47ec9df6e21c4c0f3553"
       ],
       "layout": "IPY_MODEL_bb846207fe454adfae918a50887a9571"
      }
     },
     "c477aa9666cc4b6d903e2b2d2b32261f": {
      "model_module": "@jupyter-widgets/base",
      "model_module_version": "1.2.0",
      "model_name": "LayoutModel",
      "state": {}
     },
     "c48c7dbdb9974d5aa24c1cc6a0cf2615": {
      "model_module": "@jupyter-widgets/controls",
      "model_module_version": "1.5.0",
      "model_name": "FloatProgressModel",
      "state": {
       "bar_style": "success",
       "layout": "IPY_MODEL_30ad431d7a014cf7ae1d3ff2d461fd40",
       "max": 417,
       "style": "IPY_MODEL_d24910c4c12348e89385288f0dc16bb8",
       "value": 417
      }
     },
     "c4a0e8d80d2746d3939d3b0cf60c0f43": {
      "model_module": "@jupyter-widgets/controls",
      "model_module_version": "1.5.0",
      "model_name": "HTMLModel",
      "state": {
       "layout": "IPY_MODEL_37e5b5a8ad0142729b813b70534c3cbc",
       "style": "IPY_MODEL_49b789ad62c641e180f8f641ec3f47d2",
       "value": "Epoch 1:  56%"
      }
     },
     "c4b90ad9272a42b5bd84fb537764c1a8": {
      "model_module": "@jupyter-widgets/base",
      "model_module_version": "1.2.0",
      "model_name": "LayoutModel",
      "state": {}
     },
     "c4cc3b535cbc4c58af405857152a2ffb": {
      "model_module": "@jupyter-widgets/controls",
      "model_module_version": "1.5.0",
      "model_name": "ProgressStyleModel",
      "state": {
       "description_width": ""
      }
     },
     "c52ac48365d940a385db0f74cc395b7b": {
      "model_module": "@jupyter-widgets/controls",
      "model_module_version": "1.5.0",
      "model_name": "HBoxModel",
      "state": {
       "children": [
        "IPY_MODEL_5bfc60e6656d47b28cfba2781e37f94b",
        "IPY_MODEL_eb20e3d83c354fb9ab380030cd65bf17",
        "IPY_MODEL_459873bc03664b36b2f6ca9791c4a281"
       ],
       "layout": "IPY_MODEL_eb89164611f14ccbb927b511b54b9c36"
      }
     },
     "c52fde293107403c976306a59a12150d": {
      "model_module": "@jupyter-widgets/controls",
      "model_module_version": "1.5.0",
      "model_name": "HTMLModel",
      "state": {
       "layout": "IPY_MODEL_5ce4ea2914184e32be3b9e93742189c4",
       "style": "IPY_MODEL_40a651e342e749468c58325a47de0169",
       "value": "Epoch 1: 100%"
      }
     },
     "c5350aa23c0046d6af764443171f7c22": {
      "model_module": "@jupyter-widgets/controls",
      "model_module_version": "1.5.0",
      "model_name": "FloatProgressModel",
      "state": {
       "layout": "IPY_MODEL_633ea3e74d4241b0a9b13fd90c71a2e9",
       "max": 191,
       "style": "IPY_MODEL_48f02797d0214709aa13d270a9868e1f",
       "value": 191
      }
     },
     "c558d5d3aaa749cdba97957558d3c9ba": {
      "model_module": "@jupyter-widgets/controls",
      "model_module_version": "1.5.0",
      "model_name": "HTMLModel",
      "state": {
       "layout": "IPY_MODEL_5bedb5490a0f43a8906befa8c346945d",
       "style": "IPY_MODEL_d936a34cb9114bd1936cca2a623e3afa",
       "value": " 8/8 [28:34&lt;00:00, 217.95s/it]"
      }
     },
     "c57de3ba886b4bf18ef5899bac5cdcc1": {
      "model_module": "@jupyter-widgets/base",
      "model_module_version": "1.2.0",
      "model_name": "LayoutModel",
      "state": {}
     },
     "c5953063a7f3428f9f35af0baa763107": {
      "model_module": "@jupyter-widgets/base",
      "model_module_version": "1.2.0",
      "model_name": "LayoutModel",
      "state": {}
     },
     "c5a8fcf2642d4b7984c27751ae997435": {
      "model_module": "@jupyter-widgets/base",
      "model_module_version": "1.2.0",
      "model_name": "LayoutModel",
      "state": {
       "flex": "2"
      }
     },
     "c5bcfdb9306e493ab47a5abd1d9bae5d": {
      "model_module": "@jupyter-widgets/base",
      "model_module_version": "1.2.0",
      "model_name": "LayoutModel",
      "state": {}
     },
     "c5f1cdbf4ff04731ade6734d51f31138": {
      "model_module": "@jupyter-widgets/controls",
      "model_module_version": "1.5.0",
      "model_name": "ProgressStyleModel",
      "state": {
       "description_width": ""
      }
     },
     "c6365b90190f4e2c8e05cb352313c43f": {
      "model_module": "@jupyter-widgets/base",
      "model_module_version": "1.2.0",
      "model_name": "LayoutModel",
      "state": {}
     },
     "c684dadc35d841699faa24ef52b2d2b8": {
      "model_module": "@jupyter-widgets/base",
      "model_module_version": "1.2.0",
      "model_name": "LayoutModel",
      "state": {}
     },
     "c6e42eccbf3b40c8ad1ab4489fc0314f": {
      "model_module": "@jupyter-widgets/controls",
      "model_module_version": "1.5.0",
      "model_name": "HTMLModel",
      "state": {
       "layout": "IPY_MODEL_5ace0a21581244f4aef55ab5118fbe3c",
       "style": "IPY_MODEL_b6f4e710b60b4b2fa58eb6ee56e1ca00",
       "value": " 191/191 [00:10&lt;00:00, 18.02it/s]"
      }
     },
     "c70affeed19f4362872df53396792c8b": {
      "model_module": "@jupyter-widgets/base",
      "model_module_version": "1.2.0",
      "model_name": "LayoutModel",
      "state": {
       "flex": "2"
      }
     },
     "c70d0c3e236844208482f57851695a89": {
      "model_module": "@jupyter-widgets/controls",
      "model_module_version": "1.5.0",
      "model_name": "ProgressStyleModel",
      "state": {
       "description_width": ""
      }
     },
     "c70e1faa7c754a7e850d2d1583816074": {
      "model_module": "@jupyter-widgets/base",
      "model_module_version": "1.2.0",
      "model_name": "LayoutModel",
      "state": {
       "display": "inline-flex",
       "flex_flow": "row wrap",
       "width": "100%"
      }
     },
     "c730a2f092434d64963cc36668263dce": {
      "model_module": "@jupyter-widgets/base",
      "model_module_version": "1.2.0",
      "model_name": "LayoutModel",
      "state": {}
     },
     "c734249a165349d3beff8cacc53547f7": {
      "model_module": "@jupyter-widgets/base",
      "model_module_version": "1.2.0",
      "model_name": "LayoutModel",
      "state": {
       "flex": "2"
      }
     },
     "c73e7b96e6da44e78c9e65b368e83191": {
      "model_module": "@jupyter-widgets/controls",
      "model_module_version": "1.5.0",
      "model_name": "FloatProgressModel",
      "state": {
       "layout": "IPY_MODEL_a5494167d08547cb9a0f7c1597fb8edb",
       "max": 191,
       "style": "IPY_MODEL_45cd914918b6469a9c74b159f0314b6b",
       "value": 191
      }
     },
     "c746314ea756487eac3fec946650bcf6": {
      "model_module": "@jupyter-widgets/controls",
      "model_module_version": "1.5.0",
      "model_name": "DescriptionStyleModel",
      "state": {
       "description_width": ""
      }
     },
     "c75552a662c84d07a54cfcb432aaa5d1": {
      "model_module": "@jupyter-widgets/base",
      "model_module_version": "1.2.0",
      "model_name": "LayoutModel",
      "state": {}
     },
     "c75dc48b3eea43af8809d71dbd055555": {
      "model_module": "@jupyter-widgets/base",
      "model_module_version": "1.2.0",
      "model_name": "LayoutModel",
      "state": {}
     },
     "c80e09d72bd540fd9b7a9d3730784a29": {
      "model_module": "@jupyter-widgets/base",
      "model_module_version": "1.2.0",
      "model_name": "LayoutModel",
      "state": {}
     },
     "c8230746b8104d71821876d600548d17": {
      "model_module": "@jupyter-widgets/base",
      "model_module_version": "1.2.0",
      "model_name": "LayoutModel",
      "state": {}
     },
     "c89fb6eeb3aa4e08925bcbfc5ae6a9d7": {
      "model_module": "@jupyter-widgets/controls",
      "model_module_version": "1.5.0",
      "model_name": "FloatProgressModel",
      "state": {
       "layout": "IPY_MODEL_dc7bcd3d499947949fa0ae53db34047a",
       "max": 191,
       "style": "IPY_MODEL_710d57a6a2314e80851eda1c870d7985",
       "value": 191
      }
     },
     "c8a7471e098642b6a284448273aaa92b": {
      "model_module": "@jupyter-widgets/base",
      "model_module_version": "1.2.0",
      "model_name": "LayoutModel",
      "state": {}
     },
     "c8c6e7e180b84552af0ee8c391fee7d6": {
      "model_module": "@jupyter-widgets/controls",
      "model_module_version": "1.5.0",
      "model_name": "FloatProgressModel",
      "state": {
       "layout": "IPY_MODEL_be84ef16a3c9487ea9136998073bf34d",
       "max": 2,
       "style": "IPY_MODEL_71744e3d1c1b4b3d9159c02ef48ecd50",
       "value": 2
      }
     },
     "c8ef88e0b26e4f64b0598a37904a0d34": {
      "model_module": "@jupyter-widgets/controls",
      "model_module_version": "1.5.0",
      "model_name": "DescriptionStyleModel",
      "state": {
       "description_width": ""
      }
     },
     "c8f03d274ff9430ebe94dfb5027546a0": {
      "model_module": "@jupyter-widgets/controls",
      "model_module_version": "1.5.0",
      "model_name": "DescriptionStyleModel",
      "state": {
       "description_width": ""
      }
     },
     "c958645aae3e4c1e9d1a9129420daa8c": {
      "model_module": "@jupyter-widgets/controls",
      "model_module_version": "1.5.0",
      "model_name": "FloatProgressModel",
      "state": {
       "layout": "IPY_MODEL_f9e94708ef6c4295996c73c79e3bd5a1",
       "max": 2,
       "style": "IPY_MODEL_f83b5cd04a8b4d4b8c6331000cce1ba1",
       "value": 2
      }
     },
     "c96d48354fd0415c98d112d0a529a9df": {
      "model_module": "@jupyter-widgets/controls",
      "model_module_version": "1.5.0",
      "model_name": "VBoxModel",
      "state": {
       "children": [
        "IPY_MODEL_47d5f4579de7463e9f51c5ff6dc28175",
        "IPY_MODEL_69b9d02b302f43bab5d0a44951fffef9"
       ],
       "layout": "IPY_MODEL_699558f72c1c4156b95a39e76c17c7e5"
      }
     },
     "c9717a1392d1423089bfd2262437af6e": {
      "model_module": "@jupyter-widgets/controls",
      "model_module_version": "1.5.0",
      "model_name": "HTMLModel",
      "state": {
       "layout": "IPY_MODEL_50dc711b68ef40a18b6e6718e020c78f",
       "style": "IPY_MODEL_9eda4c2aef4645afbacd32f2dcd70318",
       "value": " 2/2 [00:00&lt;00:00,  5.61it/s]"
      }
     },
     "c97c5b5a9ecd414d9c69b043752e1c7a": {
      "model_module": "@jupyter-widgets/controls",
      "model_module_version": "1.5.0",
      "model_name": "DescriptionStyleModel",
      "state": {
       "description_width": ""
      }
     },
     "c99366dd646e4f0388127f87cba7da10": {
      "model_module": "@jupyter-widgets/base",
      "model_module_version": "1.2.0",
      "model_name": "LayoutModel",
      "state": {}
     },
     "c9988a5d2be648b7a5c7624b8810c21e": {
      "model_module": "@jupyter-widgets/controls",
      "model_module_version": "1.5.0",
      "model_name": "DescriptionStyleModel",
      "state": {
       "description_width": ""
      }
     },
     "c9a5637dfa3c4752ae201f9840d8a51d": {
      "model_module": "@jupyter-widgets/base",
      "model_module_version": "1.2.0",
      "model_name": "LayoutModel",
      "state": {}
     },
     "c9b79dff957f4ecca07a045788660f70": {
      "model_module": "@jupyter-widgets/controls",
      "model_module_version": "1.5.0",
      "model_name": "FloatProgressModel",
      "state": {
       "bar_style": "success",
       "layout": "IPY_MODEL_2e4d7431206c4a88bbc7cb6b29383b10",
       "max": 417,
       "style": "IPY_MODEL_50d58425e92e4598ae9b78dd329b6baa",
       "value": 417
      }
     },
     "c9b7b0a4a4ef4fed8f422ccf0ad99290": {
      "model_module": "@jupyter-widgets/base",
      "model_module_version": "1.2.0",
      "model_name": "LayoutModel",
      "state": {}
     },
     "c9ec61125d6b4bc2ab44bc5f82e3a345": {
      "model_module": "@jupyter-widgets/controls",
      "model_module_version": "1.5.0",
      "model_name": "HTMLModel",
      "state": {
       "layout": "IPY_MODEL_caba5f6252804ec9862b5b59323a22a3",
       "style": "IPY_MODEL_d0cf81af04844ecf8871fe33a2e75ec3",
       "value": "Sanity Checking DataLoader 0: 100%"
      }
     },
     "c9ed5baf77cf4aec91c18d3ba0ca40b0": {
      "model_module": "@jupyter-widgets/controls",
      "model_module_version": "1.5.0",
      "model_name": "HTMLModel",
      "state": {
       "layout": "IPY_MODEL_5c665e734865494289ab9f85bb283692",
       "style": "IPY_MODEL_7a784b2fb70f4d5e8fddfa0b3f8a4746",
       "value": "Validation DataLoader 0: 100%"
      }
     },
     "ca055036bfaf4bdbaf83dfda321c9d33": {
      "model_module": "@jupyter-widgets/base",
      "model_module_version": "1.2.0",
      "model_name": "LayoutModel",
      "state": {}
     },
     "ca1a0a478b2e4ff9ad369f7cf661beac": {
      "model_module": "@jupyter-widgets/base",
      "model_module_version": "1.2.0",
      "model_name": "LayoutModel",
      "state": {
       "flex": "2"
      }
     },
     "ca2a32d37f2f4a2ba5a681f9ae07599e": {
      "model_module": "@jupyter-widgets/controls",
      "model_module_version": "1.5.0",
      "model_name": "DescriptionStyleModel",
      "state": {
       "description_width": ""
      }
     },
     "ca86a4cfc0f64a438215cea0f312c5dc": {
      "model_module": "@jupyter-widgets/controls",
      "model_module_version": "1.5.0",
      "model_name": "HTMLModel",
      "state": {
       "layout": "IPY_MODEL_699df4327c814e1aa528060de6501388",
       "style": "IPY_MODEL_9358d19e80ac493f9ed67796b296b317",
       "value": "Validation DataLoader 0: 100%"
      }
     },
     "ca86d7a888444333a41e7d69366acb3a": {
      "model_module": "@jupyter-widgets/controls",
      "model_module_version": "1.5.0",
      "model_name": "DescriptionStyleModel",
      "state": {
       "description_width": ""
      }
     },
     "caa61623162f475eb0c2c7effa8fb367": {
      "model_module": "@jupyter-widgets/base",
      "model_module_version": "1.2.0",
      "model_name": "LayoutModel",
      "state": {}
     },
     "cab3f8837c074e1d8850a2e3f4ed9285": {
      "model_module": "@jupyter-widgets/controls",
      "model_module_version": "1.5.0",
      "model_name": "ProgressStyleModel",
      "state": {
       "description_width": ""
      }
     },
     "caba5f6252804ec9862b5b59323a22a3": {
      "model_module": "@jupyter-widgets/base",
      "model_module_version": "1.2.0",
      "model_name": "LayoutModel",
      "state": {}
     },
     "cad005f0b1524a5ebb1ac6b0f87e4503": {
      "model_module": "@jupyter-widgets/base",
      "model_module_version": "1.2.0",
      "model_name": "LayoutModel",
      "state": {
       "flex": "2"
      }
     },
     "cae448f036cb4816820eb59070df85a9": {
      "model_module": "@jupyter-widgets/controls",
      "model_module_version": "1.5.0",
      "model_name": "HTMLModel",
      "state": {
       "layout": "IPY_MODEL_7db4e9307e2d486cb3f874a17ad7d76e",
       "style": "IPY_MODEL_1b6389588cfb4ffc8e1f9111f2cf3b8c",
       "value": " 417/417 [00:57&lt;00:00,  7.31it/s, v_num=x13x, seq_len=106.0, y=0.0124, valid/AUROC=0.813]"
      }
     },
     "cb09c324c0694be69956bbcf9f76e914": {
      "model_module": "@jupyter-widgets/controls",
      "model_module_version": "1.5.0",
      "model_name": "VBoxModel",
      "state": {
       "children": [
        "IPY_MODEL_d514ee0a4a7248db96516e50d1e0a596",
        "IPY_MODEL_a5f666082a8944c2aba5c633f3290504"
       ],
       "layout": "IPY_MODEL_79da6e3f9cf44c2db679c678a2212a51"
      }
     },
     "cb1e08ac524641b293c8a7c229f482e9": {
      "model_module": "@jupyter-widgets/base",
      "model_module_version": "1.2.0",
      "model_name": "LayoutModel",
      "state": {
       "display": "inline-flex",
       "flex_flow": "row wrap",
       "visibility": "hidden",
       "width": "100%"
      }
     },
     "cb24ec1dcc4f4c96a01961c7ecca70e1": {
      "model_module": "@jupyter-widgets/controls",
      "model_module_version": "1.5.0",
      "model_name": "HTMLModel",
      "state": {
       "layout": "IPY_MODEL_fabcdcc5ed6b4ef5a3786a99c4ef7831",
       "style": "IPY_MODEL_e0153570bf2445678da8da355b5ef5c3",
       "value": " 191/191 [00:12&lt;00:00, 15.35it/s]"
      }
     },
     "cb26eb981da14deeb58749442a5a2b96": {
      "model_module": "@jupyter-widgets/controls",
      "model_module_version": "1.5.0",
      "model_name": "HTMLModel",
      "state": {
       "layout": "IPY_MODEL_184819e8cf3a48b9a950148913ddfc15",
       "style": "IPY_MODEL_fc317b1f3f794fe2b3300289e0297c96",
       "value": "Sanity Checking DataLoader 0: 100%"
      }
     },
     "cb50e70c62324f568b1f574d5acf5958": {
      "model_module": "@jupyter-widgets/base",
      "model_module_version": "1.2.0",
      "model_name": "LayoutModel",
      "state": {}
     },
     "cb576d7be1014ad6a35420eec82f3730": {
      "model_module": "@jupyter-widgets/controls",
      "model_module_version": "1.5.0",
      "model_name": "HBoxModel",
      "state": {
       "children": [
        "IPY_MODEL_01713ccf3f2740799fc5e936cfb803c9",
        "IPY_MODEL_1165a5739a1d40098169e49b0ff61d3d",
        "IPY_MODEL_01f4e97be8344f089c84e0542cc6e15d"
       ],
       "layout": "IPY_MODEL_85b8706ed1674d8e9f4cb431f03e2d7c"
      }
     },
     "cb8550714fe94510bd22cf73b4aa97cb": {
      "model_module": "@jupyter-widgets/controls",
      "model_module_version": "1.5.0",
      "model_name": "HTMLModel",
      "state": {
       "layout": "IPY_MODEL_0b5595c0ca374e65b5e7bb58b03ff370",
       "style": "IPY_MODEL_5970a912aedd4547af55b807ec5f8903",
       "value": " 417/417 [00:36&lt;00:00, 11.49it/s, v_num=dla8, seq_len=1.920, y=0.0083, valid/AUROC=0.507]"
      }
     },
     "cbaeaaab2a334954b1660f8a64e58419": {
      "model_module": "@jupyter-widgets/controls",
      "model_module_version": "1.5.0",
      "model_name": "DescriptionStyleModel",
      "state": {
       "description_width": ""
      }
     },
     "cbd932e9292d4b6198fa32f56ab21de6": {
      "model_module": "@jupyter-widgets/base",
      "model_module_version": "1.2.0",
      "model_name": "LayoutModel",
      "state": {
       "display": "inline-flex",
       "flex_flow": "row wrap",
       "visibility": "hidden",
       "width": "100%"
      }
     },
     "cbdcad4208324e4e89fdfba4d1a4ca11": {
      "model_module": "@jupyter-widgets/base",
      "model_module_version": "1.2.0",
      "model_name": "LayoutModel",
      "state": {
       "display": "inline-flex",
       "flex_flow": "row wrap",
       "visibility": "hidden",
       "width": "100%"
      }
     },
     "cc42ed53533948e7bb1d9004f694e93f": {
      "model_module": "@jupyter-widgets/base",
      "model_module_version": "1.2.0",
      "model_name": "LayoutModel",
      "state": {
       "flex": "2"
      }
     },
     "cc51cf002bb541f9855a142777350d92": {
      "model_module": "@jupyter-widgets/controls",
      "model_module_version": "1.5.0",
      "model_name": "FloatProgressModel",
      "state": {
       "bar_style": "danger",
       "layout": "IPY_MODEL_842c0df962574f1995ec78e152750d70",
       "max": 417,
       "style": "IPY_MODEL_468b444a8b054fabb7b2ebc220d8397f",
       "value": 218
      }
     },
     "cc55c1ed1d344dbc8ed3e2729f62053a": {
      "model_module": "@jupyter-widgets/controls",
      "model_module_version": "1.5.0",
      "model_name": "HBoxModel",
      "state": {
       "children": [
        "IPY_MODEL_45cf025ddaec4ae99d715b518c0fee9d",
        "IPY_MODEL_2324a62e966c4a78a92fbb34eab322e1",
        "IPY_MODEL_2f35be9e17bd4f69b3f4ba79f1effc60"
       ],
       "layout": "IPY_MODEL_0c1929be7b9e43f0b40e26f597405029"
      }
     },
     "cc5999804bac493fb24c9fe715d578aa": {
      "model_module": "@jupyter-widgets/base",
      "model_module_version": "1.2.0",
      "model_name": "LayoutModel",
      "state": {}
     },
     "cc640ed49d2742c39704ea139193c907": {
      "model_module": "@jupyter-widgets/controls",
      "model_module_version": "1.5.0",
      "model_name": "DescriptionStyleModel",
      "state": {
       "description_width": ""
      }
     },
     "cc6ea94e2a1e4c55a5ab9069df6c33aa": {
      "model_module": "@jupyter-widgets/controls",
      "model_module_version": "1.5.0",
      "model_name": "FloatProgressModel",
      "state": {
       "bar_style": "danger",
       "layout": "IPY_MODEL_91181f535ec3406db01bf41426676488",
       "max": 8,
       "style": "IPY_MODEL_0cdaf302a3f3466f94538f2d82c7079b",
       "value": 3
      }
     },
     "cc79dce8e8284d1fa982fd6dfaeeea31": {
      "model_module": "@jupyter-widgets/controls",
      "model_module_version": "1.5.0",
      "model_name": "DescriptionStyleModel",
      "state": {
       "description_width": ""
      }
     },
     "cc8ad06894264fc99affe18f8fdc3e2d": {
      "model_module": "@jupyter-widgets/base",
      "model_module_version": "1.2.0",
      "model_name": "LayoutModel",
      "state": {}
     },
     "ccacbe137e5d4f6590597685d380703e": {
      "model_module": "@jupyter-widgets/controls",
      "model_module_version": "1.5.0",
      "model_name": "DescriptionStyleModel",
      "state": {
       "description_width": ""
      }
     },
     "ccef9d46302247989e5adf582bb04cfe": {
      "model_module": "@jupyter-widgets/base",
      "model_module_version": "1.2.0",
      "model_name": "LayoutModel",
      "state": {}
     },
     "ccf86efa9b0343f6941117e144d27b6c": {
      "model_module": "@jupyter-widgets/controls",
      "model_module_version": "1.5.0",
      "model_name": "HTMLModel",
      "state": {
       "layout": "IPY_MODEL_d7249feea31b423e87f385156409d66d",
       "style": "IPY_MODEL_e4902024cbaf4c09a6c5dfe7debf2ac4",
       "value": " 2/2 [00:00&lt;00:00,  5.57it/s]"
      }
     },
     "ccff63ad53ef49369f3e52bede420bf9": {
      "model_module": "@jupyter-widgets/controls",
      "model_module_version": "1.5.0",
      "model_name": "DescriptionStyleModel",
      "state": {
       "description_width": ""
      }
     },
     "cd063b380efa4e3b8d3cc285c28abf54": {
      "model_module": "@jupyter-widgets/base",
      "model_module_version": "1.2.0",
      "model_name": "LayoutModel",
      "state": {
       "display": "inline-flex",
       "flex_flow": "row wrap",
       "visibility": "hidden",
       "width": "100%"
      }
     },
     "cd2ed238be6f4ee799cd8997f6125ef0": {
      "model_module": "@jupyter-widgets/controls",
      "model_module_version": "1.5.0",
      "model_name": "HTMLModel",
      "state": {
       "layout": "IPY_MODEL_58e748b272ff451ba61d90dad071f04c",
       "style": "IPY_MODEL_aee3dc2b852c49ce95c4c07cc1f1ce88",
       "value": "Sanity Checking DataLoader 0: 100%"
      }
     },
     "cd533c99680c4b2c84629ecee1509a72": {
      "model_module": "@jupyter-widgets/base",
      "model_module_version": "1.2.0",
      "model_name": "LayoutModel",
      "state": {}
     },
     "cd718ee52b814f1ea964f24f76c5950e": {
      "model_module": "@jupyter-widgets/controls",
      "model_module_version": "1.5.0",
      "model_name": "HTMLModel",
      "state": {
       "layout": "IPY_MODEL_4d33f4e61c7b429695a8ced281bb9bb9",
       "style": "IPY_MODEL_ca2a32d37f2f4a2ba5a681f9ae07599e",
       "value": " 417/417 [00:36&lt;00:00, 11.45it/s, v_num=rbu8, seq_len=1.680, y=0.0124, valid/AUROC=0.682]"
      }
     },
     "cda29f9a8bf24080bde065f8586fbf53": {
      "model_module": "@jupyter-widgets/controls",
      "model_module_version": "1.5.0",
      "model_name": "DescriptionStyleModel",
      "state": {
       "description_width": ""
      }
     },
     "cda35daaa24f46e390390ef628258684": {
      "model_module": "@jupyter-widgets/controls",
      "model_module_version": "1.5.0",
      "model_name": "ProgressStyleModel",
      "state": {
       "description_width": ""
      }
     },
     "cdaf0e4b93554af099b24f139d61a399": {
      "model_module": "@jupyter-widgets/controls",
      "model_module_version": "1.5.0",
      "model_name": "HTMLModel",
      "state": {
       "layout": "IPY_MODEL_dc9e17d760884641ac1862b68398f960",
       "style": "IPY_MODEL_9717b12b46c44df08271dc7eb0d493f3",
       "value": " 191/191 [00:10&lt;00:00, 18.10it/s]"
      }
     },
     "cde1c2d41d9444178738dba8fbd80dbd": {
      "model_module": "@jupyter-widgets/base",
      "model_module_version": "1.2.0",
      "model_name": "LayoutModel",
      "state": {}
     },
     "cdee1b125e78486e9d57f7f326791eee": {
      "model_module": "@jupyter-widgets/base",
      "model_module_version": "1.2.0",
      "model_name": "LayoutModel",
      "state": {}
     },
     "cdf1e6225c42429f9dfb7ba2cf068bb7": {
      "model_module": "@jupyter-widgets/controls",
      "model_module_version": "1.5.0",
      "model_name": "FloatProgressModel",
      "state": {
       "bar_style": "success",
       "layout": "IPY_MODEL_7e83f5c84f8f4540917def6448c141d6",
       "max": 417,
       "style": "IPY_MODEL_9aebe8cc8b854553a387db4d115fff76",
       "value": 417
      }
     },
     "ce15f56dd8564e1c8455bd4f808eb900": {
      "model_module": "@jupyter-widgets/controls",
      "model_module_version": "1.5.0",
      "model_name": "ProgressStyleModel",
      "state": {
       "description_width": ""
      }
     },
     "ce5babf37a6e482f893da3a4e76ad77b": {
      "model_module": "@jupyter-widgets/controls",
      "model_module_version": "1.5.0",
      "model_name": "DescriptionStyleModel",
      "state": {
       "description_width": ""
      }
     },
     "ce5df0b6643c44b3862ae485e622d1e4": {
      "model_module": "@jupyter-widgets/controls",
      "model_module_version": "1.5.0",
      "model_name": "FloatProgressModel",
      "state": {
       "layout": "IPY_MODEL_0c24ea1881a54708baeb18b984cb50e2",
       "max": 191,
       "style": "IPY_MODEL_c5f1cdbf4ff04731ade6734d51f31138",
       "value": 191
      }
     },
     "ce8bf779112c4887a81c865fc107a733": {
      "model_module": "@jupyter-widgets/controls",
      "model_module_version": "1.5.0",
      "model_name": "DescriptionStyleModel",
      "state": {
       "description_width": ""
      }
     },
     "ceaa56c7a0b042bfb50f0e6b5896aeb3": {
      "model_module": "@jupyter-widgets/controls",
      "model_module_version": "1.5.0",
      "model_name": "DescriptionStyleModel",
      "state": {
       "description_width": ""
      }
     },
     "ceab38c039a54d938f750d6ffd501b0b": {
      "model_module": "@jupyter-widgets/controls",
      "model_module_version": "1.5.0",
      "model_name": "HTMLModel",
      "state": {
       "layout": "IPY_MODEL_dac49d5059424b768f539f38e2df2764",
       "style": "IPY_MODEL_7201494d9c274e8e8ea97ce74bc8f439",
       "value": " 417/417 [00:36&lt;00:00, 11.33it/s, v_num=rbu8, seq_len=1.690, y=0.0083, valid/AUROC=0.670]"
      }
     },
     "ceabfd1332304747a31243999ba8dd9d": {
      "model_module": "@jupyter-widgets/base",
      "model_module_version": "1.2.0",
      "model_name": "LayoutModel",
      "state": {
       "flex": "2"
      }
     },
     "ced02699768e41719db0d72be8f5d4c8": {
      "model_module": "@jupyter-widgets/controls",
      "model_module_version": "1.5.0",
      "model_name": "HTMLModel",
      "state": {
       "layout": "IPY_MODEL_7d0ca4140f314cb0b5184e8b01e1b18b",
       "style": "IPY_MODEL_cf7d3b37d9064455a87904ff333b8f89",
       "value": " 3/3 [04:46&lt;00:00, 93.58s/it]"
      }
     },
     "cf217362663c40a996637616ec307877": {
      "model_module": "@jupyter-widgets/controls",
      "model_module_version": "1.5.0",
      "model_name": "HTMLModel",
      "state": {
       "layout": "IPY_MODEL_2a112c9109124d30a241308e75a7c759",
       "style": "IPY_MODEL_129d3cee95e945808bec62d25fcb85bc",
       "value": " 3/3 [00:02&lt;00:00,  1.04it/s]"
      }
     },
     "cf252983d8ce405a8a663b226ecb8a70": {
      "model_module": "@jupyter-widgets/controls",
      "model_module_version": "1.5.0",
      "model_name": "HTMLModel",
      "state": {
       "layout": "IPY_MODEL_9f673a0c0b1743eebf5e72e19c67076a",
       "style": "IPY_MODEL_d32288c7b4f3425f873382d9619d4752",
       "value": "100%"
      }
     },
     "cf3e5912aff44f158967cd65edad405f": {
      "model_module": "@jupyter-widgets/base",
      "model_module_version": "1.2.0",
      "model_name": "LayoutModel",
      "state": {}
     },
     "cf66a9ddcdb7474bb7366f85cff1e6b9": {
      "model_module": "@jupyter-widgets/base",
      "model_module_version": "1.2.0",
      "model_name": "LayoutModel",
      "state": {
       "display": "inline-flex",
       "flex_flow": "row wrap",
       "width": "100%"
      }
     },
     "cf6ae12290bd42bb9816973dff672a3f": {
      "model_module": "@jupyter-widgets/base",
      "model_module_version": "1.2.0",
      "model_name": "LayoutModel",
      "state": {
       "flex": "2"
      }
     },
     "cf7d3b37d9064455a87904ff333b8f89": {
      "model_module": "@jupyter-widgets/controls",
      "model_module_version": "1.5.0",
      "model_name": "DescriptionStyleModel",
      "state": {
       "description_width": ""
      }
     },
     "cf9d297bea174950bd88b9ee18942ad7": {
      "model_module": "@jupyter-widgets/base",
      "model_module_version": "1.2.0",
      "model_name": "LayoutModel",
      "state": {
       "display": "inline-flex",
       "flex_flow": "row wrap",
       "visibility": "hidden",
       "width": "100%"
      }
     },
     "cfe4d89c93fe4a77a7f6cf031f81169c": {
      "model_module": "@jupyter-widgets/base",
      "model_module_version": "1.2.0",
      "model_name": "LayoutModel",
      "state": {}
     },
     "cffd3c655e224af7b74273f746c5a14e": {
      "model_module": "@jupyter-widgets/base",
      "model_module_version": "1.2.0",
      "model_name": "LayoutModel",
      "state": {}
     },
     "d01f1a84a3834397ab690d163e8bd3e0": {
      "model_module": "@jupyter-widgets/base",
      "model_module_version": "1.2.0",
      "model_name": "LayoutModel",
      "state": {
       "flex": "2"
      }
     },
     "d0609530dda5465190291ca893d63594": {
      "model_module": "@jupyter-widgets/controls",
      "model_module_version": "1.5.0",
      "model_name": "DescriptionStyleModel",
      "state": {
       "description_width": ""
      }
     },
     "d06bd8dc34ad459c9dfd4291ec2cdcd1": {
      "model_module": "@jupyter-widgets/base",
      "model_module_version": "1.2.0",
      "model_name": "LayoutModel",
      "state": {
       "flex": "2"
      }
     },
     "d0cf81af04844ecf8871fe33a2e75ec3": {
      "model_module": "@jupyter-widgets/controls",
      "model_module_version": "1.5.0",
      "model_name": "DescriptionStyleModel",
      "state": {
       "description_width": ""
      }
     },
     "d1147561729c438eb0cb97cffac9743a": {
      "model_module": "@jupyter-widgets/base",
      "model_module_version": "1.2.0",
      "model_name": "LayoutModel",
      "state": {}
     },
     "d1207ee08329469fab24a80c6c9b77d5": {
      "model_module": "@jupyter-widgets/base",
      "model_module_version": "1.2.0",
      "model_name": "LayoutModel",
      "state": {
       "flex": "2"
      }
     },
     "d12643a830b84c1eab73120bc22d1851": {
      "model_module": "@jupyter-widgets/controls",
      "model_module_version": "1.5.0",
      "model_name": "DescriptionStyleModel",
      "state": {
       "description_width": ""
      }
     },
     "d196fa1677fd42ac8052ab1d70837ab1": {
      "model_module": "@jupyter-widgets/base",
      "model_module_version": "1.2.0",
      "model_name": "LayoutModel",
      "state": {
       "flex": "2"
      }
     },
     "d198c30a62de4536ac1952d98b306d0e": {
      "model_module": "@jupyter-widgets/controls",
      "model_module_version": "1.5.0",
      "model_name": "HTMLModel",
      "state": {
       "layout": "IPY_MODEL_e2d6780b67a94eb1a05cab8b2f2507ab",
       "style": "IPY_MODEL_094aa32da1be410190fdc4208186110d",
       "value": "Epoch 1: 100%"
      }
     },
     "d1c4ee1e291e440b9c5ebe18ec3385ee": {
      "model_module": "@jupyter-widgets/controls",
      "model_module_version": "1.5.0",
      "model_name": "FloatProgressModel",
      "state": {
       "layout": "IPY_MODEL_30cf9753dc0149c895a6157e2cb3e022",
       "max": 191,
       "style": "IPY_MODEL_747ae1b0c07d46d29cb85e9b7298e3d8",
       "value": 191
      }
     },
     "d1f3e6aa4e484c7da0194e097196d23d": {
      "model_module": "@jupyter-widgets/base",
      "model_module_version": "1.2.0",
      "model_name": "LayoutModel",
      "state": {
       "flex": "2"
      }
     },
     "d1fdd84b32b848bd939e6390edfc8df0": {
      "model_module": "@jupyter-widgets/base",
      "model_module_version": "1.2.0",
      "model_name": "LayoutModel",
      "state": {}
     },
     "d22f9c242e5d44b7b53214b6e995f08f": {
      "model_module": "@jupyter-widgets/controls",
      "model_module_version": "1.5.0",
      "model_name": "ProgressStyleModel",
      "state": {
       "description_width": ""
      }
     },
     "d24910c4c12348e89385288f0dc16bb8": {
      "model_module": "@jupyter-widgets/controls",
      "model_module_version": "1.5.0",
      "model_name": "ProgressStyleModel",
      "state": {
       "description_width": ""
      }
     },
     "d27d83f748b14b10b75cd004dbb1140e": {
      "model_module": "@jupyter-widgets/controls",
      "model_module_version": "1.5.0",
      "model_name": "HTMLModel",
      "state": {
       "layout": "IPY_MODEL_dfb5e4731a694ea2b724e2499981816a",
       "style": "IPY_MODEL_b121306720644a9da64af432e0cad706",
       "value": "Validation DataLoader 0: 100%"
      }
     },
     "d2841461695d432ebc03b8bdf0bb66dc": {
      "model_module": "@jupyter-widgets/controls",
      "model_module_version": "1.5.0",
      "model_name": "ProgressStyleModel",
      "state": {
       "description_width": ""
      }
     },
     "d32288c7b4f3425f873382d9619d4752": {
      "model_module": "@jupyter-widgets/controls",
      "model_module_version": "1.5.0",
      "model_name": "DescriptionStyleModel",
      "state": {
       "description_width": ""
      }
     },
     "d32fe1269dbc4ed7a9769353359d6aa6": {
      "model_module": "@jupyter-widgets/controls",
      "model_module_version": "1.5.0",
      "model_name": "HTMLModel",
      "state": {
       "layout": "IPY_MODEL_9a5d106d6e50473b9982cef7aa790675",
       "style": "IPY_MODEL_eb650a0940524448a34836f3cba60fac",
       "value": "Epoch 1:  52%"
      }
     },
     "d33c0f0feb68430891a7afebf68f26d2": {
      "model_module": "@jupyter-widgets/controls",
      "model_module_version": "1.5.0",
      "model_name": "HBoxModel",
      "state": {
       "children": [
        "IPY_MODEL_45c24a1990734120aa57ca2f86ac17b1",
        "IPY_MODEL_d99dce9bc1a545e583d6d68837ceb48f",
        "IPY_MODEL_2df5811c72b24758baf753b3297243b1"
       ],
       "layout": "IPY_MODEL_3f456a2d060546119d253aa4175192d1"
      }
     },
     "d35a1685a90d4b3099ac9c47d00c9a7b": {
      "model_module": "@jupyter-widgets/base",
      "model_module_version": "1.2.0",
      "model_name": "LayoutModel",
      "state": {}
     },
     "d3dbb60925eb438e8a5f0b813afb6dc0": {
      "model_module": "@jupyter-widgets/controls",
      "model_module_version": "1.5.0",
      "model_name": "ProgressStyleModel",
      "state": {
       "description_width": ""
      }
     },
     "d40ecb5ad7384ab7bf898ff8a6811ff0": {
      "model_module": "@jupyter-widgets/controls",
      "model_module_version": "1.5.0",
      "model_name": "FloatProgressModel",
      "state": {
       "bar_style": "success",
       "layout": "IPY_MODEL_6330d29996d44e099b4782ab4e10c5b9",
       "max": 8,
       "style": "IPY_MODEL_f6e100b52fa54044bfb3f914f8169439",
       "value": 8
      }
     },
     "d410cd757f9a4382ade36a8b07e1635b": {
      "model_module": "@jupyter-widgets/controls",
      "model_module_version": "1.5.0",
      "model_name": "ProgressStyleModel",
      "state": {
       "description_width": ""
      }
     },
     "d41c171cc09644719b1105ae69c5868c": {
      "model_module": "@jupyter-widgets/base",
      "model_module_version": "1.2.0",
      "model_name": "LayoutModel",
      "state": {}
     },
     "d43c2b90bb9142b3ab769872ed6abf25": {
      "model_module": "@jupyter-widgets/controls",
      "model_module_version": "1.5.0",
      "model_name": "HTMLModel",
      "state": {
       "layout": "IPY_MODEL_8e27a34449444e9bb7f1da27180b404d",
       "style": "IPY_MODEL_a18f8975f76f4a86a1f9774520243f57",
       "value": " 135/191 [00:07&lt;00:03, 17.53it/s]"
      }
     },
     "d462020079dd4ea7b9ba2c0d828629c4": {
      "model_module": "@jupyter-widgets/controls",
      "model_module_version": "1.5.0",
      "model_name": "HBoxModel",
      "state": {
       "children": [
        "IPY_MODEL_44d3f435049645ccb3b265a81c9b1ad2",
        "IPY_MODEL_4e2b8460b42d4a46b9e8ffd0580f051d",
        "IPY_MODEL_ced02699768e41719db0d72be8f5d4c8"
       ],
       "layout": "IPY_MODEL_8e8780dcec86449abd8bb1c8b72b1c5f"
      }
     },
     "d4839524cade4970a9376f57347e1cc9": {
      "model_module": "@jupyter-widgets/controls",
      "model_module_version": "1.5.0",
      "model_name": "ProgressStyleModel",
      "state": {
       "description_width": ""
      }
     },
     "d4a1ba81038e406d8775c163fb581997": {
      "model_module": "@jupyter-widgets/controls",
      "model_module_version": "1.5.0",
      "model_name": "ProgressStyleModel",
      "state": {
       "description_width": ""
      }
     },
     "d4b3d92751a3444ab6b660c1e8fe80ee": {
      "model_module": "@jupyter-widgets/base",
      "model_module_version": "1.2.0",
      "model_name": "LayoutModel",
      "state": {
       "display": "inline-flex",
       "flex_flow": "row wrap",
       "width": "100%"
      }
     },
     "d4bb998e40964bb8be9bcd833c4c636b": {
      "model_module": "@jupyter-widgets/controls",
      "model_module_version": "1.5.0",
      "model_name": "DescriptionStyleModel",
      "state": {
       "description_width": ""
      }
     },
     "d4cff23bc76841b9b28acecc5507a5d2": {
      "model_module": "@jupyter-widgets/controls",
      "model_module_version": "1.5.0",
      "model_name": "FloatProgressModel",
      "state": {
       "bar_style": "success",
       "layout": "IPY_MODEL_5410bc07dd0c4c058018392d77214679",
       "max": 8,
       "style": "IPY_MODEL_1fb6c3fad3914485a56cb4058c9f2c0a",
       "value": 8
      }
     },
     "d50fa2c365494e429d74b3ee0820663b": {
      "model_module": "@jupyter-widgets/base",
      "model_module_version": "1.2.0",
      "model_name": "LayoutModel",
      "state": {}
     },
     "d514ee0a4a7248db96516e50d1e0a596": {
      "model_module": "@jupyter-widgets/controls",
      "model_module_version": "1.5.0",
      "model_name": "LabelModel",
      "state": {
       "layout": "IPY_MODEL_5ccc829329a049eaae5aa3cf3cfe18e2",
       "style": "IPY_MODEL_7c553568a27a4941a898a3276f706b32"
      }
     },
     "d572c0964ef0459a84ce40e1392a4305": {
      "model_module": "@jupyter-widgets/controls",
      "model_module_version": "1.5.0",
      "model_name": "DescriptionStyleModel",
      "state": {
       "description_width": ""
      }
     },
     "d5baaffbe5644547972dd9448bd5ae57": {
      "model_module": "@jupyter-widgets/base",
      "model_module_version": "1.2.0",
      "model_name": "LayoutModel",
      "state": {
       "display": "inline-flex",
       "flex_flow": "row wrap",
       "visibility": "hidden",
       "width": "100%"
      }
     },
     "d5deb4ee20404f5c975a7c15c86ccf6c": {
      "model_module": "@jupyter-widgets/base",
      "model_module_version": "1.2.0",
      "model_name": "LayoutModel",
      "state": {}
     },
     "d67b023ee4ef4721ba078d13acb7a747": {
      "model_module": "@jupyter-widgets/base",
      "model_module_version": "1.2.0",
      "model_name": "LayoutModel",
      "state": {}
     },
     "d6b17fb531d64efe9b3942fa6588175d": {
      "model_module": "@jupyter-widgets/base",
      "model_module_version": "1.2.0",
      "model_name": "LayoutModel",
      "state": {
       "display": "inline-flex",
       "flex_flow": "row wrap",
       "width": "100%"
      }
     },
     "d6ba96c305ee46a9972d0680e1dbbd6a": {
      "model_module": "@jupyter-widgets/controls",
      "model_module_version": "1.5.0",
      "model_name": "ProgressStyleModel",
      "state": {
       "description_width": ""
      }
     },
     "d6bda770563043929679583397767717": {
      "model_module": "@jupyter-widgets/controls",
      "model_module_version": "1.5.0",
      "model_name": "HTMLModel",
      "state": {
       "layout": "IPY_MODEL_a585842283824519875834cb84e26c49",
       "style": "IPY_MODEL_091edf7949c64958a44043fb9459bae7",
       "value": "Sanity Checking DataLoader 0: 100%"
      }
     },
     "d6c1ba0db7bd4d69a6376a0736c09b8a": {
      "model_module": "@jupyter-widgets/controls",
      "model_module_version": "1.5.0",
      "model_name": "DescriptionStyleModel",
      "state": {
       "description_width": ""
      }
     },
     "d702f57d6b4b42898f01048457da8364": {
      "model_module": "@jupyter-widgets/controls",
      "model_module_version": "1.5.0",
      "model_name": "HTMLModel",
      "state": {
       "layout": "IPY_MODEL_60d8b14bc2c644568daaa8b4dfbcf082",
       "style": "IPY_MODEL_bbd4978e2fdc4f5596a556c09a87a93a",
       "value": "Validation DataLoader 0: 100%"
      }
     },
     "d70b4aac79864473996e848e384edb69": {
      "model_module": "@jupyter-widgets/base",
      "model_module_version": "1.2.0",
      "model_name": "LayoutModel",
      "state": {}
     },
     "d7249feea31b423e87f385156409d66d": {
      "model_module": "@jupyter-widgets/base",
      "model_module_version": "1.2.0",
      "model_name": "LayoutModel",
      "state": {}
     },
     "d7280027dfe34c9ea3f935d03e133d96": {
      "model_module": "@jupyter-widgets/base",
      "model_module_version": "1.2.0",
      "model_name": "LayoutModel",
      "state": {}
     },
     "d73edf8c3b6e4ba1a633d74e0ef01e64": {
      "model_module": "@jupyter-widgets/base",
      "model_module_version": "1.2.0",
      "model_name": "LayoutModel",
      "state": {}
     },
     "d752a2851f4f499faec2a96ec1bcc46f": {
      "model_module": "@jupyter-widgets/controls",
      "model_module_version": "1.5.0",
      "model_name": "DescriptionStyleModel",
      "state": {
       "description_width": ""
      }
     },
     "d762b9f19bf04c20a612392ae5ab0a03": {
      "model_module": "@jupyter-widgets/controls",
      "model_module_version": "1.5.0",
      "model_name": "ProgressStyleModel",
      "state": {
       "description_width": ""
      }
     },
     "d785cd981dc44b269653d0bf775bd787": {
      "model_module": "@jupyter-widgets/base",
      "model_module_version": "1.2.0",
      "model_name": "LayoutModel",
      "state": {}
     },
     "d791586c318c4565b844e0b518cb39bb": {
      "model_module": "@jupyter-widgets/controls",
      "model_module_version": "1.5.0",
      "model_name": "DescriptionStyleModel",
      "state": {
       "description_width": ""
      }
     },
     "d7c6de42aca848eeabc04fd42d86858f": {
      "model_module": "@jupyter-widgets/base",
      "model_module_version": "1.2.0",
      "model_name": "LayoutModel",
      "state": {
       "display": "inline-flex",
       "flex_flow": "row wrap",
       "visibility": "hidden",
       "width": "100%"
      }
     },
     "d80e984b87a3417dacdd9bf3af39d977": {
      "model_module": "@jupyter-widgets/controls",
      "model_module_version": "1.5.0",
      "model_name": "ProgressStyleModel",
      "state": {
       "description_width": ""
      }
     },
     "d810011fab9a4ab6be13f82f55af825e": {
      "model_module": "@jupyter-widgets/controls",
      "model_module_version": "1.5.0",
      "model_name": "DescriptionStyleModel",
      "state": {
       "description_width": ""
      }
     },
     "d83919dc990b4c8eb4bc6ea1f3f317dc": {
      "model_module": "@jupyter-widgets/base",
      "model_module_version": "1.2.0",
      "model_name": "LayoutModel",
      "state": {
       "flex": "2"
      }
     },
     "d84afb96fd944fe3a5dd840b74fd65ec": {
      "model_module": "@jupyter-widgets/base",
      "model_module_version": "1.2.0",
      "model_name": "LayoutModel",
      "state": {
       "display": "inline-flex",
       "flex_flow": "row wrap",
       "visibility": "hidden",
       "width": "100%"
      }
     },
     "d8605638f0394842b4b13cee499109ed": {
      "model_module": "@jupyter-widgets/base",
      "model_module_version": "1.2.0",
      "model_name": "LayoutModel",
      "state": {}
     },
     "d86eb16572064c9ebf316fe42c0b947d": {
      "model_module": "@jupyter-widgets/controls",
      "model_module_version": "1.5.0",
      "model_name": "DescriptionStyleModel",
      "state": {
       "description_width": ""
      }
     },
     "d88aa565d0ce456694e9859a29a831a6": {
      "model_module": "@jupyter-widgets/controls",
      "model_module_version": "1.5.0",
      "model_name": "DescriptionStyleModel",
      "state": {
       "description_width": ""
      }
     },
     "d8b3f7778ff8434289a4990b5ab37534": {
      "model_module": "@jupyter-widgets/controls",
      "model_module_version": "1.5.0",
      "model_name": "ProgressStyleModel",
      "state": {
       "description_width": ""
      }
     },
     "d8be96ec91c74565a35323754c903c9b": {
      "model_module": "@jupyter-widgets/base",
      "model_module_version": "1.2.0",
      "model_name": "LayoutModel",
      "state": {}
     },
     "d8c73bec282d4071a893d8c972c419eb": {
      "model_module": "@jupyter-widgets/base",
      "model_module_version": "1.2.0",
      "model_name": "LayoutModel",
      "state": {}
     },
     "d8e012c8c8cb4bbf9aa29c53ffc598c0": {
      "model_module": "@jupyter-widgets/controls",
      "model_module_version": "1.5.0",
      "model_name": "ProgressStyleModel",
      "state": {
       "description_width": ""
      }
     },
     "d936a34cb9114bd1936cca2a623e3afa": {
      "model_module": "@jupyter-widgets/controls",
      "model_module_version": "1.5.0",
      "model_name": "DescriptionStyleModel",
      "state": {
       "description_width": ""
      }
     },
     "d96ffa70eb7e46c19eca28f5acbf78e2": {
      "model_module": "@jupyter-widgets/controls",
      "model_module_version": "1.5.0",
      "model_name": "DescriptionStyleModel",
      "state": {
       "description_width": ""
      }
     },
     "d99dce9bc1a545e583d6d68837ceb48f": {
      "model_module": "@jupyter-widgets/controls",
      "model_module_version": "1.5.0",
      "model_name": "FloatProgressModel",
      "state": {
       "bar_style": "danger",
       "layout": "IPY_MODEL_ca055036bfaf4bdbaf83dfda321c9d33",
       "max": 1,
       "style": "IPY_MODEL_4a7905c7df8f4d87a59014bcfcd19d8c"
      }
     },
     "d9e9e1ae9edc409ab7bf7db199546ee0": {
      "model_module": "@jupyter-widgets/controls",
      "model_module_version": "1.5.0",
      "model_name": "FloatProgressModel",
      "state": {
       "layout": "IPY_MODEL_7ba33fc89696490a9ffceab10d96dada",
       "max": 2,
       "style": "IPY_MODEL_bd83deea4d8d4537bfd1d2a070c3a5a4",
       "value": 2
      }
     },
     "d9f378f7e3b346acaf448d46f0b8fe1d": {
      "model_module": "@jupyter-widgets/controls",
      "model_module_version": "1.5.0",
      "model_name": "DescriptionStyleModel",
      "state": {
       "description_width": ""
      }
     },
     "da03a1fcddde49d9bd8f3679e4aebbcd": {
      "model_module": "@jupyter-widgets/base",
      "model_module_version": "1.2.0",
      "model_name": "LayoutModel",
      "state": {}
     },
     "da2e97440f8e43d48816d016fca5a752": {
      "model_module": "@jupyter-widgets/base",
      "model_module_version": "1.2.0",
      "model_name": "LayoutModel",
      "state": {
       "flex": "2"
      }
     },
     "da41e4bb80ba4ca18e40129ceb04bc42": {
      "model_module": "@jupyter-widgets/controls",
      "model_module_version": "1.5.0",
      "model_name": "DescriptionStyleModel",
      "state": {
       "description_width": ""
      }
     },
     "da45934a8c3f4568b588c17893e3018b": {
      "model_module": "@jupyter-widgets/base",
      "model_module_version": "1.2.0",
      "model_name": "LayoutModel",
      "state": {}
     },
     "da7bf4f621e54175a7f481d455f16c5b": {
      "model_module": "@jupyter-widgets/base",
      "model_module_version": "1.2.0",
      "model_name": "LayoutModel",
      "state": {}
     },
     "dac33110d6174c56ae1122b9e1b415e0": {
      "model_module": "@jupyter-widgets/base",
      "model_module_version": "1.2.0",
      "model_name": "LayoutModel",
      "state": {}
     },
     "dac49d5059424b768f539f38e2df2764": {
      "model_module": "@jupyter-widgets/base",
      "model_module_version": "1.2.0",
      "model_name": "LayoutModel",
      "state": {}
     },
     "daeb32d8ad6d4124bfdaae08e31f7f9f": {
      "model_module": "@jupyter-widgets/controls",
      "model_module_version": "1.5.0",
      "model_name": "ProgressStyleModel",
      "state": {
       "description_width": ""
      }
     },
     "db2edaa1524741989188ee462c3f65c4": {
      "model_module": "@jupyter-widgets/controls",
      "model_module_version": "1.5.0",
      "model_name": "FloatProgressModel",
      "state": {
       "bar_style": "success",
       "layout": "IPY_MODEL_b241c83eeb3a4dfaad33cb893b07f02b",
       "max": 8,
       "style": "IPY_MODEL_9fd60a73474142ccbb8696f76b9e0f16",
       "value": 8
      }
     },
     "db3ac6b5014544228ded27150244fbdf": {
      "model_module": "@jupyter-widgets/controls",
      "model_module_version": "1.5.0",
      "model_name": "HTMLModel",
      "state": {
       "layout": "IPY_MODEL_5dec10ec40e84be7ac67dbf9cb9e60ec",
       "style": "IPY_MODEL_834167f4f0f743b9bb66ad3bad7e5894",
       "value": "Epoch 1: 100%"
      }
     },
     "db414b34d58242bdb2dde2709e1f9e38": {
      "model_module": "@jupyter-widgets/controls",
      "model_module_version": "1.5.0",
      "model_name": "HTMLModel",
      "state": {
       "layout": "IPY_MODEL_c8230746b8104d71821876d600548d17",
       "style": "IPY_MODEL_d12643a830b84c1eab73120bc22d1851",
       "value": " 191/191 [00:10&lt;00:00, 17.41it/s]"
      }
     },
     "db74327144cf406896196ccfd5fddde1": {
      "model_module": "@jupyter-widgets/controls",
      "model_module_version": "1.5.0",
      "model_name": "FloatProgressModel",
      "state": {
       "layout": "IPY_MODEL_a3da5dfe7c9e43e99abe74b8f8c403cd",
       "max": 191,
       "style": "IPY_MODEL_73ff86a94b4c4a05aaca258c98fb6fc5",
       "value": 191
      }
     },
     "db942ae4ec0d4885b88112691028f8b5": {
      "model_module": "@jupyter-widgets/controls",
      "model_module_version": "1.5.0",
      "model_name": "HTMLModel",
      "state": {
       "layout": "IPY_MODEL_c375c0c6ac644eaa8d410c5d9599dabb",
       "style": "IPY_MODEL_80af0f875c1549cab9cfd5f311b1dd1e",
       "value": " 2/2 [00:00&lt;00:00, 12.35it/s]"
      }
     },
     "dba52d9624fc4fe3abd22bb5110d6764": {
      "model_module": "@jupyter-widgets/controls",
      "model_module_version": "1.5.0",
      "model_name": "HBoxModel",
      "state": {
       "children": [
        "IPY_MODEL_a312e91b26314f48bfa252542efee5b7",
        "IPY_MODEL_8cc45e042cd14bd784a72a2768ff13f2",
        "IPY_MODEL_3adb038cafd84376aef5eed2fc5ed3db"
       ],
       "layout": "IPY_MODEL_b5434a05fdcd4784a7eb743035a73099"
      }
     },
     "dbce2b9830ec440b8f658b42cf12d596": {
      "model_module": "@jupyter-widgets/controls",
      "model_module_version": "1.5.0",
      "model_name": "DescriptionStyleModel",
      "state": {
       "description_width": ""
      }
     },
     "dbeeec9eed3340ec83f5020da98499f9": {
      "model_module": "@jupyter-widgets/controls",
      "model_module_version": "1.5.0",
      "model_name": "HTMLModel",
      "state": {
       "layout": "IPY_MODEL_7c88af83c12e441b903da67df9763bc4",
       "style": "IPY_MODEL_59c66ab29a7542c69f1a5637de588c04",
       "value": " 2/2 [00:00&lt;00:00,  5.55it/s]"
      }
     },
     "dc15bc7a7e9d4d19a5e58577f3fca94a": {
      "model_module": "@jupyter-widgets/controls",
      "model_module_version": "1.5.0",
      "model_name": "DescriptionStyleModel",
      "state": {
       "description_width": ""
      }
     },
     "dc790726dee64f16960a7193de71bdc1": {
      "model_module": "@jupyter-widgets/controls",
      "model_module_version": "1.5.0",
      "model_name": "ProgressStyleModel",
      "state": {
       "description_width": ""
      }
     },
     "dc7bcd3d499947949fa0ae53db34047a": {
      "model_module": "@jupyter-widgets/base",
      "model_module_version": "1.2.0",
      "model_name": "LayoutModel",
      "state": {
       "flex": "2"
      }
     },
     "dc9e17d760884641ac1862b68398f960": {
      "model_module": "@jupyter-widgets/base",
      "model_module_version": "1.2.0",
      "model_name": "LayoutModel",
      "state": {}
     },
     "dcc4d997cd3f4678a09507091a0b25b9": {
      "model_module": "@jupyter-widgets/controls",
      "model_module_version": "1.5.0",
      "model_name": "HBoxModel",
      "state": {
       "children": [
        "IPY_MODEL_74a69d22375944fbab475882b562d067",
        "IPY_MODEL_f860ebd7c90d448eadc45ec9734700c1",
        "IPY_MODEL_0de609717d2549219f68da30d23fc50a"
       ],
       "layout": "IPY_MODEL_48c9e8d7d968440497fce0444f930bc8"
      }
     },
     "dccb490a83c643dc91d97084b420a496": {
      "model_module": "@jupyter-widgets/controls",
      "model_module_version": "1.5.0",
      "model_name": "HBoxModel",
      "state": {
       "children": [
        "IPY_MODEL_2d13dab54e744f74be80a401b332a4ea",
        "IPY_MODEL_7d59955fde0249449d027f5298448ec7",
        "IPY_MODEL_4fbf5726c66f4a13bdeb586214393435"
       ],
       "layout": "IPY_MODEL_76080f2b67f04367b1e8f1cf7528abb1"
      }
     },
     "dccc498f308b43b6b23906db436156bb": {
      "model_module": "@jupyter-widgets/base",
      "model_module_version": "1.2.0",
      "model_name": "LayoutModel",
      "state": {
       "flex": "2"
      }
     },
     "dd3e30168239493fbc8f3d982e840c00": {
      "model_module": "@jupyter-widgets/controls",
      "model_module_version": "1.5.0",
      "model_name": "LabelModel",
      "state": {
       "layout": "IPY_MODEL_6df4b6ecc6ee418bb74545f2e343cfd7",
       "style": "IPY_MODEL_e61a467baa2748a899314f4d4c3b3527"
      }
     },
     "dd49b3c2474c44a082af58f012e23f87": {
      "model_module": "@jupyter-widgets/controls",
      "model_module_version": "1.5.0",
      "model_name": "HTMLModel",
      "state": {
       "layout": "IPY_MODEL_c3b2d9b53f17421592979149fc451c02",
       "style": "IPY_MODEL_0570cfc5976e4852abc64f96bf3d9858",
       "value": "Validation DataLoader 0: 100%"
      }
     },
     "dd57d75841d348528296361fb6f22050": {
      "model_module": "@jupyter-widgets/controls",
      "model_module_version": "1.5.0",
      "model_name": "DescriptionStyleModel",
      "state": {
       "description_width": ""
      }
     },
     "dd7970ec31764d04ab5788398601bf0f": {
      "model_module": "@jupyter-widgets/controls",
      "model_module_version": "1.5.0",
      "model_name": "DescriptionStyleModel",
      "state": {
       "description_width": ""
      }
     },
     "dd7b2b66f779486f917747d1fcf69b00": {
      "model_module": "@jupyter-widgets/controls",
      "model_module_version": "1.5.0",
      "model_name": "DescriptionStyleModel",
      "state": {
       "description_width": ""
      }
     },
     "dd890ca279894c50a8bf118e5931fa73": {
      "model_module": "@jupyter-widgets/base",
      "model_module_version": "1.2.0",
      "model_name": "LayoutModel",
      "state": {
       "flex": "2"
      }
     },
     "ddc90bd6bd2a4f21bbb85bc5e6868b95": {
      "model_module": "@jupyter-widgets/base",
      "model_module_version": "1.2.0",
      "model_name": "LayoutModel",
      "state": {}
     },
     "de3f4a53f95c46bf9f8d81c5d90d0671": {
      "model_module": "@jupyter-widgets/base",
      "model_module_version": "1.2.0",
      "model_name": "LayoutModel",
      "state": {}
     },
     "de43a7576a8048adbc2cef84eb8976cc": {
      "model_module": "@jupyter-widgets/controls",
      "model_module_version": "1.5.0",
      "model_name": "DescriptionStyleModel",
      "state": {
       "description_width": ""
      }
     },
     "de82cdf8a0554c5690957125d0583908": {
      "model_module": "@jupyter-widgets/controls",
      "model_module_version": "1.5.0",
      "model_name": "HTMLModel",
      "state": {
       "layout": "IPY_MODEL_b35836a042a448679d434aec1fa16784",
       "style": "IPY_MODEL_7ae87d2ee1c84c47ac22dcf5a2e1f5df",
       "value": "Epoch 1:  10%"
      }
     },
     "debcc9a813244a82a22e47c2f447601a": {
      "model_module": "@jupyter-widgets/controls",
      "model_module_version": "1.5.0",
      "model_name": "DescriptionStyleModel",
      "state": {
       "description_width": ""
      }
     },
     "df8a4d205d6e40e2987a8c135459f00c": {
      "model_module": "@jupyter-widgets/controls",
      "model_module_version": "1.5.0",
      "model_name": "FloatProgressModel",
      "state": {
       "layout": "IPY_MODEL_a0238a423d874c73942a7d83164e1d0a",
       "max": 191,
       "style": "IPY_MODEL_9468c58aacb042f98ae7c1b6515a7654",
       "value": 191
      }
     },
     "df8ec00749454bf48025a74431ac0b48": {
      "model_module": "@jupyter-widgets/base",
      "model_module_version": "1.2.0",
      "model_name": "LayoutModel",
      "state": {}
     },
     "dfb42650bf1049f1ba4a42577321a957": {
      "model_module": "@jupyter-widgets/controls",
      "model_module_version": "1.5.0",
      "model_name": "FloatProgressModel",
      "state": {
       "layout": "IPY_MODEL_fabdb67601ac4468bc8b1e639747d3df",
       "max": 191,
       "style": "IPY_MODEL_7b5aa49c7f614556b26060ece44e7a4e",
       "value": 191
      }
     },
     "dfb5e4731a694ea2b724e2499981816a": {
      "model_module": "@jupyter-widgets/base",
      "model_module_version": "1.2.0",
      "model_name": "LayoutModel",
      "state": {}
     },
     "dfb7724c387946e8b4ed5b15313b64c8": {
      "model_module": "@jupyter-widgets/controls",
      "model_module_version": "1.5.0",
      "model_name": "ProgressStyleModel",
      "state": {
       "description_width": ""
      }
     },
     "dfc5f04b824944d29338d2ea1f6ac609": {
      "model_module": "@jupyter-widgets/controls",
      "model_module_version": "1.5.0",
      "model_name": "HTMLModel",
      "state": {
       "layout": "IPY_MODEL_069250bf9d33408ba6919848dce7fb34",
       "style": "IPY_MODEL_25289aa51ce44976badb81f4e0d3b87f",
       "value": " 191/191 [00:10&lt;00:00, 18.10it/s]"
      }
     },
     "dfcdd986a04d416e8d0ddfd096132dc7": {
      "model_module": "@jupyter-widgets/controls",
      "model_module_version": "1.5.0",
      "model_name": "FloatProgressModel",
      "state": {
       "layout": "IPY_MODEL_12399e2f969b44caaa0d6712024ed13f",
       "max": 1,
       "style": "IPY_MODEL_beba6a95dbc745dea7da96dacc2cc6c4"
      }
     },
     "dfd264ed31c04eb8a1da61dbac39453b": {
      "model_module": "@jupyter-widgets/controls",
      "model_module_version": "1.5.0",
      "model_name": "DescriptionStyleModel",
      "state": {
       "description_width": ""
      }
     },
     "dfd2b19ade3f47f2b6c5192b8db4df1e": {
      "model_module": "@jupyter-widgets/controls",
      "model_module_version": "1.5.0",
      "model_name": "DescriptionStyleModel",
      "state": {
       "description_width": ""
      }
     },
     "e00b5837e52941b39d68395d44999a83": {
      "model_module": "@jupyter-widgets/controls",
      "model_module_version": "1.5.0",
      "model_name": "DescriptionStyleModel",
      "state": {
       "description_width": ""
      }
     },
     "e00d78a3ca1c40b3b50b7386d49bd82f": {
      "model_module": "@jupyter-widgets/controls",
      "model_module_version": "1.5.0",
      "model_name": "FloatProgressModel",
      "state": {
       "layout": "IPY_MODEL_86c5d83205994f798df7f393d75f6765",
       "max": 2,
       "style": "IPY_MODEL_59932c82e01245a9b1272cdf08f80dcb",
       "value": 2
      }
     },
     "e0153570bf2445678da8da355b5ef5c3": {
      "model_module": "@jupyter-widgets/controls",
      "model_module_version": "1.5.0",
      "model_name": "DescriptionStyleModel",
      "state": {
       "description_width": ""
      }
     },
     "e019dc15443f4c35bbe30e39f33a92e9": {
      "model_module": "@jupyter-widgets/controls",
      "model_module_version": "1.5.0",
      "model_name": "HTMLModel",
      "state": {
       "layout": "IPY_MODEL_fbfe47542d624464b3fd72332888b075",
       "style": "IPY_MODEL_d6c1ba0db7bd4d69a6376a0736c09b8a",
       "value": "Validation DataLoader 0: 100%"
      }
     },
     "e042c7ff194a4d698f91fc9d2ba5b86f": {
      "model_module": "@jupyter-widgets/controls",
      "model_module_version": "1.5.0",
      "model_name": "HTMLModel",
      "state": {
       "layout": "IPY_MODEL_0d395cf7bb4540389c33ae201c8c1a0f",
       "style": "IPY_MODEL_1b27428c88504be190fabc29e1638bcf",
       "value": " 417/417 [00:57&lt;00:00,  7.27it/s, v_num=x13x, seq_len=124.0, y=0.0124, valid/AUROC=0.816]"
      }
     },
     "e05d48a38f41481a83069ae2519986b2": {
      "model_module": "@jupyter-widgets/controls",
      "model_module_version": "1.5.0",
      "model_name": "HTMLModel",
      "state": {
       "layout": "IPY_MODEL_9cf8995edf17442abcc20de149a18b1e",
       "style": "IPY_MODEL_b13ae490cc81473e8a6cc2144c36e58a",
       "value": "Sanity Checking DataLoader 0: 100%"
      }
     },
     "e0e3a9054c67484fa2b916b90ccd00c1": {
      "model_module": "@jupyter-widgets/controls",
      "model_module_version": "1.5.0",
      "model_name": "HTMLModel",
      "state": {
       "layout": "IPY_MODEL_511116d179aa4cc0ac7955df2ad8f333",
       "style": "IPY_MODEL_52703a5a3db2411d979c5e254c3a1de8",
       "value": "Validation DataLoader 0: 100%"
      }
     },
     "e12de2e8337f4acc8e30f6ceaa97e745": {
      "model_module": "@jupyter-widgets/controls",
      "model_module_version": "1.5.0",
      "model_name": "ProgressStyleModel",
      "state": {
       "description_width": ""
      }
     },
     "e16c20eea8784453a5819ab6ada87ad6": {
      "model_module": "@jupyter-widgets/controls",
      "model_module_version": "1.5.0",
      "model_name": "ProgressStyleModel",
      "state": {
       "description_width": ""
      }
     },
     "e16dffbffde74065b799fc3c58ea1eea": {
      "model_module": "@jupyter-widgets/controls",
      "model_module_version": "1.5.0",
      "model_name": "ProgressStyleModel",
      "state": {
       "description_width": ""
      }
     },
     "e178b88011544dc7929249c4518f20d8": {
      "model_module": "@jupyter-widgets/controls",
      "model_module_version": "1.5.0",
      "model_name": "FloatProgressModel",
      "state": {
       "layout": "IPY_MODEL_b051c3199e304c29894d71029dfe4e08",
       "max": 2,
       "style": "IPY_MODEL_cab3f8837c074e1d8850a2e3f4ed9285",
       "value": 2
      }
     },
     "e248c92fedf7458da222097c2eac9f9a": {
      "model_module": "@jupyter-widgets/controls",
      "model_module_version": "1.5.0",
      "model_name": "FloatProgressModel",
      "state": {
       "layout": "IPY_MODEL_07433a0be1dc4b49ac1b083bc2d4dbba",
       "max": 191,
       "style": "IPY_MODEL_61ba651f09ad4f58acc818cdd599729c",
       "value": 191
      }
     },
     "e2945182f7f14ce7854b7752b8f8d452": {
      "model_module": "@jupyter-widgets/controls",
      "model_module_version": "1.5.0",
      "model_name": "HBoxModel",
      "state": {
       "children": [
        "IPY_MODEL_bf5673e88cd143a1b25167d9999e9c18",
        "IPY_MODEL_b3d94b77252b4b328833e5fb0c565f65",
        "IPY_MODEL_7f27d90c29384234b86246d303d9a537"
       ],
       "layout": "IPY_MODEL_378744ae60b8445895c52fbb249d5576"
      }
     },
     "e29a7fdb591d450fa332e3e844375602": {
      "model_module": "@jupyter-widgets/controls",
      "model_module_version": "1.5.0",
      "model_name": "HTMLModel",
      "state": {
       "layout": "IPY_MODEL_f1e2f0c354a745fc98ee1b0d63cc9fb7",
       "style": "IPY_MODEL_59d0b574b8ac49a3ace97b8c48315def",
       "value": "Sanity Checking DataLoader 0: 100%"
      }
     },
     "e2d6780b67a94eb1a05cab8b2f2507ab": {
      "model_module": "@jupyter-widgets/base",
      "model_module_version": "1.2.0",
      "model_name": "LayoutModel",
      "state": {}
     },
     "e2e046a6ba7641a6b5e8ec9f05e18133": {
      "model_module": "@jupyter-widgets/controls",
      "model_module_version": "1.5.0",
      "model_name": "ProgressStyleModel",
      "state": {
       "description_width": ""
      }
     },
     "e2e289133bb04a69b756a928300dc858": {
      "model_module": "@jupyter-widgets/base",
      "model_module_version": "1.2.0",
      "model_name": "LayoutModel",
      "state": {}
     },
     "e344fb37c9ba47d48dded8de96219740": {
      "model_module": "@jupyter-widgets/controls",
      "model_module_version": "1.5.0",
      "model_name": "DescriptionStyleModel",
      "state": {
       "description_width": ""
      }
     },
     "e354b6af9fd84aefa29e8303ed4fa26f": {
      "model_module": "@jupyter-widgets/base",
      "model_module_version": "1.2.0",
      "model_name": "LayoutModel",
      "state": {}
     },
     "e36053478d914561a050c2962c3e41ec": {
      "model_module": "@jupyter-widgets/controls",
      "model_module_version": "1.5.0",
      "model_name": "HTMLModel",
      "state": {
       "layout": "IPY_MODEL_b79b6accca3c438b8f6deaf48f6780f2",
       "style": "IPY_MODEL_debcc9a813244a82a22e47c2f447601a",
       "value": " 0/1 [04:20&lt;?, ?it/s]"
      }
     },
     "e37d4d9e273d469aad690f0af24def38": {
      "model_module": "@jupyter-widgets/controls",
      "model_module_version": "1.5.0",
      "model_name": "VBoxModel",
      "state": {
       "children": [
        "IPY_MODEL_dd3e30168239493fbc8f3d982e840c00",
        "IPY_MODEL_dfcdd986a04d416e8d0ddfd096132dc7"
       ],
       "layout": "IPY_MODEL_c5bcfdb9306e493ab47a5abd1d9bae5d"
      }
     },
     "e3c8006ac7984a6caa7c95c3d04d5fc2": {
      "model_module": "@jupyter-widgets/base",
      "model_module_version": "1.2.0",
      "model_name": "LayoutModel",
      "state": {
       "display": "inline-flex",
       "flex_flow": "row wrap",
       "width": "100%"
      }
     },
     "e3cec323ff6f4fbb8a1172a6774cef1c": {
      "model_module": "@jupyter-widgets/base",
      "model_module_version": "1.2.0",
      "model_name": "LayoutModel",
      "state": {}
     },
     "e3df60806e544e0bb8b5c503f581f614": {
      "model_module": "@jupyter-widgets/controls",
      "model_module_version": "1.5.0",
      "model_name": "ProgressStyleModel",
      "state": {
       "description_width": ""
      }
     },
     "e3e1e09fa13240aebc0750d10ff27179": {
      "model_module": "@jupyter-widgets/controls",
      "model_module_version": "1.5.0",
      "model_name": "DescriptionStyleModel",
      "state": {
       "description_width": ""
      }
     },
     "e41cfb2533c449b3973d48b6b1a3f944": {
      "model_module": "@jupyter-widgets/base",
      "model_module_version": "1.2.0",
      "model_name": "LayoutModel",
      "state": {
       "display": "inline-flex",
       "flex_flow": "row wrap",
       "visibility": "hidden",
       "width": "100%"
      }
     },
     "e44ba1f822f84760adb2dca74252f09b": {
      "model_module": "@jupyter-widgets/base",
      "model_module_version": "1.2.0",
      "model_name": "LayoutModel",
      "state": {
       "display": "inline-flex",
       "flex_flow": "row wrap",
       "width": "100%"
      }
     },
     "e4647b73dade4c8b840cf7297ce4ff65": {
      "model_module": "@jupyter-widgets/base",
      "model_module_version": "1.2.0",
      "model_name": "LayoutModel",
      "state": {
       "flex": "2"
      }
     },
     "e473a01d45ee4872a5e3862065f72e32": {
      "model_module": "@jupyter-widgets/controls",
      "model_module_version": "1.5.0",
      "model_name": "HTMLModel",
      "state": {
       "layout": "IPY_MODEL_4be0b3a861134c558da9d64cb9d4048f",
       "style": "IPY_MODEL_3e0c90afd90c4111b423d553bd18f735",
       "value": " 417/417 [00:36&lt;00:00, 11.46it/s, v_num=dla8, seq_len=1.690, y=0.0083, valid/AUROC=0.507]"
      }
     },
     "e47f9a2cc78149aa94fecdad6a0fbab9": {
      "model_module": "@jupyter-widgets/controls",
      "model_module_version": "1.5.0",
      "model_name": "DescriptionStyleModel",
      "state": {
       "description_width": ""
      }
     },
     "e483517a0e3d4b08960755a835d443ae": {
      "model_module": "@jupyter-widgets/base",
      "model_module_version": "1.2.0",
      "model_name": "LayoutModel",
      "state": {
       "flex": "2"
      }
     },
     "e4902024cbaf4c09a6c5dfe7debf2ac4": {
      "model_module": "@jupyter-widgets/controls",
      "model_module_version": "1.5.0",
      "model_name": "DescriptionStyleModel",
      "state": {
       "description_width": ""
      }
     },
     "e4b6e62e945246b6912d47589aec7e51": {
      "model_module": "@jupyter-widgets/controls",
      "model_module_version": "1.5.0",
      "model_name": "ProgressStyleModel",
      "state": {
       "description_width": ""
      }
     },
     "e4f9268b06af4fae8f923c69d48e1a5a": {
      "model_module": "@jupyter-widgets/controls",
      "model_module_version": "1.5.0",
      "model_name": "DescriptionStyleModel",
      "state": {
       "description_width": ""
      }
     },
     "e51b9f9881a54b67a3a2d4093759b6de": {
      "model_module": "@jupyter-widgets/controls",
      "model_module_version": "1.5.0",
      "model_name": "FloatProgressModel",
      "state": {
       "layout": "IPY_MODEL_91942af6340b4dab8ede7d3b9e95fdd3",
       "max": 191,
       "style": "IPY_MODEL_b9d4870647854eaea410d9dfd586499a",
       "value": 191
      }
     },
     "e53880f9ee3546128fc96e950d92965a": {
      "model_module": "@jupyter-widgets/base",
      "model_module_version": "1.2.0",
      "model_name": "LayoutModel",
      "state": {}
     },
     "e538be137f60433a815dce12f8cc956b": {
      "model_module": "@jupyter-widgets/controls",
      "model_module_version": "1.5.0",
      "model_name": "DescriptionStyleModel",
      "state": {
       "description_width": ""
      }
     },
     "e538d4b42c49439bad91649aacbe0e2f": {
      "model_module": "@jupyter-widgets/controls",
      "model_module_version": "1.5.0",
      "model_name": "HBoxModel",
      "state": {
       "children": [
        "IPY_MODEL_40f5428be3b24b87acca079c68997907",
        "IPY_MODEL_fac5bc64349a4a26a3208ad063a8fe02",
        "IPY_MODEL_d43c2b90bb9142b3ab769872ed6abf25"
       ],
       "layout": "IPY_MODEL_f61963bde09f40c49d5310c5781f6c77"
      }
     },
     "e5571793fe054dcf99b352d06118d8fc": {
      "model_module": "@jupyter-widgets/controls",
      "model_module_version": "1.5.0",
      "model_name": "DescriptionStyleModel",
      "state": {
       "description_width": ""
      }
     },
     "e573008d15de426caba1ff9851a434fb": {
      "model_module": "@jupyter-widgets/controls",
      "model_module_version": "1.5.0",
      "model_name": "HBoxModel",
      "state": {
       "children": [
        "IPY_MODEL_5f02a3c6d5184624b2deeeef9c8ff990",
        "IPY_MODEL_3cd97de8d97e416e84246e8cef585aa0",
        "IPY_MODEL_abdfea32234d4bb99e27d87a3a19833c"
       ],
       "layout": "IPY_MODEL_df8ec00749454bf48025a74431ac0b48"
      }
     },
     "e5820ceba70d425096c12fa2ae568a73": {
      "model_module": "@jupyter-widgets/controls",
      "model_module_version": "1.5.0",
      "model_name": "ProgressStyleModel",
      "state": {
       "description_width": ""
      }
     },
     "e5a491346c004e30b084d92c216da575": {
      "model_module": "@jupyter-widgets/controls",
      "model_module_version": "1.5.0",
      "model_name": "FloatProgressModel",
      "state": {
       "layout": "IPY_MODEL_717031d055434e44b773b93d2eb028cc",
       "max": 2,
       "style": "IPY_MODEL_92dfcf98e63c44dfa5f31a46f34dc398",
       "value": 2
      }
     },
     "e5f294c2ec6a49eea747a24127fb0a04": {
      "model_module": "@jupyter-widgets/base",
      "model_module_version": "1.2.0",
      "model_name": "LayoutModel",
      "state": {}
     },
     "e5f67d1f3cc24000a50856656a106599": {
      "model_module": "@jupyter-widgets/controls",
      "model_module_version": "1.5.0",
      "model_name": "ProgressStyleModel",
      "state": {
       "description_width": ""
      }
     },
     "e602af070cc6489a8a0c793327b8532a": {
      "model_module": "@jupyter-widgets/controls",
      "model_module_version": "1.5.0",
      "model_name": "DescriptionStyleModel",
      "state": {
       "description_width": ""
      }
     },
     "e61a467baa2748a899314f4d4c3b3527": {
      "model_module": "@jupyter-widgets/controls",
      "model_module_version": "1.5.0",
      "model_name": "DescriptionStyleModel",
      "state": {
       "description_width": ""
      }
     },
     "e6330d3786584f2fad821e6e86ebd474": {
      "model_module": "@jupyter-widgets/controls",
      "model_module_version": "1.5.0",
      "model_name": "DescriptionStyleModel",
      "state": {
       "description_width": ""
      }
     },
     "e648cec3b847491382e71fa3a13cd428": {
      "model_module": "@jupyter-widgets/controls",
      "model_module_version": "1.5.0",
      "model_name": "DescriptionStyleModel",
      "state": {
       "description_width": ""
      }
     },
     "e6dcdddb2cbc4c829b4291b74118666e": {
      "model_module": "@jupyter-widgets/base",
      "model_module_version": "1.2.0",
      "model_name": "LayoutModel",
      "state": {
       "display": "inline-flex",
       "flex_flow": "row wrap",
       "width": "100%"
      }
     },
     "e767327d2bd24433bc8fbccc47e95dbe": {
      "model_module": "@jupyter-widgets/base",
      "model_module_version": "1.2.0",
      "model_name": "LayoutModel",
      "state": {}
     },
     "e768d21cee884d1abc86efba4dad0474": {
      "model_module": "@jupyter-widgets/base",
      "model_module_version": "1.2.0",
      "model_name": "LayoutModel",
      "state": {}
     },
     "e79d43846356443d90fd201e79b7b8f5": {
      "model_module": "@jupyter-widgets/base",
      "model_module_version": "1.2.0",
      "model_name": "LayoutModel",
      "state": {
       "display": "inline-flex",
       "flex_flow": "row wrap",
       "width": "100%"
      }
     },
     "e79e14a7fe3840ba9998f32fe2633010": {
      "model_module": "@jupyter-widgets/base",
      "model_module_version": "1.2.0",
      "model_name": "LayoutModel",
      "state": {}
     },
     "e7f5a11ae981488093370c9420975b61": {
      "model_module": "@jupyter-widgets/controls",
      "model_module_version": "1.5.0",
      "model_name": "ProgressStyleModel",
      "state": {
       "description_width": ""
      }
     },
     "e854b0f197f64c6e9b42b9bc8e4fbcc1": {
      "model_module": "@jupyter-widgets/controls",
      "model_module_version": "1.5.0",
      "model_name": "FloatProgressModel",
      "state": {
       "bar_style": "danger",
       "layout": "IPY_MODEL_de3f4a53f95c46bf9f8d81c5d90d0671",
       "max": 8,
       "style": "IPY_MODEL_be1f798ff46141a48d113eff09f9cead",
       "value": 1
      }
     },
     "e87a2a695aab4e598fca0400856d6a72": {
      "model_module": "@jupyter-widgets/base",
      "model_module_version": "1.2.0",
      "model_name": "LayoutModel",
      "state": {}
     },
     "e8ec2bb7045945858daee6bdca50e7ff": {
      "model_module": "@jupyter-widgets/controls",
      "model_module_version": "1.5.0",
      "model_name": "ProgressStyleModel",
      "state": {
       "description_width": ""
      }
     },
     "e94074f1668b4a8892896fcc6a4ecf5f": {
      "model_module": "@jupyter-widgets/base",
      "model_module_version": "1.2.0",
      "model_name": "LayoutModel",
      "state": {}
     },
     "e94bb66bf4ba4b3c8818a034aef36358": {
      "model_module": "@jupyter-widgets/controls",
      "model_module_version": "1.5.0",
      "model_name": "DescriptionStyleModel",
      "state": {
       "description_width": ""
      }
     },
     "e96a7c16742343d1a6a8c4c0d8cc011f": {
      "model_module": "@jupyter-widgets/base",
      "model_module_version": "1.2.0",
      "model_name": "LayoutModel",
      "state": {
       "flex": "2"
      }
     },
     "e96b9e17eec545799f21bad246eda0b7": {
      "model_module": "@jupyter-widgets/controls",
      "model_module_version": "1.5.0",
      "model_name": "ProgressStyleModel",
      "state": {
       "description_width": ""
      }
     },
     "e96e417c45ff4bb5b75bf9c4c5b6e00c": {
      "model_module": "@jupyter-widgets/base",
      "model_module_version": "1.2.0",
      "model_name": "LayoutModel",
      "state": {}
     },
     "e97c2ca628034039b868216a32b0a43d": {
      "model_module": "@jupyter-widgets/base",
      "model_module_version": "1.2.0",
      "model_name": "LayoutModel",
      "state": {}
     },
     "e9cfe18149ed405f8c22ff7d86f94ab2": {
      "model_module": "@jupyter-widgets/base",
      "model_module_version": "1.2.0",
      "model_name": "LayoutModel",
      "state": {}
     },
     "e9e992190f30416196e9b975ff6069ee": {
      "model_module": "@jupyter-widgets/controls",
      "model_module_version": "1.5.0",
      "model_name": "HTMLModel",
      "state": {
       "layout": "IPY_MODEL_82205dcf86b846ebb7341187002a5dd5",
       "style": "IPY_MODEL_ab0edf7e2d1440418fe3ce0089073c11",
       "value": " 38%"
      }
     },
     "e9ee0f05b5504d0cb7a6abb839dc76d4": {
      "model_module": "@jupyter-widgets/controls",
      "model_module_version": "1.5.0",
      "model_name": "DescriptionStyleModel",
      "state": {
       "description_width": ""
      }
     },
     "e9f23d32b5284ab6bc66f6e4f035e963": {
      "model_module": "@jupyter-widgets/base",
      "model_module_version": "1.2.0",
      "model_name": "LayoutModel",
      "state": {}
     },
     "e9fe194967e04a0a91c5c1b8669cb038": {
      "model_module": "@jupyter-widgets/controls",
      "model_module_version": "1.5.0",
      "model_name": "FloatProgressModel",
      "state": {
       "layout": "IPY_MODEL_2bf774cd8e1e42e3b558b691a01cd6ad",
       "max": 191,
       "style": "IPY_MODEL_725a02dd53574b3480fc704cd9793970",
       "value": 191
      }
     },
     "ea1d21168a5641e299be2ed05b12030a": {
      "model_module": "@jupyter-widgets/base",
      "model_module_version": "1.2.0",
      "model_name": "LayoutModel",
      "state": {}
     },
     "ea241dac30204694b8caa78be1611226": {
      "model_module": "@jupyter-widgets/controls",
      "model_module_version": "1.5.0",
      "model_name": "HTMLModel",
      "state": {
       "layout": "IPY_MODEL_a39b5d457746431c90a0e4e3faba14c1",
       "style": "IPY_MODEL_5cc058c4ccfd4573ae10f30b1835d69f",
       "value": " 0/1 [03:25&lt;?, ?it/s]"
      }
     },
     "ea2abcbe2cc14db592f8d073f624396b": {
      "model_module": "@jupyter-widgets/base",
      "model_module_version": "1.2.0",
      "model_name": "LayoutModel",
      "state": {}
     },
     "ea6f96598af24bf380be694c46d8e150": {
      "model_module": "@jupyter-widgets/controls",
      "model_module_version": "1.5.0",
      "model_name": "HTMLModel",
      "state": {
       "layout": "IPY_MODEL_baec1888c56a482cb60f151a66bd63ae",
       "style": "IPY_MODEL_65997898a4d642cb8816a76957641386",
       "value": "Epoch 1: 100%"
      }
     },
     "ea912a4665864fefa9310170ed022f5c": {
      "model_module": "@jupyter-widgets/base",
      "model_module_version": "1.2.0",
      "model_name": "LayoutModel",
      "state": {}
     },
     "eafb16d8fdbe43129da4e7c05110276a": {
      "model_module": "@jupyter-widgets/base",
      "model_module_version": "1.2.0",
      "model_name": "LayoutModel",
      "state": {
       "display": "inline-flex",
       "flex_flow": "row wrap",
       "visibility": "hidden",
       "width": "100%"
      }
     },
     "eb1839b78e894dfbb7c3ba911dc9d66d": {
      "model_module": "@jupyter-widgets/base",
      "model_module_version": "1.2.0",
      "model_name": "LayoutModel",
      "state": {
       "flex": "2"
      }
     },
     "eb20e3d83c354fb9ab380030cd65bf17": {
      "model_module": "@jupyter-widgets/controls",
      "model_module_version": "1.5.0",
      "model_name": "FloatProgressModel",
      "state": {
       "bar_style": "success",
       "layout": "IPY_MODEL_057af749a8824c20ba464adffbea2780",
       "max": 417,
       "style": "IPY_MODEL_e96b9e17eec545799f21bad246eda0b7",
       "value": 417
      }
     },
     "eb28c3f6899b4eb1b2e134c5c4a895d3": {
      "model_module": "@jupyter-widgets/base",
      "model_module_version": "1.2.0",
      "model_name": "LayoutModel",
      "state": {
       "flex": "2"
      }
     },
     "eb3e91f6a93c4d6ba98117f8cade2069": {
      "model_module": "@jupyter-widgets/controls",
      "model_module_version": "1.5.0",
      "model_name": "HTMLModel",
      "state": {
       "layout": "IPY_MODEL_45b41d660b5c4acb84d53d3d9b5dd8a1",
       "style": "IPY_MODEL_805015fbc2f246c8bc2e0d51bfe5e276",
       "value": "Validation DataLoader 0: 100%"
      }
     },
     "eb50875472fc42c3911b5d1306b3610c": {
      "model_module": "@jupyter-widgets/controls",
      "model_module_version": "1.5.0",
      "model_name": "DescriptionStyleModel",
      "state": {
       "description_width": ""
      }
     },
     "eb56444a6e2e42cdb722db999827da08": {
      "model_module": "@jupyter-widgets/controls",
      "model_module_version": "1.5.0",
      "model_name": "ProgressStyleModel",
      "state": {
       "description_width": ""
      }
     },
     "eb650a0940524448a34836f3cba60fac": {
      "model_module": "@jupyter-widgets/controls",
      "model_module_version": "1.5.0",
      "model_name": "DescriptionStyleModel",
      "state": {
       "description_width": ""
      }
     },
     "eb8099da277849e29212cd13fae85047": {
      "model_module": "@jupyter-widgets/controls",
      "model_module_version": "1.5.0",
      "model_name": "DescriptionStyleModel",
      "state": {
       "description_width": ""
      }
     },
     "eb89164611f14ccbb927b511b54b9c36": {
      "model_module": "@jupyter-widgets/base",
      "model_module_version": "1.2.0",
      "model_name": "LayoutModel",
      "state": {
       "display": "inline-flex",
       "flex_flow": "row wrap",
       "width": "100%"
      }
     },
     "ebbc6451abe846e68ac725e036913d81": {
      "model_module": "@jupyter-widgets/controls",
      "model_module_version": "1.5.0",
      "model_name": "DescriptionStyleModel",
      "state": {
       "description_width": ""
      }
     },
     "ebc58a49e2d246839755e6b73bdb6788": {
      "model_module": "@jupyter-widgets/controls",
      "model_module_version": "1.5.0",
      "model_name": "ProgressStyleModel",
      "state": {
       "description_width": ""
      }
     },
     "ebee8023aa164271a15d7d7faa840720": {
      "model_module": "@jupyter-widgets/base",
      "model_module_version": "1.2.0",
      "model_name": "LayoutModel",
      "state": {}
     },
     "ec1d7b2b1eb44f7d94c53c33b4c4a00d": {
      "model_module": "@jupyter-widgets/base",
      "model_module_version": "1.2.0",
      "model_name": "LayoutModel",
      "state": {}
     },
     "ec355792d85a4892aed2f0c8ad57b41c": {
      "model_module": "@jupyter-widgets/controls",
      "model_module_version": "1.5.0",
      "model_name": "ProgressStyleModel",
      "state": {
       "description_width": ""
      }
     },
     "ec355d27ab0548a5a9e7e3f20c4cf7a2": {
      "model_module": "@jupyter-widgets/base",
      "model_module_version": "1.2.0",
      "model_name": "LayoutModel",
      "state": {}
     },
     "ec3cc83fef5a4dc899b3c2403311b8ed": {
      "model_module": "@jupyter-widgets/controls",
      "model_module_version": "1.5.0",
      "model_name": "FloatProgressModel",
      "state": {
       "bar_style": "danger",
       "layout": "IPY_MODEL_85c7d0d96a4f47e98babe282122efe50",
       "max": 8,
       "style": "IPY_MODEL_7e61f6f0eb054268a2b92bd8f6587e1b",
       "value": 2
      }
     },
     "ec55b47a015c46568d9838e623b6546d": {
      "model_module": "@jupyter-widgets/base",
      "model_module_version": "1.2.0",
      "model_name": "LayoutModel",
      "state": {}
     },
     "ec72cb0314e44b5c9654aca37c88968f": {
      "model_module": "@jupyter-widgets/controls",
      "model_module_version": "1.5.0",
      "model_name": "HTMLModel",
      "state": {
       "layout": "IPY_MODEL_e9cfe18149ed405f8c22ff7d86f94ab2",
       "style": "IPY_MODEL_2026b6da7c0143fb805d154d207e8413",
       "value": " 191/191 [00:12&lt;00:00, 14.85it/s]"
      }
     },
     "ec892f2dd4a043d8a10109c0a2ef94da": {
      "model_module": "@jupyter-widgets/controls",
      "model_module_version": "1.5.0",
      "model_name": "DescriptionStyleModel",
      "state": {
       "description_width": ""
      }
     },
     "ec9cf89825e74a0ebc5ecae42e0e04d7": {
      "model_module": "@jupyter-widgets/base",
      "model_module_version": "1.2.0",
      "model_name": "LayoutModel",
      "state": {}
     },
     "ecef9cc10fb64ce6b69ff6d502e5ad51": {
      "model_module": "@jupyter-widgets/controls",
      "model_module_version": "1.5.0",
      "model_name": "FloatProgressModel",
      "state": {
       "bar_style": "danger",
       "layout": "IPY_MODEL_b7e2b66aef2943ceb192fbc5ca9508da",
       "max": 1,
       "style": "IPY_MODEL_32756a7966464a4f9ed437e0a2367ff5"
      }
     },
     "ecfa62f5e20a458392993ac1d5cef40d": {
      "model_module": "@jupyter-widgets/base",
      "model_module_version": "1.2.0",
      "model_name": "LayoutModel",
      "state": {
       "flex": "2"
      }
     },
     "ed1ec88a98354684bfdd9dd6e28d4f5d": {
      "model_module": "@jupyter-widgets/controls",
      "model_module_version": "1.5.0",
      "model_name": "HTMLModel",
      "state": {
       "layout": "IPY_MODEL_ec1d7b2b1eb44f7d94c53c33b4c4a00d",
       "style": "IPY_MODEL_83312fd8e6814477b95258fe9d8002ce",
       "value": "Validation DataLoader 0: 100%"
      }
     },
     "ed68e62d44dd43fcbb36e721277fe6c4": {
      "model_module": "@jupyter-widgets/base",
      "model_module_version": "1.2.0",
      "model_name": "LayoutModel",
      "state": {}
     },
     "edda525e2f4b4147bc113f31a985ff52": {
      "model_module": "@jupyter-widgets/controls",
      "model_module_version": "1.5.0",
      "model_name": "DescriptionStyleModel",
      "state": {
       "description_width": ""
      }
     },
     "eddd32ac3b804e05b1dbfc46a3978f7c": {
      "model_module": "@jupyter-widgets/base",
      "model_module_version": "1.2.0",
      "model_name": "LayoutModel",
      "state": {
       "flex": "2"
      }
     },
     "ee2b60c0003f4c41bdedebea6a82e2e2": {
      "model_module": "@jupyter-widgets/base",
      "model_module_version": "1.2.0",
      "model_name": "LayoutModel",
      "state": {
       "display": "inline-flex",
       "flex_flow": "row wrap",
       "visibility": "hidden",
       "width": "100%"
      }
     },
     "ee5871de631547579a4d860e52a6468a": {
      "model_module": "@jupyter-widgets/base",
      "model_module_version": "1.2.0",
      "model_name": "LayoutModel",
      "state": {}
     },
     "ee5fc5648ec64f41ba24d27f0fa3eadd": {
      "model_module": "@jupyter-widgets/controls",
      "model_module_version": "1.5.0",
      "model_name": "HTMLModel",
      "state": {
       "layout": "IPY_MODEL_74bc9258ce7449e2965a65a01b1fc99a",
       "style": "IPY_MODEL_995bba4eb24c4807bafd0906bf2d9702",
       "value": "Validation DataLoader 0: 100%"
      }
     },
     "ee6117ea97354bf38c3b336ae96a91df": {
      "model_module": "@jupyter-widgets/controls",
      "model_module_version": "1.5.0",
      "model_name": "ProgressStyleModel",
      "state": {
       "description_width": ""
      }
     },
     "ef26138740f547bb94d26af1f891e6bf": {
      "model_module": "@jupyter-widgets/base",
      "model_module_version": "1.2.0",
      "model_name": "LayoutModel",
      "state": {}
     },
     "ef2f1a2b953c40089afcd39fe8f59e4e": {
      "model_module": "@jupyter-widgets/controls",
      "model_module_version": "1.5.0",
      "model_name": "HBoxModel",
      "state": {
       "children": [
        "IPY_MODEL_db3ac6b5014544228ded27150244fbdf",
        "IPY_MODEL_b75f147dcb5d4e22ba96072137f98a10",
        "IPY_MODEL_235ef5ce1c7d4ee7b5d1d85cb6c5d25a"
       ],
       "layout": "IPY_MODEL_1e914d723a5f4395b4611d85f0c0d9d3"
      }
     },
     "efecffc288354ea09bc55572e395d4b4": {
      "model_module": "@jupyter-widgets/controls",
      "model_module_version": "1.5.0",
      "model_name": "DescriptionStyleModel",
      "state": {
       "description_width": ""
      }
     },
     "effc8de42dda47e2807dac15b0f21b47": {
      "model_module": "@jupyter-widgets/controls",
      "model_module_version": "1.5.0",
      "model_name": "HTMLModel",
      "state": {
       "layout": "IPY_MODEL_82c068b3a1474e59b71658017c4b510e",
       "style": "IPY_MODEL_ad3d9409e40b4c24b0d1392191dda7d7",
       "value": "Epoch 1: 100%"
      }
     },
     "f06c99b098b64d2cb76daa1b4fd4f52d": {
      "model_module": "@jupyter-widgets/base",
      "model_module_version": "1.2.0",
      "model_name": "LayoutModel",
      "state": {
       "flex": "2"
      }
     },
     "f07a6c4c7f1c49ad9cbf3697917ea6fe": {
      "model_module": "@jupyter-widgets/controls",
      "model_module_version": "1.5.0",
      "model_name": "DescriptionStyleModel",
      "state": {
       "description_width": ""
      }
     },
     "f098ff1c5e03413d84e4023ee6c36bbe": {
      "model_module": "@jupyter-widgets/controls",
      "model_module_version": "1.5.0",
      "model_name": "DescriptionStyleModel",
      "state": {
       "description_width": ""
      }
     },
     "f14b421dd1584cc29f67d99eaf28fe95": {
      "model_module": "@jupyter-widgets/controls",
      "model_module_version": "1.5.0",
      "model_name": "ProgressStyleModel",
      "state": {
       "description_width": ""
      }
     },
     "f1a67aebfb2240dc8310079d4e033814": {
      "model_module": "@jupyter-widgets/controls",
      "model_module_version": "1.5.0",
      "model_name": "DescriptionStyleModel",
      "state": {
       "description_width": ""
      }
     },
     "f1e2f0c354a745fc98ee1b0d63cc9fb7": {
      "model_module": "@jupyter-widgets/base",
      "model_module_version": "1.2.0",
      "model_name": "LayoutModel",
      "state": {}
     },
     "f224a8fcc54c4f018dc64970f0e52274": {
      "model_module": "@jupyter-widgets/controls",
      "model_module_version": "1.5.0",
      "model_name": "DescriptionStyleModel",
      "state": {
       "description_width": ""
      }
     },
     "f228b1c91cbe4e1d9b4d939b8731f4a1": {
      "model_module": "@jupyter-widgets/base",
      "model_module_version": "1.2.0",
      "model_name": "LayoutModel",
      "state": {
       "display": "inline-flex",
       "flex_flow": "row wrap",
       "visibility": "hidden",
       "width": "100%"
      }
     },
     "f22e1b902569490882d0b1daba6b309d": {
      "model_module": "@jupyter-widgets/controls",
      "model_module_version": "1.5.0",
      "model_name": "FloatProgressModel",
      "state": {
       "layout": "IPY_MODEL_ec55b47a015c46568d9838e623b6546d",
       "max": 1,
       "style": "IPY_MODEL_e2e046a6ba7641a6b5e8ec9f05e18133"
      }
     },
     "f2333ef0b9664304b10d48e7fda98d80": {
      "model_module": "@jupyter-widgets/controls",
      "model_module_version": "1.5.0",
      "model_name": "ProgressStyleModel",
      "state": {
       "description_width": ""
      }
     },
     "f24a0981e53d4b19a8ba3a2f0022bc8c": {
      "model_module": "@jupyter-widgets/base",
      "model_module_version": "1.2.0",
      "model_name": "LayoutModel",
      "state": {
       "display": "inline-flex",
       "flex_flow": "row wrap",
       "width": "100%"
      }
     },
     "f2ce2f363f134a87a9ec5cb14484af6c": {
      "model_module": "@jupyter-widgets/controls",
      "model_module_version": "1.5.0",
      "model_name": "HTMLModel",
      "state": {
       "layout": "IPY_MODEL_1393f3d3c116468eb2599fa200c7704b",
       "style": "IPY_MODEL_4c51c1fd9abb48e7aed3378b2aab494a",
       "value": " 2/2 [00:00&lt;00:00,  9.50it/s]"
      }
     },
     "f2e210d6ba3e4877b361c4f183ad786d": {
      "model_module": "@jupyter-widgets/controls",
      "model_module_version": "1.5.0",
      "model_name": "DescriptionStyleModel",
      "state": {
       "description_width": ""
      }
     },
     "f2f12020e4d94374b8584fefb183c9cd": {
      "model_module": "@jupyter-widgets/controls",
      "model_module_version": "1.5.0",
      "model_name": "HTMLModel",
      "state": {
       "layout": "IPY_MODEL_821d9084e33b46639d1cc66721fdbe7e",
       "style": "IPY_MODEL_c25c6d5e7c374a579f76509fd0d04823",
       "value": " 2/2 [00:00&lt;00:00,  5.70it/s]"
      }
     },
     "f3366192f4ff4574b3b644d08f83031f": {
      "model_module": "@jupyter-widgets/controls",
      "model_module_version": "1.5.0",
      "model_name": "ProgressStyleModel",
      "state": {
       "description_width": ""
      }
     },
     "f3eb2f5ca937452393b85cba879e5f38": {
      "model_module": "@jupyter-widgets/controls",
      "model_module_version": "1.5.0",
      "model_name": "DescriptionStyleModel",
      "state": {
       "description_width": ""
      }
     },
     "f45de19d1bdd4210a1bd77f3ace4ee5d": {
      "model_module": "@jupyter-widgets/controls",
      "model_module_version": "1.5.0",
      "model_name": "HTMLModel",
      "state": {
       "layout": "IPY_MODEL_b651fd159ff5424bbe22f743cdb00cc8",
       "style": "IPY_MODEL_2f8582d304c342c3b9aefec19f92a4d9",
       "value": "100%"
      }
     },
     "f46b54c1a506482ca2dd7fb14b72d5a1": {
      "model_module": "@jupyter-widgets/base",
      "model_module_version": "1.2.0",
      "model_name": "LayoutModel",
      "state": {}
     },
     "f47b7ecdfbf746b6b8bd6cdcc77d7b89": {
      "model_module": "@jupyter-widgets/controls",
      "model_module_version": "1.5.0",
      "model_name": "DescriptionStyleModel",
      "state": {
       "description_width": ""
      }
     },
     "f48f8012d0934457b07ec565d71e80b5": {
      "model_module": "@jupyter-widgets/base",
      "model_module_version": "1.2.0",
      "model_name": "LayoutModel",
      "state": {}
     },
     "f4938d71f13b4339aa8aec07418ee2fc": {
      "model_module": "@jupyter-widgets/base",
      "model_module_version": "1.2.0",
      "model_name": "LayoutModel",
      "state": {
       "display": "inline-flex",
       "flex_flow": "row wrap",
       "width": "100%"
      }
     },
     "f4964aa88c474f0b9d9e18cccbda9cc2": {
      "model_module": "@jupyter-widgets/base",
      "model_module_version": "1.2.0",
      "model_name": "LayoutModel",
      "state": {}
     },
     "f49d4edc9a6a440ba8dc7b8c092ea245": {
      "model_module": "@jupyter-widgets/base",
      "model_module_version": "1.2.0",
      "model_name": "LayoutModel",
      "state": {
       "display": "inline-flex",
       "flex_flow": "row wrap",
       "visibility": "hidden",
       "width": "100%"
      }
     },
     "f4e3cf4fd2ae417d856d96860f11c4de": {
      "model_module": "@jupyter-widgets/controls",
      "model_module_version": "1.5.0",
      "model_name": "HTMLModel",
      "state": {
       "layout": "IPY_MODEL_3733b73328be4a37ad340a1d2b24cef6",
       "style": "IPY_MODEL_9500342358334401aabfafd4236add1b",
       "value": " 417/417 [00:36&lt;00:00, 11.45it/s, v_num=rbu8, seq_len=1.730, y=0.029, valid/AUROC=0.681]"
      }
     },
     "f4eaef3ff53a47918f1bf4890c146ad1": {
      "model_module": "@jupyter-widgets/controls",
      "model_module_version": "1.5.0",
      "model_name": "HBoxModel",
      "state": {
       "children": [
        "IPY_MODEL_865113c9c5b14262bc85f174ea64de03",
        "IPY_MODEL_5c58e1a5549348b98e4064e5c47cd9e3",
        "IPY_MODEL_a6c448e956a54b28b9384e6236f0fa21"
       ],
       "layout": "IPY_MODEL_f555bb1bf55a47ff8cc58ce56f2ffe01"
      }
     },
     "f511db215e9e43429b93af1afde2b4ca": {
      "model_module": "@jupyter-widgets/controls",
      "model_module_version": "1.5.0",
      "model_name": "DescriptionStyleModel",
      "state": {
       "description_width": ""
      }
     },
     "f51b6bc7e7b547ae92149ce4cd2055e4": {
      "model_module": "@jupyter-widgets/controls",
      "model_module_version": "1.5.0",
      "model_name": "HTMLModel",
      "state": {
       "layout": "IPY_MODEL_6067acb48ca94b8da12966b19a73afba",
       "style": "IPY_MODEL_41ce038875a84fbe90934423c97b047d",
       "value": " 218/417 [01:36&lt;01:27,  2.26it/s, v_num=dla8, seq_len=1.590, y=0.00391, valid/AUROC=0.624]"
      }
     },
     "f5271cfc03a540ed88988bb990da2912": {
      "model_module": "@jupyter-widgets/controls",
      "model_module_version": "1.5.0",
      "model_name": "ProgressStyleModel",
      "state": {
       "description_width": ""
      }
     },
     "f555bb1bf55a47ff8cc58ce56f2ffe01": {
      "model_module": "@jupyter-widgets/base",
      "model_module_version": "1.2.0",
      "model_name": "LayoutModel",
      "state": {
       "display": "inline-flex",
       "flex_flow": "row wrap",
       "width": "100%"
      }
     },
     "f5753c4e15ed45bc92e410772a41f520": {
      "model_module": "@jupyter-widgets/controls",
      "model_module_version": "1.5.0",
      "model_name": "HTMLModel",
      "state": {
       "layout": "IPY_MODEL_4b0c52d7f1094859913f08f7f7e5d561",
       "style": "IPY_MODEL_0cd9a11da4a743d5bad38a317fcf7c07",
       "value": " 417/417 [00:36&lt;00:00, 11.29it/s, v_num=rbu8, seq_len=1.890, y=0.0169, valid/AUROC=0.683]"
      }
     },
     "f5799a34426e4c9bbb869ad725b54252": {
      "model_module": "@jupyter-widgets/base",
      "model_module_version": "1.2.0",
      "model_name": "LayoutModel",
      "state": {
       "flex": "2"
      }
     },
     "f57e158a09fc4497b7a45487fe29e47d": {
      "model_module": "@jupyter-widgets/base",
      "model_module_version": "1.2.0",
      "model_name": "LayoutModel",
      "state": {}
     },
     "f5f9c73905c84593a2432e7dc7fa76ec": {
      "model_module": "@jupyter-widgets/base",
      "model_module_version": "1.2.0",
      "model_name": "LayoutModel",
      "state": {}
     },
     "f6079b3fa1ad4e43872879bc3aa2ab03": {
      "model_module": "@jupyter-widgets/base",
      "model_module_version": "1.2.0",
      "model_name": "LayoutModel",
      "state": {
       "flex": "2"
      }
     },
     "f61963bde09f40c49d5310c5781f6c77": {
      "model_module": "@jupyter-widgets/base",
      "model_module_version": "1.2.0",
      "model_name": "LayoutModel",
      "state": {
       "display": "inline-flex",
       "flex_flow": "row wrap",
       "width": "100%"
      }
     },
     "f628d693a7a345749cb7f0e1b9ad4c50": {
      "model_module": "@jupyter-widgets/controls",
      "model_module_version": "1.5.0",
      "model_name": "DescriptionStyleModel",
      "state": {
       "description_width": ""
      }
     },
     "f6309972d396445b9a62523fd59570c0": {
      "model_module": "@jupyter-widgets/base",
      "model_module_version": "1.2.0",
      "model_name": "LayoutModel",
      "state": {}
     },
     "f667dc58f2fc4445a19e03d3f9edf746": {
      "model_module": "@jupyter-widgets/controls",
      "model_module_version": "1.5.0",
      "model_name": "FloatProgressModel",
      "state": {
       "layout": "IPY_MODEL_c2b24a4453af49509cf85b053b8149f8",
       "max": 191,
       "style": "IPY_MODEL_bb5e340a78204a36b975d887814fe742",
       "value": 191
      }
     },
     "f6914edb87a644fea54c0b4ea7aff9b4": {
      "model_module": "@jupyter-widgets/base",
      "model_module_version": "1.2.0",
      "model_name": "LayoutModel",
      "state": {}
     },
     "f6a014140e0f430a901518d0a01b55fc": {
      "model_module": "@jupyter-widgets/controls",
      "model_module_version": "1.5.0",
      "model_name": "HTMLModel",
      "state": {
       "layout": "IPY_MODEL_5792775c89014123a6cb7ecd5f4657c5",
       "style": "IPY_MODEL_6826f68f05cd4778a1509546a5a8229c",
       "value": " 191/191 [00:10&lt;00:00, 18.19it/s]"
      }
     },
     "f6d046bb243d4f6c909ff10bec93c092": {
      "model_module": "@jupyter-widgets/controls",
      "model_module_version": "1.5.0",
      "model_name": "FloatProgressModel",
      "state": {
       "bar_style": "success",
       "layout": "IPY_MODEL_cdee1b125e78486e9d57f7f326791eee",
       "max": 2,
       "style": "IPY_MODEL_7711ff8c7d534e5bb13252491ee49ef2",
       "value": 2
      }
     },
     "f6d6c16b409d4db3b902e36d583db04c": {
      "model_module": "@jupyter-widgets/controls",
      "model_module_version": "1.5.0",
      "model_name": "FloatProgressModel",
      "state": {
       "bar_style": "success",
       "layout": "IPY_MODEL_6fe010938c4c4477b755b76a85ed58af",
       "max": 417,
       "style": "IPY_MODEL_104ad2161e424dc2a577406c1b69c8b6",
       "value": 417
      }
     },
     "f6e100b52fa54044bfb3f914f8169439": {
      "model_module": "@jupyter-widgets/controls",
      "model_module_version": "1.5.0",
      "model_name": "ProgressStyleModel",
      "state": {
       "description_width": ""
      }
     },
     "f722736ec39843d8bb756d1618f0a634": {
      "model_module": "@jupyter-widgets/controls",
      "model_module_version": "1.5.0",
      "model_name": "DescriptionStyleModel",
      "state": {
       "description_width": ""
      }
     },
     "f724d048bb814d10961b2e496d4b0105": {
      "model_module": "@jupyter-widgets/base",
      "model_module_version": "1.2.0",
      "model_name": "LayoutModel",
      "state": {}
     },
     "f731078b08984058bbf8f878937bfb95": {
      "model_module": "@jupyter-widgets/controls",
      "model_module_version": "1.5.0",
      "model_name": "HTMLModel",
      "state": {
       "layout": "IPY_MODEL_751bbff8d4fa449ea0e7639f786b0faa",
       "style": "IPY_MODEL_88541e3e0a2f4d6daae5bd0e2022d632",
       "value": "Validation DataLoader 0: 100%"
      }
     },
     "f755d30a32c54d48af6a2b377c9a09af": {
      "model_module": "@jupyter-widgets/controls",
      "model_module_version": "1.5.0",
      "model_name": "HTMLModel",
      "state": {
       "layout": "IPY_MODEL_e768d21cee884d1abc86efba4dad0474",
       "style": "IPY_MODEL_4e29b230eaae4a91945f563fb0968a55",
       "value": "Validation DataLoader 0: 100%"
      }
     },
     "f7574c64fd9745e0beedddbe5f20fded": {
      "model_module": "@jupyter-widgets/base",
      "model_module_version": "1.2.0",
      "model_name": "LayoutModel",
      "state": {
       "display": "inline-flex",
       "flex_flow": "row wrap",
       "visibility": "hidden",
       "width": "100%"
      }
     },
     "f788dc54fe064a058cbe3082373ac26a": {
      "model_module": "@jupyter-widgets/controls",
      "model_module_version": "1.5.0",
      "model_name": "DescriptionStyleModel",
      "state": {
       "description_width": ""
      }
     },
     "f7b0e59717344c2782b03f193ecb0226": {
      "model_module": "@jupyter-widgets/controls",
      "model_module_version": "1.5.0",
      "model_name": "HTMLModel",
      "state": {
       "layout": "IPY_MODEL_b218836e5a64436399abc227911a952c",
       "style": "IPY_MODEL_8faec5ad2be84cb892e9b80bef5a324f",
       "value": " 191/191 [00:11&lt;00:00, 16.84it/s]"
      }
     },
     "f7bc6d3173f74af180caa0273ebcf8c2": {
      "model_module": "@jupyter-widgets/base",
      "model_module_version": "1.2.0",
      "model_name": "LayoutModel",
      "state": {}
     },
     "f7ce09be963e420e996b316c1556ab39": {
      "model_module": "@jupyter-widgets/controls",
      "model_module_version": "1.5.0",
      "model_name": "ProgressStyleModel",
      "state": {
       "description_width": ""
      }
     },
     "f7df65b4a1df458c8cec48cabf691a13": {
      "model_module": "@jupyter-widgets/controls",
      "model_module_version": "1.5.0",
      "model_name": "FloatProgressModel",
      "state": {
       "bar_style": "danger",
       "layout": "IPY_MODEL_9a1ef66657ab41138a93b262c3e0def4",
       "max": 1,
       "style": "IPY_MODEL_29a6b1abfad84934aa9a0ecf3487476e"
      }
     },
     "f7f7d861821444919748893a1d33f23b": {
      "model_module": "@jupyter-widgets/base",
      "model_module_version": "1.2.0",
      "model_name": "LayoutModel",
      "state": {}
     },
     "f7fb282b0cf34035ad276c84b3adabb4": {
      "model_module": "@jupyter-widgets/controls",
      "model_module_version": "1.5.0",
      "model_name": "HTMLModel",
      "state": {
       "layout": "IPY_MODEL_c6365b90190f4e2c8e05cb352313c43f",
       "style": "IPY_MODEL_bff8a14a94e8453f870190c46fa0c9d0",
       "value": "Validation DataLoader 0: 100%"
      }
     },
     "f823bb3223f04935b0f319388c0136fe": {
      "model_module": "@jupyter-widgets/base",
      "model_module_version": "1.2.0",
      "model_name": "LayoutModel",
      "state": {}
     },
     "f83b5cd04a8b4d4b8c6331000cce1ba1": {
      "model_module": "@jupyter-widgets/controls",
      "model_module_version": "1.5.0",
      "model_name": "ProgressStyleModel",
      "state": {
       "description_width": ""
      }
     },
     "f860ebd7c90d448eadc45ec9734700c1": {
      "model_module": "@jupyter-widgets/controls",
      "model_module_version": "1.5.0",
      "model_name": "FloatProgressModel",
      "state": {
       "bar_style": "success",
       "layout": "IPY_MODEL_da2e97440f8e43d48816d016fca5a752",
       "max": 417,
       "style": "IPY_MODEL_8a985321744144ac95d03f7696454b35",
       "value": 417
      }
     },
     "f86b093afa6c4115b2abe4888f466fbf": {
      "model_module": "@jupyter-widgets/controls",
      "model_module_version": "1.5.0",
      "model_name": "FloatProgressModel",
      "state": {
       "layout": "IPY_MODEL_1180b7053f6e4e12baa2561894affb4b",
       "max": 2,
       "style": "IPY_MODEL_277f68d7b0044056854d6a2a4ec7ee07",
       "value": 2
      }
     },
     "f8a3fa9a464f4e2da08637c3cb766d80": {
      "model_module": "@jupyter-widgets/base",
      "model_module_version": "1.2.0",
      "model_name": "LayoutModel",
      "state": {}
     },
     "f8da393709e6465e8c7e7c3a293ff4c5": {
      "model_module": "@jupyter-widgets/base",
      "model_module_version": "1.2.0",
      "model_name": "LayoutModel",
      "state": {}
     },
     "f8f3e4dd397d4c06878bf558075c82b2": {
      "model_module": "@jupyter-widgets/controls",
      "model_module_version": "1.5.0",
      "model_name": "DescriptionStyleModel",
      "state": {
       "description_width": ""
      }
     },
     "f94a5d334727401c9bca4f568e1715e5": {
      "model_module": "@jupyter-widgets/base",
      "model_module_version": "1.2.0",
      "model_name": "LayoutModel",
      "state": {
       "flex": "2"
      }
     },
     "f967d7f5635040108a8bc46154cb0431": {
      "model_module": "@jupyter-widgets/controls",
      "model_module_version": "1.5.0",
      "model_name": "ProgressStyleModel",
      "state": {
       "description_width": ""
      }
     },
     "f971376ed7e34cd3a7e9ea9e12fc41de": {
      "model_module": "@jupyter-widgets/base",
      "model_module_version": "1.2.0",
      "model_name": "LayoutModel",
      "state": {
       "display": "inline-flex",
       "flex_flow": "row wrap",
       "visibility": "hidden",
       "width": "100%"
      }
     },
     "f99c2af48e954de09b274fd5c9d28001": {
      "model_module": "@jupyter-widgets/controls",
      "model_module_version": "1.5.0",
      "model_name": "HTMLModel",
      "state": {
       "layout": "IPY_MODEL_70bfdd5863124eafb7edb7706a19201c",
       "style": "IPY_MODEL_5715e71565cd43cb81625ab9a43f7b81",
       "value": " 3/8 [05:10&lt;08:26, 101.21s/it]"
      }
     },
     "f9b710dfd00444f1894d8ee22b3040bf": {
      "model_module": "@jupyter-widgets/controls",
      "model_module_version": "1.5.0",
      "model_name": "HTMLModel",
      "state": {
       "layout": "IPY_MODEL_91e42399fa5040578b42dbb448009e79",
       "style": "IPY_MODEL_3bb754b38a404bc5acde8b078c2a8add",
       "value": "Epoch 1: 100%"
      }
     },
     "f9e0283675d14ecea56d3b5a41ca39cd": {
      "model_module": "@jupyter-widgets/controls",
      "model_module_version": "1.5.0",
      "model_name": "VBoxModel",
      "state": {
       "children": [
        "IPY_MODEL_b916029e2dde4e11bd5cf22732136b67",
        "IPY_MODEL_f22e1b902569490882d0b1daba6b309d"
       ],
       "layout": "IPY_MODEL_2c132ee2dc29481b9980495c5cd8f797"
      }
     },
     "f9e16b619760454ab0951c40af04a8ab": {
      "model_module": "@jupyter-widgets/controls",
      "model_module_version": "1.5.0",
      "model_name": "ProgressStyleModel",
      "state": {
       "description_width": ""
      }
     },
     "f9e94708ef6c4295996c73c79e3bd5a1": {
      "model_module": "@jupyter-widgets/base",
      "model_module_version": "1.2.0",
      "model_name": "LayoutModel",
      "state": {
       "flex": "2"
      }
     },
     "fa65fde78d6e46f19631e28db29cb6bc": {
      "model_module": "@jupyter-widgets/base",
      "model_module_version": "1.2.0",
      "model_name": "LayoutModel",
      "state": {}
     },
     "fa7e7b8bb02a434da001dbd223e8c5eb": {
      "model_module": "@jupyter-widgets/base",
      "model_module_version": "1.2.0",
      "model_name": "LayoutModel",
      "state": {}
     },
     "fabcdcc5ed6b4ef5a3786a99c4ef7831": {
      "model_module": "@jupyter-widgets/base",
      "model_module_version": "1.2.0",
      "model_name": "LayoutModel",
      "state": {}
     },
     "fabdb67601ac4468bc8b1e639747d3df": {
      "model_module": "@jupyter-widgets/base",
      "model_module_version": "1.2.0",
      "model_name": "LayoutModel",
      "state": {
       "flex": "2"
      }
     },
     "fabe8909751a4ec99695ca7db437c88c": {
      "model_module": "@jupyter-widgets/controls",
      "model_module_version": "1.5.0",
      "model_name": "DescriptionStyleModel",
      "state": {
       "description_width": ""
      }
     },
     "fac5bc64349a4a26a3208ad063a8fe02": {
      "model_module": "@jupyter-widgets/controls",
      "model_module_version": "1.5.0",
      "model_name": "FloatProgressModel",
      "state": {
       "layout": "IPY_MODEL_881424aaa407408997a2f26e655e6fe4",
       "max": 191,
       "style": "IPY_MODEL_d4839524cade4970a9376f57347e1cc9",
       "value": 135
      }
     },
     "fad555f89f8a4268b81b04ea78e968e2": {
      "model_module": "@jupyter-widgets/base",
      "model_module_version": "1.2.0",
      "model_name": "LayoutModel",
      "state": {}
     },
     "fb1588df6da54856ba7b3394357af996": {
      "model_module": "@jupyter-widgets/controls",
      "model_module_version": "1.5.0",
      "model_name": "HTMLModel",
      "state": {
       "layout": "IPY_MODEL_aa18f23ea64c4d0ba56957a275293713",
       "style": "IPY_MODEL_57a27eb27eab4172870dbee300cbd3e4",
       "value": " 191/191 [00:11&lt;00:00, 16.69it/s]"
      }
     },
     "fb2b5ae709d64301b9d24621d0c027b5": {
      "model_module": "@jupyter-widgets/controls",
      "model_module_version": "1.5.0",
      "model_name": "FloatProgressModel",
      "state": {
       "layout": "IPY_MODEL_f6079b3fa1ad4e43872879bc3aa2ab03",
       "max": 191,
       "style": "IPY_MODEL_d80e984b87a3417dacdd9bf3af39d977",
       "value": 191
      }
     },
     "fb2cce638d034efc8eb380240ae7888b": {
      "model_module": "@jupyter-widgets/base",
      "model_module_version": "1.2.0",
      "model_name": "LayoutModel",
      "state": {
       "flex": "2"
      }
     },
     "fb3b240e4a194efe891ba2630d2cde21": {
      "model_module": "@jupyter-widgets/controls",
      "model_module_version": "1.5.0",
      "model_name": "HTMLModel",
      "state": {
       "layout": "IPY_MODEL_81e51bbdc5ed4b92a6e4187b16e112b2",
       "style": "IPY_MODEL_beb982f9937c48389b122e783ef4e924",
       "value": "Epoch 1: 100%"
      }
     },
     "fb73101148f549a9aee7cc66bee97e9e": {
      "model_module": "@jupyter-widgets/controls",
      "model_module_version": "1.5.0",
      "model_name": "FloatProgressModel",
      "state": {
       "bar_style": "success",
       "layout": "IPY_MODEL_3e2f5a354392465fbd927c87351ec7a0",
       "max": 417,
       "style": "IPY_MODEL_e5820ceba70d425096c12fa2ae568a73",
       "value": 417
      }
     },
     "fb73531c3778433d823633e41e9c29fd": {
      "model_module": "@jupyter-widgets/controls",
      "model_module_version": "1.5.0",
      "model_name": "ProgressStyleModel",
      "state": {
       "description_width": ""
      }
     },
     "fbc5d69ddb2946279dbb6fe1aa8641fc": {
      "model_module": "@jupyter-widgets/base",
      "model_module_version": "1.2.0",
      "model_name": "LayoutModel",
      "state": {}
     },
     "fbd44b88b3d943489fefc7978ee1f4c4": {
      "model_module": "@jupyter-widgets/controls",
      "model_module_version": "1.5.0",
      "model_name": "FloatProgressModel",
      "state": {
       "layout": "IPY_MODEL_17a3cab5fbb14f6cbfb715185c8d38e5",
       "max": 191,
       "style": "IPY_MODEL_daeb32d8ad6d4124bfdaae08e31f7f9f",
       "value": 191
      }
     },
     "fbfe47542d624464b3fd72332888b075": {
      "model_module": "@jupyter-widgets/base",
      "model_module_version": "1.2.0",
      "model_name": "LayoutModel",
      "state": {}
     },
     "fc15e241bc0b4fafbf7faa748055809a": {
      "model_module": "@jupyter-widgets/controls",
      "model_module_version": "1.5.0",
      "model_name": "HTMLModel",
      "state": {
       "layout": "IPY_MODEL_c684dadc35d841699faa24ef52b2d2b8",
       "style": "IPY_MODEL_030706f6d41942859eb5ece82c9d166b",
       "value": " 191/191 [00:10&lt;00:00, 18.21it/s]"
      }
     },
     "fc1a4d97e646486faa2a9b83ce99a049": {
      "model_module": "@jupyter-widgets/base",
      "model_module_version": "1.2.0",
      "model_name": "LayoutModel",
      "state": {
       "flex": "2"
      }
     },
     "fc21f735d3c64ba3ad6f7558a1eaf064": {
      "model_module": "@jupyter-widgets/controls",
      "model_module_version": "1.5.0",
      "model_name": "DescriptionStyleModel",
      "state": {
       "description_width": ""
      }
     },
     "fc317b1f3f794fe2b3300289e0297c96": {
      "model_module": "@jupyter-widgets/controls",
      "model_module_version": "1.5.0",
      "model_name": "DescriptionStyleModel",
      "state": {
       "description_width": ""
      }
     },
     "fc8eb0c55df94e348de1dd4858c42b71": {
      "model_module": "@jupyter-widgets/controls",
      "model_module_version": "1.5.0",
      "model_name": "FloatProgressModel",
      "state": {
       "bar_style": "success",
       "layout": "IPY_MODEL_8c17a3c0cf8647e2a35f43b6e63a5049",
       "max": 417,
       "style": "IPY_MODEL_87a79f000a664d07933ef5f1cd0e5d17",
       "value": 417
      }
     },
     "fd51003112bc4dc592e0502937f167f7": {
      "model_module": "@jupyter-widgets/base",
      "model_module_version": "1.2.0",
      "model_name": "LayoutModel",
      "state": {
       "display": "inline-flex",
       "flex_flow": "row wrap",
       "visibility": "hidden",
       "width": "100%"
      }
     },
     "fd58ebe59ca548938f2f938005fb6f69": {
      "model_module": "@jupyter-widgets/controls",
      "model_module_version": "1.5.0",
      "model_name": "HTMLModel",
      "state": {
       "layout": "IPY_MODEL_313b8933362f4303a2c2f3f8b62b19ee",
       "style": "IPY_MODEL_6c5089d104ba4fd7bb9791260f5cfdb9",
       "value": "Epoch 1: 100%"
      }
     },
     "fd6712655c0e47a4a47669a50a255fff": {
      "model_module": "@jupyter-widgets/base",
      "model_module_version": "1.2.0",
      "model_name": "LayoutModel",
      "state": {
       "display": "inline-flex",
       "flex_flow": "row wrap",
       "visibility": "hidden",
       "width": "100%"
      }
     },
     "fd8ca6af171c42aba76c0cb088670530": {
      "model_module": "@jupyter-widgets/base",
      "model_module_version": "1.2.0",
      "model_name": "LayoutModel",
      "state": {
       "flex": "2"
      }
     },
     "fe1080eaf82f4646aed59605c62c40e0": {
      "model_module": "@jupyter-widgets/base",
      "model_module_version": "1.2.0",
      "model_name": "LayoutModel",
      "state": {
       "display": "inline-flex",
       "flex_flow": "row wrap",
       "visibility": "hidden",
       "width": "100%"
      }
     },
     "fe24a830d34441bdb2d86c658c2bb98b": {
      "model_module": "@jupyter-widgets/base",
      "model_module_version": "1.2.0",
      "model_name": "LayoutModel",
      "state": {}
     },
     "fe494356712c49fbbb8543d44081b884": {
      "model_module": "@jupyter-widgets/base",
      "model_module_version": "1.2.0",
      "model_name": "LayoutModel",
      "state": {}
     },
     "fe5132275bbd4e7381b3d9df7e14d97d": {
      "model_module": "@jupyter-widgets/controls",
      "model_module_version": "1.5.0",
      "model_name": "HTMLModel",
      "state": {
       "layout": "IPY_MODEL_36b16d096e90472694df6191a9eb6ca8",
       "style": "IPY_MODEL_06d8d8e78f7441e2a3144b2e152b097a",
       "value": "Validation DataLoader 0: 100%"
      }
     },
     "fe77559b18bb45429de563de23d9c051": {
      "model_module": "@jupyter-widgets/controls",
      "model_module_version": "1.5.0",
      "model_name": "FloatProgressModel",
      "state": {
       "bar_style": "success",
       "layout": "IPY_MODEL_2ad84b09edd646a6a23d6e9880387413",
       "max": 417,
       "style": "IPY_MODEL_45bab709b8da4e5e95391985f3e67e07",
       "value": 417
      }
     },
     "fe7cc523ffe74afda83db215eac28c40": {
      "model_module": "@jupyter-widgets/controls",
      "model_module_version": "1.5.0",
      "model_name": "FloatProgressModel",
      "state": {
       "layout": "IPY_MODEL_3ba7092a0007441b819cda142a2a3134",
       "max": 191,
       "style": "IPY_MODEL_f7ce09be963e420e996b316c1556ab39",
       "value": 191
      }
     },
     "fe7d9ea1d00f4b97b35ddcb69fb174df": {
      "model_module": "@jupyter-widgets/controls",
      "model_module_version": "1.5.0",
      "model_name": "HTMLModel",
      "state": {
       "layout": "IPY_MODEL_f4964aa88c474f0b9d9e18cccbda9cc2",
       "style": "IPY_MODEL_97ce4c76912348348d452bd2852c86c6",
       "value": " 191/191 [00:14&lt;00:00, 13.27it/s]"
      }
     },
     "ff76839e56c5410c9d1b77d67b992a7d": {
      "model_module": "@jupyter-widgets/base",
      "model_module_version": "1.2.0",
      "model_name": "LayoutModel",
      "state": {}
     },
     "fffb9417a5c646d6800ace443392e980": {
      "model_module": "@jupyter-widgets/controls",
      "model_module_version": "1.5.0",
      "model_name": "ProgressStyleModel",
      "state": {
       "description_width": ""
      }
     }
    },
    "version_major": 2,
    "version_minor": 0
   }
  }
 },
 "nbformat": 4,
 "nbformat_minor": 5
}
