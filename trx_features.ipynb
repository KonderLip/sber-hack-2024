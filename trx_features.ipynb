{
 "cells": [
  {
   "cell_type": "code",
   "execution_count": 1,
   "id": "5bb2388f",
   "metadata": {},
   "outputs": [],
   "source": [
    "from datetime import datetime\n",
    "\n",
    "import polars as pl"
   ]
  },
  {
   "cell_type": "code",
   "execution_count": null,
   "id": "73b78d47",
   "metadata": {},
   "outputs": [],
   "source": []
  },
  {
   "cell_type": "code",
   "execution_count": 2,
   "id": "d36f7094",
   "metadata": {},
   "outputs": [],
   "source": [
    "months = [\n",
    "    '2022-02-28',\n",
    "    '2022-03-31',\n",
    "    '2022-04-30',\n",
    "    '2022-05-31',\n",
    "    '2022-06-30',\n",
    "    '2022-07-31',\n",
    "    '2022-08-31',\n",
    "    '2022-09-30',\n",
    "    '2022-10-31',\n",
    "    '2022-11-30',\n",
    "    '2022-12-31',\n",
    "    '2023-01-31',\n",
    "]\n",
    "month2id = dict((month, idx) for idx, month in enumerate(months))\n",
    "id2month = dict((idx, month) for idx, month in enumerate(months))"
   ]
  },
  {
   "cell_type": "code",
   "execution_count": null,
   "id": "b974db35",
   "metadata": {},
   "outputs": [],
   "source": []
  },
  {
   "cell_type": "code",
   "execution_count": 3,
   "id": "8041ab94",
   "metadata": {},
   "outputs": [],
   "source": [
    "def make_features(data, mon):\n",
    "    min_dt = datetime(2021, 1, 1)\n",
    "    features = (\n",
    "        data\n",
    "        .filter(pl.col(\"event_time\") < datetime.strptime(months[mon], \"%Y-%m-%d\").replace(day=1))\n",
    "        .with_columns(event_day=(pl.col(\"event_time\") - min_dt).dt.days())\n",
    "        .group_by(\"client_id\")\n",
    "        .agg(\n",
    "            trx_cnt=pl.count(),\n",
    "            trx_uniq_days=pl.col(\"event_day\").n_unique(),\n",
    "            trx_first_day=pl.col(\"event_day\").min(),\n",
    "            trx_last_day=pl.col(\"event_day\").max(),\n",
    "            \n",
    "            event_type_uniq=pl.col(\"event_type\").n_unique(),\n",
    "            event_subtype_uniq=pl.col(\"event_subtype\").n_unique(),\n",
    "            currency_uniq=pl.col(\"currency\").n_unique(),\n",
    "            \n",
    "            dst_type11_uniq=pl.col(\"dst_type11\").n_unique(),\n",
    "            dst_type12_uniq=pl.col(\"dst_type12\").n_unique(),\n",
    "            src_type11_uniq=pl.col(\"src_type11\").n_unique(),\n",
    "            src_type12_uniq=pl.col(\"src_type12\").n_unique(),\n",
    "            \n",
    "            src_type21=pl.col(\"src_type21\").fill_null(-2).first().cast(pl.Int32),\n",
    "            src_type22=pl.col(\"src_type22\").fill_null(-2).first().cast(pl.Int32),\n",
    "            src_type31=pl.col(\"src_type31\").fill_null(-2).first().cast(pl.Int32),\n",
    "            src_type32=pl.col(\"src_type32\").fill_null(-2).first().cast(pl.Int32),\n",
    "        )\n",
    "        .with_columns(\n",
    "            trx_len_period=pl.col(\"trx_last_day\") - pl.col(\"trx_first_day\") + 1,\n",
    "        )\n",
    "        .with_columns(\n",
    "            trx_cnt_per_day=pl.col(\"trx_cnt\") / pl.col(\"trx_uniq_days\"),\n",
    "            trx_density=pl.col(\"trx_cnt\") / pl.col(\"trx_len_period\"),\n",
    "        )\n",
    "    )\n",
    "    \n",
    "    rub_features = (\n",
    "        data\n",
    "        .filter(pl.col(\"currency\") == 11.0)\n",
    "        .filter(pl.col(\"event_time\") < datetime.strptime(months[mon], \"%Y-%m-%d\").replace(day=1))\n",
    "        .group_by(\"client_id\")\n",
    "        .agg(\n",
    "            amt_cnt=pl.count(),\n",
    "            amt_sum=pl.col(\"amount\").sum(),\n",
    "            amt_min=pl.col(\"amount\").min(),\n",
    "            amt_max=pl.col(\"amount\").max(),\n",
    "            amt_mean=pl.col(\"amount\").mean(),\n",
    "            amt_median=pl.col(\"amount\").median(),\n",
    "        )\n",
    "        .with_columns(\n",
    "            amt_range=pl.col(\"amt_max\") - pl.col(\"amt_min\"),\n",
    "        )\n",
    "    )\n",
    "    features = features.join(rub_features, on=\"client_id\", how=\"left\").fill_null(0)\n",
    "    \n",
    "    return features"
   ]
  },
  {
   "cell_type": "code",
   "execution_count": null,
   "id": "20122a7d",
   "metadata": {},
   "outputs": [],
   "source": []
  },
  {
   "cell_type": "code",
   "execution_count": 4,
   "id": "4ec91fa2",
   "metadata": {},
   "outputs": [],
   "source": [
    "mon = 9"
   ]
  },
  {
   "cell_type": "code",
   "execution_count": null,
   "id": "1a23a232",
   "metadata": {},
   "outputs": [],
   "source": []
  },
  {
   "cell_type": "code",
   "execution_count": 5,
   "id": "018553d3",
   "metadata": {},
   "outputs": [],
   "source": [
    "import gc\n",
    "import os\n",
    "from collections import Counter\n",
    "from tqdm.auto import tqdm"
   ]
  },
  {
   "cell_type": "code",
   "execution_count": 6,
   "id": "4224ea27",
   "metadata": {},
   "outputs": [
    {
     "data": {
      "application/vnd.jupyter.widget-view+json": {
       "model_id": "b4f47c868fbf4ce5ab0a5bc522e42008",
       "version_major": 2,
       "version_minor": 0
      },
      "text/plain": [
       "  0%|          | 0/14 [00:00<?, ?it/s]"
      ]
     },
     "metadata": {},
     "output_type": "display_data"
    }
   ],
   "source": [
    "counter = Counter()\n",
    "for file in tqdm(os.listdir(\"./data/trx_train.parquet/\")):\n",
    "    train_trx = pl.read_parquet(\"./data/trx_train.parquet/\" + file)\n",
    "    counter.update(train_trx[\"client_id\"].unique())"
   ]
  },
  {
   "cell_type": "code",
   "execution_count": 7,
   "id": "a3419655",
   "metadata": {},
   "outputs": [],
   "source": [
    "one = []\n",
    "two = []\n",
    "for client_id, count in counter.most_common():\n",
    "    if count == 1:\n",
    "        one.append(client_id)\n",
    "    else:\n",
    "        two.append(client_id)"
   ]
  },
  {
   "cell_type": "code",
   "execution_count": 8,
   "id": "44140d53",
   "metadata": {},
   "outputs": [
    {
     "data": {
      "text/plain": [
       "(855601, 26)"
      ]
     },
     "execution_count": 8,
     "metadata": {},
     "output_type": "execute_result"
    }
   ],
   "source": [
    "len(one), len(two)"
   ]
  },
  {
   "cell_type": "code",
   "execution_count": 9,
   "id": "a3167a3c",
   "metadata": {},
   "outputs": [
    {
     "data": {
      "application/vnd.jupyter.widget-view+json": {
       "model_id": "5579692c90544a7f9f7e4b87719d4e36",
       "version_major": 2,
       "version_minor": 0
      },
      "text/plain": [
       "  0%|          | 0/14 [00:00<?, ?it/s]"
      ]
     },
     "metadata": {},
     "output_type": "display_data"
    }
   ],
   "source": [
    "train_features = []\n",
    "buf = []\n",
    "for file in tqdm(os.listdir(\"./data/trx_train.parquet/\")):\n",
    "    train_trx = pl.read_parquet(\"./data/trx_train.parquet/\" + file)\n",
    "    buf.append(train_trx.filter(pl.col(\"client_id\").is_in(two)))\n",
    "    train_trx = train_trx.filter(pl.col(\"client_id\").is_in(one))\n",
    "    train_features.append(make_features(train_trx, mon))\n",
    "    gc.collect()"
   ]
  },
  {
   "cell_type": "code",
   "execution_count": 10,
   "id": "dcf676fe",
   "metadata": {},
   "outputs": [],
   "source": [
    "buf = pl.concat(buf)\n",
    "train_features.append(make_features(buf, mon))"
   ]
  },
  {
   "cell_type": "code",
   "execution_count": 11,
   "id": "7b6d00b3",
   "metadata": {},
   "outputs": [
    {
     "data": {
      "text/html": [
       "<div><style>\n",
       ".dataframe > thead > tr > th,\n",
       ".dataframe > tbody > tr > td {\n",
       "  text-align: right;\n",
       "  white-space: pre-wrap;\n",
       "}\n",
       "</style>\n",
       "<small>shape: (855_627, 26)</small><table border=\"1\" class=\"dataframe\"><thead><tr><th>client_id</th><th>trx_cnt</th><th>trx_uniq_days</th><th>trx_first_day</th><th>trx_last_day</th><th>event_type_uniq</th><th>event_subtype_uniq</th><th>currency_uniq</th><th>dst_type11_uniq</th><th>dst_type12_uniq</th><th>src_type11_uniq</th><th>src_type12_uniq</th><th>src_type21</th><th>src_type22</th><th>src_type31</th><th>src_type32</th><th>trx_len_period</th><th>trx_cnt_per_day</th><th>trx_density</th><th>amt_cnt</th><th>amt_sum</th><th>amt_min</th><th>amt_max</th><th>amt_mean</th><th>amt_median</th><th>amt_range</th></tr><tr><td>str</td><td>u32</td><td>u32</td><td>i64</td><td>i64</td><td>u32</td><td>u32</td><td>u32</td><td>u32</td><td>u32</td><td>u32</td><td>u32</td><td>i32</td><td>i32</td><td>i32</td><td>i32</td><td>i64</td><td>f64</td><td>f64</td><td>u32</td><td>f32</td><td>f32</td><td>f32</td><td>f32</td><td>f32</td><td>f32</td></tr></thead><tbody><tr><td>&quot;bccefa7c1a05f1…</td><td>4</td><td>4</td><td>459</td><td>655</td><td>1</td><td>1</td><td>1</td><td>1</td><td>1</td><td>1</td><td>1</td><td>32822</td><td>64</td><td>1574</td><td>55</td><td>197</td><td>1.0</td><td>0.020305</td><td>4</td><td>1.6050e6</td><td>126738.046875</td><td>722986.1875</td><td>401250.8125</td><td>377639.46875</td><td>596248.125</td></tr><tr><td>&quot;eab52e5e022623…</td><td>461</td><td>258</td><td>365</td><td>715</td><td>12</td><td>14</td><td>1</td><td>7</td><td>11</td><td>4</td><td>5</td><td>34170</td><td>38</td><td>250</td><td>4</td><td>351</td><td>1.786822</td><td>1.31339</td><td>461</td><td>3.7728256e7</td><td>0.01626</td><td>1.7513e6</td><td>81840.03125</td><td>25633.560547</td><td>1.7513e6</td></tr><tr><td>&quot;c9aedf5f595ee8…</td><td>7</td><td>7</td><td>606</td><td>643</td><td>4</td><td>4</td><td>1</td><td>3</td><td>3</td><td>3</td><td>3</td><td>25714</td><td>70</td><td>724</td><td>70</td><td>38</td><td>1.0</td><td>0.184211</td><td>7</td><td>48567.507812</td><td>72.615654</td><td>16671.464844</td><td>6938.215332</td><td>797.364014</td><td>16598.849609</td></tr><tr><td>&quot;005521bad2ae25…</td><td>614</td><td>292</td><td>365</td><td>715</td><td>12</td><td>12</td><td>1</td><td>11</td><td>15</td><td>4</td><td>6</td><td>8173</td><td>42</td><td>2202</td><td>76</td><td>351</td><td>2.10274</td><td>1.749288</td><td>614</td><td>1.0708401e7</td><td>1.107937</td><td>373351.6875</td><td>17440.392578</td><td>2464.007324</td><td>373350.59375</td></tr><tr><td>&quot;46a90aee7e5041…</td><td>44</td><td>41</td><td>367</td><td>682</td><td>2</td><td>2</td><td>1</td><td>3</td><td>3</td><td>1</td><td>1</td><td>35161</td><td>70</td><td>2388</td><td>74</td><td>316</td><td>1.073171</td><td>0.139241</td><td>44</td><td>942180.1875</td><td>55.219833</td><td>87457.789062</td><td>21413.185547</td><td>10029.341797</td><td>87402.570312</td></tr><tr><td>&quot;7739f41585bb10…</td><td>12</td><td>12</td><td>386</td><td>647</td><td>1</td><td>1</td><td>1</td><td>1</td><td>1</td><td>1</td><td>1</td><td>13013</td><td>41</td><td>2084</td><td>4</td><td>262</td><td>1.0</td><td>0.045802</td><td>12</td><td>238303.25</td><td>3877.471191</td><td>31418.40625</td><td>19858.603516</td><td>22510.658203</td><td>27540.935547</td></tr><tr><td>&quot;d03c5d92f39957…</td><td>19</td><td>17</td><td>381</td><td>697</td><td>2</td><td>2</td><td>1</td><td>2</td><td>3</td><td>1</td><td>1</td><td>41888</td><td>21</td><td>1109</td><td>6</td><td>317</td><td>1.117647</td><td>0.059937</td><td>19</td><td>7608341.5</td><td>1601.574463</td><td>1.4527e6</td><td>400439.03125</td><td>184743.15625</td><td>1.4511e6</td></tr><tr><td>&quot;63d78c012efbe2…</td><td>718</td><td>299</td><td>365</td><td>712</td><td>19</td><td>19</td><td>1</td><td>10</td><td>15</td><td>5</td><td>7</td><td>34390</td><td>37</td><td>1058</td><td>4</td><td>348</td><td>2.401338</td><td>2.063218</td><td>718</td><td>4.93413184e8</td><td>0.236961</td><td>4.0834684e7</td><td>687205.0</td><td>20687.628906</td><td>4.0834684e7</td></tr><tr><td>&quot;488aac61a66409…</td><td>157</td><td>111</td><td>365</td><td>704</td><td>11</td><td>12</td><td>1</td><td>9</td><td>11</td><td>4</td><td>6</td><td>32722</td><td>69</td><td>844</td><td>4</td><td>340</td><td>1.414414</td><td>0.461765</td><td>157</td><td>1.8721e6</td><td>1.277519</td><td>305337.875</td><td>11924.316406</td><td>2941.044189</td><td>305336.59375</td></tr><tr><td>&quot;49c3a17a991d26…</td><td>28</td><td>27</td><td>405</td><td>667</td><td>2</td><td>2</td><td>1</td><td>2</td><td>3</td><td>1</td><td>1</td><td>29010</td><td>70</td><td>724</td><td>70</td><td>263</td><td>1.037037</td><td>0.106464</td><td>28</td><td>4413521.5</td><td>1341.094116</td><td>1701070.5</td><td>157625.765625</td><td>39228.8125</td><td>1.6997e6</td></tr><tr><td>&quot;624c664b32ab81…</td><td>1</td><td>1</td><td>413</td><td>413</td><td>1</td><td>1</td><td>1</td><td>1</td><td>1</td><td>1</td><td>1</td><td>20308</td><td>68</td><td>1159</td><td>50</td><td>1</td><td>1.0</td><td>1.0</td><td>1</td><td>41464.84375</td><td>41464.84375</td><td>41464.84375</td><td>41464.84375</td><td>41464.84375</td><td>0.0</td></tr><tr><td>&quot;2c2c971e484868…</td><td>205</td><td>136</td><td>413</td><td>717</td><td>13</td><td>13</td><td>1</td><td>7</td><td>10</td><td>7</td><td>11</td><td>35583</td><td>70</td><td>2128</td><td>81</td><td>305</td><td>1.507353</td><td>0.672131</td><td>205</td><td>6.220482e7</td><td>3.71004</td><td>4.2168652e7</td><td>303438.15625</td><td>8886.436523</td><td>4.2168648e7</td></tr><tr><td>&hellip;</td><td>&hellip;</td><td>&hellip;</td><td>&hellip;</td><td>&hellip;</td><td>&hellip;</td><td>&hellip;</td><td>&hellip;</td><td>&hellip;</td><td>&hellip;</td><td>&hellip;</td><td>&hellip;</td><td>&hellip;</td><td>&hellip;</td><td>&hellip;</td><td>&hellip;</td><td>&hellip;</td><td>&hellip;</td><td>&hellip;</td><td>&hellip;</td><td>&hellip;</td><td>&hellip;</td><td>&hellip;</td><td>&hellip;</td><td>&hellip;</td><td>&hellip;</td></tr><tr><td>&quot;a66a1a03cde30a…</td><td>634</td><td>274</td><td>365</td><td>713</td><td>8</td><td>9</td><td>1</td><td>5</td><td>9</td><td>3</td><td>3</td><td>38406</td><td>77</td><td>1</td><td>8</td><td>349</td><td>2.313869</td><td>1.816619</td><td>634</td><td>9.2498512e7</td><td>0.361941</td><td>7153259.5</td><td>145896.703125</td><td>14897.77832</td><td>7.153259e6</td></tr><tr><td>&quot;b1e0c71f4825c4…</td><td>898</td><td>249</td><td>402</td><td>714</td><td>17</td><td>20</td><td>1</td><td>13</td><td>22</td><td>7</td><td>16</td><td>29127</td><td>70</td><td>568</td><td>77</td><td>313</td><td>3.606426</td><td>2.86901</td><td>898</td><td>2.48344e8</td><td>0.032673</td><td>2.0326904e7</td><td>276552.34375</td><td>10803.589844</td><td>2.0326904e7</td></tr><tr><td>&quot;72ef7be707d1ee…</td><td>616</td><td>261</td><td>365</td><td>713</td><td>12</td><td>12</td><td>1</td><td>11</td><td>17</td><td>2</td><td>2</td><td>43936</td><td>31</td><td>882</td><td>24</td><td>349</td><td>2.360153</td><td>1.765043</td><td>616</td><td>1.32677576e8</td><td>0.027819</td><td>1.4937871e7</td><td>215385.671875</td><td>15096.792969</td><td>1.4937871e7</td></tr><tr><td>&quot;8d3d2d60a5b4a6…</td><td>135</td><td>110</td><td>369</td><td>698</td><td>12</td><td>12</td><td>1</td><td>8</td><td>9</td><td>4</td><td>5</td><td>35894</td><td>70</td><td>148</td><td>67</td><td>330</td><td>1.227273</td><td>0.409091</td><td>135</td><td>1.543195e7</td><td>0.065036</td><td>3.3992e6</td><td>114310.742188</td><td>37036.519531</td><td>3.3992e6</td></tr><tr><td>&quot;5b9421ebce46cc…</td><td>65</td><td>57</td><td>368</td><td>709</td><td>3</td><td>3</td><td>1</td><td>2</td><td>4</td><td>1</td><td>1</td><td>22749</td><td>12</td><td>500</td><td>17</td><td>342</td><td>1.140351</td><td>0.190058</td><td>65</td><td>4596580.5</td><td>2050.807129</td><td>342854.5</td><td>70716.625</td><td>30381.935547</td><td>340803.6875</td></tr><tr><td>&quot;a19c22b032f536…</td><td>176</td><td>135</td><td>367</td><td>713</td><td>2</td><td>2</td><td>1</td><td>2</td><td>3</td><td>1</td><td>1</td><td>3401</td><td>70</td><td>883</td><td>51</td><td>347</td><td>1.303704</td><td>0.507205</td><td>176</td><td>7822778.5</td><td>355.620148</td><td>384785.28125</td><td>44447.605469</td><td>25570.734375</td><td>384429.65625</td></tr><tr><td>&quot;e7b6c1118ed949…</td><td>362</td><td>228</td><td>365</td><td>710</td><td>13</td><td>13</td><td>1</td><td>8</td><td>11</td><td>4</td><td>5</td><td>16782</td><td>70</td><td>148</td><td>67</td><td>346</td><td>1.587719</td><td>1.046243</td><td>362</td><td>7697103.5</td><td>0.071536</td><td>360676.03125</td><td>21262.716797</td><td>8866.169922</td><td>360675.96875</td></tr><tr><td>&quot;626f378c087713…</td><td>501</td><td>264</td><td>364</td><td>702</td><td>11</td><td>11</td><td>1</td><td>6</td><td>9</td><td>2</td><td>3</td><td>33852</td><td>70</td><td>1641</td><td>22</td><td>339</td><td>1.897727</td><td>1.477876</td><td>501</td><td>2.3241424e7</td><td>0.016331</td><td>1.701391e6</td><td>46390.066406</td><td>8688.803711</td><td>1.701391e6</td></tr><tr><td>&quot;224a3c7fb6f850…</td><td>524</td><td>262</td><td>365</td><td>713</td><td>8</td><td>9</td><td>1</td><td>6</td><td>9</td><td>2</td><td>2</td><td>11215</td><td>3</td><td>2496</td><td>76</td><td>349</td><td>2.0</td><td>1.501433</td><td>524</td><td>5.920274e7</td><td>1.711035</td><td>1.334094e7</td><td>112982.328125</td><td>13697.744141</td><td>1.3340938e7</td></tr><tr><td>&quot;ce9c6ba62ecc57…</td><td>278</td><td>193</td><td>365</td><td>695</td><td>5</td><td>5</td><td>1</td><td>6</td><td>9</td><td>1</td><td>1</td><td>1919</td><td>70</td><td>1332</td><td>58</td><td>331</td><td>1.440415</td><td>0.839879</td><td>278</td><td>5.2349384e7</td><td>9.845316</td><td>3.802788e6</td><td>188307.140625</td><td>3093.292969</td><td>3.8028e6</td></tr><tr><td>&quot;6ad0c475b7c53f…</td><td>380</td><td>223</td><td>366</td><td>704</td><td>14</td><td>15</td><td>1</td><td>9</td><td>13</td><td>3</td><td>4</td><td>35458</td><td>85</td><td>148</td><td>67</td><td>339</td><td>1.704036</td><td>1.120944</td><td>380</td><td>9.508278e6</td><td>0.072187</td><td>1.030522e6</td><td>25021.785156</td><td>1649.051392</td><td>1.0305e6</td></tr><tr><td>&quot;387d2ce73c5504…</td><td>328</td><td>178</td><td>368</td><td>709</td><td>16</td><td>16</td><td>1</td><td>13</td><td>17</td><td>6</td><td>9</td><td>41526</td><td>20</td><td>2240</td><td>74</td><td>342</td><td>1.842697</td><td>0.959064</td><td>328</td><td>1.2754759e7</td><td>0.06236</td><td>2360639.5</td><td>38886.460938</td><td>1143.743164</td><td>2360639.5</td></tr></tbody></table></div>"
      ],
      "text/plain": [
       "shape: (855_627, 26)\n",
       "┌────────────┬─────────┬───────────┬───────────┬───┬───────────┬───────────┬───────────┬───────────┐\n",
       "│ client_id  ┆ trx_cnt ┆ trx_uniq_ ┆ trx_first ┆ … ┆ amt_max   ┆ amt_mean  ┆ amt_media ┆ amt_range │\n",
       "│ ---        ┆ ---     ┆ days      ┆ _day      ┆   ┆ ---       ┆ ---       ┆ n         ┆ ---       │\n",
       "│ str        ┆ u32     ┆ ---       ┆ ---       ┆   ┆ f32       ┆ f32       ┆ ---       ┆ f32       │\n",
       "│            ┆         ┆ u32       ┆ i64       ┆   ┆           ┆           ┆ f32       ┆           │\n",
       "╞════════════╪═════════╪═══════════╪═══════════╪═══╪═══════════╪═══════════╪═══════════╪═══════════╡\n",
       "│ bccefa7c1a ┆ 4       ┆ 4         ┆ 459       ┆ … ┆ 722986.18 ┆ 401250.81 ┆ 377639.46 ┆ 596248.12 │\n",
       "│ 05f14e012b ┆         ┆           ┆           ┆   ┆ 75        ┆ 25        ┆ 875       ┆ 5         │\n",
       "│ 1d4725f3e6 ┆         ┆           ┆           ┆   ┆           ┆           ┆           ┆           │\n",
       "│ 47…        ┆         ┆           ┆           ┆   ┆           ┆           ┆           ┆           │\n",
       "│ eab52e5e02 ┆ 461     ┆ 258       ┆ 365       ┆ … ┆ 1.7513e6  ┆ 81840.031 ┆ 25633.560 ┆ 1.7513e6  │\n",
       "│ 2623e40065 ┆         ┆           ┆           ┆   ┆           ┆ 25        ┆ 547       ┆           │\n",
       "│ 0376e66a6d ┆         ┆           ┆           ┆   ┆           ┆           ┆           ┆           │\n",
       "│ 40…        ┆         ┆           ┆           ┆   ┆           ┆           ┆           ┆           │\n",
       "│ c9aedf5f59 ┆ 7       ┆ 7         ┆ 606       ┆ … ┆ 16671.464 ┆ 6938.2153 ┆ 797.36401 ┆ 16598.849 │\n",
       "│ 5ee86daabe ┆         ┆           ┆           ┆   ┆ 844       ┆ 32        ┆ 4         ┆ 609       │\n",
       "│ ebe5cb59fe ┆         ┆           ┆           ┆   ┆           ┆           ┆           ┆           │\n",
       "│ c6…        ┆         ┆           ┆           ┆   ┆           ┆           ┆           ┆           │\n",
       "│ 005521bad2 ┆ 614     ┆ 292       ┆ 365       ┆ … ┆ 373351.68 ┆ 17440.392 ┆ 2464.0073 ┆ 373350.59 │\n",
       "│ ae25a448a7 ┆         ┆           ┆           ┆   ┆ 75        ┆ 578       ┆ 24        ┆ 375       │\n",
       "│ 9add67c264 ┆         ┆           ┆           ┆   ┆           ┆           ┆           ┆           │\n",
       "│ af…        ┆         ┆           ┆           ┆   ┆           ┆           ┆           ┆           │\n",
       "│ …          ┆ …       ┆ …         ┆ …         ┆ … ┆ …         ┆ …         ┆ …         ┆ …         │\n",
       "│ 224a3c7fb6 ┆ 524     ┆ 262       ┆ 365       ┆ … ┆ 1.334094e ┆ 112982.32 ┆ 13697.744 ┆ 1.3340938 │\n",
       "│ f8502b62d3 ┆         ┆           ┆           ┆   ┆ 7         ┆ 8125      ┆ 141       ┆ e7        │\n",
       "│ f8da9cefe1 ┆         ┆           ┆           ┆   ┆           ┆           ┆           ┆           │\n",
       "│ 0f…        ┆         ┆           ┆           ┆   ┆           ┆           ┆           ┆           │\n",
       "│ ce9c6ba62e ┆ 278     ┆ 193       ┆ 365       ┆ … ┆ 3.802788e ┆ 188307.14 ┆ 3093.2929 ┆ 3.8028e6  │\n",
       "│ cc57c701fc ┆         ┆           ┆           ┆   ┆ 6         ┆ 0625      ┆ 69        ┆           │\n",
       "│ f54de6d5de ┆         ┆           ┆           ┆   ┆           ┆           ┆           ┆           │\n",
       "│ 3f…        ┆         ┆           ┆           ┆   ┆           ┆           ┆           ┆           │\n",
       "│ 6ad0c475b7 ┆ 380     ┆ 223       ┆ 366       ┆ … ┆ 1.030522e ┆ 25021.785 ┆ 1649.0513 ┆ 1.0305e6  │\n",
       "│ c53fb615ad ┆         ┆           ┆           ┆   ┆ 6         ┆ 156       ┆ 92        ┆           │\n",
       "│ a024055ebe ┆         ┆           ┆           ┆   ┆           ┆           ┆           ┆           │\n",
       "│ ff…        ┆         ┆           ┆           ┆   ┆           ┆           ┆           ┆           │\n",
       "│ 387d2ce73c ┆ 328     ┆ 178       ┆ 368       ┆ … ┆ 2360639.5 ┆ 38886.460 ┆ 1143.7431 ┆ 2360639.5 │\n",
       "│ 550494eeed ┆         ┆           ┆           ┆   ┆           ┆ 938       ┆ 64        ┆           │\n",
       "│ d50c1893ca ┆         ┆           ┆           ┆   ┆           ┆           ┆           ┆           │\n",
       "│ 97…        ┆         ┆           ┆           ┆   ┆           ┆           ┆           ┆           │\n",
       "└────────────┴─────────┴───────────┴───────────┴───┴───────────┴───────────┴───────────┴───────────┘"
      ]
     },
     "execution_count": 11,
     "metadata": {},
     "output_type": "execute_result"
    }
   ],
   "source": [
    "train_features = pl.concat(train_features)\n",
    "train_features"
   ]
  },
  {
   "cell_type": "code",
   "execution_count": 12,
   "id": "9ae29812",
   "metadata": {},
   "outputs": [
    {
     "data": {
      "text/html": [
       "<div><style>\n",
       ".dataframe > thead > tr > th,\n",
       ".dataframe > tbody > tr > td {\n",
       "  text-align: right;\n",
       "  white-space: pre-wrap;\n",
       "}\n",
       "</style>\n",
       "<small>shape: (855_627, 2)</small><table border=\"1\" class=\"dataframe\"><thead><tr><th>client_id</th><th>counts</th></tr><tr><td>str</td><td>u32</td></tr></thead><tbody><tr><td>&quot;bccefa7c1a05f1…</td><td>1</td></tr><tr><td>&quot;eab52e5e022623…</td><td>1</td></tr><tr><td>&quot;c9aedf5f595ee8…</td><td>1</td></tr><tr><td>&quot;005521bad2ae25…</td><td>1</td></tr><tr><td>&quot;46a90aee7e5041…</td><td>1</td></tr><tr><td>&quot;7739f41585bb10…</td><td>1</td></tr><tr><td>&quot;d03c5d92f39957…</td><td>1</td></tr><tr><td>&quot;63d78c012efbe2…</td><td>1</td></tr><tr><td>&quot;488aac61a66409…</td><td>1</td></tr><tr><td>&quot;49c3a17a991d26…</td><td>1</td></tr><tr><td>&quot;624c664b32ab81…</td><td>1</td></tr><tr><td>&quot;2c2c971e484868…</td><td>1</td></tr><tr><td>&hellip;</td><td>&hellip;</td></tr><tr><td>&quot;a66a1a03cde30a…</td><td>1</td></tr><tr><td>&quot;b1e0c71f4825c4…</td><td>1</td></tr><tr><td>&quot;72ef7be707d1ee…</td><td>1</td></tr><tr><td>&quot;8d3d2d60a5b4a6…</td><td>1</td></tr><tr><td>&quot;5b9421ebce46cc…</td><td>1</td></tr><tr><td>&quot;a19c22b032f536…</td><td>1</td></tr><tr><td>&quot;e7b6c1118ed949…</td><td>1</td></tr><tr><td>&quot;626f378c087713…</td><td>1</td></tr><tr><td>&quot;224a3c7fb6f850…</td><td>1</td></tr><tr><td>&quot;ce9c6ba62ecc57…</td><td>1</td></tr><tr><td>&quot;6ad0c475b7c53f…</td><td>1</td></tr><tr><td>&quot;387d2ce73c5504…</td><td>1</td></tr></tbody></table></div>"
      ],
      "text/plain": [
       "shape: (855_627, 2)\n",
       "┌───────────────────────────────────┬────────┐\n",
       "│ client_id                         ┆ counts │\n",
       "│ ---                               ┆ ---    │\n",
       "│ str                               ┆ u32    │\n",
       "╞═══════════════════════════════════╪════════╡\n",
       "│ bccefa7c1a05f14e012b1d4725f3e647… ┆ 1      │\n",
       "│ eab52e5e022623e400650376e66a6d40… ┆ 1      │\n",
       "│ c9aedf5f595ee86daabeebe5cb59fec6… ┆ 1      │\n",
       "│ 005521bad2ae25a448a79add67c264af… ┆ 1      │\n",
       "│ …                                 ┆ …      │\n",
       "│ 224a3c7fb6f8502b62d3f8da9cefe10f… ┆ 1      │\n",
       "│ ce9c6ba62ecc57c701fcf54de6d5de3f… ┆ 1      │\n",
       "│ 6ad0c475b7c53fb615ada024055ebeff… ┆ 1      │\n",
       "│ 387d2ce73c550494eeedd50c1893ca97… ┆ 1      │\n",
       "└───────────────────────────────────┴────────┘"
      ]
     },
     "execution_count": 12,
     "metadata": {},
     "output_type": "execute_result"
    }
   ],
   "source": [
    "train_features[\"client_id\"].value_counts(sort=True)"
   ]
  },
  {
   "cell_type": "code",
   "execution_count": null,
   "id": "238d1f63",
   "metadata": {},
   "outputs": [],
   "source": []
  },
  {
   "cell_type": "code",
   "execution_count": 13,
   "id": "dd700c9a",
   "metadata": {},
   "outputs": [
    {
     "data": {
      "application/vnd.jupyter.widget-view+json": {
       "model_id": "8fb31c44b6c540d7898c35372a5de634",
       "version_major": 2,
       "version_minor": 0
      },
      "text/plain": [
       "  0%|          | 0/3 [00:00<?, ?it/s]"
      ]
     },
     "metadata": {},
     "output_type": "display_data"
    }
   ],
   "source": [
    "counter = Counter()\n",
    "for file in tqdm(os.listdir(\"./data/trx_test.parquet/\")):\n",
    "    val_trx = pl.read_parquet(\"./data/trx_test.parquet/\" + file)\n",
    "    counter.update(val_trx[\"client_id\"].unique())"
   ]
  },
  {
   "cell_type": "code",
   "execution_count": 14,
   "id": "9b5e1653",
   "metadata": {},
   "outputs": [],
   "source": [
    "one = []\n",
    "two = []\n",
    "for client_id, count in counter.most_common():\n",
    "    if count == 1:\n",
    "        one.append(client_id)\n",
    "    else:\n",
    "        two.append(client_id)"
   ]
  },
  {
   "cell_type": "code",
   "execution_count": 15,
   "id": "5b1e59a5",
   "metadata": {},
   "outputs": [
    {
     "data": {
      "text/plain": [
       "(223319, 2425)"
      ]
     },
     "execution_count": 15,
     "metadata": {},
     "output_type": "execute_result"
    }
   ],
   "source": [
    "len(one), len(two)"
   ]
  },
  {
   "cell_type": "code",
   "execution_count": 16,
   "id": "46abe536",
   "metadata": {},
   "outputs": [
    {
     "data": {
      "application/vnd.jupyter.widget-view+json": {
       "model_id": "0cb9d2dc16a94536944ff3361a6a393b",
       "version_major": 2,
       "version_minor": 0
      },
      "text/plain": [
       "  0%|          | 0/3 [00:00<?, ?it/s]"
      ]
     },
     "metadata": {},
     "output_type": "display_data"
    }
   ],
   "source": [
    "val_features = []\n",
    "buf = []\n",
    "for file in tqdm(os.listdir(\"./data/trx_test.parquet/\")):\n",
    "    val_trx = pl.read_parquet(\"./data/trx_test.parquet/\" + file)\n",
    "    buf.append(val_trx.filter(pl.col(\"client_id\").is_in(two)))\n",
    "    val_trx = val_trx.filter(pl.col(\"client_id\").is_in(one))\n",
    "    val_features.append(make_features(val_trx, mon))\n",
    "    gc.collect()"
   ]
  },
  {
   "cell_type": "code",
   "execution_count": 17,
   "id": "b2f8df8c",
   "metadata": {},
   "outputs": [],
   "source": [
    "buf = pl.concat(buf)\n",
    "val_features.append(make_features(buf, mon))"
   ]
  },
  {
   "cell_type": "code",
   "execution_count": 18,
   "id": "c5436665",
   "metadata": {},
   "outputs": [
    {
     "data": {
      "text/html": [
       "<div><style>\n",
       ".dataframe > thead > tr > th,\n",
       ".dataframe > tbody > tr > td {\n",
       "  text-align: right;\n",
       "  white-space: pre-wrap;\n",
       "}\n",
       "</style>\n",
       "<small>shape: (225_744, 26)</small><table border=\"1\" class=\"dataframe\"><thead><tr><th>client_id</th><th>trx_cnt</th><th>trx_uniq_days</th><th>trx_first_day</th><th>trx_last_day</th><th>event_type_uniq</th><th>event_subtype_uniq</th><th>currency_uniq</th><th>dst_type11_uniq</th><th>dst_type12_uniq</th><th>src_type11_uniq</th><th>src_type12_uniq</th><th>src_type21</th><th>src_type22</th><th>src_type31</th><th>src_type32</th><th>trx_len_period</th><th>trx_cnt_per_day</th><th>trx_density</th><th>amt_cnt</th><th>amt_sum</th><th>amt_min</th><th>amt_max</th><th>amt_mean</th><th>amt_median</th><th>amt_range</th></tr><tr><td>str</td><td>u32</td><td>u32</td><td>i64</td><td>i64</td><td>u32</td><td>u32</td><td>u32</td><td>u32</td><td>u32</td><td>u32</td><td>u32</td><td>i32</td><td>i32</td><td>i32</td><td>i32</td><td>i64</td><td>f64</td><td>f64</td><td>u32</td><td>f32</td><td>f32</td><td>f32</td><td>f32</td><td>f32</td><td>f32</td></tr></thead><tbody><tr><td>&quot;5a36339de5f22c…</td><td>369</td><td>213</td><td>367</td><td>668</td><td>14</td><td>14</td><td>1</td><td>7</td><td>9</td><td>4</td><td>4</td><td>44014</td><td>85</td><td>1128</td><td>88</td><td>302</td><td>1.732394</td><td>1.221854</td><td>369</td><td>4.716638e7</td><td>2.163952</td><td>1.7415e6</td><td>127822.171875</td><td>16571.041016</td><td>1.7415e6</td></tr><tr><td>&quot;192b65b348353e…</td><td>450</td><td>146</td><td>410</td><td>697</td><td>17</td><td>17</td><td>1</td><td>10</td><td>15</td><td>8</td><td>15</td><td>40463</td><td>31</td><td>854</td><td>77</td><td>288</td><td>3.082192</td><td>1.5625</td><td>450</td><td>9.0279928e7</td><td>0.004329</td><td>3.8832e6</td><td>200622.0625</td><td>38882.023438</td><td>3.8832e6</td></tr><tr><td>&quot;2ca09e1786d76a…</td><td>3</td><td>3</td><td>400</td><td>606</td><td>1</td><td>1</td><td>1</td><td>1</td><td>1</td><td>1</td><td>1</td><td>24730</td><td>48</td><td>869</td><td>16</td><td>207</td><td>1.0</td><td>0.014493</td><td>3</td><td>149445.375</td><td>18267.900391</td><td>67362.492188</td><td>49815.125</td><td>63814.992188</td><td>49094.59375</td></tr><tr><td>&quot;eed59303cf657d…</td><td>6</td><td>6</td><td>373</td><td>648</td><td>1</td><td>1</td><td>1</td><td>1</td><td>1</td><td>1</td><td>1</td><td>19227</td><td>70</td><td>1574</td><td>55</td><td>276</td><td>1.0</td><td>0.021739</td><td>6</td><td>340687.15625</td><td>22317.25</td><td>110391.226562</td><td>56781.191406</td><td>60641.742188</td><td>88073.976562</td></tr><tr><td>&quot;cee09e6cbf852f…</td><td>23</td><td>22</td><td>371</td><td>689</td><td>2</td><td>2</td><td>1</td><td>2</td><td>2</td><td>1</td><td>1</td><td>7575</td><td>25</td><td>445</td><td>81</td><td>319</td><td>1.045455</td><td>0.0721</td><td>23</td><td>604614.625</td><td>86.921127</td><td>97494.984375</td><td>26287.591797</td><td>17929.710938</td><td>97408.0625</td></tr><tr><td>&quot;146d0244bb3533…</td><td>251</td><td>177</td><td>367</td><td>710</td><td>8</td><td>9</td><td>1</td><td>4</td><td>7</td><td>1</td><td>1</td><td>39186</td><td>52</td><td>1032</td><td>25</td><td>344</td><td>1.418079</td><td>0.729651</td><td>251</td><td>1.8137952e7</td><td>7.224364</td><td>875972.25</td><td>72262.757812</td><td>21764.730469</td><td>875965.0</td></tr><tr><td>&quot;fc0bcbb3b7429c…</td><td>15</td><td>15</td><td>391</td><td>684</td><td>1</td><td>1</td><td>1</td><td>1</td><td>1</td><td>1</td><td>1</td><td>13013</td><td>41</td><td>242</td><td>26</td><td>294</td><td>1.0</td><td>0.05102</td><td>15</td><td>241969.046875</td><td>832.436523</td><td>49384.816406</td><td>16131.269531</td><td>10348.915039</td><td>48552.378906</td></tr><tr><td>&quot;f63fa99c0e38b3…</td><td>7</td><td>7</td><td>388</td><td>680</td><td>3</td><td>3</td><td>1</td><td>1</td><td>1</td><td>1</td><td>1</td><td>20082</td><td>21</td><td>439</td><td>81</td><td>293</td><td>1.0</td><td>0.023891</td><td>7</td><td>1.0873e6</td><td>0.022489</td><td>742949.3125</td><td>155333.390625</td><td>45745.90625</td><td>742949.3125</td></tr><tr><td>&quot;c018a11fd3cd51…</td><td>19</td><td>17</td><td>371</td><td>522</td><td>3</td><td>3</td><td>1</td><td>4</td><td>4</td><td>3</td><td>3</td><td>22576</td><td>70</td><td>515</td><td>21</td><td>152</td><td>1.117647</td><td>0.125</td><td>19</td><td>16274.114258</td><td>49.619747</td><td>1621.671753</td><td>856.532349</td><td>917.66394</td><td>1572.052002</td></tr><tr><td>&quot;ee2991c4a8a81a…</td><td>857</td><td>282</td><td>365</td><td>668</td><td>8</td><td>7</td><td>1</td><td>5</td><td>8</td><td>1</td><td>2</td><td>33750</td><td>37</td><td>2455</td><td>61</td><td>304</td><td>3.039007</td><td>2.819079</td><td>857</td><td>9.14513024e8</td><td>5.419353</td><td>4.3650476e7</td><td>1.0671e6</td><td>76076.789062</td><td>4.3650472e7</td></tr><tr><td>&quot;db458bb13acb82…</td><td>1</td><td>1</td><td>642</td><td>642</td><td>1</td><td>1</td><td>1</td><td>1</td><td>1</td><td>1</td><td>1</td><td>1706</td><td>70</td><td>515</td><td>21</td><td>1</td><td>1.0</td><td>1.0</td><td>1</td><td>60789.847656</td><td>60789.847656</td><td>60789.847656</td><td>60789.847656</td><td>60789.847656</td><td>0.0</td></tr><tr><td>&quot;72193a065e384f…</td><td>6</td><td>6</td><td>578</td><td>694</td><td>3</td><td>3</td><td>1</td><td>1</td><td>1</td><td>1</td><td>1</td><td>39930</td><td>70</td><td>1600</td><td>14</td><td>117</td><td>1.0</td><td>0.051282</td><td>6</td><td>264621.96875</td><td>1591.630737</td><td>108218.304688</td><td>44103.660156</td><td>24318.882812</td><td>106626.671875</td></tr><tr><td>&hellip;</td><td>&hellip;</td><td>&hellip;</td><td>&hellip;</td><td>&hellip;</td><td>&hellip;</td><td>&hellip;</td><td>&hellip;</td><td>&hellip;</td><td>&hellip;</td><td>&hellip;</td><td>&hellip;</td><td>&hellip;</td><td>&hellip;</td><td>&hellip;</td><td>&hellip;</td><td>&hellip;</td><td>&hellip;</td><td>&hellip;</td><td>&hellip;</td><td>&hellip;</td><td>&hellip;</td><td>&hellip;</td><td>&hellip;</td><td>&hellip;</td><td>&hellip;</td></tr><tr><td>&quot;0ab2076d3bcadd…</td><td>6</td><td>4</td><td>650</td><td>677</td><td>1</td><td>1</td><td>1</td><td>2</td><td>2</td><td>1</td><td>1</td><td>877</td><td>25</td><td>2199</td><td>24</td><td>28</td><td>1.5</td><td>0.214286</td><td>6</td><td>1.8468172e7</td><td>30057.474609</td><td>5.779506e6</td><td>3.0780e6</td><td>3.2360e6</td><td>5749448.5</td></tr><tr><td>&quot;bec9ad8e8816ef…</td><td>637</td><td>218</td><td>365</td><td>716</td><td>2</td><td>2</td><td>1</td><td>2</td><td>3</td><td>1</td><td>1</td><td>19990</td><td>87</td><td>2264</td><td>4</td><td>352</td><td>2.922018</td><td>1.809659</td><td>637</td><td>3.6961888e7</td><td>4.868459</td><td>691769.375</td><td>58024.941406</td><td>22505.449219</td><td>691764.5</td></tr><tr><td>&quot;5a53cfca686c9b…</td><td>6</td><td>3</td><td>502</td><td>584</td><td>1</td><td>1</td><td>1</td><td>1</td><td>1</td><td>1</td><td>1</td><td>5281</td><td>85</td><td>2076</td><td>85</td><td>83</td><td>2.0</td><td>0.072289</td><td>6</td><td>294788.46875</td><td>12535.325195</td><td>115703.515625</td><td>49131.410156</td><td>19155.394531</td><td>103168.1875</td></tr><tr><td>&quot;798990fac45418…</td><td>110</td><td>40</td><td>365</td><td>650</td><td>8</td><td>8</td><td>1</td><td>9</td><td>10</td><td>4</td><td>5</td><td>32809</td><td>24</td><td>2128</td><td>81</td><td>286</td><td>2.75</td><td>0.384615</td><td>110</td><td>2519241.5</td><td>1.895599</td><td>460800.125</td><td>22902.195312</td><td>2118.072754</td><td>460798.21875</td></tr><tr><td>&quot;d51d1388679809…</td><td>408</td><td>158</td><td>366</td><td>688</td><td>3</td><td>3</td><td>1</td><td>2</td><td>3</td><td>1</td><td>1</td><td>41136</td><td>41</td><td>1235</td><td>44</td><td>323</td><td>2.582278</td><td>1.263158</td><td>408</td><td>5.1938636e7</td><td>98.099762</td><td>1796435.5</td><td>127300.578125</td><td>37406.679688</td><td>1.7963e6</td></tr><tr><td>&quot;48b6cf2603ca03…</td><td>978</td><td>262</td><td>365</td><td>718</td><td>14</td><td>15</td><td>1</td><td>5</td><td>7</td><td>4</td><td>4</td><td>20021</td><td>70</td><td>242</td><td>26</td><td>354</td><td>3.732824</td><td>2.762712</td><td>978</td><td>6.18998976e8</td><td>0.431688</td><td>4.0185008e7</td><td>632923.3125</td><td>29438.867188</td><td>4.0185008e7</td></tr><tr><td>&quot;c98d811aac7418…</td><td>18</td><td>9</td><td>468</td><td>594</td><td>2</td><td>2</td><td>1</td><td>1</td><td>2</td><td>1</td><td>1</td><td>16346</td><td>58</td><td>691</td><td>56</td><td>127</td><td>2.0</td><td>0.141732</td><td>18</td><td>1.5604e6</td><td>9488.53418</td><td>199682.90625</td><td>86686.125</td><td>74735.273438</td><td>190194.375</td></tr><tr><td>&quot;ad943f47327c5e…</td><td>2</td><td>1</td><td>626</td><td>626</td><td>1</td><td>1</td><td>1</td><td>1</td><td>1</td><td>1</td><td>1</td><td>10281</td><td>71</td><td>869</td><td>16</td><td>1</td><td>2.0</td><td>2.0</td><td>2</td><td>17303.955078</td><td>8651.977539</td><td>8651.977539</td><td>8651.977539</td><td>8651.977539</td><td>0.0</td></tr><tr><td>&quot;e6bc773e78f7d6…</td><td>134</td><td>58</td><td>368</td><td>644</td><td>5</td><td>5</td><td>1</td><td>4</td><td>4</td><td>2</td><td>2</td><td>12571</td><td>76</td><td>1610</td><td>16</td><td>277</td><td>2.310345</td><td>0.483755</td><td>134</td><td>551879.4375</td><td>50.025166</td><td>21420.371094</td><td>4118.503418</td><td>2344.562744</td><td>21370.345703</td></tr><tr><td>&quot;065f19378a5cda…</td><td>116</td><td>48</td><td>369</td><td>662</td><td>3</td><td>3</td><td>1</td><td>3</td><td>4</td><td>2</td><td>3</td><td>31536</td><td>34</td><td>439</td><td>81</td><td>294</td><td>2.416667</td><td>0.394558</td><td>116</td><td>1.6964422e7</td><td>31.950535</td><td>3.4855e6</td><td>146245.015625</td><td>894.765381</td><td>3.4855e6</td></tr><tr><td>&quot;69a5b05e466ad0…</td><td>128</td><td>57</td><td>366</td><td>697</td><td>3</td><td>3</td><td>1</td><td>4</td><td>4</td><td>1</td><td>1</td><td>14403</td><td>36</td><td>214</td><td>36</td><td>332</td><td>2.245614</td><td>0.385542</td><td>128</td><td>1.466072e7</td><td>0.194965</td><td>1.1403e6</td><td>114536.875</td><td>15040.929688</td><td>1140328.5</td></tr><tr><td>&quot;9a15013742d6ad…</td><td>10</td><td>5</td><td>414</td><td>593</td><td>4</td><td>4</td><td>1</td><td>3</td><td>3</td><td>1</td><td>1</td><td>42420</td><td>47</td><td>953</td><td>40</td><td>180</td><td>2.0</td><td>0.055556</td><td>10</td><td>111461.5</td><td>223.079269</td><td>28500.326172</td><td>11146.150391</td><td>7677.6875</td><td>28277.246094</td></tr></tbody></table></div>"
      ],
      "text/plain": [
       "shape: (225_744, 26)\n",
       "┌────────────┬─────────┬───────────┬───────────┬───┬───────────┬───────────┬───────────┬───────────┐\n",
       "│ client_id  ┆ trx_cnt ┆ trx_uniq_ ┆ trx_first ┆ … ┆ amt_max   ┆ amt_mean  ┆ amt_media ┆ amt_range │\n",
       "│ ---        ┆ ---     ┆ days      ┆ _day      ┆   ┆ ---       ┆ ---       ┆ n         ┆ ---       │\n",
       "│ str        ┆ u32     ┆ ---       ┆ ---       ┆   ┆ f32       ┆ f32       ┆ ---       ┆ f32       │\n",
       "│            ┆         ┆ u32       ┆ i64       ┆   ┆           ┆           ┆ f32       ┆           │\n",
       "╞════════════╪═════════╪═══════════╪═══════════╪═══╪═══════════╪═══════════╪═══════════╪═══════════╡\n",
       "│ 5a36339de5 ┆ 369     ┆ 213       ┆ 367       ┆ … ┆ 1.7415e6  ┆ 127822.17 ┆ 16571.041 ┆ 1.7415e6  │\n",
       "│ f22c5f34c3 ┆         ┆           ┆           ┆   ┆           ┆ 1875      ┆ 016       ┆           │\n",
       "│ d4869b126c ┆         ┆           ┆           ┆   ┆           ┆           ┆           ┆           │\n",
       "│ 35…        ┆         ┆           ┆           ┆   ┆           ┆           ┆           ┆           │\n",
       "│ 192b65b348 ┆ 450     ┆ 146       ┆ 410       ┆ … ┆ 3.8832e6  ┆ 200622.06 ┆ 38882.023 ┆ 3.8832e6  │\n",
       "│ 353e9eea3a ┆         ┆           ┆           ┆   ┆           ┆ 25        ┆ 438       ┆           │\n",
       "│ 4c54a9958d ┆         ┆           ┆           ┆   ┆           ┆           ┆           ┆           │\n",
       "│ 0c…        ┆         ┆           ┆           ┆   ┆           ┆           ┆           ┆           │\n",
       "│ 2ca09e1786 ┆ 3       ┆ 3         ┆ 400       ┆ … ┆ 67362.492 ┆ 49815.125 ┆ 63814.992 ┆ 49094.593 │\n",
       "│ d76aad48a5 ┆         ┆           ┆           ┆   ┆ 188       ┆           ┆ 188       ┆ 75        │\n",
       "│ 42c66a50f8 ┆         ┆           ┆           ┆   ┆           ┆           ┆           ┆           │\n",
       "│ 35…        ┆         ┆           ┆           ┆   ┆           ┆           ┆           ┆           │\n",
       "│ eed59303cf ┆ 6       ┆ 6         ┆ 373       ┆ … ┆ 110391.22 ┆ 56781.191 ┆ 60641.742 ┆ 88073.976 │\n",
       "│ 657d32560f ┆         ┆           ┆           ┆   ┆ 6562      ┆ 406       ┆ 188       ┆ 562       │\n",
       "│ db91b1853f ┆         ┆           ┆           ┆   ┆           ┆           ┆           ┆           │\n",
       "│ cd…        ┆         ┆           ┆           ┆   ┆           ┆           ┆           ┆           │\n",
       "│ …          ┆ …       ┆ …         ┆ …         ┆ … ┆ …         ┆ …         ┆ …         ┆ …         │\n",
       "│ e6bc773e78 ┆ 134     ┆ 58        ┆ 368       ┆ … ┆ 21420.371 ┆ 4118.5034 ┆ 2344.5627 ┆ 21370.345 │\n",
       "│ f7d6be191b ┆         ┆           ┆           ┆   ┆ 094       ┆ 18        ┆ 44        ┆ 703       │\n",
       "│ 3cf368560e ┆         ┆           ┆           ┆   ┆           ┆           ┆           ┆           │\n",
       "│ 49…        ┆         ┆           ┆           ┆   ┆           ┆           ┆           ┆           │\n",
       "│ 065f19378a ┆ 116     ┆ 48        ┆ 369       ┆ … ┆ 3.4855e6  ┆ 146245.01 ┆ 894.76538 ┆ 3.4855e6  │\n",
       "│ 5cdad92c8d ┆         ┆           ┆           ┆   ┆           ┆ 5625      ┆ 1         ┆           │\n",
       "│ 683d838cfc ┆         ┆           ┆           ┆   ┆           ┆           ┆           ┆           │\n",
       "│ 27…        ┆         ┆           ┆           ┆   ┆           ┆           ┆           ┆           │\n",
       "│ 69a5b05e46 ┆ 128     ┆ 57        ┆ 366       ┆ … ┆ 1.1403e6  ┆ 114536.87 ┆ 15040.929 ┆ 1140328.5 │\n",
       "│ 6ad06d45b8 ┆         ┆           ┆           ┆   ┆           ┆ 5         ┆ 688       ┆           │\n",
       "│ b37e04c83a ┆         ┆           ┆           ┆   ┆           ┆           ┆           ┆           │\n",
       "│ b5…        ┆         ┆           ┆           ┆   ┆           ┆           ┆           ┆           │\n",
       "│ 9a15013742 ┆ 10      ┆ 5         ┆ 414       ┆ … ┆ 28500.326 ┆ 11146.150 ┆ 7677.6875 ┆ 28277.246 │\n",
       "│ d6ad9b7001 ┆         ┆           ┆           ┆   ┆ 172       ┆ 391       ┆           ┆ 094       │\n",
       "│ a8b0125765 ┆         ┆           ┆           ┆   ┆           ┆           ┆           ┆           │\n",
       "│ f8…        ┆         ┆           ┆           ┆   ┆           ┆           ┆           ┆           │\n",
       "└────────────┴─────────┴───────────┴───────────┴───┴───────────┴───────────┴───────────┴───────────┘"
      ]
     },
     "execution_count": 18,
     "metadata": {},
     "output_type": "execute_result"
    }
   ],
   "source": [
    "val_features = pl.concat(val_features)\n",
    "val_features"
   ]
  },
  {
   "cell_type": "code",
   "execution_count": 19,
   "id": "9eddec05",
   "metadata": {},
   "outputs": [
    {
     "data": {
      "text/html": [
       "<div><style>\n",
       ".dataframe > thead > tr > th,\n",
       ".dataframe > tbody > tr > td {\n",
       "  text-align: right;\n",
       "  white-space: pre-wrap;\n",
       "}\n",
       "</style>\n",
       "<small>shape: (225_744, 2)</small><table border=\"1\" class=\"dataframe\"><thead><tr><th>client_id</th><th>counts</th></tr><tr><td>str</td><td>u32</td></tr></thead><tbody><tr><td>&quot;5a36339de5f22c…</td><td>1</td></tr><tr><td>&quot;192b65b348353e…</td><td>1</td></tr><tr><td>&quot;2ca09e1786d76a…</td><td>1</td></tr><tr><td>&quot;eed59303cf657d…</td><td>1</td></tr><tr><td>&quot;cee09e6cbf852f…</td><td>1</td></tr><tr><td>&quot;146d0244bb3533…</td><td>1</td></tr><tr><td>&quot;fc0bcbb3b7429c…</td><td>1</td></tr><tr><td>&quot;f63fa99c0e38b3…</td><td>1</td></tr><tr><td>&quot;c018a11fd3cd51…</td><td>1</td></tr><tr><td>&quot;ee2991c4a8a81a…</td><td>1</td></tr><tr><td>&quot;db458bb13acb82…</td><td>1</td></tr><tr><td>&quot;72193a065e384f…</td><td>1</td></tr><tr><td>&hellip;</td><td>&hellip;</td></tr><tr><td>&quot;0ab2076d3bcadd…</td><td>1</td></tr><tr><td>&quot;bec9ad8e8816ef…</td><td>1</td></tr><tr><td>&quot;5a53cfca686c9b…</td><td>1</td></tr><tr><td>&quot;798990fac45418…</td><td>1</td></tr><tr><td>&quot;d51d1388679809…</td><td>1</td></tr><tr><td>&quot;48b6cf2603ca03…</td><td>1</td></tr><tr><td>&quot;c98d811aac7418…</td><td>1</td></tr><tr><td>&quot;ad943f47327c5e…</td><td>1</td></tr><tr><td>&quot;e6bc773e78f7d6…</td><td>1</td></tr><tr><td>&quot;065f19378a5cda…</td><td>1</td></tr><tr><td>&quot;69a5b05e466ad0…</td><td>1</td></tr><tr><td>&quot;9a15013742d6ad…</td><td>1</td></tr></tbody></table></div>"
      ],
      "text/plain": [
       "shape: (225_744, 2)\n",
       "┌───────────────────────────────────┬────────┐\n",
       "│ client_id                         ┆ counts │\n",
       "│ ---                               ┆ ---    │\n",
       "│ str                               ┆ u32    │\n",
       "╞═══════════════════════════════════╪════════╡\n",
       "│ 5a36339de5f22c5f34c3d4869b126c35… ┆ 1      │\n",
       "│ 192b65b348353e9eea3a4c54a9958d0c… ┆ 1      │\n",
       "│ 2ca09e1786d76aad48a542c66a50f835… ┆ 1      │\n",
       "│ eed59303cf657d32560fdb91b1853fcd… ┆ 1      │\n",
       "│ …                                 ┆ …      │\n",
       "│ e6bc773e78f7d6be191b3cf368560e49… ┆ 1      │\n",
       "│ 065f19378a5cdad92c8d683d838cfc27… ┆ 1      │\n",
       "│ 69a5b05e466ad06d45b8b37e04c83ab5… ┆ 1      │\n",
       "│ 9a15013742d6ad9b7001a8b0125765f8… ┆ 1      │\n",
       "└───────────────────────────────────┴────────┘"
      ]
     },
     "execution_count": 19,
     "metadata": {},
     "output_type": "execute_result"
    }
   ],
   "source": [
    "val_features[\"client_id\"].value_counts(sort=True)"
   ]
  },
  {
   "cell_type": "code",
   "execution_count": null,
   "id": "6d02b9ed",
   "metadata": {},
   "outputs": [],
   "source": []
  },
  {
   "cell_type": "code",
   "execution_count": 20,
   "id": "d68aec6c",
   "metadata": {},
   "outputs": [],
   "source": [
    "train_features.write_parquet(f\"./features/train_trx_features_{mon}_cat.pq\")\n",
    "val_features.write_parquet(f\"./features/val_trx_features_{mon}_cat.pq\")"
   ]
  }
 ],
 "metadata": {
  "kernelspec": {
   "display_name": "Python 3 (ipykernel)",
   "language": "python",
   "name": "python3"
  },
  "language_info": {
   "codemirror_mode": {
    "name": "ipython",
    "version": 3
   },
   "file_extension": ".py",
   "mimetype": "text/x-python",
   "name": "python",
   "nbconvert_exporter": "python",
   "pygments_lexer": "ipython3",
   "version": "3.8.13"
  }
 },
 "nbformat": 4,
 "nbformat_minor": 5
}
