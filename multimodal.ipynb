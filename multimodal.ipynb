{
 "cells": [
  {
   "cell_type": "markdown",
   "id": "482ea76b950b4c3b",
   "metadata": {},
   "source": [
    "# Libraries"
   ]
  },
  {
   "cell_type": "code",
   "execution_count": 1,
   "id": "7674b3ec",
   "metadata": {},
   "outputs": [],
   "source": [
    "import warnings\n",
    "\n",
    "warnings.filterwarnings(\"ignore\")"
   ]
  },
  {
   "cell_type": "code",
   "execution_count": 2,
   "id": "7f3fec06940938d6",
   "metadata": {},
   "outputs": [],
   "source": [
    "import gc\n",
    "import os\n",
    "\n",
    "from datetime import datetime\n",
    "from functools import partial\n",
    "from tqdm.auto import tqdm\n",
    "\n",
    "import polars as pl\n",
    "\n",
    "import torch\n",
    "import pytorch_lightning\n",
    "from torch import nn\n",
    "from torchinfo import summary\n",
    "from pytorch_lightning.loggers import WandbLogger\n",
    "\n",
    "from ptls.nn import TrxEncoder, PBL2Norm, PBLayerNorm\n",
    "from ptls.nn.trx_encoder.encoders import IdentityEncoder\n",
    "from ptls.nn.seq_encoder.rnn_encoder import RnnEncoder\n",
    "from ptls.frames.coles.multimodal_supervised_dataset import MultiModalSupervisedIterableDataset\n",
    "# from ptls.frames.coles.multimodal_dataset import MultiModalSortTimeSeqEncoderContainer\n",
    "from ptls.frames.supervised import SequenceToTarget\n",
    "from ptls.frames import PtlsDataModule\n",
    "\n",
    "from src.config import MONTHS, N_CHUNKS\n",
    "from src.preprocessing import PolarsDataPreprocessor\n",
    "from src.utils import prepare_data, to_records, init_weights\n",
    "from src.multimodal_dataset import MultiModalSortTimeSeqEncoderContainer\n",
    "from src.metric import AUROC\n",
    "from build_chunks import train_clients"
   ]
  },
  {
   "cell_type": "code",
   "execution_count": 3,
   "id": "24c0c11295e01422",
   "metadata": {
    "scrolled": true
   },
   "outputs": [
    {
     "data": {
      "text/plain": [
       "56"
      ]
     },
     "execution_count": 3,
     "metadata": {},
     "output_type": "execute_result"
    }
   ],
   "source": [
    "pl.set_random_seed(56)\n",
    "pytorch_lightning.seed_everything(56)"
   ]
  },
  {
   "cell_type": "code",
   "execution_count": 4,
   "id": "1d95d8f2",
   "metadata": {},
   "outputs": [],
   "source": [
    "# torch.set_float32_matmul_precision('high')"
   ]
  },
  {
   "cell_type": "markdown",
   "id": "e23ba02d",
   "metadata": {},
   "source": [
    "# Supervised-multimodal"
   ]
  },
  {
   "cell_type": "code",
   "execution_count": 5,
   "id": "ea601dc298f065d4",
   "metadata": {},
   "outputs": [],
   "source": [
    "MON = 10  # целевой месяц\n",
    "HIDDEN_SIZE = 128\n",
    "NUM_CLASSES = 4"
   ]
  },
  {
   "cell_type": "code",
   "execution_count": 6,
   "id": "8d77d742",
   "metadata": {},
   "outputs": [
    {
     "data": {
      "text/html": [
       "<div><style>\n",
       ".dataframe > thead > tr > th,\n",
       ".dataframe > tbody > tr > td {\n",
       "  text-align: right;\n",
       "  white-space: pre-wrap;\n",
       "}\n",
       "</style>\n",
       "<small>shape: (5, 2)</small><table border=\"1\" class=\"dataframe\"><thead><tr><th>client_id</th><th>target</th></tr><tr><td>str</td><td>list[i32]</td></tr></thead><tbody><tr><td>&quot;1d4ebf30ab5b98…</td><td>[0, 0, … 0]</td></tr><tr><td>&quot;1d55174bce3ef4…</td><td>[0, 0, … 0]</td></tr><tr><td>&quot;1d5d052f87d6bd…</td><td>[0, 0, … 0]</td></tr><tr><td>&quot;1d68b588164639…</td><td>[0, 0, … 0]</td></tr><tr><td>&quot;1d817e82e1cc59…</td><td>[0, 0, … 0]</td></tr></tbody></table></div>"
      ],
      "text/plain": [
       "shape: (5, 2)\n",
       "┌───────────────────────────────────┬─────────────┐\n",
       "│ client_id                         ┆ target      │\n",
       "│ ---                               ┆ ---         │\n",
       "│ str                               ┆ list[i32]   │\n",
       "╞═══════════════════════════════════╪═════════════╡\n",
       "│ 1d4ebf30ab5b981c60a6596e8daa4bdc… ┆ [0, 0, … 0] │\n",
       "│ 1d55174bce3ef488233380aca206ca2f… ┆ [0, 0, … 0] │\n",
       "│ 1d5d052f87d6bd22a30b5df160fffdcd… ┆ [0, 0, … 0] │\n",
       "│ 1d68b588164639d64879b33da867818e… ┆ [0, 0, … 0] │\n",
       "│ 1d817e82e1cc594e32e10217b716faa3… ┆ [0, 0, … 0] │\n",
       "└───────────────────────────────────┴─────────────┘"
      ]
     },
     "execution_count": 6,
     "metadata": {},
     "output_type": "execute_result"
    }
   ],
   "source": [
    "train_target = pl.read_parquet(\"./data/train_target.parquet/*\")\n",
    "train_target = train_target.filter(pl.col(\"mon\") == MONTHS[MON])\n",
    "train_target = train_target.with_columns(target=pl.concat_list([f\"target_{i}\" for i in range(1, 5)]))\n",
    "train_target = train_target.select((\"client_id\", \"target\"))\n",
    "train_target.head()"
   ]
  },
  {
   "cell_type": "code",
   "execution_count": 7,
   "id": "a32273be",
   "metadata": {},
   "outputs": [
    {
     "data": {
      "text/html": [
       "<div><style>\n",
       ".dataframe > thead > tr > th,\n",
       ".dataframe > tbody > tr > td {\n",
       "  text-align: right;\n",
       "  white-space: pre-wrap;\n",
       "}\n",
       "</style>\n",
       "<small>shape: (5, 2)</small><table border=\"1\" class=\"dataframe\"><thead><tr><th>client_id</th><th>target</th></tr><tr><td>str</td><td>list[i32]</td></tr></thead><tbody><tr><td>&quot;f2d13658b42afc…</td><td>[0, 0, … 0]</td></tr><tr><td>&quot;f3975d57411ebc…</td><td>[0, 0, … 0]</td></tr><tr><td>&quot;5c446c72e11deb…</td><td>[0, 0, … 0]</td></tr><tr><td>&quot;fabe5ac957bf10…</td><td>[0, 0, … 0]</td></tr><tr><td>&quot;12d1d490206e23…</td><td>[0, 0, … 0]</td></tr></tbody></table></div>"
      ],
      "text/plain": [
       "shape: (5, 2)\n",
       "┌───────────────────────────────────┬─────────────┐\n",
       "│ client_id                         ┆ target      │\n",
       "│ ---                               ┆ ---         │\n",
       "│ str                               ┆ list[i32]   │\n",
       "╞═══════════════════════════════════╪═════════════╡\n",
       "│ f2d13658b42afc0983bcde3e4425d7cc… ┆ [0, 0, … 0] │\n",
       "│ f3975d57411ebc83d751ac613d42a628… ┆ [0, 0, … 0] │\n",
       "│ 5c446c72e11debad85b98a2e9ef6fa6f… ┆ [0, 0, … 0] │\n",
       "│ fabe5ac957bf10302bfd9f65babe48fc… ┆ [0, 0, … 0] │\n",
       "│ 12d1d490206e236d969b930fcc72300a… ┆ [0, 0, … 0] │\n",
       "└───────────────────────────────────┴─────────────┘"
      ]
     },
     "execution_count": 7,
     "metadata": {},
     "output_type": "execute_result"
    }
   ],
   "source": [
    "val_target = pl.read_parquet(\"./data/test_target_b.parquet/*\").unique()\n",
    "val_target = val_target.filter(pl.col(\"mon\") == MONTHS[MON])\n",
    "val_target = val_target.with_columns(target=pl.concat_list([f\"target_{i}\" for i in range(1, 5)]))\n",
    "val_target = val_target.select((\"client_id\", \"target\"))\n",
    "val_target.head()"
   ]
  },
  {
   "cell_type": "markdown",
   "id": "f8a2f341380f5cbc",
   "metadata": {},
   "source": [
    "мультимодальная модель состоит из четырех частей:\n",
    "\n",
    "    1) три кодировщика отдельного действия для каждой из модальностей\n",
    "    2) их выходы объединяются в одну последовательность и сортируются по времени события\n",
    "    3) кодировцик всей последовательности\n",
    "    4) классификационная голова"
   ]
  },
  {
   "cell_type": "markdown",
   "id": "7cad78c5feb0f723",
   "metadata": {},
   "source": [
    "сначала подготовим препроцессоры и кодировщики"
   ]
  },
  {
   "cell_type": "markdown",
   "id": "fb0e3a25",
   "metadata": {},
   "source": [
    "# Trx"
   ]
  },
  {
   "cell_type": "markdown",
   "id": "db3180885a24b2b7",
   "metadata": {},
   "source": [
    "## Data"
   ]
  },
  {
   "cell_type": "markdown",
   "id": "d754aae122a3e939",
   "metadata": {},
   "source": [
    "объединим одинаковые подряд идущие действия в одно"
   ]
  },
  {
   "cell_type": "code",
   "execution_count": 8,
   "id": "b7157165afe49790",
   "metadata": {},
   "outputs": [],
   "source": [
    "def trx_unite(data):\n",
    "    cols = [\n",
    "        \"day_ind\", \"event_type\", \"event_subtype\", \"currency\", \"src_type11\", \"src_type12\", \"dst_type11\", \"dst_type12\"\n",
    "    ]\n",
    "    data = data.sort(\"event_time\")\n",
    "    data = data.with_columns(\n",
    "        [pl.col(col).fill_null(-1) for col in cols]\n",
    "    )\n",
    "    data = data.with_columns(\n",
    "        [(pl.col(col) != pl.col(col).shift(1).over(\"client_id\")).fill_null(False).alias(f\"flag_{col}\") for col in cols]\n",
    "    )\n",
    "    flag = False\n",
    "    for col in cols:\n",
    "        flag |= data[f\"flag_{col}\"]\n",
    "    data = data.with_columns(flag=flag)\n",
    "    data = data.with_columns(group_id=pl.col(\"flag\").cumsum().over(\"client_id\"))\n",
    "    return (\n",
    "        data\n",
    "        .group_by((\"client_id\", \"group_id\"), maintain_order=True)\n",
    "        .agg(\n",
    "            pl.col(\"event_time\").mean(),  # положим средний момент времени, когда были выполнены транзакции\n",
    "            pl.col(\"amount\").sum(),  # положим общую сумму транзакций\n",
    "            pl.col(\"event_type\").first(),\n",
    "            pl.col(\"event_subtype\").first(),\n",
    "            pl.col(\"currency\").first(),\n",
    "            pl.col(\"src_type11\").first(),\n",
    "            pl.col(\"src_type12\").first(),\n",
    "            pl.col(\"dst_type11\").first(),\n",
    "            pl.col(\"dst_type12\").first(),\n",
    "            pl.col(\"src_type21\").first(),\n",
    "            pl.col(\"src_type22\").first(),\n",
    "            pl.col(\"src_type31\").first(),\n",
    "            pl.col(\"src_type32\").first(),\n",
    "            pl.col(\"mon_ind\").first(),\n",
    "            pl.col(\"day_ind\").first(),\n",
    "        )\n",
    "        .drop(\"group_id\")\n",
    "    )"
   ]
  },
  {
   "cell_type": "markdown",
   "id": "e2ab51e1518b9a1a",
   "metadata": {},
   "source": [
    "`src_type21`, `src_type22`, `src_type31`, `src_type32` — одинаковые для одного пользователя, при этом `src_type22` и `src_type32` значительно улучшают качество, а `src_type21` и `src_type31` — ухудшают"
   ]
  },
  {
   "cell_type": "code",
   "execution_count": 9,
   "id": "6e9dc09b00f27c96",
   "metadata": {},
   "outputs": [],
   "source": [
    "trx_preprocessor = PolarsDataPreprocessor(\n",
    "    col_id=\"client_id\",\n",
    "    col_event_time=\"event_time\",\n",
    "    cols_category=[\n",
    "        \"mon_ind\", \"day_ind\",\n",
    "        \"event_type\", \"event_subtype\",\n",
    "        \"currency\",\n",
    "        \"src_type11\", \"src_type12\", \"dst_type11\", \"dst_type12\",\n",
    "        \"src_type22\", \"src_type32\",\n",
    "    ],\n",
    "    prefix=\"trx\",\n",
    ")"
   ]
  },
  {
   "cell_type": "markdown",
   "id": "8d812733",
   "metadata": {},
   "source": [
    "считаем счетчики для категориальных признаков"
   ]
  },
  {
   "cell_type": "code",
   "execution_count": 10,
   "id": "d3905ff738de6dd8",
   "metadata": {},
   "outputs": [
    {
     "data": {
      "application/vnd.jupyter.widget-view+json": {
       "model_id": "2776beb4fabb48a8bc23550d41292abb",
       "version_major": 2,
       "version_minor": 0
      },
      "text/plain": [
       "  0%|          | 0/8 [00:00<?, ?it/s]"
      ]
     },
     "metadata": {},
     "output_type": "display_data"
    }
   ],
   "source": [
    "%%time\n",
    "\n",
    "source = \"./data/chunks/trx_train.parquet/\"\n",
    "for file in tqdm(os.listdir(source)):\n",
    "    train_trx = pl.read_parquet(os.path.join(source, file))\n",
    "    train_trx = train_trx.filter(pl.col(\"event_time\") < datetime.strptime(MONTHS[MON], \"%Y-%m-%d\").replace(day=1))\n",
    "    train_trx = train_trx.filter(pl.col(\"client_id\").is_in(train_target[\"client_id\"]))\n",
    "    train_trx = prepare_data(train_trx)\n",
    "    train_trx = trx_unite(train_trx)\n",
    "    trx_preprocessor.fit(train_trx)"
   ]
  },
  {
   "cell_type": "markdown",
   "id": "b2509c6d",
   "metadata": {},
   "source": [
    "создаем словари"
   ]
  },
  {
   "cell_type": "code",
   "execution_count": 11,
   "id": "49da2d8091e7c9ff",
   "metadata": {},
   "outputs": [
    {
     "data": {
      "text/plain": [
       "<src.preprocessing.PolarsDataPreprocessor at 0x1fa3634df70>"
      ]
     },
     "execution_count": 11,
     "metadata": {},
     "output_type": "execute_result"
    }
   ],
   "source": [
    "trx_preprocessor.freeze()"
   ]
  },
  {
   "cell_type": "code",
   "execution_count": 12,
   "id": "5d88811b",
   "metadata": {},
   "outputs": [],
   "source": [
    "del train_trx"
   ]
  },
  {
   "cell_type": "markdown",
   "id": "fa19b3424e3ed5c2",
   "metadata": {},
   "source": [
    "## TrxEncoder"
   ]
  },
  {
   "cell_type": "code",
   "execution_count": 13,
   "id": "4905c4fae4e35d7d",
   "metadata": {},
   "outputs": [
    {
     "data": {
      "text/plain": [
       "{'mon_ind': 13,\n",
       " 'day_ind': 336,\n",
       " 'event_type': 56,\n",
       " 'event_subtype': 58,\n",
       " 'currency': 17,\n",
       " 'src_type11': 76,\n",
       " 'src_type12': 326,\n",
       " 'dst_type11': 77,\n",
       " 'dst_type12': 387,\n",
       " 'src_type22': 89,\n",
       " 'src_type32': 90}"
      ]
     },
     "execution_count": 13,
     "metadata": {},
     "output_type": "execute_result"
    }
   ],
   "source": [
    "trx_preprocessor.get_category_dictionary_sizes()"
   ]
  },
  {
   "cell_type": "code",
   "execution_count": 14,
   "id": "69cda0735ce85b07",
   "metadata": {},
   "outputs": [],
   "source": [
    "trx_base_encoder = TrxEncoder(\n",
    "    embeddings={\n",
    "        \"mon_ind\": {\"in\": 13, \"out\": 6},\n",
    "        \"day_ind\": {\"in\": 336, \"out\": 32},\n",
    "\n",
    "        \"event_type\": {\"in\": 56, \"out\": 16},\n",
    "        \"event_subtype\": {\"in\": 58, \"out\": 16},\n",
    "\n",
    "        \"currency\": {\"in\": 17, \"out\": 8},\n",
    "\n",
    "        \"src_type11\": {\"in\": 76, \"out\": 16},\n",
    "        \"src_type12\": {\"in\": 326, \"out\": 32},\n",
    "        \"dst_type11\": {\"in\": 77, \"out\": 16},\n",
    "        \"dst_type12\": {\"in\": 387, \"out\": 32},\n",
    "\n",
    "        \"src_type22\": {\"in\": 89, \"out\": 16},\n",
    "        \"src_type32\": {\"in\": 90, \"out\": 16},\n",
    "    },\n",
    "    linear_projection_size=128,\n",
    ")\n",
    "# важно добавить нормировку для эмбеддингов\n",
    "trx_encoder = nn.Sequential(trx_base_encoder, PBL2Norm(), PBLayerNorm(HIDDEN_SIZE))"
   ]
  },
  {
   "cell_type": "markdown",
   "id": "3c2e959d",
   "metadata": {},
   "source": [
    "# Geo"
   ]
  },
  {
   "cell_type": "markdown",
   "id": "53edbaac",
   "metadata": {},
   "source": [
    "## Data"
   ]
  },
  {
   "cell_type": "markdown",
   "id": "b9df20f1",
   "metadata": {},
   "source": [
    "объединим одинаковые подряд идущие действия в одно"
   ]
  },
  {
   "cell_type": "code",
   "execution_count": 15,
   "id": "61d92180",
   "metadata": {},
   "outputs": [],
   "source": [
    "def geo_unite(data):\n",
    "    cols = [\"geohash_6\", \"day_ind\"]\n",
    "    data = data.sort(\"event_time\")\n",
    "    data = data.with_columns(\n",
    "        [pl.col(col).fill_null(-1) for col in cols]\n",
    "    )\n",
    "    data = data.with_columns(\n",
    "        [(pl.col(col) != pl.col(col).shift(1).over(\"client_id\")).fill_null(False).alias(f\"flag_{col}\") for col in cols]\n",
    "    )\n",
    "    flag = False\n",
    "    for col in cols:\n",
    "        flag |= data[f\"flag_{col}\"]\n",
    "    data = data.with_columns(flag=flag)\n",
    "    data = data.with_columns(group_id=pl.col(\"flag\").cumsum().over(\"client_id\"))\n",
    "    return (\n",
    "        data\n",
    "        .group_by((\"client_id\", \"group_id\"), maintain_order=True)\n",
    "        .agg(\n",
    "            pl.col(\"event_time\").first(),  # положим первый момент времени, когда пользователь оказался в локации\n",
    "            pl.col(\"geohash_4\").first(),\n",
    "            pl.col(\"geohash_5\").first(),\n",
    "            pl.col(\"geohash_6\").first(),\n",
    "            pl.col(\"mon_ind\").first(),\n",
    "            pl.col(\"day_ind\").first(),\n",
    "            pl.count().cast(pl.Int32),\n",
    "        )\n",
    "        .drop(\"group_id\")\n",
    "    )"
   ]
  },
  {
   "cell_type": "code",
   "execution_count": 16,
   "id": "69ac5a15",
   "metadata": {},
   "outputs": [],
   "source": [
    "geo_preprocessor = PolarsDataPreprocessor(\n",
    "    col_id=\"client_id\",\n",
    "    col_event_time=\"event_time\",\n",
    "    cols_category=[\"mon_ind\", \"day_ind\", \"geohash_4\"],\n",
    "    cols_numerical=[\"count\"],\n",
    "    prefix=\"geo\",\n",
    ")"
   ]
  },
  {
   "cell_type": "markdown",
   "id": "7b76e342",
   "metadata": {},
   "source": [
    "считаем счетчики для категориальных признаков"
   ]
  },
  {
   "cell_type": "code",
   "execution_count": 17,
   "id": "3fe6552b",
   "metadata": {},
   "outputs": [
    {
     "data": {
      "application/vnd.jupyter.widget-view+json": {
       "model_id": "3b0cc20863e04d5d90b523923fcd02b9",
       "version_major": 2,
       "version_minor": 0
      },
      "text/plain": [
       "  0%|          | 0/8 [00:00<?, ?it/s]"
      ]
     },
     "metadata": {},
     "output_type": "display_data"
    }
   ],
   "source": [
    "%%time\n",
    "\n",
    "source = \"./data/chunks/geo_train.parquet/\"\n",
    "for file in tqdm(os.listdir(source)):\n",
    "    train_geo = pl.read_parquet(os.path.join(source, file))\n",
    "    train_geo = train_geo.filter(pl.col(\"event_time\") < datetime.strptime(MONTHS[MON], \"%Y-%m-%d\").replace(day=1))\n",
    "    train_geo = train_geo.filter(pl.col(\"client_id\").is_in(train_target[\"client_id\"]))\n",
    "    train_geo = prepare_data(train_geo)\n",
    "    train_geo = geo_unite(train_geo)\n",
    "    geo_preprocessor.fit(train_geo)"
   ]
  },
  {
   "cell_type": "markdown",
   "id": "6487fad2",
   "metadata": {},
   "source": [
    "создаем словари"
   ]
  },
  {
   "cell_type": "code",
   "execution_count": 18,
   "id": "14005fe9",
   "metadata": {},
   "outputs": [
    {
     "data": {
      "text/plain": [
       "<src.preprocessing.PolarsDataPreprocessor at 0x1fa363a8730>"
      ]
     },
     "execution_count": 18,
     "metadata": {},
     "output_type": "execute_result"
    }
   ],
   "source": [
    "geo_preprocessor.freeze()"
   ]
  },
  {
   "cell_type": "code",
   "execution_count": 19,
   "id": "bb54e2cb",
   "metadata": {},
   "outputs": [],
   "source": [
    "del train_geo"
   ]
  },
  {
   "cell_type": "markdown",
   "id": "1f236456",
   "metadata": {},
   "source": [
    "## TrxEncoder"
   ]
  },
  {
   "cell_type": "code",
   "execution_count": 20,
   "id": "90444d97",
   "metadata": {},
   "outputs": [
    {
     "data": {
      "text/plain": [
       "{'mon_ind': 13, 'day_ind': 336, 'geohash_4': 34036}"
      ]
     },
     "execution_count": 20,
     "metadata": {},
     "output_type": "execute_result"
    }
   ],
   "source": [
    "geo_preprocessor.get_category_dictionary_sizes()"
   ]
  },
  {
   "cell_type": "code",
   "execution_count": 21,
   "id": "d9e0221f",
   "metadata": {},
   "outputs": [],
   "source": [
    "geo_base_encoder = TrxEncoder(\n",
    "    embeddings={\n",
    "        \"mon_ind\": {\"in\": 13, \"out\": 6},\n",
    "        \"day_ind\": {\"in\": 336, \"out\": 32},\n",
    "        \"geohash_4\": {\"in\": 4096, \"out\": 128},  # оставим только наиболее часто встречающиеся\n",
    "    },\n",
    "    numeric_values={\n",
    "        \"count\": \"identity\"\n",
    "    },\n",
    "    linear_projection_size=128,\n",
    ")\n",
    "# важно добавить нормировку для эмбеддингов\n",
    "geo_encoder = nn.Sequential(geo_base_encoder, PBL2Norm(), PBLayerNorm(HIDDEN_SIZE))"
   ]
  },
  {
   "cell_type": "markdown",
   "id": "b17f8d2c",
   "metadata": {},
   "source": [
    "# Dial"
   ]
  },
  {
   "cell_type": "markdown",
   "id": "c84c0129",
   "metadata": {},
   "source": [
    "## Data"
   ]
  },
  {
   "cell_type": "code",
   "execution_count": 22,
   "id": "15ffb6a1",
   "metadata": {},
   "outputs": [],
   "source": [
    "dial_preprocessor = PolarsDataPreprocessor(\n",
    "    col_id=\"client_id\",\n",
    "    col_event_time=\"event_time\",\n",
    "    cols_category=[\"mon_ind\", \"day_ind\"],\n",
    "    cols_numerical=[\"embedding\"],\n",
    "    prefix=\"dial\",\n",
    ")"
   ]
  },
  {
   "cell_type": "markdown",
   "id": "196247a2",
   "metadata": {},
   "source": [
    "считаем счетчики для категориальных признаков"
   ]
  },
  {
   "cell_type": "code",
   "execution_count": 23,
   "id": "4a4951dd",
   "metadata": {},
   "outputs": [
    {
     "data": {
      "application/vnd.jupyter.widget-view+json": {
       "model_id": "5a5d60cbc0e346d09f89e6ae2f4be3d0",
       "version_major": 2,
       "version_minor": 0
      },
      "text/plain": [
       "  0%|          | 0/8 [00:00<?, ?it/s]"
      ]
     },
     "metadata": {},
     "output_type": "display_data"
    }
   ],
   "source": [
    "%%time\n",
    "\n",
    "source = \"./data/chunks/dial_train.parquet/\"\n",
    "for file in tqdm(os.listdir(source)):\n",
    "    train_dial = pl.read_parquet(os.path.join(source, file))\n",
    "    train_dial = train_dial.filter(pl.col(\"event_time\") < datetime.strptime(MONTHS[MON], \"%Y-%m-%d\").replace(day=1))\n",
    "    train_dial = train_dial.filter(pl.col(\"client_id\").is_in(train_target[\"client_id\"]))\n",
    "    train_dial = prepare_data(train_dial)\n",
    "    dial_preprocessor.fit(train_dial)"
   ]
  },
  {
   "cell_type": "markdown",
   "id": "d3d87e1f",
   "metadata": {},
   "source": [
    "создаем словари"
   ]
  },
  {
   "cell_type": "code",
   "execution_count": 24,
   "id": "96398634",
   "metadata": {},
   "outputs": [
    {
     "data": {
      "text/plain": [
       "<src.preprocessing.PolarsDataPreprocessor at 0x1fa367fa6a0>"
      ]
     },
     "execution_count": 24,
     "metadata": {},
     "output_type": "execute_result"
    }
   ],
   "source": [
    "dial_preprocessor.freeze()"
   ]
  },
  {
   "cell_type": "code",
   "execution_count": 25,
   "id": "ff088a35",
   "metadata": {},
   "outputs": [],
   "source": [
    "del train_dial"
   ]
  },
  {
   "cell_type": "markdown",
   "id": "eaca7377",
   "metadata": {},
   "source": [
    "## TrxEncoder"
   ]
  },
  {
   "cell_type": "code",
   "execution_count": 26,
   "id": "b59584db",
   "metadata": {},
   "outputs": [
    {
     "data": {
      "text/plain": [
       "{'mon_ind': 13, 'day_ind': 336}"
      ]
     },
     "execution_count": 26,
     "metadata": {},
     "output_type": "execute_result"
    }
   ],
   "source": [
    "dial_preprocessor.get_category_dictionary_sizes()"
   ]
  },
  {
   "cell_type": "code",
   "execution_count": 27,
   "id": "63d50204",
   "metadata": {},
   "outputs": [],
   "source": [
    "dial_base_encoder = TrxEncoder(\n",
    "    embeddings={\n",
    "        \"mon_ind\": {\"in\": 13, \"out\": 6},\n",
    "        \"day_ind\": {\"in\": 336, \"out\": 32},\n",
    "    },\n",
    "    custom_embeddings={\n",
    "        \"embedding\": IdentityEncoder(768),\n",
    "    },\n",
    "    use_batch_norm=False,\n",
    "    linear_projection_size=HIDDEN_SIZE,\n",
    ")\n",
    "# важно добавить нормировку для эмбеддингов\n",
    "dial_encoder = nn.Sequential(dial_base_encoder, PBL2Norm(), PBLayerNorm(HIDDEN_SIZE))"
   ]
  },
  {
   "cell_type": "markdown",
   "id": "f1e0fcbf",
   "metadata": {},
   "source": [
    "# Merge datasets"
   ]
  },
  {
   "cell_type": "markdown",
   "id": "394f3046",
   "metadata": {},
   "source": [
    "сделаем это для валидации"
   ]
  },
  {
   "cell_type": "code",
   "execution_count": 28,
   "id": "411d9e50",
   "metadata": {},
   "outputs": [],
   "source": [
    "# список всех признаков\n",
    "source_features = {\n",
    "    \"trx\": [\n",
    "        \"event_time\",\n",
    "        \"mon_ind\", \"day_ind\",\n",
    "        \"event_type\", \"event_subtype\",\n",
    "        \"currency\",\n",
    "        \"src_type11\", \"src_type12\", \"dst_type11\", \"dst_type12\",\n",
    "        \"src_type22\", \"src_type32\",\n",
    "    ],\n",
    "    \"geo\": [\n",
    "        \"event_time\",\n",
    "        \"mon_ind\", \"day_ind\", \"geohash_4\",\n",
    "        \"count\"\n",
    "    ],\n",
    "    \"dial\": [\n",
    "        \"event_time\",\n",
    "        \"mon_ind\", \"day_ind\",\n",
    "        \"embedding\"\n",
    "    ],\n",
    "}"
   ]
  },
  {
   "cell_type": "code",
   "execution_count": 29,
   "id": "77f59c64",
   "metadata": {},
   "outputs": [
    {
     "data": {
      "application/vnd.jupyter.widget-view+json": {
       "model_id": "9d1716d1eb354efe97824b041c8f3c6b",
       "version_major": 2,
       "version_minor": 0
      },
      "text/plain": [
       "  0%|          | 0/3 [00:00<?, ?it/s]"
      ]
     },
     "metadata": {},
     "output_type": "display_data"
    },
    {
     "data": {
      "text/html": [
       "<div><style>\n",
       ".dataframe > thead > tr > th,\n",
       ".dataframe > tbody > tr > td {\n",
       "  text-align: right;\n",
       "  white-space: pre-wrap;\n",
       "}\n",
       "</style>\n",
       "<small>shape: (5, 16)</small><table border=\"1\" class=\"dataframe\"><thead><tr><th>client_id</th><th>event_time</th><th>amount</th><th>event_type</th><th>event_subtype</th><th>currency</th><th>src_type11</th><th>src_type12</th><th>dst_type11</th><th>dst_type12</th><th>src_type21</th><th>src_type22</th><th>src_type31</th><th>src_type32</th><th>mon_ind</th><th>day_ind</th></tr><tr><td>str</td><td>f64</td><td>f32</td><td>i32</td><td>i32</td><td>i32</td><td>i32</td><td>i32</td><td>i32</td><td>i32</td><td>i32</td><td>i32</td><td>i32</td><td>i32</td><td>i64</td><td>i64</td></tr></thead><tbody><tr><td>&quot;72165b9123a68d…</td><td>3.15252e7</td><td>1363.118042</td><td>54</td><td>8</td><td>11</td><td>70</td><td>201</td><td>1171</td><td>23776</td><td>46241</td><td>15</td><td>1323</td><td>25</td><td>11</td><td>364</td></tr><tr><td>&quot;d4cdf7c3849920…</td><td>3.1525206e7</td><td>9923.888672</td><td>37</td><td>18</td><td>11</td><td>19</td><td>902</td><td>852</td><td>14606</td><td>11174</td><td>39</td><td>1474</td><td>39</td><td>11</td><td>364</td></tr><tr><td>&quot;72165b9123a68d…</td><td>3.1525211e7</td><td>936.750793</td><td>54</td><td>55</td><td>11</td><td>70</td><td>201</td><td>1171</td><td>23776</td><td>46241</td><td>15</td><td>1323</td><td>25</td><td>11</td><td>364</td></tr><tr><td>&quot;59594460508b42…</td><td>3.1525218e7</td><td>50.728539</td><td>40</td><td>51</td><td>11</td><td>72</td><td>280</td><td>433</td><td>10049</td><td>46241</td><td>15</td><td>623</td><td>81</td><td>11</td><td>364</td></tr><tr><td>&quot;7b26eb6a9135e7…</td><td>3.1525225e7</td><td>1924.053467</td><td>16</td><td>31</td><td>11</td><td>19</td><td>344</td><td>813</td><td>18723</td><td>30859</td><td>87</td><td>536</td><td>81</td><td>11</td><td>364</td></tr></tbody></table></div>"
      ],
      "text/plain": [
       "shape: (5, 16)\n",
       "┌────────────┬────────────┬────────────┬───────────┬───┬───────────┬───────────┬─────────┬─────────┐\n",
       "│ client_id  ┆ event_time ┆ amount     ┆ event_typ ┆ … ┆ src_type3 ┆ src_type3 ┆ mon_ind ┆ day_ind │\n",
       "│ ---        ┆ ---        ┆ ---        ┆ e         ┆   ┆ 1         ┆ 2         ┆ ---     ┆ ---     │\n",
       "│ str        ┆ f64        ┆ f32        ┆ ---       ┆   ┆ ---       ┆ ---       ┆ i64     ┆ i64     │\n",
       "│            ┆            ┆            ┆ i32       ┆   ┆ i32       ┆ i32       ┆         ┆         │\n",
       "╞════════════╪════════════╪════════════╪═══════════╪═══╪═══════════╪═══════════╪═════════╪═════════╡\n",
       "│ 72165b9123 ┆ 3.15252e7  ┆ 1363.11804 ┆ 54        ┆ … ┆ 1323      ┆ 25        ┆ 11      ┆ 364     │\n",
       "│ a68d643549 ┆            ┆ 2          ┆           ┆   ┆           ┆           ┆         ┆         │\n",
       "│ 1e1e17fefb ┆            ┆            ┆           ┆   ┆           ┆           ┆         ┆         │\n",
       "│ 16…        ┆            ┆            ┆           ┆   ┆           ┆           ┆         ┆         │\n",
       "│ d4cdf7c384 ┆ 3.1525206e ┆ 9923.88867 ┆ 37        ┆ … ┆ 1474      ┆ 39        ┆ 11      ┆ 364     │\n",
       "│ 9920ad412c ┆ 7          ┆ 2          ┆           ┆   ┆           ┆           ┆         ┆         │\n",
       "│ 18e84d290d ┆            ┆            ┆           ┆   ┆           ┆           ┆         ┆         │\n",
       "│ e7…        ┆            ┆            ┆           ┆   ┆           ┆           ┆         ┆         │\n",
       "│ 72165b9123 ┆ 3.1525211e ┆ 936.750793 ┆ 54        ┆ … ┆ 1323      ┆ 25        ┆ 11      ┆ 364     │\n",
       "│ a68d643549 ┆ 7          ┆            ┆           ┆   ┆           ┆           ┆         ┆         │\n",
       "│ 1e1e17fefb ┆            ┆            ┆           ┆   ┆           ┆           ┆         ┆         │\n",
       "│ 16…        ┆            ┆            ┆           ┆   ┆           ┆           ┆         ┆         │\n",
       "│ 5959446050 ┆ 3.1525218e ┆ 50.728539  ┆ 40        ┆ … ┆ 623       ┆ 81        ┆ 11      ┆ 364     │\n",
       "│ 8b42f37843 ┆ 7          ┆            ┆           ┆   ┆           ┆           ┆         ┆         │\n",
       "│ cd60714bb8 ┆            ┆            ┆           ┆   ┆           ┆           ┆         ┆         │\n",
       "│ c0…        ┆            ┆            ┆           ┆   ┆           ┆           ┆         ┆         │\n",
       "│ 7b26eb6a91 ┆ 3.1525225e ┆ 1924.05346 ┆ 16        ┆ … ┆ 536       ┆ 81        ┆ 11      ┆ 364     │\n",
       "│ 35e790d9c1 ┆ 7          ┆ 7          ┆           ┆   ┆           ┆           ┆         ┆         │\n",
       "│ a00fa3dea8 ┆            ┆            ┆           ┆   ┆           ┆           ┆         ┆         │\n",
       "│ 9b…        ┆            ┆            ┆           ┆   ┆           ┆           ┆         ┆         │\n",
       "└────────────┴────────────┴────────────┴───────────┴───┴───────────┴───────────┴─────────┴─────────┘"
      ]
     },
     "execution_count": 29,
     "metadata": {},
     "output_type": "execute_result"
    }
   ],
   "source": [
    "source = \"./data/trx_test.parquet/\"\n",
    "val_trx = []\n",
    "for file in tqdm(os.listdir(source)):\n",
    "    cur = pl.read_parquet(os.path.join(source, file))\n",
    "    cur = cur.filter(pl.col(\"event_time\") < datetime.strptime(MONTHS[MON], \"%Y-%m-%d\").replace(day=1))\n",
    "    cur = cur.filter(pl.col(\"client_id\").is_in(val_target[\"client_id\"]))\n",
    "    val_trx.append(cur)\n",
    "val_trx = pl.concat(val_trx)\n",
    "val_trx = prepare_data(val_trx)\n",
    "val_trx = trx_unite(val_trx)\n",
    "print(val_trx.shape)\n",
    "val_trx.head()"
   ]
  },
  {
   "cell_type": "code",
   "execution_count": 30,
   "id": "86319349",
   "metadata": {},
   "outputs": [],
   "source": [
    "val_trx = trx_preprocessor.transform(val_trx)"
   ]
  },
  {
   "cell_type": "code",
   "execution_count": 31,
   "id": "00a577c3",
   "metadata": {},
   "outputs": [
    {
     "data": {
      "application/vnd.jupyter.widget-view+json": {
       "model_id": "c79105c405054496b8503c0f1f17e97e",
       "version_major": 2,
       "version_minor": 0
      },
      "text/plain": [
       "  0%|          | 0/6 [00:00<?, ?it/s]"
      ]
     },
     "metadata": {},
     "output_type": "display_data"
    },
    {
     "data": {
      "text/html": [
       "<div><style>\n",
       ".dataframe > thead > tr > th,\n",
       ".dataframe > tbody > tr > td {\n",
       "  text-align: right;\n",
       "  white-space: pre-wrap;\n",
       "}\n",
       "</style>\n",
       "<small>shape: (5, 8)</small><table border=\"1\" class=\"dataframe\"><thead><tr><th>client_id</th><th>event_time</th><th>geohash_4</th><th>geohash_5</th><th>geohash_6</th><th>mon_ind</th><th>day_ind</th><th>count</th></tr><tr><td>str</td><td>i64</td><td>i32</td><td>i32</td><td>i32</td><td>i64</td><td>i64</td><td>i32</td></tr></thead><tbody><tr><td>&quot;229c772c6cacec…</td><td>31525205</td><td>7168</td><td>295849</td><td>1978488</td><td>11</td><td>364</td><td>1</td></tr><tr><td>&quot;2379cc7ae1bbd4…</td><td>31525205</td><td>17154</td><td>206157</td><td>295130</td><td>11</td><td>364</td><td>1</td></tr><tr><td>&quot;ff9d467372a9bd…</td><td>31525217</td><td>21062</td><td>349208</td><td>2751538</td><td>11</td><td>364</td><td>1</td></tr><tr><td>&quot;b13ab03a891a17…</td><td>31525228</td><td>36984</td><td>254857</td><td>1980854</td><td>11</td><td>364</td><td>1</td></tr><tr><td>&quot;bf80fd4757f415…</td><td>31525232</td><td>5169</td><td>110999</td><td>2320023</td><td>11</td><td>364</td><td>1</td></tr></tbody></table></div>"
      ],
      "text/plain": [
       "shape: (5, 8)\n",
       "┌─────────────────────┬────────────┬───────────┬───────────┬───────────┬─────────┬─────────┬───────┐\n",
       "│ client_id           ┆ event_time ┆ geohash_4 ┆ geohash_5 ┆ geohash_6 ┆ mon_ind ┆ day_ind ┆ count │\n",
       "│ ---                 ┆ ---        ┆ ---       ┆ ---       ┆ ---       ┆ ---     ┆ ---     ┆ ---   │\n",
       "│ str                 ┆ i64        ┆ i32       ┆ i32       ┆ i32       ┆ i64     ┆ i64     ┆ i32   │\n",
       "╞═════════════════════╪════════════╪═══════════╪═══════════╪═══════════╪═════════╪═════════╪═══════╡\n",
       "│ 229c772c6cacecdc788 ┆ 31525205   ┆ 7168      ┆ 295849    ┆ 1978488   ┆ 11      ┆ 364     ┆ 1     │\n",
       "│ 4111fdc30194c…      ┆            ┆           ┆           ┆           ┆         ┆         ┆       │\n",
       "│ 2379cc7ae1bbd498b5b ┆ 31525205   ┆ 17154     ┆ 206157    ┆ 295130    ┆ 11      ┆ 364     ┆ 1     │\n",
       "│ 87fa1b5019779…      ┆            ┆           ┆           ┆           ┆         ┆         ┆       │\n",
       "│ ff9d467372a9bd2b362 ┆ 31525217   ┆ 21062     ┆ 349208    ┆ 2751538   ┆ 11      ┆ 364     ┆ 1     │\n",
       "│ f000513ebe900…      ┆            ┆           ┆           ┆           ┆         ┆         ┆       │\n",
       "│ b13ab03a891a17c6c39 ┆ 31525228   ┆ 36984     ┆ 254857    ┆ 1980854   ┆ 11      ┆ 364     ┆ 1     │\n",
       "│ 38b6d920d5304…      ┆            ┆           ┆           ┆           ┆         ┆         ┆       │\n",
       "│ bf80fd4757f415da64c ┆ 31525232   ┆ 5169      ┆ 110999    ┆ 2320023   ┆ 11      ┆ 364     ┆ 1     │\n",
       "│ 44e4c013e50a3…      ┆            ┆           ┆           ┆           ┆         ┆         ┆       │\n",
       "└─────────────────────┴────────────┴───────────┴───────────┴───────────┴─────────┴─────────┴───────┘"
      ]
     },
     "execution_count": 31,
     "metadata": {},
     "output_type": "execute_result"
    }
   ],
   "source": [
    "source = \"./data/geo_test.parquet/\"\n",
    "val_geo = []\n",
    "for file in tqdm(os.listdir(source)):\n",
    "    cur = pl.read_parquet(os.path.join(source, file))\n",
    "    cur = cur.filter(pl.col(\"event_time\") < datetime.strptime(MONTHS[MON], \"%Y-%m-%d\").replace(day=1))\n",
    "    cur = cur.filter(pl.col(\"client_id\").is_in(val_target[\"client_id\"]))\n",
    "    val_geo.append(cur)\n",
    "val_geo = pl.concat(val_geo)\n",
    "val_geo = prepare_data(val_geo)\n",
    "val_geo = geo_unite(val_geo)\n",
    "print(val_geo.shape)\n",
    "val_geo.head()"
   ]
  },
  {
   "cell_type": "code",
   "execution_count": 32,
   "id": "c49f9eee",
   "metadata": {},
   "outputs": [],
   "source": [
    "val_geo = geo_preprocessor.transform(val_geo)"
   ]
  },
  {
   "cell_type": "code",
   "execution_count": 33,
   "id": "857d80aa",
   "metadata": {},
   "outputs": [
    {
     "data": {
      "application/vnd.jupyter.widget-view+json": {
       "model_id": "f3f57a2340d646bf844ce6ce5a1a004a",
       "version_major": 2,
       "version_minor": 0
      },
      "text/plain": [
       "  0%|          | 0/3 [00:00<?, ?it/s]"
      ]
     },
     "metadata": {},
     "output_type": "display_data"
    },
    {
     "data": {
      "text/html": [
       "<div><style>\n",
       ".dataframe > thead > tr > th,\n",
       ".dataframe > tbody > tr > td {\n",
       "  text-align: right;\n",
       "  white-space: pre-wrap;\n",
       "}\n",
       "</style>\n",
       "<small>shape: (5, 5)</small><table border=\"1\" class=\"dataframe\"><thead><tr><th>client_id</th><th>event_time</th><th>embedding</th><th>mon_ind</th><th>day_ind</th></tr><tr><td>str</td><td>i64</td><td>list[f32]</td><td>i64</td><td>i64</td></tr></thead><tbody><tr><td>&quot;07bbb9625426c5…</td><td>52392760</td><td>[0.397706, -0.029813, … 0.379887]</td><td>19</td><td>606</td></tr><tr><td>&quot;07bbb9625426c5…</td><td>39437321</td><td>[0.578899, -0.342521, … 0.563267]</td><td>15</td><td>456</td></tr><tr><td>&quot;07bbb9625426c5…</td><td>38833031</td><td>[0.432345, -0.347777, … 0.467044]</td><td>14</td><td>449</td></tr><tr><td>&quot;07bbb9625426c5…</td><td>49548823</td><td>[-0.06783, 0.117739, … -0.17042]</td><td>18</td><td>573</td></tr><tr><td>&quot;07bbb9625426c5…</td><td>37116263</td><td>[-0.067204, 0.386104, … -0.030214]</td><td>14</td><td>429</td></tr></tbody></table></div>"
      ],
      "text/plain": [
       "shape: (5, 5)\n",
       "┌───────────────────────────────────┬────────────┬─────────────────────────┬─────────┬─────────┐\n",
       "│ client_id                         ┆ event_time ┆ embedding               ┆ mon_ind ┆ day_ind │\n",
       "│ ---                               ┆ ---        ┆ ---                     ┆ ---     ┆ ---     │\n",
       "│ str                               ┆ i64        ┆ list[f32]               ┆ i64     ┆ i64     │\n",
       "╞═══════════════════════════════════╪════════════╪═════════════════════════╪═════════╪═════════╡\n",
       "│ 07bbb9625426c5c0efe246c39ae5277e… ┆ 52392760   ┆ [0.397706, -0.029813, … ┆ 19      ┆ 606     │\n",
       "│                                   ┆            ┆ 0.379887…               ┆         ┆         │\n",
       "│ 07bbb9625426c5c0efe246c39ae5277e… ┆ 39437321   ┆ [0.578899, -0.342521, … ┆ 15      ┆ 456     │\n",
       "│                                   ┆            ┆ 0.563267…               ┆         ┆         │\n",
       "│ 07bbb9625426c5c0efe246c39ae5277e… ┆ 38833031   ┆ [0.432345, -0.347777, … ┆ 14      ┆ 449     │\n",
       "│                                   ┆            ┆ 0.467044…               ┆         ┆         │\n",
       "│ 07bbb9625426c5c0efe246c39ae5277e… ┆ 49548823   ┆ [-0.06783, 0.117739, …  ┆ 18      ┆ 573     │\n",
       "│                                   ┆            ┆ -0.17042]               ┆         ┆         │\n",
       "│ 07bbb9625426c5c0efe246c39ae5277e… ┆ 37116263   ┆ [-0.067204, 0.386104, … ┆ 14      ┆ 429     │\n",
       "│                                   ┆            ┆ -0.03021…               ┆         ┆         │\n",
       "└───────────────────────────────────┴────────────┴─────────────────────────┴─────────┴─────────┘"
      ]
     },
     "execution_count": 33,
     "metadata": {},
     "output_type": "execute_result"
    }
   ],
   "source": [
    "source = \"./data/dial_test.parquet/\"\n",
    "val_dial = []\n",
    "for file in tqdm(os.listdir(source)):\n",
    "    cur = pl.read_parquet(os.path.join(source, file))\n",
    "    cur = cur.filter(pl.col(\"event_time\") < datetime.strptime(MONTHS[MON], \"%Y-%m-%d\").replace(day=1))\n",
    "    cur = cur.filter(pl.col(\"client_id\").is_in(val_target[\"client_id\"]))\n",
    "    val_dial.append(cur)\n",
    "val_dial = pl.concat(val_dial)\n",
    "val_dial = prepare_data(val_dial)\n",
    "print(val_dial.shape)\n",
    "val_dial.head()"
   ]
  },
  {
   "cell_type": "code",
   "execution_count": 34,
   "id": "a06d05ff",
   "metadata": {},
   "outputs": [],
   "source": [
    "val_dial = dial_preprocessor.transform(val_dial)"
   ]
  },
  {
   "cell_type": "code",
   "execution_count": 35,
   "id": "c68a191a",
   "metadata": {},
   "outputs": [
    {
     "name": "stdout",
     "output_type": "stream",
     "text": [
      "(48877, 23)\n"
     ]
    },
    {
     "data": {
      "text/html": [
       "<div><style>\n",
       ".dataframe > thead > tr > th,\n",
       ".dataframe > tbody > tr > td {\n",
       "  text-align: right;\n",
       "  white-space: pre-wrap;\n",
       "}\n",
       "</style>\n",
       "<small>shape: (5, 23)</small><table border=\"1\" class=\"dataframe\"><thead><tr><th>client_id</th><th>target</th><th>trx_event_time</th><th>trx_mon_ind</th><th>trx_day_ind</th><th>trx_event_type</th><th>trx_event_subtype</th><th>trx_currency</th><th>trx_src_type11</th><th>trx_src_type12</th><th>trx_dst_type11</th><th>trx_dst_type12</th><th>trx_src_type22</th><th>trx_src_type32</th><th>geo_event_time</th><th>geo_mon_ind</th><th>geo_day_ind</th><th>geo_geohash_4</th><th>geo_count</th><th>dial_event_time</th><th>dial_mon_ind</th><th>dial_day_ind</th><th>dial_embedding</th></tr><tr><td>str</td><td>list[i32]</td><td>list[f64]</td><td>list[i32]</td><td>list[i32]</td><td>list[i32]</td><td>list[i32]</td><td>list[i32]</td><td>list[i32]</td><td>list[i32]</td><td>list[i32]</td><td>list[i32]</td><td>list[i32]</td><td>list[i32]</td><td>list[i64]</td><td>list[i32]</td><td>list[i32]</td><td>list[i32]</td><td>list[i32]</td><td>list[i64]</td><td>list[i32]</td><td>list[i32]</td><td>list[list[f32]]</td></tr></thead><tbody><tr><td>&quot;3084feefff86b9…</td><td>[0, 0, … 0]</td><td>[4.8260296e7, 4.8789453e7, … 6.0286706e7]</td><td>[2, 2, … 9]</td><td>[86, 59, … 333]</td><td>[6, 10, … 3]</td><td>[6, 9, … 3]</td><td>[1, 1, … 1]</td><td>[3, 4, … 1]</td><td>[8, 5, … 1]</td><td>[3, 8, … 3]</td><td>[3, 9, … 3]</td><td>[1, 1, … 1]</td><td>[30, 30, … 30]</td><td>[40039161, 40044710, … 60338760]</td><td>[6, 6, … 10]</td><td>[166, 166, … 330]</td><td>[1, 1, … 1]</td><td>[1, 1, … 1]</td><td>[47838417, 48357850, … 59741680]</td><td>[1, 1, … 5]</td><td>[16, 17, … 135]</td><td>[[0.265258, -0.03815, … 0.287905], [0.265258, -0.23815, … 0.287905], … [0.257742, -0.367889, … 0.215164]]</td></tr><tr><td>&quot;0157292b98fdfe…</td><td>[0, 0, … 0]</td><td>[3.1537507e7, 3.1629219e7, … 6.0385744e7]</td><td>[11, 11, … 9]</td><td>[268, 269, … 334]</td><td>[3, 1, … 4]</td><td>[3, 1, … 4]</td><td>[1, 1, … 1]</td><td>[1, 1, … 1]</td><td>[2, 2, … 2]</td><td>[3, 1, … 5]</td><td>[3, 1, … 6]</td><td>[27, 27, … 27]</td><td>[41, 41, … 41]</td><td>[32457306, 32883580, … 60364780]</td><td>[11, 11, … 10]</td><td>[317, 307, … 330]</td><td>[27, 27, … 27]</td><td>[1, 1, … 1]</td><td>null</td><td>null</td><td>null</td><td>null</td></tr><tr><td>&quot;826f779f771dbb…</td><td>[0, 0, … 0]</td><td>null</td><td>null</td><td>null</td><td>null</td><td>null</td><td>null</td><td>null</td><td>null</td><td>null</td><td>null</td><td>null</td><td>null</td><td>null</td><td>null</td><td>null</td><td>null</td><td>null</td><td>null</td><td>null</td><td>null</td><td>null</td></tr><tr><td>&quot;6c3bccb98c96ba…</td><td>[0, 0, … 1]</td><td>[3.5086603e7, 3.6179829e7, … 6.0274971e7]</td><td>[10, 10, … 9]</td><td>[280, 199, … 333]</td><td>[1, 1, … 1]</td><td>[1, 1, … 1]</td><td>[1, 1, … 1]</td><td>[1, 7, … 1]</td><td>[1, 10, … 1]</td><td>[2, 1, … 11]</td><td>[5, 1, … 36]</td><td>[44, 44, … 44]</td><td>[7, 7, … 7]</td><td>null</td><td>null</td><td>null</td><td>null</td><td>null</td><td>[43064481, 44199936, … 58534778]</td><td>[7, 7, … 5]</td><td>[224, 188, … 168]</td><td>[[0.471715, -0.239396, … 0.568909], [0.374588, 0.130431, … 0.382765], … [0.551841, -0.229372, … 0.522842]]</td></tr><tr><td>&quot;20abfa068f3466…</td><td>[0, 0, … 0]</td><td>[3.167186e7, 3.1836522e7, … 6.0350241e7]</td><td>[11, 11, … 9]</td><td>[269, 290, … 334]</td><td>[1, 1, … 25]</td><td>[1, 1, … 26]</td><td>[1, 1, … 1]</td><td>[1, 1, … 1]</td><td>[1, 1, … 1]</td><td>[1, 1, … 4]</td><td>[1, 1, … 4]</td><td>[10, 10, … 10]</td><td>[1, 1, … 1]</td><td>[50090250, 50100403, … 60358746]</td><td>[1, 1, … 10]</td><td>[16, 16, … 330]</td><td>[37, 20, … 37]</td><td>[1, 2, … 2]</td><td>[47824048, 50572383, … 57168259]</td><td>[1, 2, … 4]</td><td>[16, 59, … 146]</td><td>[[0.345506, -0.376908, … 0.310672], [0.065283, 0.142979, … -0.190615], … [0.231746, -0.141705, … 0.38085]]</td></tr></tbody></table></div>"
      ],
      "text/plain": [
       "shape: (5, 23)\n",
       "┌───────────┬───────────┬───────────┬───────────┬───┬───────────┬───────────┬───────────┬──────────┐\n",
       "│ client_id ┆ target    ┆ trx_event ┆ trx_mon_i ┆ … ┆ dial_even ┆ dial_mon_ ┆ dial_day_ ┆ dial_emb │\n",
       "│ ---       ┆ ---       ┆ _time     ┆ nd        ┆   ┆ t_time    ┆ ind       ┆ ind       ┆ edding   │\n",
       "│ str       ┆ list[i32] ┆ ---       ┆ ---       ┆   ┆ ---       ┆ ---       ┆ ---       ┆ ---      │\n",
       "│           ┆           ┆ list[f64] ┆ list[i32] ┆   ┆ list[i64] ┆ list[i32] ┆ list[i32] ┆ list[lis │\n",
       "│           ┆           ┆           ┆           ┆   ┆           ┆           ┆           ┆ t[f32]]  │\n",
       "╞═══════════╪═══════════╪═══════════╪═══════════╪═══╪═══════════╪═══════════╪═══════════╪══════════╡\n",
       "│ 3084feeff ┆ [0, 0, …  ┆ [4.826029 ┆ [2, 2, …  ┆ … ┆ [47838417 ┆ [1, 1, …  ┆ [16, 17,  ┆ [[0.2652 │\n",
       "│ f86b906a5 ┆ 0]        ┆ 6e7, 4.87 ┆ 9]        ┆   ┆ ,         ┆ 5]        ┆ … 135]    ┆ 58, -0.0 │\n",
       "│ f002e50d0 ┆           ┆ 89453e7,  ┆           ┆   ┆ 48357850, ┆           ┆           ┆ 3815, …  │\n",
       "│ 8490e…    ┆           ┆ … 6.0…    ┆           ┆   ┆ …         ┆           ┆           ┆ 0.287905 │\n",
       "│           ┆           ┆           ┆           ┆   ┆ 59741680] ┆           ┆           ┆ …        │\n",
       "│ 0157292b9 ┆ [0, 0, …  ┆ [3.153750 ┆ [11, 11,  ┆ … ┆ null      ┆ null      ┆ null      ┆ null     │\n",
       "│ 8fdfea8b1 ┆ 0]        ┆ 7e7, 3.16 ┆ … 9]      ┆   ┆           ┆           ┆           ┆          │\n",
       "│ c638022de ┆           ┆ 29219e7,  ┆           ┆   ┆           ┆           ┆           ┆          │\n",
       "│ f5e83…    ┆           ┆ … 6.0…    ┆           ┆   ┆           ┆           ┆           ┆          │\n",
       "│ 826f779f7 ┆ [0, 0, …  ┆ null      ┆ null      ┆ … ┆ null      ┆ null      ┆ null      ┆ null     │\n",
       "│ 71dbb6e37 ┆ 0]        ┆           ┆           ┆   ┆           ┆           ┆           ┆          │\n",
       "│ 2daeb2dd9 ┆           ┆           ┆           ┆   ┆           ┆           ┆           ┆          │\n",
       "│ 968f4…    ┆           ┆           ┆           ┆   ┆           ┆           ┆           ┆          │\n",
       "│ 6c3bccb98 ┆ [0, 0, …  ┆ [3.508660 ┆ [10, 10,  ┆ … ┆ [43064481 ┆ [7, 7, …  ┆ [224,     ┆ [[0.4717 │\n",
       "│ c96ba8520 ┆ 1]        ┆ 3e7, 3.61 ┆ … 9]      ┆   ┆ ,         ┆ 5]        ┆ 188, …    ┆ 15, -0.2 │\n",
       "│ 765ec6e54 ┆           ┆ 79829e7,  ┆           ┆   ┆ 44199936, ┆           ┆ 168]      ┆ 39396, … │\n",
       "│ 697c1…    ┆           ┆ … 6.0…    ┆           ┆   ┆ …         ┆           ┆           ┆ 0.56890… │\n",
       "│           ┆           ┆           ┆           ┆   ┆ 58534778] ┆           ┆           ┆          │\n",
       "│ 20abfa068 ┆ [0, 0, …  ┆ [3.167186 ┆ [11, 11,  ┆ … ┆ [47824048 ┆ [1, 2, …  ┆ [16, 59,  ┆ [[0.3455 │\n",
       "│ f346647db ┆ 0]        ┆ e7, 3.183 ┆ … 9]      ┆   ┆ ,         ┆ 4]        ┆ … 146]    ┆ 06, -0.3 │\n",
       "│ c4fd47cbd ┆           ┆ 6522e7, … ┆           ┆   ┆ 50572383, ┆           ┆           ┆ 76908, … │\n",
       "│ 7360a…    ┆           ┆ 6.03…     ┆           ┆   ┆ …         ┆           ┆           ┆ 0.31067… │\n",
       "│           ┆           ┆           ┆           ┆   ┆ 57168259] ┆           ┆           ┆          │\n",
       "└───────────┴───────────┴───────────┴───────────┴───┴───────────┴───────────┴───────────┴──────────┘"
      ]
     },
     "execution_count": 35,
     "metadata": {},
     "output_type": "execute_result"
    }
   ],
   "source": [
    "val_joined = val_target.join(val_trx, on=\"client_id\", how=\"left\")\n",
    "val_joined = val_joined.join(val_geo, on=\"client_id\", how=\"left\")\n",
    "val_joined = val_joined.join(val_dial, on=\"client_id\", how=\"left\")\n",
    "val_joined = val_joined.sample(fraction=1.0, shuffle=True, seed=56)\n",
    "print(val_joined.shape)\n",
    "val_joined.head()"
   ]
  },
  {
   "cell_type": "code",
   "execution_count": 36,
   "id": "40c730e7",
   "metadata": {},
   "outputs": [],
   "source": [
    "val_dict = to_records(val_joined, embedding_col=\"dial_embedding\", embedding_dim=768)"
   ]
  },
  {
   "cell_type": "code",
   "execution_count": 37,
   "id": "4f4ba36e",
   "metadata": {},
   "outputs": [],
   "source": [
    "for i in range(len(val_dict)):\n",
    "    val_dict[i][\"target\"] = val_dict[i][\"target\"].tolist()"
   ]
  },
  {
   "cell_type": "code",
   "execution_count": 38,
   "id": "65b1d667",
   "metadata": {},
   "outputs": [],
   "source": [
    "val_multimodal_data = MultiModalSupervisedIterableDataset(\n",
    "    data=val_dict,\n",
    "    source_features=source_features,\n",
    "    source_names=source_features.keys(),\n",
    "    col_id=\"client_id\",\n",
    "    col_time=\"event_time\",\n",
    "    target_name=\"target\",\n",
    ")"
   ]
  },
  {
   "cell_type": "code",
   "execution_count": 39,
   "id": "36578412",
   "metadata": {},
   "outputs": [],
   "source": [
    "del val_dict, val_joined, val_dial, val_geo, val_trx"
   ]
  },
  {
   "cell_type": "markdown",
   "id": "ee3bdc96",
   "metadata": {},
   "source": [
    "# Model"
   ]
  },
  {
   "cell_type": "markdown",
   "id": "2bd28507",
   "metadata": {},
   "source": [
    "## SeqEncoder, it will combine our three TrxEncoders"
   ]
  },
  {
   "cell_type": "code",
   "execution_count": 40,
   "id": "3fd8cd0c",
   "metadata": {},
   "outputs": [],
   "source": [
    "seq_encoder = MultiModalSortTimeSeqEncoderContainer(\n",
    "    trx_encoders={\n",
    "        \"trx\": trx_encoder,\n",
    "        \"geo\": geo_encoder,\n",
    "        \"dial\": dial_encoder,\n",
    "    },\n",
    "    input_size=HIDDEN_SIZE,\n",
    "    hidden_size=HIDDEN_SIZE,\n",
    "    seq_encoder_cls=RnnEncoder,\n",
    "    type=\"gru\"\n",
    ")"
   ]
  },
  {
   "cell_type": "markdown",
   "id": "af624619",
   "metadata": {},
   "source": [
    "## Head"
   ]
  },
  {
   "cell_type": "markdown",
   "id": "ac6a6b25",
   "metadata": {},
   "source": [
    "используем BCEWithLogitsLoss, поэтому в конце нет Sigmoid-ы"
   ]
  },
  {
   "cell_type": "code",
   "execution_count": 41,
   "id": "2f87db6f",
   "metadata": {},
   "outputs": [],
   "source": [
    "head = nn.Sequential(\n",
    "    nn.Linear(HIDDEN_SIZE, HIDDEN_SIZE // 2),\n",
    "    nn.ReLU(),\n",
    "    nn.Linear(HIDDEN_SIZE // 2, NUM_CLASSES),\n",
    ")"
   ]
  },
  {
   "cell_type": "markdown",
   "id": "7cd3326a",
   "metadata": {},
   "source": [
    "## Framework"
   ]
  },
  {
   "cell_type": "code",
   "execution_count": 42,
   "id": "363d4832",
   "metadata": {},
   "outputs": [],
   "source": [
    "sup_module = SequenceToTarget(\n",
    "    seq_encoder=seq_encoder,\n",
    "    head=head,\n",
    "    loss=nn.BCEWithLogitsLoss(),\n",
    "    metric_list=AUROC(NUM_CLASSES),\n",
    "    optimizer_partial=partial(torch.optim.AdamW, lr=1e-4),\n",
    "    lr_scheduler_partial=partial(torch.optim.lr_scheduler.ConstantLR, factor=1.0),  # заглушка, чтобы Lr не менялся\n",
    ")"
   ]
  },
  {
   "cell_type": "code",
   "execution_count": 43,
   "id": "2b233e7c",
   "metadata": {},
   "outputs": [
    {
     "data": {
      "text/plain": [
       "================================================================================\n",
       "Layer (type:depth-idx)                                  Param #\n",
       "================================================================================\n",
       "SequenceToTarget                                        --\n",
       "├─MultiModalSortTimeSeqEncoderContainer: 1-1            --\n",
       "│    └─ModuleDict: 2-1                                  --\n",
       "│    │    └─Sequential: 3-1                             67,670\n",
       "│    │    └─Sequential: 3-2                             556,880\n",
       "│    │    └─Sequential: 3-3                             114,382\n",
       "│    └─RnnEncoder: 2-2                                  128\n",
       "│    │    └─GRU: 3-4                                    99,072\n",
       "│    │    └─LastStepEncoder: 3-5                        --\n",
       "├─Sequential: 1-2                                       --\n",
       "│    └─Linear: 2-3                                      8,256\n",
       "│    └─ReLU: 2-4                                        --\n",
       "│    └─Linear: 2-5                                      260\n",
       "├─BCEWithLogitsLoss: 1-3                                --\n",
       "├─ModuleDict: 1-4                                       --\n",
       "│    └─AUROC: 2-6                                       --\n",
       "│    │    └─MultilabelAUROC: 3-6                        --\n",
       "├─ModuleDict: 1-5                                       --\n",
       "│    └─AUROC: 2-7                                       --\n",
       "│    │    └─MultilabelAUROC: 3-7                        --\n",
       "├─ModuleDict: 1-6                                       --\n",
       "│    └─AUROC: 2-8                                       --\n",
       "│    │    └─MultilabelAUROC: 3-8                        --\n",
       "================================================================================\n",
       "Total params: 846,648\n",
       "Trainable params: 846,648\n",
       "Non-trainable params: 0\n",
       "================================================================================"
      ]
     },
     "execution_count": 43,
     "metadata": {},
     "output_type": "execute_result"
    }
   ],
   "source": [
    "summary(sup_module)"
   ]
  },
  {
   "cell_type": "markdown",
   "id": "954a9049",
   "metadata": {},
   "source": [
    "## Initialize the weights"
   ]
  },
  {
   "cell_type": "code",
   "execution_count": 44,
   "id": "741b7aa7",
   "metadata": {},
   "outputs": [],
   "source": [
    "for module in sup_module.seq_encoder.trx_encoders.modules():\n",
    "    init_weights(module, 1 / HIDDEN_SIZE ** 0.5)\n",
    "\n",
    "for module in sup_module.head.modules():\n",
    "    init_weights(module, 1 / HIDDEN_SIZE ** 0.5)"
   ]
  },
  {
   "cell_type": "markdown",
   "id": "e563b895",
   "metadata": {},
   "source": [
    "# Train model"
   ]
  },
  {
   "cell_type": "code",
   "execution_count": 45,
   "id": "4baae608",
   "metadata": {},
   "outputs": [
   ],
   "source": [
    "logger = WandbLogger()"
   ]
  },
  {
   "cell_type": "code",
   "execution_count": 46,
   "id": "f1b38e76",
   "metadata": {},
   "outputs": [],
   "source": [
    "EPOCHS = 2"
   ]
  },
  {
   "cell_type": "markdown",
   "id": "984b7653",
   "metadata": {},
   "source": [
    "каждую эпоху обучаем на каждом из чанков последовательно"
   ]
  },
  {
   "cell_type": "code",
   "execution_count": null,
   "id": "1bc30c8e",
   "metadata": {
    "scrolled": true
   },
   "outputs": [],
   "source": [
    "%%time\n",
    "\n",
    "trx_source = \"./data/chunks/trx_train.parquet/\"\n",
    "geo_source = \"./data/chunks/geo_train.parquet/\"\n",
    "dial_source = \"./data/chunks/dial_train.parquet/\"\n",
    "chunk_size = (len(train_clients) + N_CHUNKS - 1) // N_CHUNKS\n",
    "for epoch in tqdm(range(EPOCHS)):\n",
    "    print(f\"Epoch: {epoch}\")\n",
    "    trainer = None\n",
    "    for i in tqdm(range(N_CHUNKS)):\n",
    "        # клиенты, которые попали в чанк и есть в обучающей выборке\n",
    "        cur_clients = set(train_clients[i * chunk_size:(i + 1) * chunk_size]) & set(train_target[\"client_id\"])\n",
    "\n",
    "        train_trx = pl.read_parquet(os.path.join(trx_source, f\"part-{i}.parquet\"))\n",
    "        train_trx = train_trx.filter(pl.col(\"event_time\") < datetime.strptime(MONTHS[MON], \"%Y-%m-%d\").replace(day=1))\n",
    "        train_trx = train_trx.filter(pl.col(\"client_id\").is_in(cur_clients))\n",
    "        train_trx = prepare_data(train_trx)\n",
    "        train_trx = trx_unite(train_trx)\n",
    "        train_trx = trx_preprocessor.transform(train_trx)\n",
    "\n",
    "        train_geo = pl.read_parquet(os.path.join(geo_source, f\"part-{i}.parquet\"))\n",
    "        train_geo = train_geo.filter(pl.col(\"event_time\") < datetime.strptime(MONTHS[MON], \"%Y-%m-%d\").replace(day=1))\n",
    "        train_geo = train_geo.filter(pl.col(\"client_id\").is_in(cur_clients))\n",
    "        train_geo = prepare_data(train_geo)\n",
    "        train_geo = geo_unite(train_geo)\n",
    "        train_geo = geo_preprocessor.transform(train_geo)\n",
    "\n",
    "        train_dial = pl.read_parquet(os.path.join(dial_source, f\"part-{i}.parquet\"))\n",
    "        train_dial = train_dial.filter(pl.col(\"event_time\") < datetime.strptime(MONTHS[MON], \"%Y-%m-%d\").replace(day=1))\n",
    "        train_dial = train_dial.filter(pl.col(\"client_id\").is_in(cur_clients))\n",
    "        train_dial = prepare_data(train_dial)\n",
    "        train_dial = dial_preprocessor.transform(train_dial)\n",
    "\n",
    "        cur_train_target = train_target.filter(pl.col(\"client_id\").is_in(cur_clients))\n",
    "        train_joined = cur_train_target.join(train_trx, on=\"client_id\", how=\"left\")\n",
    "        train_joined = train_joined.join(train_geo, on=\"client_id\", how=\"left\")\n",
    "        train_joined = train_joined.join(train_dial, on=\"client_id\", how=\"left\")\n",
    "\n",
    "        train_dict = to_records(train_joined, embedding_col=\"dial_embedding\", embedding_dim=768)\n",
    "        for j in range(len(train_dict)):\n",
    "            train_dict[j][\"target\"] = train_dict[j][\"target\"].tolist()\n",
    "\n",
    "        train_multimodal_data = MultiModalSupervisedIterableDataset(\n",
    "            data=train_dict,\n",
    "            source_features=source_features,\n",
    "            source_names=source_features.keys(),\n",
    "            col_id=\"client_id\",\n",
    "            col_time=\"event_time\",\n",
    "            target_name=\"target\",\n",
    "        )\n",
    "\n",
    "        sup_data = PtlsDataModule(\n",
    "            train_data=train_multimodal_data,\n",
    "            train_num_workers=0,\n",
    "            train_batch_size=32,\n",
    "            valid_data=val_multimodal_data,\n",
    "            valid_num_workers=0,\n",
    "            valid_batch_size=32,\n",
    "        )\n",
    "\n",
    "        trainer = pytorch_lightning.Trainer(\n",
    "            logger=logger,\n",
    "            max_epochs=2,  # для ускорения сделаем несколько прогонов\n",
    "            accelerator=\"gpu\",\n",
    "            devices=1,\n",
    "            enable_progress_bar=True,\n",
    "        )\n",
    "\n",
    "        trainer.fit(sup_module, sup_data)\n",
    "\n",
    "        del sup_data, train_multimodal_data, train_dict, train_joined, train_dial, train_geo, train_trx\n",
    "        gc.collect()\n",
    "\n",
    "    print(trainer.callback_metrics['valid/AUROC'].item())"
   ]
  },
  {
   "cell_type": "markdown",
   "id": "23d6689c",
   "metadata": {},
   "source": [
    "# Inference"
   ]
  },
  {
   "cell_type": "code",
   "execution_count": null,
   "id": "2c45b250",
   "metadata": {},
   "outputs": [],
   "source": [
    "sup_data = PtlsDataModule(\n",
    "    valid_data=val_multimodal_data,\n",
    "    valid_num_workers=0,\n",
    "    valid_batch_size=64,\n",
    ")\n",
    "trainer = pytorch_lightning.Trainer(\n",
    "    accelerator=\"gpu\",\n",
    "    devices=1,\n",
    "    enable_progress_bar=True,\n",
    ")\n",
    "prediction = trainer.predict(sup_module, sup_data.val_dataloader())"
   ]
  },
  {
   "cell_type": "code",
   "execution_count": null,
   "id": "26d3bdec",
   "metadata": {},
   "outputs": [],
   "source": [
    "import pandas as pd\n",
    "\n",
    "prediction = pd.concat(prediction)\n",
    "prediction"
   ]
  }
 ],
 "metadata": {
  "finalized": {
   "timestamp": 1719246314284,
   "trusted": true
  },
  "kernelspec": {
   "display_name": "Python 3 (ipykernel)",
   "language": "python",
   "name": "python3"
  },
  "language_info": {
   "codemirror_mode": {
    "name": "ipython",
    "version": 3
   },
   "file_extension": ".py",
   "mimetype": "text/x-python",
   "name": "python",
   "nbconvert_exporter": "python",
   "pygments_lexer": "ipython3",
   "version": "3.8.13"
  },
  "widgets": {
   "application/vnd.jupyter.widget-state+json": {
    "state": {
     "00cbbf400c984e7e94fd84654fab02b7": {
      "model_module": "@jupyter-widgets/controls",
      "model_module_version": "1.5.0",
      "model_name": "ProgressStyleModel",
      "state": {
       "description_width": ""
      }
     },
     "06e16e107dd74e7c971d17389b23385d": {
      "model_module": "@jupyter-widgets/controls",
      "model_module_version": "1.5.0",
      "model_name": "HTMLModel",
      "state": {
       "layout": "IPY_MODEL_ef67a7d8afe44e9491dd96bf01209e2b",
       "style": "IPY_MODEL_9976c6f5f0194e958b2d3d42ae110110",
       "value": "Validation DataLoader 0: 100%"
      }
     },
     "0706e05274a84894b12d601392da65b0": {
      "model_module": "@jupyter-widgets/base",
      "model_module_version": "1.2.0",
      "model_name": "LayoutModel",
      "state": {}
     },
     "072e1e00305a4967b16d95996e023c7c": {
      "model_module": "@jupyter-widgets/controls",
      "model_module_version": "1.5.0",
      "model_name": "DescriptionStyleModel",
      "state": {
       "description_width": ""
      }
     },
     "0aba2043026744a6be2086dabd8ff563": {
      "model_module": "@jupyter-widgets/base",
      "model_module_version": "1.2.0",
      "model_name": "LayoutModel",
      "state": {}
     },
     "0b173c9611714dfea051964dbefbb39e": {
      "model_module": "@jupyter-widgets/controls",
      "model_module_version": "1.5.0",
      "model_name": "ProgressStyleModel",
      "state": {
       "description_width": ""
      }
     },
     "0e0c93f12d5e4edc9ddfba0080a96d66": {
      "model_module": "@jupyter-widgets/controls",
      "model_module_version": "1.5.0",
      "model_name": "HTMLModel",
      "state": {
       "layout": "IPY_MODEL_f5cd6c0e1c0b4108b18d0c2b7b15325a",
       "style": "IPY_MODEL_f79eb53ef01d4e6d86db1c7b792d3720",
       "value": " 3/3 [04:44&lt;00:00, 93.89s/it]"
      }
     },
     "128946b5fbb4441c90908fa441aa703a": {
      "model_module": "@jupyter-widgets/controls",
      "model_module_version": "1.5.0",
      "model_name": "DescriptionStyleModel",
      "state": {
       "description_width": ""
      }
     },
     "13605642b0184cbe938705c63c58cc5e": {
      "model_module": "@jupyter-widgets/controls",
      "model_module_version": "1.5.0",
      "model_name": "DescriptionStyleModel",
      "state": {
       "description_width": ""
      }
     },
     "13725b4931d0433cb5d4f811056a7bd4": {
      "model_module": "@jupyter-widgets/base",
      "model_module_version": "1.2.0",
      "model_name": "LayoutModel",
      "state": {}
     },
     "1918c0f836d54354be9f3808816cede4": {
      "model_module": "@jupyter-widgets/controls",
      "model_module_version": "1.5.0",
      "model_name": "DescriptionStyleModel",
      "state": {
       "description_width": ""
      }
     },
     "1a78fa80b21a4e019e6892328f6df573": {
      "model_module": "@jupyter-widgets/base",
      "model_module_version": "1.2.0",
      "model_name": "LayoutModel",
      "state": {}
     },
     "1b5fba74efcd4b62b48d4216922eee53": {
      "model_module": "@jupyter-widgets/base",
      "model_module_version": "1.2.0",
      "model_name": "LayoutModel",
      "state": {}
     },
     "1c145175b03442e6955f48c93682024f": {
      "model_module": "@jupyter-widgets/controls",
      "model_module_version": "1.5.0",
      "model_name": "DescriptionStyleModel",
      "state": {
       "description_width": ""
      }
     },
     "1c31502c396a4e07a0ecc8602fe4db6f": {
      "model_module": "@jupyter-widgets/base",
      "model_module_version": "1.2.0",
      "model_name": "LayoutModel",
      "state": {}
     },
     "219ec668ef9a44d595cc6e967f8ca62b": {
      "model_module": "@jupyter-widgets/controls",
      "model_module_version": "1.5.0",
      "model_name": "FloatProgressModel",
      "state": {
       "layout": "IPY_MODEL_22c625f1b9c54cdebd4b6f55dc0150ea",
       "max": 1,
       "style": "IPY_MODEL_bc0d8781360d42a8a8e042a1ec3c81d6"
      }
     },
     "226e9e14e5b942cba2650916ac5aa0b0": {
      "model_module": "@jupyter-widgets/controls",
      "model_module_version": "1.5.0",
      "model_name": "HTMLModel",
      "state": {
       "layout": "IPY_MODEL_b8b02ceb230b494badee7219ef54783b",
       "style": "IPY_MODEL_95c181d9a3724bc38d17e70751343599",
       "value": " 8/8 [02:02&lt;00:00, 14.99s/it]"
      }
     },
     "22c625f1b9c54cdebd4b6f55dc0150ea": {
      "model_module": "@jupyter-widgets/base",
      "model_module_version": "1.2.0",
      "model_name": "LayoutModel",
      "state": {}
     },
     "23094fe2fedc41fbbb3e5efb6788af32": {
      "model_module": "@jupyter-widgets/base",
      "model_module_version": "1.2.0",
      "model_name": "LayoutModel",
      "state": {}
     },
     "239c89b8f05e4ab09bb86d6267f2b176": {
      "model_module": "@jupyter-widgets/controls",
      "model_module_version": "1.5.0",
      "model_name": "ProgressStyleModel",
      "state": {
       "description_width": ""
      }
     },
     "2632e40e84704fa78072cb87aaac52f8": {
      "model_module": "@jupyter-widgets/base",
      "model_module_version": "1.2.0",
      "model_name": "LayoutModel",
      "state": {}
     },
     "2645bfbc14974b709cad6e280d119fbe": {
      "model_module": "@jupyter-widgets/controls",
      "model_module_version": "1.5.0",
      "model_name": "HTMLModel",
      "state": {
       "layout": "IPY_MODEL_51e7b4b38c2943b682d6d2299cddf969",
       "style": "IPY_MODEL_764de2d1beec4ffa8dbf7c7056c23367",
       "value": " 0/2 [05:23&lt;?, ?it/s]"
      }
     },
     "26bb395a146944acb643c037427b4c1f": {
      "model_module": "@jupyter-widgets/controls",
      "model_module_version": "1.5.0",
      "model_name": "HTMLModel",
      "state": {
       "layout": "IPY_MODEL_1b5fba74efcd4b62b48d4216922eee53",
       "style": "IPY_MODEL_416f6f3e789f494f9dec4c5a20202c29",
       "value": " 2/2 [00:02&lt;00:00,  1.26s/it]"
      }
     },
     "2776beb4fabb48a8bc23550d41292abb": {
      "model_module": "@jupyter-widgets/controls",
      "model_module_version": "1.5.0",
      "model_name": "HBoxModel",
      "state": {
       "children": [
        "IPY_MODEL_6935b29a41e64d77bb274152e5afa060",
        "IPY_MODEL_9f95e80019094536bae4f55c7cbf56ac",
        "IPY_MODEL_e4b822b5812a439b8564d053f99e150a"
       ],
       "layout": "IPY_MODEL_8c0b9ee9965d4946a951cd5e894a479c"
      }
     },
     "2821f149f0c04c6b8d466cc2da76f776": {
      "model_module": "@jupyter-widgets/controls",
      "model_module_version": "1.5.0",
      "model_name": "HTMLModel",
      "state": {
       "layout": "IPY_MODEL_cb7c8652489d4a598078d4b9cda962be",
       "style": "IPY_MODEL_a7d23b20b35d47a3aae18dc54027ee03",
       "value": "100%"
      }
     },
     "29463dce9c6e4708a39510d6840c0e42": {
      "model_module": "@jupyter-widgets/controls",
      "model_module_version": "1.5.0",
      "model_name": "HTMLModel",
      "state": {
       "layout": "IPY_MODEL_65aed276db6c4d1ea8393475eb89372b",
       "style": "IPY_MODEL_3eddc3697094460aa8b3723f408769b0",
       "value": "100%"
      }
     },
     "299a7cc838524f8d80378c1c6d62da52": {
      "model_module": "@jupyter-widgets/controls",
      "model_module_version": "1.5.0",
      "model_name": "ProgressStyleModel",
      "state": {
       "description_width": ""
      }
     },
     "2b7577bcd2a74033ad2643d442f7c91b": {
      "model_module": "@jupyter-widgets/base",
      "model_module_version": "1.2.0",
      "model_name": "LayoutModel",
      "state": {}
     },
     "2c384f49036a4f7488e9779d639b74b1": {
      "model_module": "@jupyter-widgets/controls",
      "model_module_version": "1.5.0",
      "model_name": "DescriptionStyleModel",
      "state": {
       "description_width": ""
      }
     },
     "2c5be7bd675140658b032fff50a93b6a": {
      "model_module": "@jupyter-widgets/controls",
      "model_module_version": "1.5.0",
      "model_name": "FloatProgressModel",
      "state": {
       "bar_style": "danger",
       "layout": "IPY_MODEL_daf6c564e8294cacae04e773cb3a3a66",
       "max": 8,
       "style": "IPY_MODEL_0b173c9611714dfea051964dbefbb39e"
      }
     },
     "2e38e4bb894340bc932662620117c772": {
      "model_module": "@jupyter-widgets/controls",
      "model_module_version": "1.5.0",
      "model_name": "FloatProgressModel",
      "state": {
       "bar_style": "success",
       "layout": "IPY_MODEL_0706e05274a84894b12d601392da65b0",
       "max": 3,
       "style": "IPY_MODEL_35e4f4946513401da35c2af9e1f64b8a",
       "value": 3
      }
     },
     "2e8fab5d2e8745c6acce7f1fd34eaaec": {
      "model_module": "@jupyter-widgets/base",
      "model_module_version": "1.2.0",
      "model_name": "LayoutModel",
      "state": {
       "flex": "2"
      }
     },
     "32dcd6fb4bb64c7ea859bdbfc5607c8d": {
      "model_module": "@jupyter-widgets/controls",
      "model_module_version": "1.5.0",
      "model_name": "HTMLModel",
      "state": {
       "layout": "IPY_MODEL_f5c4c39a3d714df8bc236713b7d688b0",
       "style": "IPY_MODEL_331bc29efcfd48b89918342caf195f94",
       "value": "Sanity Checking DataLoader 0: 100%"
      }
     },
     "331bc29efcfd48b89918342caf195f94": {
      "model_module": "@jupyter-widgets/controls",
      "model_module_version": "1.5.0",
      "model_name": "DescriptionStyleModel",
      "state": {
       "description_width": ""
      }
     },
     "356a949779dc4760828814242d6b4413": {
      "model_module": "@jupyter-widgets/controls",
      "model_module_version": "1.5.0",
      "model_name": "DescriptionStyleModel",
      "state": {
       "description_width": ""
      }
     },
     "35e4f4946513401da35c2af9e1f64b8a": {
      "model_module": "@jupyter-widgets/controls",
      "model_module_version": "1.5.0",
      "model_name": "ProgressStyleModel",
      "state": {
       "description_width": ""
      }
     },
     "38b09663dab84639880aacb1b3ba1733": {
      "model_module": "@jupyter-widgets/controls",
      "model_module_version": "1.5.0",
      "model_name": "FloatProgressModel",
      "state": {
       "layout": "IPY_MODEL_1a78fa80b21a4e019e6892328f6df573",
       "max": 1,
       "style": "IPY_MODEL_c6d185113f9a4abf9cd0a69a551d6425",
       "value": 1
      }
     },
     "3900120a1f3548bf9eac7dfc46ba63d6": {
      "model_module": "@jupyter-widgets/controls",
      "model_module_version": "1.5.0",
      "model_name": "LabelModel",
      "state": {
       "layout": "IPY_MODEL_13725b4931d0433cb5d4f811056a7bd4",
       "style": "IPY_MODEL_54aa00655afb400dace45eedb306045e"
      }
     },
     "391af6306ca846e992197d7380067721": {
      "model_module": "@jupyter-widgets/base",
      "model_module_version": "1.2.0",
      "model_name": "LayoutModel",
      "state": {}
     },
     "3947aab6ad484b58b8d6b10d0924303f": {
      "model_module": "@jupyter-widgets/controls",
      "model_module_version": "1.5.0",
      "model_name": "FloatProgressModel",
      "state": {
       "bar_style": "danger",
       "layout": "IPY_MODEL_cdb8a4cb1a0842d982489af78a6d3f29",
       "max": 2,
       "style": "IPY_MODEL_8abfdafd138e4acca84893d7c6f9242b"
      }
     },
     "3ae04071e2ba4f19b43196b34d8a6517": {
      "model_module": "@jupyter-widgets/controls",
      "model_module_version": "1.5.0",
      "model_name": "FloatProgressModel",
      "state": {
       "layout": "IPY_MODEL_2e8fab5d2e8745c6acce7f1fd34eaaec",
       "max": 1668,
       "style": "IPY_MODEL_a00767b03ee64568b337992a6629ee0f",
       "value": 372
      }
     },
     "3b0cc20863e04d5d90b523923fcd02b9": {
      "model_module": "@jupyter-widgets/controls",
      "model_module_version": "1.5.0",
      "model_name": "HBoxModel",
      "state": {
       "children": [
        "IPY_MODEL_29463dce9c6e4708a39510d6840c0e42",
        "IPY_MODEL_7d0c8c50a89f468d9a03a4621d710763",
        "IPY_MODEL_79c3d133d4ab448e85529546877833a6"
       ],
       "layout": "IPY_MODEL_23094fe2fedc41fbbb3e5efb6788af32"
      }
     },
     "3d05caee3cbe46019a6a1e1b210bed97": {
      "model_module": "@jupyter-widgets/controls",
      "model_module_version": "1.5.0",
      "model_name": "DescriptionStyleModel",
      "state": {
       "description_width": ""
      }
     },
     "3eddc3697094460aa8b3723f408769b0": {
      "model_module": "@jupyter-widgets/controls",
      "model_module_version": "1.5.0",
      "model_name": "DescriptionStyleModel",
      "state": {
       "description_width": ""
      }
     },
     "404e0b9100f443a2a24ef53a156cec2a": {
      "model_module": "@jupyter-widgets/controls",
      "model_module_version": "1.5.0",
      "model_name": "HTMLModel",
      "state": {
       "layout": "IPY_MODEL_86e129778da848ac9c5761c36fcac98d",
       "style": "IPY_MODEL_7ee15d2aa58e43fcaceb7cd3ef9b72b4",
       "value": " 764/764 [01:14&lt;00:00, 10.25it/s]"
      }
     },
     "40aafb5b72384465983ae159252eb29d": {
      "model_module": "@jupyter-widgets/base",
      "model_module_version": "1.2.0",
      "model_name": "LayoutModel",
      "state": {}
     },
     "40de3e991f484b55b74c9cd7280a6f9b": {
      "model_module": "@jupyter-widgets/controls",
      "model_module_version": "1.5.0",
      "model_name": "VBoxModel",
      "state": {
       "children": [
        "IPY_MODEL_99a50c00f23546da8fa4c201b54e6554",
        "IPY_MODEL_38b09663dab84639880aacb1b3ba1733"
       ],
       "layout": "IPY_MODEL_fe6fafe4fdde4aad93fdda8bbac72de0"
      }
     },
     "416f6f3e789f494f9dec4c5a20202c29": {
      "model_module": "@jupyter-widgets/controls",
      "model_module_version": "1.5.0",
      "model_name": "DescriptionStyleModel",
      "state": {
       "description_width": ""
      }
     },
     "48a3a05cb1f84acb9d7829bfe6154ac1": {
      "model_module": "@jupyter-widgets/controls",
      "model_module_version": "1.5.0",
      "model_name": "ProgressStyleModel",
      "state": {
       "description_width": ""
      }
     },
     "4aa62ec6313241e1a201ab7b99d4d327": {
      "model_module": "@jupyter-widgets/controls",
      "model_module_version": "1.5.0",
      "model_name": "DescriptionStyleModel",
      "state": {
       "description_width": ""
      }
     },
     "4c8810b1428d4bff9c368d8c80bec7b6": {
      "model_module": "@jupyter-widgets/controls",
      "model_module_version": "1.5.0",
      "model_name": "HTMLModel",
      "state": {
       "layout": "IPY_MODEL_e72cbb5e38a347b8bb2e9880132af07d",
       "style": "IPY_MODEL_072e1e00305a4967b16d95996e023c7c",
       "value": " 6/6 [06:14&lt;00:00, 51.09s/it]"
      }
     },
     "4e64ee109c674aaf8936d451b3e16047": {
      "model_module": "@jupyter-widgets/controls",
      "model_module_version": "1.5.0",
      "model_name": "ProgressStyleModel",
      "state": {
       "description_width": ""
      }
     },
     "4e9a2027cf81479e8ddd4b15f9009088": {
      "model_module": "@jupyter-widgets/base",
      "model_module_version": "1.2.0",
      "model_name": "LayoutModel",
      "state": {}
     },
     "51e7b4b38c2943b682d6d2299cddf969": {
      "model_module": "@jupyter-widgets/base",
      "model_module_version": "1.2.0",
      "model_name": "LayoutModel",
      "state": {}
     },
     "54aa00655afb400dace45eedb306045e": {
      "model_module": "@jupyter-widgets/controls",
      "model_module_version": "1.5.0",
      "model_name": "DescriptionStyleModel",
      "state": {
       "description_width": ""
      }
     },
     "58469935ecee446eaf0ad4dc6f1854ac": {
      "model_module": "@jupyter-widgets/base",
      "model_module_version": "1.2.0",
      "model_name": "LayoutModel",
      "state": {}
     },
     "5a5d60cbc0e346d09f89e6ae2f4be3d0": {
      "model_module": "@jupyter-widgets/controls",
      "model_module_version": "1.5.0",
      "model_name": "HBoxModel",
      "state": {
       "children": [
        "IPY_MODEL_7e2ff069af304bc0b2d0d86aed1a0c6c",
        "IPY_MODEL_94d2017f471b4c7cae41a5e95a162e14",
        "IPY_MODEL_226e9e14e5b942cba2650916ac5aa0b0"
       ],
       "layout": "IPY_MODEL_658da243ef344b47965db7c60861071b"
      }
     },
     "5a908a1a76294fcda8bf6b5f605a0d25": {
      "model_module": "@jupyter-widgets/controls",
      "model_module_version": "1.5.0",
      "model_name": "HTMLModel",
      "state": {
       "layout": "IPY_MODEL_df4d0b1c9bd74dfb8a1b940aa0879512",
       "style": "IPY_MODEL_1918c0f836d54354be9f3808816cede4",
       "value": " 3/3 [02:51&lt;00:00, 52.42s/it]"
      }
     },
     "5aa5d9b4ba65481c88084a6166552d72": {
      "model_module": "@jupyter-widgets/controls",
      "model_module_version": "1.5.0",
      "model_name": "DescriptionStyleModel",
      "state": {
       "description_width": ""
      }
     },
     "64c3338fe2384c8fa9d0ad40f6b47bd4": {
      "model_module": "@jupyter-widgets/controls",
      "model_module_version": "1.5.0",
      "model_name": "DescriptionStyleModel",
      "state": {
       "description_width": ""
      }
     },
     "658da243ef344b47965db7c60861071b": {
      "model_module": "@jupyter-widgets/base",
      "model_module_version": "1.2.0",
      "model_name": "LayoutModel",
      "state": {}
     },
     "65aed276db6c4d1ea8393475eb89372b": {
      "model_module": "@jupyter-widgets/base",
      "model_module_version": "1.2.0",
      "model_name": "LayoutModel",
      "state": {}
     },
     "685b8e937e214f25bbb6dd19abcd1e12": {
      "model_module": "@jupyter-widgets/controls",
      "model_module_version": "1.5.0",
      "model_name": "DescriptionStyleModel",
      "state": {
       "description_width": ""
      }
     },
     "6935b29a41e64d77bb274152e5afa060": {
      "model_module": "@jupyter-widgets/controls",
      "model_module_version": "1.5.0",
      "model_name": "HTMLModel",
      "state": {
       "layout": "IPY_MODEL_2b7577bcd2a74033ad2643d442f7c91b",
       "style": "IPY_MODEL_b21e214efa224b1096e3d253019e3369",
       "value": "100%"
      }
     },
     "6a94fadb19e94d74b5adfd7a8dc21631": {
      "model_module": "@jupyter-widgets/base",
      "model_module_version": "1.2.0",
      "model_name": "LayoutModel",
      "state": {}
     },
     "6f99d746e220495e8d399d06fea0f37b": {
      "model_module": "@jupyter-widgets/controls",
      "model_module_version": "1.5.0",
      "model_name": "HBoxModel",
      "state": {
       "children": [
        "IPY_MODEL_780c43e7adba443184893e9f38118314",
        "IPY_MODEL_2c5be7bd675140658b032fff50a93b6a",
        "IPY_MODEL_907ef02f515745f8ac8dc63900ebb5a6"
       ],
       "layout": "IPY_MODEL_9a1799798ad44113b6ea159106df19e9"
      }
     },
     "764de2d1beec4ffa8dbf7c7056c23367": {
      "model_module": "@jupyter-widgets/controls",
      "model_module_version": "1.5.0",
      "model_name": "DescriptionStyleModel",
      "state": {
       "description_width": ""
      }
     },
     "780c43e7adba443184893e9f38118314": {
      "model_module": "@jupyter-widgets/controls",
      "model_module_version": "1.5.0",
      "model_name": "HTMLModel",
      "state": {
       "layout": "IPY_MODEL_ff0437f974874d0aa83116f518603191",
       "style": "IPY_MODEL_4aa62ec6313241e1a201ab7b99d4d327",
       "value": "  0%"
      }
     },
     "784124e811394766a3ea7677acfaa49c": {
      "model_module": "@jupyter-widgets/base",
      "model_module_version": "1.2.0",
      "model_name": "LayoutModel",
      "state": {
       "display": "inline-flex",
       "flex_flow": "row wrap",
       "width": "100%"
      }
     },
     "79c3d133d4ab448e85529546877833a6": {
      "model_module": "@jupyter-widgets/controls",
      "model_module_version": "1.5.0",
      "model_name": "HTMLModel",
      "state": {
       "layout": "IPY_MODEL_0aba2043026744a6be2086dabd8ff563",
       "style": "IPY_MODEL_a080d2f3f4df4017b6adf8105ccfd4da",
       "value": " 8/8 [12:54&lt;00:00, 97.02s/it]"
      }
     },
     "7b5fb8f7f22a4a08bd10fa1375a54494": {
      "model_module": "@jupyter-widgets/base",
      "model_module_version": "1.2.0",
      "model_name": "LayoutModel",
      "state": {}
     },
     "7c0735e308e74083b30d640c83cc9c2e": {
      "model_module": "@jupyter-widgets/controls",
      "model_module_version": "1.5.0",
      "model_name": "HTMLModel",
      "state": {
       "layout": "IPY_MODEL_a51e3a0a4166400ea70f89ef465e7d62",
       "style": "IPY_MODEL_85e21cb4054344938798523fe66c0c02",
       "value": "Epoch 1:  22%"
      }
     },
     "7d0c8c50a89f468d9a03a4621d710763": {
      "model_module": "@jupyter-widgets/controls",
      "model_module_version": "1.5.0",
      "model_name": "FloatProgressModel",
      "state": {
       "bar_style": "success",
       "layout": "IPY_MODEL_7b5fb8f7f22a4a08bd10fa1375a54494",
       "max": 8,
       "style": "IPY_MODEL_92f6bc8f39d749078d73431d2aed7732",
       "value": 8
      }
     },
     "7dadc7b76ca54a059b1cd3358fdddee7": {
      "model_module": "@jupyter-widgets/controls",
      "model_module_version": "1.5.0",
      "model_name": "HTMLModel",
      "state": {
       "layout": "IPY_MODEL_80b5f34fc993485c9bc76807f8f1f8a4",
       "style": "IPY_MODEL_2c384f49036a4f7488e9779d639b74b1",
       "value": "  0%"
      }
     },
     "7e2ff069af304bc0b2d0d86aed1a0c6c": {
      "model_module": "@jupyter-widgets/controls",
      "model_module_version": "1.5.0",
      "model_name": "HTMLModel",
      "state": {
       "layout": "IPY_MODEL_40aafb5b72384465983ae159252eb29d",
       "style": "IPY_MODEL_64c3338fe2384c8fa9d0ad40f6b47bd4",
       "value": "100%"
      }
     },
     "7ebeb74447d048d4a48e13e46b4c5e02": {
      "model_module": "@jupyter-widgets/controls",
      "model_module_version": "1.5.0",
      "model_name": "ProgressStyleModel",
      "state": {
       "description_width": ""
      }
     },
     "7ee15d2aa58e43fcaceb7cd3ef9b72b4": {
      "model_module": "@jupyter-widgets/controls",
      "model_module_version": "1.5.0",
      "model_name": "DescriptionStyleModel",
      "state": {
       "description_width": ""
      }
     },
     "80b5f34fc993485c9bc76807f8f1f8a4": {
      "model_module": "@jupyter-widgets/base",
      "model_module_version": "1.2.0",
      "model_name": "LayoutModel",
      "state": {}
     },
     "81412a79b290448ca9096be32b50d65c": {
      "model_module": "@jupyter-widgets/base",
      "model_module_version": "1.2.0",
      "model_name": "LayoutModel",
      "state": {
       "display": "inline-flex",
       "flex_flow": "row wrap",
       "visibility": "hidden",
       "width": "100%"
      }
     },
     "854f6f3b8f71426999b3a8365ab86bf0": {
      "model_module": "@jupyter-widgets/base",
      "model_module_version": "1.2.0",
      "model_name": "LayoutModel",
      "state": {}
     },
     "85e21cb4054344938798523fe66c0c02": {
      "model_module": "@jupyter-widgets/controls",
      "model_module_version": "1.5.0",
      "model_name": "DescriptionStyleModel",
      "state": {
       "description_width": ""
      }
     },
     "86e129778da848ac9c5761c36fcac98d": {
      "model_module": "@jupyter-widgets/base",
      "model_module_version": "1.2.0",
      "model_name": "LayoutModel",
      "state": {}
     },
     "885d778100eb4a969a10142a3d9a783e": {
      "model_module": "@jupyter-widgets/base",
      "model_module_version": "1.2.0",
      "model_name": "LayoutModel",
      "state": {}
     },
     "889c66fe72e646a58f62b975c65eb55a": {
      "model_module": "@jupyter-widgets/controls",
      "model_module_version": "1.5.0",
      "model_name": "HTMLModel",
      "state": {
       "layout": "IPY_MODEL_1c31502c396a4e07a0ecc8602fe4db6f",
       "style": "IPY_MODEL_ce8e315ff40240d9ad22439a34e19e66",
       "value": " 0/2 [10:04&lt;?, ?it/s]"
      }
     },
     "8abfdafd138e4acca84893d7c6f9242b": {
      "model_module": "@jupyter-widgets/controls",
      "model_module_version": "1.5.0",
      "model_name": "ProgressStyleModel",
      "state": {
       "description_width": ""
      }
     },
     "8b35b735e8454069a4675b95c5149695": {
      "model_module": "@jupyter-widgets/controls",
      "model_module_version": "1.5.0",
      "model_name": "HTMLModel",
      "state": {
       "layout": "IPY_MODEL_4e9a2027cf81479e8ddd4b15f9009088",
       "style": "IPY_MODEL_356a949779dc4760828814242d6b4413",
       "value": "  0%"
      }
     },
     "8c0b9ee9965d4946a951cd5e894a479c": {
      "model_module": "@jupyter-widgets/base",
      "model_module_version": "1.2.0",
      "model_name": "LayoutModel",
      "state": {}
     },
     "8dfc96eac65d47aeb28cf0362ca99976": {
      "model_module": "@jupyter-widgets/base",
      "model_module_version": "1.2.0",
      "model_name": "LayoutModel",
      "state": {}
     },
     "907ef02f515745f8ac8dc63900ebb5a6": {
      "model_module": "@jupyter-widgets/controls",
      "model_module_version": "1.5.0",
      "model_name": "HTMLModel",
      "state": {
       "layout": "IPY_MODEL_b63c8284dd144fd085da3a817b30f518",
       "style": "IPY_MODEL_13605642b0184cbe938705c63c58cc5e",
       "value": " 0/8 [10:04&lt;?, ?it/s]"
      }
     },
     "92f6bc8f39d749078d73431d2aed7732": {
      "model_module": "@jupyter-widgets/controls",
      "model_module_version": "1.5.0",
      "model_name": "ProgressStyleModel",
      "state": {
       "description_width": ""
      }
     },
     "94d2017f471b4c7cae41a5e95a162e14": {
      "model_module": "@jupyter-widgets/controls",
      "model_module_version": "1.5.0",
      "model_name": "FloatProgressModel",
      "state": {
       "bar_style": "success",
       "layout": "IPY_MODEL_b81e1962d11a4839b13f22b4ebcac461",
       "max": 8,
       "style": "IPY_MODEL_c46e72a338724cf786f29d53ecec7047",
       "value": 8
      }
     },
     "95c181d9a3724bc38d17e70751343599": {
      "model_module": "@jupyter-widgets/controls",
      "model_module_version": "1.5.0",
      "model_name": "DescriptionStyleModel",
      "state": {
       "description_width": ""
      }
     },
     "98447b925bd340869223292b8719ce9e": {
      "model_module": "@jupyter-widgets/base",
      "model_module_version": "1.2.0",
      "model_name": "LayoutModel",
      "state": {}
     },
     "9976c6f5f0194e958b2d3d42ae110110": {
      "model_module": "@jupyter-widgets/controls",
      "model_module_version": "1.5.0",
      "model_name": "DescriptionStyleModel",
      "state": {
       "description_width": ""
      }
     },
     "99a50c00f23546da8fa4c201b54e6554": {
      "model_module": "@jupyter-widgets/controls",
      "model_module_version": "1.5.0",
      "model_name": "LabelModel",
      "state": {
       "layout": "IPY_MODEL_9b65a398de754c8a8ea55fd9889564e4",
       "style": "IPY_MODEL_1c145175b03442e6955f48c93682024f",
       "value": "Waiting for wandb.init()...\r"
      }
     },
     "9a1799798ad44113b6ea159106df19e9": {
      "model_module": "@jupyter-widgets/base",
      "model_module_version": "1.2.0",
      "model_name": "LayoutModel",
      "state": {}
     },
     "9a3aa0c6fd9a42eb96d3c0b24457ccda": {
      "model_module": "@jupyter-widgets/controls",
      "model_module_version": "1.5.0",
      "model_name": "VBoxModel",
      "state": {
       "children": [
        "IPY_MODEL_3900120a1f3548bf9eac7dfc46ba63d6",
        "IPY_MODEL_219ec668ef9a44d595cc6e967f8ca62b"
       ],
       "layout": "IPY_MODEL_2632e40e84704fa78072cb87aaac52f8"
      }
     },
     "9b65a398de754c8a8ea55fd9889564e4": {
      "model_module": "@jupyter-widgets/base",
      "model_module_version": "1.2.0",
      "model_name": "LayoutModel",
      "state": {}
     },
     "9d1716d1eb354efe97824b041c8f3c6b": {
      "model_module": "@jupyter-widgets/controls",
      "model_module_version": "1.5.0",
      "model_name": "HBoxModel",
      "state": {
       "children": [
        "IPY_MODEL_2821f149f0c04c6b8d466cc2da76f776",
        "IPY_MODEL_a83fb93f5dd34a5fb605499e929e7260",
        "IPY_MODEL_5a908a1a76294fcda8bf6b5f605a0d25"
       ],
       "layout": "IPY_MODEL_dc9c9c4d940f4b21957a896d8645daca"
      }
     },
     "9f95e80019094536bae4f55c7cbf56ac": {
      "model_module": "@jupyter-widgets/controls",
      "model_module_version": "1.5.0",
      "model_name": "FloatProgressModel",
      "state": {
       "bar_style": "success",
       "layout": "IPY_MODEL_b4a20cff832d4b7caefe323ce6f48713",
       "max": 8,
       "style": "IPY_MODEL_e23061c0850c444dbf8d67a504d20aa3",
       "value": 8
      }
     },
     "a00767b03ee64568b337992a6629ee0f": {
      "model_module": "@jupyter-widgets/controls",
      "model_module_version": "1.5.0",
      "model_name": "ProgressStyleModel",
      "state": {
       "description_width": ""
      }
     },
     "a080d2f3f4df4017b6adf8105ccfd4da": {
      "model_module": "@jupyter-widgets/controls",
      "model_module_version": "1.5.0",
      "model_name": "DescriptionStyleModel",
      "state": {
       "description_width": ""
      }
     },
     "a1213bbee21c44f4b955f73265d454eb": {
      "model_module": "@jupyter-widgets/base",
      "model_module_version": "1.2.0",
      "model_name": "LayoutModel",
      "state": {
       "display": "inline-flex",
       "flex_flow": "row wrap",
       "visibility": "hidden",
       "width": "100%"
      }
     },
     "a51e3a0a4166400ea70f89ef465e7d62": {
      "model_module": "@jupyter-widgets/base",
      "model_module_version": "1.2.0",
      "model_name": "LayoutModel",
      "state": {}
     },
     "a5a23aa5bd3c4f3da532dfedbdaa2ddb": {
      "model_module": "@jupyter-widgets/base",
      "model_module_version": "1.2.0",
      "model_name": "LayoutModel",
      "state": {
       "flex": "2"
      }
     },
     "a602b0bf09ef4d92b6f0de0c376f0353": {
      "model_module": "@jupyter-widgets/controls",
      "model_module_version": "1.5.0",
      "model_name": "FloatProgressModel",
      "state": {
       "layout": "IPY_MODEL_a5a23aa5bd3c4f3da532dfedbdaa2ddb",
       "max": 2,
       "style": "IPY_MODEL_00cbbf400c984e7e94fd84654fab02b7",
       "value": 2
      }
     },
     "a693222d33974a27b2c0a6ddbd5833c4": {
      "model_module": "@jupyter-widgets/controls",
      "model_module_version": "1.5.0",
      "model_name": "FloatProgressModel",
      "state": {
       "bar_style": "danger",
       "layout": "IPY_MODEL_391af6306ca846e992197d7380067721",
       "max": 8,
       "style": "IPY_MODEL_4e64ee109c674aaf8936d451b3e16047"
      }
     },
     "a7d23b20b35d47a3aae18dc54027ee03": {
      "model_module": "@jupyter-widgets/controls",
      "model_module_version": "1.5.0",
      "model_name": "DescriptionStyleModel",
      "state": {
       "description_width": ""
      }
     },
     "a83fb93f5dd34a5fb605499e929e7260": {
      "model_module": "@jupyter-widgets/controls",
      "model_module_version": "1.5.0",
      "model_name": "FloatProgressModel",
      "state": {
       "bar_style": "success",
       "layout": "IPY_MODEL_be1c84c7dbf74bb6992bdfd18dc82170",
       "max": 3,
       "style": "IPY_MODEL_239c89b8f05e4ab09bb86d6267f2b176",
       "value": 3
      }
     },
     "a87da1c9c2be4fb3a24cd0a5785b189a": {
      "model_module": "@jupyter-widgets/controls",
      "model_module_version": "1.5.0",
      "model_name": "HBoxModel",
      "state": {
       "children": [
        "IPY_MODEL_7dadc7b76ca54a059b1cd3358fdddee7",
        "IPY_MODEL_a693222d33974a27b2c0a6ddbd5833c4",
        "IPY_MODEL_c364fa4c5b624470835bc2db30361324"
       ],
       "layout": "IPY_MODEL_d887515fc75a401e831f9366cd245db0"
      }
     },
     "ab3e360acca9475b8c5a1523ab08184e": {
      "model_module": "@jupyter-widgets/controls",
      "model_module_version": "1.5.0",
      "model_name": "FloatProgressModel",
      "state": {
       "bar_style": "danger",
       "layout": "IPY_MODEL_b13e22c6c76e45d08b073a6be6dde011",
       "max": 2,
       "style": "IPY_MODEL_299a7cc838524f8d80378c1c6d62da52"
      }
     },
     "b13e22c6c76e45d08b073a6be6dde011": {
      "model_module": "@jupyter-widgets/base",
      "model_module_version": "1.2.0",
      "model_name": "LayoutModel",
      "state": {}
     },
     "b21e214efa224b1096e3d253019e3369": {
      "model_module": "@jupyter-widgets/controls",
      "model_module_version": "1.5.0",
      "model_name": "DescriptionStyleModel",
      "state": {
       "description_width": ""
      }
     },
     "b35cdeeec9a84056b377124d7f84b7bf": {
      "model_module": "@jupyter-widgets/controls",
      "model_module_version": "1.5.0",
      "model_name": "HBoxModel",
      "state": {
       "children": [
        "IPY_MODEL_f2749e0b593b4e2a9e9ffc4f499bcee5",
        "IPY_MODEL_ab3e360acca9475b8c5a1523ab08184e",
        "IPY_MODEL_2645bfbc14974b709cad6e280d119fbe"
       ],
       "layout": "IPY_MODEL_ee982a03607944fbabb5b3ebed5e3732"
      }
     },
     "b4a20cff832d4b7caefe323ce6f48713": {
      "model_module": "@jupyter-widgets/base",
      "model_module_version": "1.2.0",
      "model_name": "LayoutModel",
      "state": {}
     },
     "b63c8284dd144fd085da3a817b30f518": {
      "model_module": "@jupyter-widgets/base",
      "model_module_version": "1.2.0",
      "model_name": "LayoutModel",
      "state": {}
     },
     "b75a4ad81da64277b4f2608e54d3278f": {
      "model_module": "@jupyter-widgets/controls",
      "model_module_version": "1.5.0",
      "model_name": "DescriptionStyleModel",
      "state": {
       "description_width": ""
      }
     },
     "b81e1962d11a4839b13f22b4ebcac461": {
      "model_module": "@jupyter-widgets/base",
      "model_module_version": "1.2.0",
      "model_name": "LayoutModel",
      "state": {}
     },
     "b8b02ceb230b494badee7219ef54783b": {
      "model_module": "@jupyter-widgets/base",
      "model_module_version": "1.2.0",
      "model_name": "LayoutModel",
      "state": {}
     },
     "bc0d8781360d42a8a8e042a1ec3c81d6": {
      "model_module": "@jupyter-widgets/controls",
      "model_module_version": "1.5.0",
      "model_name": "ProgressStyleModel",
      "state": {
       "description_width": ""
      }
     },
     "bc6d8c67d88e4ee0b222c8a06f4aabb1": {
      "model_module": "@jupyter-widgets/controls",
      "model_module_version": "1.5.0",
      "model_name": "FloatProgressModel",
      "state": {
       "layout": "IPY_MODEL_bf1d19747d39417abe957aa88ce270d1",
       "max": 764,
       "style": "IPY_MODEL_7ebeb74447d048d4a48e13e46b4c5e02",
       "value": 764
      }
     },
     "be1c84c7dbf74bb6992bdfd18dc82170": {
      "model_module": "@jupyter-widgets/base",
      "model_module_version": "1.2.0",
      "model_name": "LayoutModel",
      "state": {}
     },
     "bed40d6178ae4f4dad1a21b2693d0ce7": {
      "model_module": "@jupyter-widgets/controls",
      "model_module_version": "1.5.0",
      "model_name": "HTMLModel",
      "state": {
       "layout": "IPY_MODEL_d8025470d9794a4ebeaf8ec5e1a5b286",
       "style": "IPY_MODEL_3d05caee3cbe46019a6a1e1b210bed97",
       "value": "100%"
      }
     },
     "bf1d19747d39417abe957aa88ce270d1": {
      "model_module": "@jupyter-widgets/base",
      "model_module_version": "1.2.0",
      "model_name": "LayoutModel",
      "state": {
       "flex": "2"
      }
     },
     "c040b1abdfbc45f5ba59877d344e8db7": {
      "model_module": "@jupyter-widgets/base",
      "model_module_version": "1.2.0",
      "model_name": "LayoutModel",
      "state": {}
     },
     "c364fa4c5b624470835bc2db30361324": {
      "model_module": "@jupyter-widgets/controls",
      "model_module_version": "1.5.0",
      "model_name": "HTMLModel",
      "state": {
       "layout": "IPY_MODEL_c040b1abdfbc45f5ba59877d344e8db7",
       "style": "IPY_MODEL_5aa5d9b4ba65481c88084a6166552d72",
       "value": " 0/8 [05:23&lt;?, ?it/s]"
      }
     },
     "c46e72a338724cf786f29d53ecec7047": {
      "model_module": "@jupyter-widgets/controls",
      "model_module_version": "1.5.0",
      "model_name": "ProgressStyleModel",
      "state": {
       "description_width": ""
      }
     },
     "c6d185113f9a4abf9cd0a69a551d6425": {
      "model_module": "@jupyter-widgets/controls",
      "model_module_version": "1.5.0",
      "model_name": "ProgressStyleModel",
      "state": {
       "description_width": ""
      }
     },
     "c79105c405054496b8503c0f1f17e97e": {
      "model_module": "@jupyter-widgets/controls",
      "model_module_version": "1.5.0",
      "model_name": "HBoxModel",
      "state": {
       "children": [
        "IPY_MODEL_bed40d6178ae4f4dad1a21b2693d0ce7",
        "IPY_MODEL_f0f9ecc6c0ea473092b7af32fb0350e7",
        "IPY_MODEL_4c8810b1428d4bff9c368d8c80bec7b6"
       ],
       "layout": "IPY_MODEL_8dfc96eac65d47aeb28cf0362ca99976"
      }
     },
     "cb7c8652489d4a598078d4b9cda962be": {
      "model_module": "@jupyter-widgets/base",
      "model_module_version": "1.2.0",
      "model_name": "LayoutModel",
      "state": {}
     },
     "cd476ef97a164ac79f8e501c5f3da372": {
      "model_module": "@jupyter-widgets/controls",
      "model_module_version": "1.5.0",
      "model_name": "DescriptionStyleModel",
      "state": {
       "description_width": ""
      }
     },
     "cdb8a4cb1a0842d982489af78a6d3f29": {
      "model_module": "@jupyter-widgets/base",
      "model_module_version": "1.2.0",
      "model_name": "LayoutModel",
      "state": {}
     },
     "ce8e315ff40240d9ad22439a34e19e66": {
      "model_module": "@jupyter-widgets/controls",
      "model_module_version": "1.5.0",
      "model_name": "DescriptionStyleModel",
      "state": {
       "description_width": ""
      }
     },
     "cf286f82a35c47e5a69a0d6abb7c087d": {
      "model_module": "@jupyter-widgets/controls",
      "model_module_version": "1.5.0",
      "model_name": "HBoxModel",
      "state": {
       "children": [
        "IPY_MODEL_7c0735e308e74083b30d640c83cc9c2e",
        "IPY_MODEL_3ae04071e2ba4f19b43196b34d8a6517",
        "IPY_MODEL_f8fa0f9ef7764e5a9d77967917ed9203"
       ],
       "layout": "IPY_MODEL_784124e811394766a3ea7677acfaa49c"
      }
     },
     "d60d23f250d34d0c85e23a26a3448e70": {
      "model_module": "@jupyter-widgets/base",
      "model_module_version": "1.2.0",
      "model_name": "LayoutModel",
      "state": {}
     },
     "d8025470d9794a4ebeaf8ec5e1a5b286": {
      "model_module": "@jupyter-widgets/base",
      "model_module_version": "1.2.0",
      "model_name": "LayoutModel",
      "state": {}
     },
     "d887515fc75a401e831f9366cd245db0": {
      "model_module": "@jupyter-widgets/base",
      "model_module_version": "1.2.0",
      "model_name": "LayoutModel",
      "state": {}
     },
     "daf6c564e8294cacae04e773cb3a3a66": {
      "model_module": "@jupyter-widgets/base",
      "model_module_version": "1.2.0",
      "model_name": "LayoutModel",
      "state": {}
     },
     "dc08f372cb3e499ea04444d01874e9df": {
      "model_module": "@jupyter-widgets/base",
      "model_module_version": "1.2.0",
      "model_name": "LayoutModel",
      "state": {}
     },
     "dc9c9c4d940f4b21957a896d8645daca": {
      "model_module": "@jupyter-widgets/base",
      "model_module_version": "1.2.0",
      "model_name": "LayoutModel",
      "state": {}
     },
     "df4d0b1c9bd74dfb8a1b940aa0879512": {
      "model_module": "@jupyter-widgets/base",
      "model_module_version": "1.2.0",
      "model_name": "LayoutModel",
      "state": {}
     },
     "e1af3e7ccb164c458b23d61407ca3ae9": {
      "model_module": "@jupyter-widgets/controls",
      "model_module_version": "1.5.0",
      "model_name": "HTMLModel",
      "state": {
       "layout": "IPY_MODEL_6a94fadb19e94d74b5adfd7a8dc21631",
       "style": "IPY_MODEL_685b8e937e214f25bbb6dd19abcd1e12",
       "value": "100%"
      }
     },
     "e23061c0850c444dbf8d67a504d20aa3": {
      "model_module": "@jupyter-widgets/controls",
      "model_module_version": "1.5.0",
      "model_name": "ProgressStyleModel",
      "state": {
       "description_width": ""
      }
     },
     "e4b822b5812a439b8564d053f99e150a": {
      "model_module": "@jupyter-widgets/controls",
      "model_module_version": "1.5.0",
      "model_name": "HTMLModel",
      "state": {
       "layout": "IPY_MODEL_d60d23f250d34d0c85e23a26a3448e70",
       "style": "IPY_MODEL_128946b5fbb4441c90908fa441aa703a",
       "value": " 8/8 [06:04&lt;00:00, 46.00s/it]"
      }
     },
     "e72cbb5e38a347b8bb2e9880132af07d": {
      "model_module": "@jupyter-widgets/base",
      "model_module_version": "1.2.0",
      "model_name": "LayoutModel",
      "state": {}
     },
     "ee982a03607944fbabb5b3ebed5e3732": {
      "model_module": "@jupyter-widgets/base",
      "model_module_version": "1.2.0",
      "model_name": "LayoutModel",
      "state": {}
     },
     "ef67a7d8afe44e9491dd96bf01209e2b": {
      "model_module": "@jupyter-widgets/base",
      "model_module_version": "1.2.0",
      "model_name": "LayoutModel",
      "state": {}
     },
     "f0f9ecc6c0ea473092b7af32fb0350e7": {
      "model_module": "@jupyter-widgets/controls",
      "model_module_version": "1.5.0",
      "model_name": "FloatProgressModel",
      "state": {
       "bar_style": "success",
       "layout": "IPY_MODEL_98447b925bd340869223292b8719ce9e",
       "max": 6,
       "style": "IPY_MODEL_48a3a05cb1f84acb9d7829bfe6154ac1",
       "value": 6
      }
     },
     "f2749e0b593b4e2a9e9ffc4f499bcee5": {
      "model_module": "@jupyter-widgets/controls",
      "model_module_version": "1.5.0",
      "model_name": "HTMLModel",
      "state": {
       "layout": "IPY_MODEL_dc08f372cb3e499ea04444d01874e9df",
       "style": "IPY_MODEL_cd476ef97a164ac79f8e501c5f3da372",
       "value": "  0%"
      }
     },
     "f3c2562655024071a5701ace830c27ff": {
      "model_module": "@jupyter-widgets/controls",
      "model_module_version": "1.5.0",
      "model_name": "HBoxModel",
      "state": {
       "children": [
        "IPY_MODEL_8b35b735e8454069a4675b95c5149695",
        "IPY_MODEL_3947aab6ad484b58b8d6b10d0924303f",
        "IPY_MODEL_889c66fe72e646a58f62b975c65eb55a"
       ],
       "layout": "IPY_MODEL_885d778100eb4a969a10142a3d9a783e"
      }
     },
     "f3f57a2340d646bf844ce6ce5a1a004a": {
      "model_module": "@jupyter-widgets/controls",
      "model_module_version": "1.5.0",
      "model_name": "HBoxModel",
      "state": {
       "children": [
        "IPY_MODEL_e1af3e7ccb164c458b23d61407ca3ae9",
        "IPY_MODEL_2e38e4bb894340bc932662620117c772",
        "IPY_MODEL_0e0c93f12d5e4edc9ddfba0080a96d66"
       ],
       "layout": "IPY_MODEL_854f6f3b8f71426999b3a8365ab86bf0"
      }
     },
     "f5c4c39a3d714df8bc236713b7d688b0": {
      "model_module": "@jupyter-widgets/base",
      "model_module_version": "1.2.0",
      "model_name": "LayoutModel",
      "state": {}
     },
     "f5cd6c0e1c0b4108b18d0c2b7b15325a": {
      "model_module": "@jupyter-widgets/base",
      "model_module_version": "1.2.0",
      "model_name": "LayoutModel",
      "state": {}
     },
     "f79eb53ef01d4e6d86db1c7b792d3720": {
      "model_module": "@jupyter-widgets/controls",
      "model_module_version": "1.5.0",
      "model_name": "DescriptionStyleModel",
      "state": {
       "description_width": ""
      }
     },
     "f8fa0f9ef7764e5a9d77967917ed9203": {
      "model_module": "@jupyter-widgets/controls",
      "model_module_version": "1.5.0",
      "model_name": "HTMLModel",
      "state": {
       "layout": "IPY_MODEL_58469935ecee446eaf0ad4dc6f1854ac",
       "style": "IPY_MODEL_b75a4ad81da64277b4f2608e54d3278f",
       "value": " 372/1668 [00:46&lt;02:42,  7.99it/s, v_num=5pz1, valid/AUROC=0.651]"
      }
     },
     "fe6fafe4fdde4aad93fdda8bbac72de0": {
      "model_module": "@jupyter-widgets/base",
      "model_module_version": "1.2.0",
      "model_name": "LayoutModel",
      "state": {}
     },
     "ff0437f974874d0aa83116f518603191": {
      "model_module": "@jupyter-widgets/base",
      "model_module_version": "1.2.0",
      "model_name": "LayoutModel",
      "state": {}
     }
    },
    "version_major": 2,
    "version_minor": 0
   }
  }
 },
 "nbformat": 4,
 "nbformat_minor": 5
}
