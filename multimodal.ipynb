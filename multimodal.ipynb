{
 "cells": [
  {
   "cell_type": "code",
   "execution_count": 1,
   "id": "7c92e56a",
   "metadata": {},
   "outputs": [],
   "source": [
    "from datetime import datetime\n",
    "\n",
    "import polars as pl\n",
    "\n",
    "from src.preprocessing import PolarsDataPreprocessor"
   ]
  },
  {
   "cell_type": "code",
   "execution_count": null,
   "id": "4f38dee7",
   "metadata": {},
   "outputs": [],
   "source": []
  },
  {
   "cell_type": "code",
   "execution_count": 2,
   "id": "1237733f",
   "metadata": {},
   "outputs": [],
   "source": [
    "min_dt = datetime(2021, 1, 1)"
   ]
  },
  {
   "cell_type": "code",
   "execution_count": null,
   "id": "19e63de3",
   "metadata": {},
   "outputs": [],
   "source": []
  },
  {
   "cell_type": "code",
   "execution_count": 3,
   "id": "50374322",
   "metadata": {},
   "outputs": [
    {
     "data": {
      "text/html": [
       "<div><style>\n",
       ".dataframe > thead > tr > th,\n",
       ".dataframe > tbody > tr > td {\n",
       "  text-align: right;\n",
       "  white-space: pre-wrap;\n",
       "}\n",
       "</style>\n",
       "<small>shape: (5, 16)</small><table border=\"1\" class=\"dataframe\"><thead><tr><th>event_time</th><th>amount</th><th>client_id</th><th>event_type</th><th>event_subtype</th><th>currency</th><th>src_type11</th><th>src_type12</th><th>dst_type11</th><th>dst_type12</th><th>src_type21</th><th>src_type22</th><th>src_type31</th><th>src_type32</th><th>month_ind</th><th>day_ind</th></tr><tr><td>i64</td><td>f32</td><td>str</td><td>i32</td><td>i32</td><td>f64</td><td>f64</td><td>f64</td><td>f64</td><td>f64</td><td>f64</td><td>f64</td><td>f64</td><td>f64</td><td>i64</td><td>i64</td></tr></thead><tbody><tr><td>35499473</td><td>39204.261719</td><td>&quot;52f416800d4d8c…</td><td>54</td><td>55</td><td>11.0</td><td>19.0</td><td>344.0</td><td>364.0</td><td>22652.0</td><td>22823.0</td><td>48.0</td><td>942.0</td><td>4.0</td><td>13</td><td>410</td></tr><tr><td>38062618</td><td>77238.382812</td><td>&quot;52f416800d4d8c…</td><td>54</td><td>55</td><td>11.0</td><td>19.0</td><td>344.0</td><td>869.0</td><td>31488.0</td><td>22823.0</td><td>48.0</td><td>942.0</td><td>4.0</td><td>14</td><td>440</td></tr><tr><td>35018297</td><td>14293.958008</td><td>&quot;52f416800d4d8c…</td><td>54</td><td>55</td><td>11.0</td><td>19.0</td><td>344.0</td><td>364.0</td><td>22652.0</td><td>22823.0</td><td>48.0</td><td>942.0</td><td>4.0</td><td>13</td><td>405</td></tr><tr><td>32446147</td><td>2569.062988</td><td>&quot;52f416800d4d8c…</td><td>54</td><td>55</td><td>11.0</td><td>19.0</td><td>344.0</td><td>364.0</td><td>22652.0</td><td>22823.0</td><td>48.0</td><td>942.0</td><td>4.0</td><td>12</td><td>375</td></tr><tr><td>34413708</td><td>62966.214844</td><td>&quot;52f416800d4d8c…</td><td>54</td><td>55</td><td>11.0</td><td>19.0</td><td>344.0</td><td>364.0</td><td>22652.0</td><td>22823.0</td><td>48.0</td><td>942.0</td><td>4.0</td><td>13</td><td>398</td></tr></tbody></table></div>"
      ],
      "text/plain": [
       "shape: (5, 16)\n",
       "┌────────────┬───────────┬───────────┬───────────┬───┬───────────┬───────────┬───────────┬─────────┐\n",
       "│ event_time ┆ amount    ┆ client_id ┆ event_typ ┆ … ┆ src_type3 ┆ src_type3 ┆ month_ind ┆ day_ind │\n",
       "│ ---        ┆ ---       ┆ ---       ┆ e         ┆   ┆ 1         ┆ 2         ┆ ---       ┆ ---     │\n",
       "│ i64        ┆ f32       ┆ str       ┆ ---       ┆   ┆ ---       ┆ ---       ┆ i64       ┆ i64     │\n",
       "│            ┆           ┆           ┆ i32       ┆   ┆ f64       ┆ f64       ┆           ┆         │\n",
       "╞════════════╪═══════════╪═══════════╪═══════════╪═══╪═══════════╪═══════════╪═══════════╪═════════╡\n",
       "│ 35499473   ┆ 39204.261 ┆ 52f416800 ┆ 54        ┆ … ┆ 942.0     ┆ 4.0       ┆ 13        ┆ 410     │\n",
       "│            ┆ 719       ┆ d4d8ca9c9 ┆           ┆   ┆           ┆           ┆           ┆         │\n",
       "│            ┆           ┆ be929fc69 ┆           ┆   ┆           ┆           ┆           ┆         │\n",
       "│            ┆           ┆ 4d257…    ┆           ┆   ┆           ┆           ┆           ┆         │\n",
       "│ 38062618   ┆ 77238.382 ┆ 52f416800 ┆ 54        ┆ … ┆ 942.0     ┆ 4.0       ┆ 14        ┆ 440     │\n",
       "│            ┆ 812       ┆ d4d8ca9c9 ┆           ┆   ┆           ┆           ┆           ┆         │\n",
       "│            ┆           ┆ be929fc69 ┆           ┆   ┆           ┆           ┆           ┆         │\n",
       "│            ┆           ┆ 4d257…    ┆           ┆   ┆           ┆           ┆           ┆         │\n",
       "│ 35018297   ┆ 14293.958 ┆ 52f416800 ┆ 54        ┆ … ┆ 942.0     ┆ 4.0       ┆ 13        ┆ 405     │\n",
       "│            ┆ 008       ┆ d4d8ca9c9 ┆           ┆   ┆           ┆           ┆           ┆         │\n",
       "│            ┆           ┆ be929fc69 ┆           ┆   ┆           ┆           ┆           ┆         │\n",
       "│            ┆           ┆ 4d257…    ┆           ┆   ┆           ┆           ┆           ┆         │\n",
       "│ 32446147   ┆ 2569.0629 ┆ 52f416800 ┆ 54        ┆ … ┆ 942.0     ┆ 4.0       ┆ 12        ┆ 375     │\n",
       "│            ┆ 88        ┆ d4d8ca9c9 ┆           ┆   ┆           ┆           ┆           ┆         │\n",
       "│            ┆           ┆ be929fc69 ┆           ┆   ┆           ┆           ┆           ┆         │\n",
       "│            ┆           ┆ 4d257…    ┆           ┆   ┆           ┆           ┆           ┆         │\n",
       "│ 34413708   ┆ 62966.214 ┆ 52f416800 ┆ 54        ┆ … ┆ 942.0     ┆ 4.0       ┆ 13        ┆ 398     │\n",
       "│            ┆ 844       ┆ d4d8ca9c9 ┆           ┆   ┆           ┆           ┆           ┆         │\n",
       "│            ┆           ┆ be929fc69 ┆           ┆   ┆           ┆           ┆           ┆         │\n",
       "│            ┆           ┆ 4d257…    ┆           ┆   ┆           ┆           ┆           ┆         │\n",
       "└────────────┴───────────┴───────────┴───────────┴───┴───────────┴───────────┴───────────┴─────────┘"
      ]
     },
     "execution_count": 3,
     "metadata": {},
     "output_type": "execute_result"
    }
   ],
   "source": [
    "train_trx = pl.read_parquet(\"F:/chunks/trx_train.pq\")\n",
    "train_trx = train_trx.with_columns(\n",
    "    month_ind=12 * (pl.col(\"event_time\").dt.year() - min_dt.year) + (pl.col(\"event_time\").dt.month() - min_dt.month),\n",
    "    day_ind=(pl.col(\"event_time\") - min_dt).dt.days(),\n",
    ")\n",
    "train_trx = train_trx.with_columns(\n",
    "    (pl.col(\"event_time\") - min_dt).dt.seconds()\n",
    ")\n",
    "train_trx.head()"
   ]
  },
  {
   "cell_type": "code",
   "execution_count": 4,
   "id": "21355bbe",
   "metadata": {},
   "outputs": [
    {
     "data": {
      "text/html": [
       "<div><style>\n",
       ".dataframe > thead > tr > th,\n",
       ".dataframe > tbody > tr > td {\n",
       "  text-align: right;\n",
       "  white-space: pre-wrap;\n",
       "}\n",
       "</style>\n",
       "<small>shape: (5, 7)</small><table border=\"1\" class=\"dataframe\"><thead><tr><th>client_id</th><th>event_time</th><th>geohash_4</th><th>geohash_5</th><th>geohash_6</th><th>month_ind</th><th>day_ind</th></tr><tr><td>str</td><td>i64</td><td>i32</td><td>i32</td><td>i32</td><td>i64</td><td>i64</td></tr></thead><tbody><tr><td>&quot;009c52bd099cbb…</td><td>57046408</td><td>32892</td><td>35465</td><td>1028609</td><td>21</td><td>660</td></tr><tr><td>&quot;009c52bd099cbb…</td><td>56294845</td><td>32892</td><td>35465</td><td>461846</td><td>21</td><td>651</td></tr><tr><td>&quot;009c52bd099cbb…</td><td>56912877</td><td>32892</td><td>35465</td><td>1028609</td><td>21</td><td>658</td></tr><tr><td>&quot;009c52bd099cbb…</td><td>55770461</td><td>32892</td><td>35465</td><td>461846</td><td>21</td><td>645</td></tr><tr><td>&quot;009c52bd099cbb…</td><td>54736642</td><td>32892</td><td>35465</td><td>1028609</td><td>20</td><td>633</td></tr></tbody></table></div>"
      ],
      "text/plain": [
       "shape: (5, 7)\n",
       "┌───────────────────────────┬────────────┬───────────┬───────────┬───────────┬───────────┬─────────┐\n",
       "│ client_id                 ┆ event_time ┆ geohash_4 ┆ geohash_5 ┆ geohash_6 ┆ month_ind ┆ day_ind │\n",
       "│ ---                       ┆ ---        ┆ ---       ┆ ---       ┆ ---       ┆ ---       ┆ ---     │\n",
       "│ str                       ┆ i64        ┆ i32       ┆ i32       ┆ i32       ┆ i64       ┆ i64     │\n",
       "╞═══════════════════════════╪════════════╪═══════════╪═══════════╪═══════════╪═══════════╪═════════╡\n",
       "│ 009c52bd099cbb5b7b2b6f018 ┆ 57046408   ┆ 32892     ┆ 35465     ┆ 1028609   ┆ 21        ┆ 660     │\n",
       "│ 7c02951…                  ┆            ┆           ┆           ┆           ┆           ┆         │\n",
       "│ 009c52bd099cbb5b7b2b6f018 ┆ 56294845   ┆ 32892     ┆ 35465     ┆ 461846    ┆ 21        ┆ 651     │\n",
       "│ 7c02951…                  ┆            ┆           ┆           ┆           ┆           ┆         │\n",
       "│ 009c52bd099cbb5b7b2b6f018 ┆ 56912877   ┆ 32892     ┆ 35465     ┆ 1028609   ┆ 21        ┆ 658     │\n",
       "│ 7c02951…                  ┆            ┆           ┆           ┆           ┆           ┆         │\n",
       "│ 009c52bd099cbb5b7b2b6f018 ┆ 55770461   ┆ 32892     ┆ 35465     ┆ 461846    ┆ 21        ┆ 645     │\n",
       "│ 7c02951…                  ┆            ┆           ┆           ┆           ┆           ┆         │\n",
       "│ 009c52bd099cbb5b7b2b6f018 ┆ 54736642   ┆ 32892     ┆ 35465     ┆ 1028609   ┆ 20        ┆ 633     │\n",
       "│ 7c02951…                  ┆            ┆           ┆           ┆           ┆           ┆         │\n",
       "└───────────────────────────┴────────────┴───────────┴───────────┴───────────┴───────────┴─────────┘"
      ]
     },
     "execution_count": 4,
     "metadata": {},
     "output_type": "execute_result"
    }
   ],
   "source": [
    "train_geo = pl.read_parquet(\"F:/chunks/geo_train.pq\")\n",
    "train_geo = train_geo.with_columns(\n",
    "    month_ind=12 * (pl.col(\"event_time\").dt.year() - min_dt.year) + (pl.col(\"event_time\").dt.month() - min_dt.month),\n",
    "    day_ind=(pl.col(\"event_time\") - min_dt).dt.days(),\n",
    ")\n",
    "train_geo = train_geo.with_columns(\n",
    "    (pl.col(\"event_time\") - min_dt).dt.seconds()\n",
    ")\n",
    "train_geo.head()"
   ]
  },
  {
   "cell_type": "code",
   "execution_count": 5,
   "id": "f399e651",
   "metadata": {},
   "outputs": [
    {
     "data": {
      "text/html": [
       "<div><style>\n",
       ".dataframe > thead > tr > th,\n",
       ".dataframe > tbody > tr > td {\n",
       "  text-align: right;\n",
       "  white-space: pre-wrap;\n",
       "}\n",
       "</style>\n",
       "<small>shape: (5, 5)</small><table border=\"1\" class=\"dataframe\"><thead><tr><th>client_id</th><th>event_time</th><th>embedding</th><th>month_ind</th><th>day_ind</th></tr><tr><td>str</td><td>i64</td><td>list[f32]</td><td>i64</td><td>i64</td></tr></thead><tbody><tr><td>&quot;a08c690dd972d2…</td><td>42023542</td><td>[-0.009235, -0.069714, … -0.062696]</td><td>16</td><td>486</td></tr><tr><td>&quot;a341aebbdf1301…</td><td>49797689</td><td>[0.28782, -0.391491, … 0.344232]</td><td>18</td><td>576</td></tr><tr><td>&quot;a37e4caaa1c741…</td><td>59122873</td><td>[0.114006, -0.112189, … 0.180738]</td><td>22</td><td>684</td></tr><tr><td>&quot;a37e4caaa1c741…</td><td>40232523</td><td>[0.23755, -0.309908, … 0.215162]</td><td>15</td><td>465</td></tr><tr><td>&quot;a37e4caaa1c741…</td><td>51355955</td><td>[0.370291, -0.336272, … 0.254396]</td><td>19</td><td>594</td></tr></tbody></table></div>"
      ],
      "text/plain": [
       "shape: (5, 5)\n",
       "┌────────────────────────────────────┬────────────┬──────────────────────────┬───────────┬─────────┐\n",
       "│ client_id                          ┆ event_time ┆ embedding                ┆ month_ind ┆ day_ind │\n",
       "│ ---                                ┆ ---        ┆ ---                      ┆ ---       ┆ ---     │\n",
       "│ str                                ┆ i64        ┆ list[f32]                ┆ i64       ┆ i64     │\n",
       "╞════════════════════════════════════╪════════════╪══════════════════════════╪═══════════╪═════════╡\n",
       "│ a08c690dd972d2066188950605635ff0…  ┆ 42023542   ┆ [-0.009235, -0.069714, … ┆ 16        ┆ 486     │\n",
       "│                                    ┆            ┆ -0.0626…                 ┆           ┆         │\n",
       "│ a341aebbdf13011f05291862aa911f69…  ┆ 49797689   ┆ [0.28782, -0.391491, …   ┆ 18        ┆ 576     │\n",
       "│                                    ┆            ┆ 0.344232]                ┆           ┆         │\n",
       "│ a37e4caaa1c7415ac53a2e04f0a0c2f5…  ┆ 59122873   ┆ [0.114006, -0.112189, …  ┆ 22        ┆ 684     │\n",
       "│                                    ┆            ┆ 0.180738…                ┆           ┆         │\n",
       "│ a37e4caaa1c7415ac53a2e04f0a0c2f5…  ┆ 40232523   ┆ [0.23755, -0.309908, …   ┆ 15        ┆ 465     │\n",
       "│                                    ┆            ┆ 0.215162]                ┆           ┆         │\n",
       "│ a37e4caaa1c7415ac53a2e04f0a0c2f5…  ┆ 51355955   ┆ [0.370291, -0.336272, …  ┆ 19        ┆ 594     │\n",
       "│                                    ┆            ┆ 0.254396…                ┆           ┆         │\n",
       "└────────────────────────────────────┴────────────┴──────────────────────────┴───────────┴─────────┘"
      ]
     },
     "execution_count": 5,
     "metadata": {},
     "output_type": "execute_result"
    }
   ],
   "source": [
    "train_dial = pl.read_parquet(\"F:/chunks/dial_train.pq\")\n",
    "train_dial = train_dial.with_columns(\n",
    "    month_ind=12 * (pl.col(\"event_time\").dt.year() - min_dt.year) + (pl.col(\"event_time\").dt.month() - min_dt.month),\n",
    "    day_ind=(pl.col(\"event_time\") - min_dt).dt.days(),\n",
    ")\n",
    "train_dial = train_dial.with_columns(\n",
    "    (pl.col(\"event_time\") - min_dt).dt.seconds()\n",
    ")\n",
    "train_dial.head()"
   ]
  },
  {
   "cell_type": "code",
   "execution_count": 6,
   "id": "fb2018f5",
   "metadata": {},
   "outputs": [
    {
     "data": {
      "text/html": [
       "<div><style>\n",
       ".dataframe > thead > tr > th,\n",
       ".dataframe > tbody > tr > td {\n",
       "  text-align: right;\n",
       "  white-space: pre-wrap;\n",
       "}\n",
       "</style>\n",
       "<small>shape: (5, 7)</small><table border=\"1\" class=\"dataframe\"><thead><tr><th>mon</th><th>target_1</th><th>target_2</th><th>target_3</th><th>target_4</th><th>client_id</th><th>target</th></tr><tr><td>str</td><td>i32</td><td>i32</td><td>i32</td><td>i32</td><td>str</td><td>list[i32]</td></tr></thead><tbody><tr><td>&quot;2022-12-31&quot;</td><td>0</td><td>0</td><td>0</td><td>0</td><td>&quot;06a2ce26f19242…</td><td>[0, 0, … 0]</td></tr><tr><td>&quot;2022-12-31&quot;</td><td>0</td><td>0</td><td>0</td><td>0</td><td>&quot;06d250bda1fe78…</td><td>[0, 0, … 0]</td></tr><tr><td>&quot;2022-12-31&quot;</td><td>0</td><td>0</td><td>0</td><td>0</td><td>&quot;1d0fd54040602e…</td><td>[0, 0, … 0]</td></tr><tr><td>&quot;2022-12-31&quot;</td><td>0</td><td>0</td><td>0</td><td>0</td><td>&quot;85c233cac30252…</td><td>[0, 0, … 0]</td></tr><tr><td>&quot;2022-12-31&quot;</td><td>0</td><td>0</td><td>0</td><td>0</td><td>&quot;16d2d3fbdef66b…</td><td>[0, 0, … 0]</td></tr></tbody></table></div>"
      ],
      "text/plain": [
       "shape: (5, 7)\n",
       "┌────────────┬──────────┬──────────┬──────────┬──────────┬───────────────────────────┬─────────────┐\n",
       "│ mon        ┆ target_1 ┆ target_2 ┆ target_3 ┆ target_4 ┆ client_id                 ┆ target      │\n",
       "│ ---        ┆ ---      ┆ ---      ┆ ---      ┆ ---      ┆ ---                       ┆ ---         │\n",
       "│ str        ┆ i32      ┆ i32      ┆ i32      ┆ i32      ┆ str                       ┆ list[i32]   │\n",
       "╞════════════╪══════════╪══════════╪══════════╪══════════╪═══════════════════════════╪═════════════╡\n",
       "│ 2022-12-31 ┆ 0        ┆ 0        ┆ 0        ┆ 0        ┆ 06a2ce26f192429c657a44eb0 ┆ [0, 0, … 0] │\n",
       "│            ┆          ┆          ┆          ┆          ┆ f587fc1…                  ┆             │\n",
       "│ 2022-12-31 ┆ 0        ┆ 0        ┆ 0        ┆ 0        ┆ 06d250bda1fe780a40612ba6f ┆ [0, 0, … 0] │\n",
       "│            ┆          ┆          ┆          ┆          ┆ 53a333c…                  ┆             │\n",
       "│ 2022-12-31 ┆ 0        ┆ 0        ┆ 0        ┆ 0        ┆ 1d0fd54040602e441003fae7c ┆ [0, 0, … 0] │\n",
       "│            ┆          ┆          ┆          ┆          ┆ d722920…                  ┆             │\n",
       "│ 2022-12-31 ┆ 0        ┆ 0        ┆ 0        ┆ 0        ┆ 85c233cac302527b1b5fe3139 ┆ [0, 0, … 0] │\n",
       "│            ┆          ┆          ┆          ┆          ┆ 6c7504a…                  ┆             │\n",
       "│ 2022-12-31 ┆ 0        ┆ 0        ┆ 0        ┆ 0        ┆ 16d2d3fbdef66b1af7c0f18b8 ┆ [0, 0, … 0] │\n",
       "│            ┆          ┆          ┆          ┆          ┆ 1f2a628…                  ┆             │\n",
       "└────────────┴──────────┴──────────┴──────────┴──────────┴───────────────────────────┴─────────────┘"
      ]
     },
     "execution_count": 6,
     "metadata": {},
     "output_type": "execute_result"
    }
   ],
   "source": [
    "train_target = pl.read_parquet(\"F:/chunks/train_target.pq\")\n",
    "train_target = train_target.with_columns(\n",
    "    target=pl.concat_list([f\"target_{i}\" for i in range(1, 5)])\n",
    ")\n",
    "train_target.head()"
   ]
  },
  {
   "cell_type": "code",
   "execution_count": null,
   "id": "3a6fd84a",
   "metadata": {},
   "outputs": [],
   "source": []
  },
  {
   "cell_type": "code",
   "execution_count": 7,
   "id": "a6e1224c",
   "metadata": {},
   "outputs": [
    {
     "name": "stdout",
     "output_type": "stream",
     "text": [
      "CPU times: total: 2min 14s\n",
      "Wall time: 23.5 s\n"
     ]
    },
    {
     "data": {
      "text/plain": [
       "{'month_ind': 14,\n",
       " 'day_ind': 356,\n",
       " 'src_type21': 8220,\n",
       " 'src_type22': 87,\n",
       " 'src_type31': 1617,\n",
       " 'src_type32': 88}"
      ]
     },
     "execution_count": 7,
     "metadata": {},
     "output_type": "execute_result"
    }
   ],
   "source": [
    "%%time\n",
    "\n",
    "trx_preprocessor = PolarsDataPreprocessor(\n",
    "    col_id=\"client_id\",\n",
    "    col_event_time=\"event_time\",\n",
    "    cols_category=[\"month_ind\", \"day_ind\", \"src_type21\", \"src_type22\", \"src_type31\", \"src_type32\"],\n",
    "    cols_numerical=None,\n",
    "    prefix=\"trx\",\n",
    ")\n",
    "\n",
    "train_trx = trx_preprocessor.fit_transform(train_trx)\n",
    "trx_preprocessor.get_category_dictionary_sizes()"
   ]
  },
  {
   "cell_type": "code",
   "execution_count": 8,
   "id": "5512a1cb",
   "metadata": {},
   "outputs": [
    {
     "name": "stdout",
     "output_type": "stream",
     "text": [
      "CPU times: total: 3min 48s\n",
      "Wall time: 32.3 s\n"
     ]
    },
    {
     "data": {
      "text/plain": [
       "{'month_ind': 14, 'day_ind': 356}"
      ]
     },
     "execution_count": 8,
     "metadata": {},
     "output_type": "execute_result"
    }
   ],
   "source": [
    "%%time\n",
    "\n",
    "geo_preprocessor = PolarsDataPreprocessor(\n",
    "    col_id=\"client_id\",\n",
    "    col_event_time=\"event_time\",\n",
    "    cols_category=[\"month_ind\", \"day_ind\"],\n",
    "    cols_numerical=None,\n",
    "    prefix=\"geo\",\n",
    ")\n",
    "\n",
    "train_geo = geo_preprocessor.fit_transform(train_geo)\n",
    "geo_preprocessor.get_category_dictionary_sizes()"
   ]
  },
  {
   "cell_type": "code",
   "execution_count": 9,
   "id": "e6672dd5",
   "metadata": {},
   "outputs": [
    {
     "name": "stdout",
     "output_type": "stream",
     "text": [
      "CPU times: total: 2.47 s\n",
      "Wall time: 2.06 s\n"
     ]
    },
    {
     "data": {
      "text/plain": [
       "{'month_ind': 13, 'day_ind': 365}"
      ]
     },
     "execution_count": 9,
     "metadata": {},
     "output_type": "execute_result"
    }
   ],
   "source": [
    "%%time\n",
    "\n",
    "dial_preprocessor = PolarsDataPreprocessor(\n",
    "    col_id=\"client_id\",\n",
    "    col_event_time=\"event_time\",\n",
    "    cols_category=[\"month_ind\", \"day_ind\"],\n",
    "    cols_numerical=None,\n",
    "    prefix=\"dial\",\n",
    ")\n",
    "\n",
    "train_dial = dial_preprocessor.fit_transform(train_dial)\n",
    "dial_preprocessor.get_category_dictionary_sizes()"
   ]
  },
  {
   "cell_type": "code",
   "execution_count": null,
   "id": "753c7c67",
   "metadata": {},
   "outputs": [],
   "source": []
  },
  {
   "cell_type": "code",
   "execution_count": 10,
   "id": "e5c96f9b",
   "metadata": {},
   "outputs": [],
   "source": [
    "val_trx = pl.read_parquet(\"F:/chunks/trx_val.pq\")\n",
    "val_trx = val_trx.with_columns(\n",
    "    month_ind=12 * (pl.col(\"event_time\").dt.year() - min_dt.year) + (pl.col(\"event_time\").dt.month() - min_dt.month),\n",
    "    day_ind=(pl.col(\"event_time\") - min_dt).dt.days(),\n",
    ")\n",
    "val_trx = val_trx.with_columns(\n",
    "    (pl.col(\"event_time\") - min_dt).dt.seconds()\n",
    ")\n",
    "\n",
    "val_geo = pl.read_parquet(\"F:/chunks/geo_val.pq\")\n",
    "val_geo = val_geo.with_columns(\n",
    "    month_ind=12 * (pl.col(\"event_time\").dt.year() - min_dt.year) + (pl.col(\"event_time\").dt.month() - min_dt.month),\n",
    "    day_ind=(pl.col(\"event_time\") - min_dt).dt.days(),\n",
    ")\n",
    "val_geo = val_geo.with_columns(\n",
    "    (pl.col(\"event_time\") - min_dt).dt.seconds()\n",
    ")\n",
    "\n",
    "val_dial = pl.read_parquet(\"F:/chunks/dial_val.pq\")\n",
    "val_dial = val_dial.with_columns(\n",
    "    month_ind=12 * (pl.col(\"event_time\").dt.year() - min_dt.year) + (pl.col(\"event_time\").dt.month() - min_dt.month),\n",
    "    day_ind=(pl.col(\"event_time\") - min_dt).dt.days(),\n",
    ")\n",
    "val_dial = val_dial.with_columns(\n",
    "    (pl.col(\"event_time\") - min_dt).dt.seconds()\n",
    ")"
   ]
  },
  {
   "cell_type": "code",
   "execution_count": 11,
   "id": "7bdd17fd",
   "metadata": {},
   "outputs": [],
   "source": [
    "val_target = pl.read_parquet(\"F:/chunks/val_target.pq\")\n",
    "val_target = val_target.with_columns(\n",
    "    target=pl.concat_list([f\"target_{i}\" for i in range(1, 5)])\n",
    ")"
   ]
  },
  {
   "cell_type": "code",
   "execution_count": 12,
   "id": "2134de1a",
   "metadata": {},
   "outputs": [
    {
     "name": "stdout",
     "output_type": "stream",
     "text": [
      "CPU times: total: 1min 4s\n",
      "Wall time: 5.34 s\n"
     ]
    }
   ],
   "source": [
    "%%time\n",
    "\n",
    "val_trx = trx_preprocessor.transform(val_trx)"
   ]
  },
  {
   "cell_type": "code",
   "execution_count": 13,
   "id": "e3d0faf4",
   "metadata": {},
   "outputs": [
    {
     "name": "stdout",
     "output_type": "stream",
     "text": [
      "CPU times: total: 1min 28s\n",
      "Wall time: 8.51 s\n"
     ]
    }
   ],
   "source": [
    "%%time\n",
    "\n",
    "val_geo = geo_preprocessor.transform(val_geo)"
   ]
  },
  {
   "cell_type": "code",
   "execution_count": 14,
   "id": "93e52b5c",
   "metadata": {},
   "outputs": [
    {
     "name": "stdout",
     "output_type": "stream",
     "text": [
      "CPU times: total: 1.77 s\n",
      "Wall time: 1.36 s\n"
     ]
    }
   ],
   "source": [
    "%%time\n",
    "\n",
    "val_dial = geo_preprocessor.transform(val_dial)"
   ]
  },
  {
   "cell_type": "code",
   "execution_count": null,
   "id": "c7c249d0",
   "metadata": {},
   "outputs": [],
   "source": []
  },
  {
   "cell_type": "code",
   "execution_count": 15,
   "id": "060480d3",
   "metadata": {},
   "outputs": [],
   "source": [
    "train_joined = train_trx.join(train_geo, on=\"client_id\", how=\"left\")\n",
    "train_joined = train_joined.join(train_dial, on=\"client_id\", how=\"left\")\n",
    "train_joined = train_joined.join(train_target.select((\"client_id\", \"target\")), on=\"client_id\", how=\"left\")"
   ]
  },
  {
   "cell_type": "code",
   "execution_count": 16,
   "id": "f513075d",
   "metadata": {},
   "outputs": [
    {
     "data": {
      "text/html": [
       "<div><style>\n",
       ".dataframe > thead > tr > th,\n",
       ".dataframe > tbody > tr > td {\n",
       "  text-align: right;\n",
       "  white-space: pre-wrap;\n",
       "}\n",
       "</style>\n",
       "<small>shape: (70_917, 15)</small><table border=\"1\" class=\"dataframe\"><thead><tr><th>client_id</th><th>trx_event_time</th><th>trx_month_ind</th><th>trx_day_ind</th><th>trx_src_type21</th><th>trx_src_type22</th><th>trx_src_type31</th><th>trx_src_type32</th><th>geo_event_time</th><th>geo_month_ind</th><th>geo_day_ind</th><th>dial_event_time</th><th>dial_month_ind</th><th>dial_day_ind</th><th>target</th></tr><tr><td>str</td><td>list[i64]</td><td>list[i32]</td><td>list[i32]</td><td>list[i32]</td><td>list[i32]</td><td>list[i32]</td><td>list[i32]</td><td>list[i64]</td><td>list[i32]</td><td>list[i32]</td><td>list[i64]</td><td>list[i32]</td><td>list[i32]</td><td>list[i32]</td></tr></thead><tbody><tr><td>&quot;947d6a26b3009a…</td><td>[31525212, 31616831, … 60864316]</td><td>[13, 3, … 12]</td><td>[355, 343, … 206]</td><td>[430, 430, … 430]</td><td>[7, 7, … 7]</td><td>[95, 95, … 95]</td><td>[45, 45, … 45]</td><td>[33201116, 33745421, … 48718034]</td><td>[11, 11, … 6]</td><td>[256, 292, … 99]</td><td>[43842022, 46344739, … 57738890]</td><td>[1, 6, … 7]</td><td>[255, 211, … 143]</td><td>[0, 0, … 0]</td></tr><tr><td>&quot;c92c144da66bf2…</td><td>[47471022, 47503182, … 62052592]</td><td>[5, 5, … 12]</td><td>[74, 74, … 348]</td><td>[126, 126, … 126]</td><td>[7, 7, … 7]</td><td>[265, 265, … 265]</td><td>[59, 59, … 59]</td><td>null</td><td>null</td><td>null</td><td>[54630589]</td><td>[9]</td><td>[310]</td><td>[0, 1, … 0]</td></tr><tr><td>&quot;3632d37cfd1e14…</td><td>[31525215, 31572144, … 61359432]</td><td>[13, 3, … 12]</td><td>[355, 343, … 190]</td><td>[407, 407, … 407]</td><td>[25, 25, … 25]</td><td>[650, 650, … 650]</td><td>[2, 2, … 2]</td><td>[31583389, 31930640, … 61251365]</td><td>[11, 11, … 12]</td><td>[159, 143, … 353]</td><td>[51713719, 62514384]</td><td>[5, 11]</td><td>[152, 40]</td><td>[0, 0, … 0]</td></tr><tr><td>&quot;9983a7acd58065…</td><td>[31525217, 31604544, … 61098765]</td><td>[13, 3, … 12]</td><td>[355, 343, … 205]</td><td>[2213, 2213, … 2213]</td><td>[25, 25, … 25]</td><td>[791, 791, … 791]</td><td>[15, 15, … 15]</td><td>[47575137]</td><td>[6]</td><td>[295]</td><td>null</td><td>null</td><td>null</td><td>[0, 0, … 0]</td></tr><tr><td>&quot;4d5e2ffa5bc0e8…</td><td>[31525218, 31813485, … 60730330]</td><td>[13, 3, … 12]</td><td>[355, 312, … 230]</td><td>[286, 286, … 286]</td><td>[22, 22, … 22]</td><td>[7, 7, … 7]</td><td>[7, 7, … 7]</td><td>null</td><td>null</td><td>null</td><td>[43398757, 43494215, 46090119]</td><td>[1, 1, 6]</td><td>[162, 44, 84]</td><td>[0, 0, … 0]</td></tr><tr><td>&quot;b1594d7f4a4c73…</td><td>[34582808, 34584617, … 61955899]</td><td>[1, 1, … 12]</td><td>[325, 325, … 120]</td><td>[577, 577, … 577]</td><td>[37, 37, … 37]</td><td>[454, 454, … 454]</td><td>[2, 2, … 2]</td><td>null</td><td>null</td><td>null</td><td>null</td><td>null</td><td>null</td><td>[0, 0, … 0]</td></tr><tr><td>&quot;68994d58660a3b…</td><td>[31525223, 31576174, … 61863422]</td><td>[13, 3, … 12]</td><td>[355, 343, … 189]</td><td>[3632, 3632, … 3632]</td><td>[40, 40, … 40]</td><td>[262, 262, … 262]</td><td>[50, 50, … 50]</td><td>null</td><td>null</td><td>null</td><td>[36235994, 60075919]</td><td>[8, 3]</td><td>[277, 19]</td><td>[0, 0, … 0]</td></tr><tr><td>&quot;972569de488cb5…</td><td>[31525228, 31583123, … 61837852]</td><td>[13, 3, … 12]</td><td>[355, 343, … 354]</td><td>[967, 967, … 967]</td><td>[27, 27, … 27]</td><td>[162, 162, … 162]</td><td>[12, 12, … 12]</td><td>[31865020, 31869792, … 61742402]</td><td>[11, 11, … 12]</td><td>[145, 145, … 352]</td><td>[32536832]</td><td>[12]</td><td>[218]</td><td>[0, 0, … 0]</td></tr><tr><td>&quot;30699c8dbd18e1…</td><td>[48527275, 48649066, … 60474274]</td><td>[5, 5, … 12]</td><td>[212, 314, … 134]</td><td>[491, 491, … 491]</td><td>[17, 17, … 17]</td><td>[141, 141, … 141]</td><td>[2, 2, … 2]</td><td>null</td><td>null</td><td>null</td><td>null</td><td>null</td><td>null</td><td>[0, 0, … 0]</td></tr><tr><td>&quot;03860004127bbe…</td><td>[31525231, 31540852, … 60171464]</td><td>[13, 3, … 9]</td><td>[355, 343, … 204]</td><td>[299, 299, … 299]</td><td>[24, 24, … 24]</td><td>[929, 929, … 929]</td><td>[4, 4, … 4]</td><td>[37461416, 37478499, … 61944054]</td><td>[3, 3, … 12]</td><td>[286, 286, … 346]</td><td>null</td><td>null</td><td>null</td><td>[0, 0, … 0]</td></tr><tr><td>&quot;8820f9eb7d05ba…</td><td>[50616327, 50628153, … 62078862]</td><td>[10, 10, … 12]</td><td>[28, 28, … 348]</td><td>[29, 29, … 29]</td><td>[10, 10, … 10]</td><td>[62, 62, … 62]</td><td>[2, 2, … 2]</td><td>[32200745, 32251031, … 61553257]</td><td>[11, 11, … 12]</td><td>[298, 321, … 290]</td><td>[38489138, 45672387, … 61734544]</td><td>[10, 6, … 11]</td><td>[216, 107, … 341]</td><td>[1, 0, … 0]</td></tr><tr><td>&quot;981056adeaebf0…</td><td>[31525238, 31862574, … 59485887]</td><td>[13, 3, … 9]</td><td>[355, 312, … 175]</td><td>[369, 369, … 369]</td><td>[42, 42, … 42]</td><td>[111, 111, … 111]</td><td>[22, 22, … 22]</td><td>[35749825, 35989264, … 38426177]</td><td>[10, 10, … 3]</td><td>[225, 339, … 26]</td><td>[46600251, 49794165, 58534255]</td><td>[6, 2, 3]</td><td>[61, 2, 194]</td><td>[0, 0, … 0]</td></tr><tr><td>&hellip;</td><td>&hellip;</td><td>&hellip;</td><td>&hellip;</td><td>&hellip;</td><td>&hellip;</td><td>&hellip;</td><td>&hellip;</td><td>&hellip;</td><td>&hellip;</td><td>&hellip;</td><td>&hellip;</td><td>&hellip;</td><td>&hellip;</td><td>&hellip;</td></tr><tr><td>&quot;b3103c5c328d6b…</td><td>[61456669]</td><td>[12]</td><td>[203]</td><td>[287]</td><td>[71]</td><td>[354]</td><td>[1]</td><td>[48756143, 48756844, … 61811133]</td><td>[6, 6, … 12]</td><td>[113, 113, … 316]</td><td>[59738527, 60706733, 61630178]</td><td>[3, 11, 11]</td><td>[173, 318, 335]</td><td>[0, 0, … 0]</td></tr><tr><td>&quot;70c7d0315404f9…</td><td>[61468705]</td><td>[12]</td><td>[203]</td><td>[2743]</td><td>[30]</td><td>[927]</td><td>[18]</td><td>[31763122, 32262068, … 59250670]</td><td>[11, 11, … 7]</td><td>[332, 321, … 63]</td><td>null</td><td>null</td><td>null</td><td>[0, 0, … 0]</td></tr><tr><td>&quot;e09e2a3eb4111f…</td><td>[61471351]</td><td>[12]</td><td>[203]</td><td>[423]</td><td>[1]</td><td>[152]</td><td>[2]</td><td>[32346721, 32439460, … 59653728]</td><td>[11, 11, … 7]</td><td>[322, 209, … 152]</td><td>[61021080]</td><td>[11]</td><td>[160]</td><td>[0, 0, … 0]</td></tr><tr><td>&quot;bd66abe29610c8…</td><td>[61521289]</td><td>[12]</td><td>[179]</td><td>[525]</td><td>[28]</td><td>[71]</td><td>[22]</td><td>null</td><td>null</td><td>null</td><td>null</td><td>null</td><td>null</td><td>[0, 0, … 0]</td></tr><tr><td>&quot;7165f4614c5ea1…</td><td>[61536986]</td><td>[12]</td><td>[179]</td><td>[421]</td><td>[47]</td><td>[419]</td><td>[34]</td><td>null</td><td>null</td><td>null</td><td>[57107211]</td><td>[7]</td><td>[245]</td><td>[0, 0, … 0]</td></tr><tr><td>&quot;be429603d5852d…</td><td>[61542577]</td><td>[12]</td><td>[179]</td><td>[995]</td><td>[15]</td><td>[24]</td><td>[19]</td><td>[37640518, 37703295, … 61650626]</td><td>[3, 3, … 12]</td><td>[22, 289, … 351]</td><td>null</td><td>null</td><td>null</td><td>[0, 0, … 0]</td></tr><tr><td>&quot;9ecda964df48ea…</td><td>[61690799]</td><td>[12]</td><td>[195]</td><td>[192]</td><td>[47]</td><td>[25]</td><td>[20]</td><td>null</td><td>null</td><td>null</td><td>null</td><td>null</td><td>null</td><td>[0, 0, … 0]</td></tr><tr><td>&quot;eb9834d8f96516…</td><td>[61695481]</td><td>[12]</td><td>[195]</td><td>[310]</td><td>[47]</td><td>[543]</td><td>[50]</td><td>[54547102, 54547392, … 61894942]</td><td>[2, 2, … 12]</td><td>[102, 102, … 346]</td><td>null</td><td>null</td><td>null</td><td>[0, 0, … 0]</td></tr><tr><td>&quot;067b444d66dbb5…</td><td>[61746778]</td><td>[12]</td><td>[195]</td><td>[72]</td><td>[7]</td><td>[343]</td><td>[23]</td><td>[55881207, 55928959, … 61741998]</td><td>[1, 1, … 12]</td><td>[146, 6, … 352]</td><td>null</td><td>null</td><td>null</td><td>[0, 0, … 0]</td></tr><tr><td>&quot;c52135b71cbd7c…</td><td>[61802126]</td><td>[12]</td><td>[354]</td><td>[50]</td><td>[13]</td><td>[309]</td><td>[2]</td><td>[40379443, 40383319, … 61716411]</td><td>[4, 4, … 12]</td><td>[313, 313, … 352]</td><td>null</td><td>null</td><td>null</td><td>[0, 0, … 0]</td></tr><tr><td>&quot;06f2635adf486d…</td><td>[61882385]</td><td>[12]</td><td>[189]</td><td>[489]</td><td>[18]</td><td>[62]</td><td>[2]</td><td>null</td><td>null</td><td>null</td><td>null</td><td>null</td><td>null</td><td>[0, 0, … 0]</td></tr><tr><td>&quot;067c9f6214176a…</td><td>[62072974]</td><td>[12]</td><td>[348]</td><td>[858]</td><td>[28]</td><td>[110]</td><td>[14]</td><td>[58723081, 58726500, … 62094349]</td><td>[7, 7, … 12]</td><td>[42, 42, … 355]</td><td>[52162533, 53949890]</td><td>[5, 9]</td><td>[179, 349]</td><td>[0, 0, … 0]</td></tr></tbody></table></div>"
      ],
      "text/plain": [
       "shape: (70_917, 15)\n",
       "┌───────────┬───────────┬───────────┬───────────┬───┬───────────┬───────────┬───────────┬──────────┐\n",
       "│ client_id ┆ trx_event ┆ trx_month ┆ trx_day_i ┆ … ┆ dial_even ┆ dial_mont ┆ dial_day_ ┆ target   │\n",
       "│ ---       ┆ _time     ┆ _ind      ┆ nd        ┆   ┆ t_time    ┆ h_ind     ┆ ind       ┆ ---      │\n",
       "│ str       ┆ ---       ┆ ---       ┆ ---       ┆   ┆ ---       ┆ ---       ┆ ---       ┆ list[i32 │\n",
       "│           ┆ list[i64] ┆ list[i32] ┆ list[i32] ┆   ┆ list[i64] ┆ list[i32] ┆ list[i32] ┆ ]        │\n",
       "╞═══════════╪═══════════╪═══════════╪═══════════╪═══╪═══════════╪═══════════╪═══════════╪══════════╡\n",
       "│ 947d6a26b ┆ [31525212 ┆ [13, 3, … ┆ [355,     ┆ … ┆ [43842022 ┆ [1, 6, …  ┆ [255,     ┆ [0, 0, … │\n",
       "│ 3009a91af ┆ ,         ┆ 12]       ┆ 343, …    ┆   ┆ ,         ┆ 7]        ┆ 211, …    ┆ 0]       │\n",
       "│ 32689d4d9 ┆ 31616831, ┆           ┆ 206]      ┆   ┆ 46344739, ┆           ┆ 143]      ┆          │\n",
       "│ 92d5a…    ┆ …         ┆           ┆           ┆   ┆ …         ┆           ┆           ┆          │\n",
       "│           ┆ 60864316] ┆           ┆           ┆   ┆ 57738890] ┆           ┆           ┆          │\n",
       "│ c92c144da ┆ [47471022 ┆ [5, 5, …  ┆ [74, 74,  ┆ … ┆ [54630589 ┆ [9]       ┆ [310]     ┆ [0, 1, … │\n",
       "│ 66bf21543 ┆ ,         ┆ 12]       ┆ … 348]    ┆   ┆ ]         ┆           ┆           ┆ 0]       │\n",
       "│ 93445007b ┆ 47503182, ┆           ┆           ┆   ┆           ┆           ┆           ┆          │\n",
       "│ b8f24…    ┆ …         ┆           ┆           ┆   ┆           ┆           ┆           ┆          │\n",
       "│           ┆ 62052592] ┆           ┆           ┆   ┆           ┆           ┆           ┆          │\n",
       "│ 3632d37cf ┆ [31525215 ┆ [13, 3, … ┆ [355,     ┆ … ┆ [51713719 ┆ [5, 11]   ┆ [152, 40] ┆ [0, 0, … │\n",
       "│ d1e1407e3 ┆ ,         ┆ 12]       ┆ 343, …    ┆   ┆ ,         ┆           ┆           ┆ 0]       │\n",
       "│ c70899730 ┆ 31572144, ┆           ┆ 190]      ┆   ┆ 62514384] ┆           ┆           ┆          │\n",
       "│ de83c…    ┆ …         ┆           ┆           ┆   ┆           ┆           ┆           ┆          │\n",
       "│           ┆ 61359432] ┆           ┆           ┆   ┆           ┆           ┆           ┆          │\n",
       "│ 9983a7acd ┆ [31525217 ┆ [13, 3, … ┆ [355,     ┆ … ┆ null      ┆ null      ┆ null      ┆ [0, 0, … │\n",
       "│ 5806554b8 ┆ ,         ┆ 12]       ┆ 343, …    ┆   ┆           ┆           ┆           ┆ 0]       │\n",
       "│ b79bf35b1 ┆ 31604544, ┆           ┆ 205]      ┆   ┆           ┆           ┆           ┆          │\n",
       "│ cee62…    ┆ …         ┆           ┆           ┆   ┆           ┆           ┆           ┆          │\n",
       "│           ┆ 61098765] ┆           ┆           ┆   ┆           ┆           ┆           ┆          │\n",
       "│ …         ┆ …         ┆ …         ┆ …         ┆ … ┆ …         ┆ …         ┆ …         ┆ …        │\n",
       "│ 067b444d6 ┆ [61746778 ┆ [12]      ┆ [195]     ┆ … ┆ null      ┆ null      ┆ null      ┆ [0, 0, … │\n",
       "│ 6dbb5548d ┆ ]         ┆           ┆           ┆   ┆           ┆           ┆           ┆ 0]       │\n",
       "│ 27a5dc4bd ┆           ┆           ┆           ┆   ┆           ┆           ┆           ┆          │\n",
       "│ 43a36…    ┆           ┆           ┆           ┆   ┆           ┆           ┆           ┆          │\n",
       "│ c52135b71 ┆ [61802126 ┆ [12]      ┆ [354]     ┆ … ┆ null      ┆ null      ┆ null      ┆ [0, 0, … │\n",
       "│ cbd7cf45e ┆ ]         ┆           ┆           ┆   ┆           ┆           ┆           ┆ 0]       │\n",
       "│ 7f285c8ac ┆           ┆           ┆           ┆   ┆           ┆           ┆           ┆          │\n",
       "│ 79ac7…    ┆           ┆           ┆           ┆   ┆           ┆           ┆           ┆          │\n",
       "│ 06f2635ad ┆ [61882385 ┆ [12]      ┆ [189]     ┆ … ┆ null      ┆ null      ┆ null      ┆ [0, 0, … │\n",
       "│ f486dddcf ┆ ]         ┆           ┆           ┆   ┆           ┆           ┆           ┆ 0]       │\n",
       "│ e20edb958 ┆           ┆           ┆           ┆   ┆           ┆           ┆           ┆          │\n",
       "│ 3f2bc…    ┆           ┆           ┆           ┆   ┆           ┆           ┆           ┆          │\n",
       "│ 067c9f621 ┆ [62072974 ┆ [12]      ┆ [348]     ┆ … ┆ [52162533 ┆ [5, 9]    ┆ [179,     ┆ [0, 0, … │\n",
       "│ 4176ac2bb ┆ ]         ┆           ┆           ┆   ┆ ,         ┆           ┆ 349]      ┆ 0]       │\n",
       "│ 3605c0da2 ┆           ┆           ┆           ┆   ┆ 53949890] ┆           ┆           ┆          │\n",
       "│ f0980…    ┆           ┆           ┆           ┆   ┆           ┆           ┆           ┆          │\n",
       "└───────────┴───────────┴───────────┴───────────┴───┴───────────┴───────────┴───────────┴──────────┘"
      ]
     },
     "execution_count": 16,
     "metadata": {},
     "output_type": "execute_result"
    }
   ],
   "source": [
    "train_joined"
   ]
  },
  {
   "cell_type": "code",
   "execution_count": 17,
   "id": "1cc1bc6d",
   "metadata": {},
   "outputs": [],
   "source": [
    "val_joined = val_trx.join(val_geo, on=\"client_id\", how=\"left\")\n",
    "val_joined = val_joined.join(val_dial, on=\"client_id\", how=\"left\")\n",
    "val_joined = val_joined.join(val_target.select((\"client_id\", \"target\")), on=\"client_id\", how=\"left\")"
   ]
  },
  {
   "cell_type": "code",
   "execution_count": null,
   "id": "60b06558",
   "metadata": {},
   "outputs": [],
   "source": []
  },
  {
   "cell_type": "code",
   "execution_count": 18,
   "id": "fddc2447",
   "metadata": {},
   "outputs": [],
   "source": [
    "from tqdm.auto import tqdm"
   ]
  },
  {
   "cell_type": "code",
   "execution_count": 19,
   "id": "5d55f108",
   "metadata": {},
   "outputs": [],
   "source": [
    "import torch"
   ]
  },
  {
   "cell_type": "code",
   "execution_count": 20,
   "id": "5485ed45",
   "metadata": {},
   "outputs": [
    {
     "data": {
      "application/vnd.jupyter.widget-view+json": {
       "model_id": "6e83d09b9f4a4747b7acb312fca29118",
       "version_major": 2,
       "version_minor": 0
      },
      "text/plain": [
       "  0%|          | 0/70917 [00:00<?, ?it/s]"
      ]
     },
     "metadata": {},
     "output_type": "display_data"
    },
    {
     "data": {
      "application/vnd.jupyter.widget-view+json": {
       "model_id": "a22cf88ee505445ab8dc3d8b19f253c2",
       "version_major": 2,
       "version_minor": 0
      },
      "text/plain": [
       "  0%|          | 0/70917 [00:00<?, ?it/s]"
      ]
     },
     "metadata": {},
     "output_type": "display_data"
    },
    {
     "data": {
      "application/vnd.jupyter.widget-view+json": {
       "model_id": "37ff25678829469d94cd75364c78e118",
       "version_major": 2,
       "version_minor": 0
      },
      "text/plain": [
       "  0%|          | 0/70917 [00:00<?, ?it/s]"
      ]
     },
     "metadata": {},
     "output_type": "display_data"
    },
    {
     "data": {
      "application/vnd.jupyter.widget-view+json": {
       "model_id": "fdaed581d054427392295044cdef9a56",
       "version_major": 2,
       "version_minor": 0
      },
      "text/plain": [
       "  0%|          | 0/70917 [00:00<?, ?it/s]"
      ]
     },
     "metadata": {},
     "output_type": "display_data"
    },
    {
     "data": {
      "application/vnd.jupyter.widget-view+json": {
       "model_id": "cdc41ebae5f04c57ba3ce584fa3ce7b3",
       "version_major": 2,
       "version_minor": 0
      },
      "text/plain": [
       "  0%|          | 0/70917 [00:00<?, ?it/s]"
      ]
     },
     "metadata": {},
     "output_type": "display_data"
    },
    {
     "data": {
      "application/vnd.jupyter.widget-view+json": {
       "model_id": "3adb3ba9f3a4456185f8000ad164d012",
       "version_major": 2,
       "version_minor": 0
      },
      "text/plain": [
       "  0%|          | 0/70917 [00:00<?, ?it/s]"
      ]
     },
     "metadata": {},
     "output_type": "display_data"
    },
    {
     "data": {
      "application/vnd.jupyter.widget-view+json": {
       "model_id": "7cade6da60b4484eb4be89e08aca60dd",
       "version_major": 2,
       "version_minor": 0
      },
      "text/plain": [
       "  0%|          | 0/70917 [00:00<?, ?it/s]"
      ]
     },
     "metadata": {},
     "output_type": "display_data"
    },
    {
     "data": {
      "application/vnd.jupyter.widget-view+json": {
       "model_id": "ec47f9cf4fb140dabb7cb61ad5e55377",
       "version_major": 2,
       "version_minor": 0
      },
      "text/plain": [
       "  0%|          | 0/70917 [00:00<?, ?it/s]"
      ]
     },
     "metadata": {},
     "output_type": "display_data"
    },
    {
     "data": {
      "application/vnd.jupyter.widget-view+json": {
       "model_id": "68bd9dd3aedd4d678b792c42ea61b89f",
       "version_major": 2,
       "version_minor": 0
      },
      "text/plain": [
       "  0%|          | 0/70917 [00:00<?, ?it/s]"
      ]
     },
     "metadata": {},
     "output_type": "display_data"
    },
    {
     "data": {
      "application/vnd.jupyter.widget-view+json": {
       "model_id": "b8be6f91dae943c0aa10324c834ef07c",
       "version_major": 2,
       "version_minor": 0
      },
      "text/plain": [
       "  0%|          | 0/70917 [00:00<?, ?it/s]"
      ]
     },
     "metadata": {},
     "output_type": "display_data"
    },
    {
     "data": {
      "application/vnd.jupyter.widget-view+json": {
       "model_id": "ff0e9129021a4d93926cbb1ab97d7217",
       "version_major": 2,
       "version_minor": 0
      },
      "text/plain": [
       "  0%|          | 0/70917 [00:00<?, ?it/s]"
      ]
     },
     "metadata": {},
     "output_type": "display_data"
    },
    {
     "data": {
      "application/vnd.jupyter.widget-view+json": {
       "model_id": "874518acdf6f4183b6bd232fe7fb0b5b",
       "version_major": 2,
       "version_minor": 0
      },
      "text/plain": [
       "  0%|          | 0/70917 [00:00<?, ?it/s]"
      ]
     },
     "metadata": {},
     "output_type": "display_data"
    },
    {
     "data": {
      "application/vnd.jupyter.widget-view+json": {
       "model_id": "445dbdee52f24d14afc112b3f258cc07",
       "version_major": 2,
       "version_minor": 0
      },
      "text/plain": [
       "  0%|          | 0/70917 [00:00<?, ?it/s]"
      ]
     },
     "metadata": {},
     "output_type": "display_data"
    },
    {
     "data": {
      "application/vnd.jupyter.widget-view+json": {
       "model_id": "7a6556ae775b4925a17f2a60ae9aa7fd",
       "version_major": 2,
       "version_minor": 0
      },
      "text/plain": [
       "  0%|          | 0/70917 [00:00<?, ?it/s]"
      ]
     },
     "metadata": {},
     "output_type": "display_data"
    }
   ],
   "source": [
    "train_dict = []\n",
    "for _ in range(len(train_joined)):\n",
    "    train_dict.append({})\n",
    "    \n",
    "for col, dtype in zip(train_joined.columns, train_joined.dtypes):\n",
    "    if col == \"client_id\":\n",
    "        continue\n",
    "    if col == \"target\":\n",
    "        for i, value in enumerate(tqdm(train_joined[col])):\n",
    "            train_dict[i][col] = value.to_list()\n",
    "    elif dtype == pl.List:\n",
    "        for i, value in enumerate(tqdm(train_joined[col].fill_null([]))):\n",
    "            train_dict[i][col] = torch.tensor(value.to_numpy())\n",
    "    else:\n",
    "        assert False"
   ]
  },
  {
   "cell_type": "code",
   "execution_count": 21,
   "id": "7e80377d",
   "metadata": {},
   "outputs": [
    {
     "data": {
      "application/vnd.jupyter.widget-view+json": {
       "model_id": "2c6d5e374a1a42ec9629301c5aee96d4",
       "version_major": 2,
       "version_minor": 0
      },
      "text/plain": [
       "  0%|          | 0/34511 [00:00<?, ?it/s]"
      ]
     },
     "metadata": {},
     "output_type": "display_data"
    },
    {
     "data": {
      "application/vnd.jupyter.widget-view+json": {
       "model_id": "b6c6bc310c404ee49efe6cdf78875cf8",
       "version_major": 2,
       "version_minor": 0
      },
      "text/plain": [
       "  0%|          | 0/34511 [00:00<?, ?it/s]"
      ]
     },
     "metadata": {},
     "output_type": "display_data"
    },
    {
     "data": {
      "application/vnd.jupyter.widget-view+json": {
       "model_id": "d3a2d56cea1144afa48f1f5cc5817291",
       "version_major": 2,
       "version_minor": 0
      },
      "text/plain": [
       "  0%|          | 0/34511 [00:00<?, ?it/s]"
      ]
     },
     "metadata": {},
     "output_type": "display_data"
    },
    {
     "data": {
      "application/vnd.jupyter.widget-view+json": {
       "model_id": "b016219684df475b880a5a2b3e80c5ab",
       "version_major": 2,
       "version_minor": 0
      },
      "text/plain": [
       "  0%|          | 0/34511 [00:00<?, ?it/s]"
      ]
     },
     "metadata": {},
     "output_type": "display_data"
    },
    {
     "data": {
      "application/vnd.jupyter.widget-view+json": {
       "model_id": "545c1f7d504b47ffaa09a41fdbb5b3e0",
       "version_major": 2,
       "version_minor": 0
      },
      "text/plain": [
       "  0%|          | 0/34511 [00:00<?, ?it/s]"
      ]
     },
     "metadata": {},
     "output_type": "display_data"
    },
    {
     "data": {
      "application/vnd.jupyter.widget-view+json": {
       "model_id": "d33b5d86d1e2412b82d6719a4a02ac2d",
       "version_major": 2,
       "version_minor": 0
      },
      "text/plain": [
       "  0%|          | 0/34511 [00:00<?, ?it/s]"
      ]
     },
     "metadata": {},
     "output_type": "display_data"
    },
    {
     "data": {
      "application/vnd.jupyter.widget-view+json": {
       "model_id": "8f24bcfdd31f4967b322827ebff87736",
       "version_major": 2,
       "version_minor": 0
      },
      "text/plain": [
       "  0%|          | 0/34511 [00:00<?, ?it/s]"
      ]
     },
     "metadata": {},
     "output_type": "display_data"
    },
    {
     "data": {
      "application/vnd.jupyter.widget-view+json": {
       "model_id": "ce540bd872dc4ab299e9f0022944a502",
       "version_major": 2,
       "version_minor": 0
      },
      "text/plain": [
       "  0%|          | 0/34511 [00:00<?, ?it/s]"
      ]
     },
     "metadata": {},
     "output_type": "display_data"
    },
    {
     "data": {
      "application/vnd.jupyter.widget-view+json": {
       "model_id": "4e8f4da93b7c45ea828901c3cf99c9f6",
       "version_major": 2,
       "version_minor": 0
      },
      "text/plain": [
       "  0%|          | 0/34511 [00:00<?, ?it/s]"
      ]
     },
     "metadata": {},
     "output_type": "display_data"
    },
    {
     "data": {
      "application/vnd.jupyter.widget-view+json": {
       "model_id": "6a4b9417a3be4785aded2eec9c28071e",
       "version_major": 2,
       "version_minor": 0
      },
      "text/plain": [
       "  0%|          | 0/34511 [00:00<?, ?it/s]"
      ]
     },
     "metadata": {},
     "output_type": "display_data"
    },
    {
     "data": {
      "application/vnd.jupyter.widget-view+json": {
       "model_id": "1d6744afd11b441881334f4b67687c23",
       "version_major": 2,
       "version_minor": 0
      },
      "text/plain": [
       "  0%|          | 0/34511 [00:00<?, ?it/s]"
      ]
     },
     "metadata": {},
     "output_type": "display_data"
    },
    {
     "data": {
      "application/vnd.jupyter.widget-view+json": {
       "model_id": "a432761613ae485abaccfc11e7e619ac",
       "version_major": 2,
       "version_minor": 0
      },
      "text/plain": [
       "  0%|          | 0/34511 [00:00<?, ?it/s]"
      ]
     },
     "metadata": {},
     "output_type": "display_data"
    },
    {
     "data": {
      "application/vnd.jupyter.widget-view+json": {
       "model_id": "4e4ec7d257f5418e965c3f9a813a81cb",
       "version_major": 2,
       "version_minor": 0
      },
      "text/plain": [
       "  0%|          | 0/34511 [00:00<?, ?it/s]"
      ]
     },
     "metadata": {},
     "output_type": "display_data"
    },
    {
     "data": {
      "application/vnd.jupyter.widget-view+json": {
       "model_id": "00b451e133084c1da08ad59fb73e5e96",
       "version_major": 2,
       "version_minor": 0
      },
      "text/plain": [
       "  0%|          | 0/34511 [00:00<?, ?it/s]"
      ]
     },
     "metadata": {},
     "output_type": "display_data"
    }
   ],
   "source": [
    "val_dict = []\n",
    "for _ in range(len(val_joined)):\n",
    "    val_dict.append({})\n",
    "    \n",
    "for col, dtype in zip(val_joined.columns, val_joined.dtypes):\n",
    "    if col == \"client_id\":\n",
    "        continue\n",
    "    if col == \"target\":\n",
    "        for i, value in enumerate(tqdm(val_joined[col])):\n",
    "            val_dict[i][col] = value.to_list()\n",
    "    elif dtype == pl.List:\n",
    "        for i, value in enumerate(tqdm(val_joined[col].fill_null([]))):\n",
    "            val_dict[i][col] = torch.tensor(value.to_numpy())\n",
    "    else:\n",
    "        assert False"
   ]
  },
  {
   "cell_type": "code",
   "execution_count": null,
   "id": "8f31c64c",
   "metadata": {},
   "outputs": [],
   "source": []
  },
  {
   "cell_type": "code",
   "execution_count": 22,
   "id": "8add572c",
   "metadata": {},
   "outputs": [],
   "source": [
    "source_features = {\n",
    "    \"trx\": [\"event_time\", \"month_ind\", \"day_ind\", \"src_type21\", \"src_type22\", \"src_type31\", \"src_type32\"],\n",
    "    \"geo\": [\"event_time\", \"month_ind\", \"day_ind\"],\n",
    "    \"dial\": [\"event_time\", \"month_ind\", \"day_ind\"],\n",
    "}"
   ]
  },
  {
   "cell_type": "code",
   "execution_count": 23,
   "id": "4a9d1049",
   "metadata": {},
   "outputs": [],
   "source": [
    "from ptls.frames.coles.multimodal_supervised_dataset import MultiModalSupervisedIterableDataset"
   ]
  },
  {
   "cell_type": "code",
   "execution_count": 24,
   "id": "d7453d10",
   "metadata": {},
   "outputs": [],
   "source": [
    "train_multimodal_data = MultiModalSupervisedIterableDataset(\n",
    "    data=train_dict,\n",
    "    source_features=source_features,\n",
    "    source_names=source_features.keys(),\n",
    "    col_id=\"client_id\",\n",
    "    col_time=\"event_time\",\n",
    "    target_name=\"target\",\n",
    ")"
   ]
  },
  {
   "cell_type": "code",
   "execution_count": 25,
   "id": "6273c2b6",
   "metadata": {},
   "outputs": [
    {
     "data": {
      "text/plain": [
       "{'trx': [{'event_time': tensor([31525212, 31616831, 31959543, 32167040, 32442901, 32572970, 32862376,\n",
       "           32897657, 32898247, 32961263, 32998517, 33117113, 33163777, 33288092,\n",
       "           33372746, 33378610, 33418187, 33541386, 33633857, 33691210, 33895955,\n",
       "           33994765, 34204995, 34256049, 34351251, 34383191, 34491077, 34635565,\n",
       "           34671312, 34804328, 34854685, 34889357, 34959836, 34982551, 35109893,\n",
       "           35122146, 35151133, 35237479, 35409282, 35454314, 35617820, 35667957,\n",
       "           35704539, 35836009, 35884795, 35964083, 35973571, 36027979, 36065229,\n",
       "           36090267, 36141634, 36413699, 36502577, 36671946, 37276397, 37317446,\n",
       "           37495343, 37611697, 37612973, 37749373, 38001833, 38014404, 38040378,\n",
       "           38045092, 38050794, 38134785, 38139463, 38182918, 38338898, 38339712,\n",
       "           38345338, 38483974, 38498753, 38502932, 38523914, 38582127, 38654667,\n",
       "           38697099, 38737733, 38752137, 38876770, 38912306, 38945600, 38997727,\n",
       "           39045120, 39086307, 39088504, 39248816, 39258978, 39345990, 39389831,\n",
       "           39431768, 39434542, 39473960, 40075525, 40112615, 40207907, 40212439,\n",
       "           40245585, 40290353, 40515188, 40543955, 40549341, 40602004, 40685803,\n",
       "           40732767, 40901984, 40959836, 40988804, 41066051, 41081400, 41370375,\n",
       "           41384965, 41421348, 41463769, 41506301, 41760980, 42059914, 42109135,\n",
       "           42112115, 42116932, 42313226, 42460696, 42721691, 42891667, 42975155,\n",
       "           43062019, 43085021, 43230122, 43320791, 43437552, 43485512, 43595361,\n",
       "           43743312, 43844509, 43914928, 43923462, 44105364, 44306844, 44349389,\n",
       "           44480162, 44484553, 44557514, 44653916, 44960377, 44988754, 45064920,\n",
       "           45134526, 45563523, 45736194, 45778762, 45844567, 45934715, 46248236,\n",
       "           46340192, 46847668, 46860264, 46881787, 47123108, 47283918, 47373940,\n",
       "           47375769, 47460948, 48028140, 48028374, 48133314, 48194403, 48272795,\n",
       "           48286670, 48415226, 48598635, 48657319, 48713339, 48757422, 48758859,\n",
       "           48759591, 48895958, 49072074, 49254887, 49440373, 49443252, 49499208,\n",
       "           49575949, 49677535, 49751462, 49893889, 50012433, 50180705, 50239993,\n",
       "           50316689, 50372008, 50413203, 50419506, 50419994, 50678130, 50778565,\n",
       "           50897585, 51016171, 51055220, 51392108, 51576410, 51838201, 52007166,\n",
       "           53215925, 53221049, 53303775, 53601354, 53688338, 53717613, 53921999,\n",
       "           54301432, 54308528, 54605455, 54642234, 54730728, 54850204, 54860059,\n",
       "           54930839, 55002188, 55153584, 55155669, 55380212, 55542925, 55873981,\n",
       "           56405921, 56488843, 56710647, 56973498, 57355906, 57419320, 57637862,\n",
       "           57849411, 57865915, 58189259, 58287926, 58543625, 58873226, 59158152,\n",
       "           59323507, 59412333, 59590697, 60010673, 60093933, 60182693, 60432668,\n",
       "           60628148, 60698513, 60774304, 60864316]),\n",
       "   'month_ind': tensor([13,  3,  3,  3,  3,  3,  3,  3,  3,  3,  3,  3,  3,  3,  3,  3,  3,  3,\n",
       "            3,  3,  3,  3,  3,  1,  1,  1,  1,  1,  1,  1,  1,  1,  1,  1,  1,  1,\n",
       "            1,  1,  1,  1,  1,  1,  1,  1,  1,  1,  1,  1,  1,  1,  1,  1,  1,  2,\n",
       "            2,  2,  2,  2,  2,  2,  2,  2,  2,  2,  2,  2,  2,  2,  2,  2,  2,  2,\n",
       "            2,  2,  2,  2,  2,  2,  2,  2,  2,  2,  2,  2,  2,  2,  2,  2,  2,  4,\n",
       "            4,  4,  4,  4,  4,  4,  4,  4,  4,  4,  4,  4,  4,  4,  4,  4,  4,  4,\n",
       "            4,  4,  4,  4,  4,  4,  4,  4,  4,  6,  6,  6,  6,  6,  6,  6,  6,  6,\n",
       "            6,  6,  6,  6,  6,  6,  6,  6,  6,  6,  6,  6,  6,  6,  6,  6,  6,  7,\n",
       "            7,  7,  7,  7,  7,  7,  7,  7,  7,  7,  7,  7,  7,  7,  7,  5,  5,  5,\n",
       "            5,  5,  5,  5,  5,  5,  5,  5,  5,  5,  5,  5,  5,  5,  5,  5,  5,  5,\n",
       "            5,  5,  5,  5,  5, 10, 10, 10, 10, 10, 10, 10, 10, 10, 10, 10, 10, 10,\n",
       "           10, 10, 10, 10, 10, 11, 11, 11, 11, 11, 11, 11, 11, 11, 11, 11, 11, 11,\n",
       "           11, 11, 11,  8,  8,  8,  8,  8,  8,  8,  8,  8,  8,  8,  8,  9,  9,  9,\n",
       "            9,  9,  9,  9,  9,  9,  9,  9,  9,  9, 12, 12, 12, 12, 12],\n",
       "          dtype=torch.int32),\n",
       "   'day_ind': tensor([355, 343, 247, 236,   4, 313, 222, 222, 222, 241, 241,  10,  10, 215,\n",
       "           218, 218, 218, 213,  13,  13,  17,  56,  73, 268, 251, 251, 242, 325,\n",
       "           209, 248, 245, 245, 288, 288, 302, 302, 302, 318, 326,   1,  83,  83,\n",
       "           335, 274, 254, 279, 279, 279, 109, 109,  59, 216, 260, 228,  35,  35,\n",
       "           301, 243, 243,  33,  75,  75,   2,   2,   2, 159, 159, 159,  11,  11,\n",
       "            11,  39,  39,  39,  39, 264, 155, 155, 299, 299,  79, 269, 269, 259,\n",
       "           259, 150, 150,  52,  52, 273, 273, 294, 294, 294,  15,   6,  61,  61,\n",
       "            61, 127,  51, 102, 102, 102, 162, 129, 327, 111, 111,  67,  67, 341,\n",
       "           341, 217, 217,  99, 261, 107,  40,  40,  40,  46,  53, 336,  93,  23,\n",
       "           100, 100, 103, 151, 234, 123,  68,  12,  55, 250, 250,  41,  42,  54,\n",
       "           305, 305, 104, 233, 239, 239,  85, 237, 345, 252, 252,  62, 219, 258,\n",
       "           170, 332, 332, 332, 101, 320,   7,   7,  74, 346, 346,  18,  18, 342,\n",
       "           342, 130, 128, 314, 314, 137, 137, 137, 307,  50, 226, 300, 300, 300,\n",
       "           329, 353,  65, 347, 202, 110, 280, 220, 337, 337, 337, 337, 238, 276,\n",
       "           229,  91,  91, 135,  31, 143, 139, 285, 285, 304, 310, 315, 315, 227,\n",
       "           244, 244, 214, 214,  92, 253, 253, 172, 154,  94,  94, 271,  87, 187,\n",
       "           152, 122, 126, 180, 144,  66, 149,  96,  96, 148, 171, 176, 167, 193,\n",
       "           183, 147, 125, 192,  24, 204, 134, 191, 230, 178, 206],\n",
       "          dtype=torch.int32),\n",
       "   'src_type21': tensor([430, 430, 430, 430, 430, 430, 430, 430, 430, 430, 430, 430, 430, 430,\n",
       "           430, 430, 430, 430, 430, 430, 430, 430, 430, 430, 430, 430, 430, 430,\n",
       "           430, 430, 430, 430, 430, 430, 430, 430, 430, 430, 430, 430, 430, 430,\n",
       "           430, 430, 430, 430, 430, 430, 430, 430, 430, 430, 430, 430, 430, 430,\n",
       "           430, 430, 430, 430, 430, 430, 430, 430, 430, 430, 430, 430, 430, 430,\n",
       "           430, 430, 430, 430, 430, 430, 430, 430, 430, 430, 430, 430, 430, 430,\n",
       "           430, 430, 430, 430, 430, 430, 430, 430, 430, 430, 430, 430, 430, 430,\n",
       "           430, 430, 430, 430, 430, 430, 430, 430, 430, 430, 430, 430, 430, 430,\n",
       "           430, 430, 430, 430, 430, 430, 430, 430, 430, 430, 430, 430, 430, 430,\n",
       "           430, 430, 430, 430, 430, 430, 430, 430, 430, 430, 430, 430, 430, 430,\n",
       "           430, 430, 430, 430, 430, 430, 430, 430, 430, 430, 430, 430, 430, 430,\n",
       "           430, 430, 430, 430, 430, 430, 430, 430, 430, 430, 430, 430, 430, 430,\n",
       "           430, 430, 430, 430, 430, 430, 430, 430, 430, 430, 430, 430, 430, 430,\n",
       "           430, 430, 430, 430, 430, 430, 430, 430, 430, 430, 430, 430, 430, 430,\n",
       "           430, 430, 430, 430, 430, 430, 430, 430, 430, 430, 430, 430, 430, 430,\n",
       "           430, 430, 430, 430, 430, 430, 430, 430, 430, 430, 430, 430, 430, 430,\n",
       "           430, 430, 430, 430, 430, 430, 430, 430, 430, 430, 430, 430, 430, 430,\n",
       "           430, 430, 430, 430, 430, 430, 430, 430, 430, 430, 430],\n",
       "          dtype=torch.int32),\n",
       "   'src_type22': tensor([7, 7, 7, 7, 7, 7, 7, 7, 7, 7, 7, 7, 7, 7, 7, 7, 7, 7, 7, 7, 7, 7, 7, 7,\n",
       "           7, 7, 7, 7, 7, 7, 7, 7, 7, 7, 7, 7, 7, 7, 7, 7, 7, 7, 7, 7, 7, 7, 7, 7,\n",
       "           7, 7, 7, 7, 7, 7, 7, 7, 7, 7, 7, 7, 7, 7, 7, 7, 7, 7, 7, 7, 7, 7, 7, 7,\n",
       "           7, 7, 7, 7, 7, 7, 7, 7, 7, 7, 7, 7, 7, 7, 7, 7, 7, 7, 7, 7, 7, 7, 7, 7,\n",
       "           7, 7, 7, 7, 7, 7, 7, 7, 7, 7, 7, 7, 7, 7, 7, 7, 7, 7, 7, 7, 7, 7, 7, 7,\n",
       "           7, 7, 7, 7, 7, 7, 7, 7, 7, 7, 7, 7, 7, 7, 7, 7, 7, 7, 7, 7, 7, 7, 7, 7,\n",
       "           7, 7, 7, 7, 7, 7, 7, 7, 7, 7, 7, 7, 7, 7, 7, 7, 7, 7, 7, 7, 7, 7, 7, 7,\n",
       "           7, 7, 7, 7, 7, 7, 7, 7, 7, 7, 7, 7, 7, 7, 7, 7, 7, 7, 7, 7, 7, 7, 7, 7,\n",
       "           7, 7, 7, 7, 7, 7, 7, 7, 7, 7, 7, 7, 7, 7, 7, 7, 7, 7, 7, 7, 7, 7, 7, 7,\n",
       "           7, 7, 7, 7, 7, 7, 7, 7, 7, 7, 7, 7, 7, 7, 7, 7, 7, 7, 7, 7, 7, 7, 7, 7,\n",
       "           7, 7, 7, 7, 7, 7, 7, 7, 7], dtype=torch.int32),\n",
       "   'src_type31': tensor([95, 95, 95, 95, 95, 95, 95, 95, 95, 95, 95, 95, 95, 95, 95, 95, 95, 95,\n",
       "           95, 95, 95, 95, 95, 95, 95, 95, 95, 95, 95, 95, 95, 95, 95, 95, 95, 95,\n",
       "           95, 95, 95, 95, 95, 95, 95, 95, 95, 95, 95, 95, 95, 95, 95, 95, 95, 95,\n",
       "           95, 95, 95, 95, 95, 95, 95, 95, 95, 95, 95, 95, 95, 95, 95, 95, 95, 95,\n",
       "           95, 95, 95, 95, 95, 95, 95, 95, 95, 95, 95, 95, 95, 95, 95, 95, 95, 95,\n",
       "           95, 95, 95, 95, 95, 95, 95, 95, 95, 95, 95, 95, 95, 95, 95, 95, 95, 95,\n",
       "           95, 95, 95, 95, 95, 95, 95, 95, 95, 95, 95, 95, 95, 95, 95, 95, 95, 95,\n",
       "           95, 95, 95, 95, 95, 95, 95, 95, 95, 95, 95, 95, 95, 95, 95, 95, 95, 95,\n",
       "           95, 95, 95, 95, 95, 95, 95, 95, 95, 95, 95, 95, 95, 95, 95, 95, 95, 95,\n",
       "           95, 95, 95, 95, 95, 95, 95, 95, 95, 95, 95, 95, 95, 95, 95, 95, 95, 95,\n",
       "           95, 95, 95, 95, 95, 95, 95, 95, 95, 95, 95, 95, 95, 95, 95, 95, 95, 95,\n",
       "           95, 95, 95, 95, 95, 95, 95, 95, 95, 95, 95, 95, 95, 95, 95, 95, 95, 95,\n",
       "           95, 95, 95, 95, 95, 95, 95, 95, 95, 95, 95, 95, 95, 95, 95, 95, 95, 95,\n",
       "           95, 95, 95, 95, 95, 95, 95, 95, 95, 95, 95, 95, 95, 95, 95],\n",
       "          dtype=torch.int32),\n",
       "   'src_type32': tensor([45, 45, 45, 45, 45, 45, 45, 45, 45, 45, 45, 45, 45, 45, 45, 45, 45, 45,\n",
       "           45, 45, 45, 45, 45, 45, 45, 45, 45, 45, 45, 45, 45, 45, 45, 45, 45, 45,\n",
       "           45, 45, 45, 45, 45, 45, 45, 45, 45, 45, 45, 45, 45, 45, 45, 45, 45, 45,\n",
       "           45, 45, 45, 45, 45, 45, 45, 45, 45, 45, 45, 45, 45, 45, 45, 45, 45, 45,\n",
       "           45, 45, 45, 45, 45, 45, 45, 45, 45, 45, 45, 45, 45, 45, 45, 45, 45, 45,\n",
       "           45, 45, 45, 45, 45, 45, 45, 45, 45, 45, 45, 45, 45, 45, 45, 45, 45, 45,\n",
       "           45, 45, 45, 45, 45, 45, 45, 45, 45, 45, 45, 45, 45, 45, 45, 45, 45, 45,\n",
       "           45, 45, 45, 45, 45, 45, 45, 45, 45, 45, 45, 45, 45, 45, 45, 45, 45, 45,\n",
       "           45, 45, 45, 45, 45, 45, 45, 45, 45, 45, 45, 45, 45, 45, 45, 45, 45, 45,\n",
       "           45, 45, 45, 45, 45, 45, 45, 45, 45, 45, 45, 45, 45, 45, 45, 45, 45, 45,\n",
       "           45, 45, 45, 45, 45, 45, 45, 45, 45, 45, 45, 45, 45, 45, 45, 45, 45, 45,\n",
       "           45, 45, 45, 45, 45, 45, 45, 45, 45, 45, 45, 45, 45, 45, 45, 45, 45, 45,\n",
       "           45, 45, 45, 45, 45, 45, 45, 45, 45, 45, 45, 45, 45, 45, 45, 45, 45, 45,\n",
       "           45, 45, 45, 45, 45, 45, 45, 45, 45, 45, 45, 45, 45, 45, 45],\n",
       "          dtype=torch.int32)}],\n",
       " 'geo': [{'event_time': tensor([33201116, 33745421, 36926210, 36991861, 39357440, 39941737, 40116878,\n",
       "           40810842, 42972411, 42996562, 43173151, 43821419, 44375853, 44714822,\n",
       "           44818450, 45591109, 45847927, 46081156, 46110176, 46358853, 46977568,\n",
       "           47232251, 47317834, 48519052, 48718034]),\n",
       "   'month_ind': tensor([11, 11,  3,  3,  4,  4,  4,  4,  9,  9,  9,  9,  9,  8,  8,  8,  8,  8,\n",
       "            8,  8,  8,  6,  6,  6,  6], dtype=torch.int32),\n",
       "   'day_ind': tensor([256, 292, 234, 312, 196,  92,  20, 270, 233, 233, 111, 243, 203, 168,\n",
       "           310, 318,  52, 173, 173, 190, 161, 336, 129,  70,  99],\n",
       "          dtype=torch.int32)}],\n",
       " 'dial': [{'event_time': tensor([43842022, 46344739, 49028446, 49206037, 49636750, 49798553, 49968711,\n",
       "           50389527, 50409086, 50417689, 50420923, 50683253, 50843168, 51083083,\n",
       "           51100171, 51365609, 51876417, 52312619, 52393217, 52400992, 52482405,\n",
       "           53613051, 56705193, 57221379, 57584938, 57738890]),\n",
       "   'month_ind': tensor([1, 6, 2, 2, 2, 2, 5, 5, 5, 5, 5, 5, 5, 5, 5, 5, 5, 5, 5, 5, 5, 9, 7, 7,\n",
       "           7, 7], dtype=torch.int32),\n",
       "   'day_ind': tensor([255, 211,  15, 311,   6,   2, 181, 185, 185, 185, 185,  18,  73,  72,\n",
       "            72,   5, 223,   7, 212, 212, 128, 151, 158, 353, 284, 143],\n",
       "          dtype=torch.int32)}],\n",
       " 'target': [[0, 0, 0, 0]]}"
      ]
     },
     "execution_count": 25,
     "metadata": {},
     "output_type": "execute_result"
    }
   ],
   "source": [
    "train_multimodal_data[0]"
   ]
  },
  {
   "cell_type": "code",
   "execution_count": 26,
   "id": "d58c6e7c",
   "metadata": {},
   "outputs": [],
   "source": [
    "val_multimodal_data = MultiModalSupervisedIterableDataset(\n",
    "    data=val_dict,\n",
    "    source_features=source_features,\n",
    "    source_names=source_features.keys(),\n",
    "    col_id=\"client_id\",\n",
    "    col_time=\"event_time\",\n",
    "    target_name=\"target\",\n",
    ")"
   ]
  },
  {
   "cell_type": "code",
   "execution_count": 27,
   "id": "a650d2c9",
   "metadata": {},
   "outputs": [],
   "source": [
    "from ptls.frames import PtlsDataModule"
   ]
  },
  {
   "cell_type": "code",
   "execution_count": 28,
   "id": "1c72c65d",
   "metadata": {},
   "outputs": [],
   "source": [
    "train_loader = PtlsDataModule(\n",
    "    train_data=train_multimodal_data,\n",
    "    train_num_workers=0,\n",
    "    train_batch_size=64,\n",
    "    \n",
    "    valid_data=val_multimodal_data,\n",
    "    valid_num_workers=0,\n",
    "    valid_batch_size=64,\n",
    ")"
   ]
  },
  {
   "cell_type": "code",
   "execution_count": 29,
   "id": "2caf5407",
   "metadata": {},
   "outputs": [],
   "source": [
    "for batch in train_loader.train_dataloader():\n",
    "    break"
   ]
  },
  {
   "cell_type": "code",
   "execution_count": null,
   "id": "34ccc707",
   "metadata": {},
   "outputs": [],
   "source": []
  },
  {
   "cell_type": "code",
   "execution_count": 30,
   "id": "a27d6112",
   "metadata": {},
   "outputs": [
    {
     "data": {
      "text/plain": [
       "{'month_ind': 14,\n",
       " 'day_ind': 356,\n",
       " 'src_type21': 8220,\n",
       " 'src_type22': 87,\n",
       " 'src_type31': 1617,\n",
       " 'src_type32': 88}"
      ]
     },
     "execution_count": 30,
     "metadata": {},
     "output_type": "execute_result"
    }
   ],
   "source": [
    "trx_preprocessor.get_category_dictionary_sizes()"
   ]
  },
  {
   "cell_type": "code",
   "execution_count": 31,
   "id": "1d079d39",
   "metadata": {},
   "outputs": [],
   "source": [
    "trx_encoder_params = dict(\n",
    "    embeddings_noise=0.003,\n",
    "    linear_projection_size=128,\n",
    "    embeddings = {\n",
    "        \"month_ind\": {\"in\": 14, \"out\": 7},\n",
    "        \"day_ind\": {\"in\": 356, \"out\": 64},\n",
    "        \"src_type21\": {\"in\": 8220, \"out\": 32},\n",
    "        \"src_type22\": {\"in\": 87, \"out\": 32},\n",
    "        \"src_type31\": {\"in\": 1617, \"out\": 32},\n",
    "        \"src_type32\": {\"in\": 88, \"out\": 32},\n",
    "    },\n",
    ")"
   ]
  },
  {
   "cell_type": "code",
   "execution_count": 32,
   "id": "460c9bbf",
   "metadata": {},
   "outputs": [
    {
     "data": {
      "text/plain": [
       "{'month_ind': 14, 'day_ind': 356}"
      ]
     },
     "execution_count": 32,
     "metadata": {},
     "output_type": "execute_result"
    }
   ],
   "source": [
    "geo_preprocessor.get_category_dictionary_sizes()"
   ]
  },
  {
   "cell_type": "code",
   "execution_count": 33,
   "id": "2903b7cb",
   "metadata": {},
   "outputs": [],
   "source": [
    "geo_encoder_params = dict(\n",
    "    embeddings_noise=0.003,\n",
    "    linear_projection_size=128,\n",
    "    embeddings = {\n",
    "        \"month_ind\": {\"in\": 14, \"out\": 7},\n",
    "        \"day_ind\": {\"in\": 356, \"out\": 64},\n",
    "    },\n",
    ")"
   ]
  },
  {
   "cell_type": "code",
   "execution_count": 34,
   "id": "1588bc73",
   "metadata": {},
   "outputs": [
    {
     "data": {
      "text/plain": [
       "{'month_ind': 13, 'day_ind': 365}"
      ]
     },
     "execution_count": 34,
     "metadata": {},
     "output_type": "execute_result"
    }
   ],
   "source": [
    "dial_preprocessor.get_category_dictionary_sizes()"
   ]
  },
  {
   "cell_type": "code",
   "execution_count": 35,
   "id": "4710187d",
   "metadata": {},
   "outputs": [],
   "source": [
    "dial_encoder_params = dict(\n",
    "    embeddings_noise=0.003,\n",
    "    linear_projection_size=128,\n",
    "    embeddings = {\n",
    "        \"month_ind\": {\"in\": 13, \"out\": 7},\n",
    "        \"day_ind\": {\"in\": 365, \"out\": 64},\n",
    "    },\n",
    ")"
   ]
  },
  {
   "cell_type": "code",
   "execution_count": 36,
   "id": "acb36fe3",
   "metadata": {},
   "outputs": [],
   "source": [
    "from ptls.nn import TrxEncoder"
   ]
  },
  {
   "cell_type": "code",
   "execution_count": 37,
   "id": "2608532d",
   "metadata": {},
   "outputs": [],
   "source": [
    "trx_encoder = TrxEncoder(**trx_encoder_params)\n",
    "geo_encoder = TrxEncoder(**geo_encoder_params)\n",
    "dial_encoder = TrxEncoder(**dial_encoder_params)"
   ]
  },
  {
   "cell_type": "code",
   "execution_count": 73,
   "id": "6cddae04",
   "metadata": {},
   "outputs": [],
   "source": [
    "import torch\n",
    "from ptls.data_load.padded_batch import PaddedBatch\n",
    "\n",
    "class MultiModalSortTimeSeqEncoderContainer(torch.nn.Module):\n",
    "    def __init__(self,\n",
    "                 trx_encoders,\n",
    "                 seq_encoder_cls, \n",
    "                 input_size,\n",
    "                 is_reduce_sequence=True,\n",
    "                 col_time='event_time',\n",
    "                 **seq_encoder_params\n",
    "                ):\n",
    "        super().__init__()\n",
    "        \n",
    "        self.trx_encoders = torch.nn.ModuleDict(trx_encoders)\n",
    "        self.seq_encoder = seq_encoder_cls(\n",
    "            input_size=input_size,\n",
    "            is_reduce_sequence=is_reduce_sequence,\n",
    "            **seq_encoder_params,\n",
    "        )\n",
    "        \n",
    "        self.col_time = col_time\n",
    "    \n",
    "    @property\n",
    "    def is_reduce_sequence(self):\n",
    "        return self.seq_encoder.is_reduce_sequence\n",
    "\n",
    "    @is_reduce_sequence.setter\n",
    "    def is_reduce_sequence(self, value):\n",
    "        self.seq_encoder.is_reduce_sequence = value\n",
    "\n",
    "    @property\n",
    "    def embedding_size(self):\n",
    "        return self.seq_encoder.embedding_size\n",
    "    \n",
    "    def get_tensor_by_indices(self, tensor, indices):\n",
    "        batch_size = tensor.shape[0]\n",
    "        return tensor[:, indices, :][torch.arange(batch_size), torch.arange(batch_size), :, :]\n",
    "        \n",
    "    def merge_by_time(self, x):\n",
    "        device = \"cuda\" # list(x.values())[1][0].device\n",
    "        batch, batch_time = torch.tensor([], device=device), torch.tensor([], device=device)\n",
    "        for source_batch in x.values():\n",
    "            if source_batch[0] != 'None':\n",
    "                batch = torch.cat((batch, source_batch[1].payload), dim=1)\n",
    "                batch_time = torch.cat((batch_time, source_batch[0]), dim=1)\n",
    "        \n",
    "        batch_time[batch_time == 0] = float('inf')\n",
    "        # indices_time = torch.argsort(batch_time, dim=1)\n",
    "        # batch = self.get_tensor_by_indices(batch, indices_time)\n",
    "        return batch\n",
    "            \n",
    "    def trx_encoder_wrapper(self, x_source, trx_encoder, col_time):\n",
    "        if torch.nonzero(x_source.seq_lens).size()[0] == 0:\n",
    "            return x_source.seq_lens, 'None', 'None'\n",
    "        return x_source.seq_lens, x_source.payload[col_time], trx_encoder(x_source)\n",
    "        \n",
    "    def multimodal_trx_encoder(self, x):\n",
    "        res = {}\n",
    "        tmp_el = list(x.values())[0]\n",
    "        \n",
    "        batch_size = tmp_el.payload[self.col_time].shape[0]\n",
    "        length = torch.zeros(batch_size, device=tmp_el.device).int()\n",
    "        \n",
    "        for source, trx_encoder in self.trx_encoders.items():\n",
    "            enc_res = self.trx_encoder_wrapper(x[source], trx_encoder, self.col_time)\n",
    "            source_length, res[source] = enc_res[0], (enc_res[1], enc_res[2])\n",
    "            length = length + source_length\n",
    "        return res, length\n",
    "            \n",
    "    def forward(self, x):\n",
    "        x, length = self.multimodal_trx_encoder(x)\n",
    "        x = self.merge_by_time(x)\n",
    "        padded_x = PaddedBatch(payload=x, length=length)\n",
    "        x = self.seq_encoder(padded_x)\n",
    "        return x"
   ]
  },
  {
   "cell_type": "code",
   "execution_count": 74,
   "id": "a9b37d99",
   "metadata": {},
   "outputs": [],
   "source": [
    "from ptls.nn.seq_encoder.rnn_encoder import RnnEncoder"
   ]
  },
  {
   "cell_type": "code",
   "execution_count": 75,
   "id": "3437a404",
   "metadata": {},
   "outputs": [],
   "source": [
    "seq_encoder = MultiModalSortTimeSeqEncoderContainer(\n",
    "    trx_encoders = {\n",
    "        \"trx\": trx_encoder,\n",
    "        \"geo\": geo_encoder,\n",
    "        \"dial\": dial_encoder,\n",
    "    },\n",
    "    input_size = 128,\n",
    "    hidden_size = 256,\n",
    "    seq_encoder_cls = RnnEncoder,\n",
    "    type = \"gru\"\n",
    ")"
   ]
  },
  {
   "cell_type": "code",
   "execution_count": 76,
   "id": "447486f6",
   "metadata": {},
   "outputs": [],
   "source": [
    "from torch import nn\n",
    "classifier = nn.Sequential(\n",
    "    nn.Linear(256, 256),\n",
    "    nn.ReLU(),\n",
    "    nn.Linear(256, 4),\n",
    ")"
   ]
  },
  {
   "cell_type": "code",
   "execution_count": 77,
   "id": "0d420ae8",
   "metadata": {},
   "outputs": [],
   "source": [
    "from functools import partial\n",
    "from ptls.frames.supervised import SeqToTargetDataset, SequenceToTarget\n",
    "from ptls.frames import PtlsDataModule\n",
    "import torch.nn as nn\n",
    "import torchmetrics"
   ]
  },
  {
   "cell_type": "code",
   "execution_count": 78,
   "id": "b647e8f8",
   "metadata": {},
   "outputs": [],
   "source": [
    "class AUROC(nn.Module):\n",
    "    def __init__(self):\n",
    "        super().__init__()\n",
    "        self.metric = torchmetrics.AUROC(task='multilabel', num_labels=4)\n",
    "    def forward(self, preds, target):\n",
    "        return self.metric(preds, target.int())\n",
    "    def compute(self):\n",
    "        return self.metric.compute()\n",
    "    def reset(self):\n",
    "        return self.metric.reset()"
   ]
  },
  {
   "cell_type": "code",
   "execution_count": 79,
   "id": "4aa7a501",
   "metadata": {},
   "outputs": [],
   "source": [
    "sup_module = SequenceToTarget(\n",
    "    seq_encoder=seq_encoder,\n",
    "    head=classifier,\n",
    "    loss=nn.BCEWithLogitsLoss(),\n",
    "    metric_list=AUROC(),\n",
    "    optimizer_partial=partial(torch.optim.AdamW, lr=1e-4),\n",
    "    lr_scheduler_partial=partial(torch.optim.lr_scheduler.ConstantLR, factor=1.0),\n",
    ")"
   ]
  },
  {
   "cell_type": "code",
   "execution_count": 80,
   "id": "1f1d68fb",
   "metadata": {},
   "outputs": [
    {
     "data": {
      "text/plain": [
       "SequenceToTarget(\n",
       "  (seq_encoder): MultiModalSortTimeSeqEncoderContainer(\n",
       "    (trx_encoders): ModuleDict(\n",
       "      (trx): TrxEncoder(\n",
       "        (embeddings): ModuleDict(\n",
       "          (month_ind): NoisyEmbedding(\n",
       "            14, 7, padding_idx=0\n",
       "            (dropout): Dropout(p=0, inplace=False)\n",
       "          )\n",
       "          (day_ind): NoisyEmbedding(\n",
       "            356, 64, padding_idx=0\n",
       "            (dropout): Dropout(p=0, inplace=False)\n",
       "          )\n",
       "          (src_type21): NoisyEmbedding(\n",
       "            8220, 32, padding_idx=0\n",
       "            (dropout): Dropout(p=0, inplace=False)\n",
       "          )\n",
       "          (src_type22): NoisyEmbedding(\n",
       "            87, 32, padding_idx=0\n",
       "            (dropout): Dropout(p=0, inplace=False)\n",
       "          )\n",
       "          (src_type31): NoisyEmbedding(\n",
       "            1617, 32, padding_idx=0\n",
       "            (dropout): Dropout(p=0, inplace=False)\n",
       "          )\n",
       "          (src_type32): NoisyEmbedding(\n",
       "            88, 32, padding_idx=0\n",
       "            (dropout): Dropout(p=0, inplace=False)\n",
       "          )\n",
       "        )\n",
       "        (custom_embeddings): ModuleDict()\n",
       "        (linear_projection_head): Linear(in_features=199, out_features=128, bias=True)\n",
       "      )\n",
       "      (geo): TrxEncoder(\n",
       "        (embeddings): ModuleDict(\n",
       "          (month_ind): NoisyEmbedding(\n",
       "            14, 7, padding_idx=0\n",
       "            (dropout): Dropout(p=0, inplace=False)\n",
       "          )\n",
       "          (day_ind): NoisyEmbedding(\n",
       "            356, 64, padding_idx=0\n",
       "            (dropout): Dropout(p=0, inplace=False)\n",
       "          )\n",
       "        )\n",
       "        (custom_embeddings): ModuleDict()\n",
       "        (linear_projection_head): Linear(in_features=71, out_features=128, bias=True)\n",
       "      )\n",
       "      (dial): TrxEncoder(\n",
       "        (embeddings): ModuleDict(\n",
       "          (month_ind): NoisyEmbedding(\n",
       "            13, 7, padding_idx=0\n",
       "            (dropout): Dropout(p=0, inplace=False)\n",
       "          )\n",
       "          (day_ind): NoisyEmbedding(\n",
       "            365, 64, padding_idx=0\n",
       "            (dropout): Dropout(p=0, inplace=False)\n",
       "          )\n",
       "        )\n",
       "        (custom_embeddings): ModuleDict()\n",
       "        (linear_projection_head): Linear(in_features=71, out_features=128, bias=True)\n",
       "      )\n",
       "    )\n",
       "    (seq_encoder): RnnEncoder(\n",
       "      (rnn): GRU(128, 256, batch_first=True)\n",
       "      (reducer): LastStepEncoder()\n",
       "    )\n",
       "  )\n",
       "  (head): Sequential(\n",
       "    (0): Linear(in_features=256, out_features=256, bias=True)\n",
       "    (1): ReLU()\n",
       "    (2): Linear(in_features=256, out_features=4, bias=True)\n",
       "  )\n",
       "  (loss): BCEWithLogitsLoss()\n",
       "  (train_metrics): ModuleDict(\n",
       "    (AUROC): AUROC(\n",
       "      (metric): MultilabelAUROC()\n",
       "    )\n",
       "  )\n",
       "  (valid_metrics): ModuleDict(\n",
       "    (AUROC): AUROC(\n",
       "      (metric): MultilabelAUROC()\n",
       "    )\n",
       "  )\n",
       "  (test_metrics): ModuleDict(\n",
       "    (AUROC): AUROC(\n",
       "      (metric): MultilabelAUROC()\n",
       "    )\n",
       "  )\n",
       ")"
      ]
     },
     "execution_count": 80,
     "metadata": {},
     "output_type": "execute_result"
    }
   ],
   "source": [
    "sup_module"
   ]
  },
  {
   "cell_type": "code",
   "execution_count": 81,
   "id": "c015c096",
   "metadata": {},
   "outputs": [],
   "source": [
    "import pytorch_lightning"
   ]
  },
  {
   "cell_type": "code",
   "execution_count": 82,
   "id": "a86a4fb2",
   "metadata": {},
   "outputs": [],
   "source": [
    "pl_trainer = pytorch_lightning.Trainer(\n",
    "    logger = False,\n",
    "    max_epochs = 8,\n",
    "    accelerator = \"gpu\",\n",
    "    devices = 1,\n",
    "    enable_progress_bar = True\n",
    ")"
   ]
  },
  {
   "cell_type": "code",
   "execution_count": 83,
   "id": "acd6d38f",
   "metadata": {
    "scrolled": false
   },
   "outputs": [
    {
     "data": {
      "application/vnd.jupyter.widget-view+json": {
       "model_id": "",
       "version_major": 2,
       "version_minor": 0
      },
      "text/plain": [
       "Sanity Checking: 0it [00:00, ?it/s]"
      ]
     },
     "metadata": {},
     "output_type": "display_data"
    },
    {
     "data": {
      "application/vnd.jupyter.widget-view+json": {
       "model_id": "53199beaec894168ba2afb9e6a5c059a",
       "version_major": 2,
       "version_minor": 0
      },
      "text/plain": [
       "Training: 0it [00:00, ?it/s]"
      ]
     },
     "metadata": {},
     "output_type": "display_data"
    }
   ],
   "source": [
    "pl_trainer.fit(sup_module, train_loader)"
   ]
  },
  {
   "cell_type": "raw",
   "id": "b547ba9b",
   "metadata": {},
   "source": [
    "0.650"
   ]
  },
  {
   "cell_type": "code",
   "execution_count": null,
   "id": "9acd7601",
   "metadata": {},
   "outputs": [],
   "source": []
  }
 ],
 "metadata": {
  "kernelspec": {
   "display_name": "Python 3 (ipykernel)",
   "language": "python",
   "name": "python3"
  },
  "language_info": {
   "codemirror_mode": {
    "name": "ipython",
    "version": 3
   },
   "file_extension": ".py",
   "mimetype": "text/x-python",
   "name": "python",
   "nbconvert_exporter": "python",
   "pygments_lexer": "ipython3",
   "version": "3.8.13"
  }
 },
 "nbformat": 4,
 "nbformat_minor": 5
}
