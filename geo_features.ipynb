{
 "cells": [
  {
   "cell_type": "code",
   "execution_count": 1,
   "id": "5bb2388f",
   "metadata": {},
   "outputs": [],
   "source": [
    "from datetime import datetime\n",
    "\n",
    "import polars as pl"
   ]
  },
  {
   "cell_type": "code",
   "execution_count": null,
   "id": "73b78d47",
   "metadata": {},
   "outputs": [],
   "source": []
  },
  {
   "cell_type": "code",
   "execution_count": 2,
   "id": "d36f7094",
   "metadata": {},
   "outputs": [],
   "source": [
    "months = [\n",
    "    '2022-02-28',\n",
    "    '2022-03-31',\n",
    "    '2022-04-30',\n",
    "    '2022-05-31',\n",
    "    '2022-06-30',\n",
    "    '2022-07-31',\n",
    "    '2022-08-31',\n",
    "    '2022-09-30',\n",
    "    '2022-10-31',\n",
    "    '2022-11-30',\n",
    "    '2022-12-31',\n",
    "    '2023-01-31',\n",
    "]\n",
    "month2id = dict((month, idx) for idx, month in enumerate(months))\n",
    "id2month = dict((idx, month) for idx, month in enumerate(months))"
   ]
  },
  {
   "cell_type": "code",
   "execution_count": null,
   "id": "b974db35",
   "metadata": {},
   "outputs": [],
   "source": []
  },
  {
   "cell_type": "code",
   "execution_count": 3,
   "id": "8041ab94",
   "metadata": {},
   "outputs": [],
   "source": [
    "def make_features(data, mon):\n",
    "    min_dt = datetime(2021, 1, 1)\n",
    "    features = (\n",
    "        data\n",
    "        .filter(pl.col(\"event_time\") < datetime.strptime(months[mon], \"%Y-%m-%d\").replace(day=1))\n",
    "        .with_columns(event_day=(pl.col(\"event_time\") - min_dt).dt.days())\n",
    "        .group_by(\"client_id\")\n",
    "        .agg(\n",
    "            geo_cnt=pl.count(),\n",
    "            geo_uniq_days=pl.col(\"event_day\").n_unique(),\n",
    "            geo_first_day=pl.col(\"event_day\").min(),\n",
    "            geo_last_day=pl.col(\"event_day\").max(),\n",
    "\n",
    "            geohash_4_uniq=pl.col(\"geohash_4\").n_unique(),\n",
    "            geohash_5_uniq=pl.col(\"geohash_5\").n_unique(),\n",
    "            geohash_6_uniq=pl.col(\"geohash_6\").n_unique(),\n",
    "        )\n",
    "        .with_columns(\n",
    "            geo_len_period=pl.col(\"geo_last_day\") - pl.col(\"geo_first_day\") + 1,\n",
    "        )\n",
    "        .with_columns(\n",
    "            geo_cnt_per_day=pl.col(\"geo_cnt\") / pl.col(\"geo_uniq_days\"),\n",
    "            geo_density=pl.col(\"geo_cnt\") / pl.col(\"geo_len_period\"),\n",
    "        )\n",
    "    )\n",
    "    return features"
   ]
  },
  {
   "cell_type": "code",
   "execution_count": null,
   "id": "077b2573",
   "metadata": {},
   "outputs": [],
   "source": []
  },
  {
   "cell_type": "code",
   "execution_count": 4,
   "id": "206d862e",
   "metadata": {},
   "outputs": [],
   "source": [
    "mon = 9"
   ]
  },
  {
   "cell_type": "code",
   "execution_count": null,
   "id": "1a23a232",
   "metadata": {},
   "outputs": [],
   "source": []
  },
  {
   "cell_type": "code",
   "execution_count": 5,
   "id": "018553d3",
   "metadata": {},
   "outputs": [],
   "source": [
    "import gc\n",
    "import os\n",
    "from collections import Counter\n",
    "from tqdm.auto import tqdm"
   ]
  },
  {
   "cell_type": "code",
   "execution_count": 6,
   "id": "4224ea27",
   "metadata": {},
   "outputs": [
    {
     "data": {
      "application/vnd.jupyter.widget-view+json": {
       "model_id": "5b07c3f6399b4af38a92af46dce07972",
       "version_major": 2,
       "version_minor": 0
      },
      "text/plain": [
       "  0%|          | 0/31 [00:00<?, ?it/s]"
      ]
     },
     "metadata": {},
     "output_type": "display_data"
    }
   ],
   "source": [
    "counter = Counter()\n",
    "for file in tqdm(os.listdir(\"./data/geo_train.parquet/\")):\n",
    "    train_geo = pl.read_parquet(\"./data/geo_train.parquet/\" + file)\n",
    "    counter.update(train_geo[\"client_id\"].unique())"
   ]
  },
  {
   "cell_type": "code",
   "execution_count": 7,
   "id": "a3419655",
   "metadata": {},
   "outputs": [],
   "source": [
    "one = []\n",
    "two = []\n",
    "for client_id, count in counter.most_common():\n",
    "    if count == 1:\n",
    "        one.append(client_id)\n",
    "    else:\n",
    "        two.append(client_id)"
   ]
  },
  {
   "cell_type": "code",
   "execution_count": 8,
   "id": "44140d53",
   "metadata": {},
   "outputs": [
    {
     "data": {
      "text/plain": [
       "(622252, 52)"
      ]
     },
     "execution_count": 8,
     "metadata": {},
     "output_type": "execute_result"
    }
   ],
   "source": [
    "len(one), len(two)"
   ]
  },
  {
   "cell_type": "code",
   "execution_count": 9,
   "id": "a3167a3c",
   "metadata": {},
   "outputs": [
    {
     "data": {
      "application/vnd.jupyter.widget-view+json": {
       "model_id": "87ccc76f916e4ac79c57cecd3c42287d",
       "version_major": 2,
       "version_minor": 0
      },
      "text/plain": [
       "  0%|          | 0/31 [00:00<?, ?it/s]"
      ]
     },
     "metadata": {},
     "output_type": "display_data"
    }
   ],
   "source": [
    "train_features = []\n",
    "buf = []\n",
    "for file in tqdm(os.listdir(\"./data/geo_train.parquet/\")):\n",
    "    train_geo = pl.read_parquet(\"./data/geo_train.parquet/\" + file)\n",
    "    buf.append(train_geo.filter(pl.col(\"client_id\").is_in(two)))\n",
    "    train_geo = train_geo.filter(pl.col(\"client_id\").is_in(one))\n",
    "    train_features.append(make_features(train_geo, mon))\n",
    "    gc.collect()"
   ]
  },
  {
   "cell_type": "code",
   "execution_count": 10,
   "id": "dcf676fe",
   "metadata": {},
   "outputs": [],
   "source": [
    "buf = pl.concat(buf)\n",
    "train_features.append(make_features(buf, mon))"
   ]
  },
  {
   "cell_type": "code",
   "execution_count": 11,
   "id": "7b6d00b3",
   "metadata": {},
   "outputs": [
    {
     "data": {
      "text/html": [
       "<div><style>\n",
       ".dataframe > thead > tr > th,\n",
       ".dataframe > tbody > tr > td {\n",
       "  text-align: right;\n",
       "  white-space: pre-wrap;\n",
       "}\n",
       "</style>\n",
       "<small>shape: (606_061, 11)</small><table border=\"1\" class=\"dataframe\"><thead><tr><th>client_id</th><th>geo_cnt</th><th>geo_uniq_days</th><th>geo_first_day</th><th>geo_last_day</th><th>geohash_4_uniq</th><th>geohash_5_uniq</th><th>geohash_6_uniq</th><th>geo_len_period</th><th>geo_cnt_per_day</th><th>geo_density</th></tr><tr><td>str</td><td>u32</td><td>u32</td><td>i64</td><td>i64</td><td>u32</td><td>u32</td><td>u32</td><td>i64</td><td>f64</td><td>f64</td></tr></thead><tbody><tr><td>&quot;7310575c8a1b87…</td><td>117</td><td>84</td><td>446</td><td>636</td><td>3</td><td>6</td><td>27</td><td>191</td><td>1.392857</td><td>0.612565</td></tr><tr><td>&quot;6d315b752ba0fa…</td><td>522</td><td>179</td><td>375</td><td>636</td><td>3</td><td>14</td><td>37</td><td>262</td><td>2.916201</td><td>1.992366</td></tr><tr><td>&quot;3b357ed8d1250d…</td><td>127</td><td>92</td><td>366</td><td>635</td><td>8</td><td>24</td><td>57</td><td>270</td><td>1.380435</td><td>0.47037</td></tr><tr><td>&quot;3097b3379dd086…</td><td>757</td><td>245</td><td>365</td><td>637</td><td>26</td><td>48</td><td>99</td><td>273</td><td>3.089796</td><td>2.772894</td></tr><tr><td>&quot;33e123bbeab26f…</td><td>1731</td><td>273</td><td>365</td><td>637</td><td>39</td><td>98</td><td>221</td><td>273</td><td>6.340659</td><td>6.340659</td></tr><tr><td>&quot;f51b4426914208…</td><td>2008</td><td>272</td><td>365</td><td>637</td><td>18</td><td>37</td><td>145</td><td>273</td><td>7.382353</td><td>7.355311</td></tr><tr><td>&quot;8cf60d788a84cd…</td><td>3560</td><td>270</td><td>365</td><td>636</td><td>9</td><td>51</td><td>218</td><td>272</td><td>13.185185</td><td>13.088235</td></tr><tr><td>&quot;4fe9a6fe59615a…</td><td>1170</td><td>259</td><td>366</td><td>637</td><td>38</td><td>76</td><td>215</td><td>272</td><td>4.517375</td><td>4.301471</td></tr><tr><td>&quot;c01304154308b4…</td><td>384</td><td>112</td><td>367</td><td>494</td><td>24</td><td>54</td><td>87</td><td>128</td><td>3.428571</td><td>3.0</td></tr><tr><td>&quot;e11760d865da7d…</td><td>255</td><td>115</td><td>377</td><td>620</td><td>6</td><td>14</td><td>39</td><td>244</td><td>2.217391</td><td>1.045082</td></tr><tr><td>&quot;59d210a181cdd3…</td><td>737</td><td>240</td><td>368</td><td>637</td><td>7</td><td>18</td><td>42</td><td>270</td><td>3.070833</td><td>2.72963</td></tr><tr><td>&quot;cf4ad831370319…</td><td>3</td><td>3</td><td>626</td><td>637</td><td>2</td><td>2</td><td>2</td><td>12</td><td>1.0</td><td>0.25</td></tr><tr><td>&hellip;</td><td>&hellip;</td><td>&hellip;</td><td>&hellip;</td><td>&hellip;</td><td>&hellip;</td><td>&hellip;</td><td>&hellip;</td><td>&hellip;</td><td>&hellip;</td><td>&hellip;</td></tr><tr><td>&quot;178171be5a9eb3…</td><td>5048</td><td>273</td><td>365</td><td>637</td><td>24</td><td>81</td><td>351</td><td>273</td><td>18.490842</td><td>18.490842</td></tr><tr><td>&quot;4ffbcc4f06de9e…</td><td>931</td><td>198</td><td>366</td><td>571</td><td>14</td><td>23</td><td>56</td><td>206</td><td>4.70202</td><td>4.519417</td></tr><tr><td>&quot;951924008daa07…</td><td>6247</td><td>273</td><td>365</td><td>637</td><td>27</td><td>67</td><td>293</td><td>273</td><td>22.882784</td><td>22.882784</td></tr><tr><td>&quot;16e1b10bd33e89…</td><td>198</td><td>126</td><td>366</td><td>637</td><td>15</td><td>28</td><td>55</td><td>272</td><td>1.571429</td><td>0.727941</td></tr><tr><td>&quot;154eb088f55cad…</td><td>1277</td><td>259</td><td>367</td><td>637</td><td>23</td><td>58</td><td>164</td><td>271</td><td>4.930502</td><td>4.712177</td></tr><tr><td>&quot;de7404103c573f…</td><td>6014</td><td>274</td><td>364</td><td>637</td><td>83</td><td>219</td><td>616</td><td>274</td><td>21.948905</td><td>21.948905</td></tr><tr><td>&quot;07e0584cb8338a…</td><td>2461</td><td>272</td><td>365</td><td>637</td><td>14</td><td>39</td><td>155</td><td>273</td><td>9.047794</td><td>9.014652</td></tr><tr><td>&quot;0af057f8b7abc0…</td><td>2433</td><td>273</td><td>365</td><td>637</td><td>7</td><td>45</td><td>160</td><td>273</td><td>8.912088</td><td>8.912088</td></tr><tr><td>&quot;0f49a9ceb294d8…</td><td>852</td><td>247</td><td>365</td><td>637</td><td>13</td><td>26</td><td>70</td><td>273</td><td>3.449393</td><td>3.120879</td></tr><tr><td>&quot;db520f57342963…</td><td>487</td><td>209</td><td>368</td><td>637</td><td>7</td><td>20</td><td>54</td><td>270</td><td>2.330144</td><td>1.803704</td></tr><tr><td>&quot;c529f88f049830…</td><td>8613</td><td>273</td><td>365</td><td>637</td><td>29</td><td>83</td><td>301</td><td>273</td><td>31.549451</td><td>31.549451</td></tr><tr><td>&quot;264064a275c172…</td><td>2598</td><td>265</td><td>365</td><td>637</td><td>4</td><td>10</td><td>40</td><td>273</td><td>9.803774</td><td>9.516484</td></tr></tbody></table></div>"
      ],
      "text/plain": [
       "shape: (606_061, 11)\n",
       "┌────────────┬─────────┬───────────┬───────────┬───┬───────────┬───────────┬───────────┬───────────┐\n",
       "│ client_id  ┆ geo_cnt ┆ geo_uniq_ ┆ geo_first ┆ … ┆ geohash_6 ┆ geo_len_p ┆ geo_cnt_p ┆ geo_densi │\n",
       "│ ---        ┆ ---     ┆ days      ┆ _day      ┆   ┆ _uniq     ┆ eriod     ┆ er_day    ┆ ty        │\n",
       "│ str        ┆ u32     ┆ ---       ┆ ---       ┆   ┆ ---       ┆ ---       ┆ ---       ┆ ---       │\n",
       "│            ┆         ┆ u32       ┆ i64       ┆   ┆ u32       ┆ i64       ┆ f64       ┆ f64       │\n",
       "╞════════════╪═════════╪═══════════╪═══════════╪═══╪═══════════╪═══════════╪═══════════╪═══════════╡\n",
       "│ 7310575c8a ┆ 117     ┆ 84        ┆ 446       ┆ … ┆ 27        ┆ 191       ┆ 1.392857  ┆ 0.612565  │\n",
       "│ 1b87f233b3 ┆         ┆           ┆           ┆   ┆           ┆           ┆           ┆           │\n",
       "│ 67c4927656 ┆         ┆           ┆           ┆   ┆           ┆           ┆           ┆           │\n",
       "│ da…        ┆         ┆           ┆           ┆   ┆           ┆           ┆           ┆           │\n",
       "│ 6d315b752b ┆ 522     ┆ 179       ┆ 375       ┆ … ┆ 37        ┆ 262       ┆ 2.916201  ┆ 1.992366  │\n",
       "│ a0fa5c8576 ┆         ┆           ┆           ┆   ┆           ┆           ┆           ┆           │\n",
       "│ 76be22ba03 ┆         ┆           ┆           ┆   ┆           ┆           ┆           ┆           │\n",
       "│ 73…        ┆         ┆           ┆           ┆   ┆           ┆           ┆           ┆           │\n",
       "│ 3b357ed8d1 ┆ 127     ┆ 92        ┆ 366       ┆ … ┆ 57        ┆ 270       ┆ 1.380435  ┆ 0.47037   │\n",
       "│ 250da03e6e ┆         ┆           ┆           ┆   ┆           ┆           ┆           ┆           │\n",
       "│ 28a59157d7 ┆         ┆           ┆           ┆   ┆           ┆           ┆           ┆           │\n",
       "│ b8…        ┆         ┆           ┆           ┆   ┆           ┆           ┆           ┆           │\n",
       "│ 3097b3379d ┆ 757     ┆ 245       ┆ 365       ┆ … ┆ 99        ┆ 273       ┆ 3.089796  ┆ 2.772894  │\n",
       "│ d086591900 ┆         ┆           ┆           ┆   ┆           ┆           ┆           ┆           │\n",
       "│ 538d0c4f68 ┆         ┆           ┆           ┆   ┆           ┆           ┆           ┆           │\n",
       "│ 1e…        ┆         ┆           ┆           ┆   ┆           ┆           ┆           ┆           │\n",
       "│ …          ┆ …       ┆ …         ┆ …         ┆ … ┆ …         ┆ …         ┆ …         ┆ …         │\n",
       "│ 0f49a9ceb2 ┆ 852     ┆ 247       ┆ 365       ┆ … ┆ 70        ┆ 273       ┆ 3.449393  ┆ 3.120879  │\n",
       "│ 94d832d88c ┆         ┆           ┆           ┆   ┆           ┆           ┆           ┆           │\n",
       "│ 944047156f ┆         ┆           ┆           ┆   ┆           ┆           ┆           ┆           │\n",
       "│ 40…        ┆         ┆           ┆           ┆   ┆           ┆           ┆           ┆           │\n",
       "│ db520f5734 ┆ 487     ┆ 209       ┆ 368       ┆ … ┆ 54        ┆ 270       ┆ 2.330144  ┆ 1.803704  │\n",
       "│ 2963c77399 ┆         ┆           ┆           ┆   ┆           ┆           ┆           ┆           │\n",
       "│ d2ae4f5222 ┆         ┆           ┆           ┆   ┆           ┆           ┆           ┆           │\n",
       "│ 6d…        ┆         ┆           ┆           ┆   ┆           ┆           ┆           ┆           │\n",
       "│ c529f88f04 ┆ 8613    ┆ 273       ┆ 365       ┆ … ┆ 301       ┆ 273       ┆ 31.549451 ┆ 31.549451 │\n",
       "│ 9830c8fe67 ┆         ┆           ┆           ┆   ┆           ┆           ┆           ┆           │\n",
       "│ 72d8fbc85c ┆         ┆           ┆           ┆   ┆           ┆           ┆           ┆           │\n",
       "│ 68…        ┆         ┆           ┆           ┆   ┆           ┆           ┆           ┆           │\n",
       "│ 264064a275 ┆ 2598    ┆ 265       ┆ 365       ┆ … ┆ 40        ┆ 273       ┆ 9.803774  ┆ 9.516484  │\n",
       "│ c172f76f27 ┆         ┆           ┆           ┆   ┆           ┆           ┆           ┆           │\n",
       "│ 99564c216e ┆         ┆           ┆           ┆   ┆           ┆           ┆           ┆           │\n",
       "│ 24…        ┆         ┆           ┆           ┆   ┆           ┆           ┆           ┆           │\n",
       "└────────────┴─────────┴───────────┴───────────┴───┴───────────┴───────────┴───────────┴───────────┘"
      ]
     },
     "execution_count": 11,
     "metadata": {},
     "output_type": "execute_result"
    }
   ],
   "source": [
    "train_features = pl.concat(train_features)\n",
    "train_features"
   ]
  },
  {
   "cell_type": "code",
   "execution_count": 12,
   "id": "9ae29812",
   "metadata": {},
   "outputs": [
    {
     "data": {
      "text/html": [
       "<div><style>\n",
       ".dataframe > thead > tr > th,\n",
       ".dataframe > tbody > tr > td {\n",
       "  text-align: right;\n",
       "  white-space: pre-wrap;\n",
       "}\n",
       "</style>\n",
       "<small>shape: (606_061, 2)</small><table border=\"1\" class=\"dataframe\"><thead><tr><th>client_id</th><th>counts</th></tr><tr><td>str</td><td>u32</td></tr></thead><tbody><tr><td>&quot;7310575c8a1b87…</td><td>1</td></tr><tr><td>&quot;6d315b752ba0fa…</td><td>1</td></tr><tr><td>&quot;3b357ed8d1250d…</td><td>1</td></tr><tr><td>&quot;3097b3379dd086…</td><td>1</td></tr><tr><td>&quot;33e123bbeab26f…</td><td>1</td></tr><tr><td>&quot;f51b4426914208…</td><td>1</td></tr><tr><td>&quot;8cf60d788a84cd…</td><td>1</td></tr><tr><td>&quot;4fe9a6fe59615a…</td><td>1</td></tr><tr><td>&quot;c01304154308b4…</td><td>1</td></tr><tr><td>&quot;e11760d865da7d…</td><td>1</td></tr><tr><td>&quot;59d210a181cdd3…</td><td>1</td></tr><tr><td>&quot;cf4ad831370319…</td><td>1</td></tr><tr><td>&hellip;</td><td>&hellip;</td></tr><tr><td>&quot;178171be5a9eb3…</td><td>1</td></tr><tr><td>&quot;4ffbcc4f06de9e…</td><td>1</td></tr><tr><td>&quot;951924008daa07…</td><td>1</td></tr><tr><td>&quot;16e1b10bd33e89…</td><td>1</td></tr><tr><td>&quot;154eb088f55cad…</td><td>1</td></tr><tr><td>&quot;de7404103c573f…</td><td>1</td></tr><tr><td>&quot;07e0584cb8338a…</td><td>1</td></tr><tr><td>&quot;0af057f8b7abc0…</td><td>1</td></tr><tr><td>&quot;0f49a9ceb294d8…</td><td>1</td></tr><tr><td>&quot;db520f57342963…</td><td>1</td></tr><tr><td>&quot;c529f88f049830…</td><td>1</td></tr><tr><td>&quot;264064a275c172…</td><td>1</td></tr></tbody></table></div>"
      ],
      "text/plain": [
       "shape: (606_061, 2)\n",
       "┌───────────────────────────────────┬────────┐\n",
       "│ client_id                         ┆ counts │\n",
       "│ ---                               ┆ ---    │\n",
       "│ str                               ┆ u32    │\n",
       "╞═══════════════════════════════════╪════════╡\n",
       "│ 7310575c8a1b87f233b367c4927656da… ┆ 1      │\n",
       "│ 6d315b752ba0fa5c857676be22ba0373… ┆ 1      │\n",
       "│ 3b357ed8d1250da03e6e28a59157d7b8… ┆ 1      │\n",
       "│ 3097b3379dd086591900538d0c4f681e… ┆ 1      │\n",
       "│ …                                 ┆ …      │\n",
       "│ 0f49a9ceb294d832d88c944047156f40… ┆ 1      │\n",
       "│ db520f57342963c77399d2ae4f52226d… ┆ 1      │\n",
       "│ c529f88f049830c8fe6772d8fbc85c68… ┆ 1      │\n",
       "│ 264064a275c172f76f2799564c216e24… ┆ 1      │\n",
       "└───────────────────────────────────┴────────┘"
      ]
     },
     "execution_count": 12,
     "metadata": {},
     "output_type": "execute_result"
    }
   ],
   "source": [
    "train_features[\"client_id\"].value_counts(sort=True)"
   ]
  },
  {
   "cell_type": "code",
   "execution_count": null,
   "id": "238d1f63",
   "metadata": {},
   "outputs": [],
   "source": []
  },
  {
   "cell_type": "code",
   "execution_count": 13,
   "id": "dd700c9a",
   "metadata": {},
   "outputs": [
    {
     "data": {
      "application/vnd.jupyter.widget-view+json": {
       "model_id": "d8d9f8e416cb412abd9e9c88d14b1e84",
       "version_major": 2,
       "version_minor": 0
      },
      "text/plain": [
       "  0%|          | 0/6 [00:00<?, ?it/s]"
      ]
     },
     "metadata": {},
     "output_type": "display_data"
    }
   ],
   "source": [
    "counter = Counter()\n",
    "for file in tqdm(os.listdir(\"./data/geo_test.parquet/\")):\n",
    "    val_geo = pl.read_parquet(\"./data/geo_test.parquet/\" + file)\n",
    "    counter.update(val_geo[\"client_id\"].unique())"
   ]
  },
  {
   "cell_type": "code",
   "execution_count": 14,
   "id": "9b5e1653",
   "metadata": {},
   "outputs": [],
   "source": [
    "one = []\n",
    "two = []\n",
    "for client_id, count in counter.most_common():\n",
    "    if count == 1:\n",
    "        one.append(client_id)\n",
    "    else:\n",
    "        two.append(client_id)"
   ]
  },
  {
   "cell_type": "code",
   "execution_count": 15,
   "id": "5b1e59a5",
   "metadata": {},
   "outputs": [
    {
     "data": {
      "text/plain": [
       "(165445, 1302)"
      ]
     },
     "execution_count": 15,
     "metadata": {},
     "output_type": "execute_result"
    }
   ],
   "source": [
    "len(one), len(two)"
   ]
  },
  {
   "cell_type": "code",
   "execution_count": 16,
   "id": "46abe536",
   "metadata": {},
   "outputs": [
    {
     "data": {
      "application/vnd.jupyter.widget-view+json": {
       "model_id": "450f7c6d97374a709c81ebd0081f7c5c",
       "version_major": 2,
       "version_minor": 0
      },
      "text/plain": [
       "  0%|          | 0/6 [00:00<?, ?it/s]"
      ]
     },
     "metadata": {},
     "output_type": "display_data"
    }
   ],
   "source": [
    "val_features = []\n",
    "buf = []\n",
    "for file in tqdm(os.listdir(\"./data/geo_test.parquet/\")):\n",
    "    val_geo = pl.read_parquet(\"./data/geo_test.parquet/\" + file)\n",
    "    buf.append(val_geo.filter(pl.col(\"client_id\").is_in(two)))\n",
    "    val_geo = val_geo.filter(pl.col(\"client_id\").is_in(one))\n",
    "    val_features.append(make_features(val_geo, mon))\n",
    "    gc.collect()"
   ]
  },
  {
   "cell_type": "code",
   "execution_count": 17,
   "id": "b2f8df8c",
   "metadata": {},
   "outputs": [],
   "source": [
    "buf = pl.concat(buf)\n",
    "val_features.append(make_features(buf, mon))"
   ]
  },
  {
   "cell_type": "code",
   "execution_count": 18,
   "id": "c5436665",
   "metadata": {},
   "outputs": [
    {
     "data": {
      "text/html": [
       "<div><style>\n",
       ".dataframe > thead > tr > th,\n",
       ".dataframe > tbody > tr > td {\n",
       "  text-align: right;\n",
       "  white-space: pre-wrap;\n",
       "}\n",
       "</style>\n",
       "<small>shape: (162_810, 11)</small><table border=\"1\" class=\"dataframe\"><thead><tr><th>client_id</th><th>geo_cnt</th><th>geo_uniq_days</th><th>geo_first_day</th><th>geo_last_day</th><th>geohash_4_uniq</th><th>geohash_5_uniq</th><th>geohash_6_uniq</th><th>geo_len_period</th><th>geo_cnt_per_day</th><th>geo_density</th></tr><tr><td>str</td><td>u32</td><td>u32</td><td>i64</td><td>i64</td><td>u32</td><td>u32</td><td>u32</td><td>i64</td><td>f64</td><td>f64</td></tr></thead><tbody><tr><td>&quot;3dd04e36e7a7ea…</td><td>13</td><td>13</td><td>536</td><td>631</td><td>1</td><td>5</td><td>7</td><td>96</td><td>1.0</td><td>0.135417</td></tr><tr><td>&quot;5d5f129d205e90…</td><td>132</td><td>75</td><td>367</td><td>487</td><td>8</td><td>34</td><td>67</td><td>121</td><td>1.76</td><td>1.090909</td></tr><tr><td>&quot;0ba80f432aa468…</td><td>78</td><td>52</td><td>554</td><td>636</td><td>1</td><td>5</td><td>13</td><td>83</td><td>1.5</td><td>0.939759</td></tr><tr><td>&quot;1fc5b189247f8f…</td><td>84</td><td>67</td><td>368</td><td>632</td><td>9</td><td>13</td><td>27</td><td>265</td><td>1.253731</td><td>0.316981</td></tr><tr><td>&quot;ca69e3d03950df…</td><td>299</td><td>183</td><td>365</td><td>636</td><td>16</td><td>62</td><td>141</td><td>272</td><td>1.63388</td><td>1.099265</td></tr><tr><td>&quot;14947686f94c15…</td><td>110</td><td>91</td><td>380</td><td>630</td><td>7</td><td>23</td><td>54</td><td>251</td><td>1.208791</td><td>0.438247</td></tr><tr><td>&quot;820a14641c0c2c…</td><td>698</td><td>151</td><td>367</td><td>588</td><td>8</td><td>17</td><td>55</td><td>222</td><td>4.622517</td><td>3.144144</td></tr><tr><td>&quot;d5f97c94bd72b4…</td><td>2821</td><td>273</td><td>365</td><td>637</td><td>35</td><td>90</td><td>285</td><td>273</td><td>10.333333</td><td>10.333333</td></tr><tr><td>&quot;19e69ad40085a0…</td><td>41</td><td>40</td><td>380</td><td>627</td><td>3</td><td>5</td><td>12</td><td>248</td><td>1.025</td><td>0.165323</td></tr><tr><td>&quot;3abb7ce634a76a…</td><td>368</td><td>179</td><td>365</td><td>630</td><td>9</td><td>18</td><td>32</td><td>266</td><td>2.055866</td><td>1.383459</td></tr><tr><td>&quot;282f1aad65b530…</td><td>99</td><td>64</td><td>366</td><td>632</td><td>5</td><td>9</td><td>19</td><td>267</td><td>1.546875</td><td>0.370787</td></tr><tr><td>&quot;2e2a2cf08d2ce1…</td><td>615</td><td>198</td><td>365</td><td>636</td><td>6</td><td>10</td><td>34</td><td>272</td><td>3.106061</td><td>2.261029</td></tr><tr><td>&hellip;</td><td>&hellip;</td><td>&hellip;</td><td>&hellip;</td><td>&hellip;</td><td>&hellip;</td><td>&hellip;</td><td>&hellip;</td><td>&hellip;</td><td>&hellip;</td><td>&hellip;</td></tr><tr><td>&quot;19c9e4f812a2c4…</td><td>1496</td><td>192</td><td>365</td><td>637</td><td>5</td><td>14</td><td>47</td><td>273</td><td>7.791667</td><td>5.479853</td></tr><tr><td>&quot;eb9cf68f9cbbce…</td><td>2018</td><td>261</td><td>367</td><td>637</td><td>16</td><td>38</td><td>95</td><td>271</td><td>7.731801</td><td>7.446494</td></tr><tr><td>&quot;799a43ba5cec92…</td><td>578</td><td>171</td><td>369</td><td>637</td><td>5</td><td>15</td><td>61</td><td>269</td><td>3.380117</td><td>2.148699</td></tr><tr><td>&quot;1cec94fe02f25f…</td><td>438</td><td>86</td><td>537</td><td>637</td><td>12</td><td>18</td><td>27</td><td>101</td><td>5.093023</td><td>4.336634</td></tr><tr><td>&quot;6ce6649a7a13a1…</td><td>528</td><td>130</td><td>370</td><td>547</td><td>12</td><td>28</td><td>76</td><td>178</td><td>4.061538</td><td>2.966292</td></tr><tr><td>&quot;e6bc773e78f7d6…</td><td>426</td><td>110</td><td>365</td><td>637</td><td>12</td><td>15</td><td>27</td><td>273</td><td>3.872727</td><td>1.56044</td></tr><tr><td>&quot;d452a83ec8ef90…</td><td>232</td><td>90</td><td>457</td><td>637</td><td>10</td><td>15</td><td>34</td><td>181</td><td>2.577778</td><td>1.281768</td></tr><tr><td>&quot;94ed5b00a1dfd0…</td><td>1536</td><td>239</td><td>365</td><td>637</td><td>18</td><td>37</td><td>64</td><td>273</td><td>6.426778</td><td>5.626374</td></tr><tr><td>&quot;7f1b2c7ebcff1d…</td><td>156</td><td>60</td><td>376</td><td>595</td><td>4</td><td>6</td><td>10</td><td>220</td><td>2.6</td><td>0.709091</td></tr><tr><td>&quot;c38a655774f449…</td><td>5986</td><td>225</td><td>364</td><td>591</td><td>14</td><td>32</td><td>132</td><td>228</td><td>26.604444</td><td>26.254386</td></tr><tr><td>&quot;38ae64917da40d…</td><td>698</td><td>187</td><td>366</td><td>637</td><td>8</td><td>14</td><td>47</td><td>272</td><td>3.73262</td><td>2.566176</td></tr><tr><td>&quot;a7d161d09ec41d…</td><td>696</td><td>172</td><td>365</td><td>637</td><td>3</td><td>15</td><td>71</td><td>273</td><td>4.046512</td><td>2.549451</td></tr></tbody></table></div>"
      ],
      "text/plain": [
       "shape: (162_810, 11)\n",
       "┌────────────┬─────────┬───────────┬───────────┬───┬───────────┬───────────┬───────────┬───────────┐\n",
       "│ client_id  ┆ geo_cnt ┆ geo_uniq_ ┆ geo_first ┆ … ┆ geohash_6 ┆ geo_len_p ┆ geo_cnt_p ┆ geo_densi │\n",
       "│ ---        ┆ ---     ┆ days      ┆ _day      ┆   ┆ _uniq     ┆ eriod     ┆ er_day    ┆ ty        │\n",
       "│ str        ┆ u32     ┆ ---       ┆ ---       ┆   ┆ ---       ┆ ---       ┆ ---       ┆ ---       │\n",
       "│            ┆         ┆ u32       ┆ i64       ┆   ┆ u32       ┆ i64       ┆ f64       ┆ f64       │\n",
       "╞════════════╪═════════╪═══════════╪═══════════╪═══╪═══════════╪═══════════╪═══════════╪═══════════╡\n",
       "│ 3dd04e36e7 ┆ 13      ┆ 13        ┆ 536       ┆ … ┆ 7         ┆ 96        ┆ 1.0       ┆ 0.135417  │\n",
       "│ a7eac6adcb ┆         ┆           ┆           ┆   ┆           ┆           ┆           ┆           │\n",
       "│ aaee9e5da6 ┆         ┆           ┆           ┆   ┆           ┆           ┆           ┆           │\n",
       "│ 0c…        ┆         ┆           ┆           ┆   ┆           ┆           ┆           ┆           │\n",
       "│ 5d5f129d20 ┆ 132     ┆ 75        ┆ 367       ┆ … ┆ 67        ┆ 121       ┆ 1.76      ┆ 1.090909  │\n",
       "│ 5e908faaec ┆         ┆           ┆           ┆   ┆           ┆           ┆           ┆           │\n",
       "│ 1c41b8bf02 ┆         ┆           ┆           ┆   ┆           ┆           ┆           ┆           │\n",
       "│ 8c…        ┆         ┆           ┆           ┆   ┆           ┆           ┆           ┆           │\n",
       "│ 0ba80f432a ┆ 78      ┆ 52        ┆ 554       ┆ … ┆ 13        ┆ 83        ┆ 1.5       ┆ 0.939759  │\n",
       "│ a4688719f0 ┆         ┆           ┆           ┆   ┆           ┆           ┆           ┆           │\n",
       "│ 86e43e8128 ┆         ┆           ┆           ┆   ┆           ┆           ┆           ┆           │\n",
       "│ 06…        ┆         ┆           ┆           ┆   ┆           ┆           ┆           ┆           │\n",
       "│ 1fc5b18924 ┆ 84      ┆ 67        ┆ 368       ┆ … ┆ 27        ┆ 265       ┆ 1.253731  ┆ 0.316981  │\n",
       "│ 7f8fd316ee ┆         ┆           ┆           ┆   ┆           ┆           ┆           ┆           │\n",
       "│ 0eec69c4da ┆         ┆           ┆           ┆   ┆           ┆           ┆           ┆           │\n",
       "│ 4c…        ┆         ┆           ┆           ┆   ┆           ┆           ┆           ┆           │\n",
       "│ …          ┆ …       ┆ …         ┆ …         ┆ … ┆ …         ┆ …         ┆ …         ┆ …         │\n",
       "│ 7f1b2c7ebc ┆ 156     ┆ 60        ┆ 376       ┆ … ┆ 10        ┆ 220       ┆ 2.6       ┆ 0.709091  │\n",
       "│ ff1d89b26e ┆         ┆           ┆           ┆   ┆           ┆           ┆           ┆           │\n",
       "│ 51cf428838 ┆         ┆           ┆           ┆   ┆           ┆           ┆           ┆           │\n",
       "│ a1…        ┆         ┆           ┆           ┆   ┆           ┆           ┆           ┆           │\n",
       "│ c38a655774 ┆ 5986    ┆ 225       ┆ 364       ┆ … ┆ 132       ┆ 228       ┆ 26.604444 ┆ 26.254386 │\n",
       "│ f44904d232 ┆         ┆           ┆           ┆   ┆           ┆           ┆           ┆           │\n",
       "│ 4a7dd14d2d ┆         ┆           ┆           ┆   ┆           ┆           ┆           ┆           │\n",
       "│ 30…        ┆         ┆           ┆           ┆   ┆           ┆           ┆           ┆           │\n",
       "│ 38ae64917d ┆ 698     ┆ 187       ┆ 366       ┆ … ┆ 47        ┆ 272       ┆ 3.73262   ┆ 2.566176  │\n",
       "│ a40d2da14b ┆         ┆           ┆           ┆   ┆           ┆           ┆           ┆           │\n",
       "│ ed13eb25fe ┆         ┆           ┆           ┆   ┆           ┆           ┆           ┆           │\n",
       "│ 0d…        ┆         ┆           ┆           ┆   ┆           ┆           ┆           ┆           │\n",
       "│ a7d161d09e ┆ 696     ┆ 172       ┆ 365       ┆ … ┆ 71        ┆ 273       ┆ 4.046512  ┆ 2.549451  │\n",
       "│ c41dbdecc3 ┆         ┆           ┆           ┆   ┆           ┆           ┆           ┆           │\n",
       "│ 39979914bc ┆         ┆           ┆           ┆   ┆           ┆           ┆           ┆           │\n",
       "│ 60…        ┆         ┆           ┆           ┆   ┆           ┆           ┆           ┆           │\n",
       "└────────────┴─────────┴───────────┴───────────┴───┴───────────┴───────────┴───────────┴───────────┘"
      ]
     },
     "execution_count": 18,
     "metadata": {},
     "output_type": "execute_result"
    }
   ],
   "source": [
    "val_features = pl.concat(val_features)\n",
    "val_features"
   ]
  },
  {
   "cell_type": "code",
   "execution_count": 19,
   "id": "9eddec05",
   "metadata": {},
   "outputs": [
    {
     "data": {
      "text/html": [
       "<div><style>\n",
       ".dataframe > thead > tr > th,\n",
       ".dataframe > tbody > tr > td {\n",
       "  text-align: right;\n",
       "  white-space: pre-wrap;\n",
       "}\n",
       "</style>\n",
       "<small>shape: (162_810, 2)</small><table border=\"1\" class=\"dataframe\"><thead><tr><th>client_id</th><th>counts</th></tr><tr><td>str</td><td>u32</td></tr></thead><tbody><tr><td>&quot;3dd04e36e7a7ea…</td><td>1</td></tr><tr><td>&quot;5d5f129d205e90…</td><td>1</td></tr><tr><td>&quot;0ba80f432aa468…</td><td>1</td></tr><tr><td>&quot;1fc5b189247f8f…</td><td>1</td></tr><tr><td>&quot;ca69e3d03950df…</td><td>1</td></tr><tr><td>&quot;14947686f94c15…</td><td>1</td></tr><tr><td>&quot;820a14641c0c2c…</td><td>1</td></tr><tr><td>&quot;d5f97c94bd72b4…</td><td>1</td></tr><tr><td>&quot;19e69ad40085a0…</td><td>1</td></tr><tr><td>&quot;3abb7ce634a76a…</td><td>1</td></tr><tr><td>&quot;282f1aad65b530…</td><td>1</td></tr><tr><td>&quot;2e2a2cf08d2ce1…</td><td>1</td></tr><tr><td>&hellip;</td><td>&hellip;</td></tr><tr><td>&quot;19c9e4f812a2c4…</td><td>1</td></tr><tr><td>&quot;eb9cf68f9cbbce…</td><td>1</td></tr><tr><td>&quot;799a43ba5cec92…</td><td>1</td></tr><tr><td>&quot;1cec94fe02f25f…</td><td>1</td></tr><tr><td>&quot;6ce6649a7a13a1…</td><td>1</td></tr><tr><td>&quot;e6bc773e78f7d6…</td><td>1</td></tr><tr><td>&quot;d452a83ec8ef90…</td><td>1</td></tr><tr><td>&quot;94ed5b00a1dfd0…</td><td>1</td></tr><tr><td>&quot;7f1b2c7ebcff1d…</td><td>1</td></tr><tr><td>&quot;c38a655774f449…</td><td>1</td></tr><tr><td>&quot;38ae64917da40d…</td><td>1</td></tr><tr><td>&quot;a7d161d09ec41d…</td><td>1</td></tr></tbody></table></div>"
      ],
      "text/plain": [
       "shape: (162_810, 2)\n",
       "┌───────────────────────────────────┬────────┐\n",
       "│ client_id                         ┆ counts │\n",
       "│ ---                               ┆ ---    │\n",
       "│ str                               ┆ u32    │\n",
       "╞═══════════════════════════════════╪════════╡\n",
       "│ 3dd04e36e7a7eac6adcbaaee9e5da60c… ┆ 1      │\n",
       "│ 5d5f129d205e908faaec1c41b8bf028c… ┆ 1      │\n",
       "│ 0ba80f432aa4688719f086e43e812806… ┆ 1      │\n",
       "│ 1fc5b189247f8fd316ee0eec69c4da4c… ┆ 1      │\n",
       "│ …                                 ┆ …      │\n",
       "│ 7f1b2c7ebcff1d89b26e51cf428838a1… ┆ 1      │\n",
       "│ c38a655774f44904d2324a7dd14d2d30… ┆ 1      │\n",
       "│ 38ae64917da40d2da14bed13eb25fe0d… ┆ 1      │\n",
       "│ a7d161d09ec41dbdecc339979914bc60… ┆ 1      │\n",
       "└───────────────────────────────────┴────────┘"
      ]
     },
     "execution_count": 19,
     "metadata": {},
     "output_type": "execute_result"
    }
   ],
   "source": [
    "val_features[\"client_id\"].value_counts(sort=True)"
   ]
  },
  {
   "cell_type": "code",
   "execution_count": null,
   "id": "6d02b9ed",
   "metadata": {},
   "outputs": [],
   "source": []
  },
  {
   "cell_type": "code",
   "execution_count": 20,
   "id": "d68aec6c",
   "metadata": {},
   "outputs": [],
   "source": [
    "train_features.write_parquet(f\"./features/train_geo_features_{mon}.pq\")\n",
    "val_features.write_parquet(f\"./features/val_geo_features_{mon}.pq\")"
   ]
  }
 ],
 "metadata": {
  "kernelspec": {
   "display_name": "Python 3 (ipykernel)",
   "language": "python",
   "name": "python3"
  },
  "language_info": {
   "codemirror_mode": {
    "name": "ipython",
    "version": 3
   },
   "file_extension": ".py",
   "mimetype": "text/x-python",
   "name": "python",
   "nbconvert_exporter": "python",
   "pygments_lexer": "ipython3",
   "version": "3.8.13"
  }
 },
 "nbformat": 4,
 "nbformat_minor": 5
}
