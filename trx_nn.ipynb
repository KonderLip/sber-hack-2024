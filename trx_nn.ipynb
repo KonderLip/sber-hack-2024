{
 "cells": [
  {
   "cell_type": "code",
   "execution_count": 1,
   "id": "8755fe19",
   "metadata": {},
   "outputs": [],
   "source": [
    "from datetime import datetime\n",
    "\n",
    "import polars as pl\n",
    "\n",
    "import torch\n",
    "import pytorch_lightning\n",
    "from torch import nn\n",
    "\n",
    "from src.preprocessing import PolarsDataPreprocessor\n",
    "from src.utils import prepare_data"
   ]
  },
  {
   "cell_type": "code",
   "execution_count": 2,
   "id": "2edc0f58",
   "metadata": {},
   "outputs": [],
   "source": [
    "pl.set_random_seed(56)"
   ]
  },
  {
   "cell_type": "code",
   "execution_count": 3,
   "id": "557f1719",
   "metadata": {},
   "outputs": [
    {
     "data": {
      "text/plain": [
       "56"
      ]
     },
     "execution_count": 3,
     "metadata": {},
     "output_type": "execute_result"
    }
   ],
   "source": [
    "pytorch_lightning.seed_everything(56, True)"
   ]
  },
  {
   "cell_type": "code",
   "execution_count": null,
   "id": "65447f45",
   "metadata": {},
   "outputs": [],
   "source": []
  },
  {
   "cell_type": "code",
   "execution_count": 4,
   "id": "832b414f",
   "metadata": {},
   "outputs": [],
   "source": [
    "months = [\n",
    "    '2022-02-28',\n",
    "    '2022-03-31',\n",
    "    '2022-04-30',\n",
    "    '2022-05-31',\n",
    "    '2022-06-30',\n",
    "    '2022-07-31',\n",
    "    '2022-08-31',\n",
    "    '2022-09-30',\n",
    "    '2022-10-31',\n",
    "    '2022-11-30',\n",
    "    '2022-12-31',\n",
    "    '2023-01-31',\n",
    "]\n",
    "month2id = dict((month, idx) for idx, month in enumerate(months))\n",
    "id2month = dict((idx, month) for idx, month in enumerate(months))"
   ]
  },
  {
   "cell_type": "code",
   "execution_count": null,
   "id": "10ded746",
   "metadata": {},
   "outputs": [],
   "source": []
  },
  {
   "cell_type": "code",
   "execution_count": 5,
   "id": "77a6faf9",
   "metadata": {},
   "outputs": [],
   "source": [
    "mon = 10"
   ]
  },
  {
   "cell_type": "code",
   "execution_count": null,
   "id": "2612dd93",
   "metadata": {},
   "outputs": [],
   "source": []
  },
  {
   "cell_type": "code",
   "execution_count": 6,
   "id": "f821ae06",
   "metadata": {},
   "outputs": [
    {
     "name": "stdout",
     "output_type": "stream",
     "text": [
      "(14603731, 16)\n"
     ]
    },
    {
     "data": {
      "text/html": [
       "<div><style>\n",
       ".dataframe > thead > tr > th,\n",
       ".dataframe > tbody > tr > td {\n",
       "  text-align: right;\n",
       "  white-space: pre-wrap;\n",
       "}\n",
       "</style>\n",
       "<small>shape: (5, 16)</small><table border=\"1\" class=\"dataframe\"><thead><tr><th>event_time</th><th>amount</th><th>client_id</th><th>event_type</th><th>event_subtype</th><th>currency</th><th>src_type11</th><th>src_type12</th><th>dst_type11</th><th>dst_type12</th><th>src_type21</th><th>src_type22</th><th>src_type31</th><th>src_type32</th><th>mon_ind</th><th>day_ind</th></tr><tr><td>i64</td><td>f32</td><td>str</td><td>i32</td><td>i32</td><td>f64</td><td>f64</td><td>f64</td><td>f64</td><td>f64</td><td>f64</td><td>f64</td><td>f64</td><td>f64</td><td>i64</td><td>i64</td></tr></thead><tbody><tr><td>35499473</td><td>39204.261719</td><td>&quot;52f416800d4d8c…</td><td>54</td><td>55</td><td>11.0</td><td>19.0</td><td>344.0</td><td>364.0</td><td>22652.0</td><td>22823.0</td><td>48.0</td><td>942.0</td><td>4.0</td><td>13</td><td>410</td></tr><tr><td>38062618</td><td>77238.382812</td><td>&quot;52f416800d4d8c…</td><td>54</td><td>55</td><td>11.0</td><td>19.0</td><td>344.0</td><td>869.0</td><td>31488.0</td><td>22823.0</td><td>48.0</td><td>942.0</td><td>4.0</td><td>14</td><td>440</td></tr><tr><td>35018297</td><td>14293.958008</td><td>&quot;52f416800d4d8c…</td><td>54</td><td>55</td><td>11.0</td><td>19.0</td><td>344.0</td><td>364.0</td><td>22652.0</td><td>22823.0</td><td>48.0</td><td>942.0</td><td>4.0</td><td>13</td><td>405</td></tr><tr><td>32446147</td><td>2569.062988</td><td>&quot;52f416800d4d8c…</td><td>54</td><td>55</td><td>11.0</td><td>19.0</td><td>344.0</td><td>364.0</td><td>22652.0</td><td>22823.0</td><td>48.0</td><td>942.0</td><td>4.0</td><td>12</td><td>375</td></tr><tr><td>34413708</td><td>62966.214844</td><td>&quot;52f416800d4d8c…</td><td>54</td><td>55</td><td>11.0</td><td>19.0</td><td>344.0</td><td>364.0</td><td>22652.0</td><td>22823.0</td><td>48.0</td><td>942.0</td><td>4.0</td><td>13</td><td>398</td></tr></tbody></table></div>"
      ],
      "text/plain": [
       "shape: (5, 16)\n",
       "┌────────────┬────────────┬────────────┬───────────┬───┬───────────┬───────────┬─────────┬─────────┐\n",
       "│ event_time ┆ amount     ┆ client_id  ┆ event_typ ┆ … ┆ src_type3 ┆ src_type3 ┆ mon_ind ┆ day_ind │\n",
       "│ ---        ┆ ---        ┆ ---        ┆ e         ┆   ┆ 1         ┆ 2         ┆ ---     ┆ ---     │\n",
       "│ i64        ┆ f32        ┆ str        ┆ ---       ┆   ┆ ---       ┆ ---       ┆ i64     ┆ i64     │\n",
       "│            ┆            ┆            ┆ i32       ┆   ┆ f64       ┆ f64       ┆         ┆         │\n",
       "╞════════════╪════════════╪════════════╪═══════════╪═══╪═══════════╪═══════════╪═════════╪═════════╡\n",
       "│ 35499473   ┆ 39204.2617 ┆ 52f416800d ┆ 54        ┆ … ┆ 942.0     ┆ 4.0       ┆ 13      ┆ 410     │\n",
       "│            ┆ 19         ┆ 4d8ca9c9be ┆           ┆   ┆           ┆           ┆         ┆         │\n",
       "│            ┆            ┆ 929fc694d2 ┆           ┆   ┆           ┆           ┆         ┆         │\n",
       "│            ┆            ┆ 57…        ┆           ┆   ┆           ┆           ┆         ┆         │\n",
       "│ 38062618   ┆ 77238.3828 ┆ 52f416800d ┆ 54        ┆ … ┆ 942.0     ┆ 4.0       ┆ 14      ┆ 440     │\n",
       "│            ┆ 12         ┆ 4d8ca9c9be ┆           ┆   ┆           ┆           ┆         ┆         │\n",
       "│            ┆            ┆ 929fc694d2 ┆           ┆   ┆           ┆           ┆         ┆         │\n",
       "│            ┆            ┆ 57…        ┆           ┆   ┆           ┆           ┆         ┆         │\n",
       "│ 35018297   ┆ 14293.9580 ┆ 52f416800d ┆ 54        ┆ … ┆ 942.0     ┆ 4.0       ┆ 13      ┆ 405     │\n",
       "│            ┆ 08         ┆ 4d8ca9c9be ┆           ┆   ┆           ┆           ┆         ┆         │\n",
       "│            ┆            ┆ 929fc694d2 ┆           ┆   ┆           ┆           ┆         ┆         │\n",
       "│            ┆            ┆ 57…        ┆           ┆   ┆           ┆           ┆         ┆         │\n",
       "│ 32446147   ┆ 2569.06298 ┆ 52f416800d ┆ 54        ┆ … ┆ 942.0     ┆ 4.0       ┆ 12      ┆ 375     │\n",
       "│            ┆ 8          ┆ 4d8ca9c9be ┆           ┆   ┆           ┆           ┆         ┆         │\n",
       "│            ┆            ┆ 929fc694d2 ┆           ┆   ┆           ┆           ┆         ┆         │\n",
       "│            ┆            ┆ 57…        ┆           ┆   ┆           ┆           ┆         ┆         │\n",
       "│ 34413708   ┆ 62966.2148 ┆ 52f416800d ┆ 54        ┆ … ┆ 942.0     ┆ 4.0       ┆ 13      ┆ 398     │\n",
       "│            ┆ 44         ┆ 4d8ca9c9be ┆           ┆   ┆           ┆           ┆         ┆         │\n",
       "│            ┆            ┆ 929fc694d2 ┆           ┆   ┆           ┆           ┆         ┆         │\n",
       "│            ┆            ┆ 57…        ┆           ┆   ┆           ┆           ┆         ┆         │\n",
       "└────────────┴────────────┴────────────┴───────────┴───┴───────────┴───────────┴─────────┴─────────┘"
      ]
     },
     "execution_count": 6,
     "metadata": {},
     "output_type": "execute_result"
    }
   ],
   "source": [
    "train_trx = pl.read_parquet(\"F:/chunks/trx_train.pq\")\n",
    "train_trx = prepare_data(train_trx)\n",
    "train_trx = train_trx.filter(pl.col(\"event_time\") < datetime.strptime(months[mon], \"%Y-%m-%d\").replace(day=1))\n",
    "print(train_trx.shape)\n",
    "train_trx.head()"
   ]
  },
  {
   "cell_type": "code",
   "execution_count": 7,
   "id": "34562b61",
   "metadata": {},
   "outputs": [
    {
     "data": {
      "text/html": [
       "<div><style>\n",
       ".dataframe > thead > tr > th,\n",
       ".dataframe > tbody > tr > td {\n",
       "  text-align: right;\n",
       "  white-space: pre-wrap;\n",
       "}\n",
       "</style>\n",
       "<small>shape: (5, 2)</small><table border=\"1\" class=\"dataframe\"><thead><tr><th>client_id</th><th>target</th></tr><tr><td>str</td><td>list[i32]</td></tr></thead><tbody><tr><td>&quot;06a2ce26f19242…</td><td>[0, 0, … 0]</td></tr><tr><td>&quot;06d250bda1fe78…</td><td>[0, 0, … 0]</td></tr><tr><td>&quot;1d0fd54040602e…</td><td>[0, 0, … 0]</td></tr><tr><td>&quot;85c233cac30252…</td><td>[0, 0, … 0]</td></tr><tr><td>&quot;16d2d3fbdef66b…</td><td>[0, 0, … 0]</td></tr></tbody></table></div>"
      ],
      "text/plain": [
       "shape: (5, 2)\n",
       "┌───────────────────────────────────┬─────────────┐\n",
       "│ client_id                         ┆ target      │\n",
       "│ ---                               ┆ ---         │\n",
       "│ str                               ┆ list[i32]   │\n",
       "╞═══════════════════════════════════╪═════════════╡\n",
       "│ 06a2ce26f192429c657a44eb0f587fc1… ┆ [0, 0, … 0] │\n",
       "│ 06d250bda1fe780a40612ba6f53a333c… ┆ [0, 0, … 0] │\n",
       "│ 1d0fd54040602e441003fae7cd722920… ┆ [0, 0, … 0] │\n",
       "│ 85c233cac302527b1b5fe31396c7504a… ┆ [0, 0, … 0] │\n",
       "│ 16d2d3fbdef66b1af7c0f18b81f2a628… ┆ [0, 0, … 0] │\n",
       "└───────────────────────────────────┴─────────────┘"
      ]
     },
     "execution_count": 7,
     "metadata": {},
     "output_type": "execute_result"
    }
   ],
   "source": [
    "train_target = pl.read_parquet(\"F:/chunks/train_target.pq\")\n",
    "train_target = train_target.with_columns(\n",
    "    target=pl.concat_list([f\"target_{i}\" for i in range(1, 5)])\n",
    ")\n",
    "train_target = train_target.select((\"client_id\", \"target\"))\n",
    "train_target.head()"
   ]
  },
  {
   "cell_type": "code",
   "execution_count": null,
   "id": "aaab0457",
   "metadata": {},
   "outputs": [],
   "source": []
  },
  {
   "cell_type": "code",
   "execution_count": 8,
   "id": "ca66a389",
   "metadata": {},
   "outputs": [
    {
     "name": "stdout",
     "output_type": "stream",
     "text": [
      "(8361985, 16)\n"
     ]
    },
    {
     "data": {
      "text/html": [
       "<div><style>\n",
       ".dataframe > thead > tr > th,\n",
       ".dataframe > tbody > tr > td {\n",
       "  text-align: right;\n",
       "  white-space: pre-wrap;\n",
       "}\n",
       "</style>\n",
       "<small>shape: (5, 16)</small><table border=\"1\" class=\"dataframe\"><thead><tr><th>event_time</th><th>amount</th><th>client_id</th><th>event_type</th><th>event_subtype</th><th>currency</th><th>src_type11</th><th>src_type12</th><th>dst_type11</th><th>dst_type12</th><th>src_type21</th><th>src_type22</th><th>src_type31</th><th>src_type32</th><th>mon_ind</th><th>day_ind</th></tr><tr><td>i64</td><td>f32</td><td>str</td><td>i32</td><td>i32</td><td>f64</td><td>f64</td><td>f64</td><td>f64</td><td>f64</td><td>f64</td><td>f64</td><td>f64</td><td>f64</td><td>i64</td><td>i64</td></tr></thead><tbody><tr><td>40850365</td><td>183.638657</td><td>&quot;1b290c64a11658…</td><td>25</td><td>47</td><td>11.0</td><td>19.0</td><td>344.0</td><td>1166.0</td><td>30836.0</td><td>44170.0</td><td>85.0</td><td>724.0</td><td>70.0</td><td>15</td><td>472</td></tr><tr><td>33121383</td><td>418.706451</td><td>&quot;1b290c64a11658…</td><td>40</td><td>51</td><td>11.0</td><td>72.0</td><td>189.0</td><td>938.0</td><td>18481.0</td><td>44170.0</td><td>85.0</td><td>724.0</td><td>70.0</td><td>12</td><td>383</td></tr><tr><td>47772211</td><td>2831.543945</td><td>&quot;1b290c64a11658…</td><td>52</td><td>12</td><td>11.0</td><td>128.0</td><td>456.0</td><td>1302.0</td><td>8693.0</td><td>44170.0</td><td>85.0</td><td>724.0</td><td>70.0</td><td>18</td><td>552</td></tr><tr><td>43369115</td><td>5114.887695</td><td>&quot;1b290c64a11658…</td><td>40</td><td>51</td><td>11.0</td><td>72.0</td><td>682.0</td><td>433.0</td><td>10049.0</td><td>44170.0</td><td>85.0</td><td>724.0</td><td>70.0</td><td>16</td><td>501</td></tr><tr><td>45257498</td><td>202.14978</td><td>&quot;1b290c64a11658…</td><td>52</td><td>12</td><td>11.0</td><td>128.0</td><td>456.0</td><td>1302.0</td><td>8693.0</td><td>44170.0</td><td>85.0</td><td>724.0</td><td>70.0</td><td>17</td><td>523</td></tr></tbody></table></div>"
      ],
      "text/plain": [
       "shape: (5, 16)\n",
       "┌────────────┬────────────┬────────────┬───────────┬───┬───────────┬───────────┬─────────┬─────────┐\n",
       "│ event_time ┆ amount     ┆ client_id  ┆ event_typ ┆ … ┆ src_type3 ┆ src_type3 ┆ mon_ind ┆ day_ind │\n",
       "│ ---        ┆ ---        ┆ ---        ┆ e         ┆   ┆ 1         ┆ 2         ┆ ---     ┆ ---     │\n",
       "│ i64        ┆ f32        ┆ str        ┆ ---       ┆   ┆ ---       ┆ ---       ┆ i64     ┆ i64     │\n",
       "│            ┆            ┆            ┆ i32       ┆   ┆ f64       ┆ f64       ┆         ┆         │\n",
       "╞════════════╪════════════╪════════════╪═══════════╪═══╪═══════════╪═══════════╪═════════╪═════════╡\n",
       "│ 40850365   ┆ 183.638657 ┆ 1b290c64a1 ┆ 25        ┆ … ┆ 724.0     ┆ 70.0      ┆ 15      ┆ 472     │\n",
       "│            ┆            ┆ 16588b49f0 ┆           ┆   ┆           ┆           ┆         ┆         │\n",
       "│            ┆            ┆ d4180fc9ee ┆           ┆   ┆           ┆           ┆         ┆         │\n",
       "│            ┆            ┆ 4b…        ┆           ┆   ┆           ┆           ┆         ┆         │\n",
       "│ 33121383   ┆ 418.706451 ┆ 1b290c64a1 ┆ 40        ┆ … ┆ 724.0     ┆ 70.0      ┆ 12      ┆ 383     │\n",
       "│            ┆            ┆ 16588b49f0 ┆           ┆   ┆           ┆           ┆         ┆         │\n",
       "│            ┆            ┆ d4180fc9ee ┆           ┆   ┆           ┆           ┆         ┆         │\n",
       "│            ┆            ┆ 4b…        ┆           ┆   ┆           ┆           ┆         ┆         │\n",
       "│ 47772211   ┆ 2831.54394 ┆ 1b290c64a1 ┆ 52        ┆ … ┆ 724.0     ┆ 70.0      ┆ 18      ┆ 552     │\n",
       "│            ┆ 5          ┆ 16588b49f0 ┆           ┆   ┆           ┆           ┆         ┆         │\n",
       "│            ┆            ┆ d4180fc9ee ┆           ┆   ┆           ┆           ┆         ┆         │\n",
       "│            ┆            ┆ 4b…        ┆           ┆   ┆           ┆           ┆         ┆         │\n",
       "│ 43369115   ┆ 5114.88769 ┆ 1b290c64a1 ┆ 40        ┆ … ┆ 724.0     ┆ 70.0      ┆ 16      ┆ 501     │\n",
       "│            ┆ 5          ┆ 16588b49f0 ┆           ┆   ┆           ┆           ┆         ┆         │\n",
       "│            ┆            ┆ d4180fc9ee ┆           ┆   ┆           ┆           ┆         ┆         │\n",
       "│            ┆            ┆ 4b…        ┆           ┆   ┆           ┆           ┆         ┆         │\n",
       "│ 45257498   ┆ 202.14978  ┆ 1b290c64a1 ┆ 52        ┆ … ┆ 724.0     ┆ 70.0      ┆ 17      ┆ 523     │\n",
       "│            ┆            ┆ 16588b49f0 ┆           ┆   ┆           ┆           ┆         ┆         │\n",
       "│            ┆            ┆ d4180fc9ee ┆           ┆   ┆           ┆           ┆         ┆         │\n",
       "│            ┆            ┆ 4b…        ┆           ┆   ┆           ┆           ┆         ┆         │\n",
       "└────────────┴────────────┴────────────┴───────────┴───┴───────────┴───────────┴─────────┴─────────┘"
      ]
     },
     "execution_count": 8,
     "metadata": {},
     "output_type": "execute_result"
    }
   ],
   "source": [
    "val_trx = pl.read_parquet(\"F:/chunks/trx_val.pq\")\n",
    "val_trx = prepare_data(val_trx)\n",
    "val_trx = val_trx.filter(pl.col(\"event_time\") < datetime.strptime(months[mon], \"%Y-%m-%d\").replace(day=1))\n",
    "print(val_trx.shape)\n",
    "val_trx.head()"
   ]
  },
  {
   "cell_type": "code",
   "execution_count": 9,
   "id": "d2048b7c",
   "metadata": {},
   "outputs": [
    {
     "data": {
      "text/html": [
       "<div><style>\n",
       ".dataframe > thead > tr > th,\n",
       ".dataframe > tbody > tr > td {\n",
       "  text-align: right;\n",
       "  white-space: pre-wrap;\n",
       "}\n",
       "</style>\n",
       "<small>shape: (5, 2)</small><table border=\"1\" class=\"dataframe\"><thead><tr><th>client_id</th><th>target</th></tr><tr><td>str</td><td>list[i32]</td></tr></thead><tbody><tr><td>&quot;c67a6454099213…</td><td>[0, 0, … 0]</td></tr><tr><td>&quot;e225b104fe6428…</td><td>[0, 0, … 0]</td></tr><tr><td>&quot;eacde9cdeaf7ec…</td><td>[0, 0, … 0]</td></tr><tr><td>&quot;e962187af0d4fa…</td><td>[0, 0, … 0]</td></tr><tr><td>&quot;12502ddd41e10e…</td><td>[0, 0, … 0]</td></tr></tbody></table></div>"
      ],
      "text/plain": [
       "shape: (5, 2)\n",
       "┌───────────────────────────────────┬─────────────┐\n",
       "│ client_id                         ┆ target      │\n",
       "│ ---                               ┆ ---         │\n",
       "│ str                               ┆ list[i32]   │\n",
       "╞═══════════════════════════════════╪═════════════╡\n",
       "│ c67a645409921310004f1897191ee97c… ┆ [0, 0, … 0] │\n",
       "│ e225b104fe6428dda26779e1f295075e… ┆ [0, 0, … 0] │\n",
       "│ eacde9cdeaf7eca6b7326eba8791f567… ┆ [0, 0, … 0] │\n",
       "│ e962187af0d4faf70a99717bc07c3252… ┆ [0, 0, … 0] │\n",
       "│ 12502ddd41e10e3c08917d56dd650494… ┆ [0, 0, … 0] │\n",
       "└───────────────────────────────────┴─────────────┘"
      ]
     },
     "execution_count": 9,
     "metadata": {},
     "output_type": "execute_result"
    }
   ],
   "source": [
    "val_target = pl.read_parquet(\"F:/chunks/val_target.pq\")\n",
    "val_target = val_target.with_columns(\n",
    "    target=pl.concat_list([f\"target_{i}\" for i in range(1, 5)])\n",
    ")\n",
    "val_target = val_target.select((\"client_id\", \"target\"))\n",
    "val_target.head()"
   ]
  },
  {
   "cell_type": "code",
   "execution_count": null,
   "id": "8886042a",
   "metadata": {},
   "outputs": [],
   "source": []
  },
  {
   "cell_type": "code",
   "execution_count": 10,
   "id": "37cdf7a9",
   "metadata": {},
   "outputs": [],
   "source": [
    "trx_preprocessor = PolarsDataPreprocessor(\n",
    "    col_id=\"client_id\",\n",
    "    col_event_time=\"event_time\",\n",
    "    cols_category=[\n",
    "        \"mon_ind\", \"day_ind\", \n",
    "        \"event_type\", \"event_subtype\", \n",
    "        \"currency\",\n",
    "        \"src_type11\", \"src_type12\", \"dst_type11\", \"dst_type12\",\n",
    "        \"src_type21\", \"src_type22\", \"src_type31\", \"src_type32\",\n",
    "    ],\n",
    "    # cols_numerical=[\"amount\"],\n",
    ")"
   ]
  },
  {
   "cell_type": "code",
   "execution_count": 11,
   "id": "2aace023",
   "metadata": {},
   "outputs": [
    {
     "name": "stdout",
     "output_type": "stream",
     "text": [
      "CPU times: total: 2min 56s\n",
      "Wall time: 40.9 s\n"
     ]
    }
   ],
   "source": [
    "%%time\n",
    "\n",
    "train_trx = trx_preprocessor.fit_transform(train_trx)"
   ]
  },
  {
   "cell_type": "code",
   "execution_count": 12,
   "id": "e15e191a",
   "metadata": {},
   "outputs": [
    {
     "name": "stdout",
     "output_type": "stream",
     "text": [
      "CPU times: total: 1min 21s\n",
      "Wall time: 6.53 s\n"
     ]
    }
   ],
   "source": [
    "%%time\n",
    "\n",
    "val_trx = trx_preprocessor.transform(val_trx)"
   ]
  },
  {
   "cell_type": "code",
   "execution_count": null,
   "id": "b8925b8d",
   "metadata": {},
   "outputs": [],
   "source": []
  },
  {
   "cell_type": "code",
   "execution_count": 13,
   "id": "3850a4bf",
   "metadata": {},
   "outputs": [],
   "source": [
    "train_trx = train_trx.join(train_target, on=\"client_id\", how=\"outer\")\n",
    "val_trx = val_trx.join(val_target, on=\"client_id\", how=\"outer\")"
   ]
  },
  {
   "cell_type": "code",
   "execution_count": null,
   "id": "4c917cc8",
   "metadata": {},
   "outputs": [],
   "source": []
  },
  {
   "cell_type": "code",
   "execution_count": 14,
   "id": "2acd3068",
   "metadata": {},
   "outputs": [],
   "source": [
    "def to_records(data):\n",
    "    res = [{} for _ in range(len(data))]\n",
    "    for i, value in enumerate(data[\"target\"]):\n",
    "        res[i][\"target\"] = torch.tensor(value.to_numpy())\n",
    "    for col, dtype in zip(data.columns, data.dtypes):\n",
    "        if col in (\"client_id\", \"target\"):\n",
    "            continue\n",
    "        assert dtype == pl.List\n",
    "        for i, value in enumerate(data[col].fill_null([])):\n",
    "            res[i][col] = torch.tensor(value.to_numpy())\n",
    "    return res"
   ]
  },
  {
   "cell_type": "code",
   "execution_count": 15,
   "id": "b1a4c0d5",
   "metadata": {},
   "outputs": [],
   "source": [
    "train_dict = to_records(train_trx)\n",
    "val_dict = to_records(val_trx)"
   ]
  },
  {
   "cell_type": "code",
   "execution_count": null,
   "id": "68b3cab1",
   "metadata": {},
   "outputs": [],
   "source": []
  },
  {
   "cell_type": "code",
   "execution_count": 16,
   "id": "f4f5453b",
   "metadata": {},
   "outputs": [],
   "source": [
    "from ptls.frames.supervised import SeqToTargetDataset"
   ]
  },
  {
   "cell_type": "code",
   "execution_count": 17,
   "id": "fb8627f9",
   "metadata": {},
   "outputs": [],
   "source": [
    "train_data = SeqToTargetDataset(train_dict, target_col_name=\"target\", target_dtype=torch.float32)\n",
    "val_data = SeqToTargetDataset(val_dict, target_col_name=\"target\", target_dtype=torch.float32)"
   ]
  },
  {
   "cell_type": "code",
   "execution_count": 18,
   "id": "0f62aca8",
   "metadata": {},
   "outputs": [],
   "source": [
    "from ptls.frames import PtlsDataModule"
   ]
  },
  {
   "cell_type": "code",
   "execution_count": 19,
   "id": "4c332d9d",
   "metadata": {},
   "outputs": [],
   "source": [
    "sup_data = PtlsDataModule(\n",
    "    train_data=train_data,\n",
    "    train_num_workers=0,\n",
    "    train_batch_size=64,\n",
    "    valid_data=val_data,\n",
    "    valid_num_workers=0,\n",
    "    valid_batch_size=64,\n",
    ")"
   ]
  },
  {
   "cell_type": "code",
   "execution_count": 20,
   "id": "4d90823b",
   "metadata": {
    "scrolled": true
   },
   "outputs": [],
   "source": [
    "_ = next(iter(sup_data.train_dataloader()))"
   ]
  },
  {
   "cell_type": "code",
   "execution_count": null,
   "id": "45a823c7",
   "metadata": {},
   "outputs": [],
   "source": []
  },
  {
   "cell_type": "code",
   "execution_count": 105,
   "id": "23673993",
   "metadata": {},
   "outputs": [
    {
     "data": {
      "text/plain": [
       "{'mon_ind': 14,\n",
       " 'day_ind': 356,\n",
       " 'event_type': 55,\n",
       " 'event_subtype': 57,\n",
       " 'currency': 13,\n",
       " 'src_type11': 46,\n",
       " 'src_type12': 182,\n",
       " 'dst_type11': 57,\n",
       " 'dst_type12': 248,\n",
       " 'src_type21': 8220,\n",
       " 'src_type22': 87,\n",
       " 'src_type31': 1617,\n",
       " 'src_type32': 88}"
      ]
     },
     "execution_count": 105,
     "metadata": {},
     "output_type": "execute_result"
    }
   ],
   "source": [
    "trx_preprocessor.get_category_dictionary_sizes()"
   ]
  },
  {
   "cell_type": "code",
   "execution_count": 106,
   "id": "65e3222c",
   "metadata": {},
   "outputs": [],
   "source": [
    "trx_encoder_params = dict(\n",
    "    embeddings_noise=0.003,\n",
    "    linear_projection_size=128,\n",
    "    embeddings = {\n",
    "        \"mon_ind\": {\"in\": 14, \"out\": 7},\n",
    "        \"day_ind\": {\"in\": 356, \"out\": 64},\n",
    "        \n",
    "        \"event_type\": {\"in\": 55, \"out\": 16},\n",
    "        \"event_subtype\": {\"in\": 57, \"out\": 16},\n",
    "        \n",
    "        \"currency\": {\"in\": 13, \"out\": 6},\n",
    "        \n",
    "        \"src_type11\": {\"in\": 46, \"out\": 16},\n",
    "        \"src_type12\": {\"in\": 182, \"out\": 32},\n",
    "        \"dst_type11\": {\"in\": 57, \"out\": 16},\n",
    "        \"dst_type12\": {\"in\": 248, \"out\": 32},\n",
    "        \n",
    "        # \"src_type21\": {\"in\": 8220, \"out\": 64},\n",
    "        \"src_type22\": {\"in\": 87, \"out\": 16},\n",
    "        # \"src_type31\": {\"in\": 1617, \"out\": 64},\n",
    "        \"src_type32\": {\"in\": 88, \"out\": 16},\n",
    "    },\n",
    "    # numeric_values = {\n",
    "    #     \"amount\": \"log\",\n",
    "    # },\n",
    "    # use_batch_norm_with_lens=True\n",
    ")"
   ]
  },
  {
   "cell_type": "code",
   "execution_count": 107,
   "id": "11167772",
   "metadata": {},
   "outputs": [],
   "source": [
    "from ptls.nn import TrxEncoder"
   ]
  },
  {
   "cell_type": "code",
   "execution_count": 108,
   "id": "4466d2d3",
   "metadata": {},
   "outputs": [],
   "source": [
    "trx_encoder = TrxEncoder(**trx_encoder_params)"
   ]
  },
  {
   "cell_type": "code",
   "execution_count": 109,
   "id": "7e7ae398",
   "metadata": {},
   "outputs": [],
   "source": [
    "from torchinfo import summary"
   ]
  },
  {
   "cell_type": "code",
   "execution_count": 110,
   "id": "d76c223e",
   "metadata": {},
   "outputs": [
    {
     "data": {
      "text/plain": [
       "=================================================================\n",
       "Layer (type:depth-idx)                   Param #\n",
       "=================================================================\n",
       "TrxEncoder                               --\n",
       "├─ModuleDict: 1-1                        --\n",
       "│    └─NoisyEmbedding: 2-1               98\n",
       "│    │    └─Dropout: 3-1                 --\n",
       "│    └─NoisyEmbedding: 2-2               22,784\n",
       "│    │    └─Dropout: 3-2                 --\n",
       "│    └─NoisyEmbedding: 2-3               880\n",
       "│    │    └─Dropout: 3-3                 --\n",
       "│    └─NoisyEmbedding: 2-4               912\n",
       "│    │    └─Dropout: 3-4                 --\n",
       "│    └─NoisyEmbedding: 2-5               78\n",
       "│    │    └─Dropout: 3-5                 --\n",
       "│    └─NoisyEmbedding: 2-6               736\n",
       "│    │    └─Dropout: 3-6                 --\n",
       "│    └─NoisyEmbedding: 2-7               5,824\n",
       "│    │    └─Dropout: 3-7                 --\n",
       "│    └─NoisyEmbedding: 2-8               912\n",
       "│    │    └─Dropout: 3-8                 --\n",
       "│    └─NoisyEmbedding: 2-9               7,936\n",
       "│    │    └─Dropout: 3-9                 --\n",
       "│    └─NoisyEmbedding: 2-10              1,392\n",
       "│    │    └─Dropout: 3-10                --\n",
       "│    └─NoisyEmbedding: 2-11              1,408\n",
       "│    │    └─Dropout: 3-11                --\n",
       "├─ModuleDict: 1-2                        --\n",
       "├─Linear: 1-3                            30,464\n",
       "=================================================================\n",
       "Total params: 73,424\n",
       "Trainable params: 73,424\n",
       "Non-trainable params: 0\n",
       "================================================================="
      ]
     },
     "execution_count": 110,
     "metadata": {},
     "output_type": "execute_result"
    }
   ],
   "source": [
    "summary(trx_encoder)"
   ]
  },
  {
   "cell_type": "code",
   "execution_count": 111,
   "id": "738346a2",
   "metadata": {},
   "outputs": [],
   "source": [
    "from ptls.nn import RnnSeqEncoder"
   ]
  },
  {
   "cell_type": "code",
   "execution_count": 112,
   "id": "f01c385d",
   "metadata": {},
   "outputs": [],
   "source": [
    "from ptls.nn import PBLayerNorm, PBL2Norm"
   ]
  },
  {
   "cell_type": "code",
   "execution_count": 113,
   "id": "641430eb",
   "metadata": {},
   "outputs": [],
   "source": [
    "seq_encoder = RnnSeqEncoder(\n",
    "    trx_encoder=nn.Sequential(trx_encoder, PBL2Norm(), PBLayerNorm(trx_encoder.output_size)),\n",
    "    input_size=trx_encoder.output_size,\n",
    "    hidden_size=128,\n",
    "    # bidir=True,\n",
    "    # num_layers=2,\n",
    ")"
   ]
  },
  {
   "cell_type": "code",
   "execution_count": 114,
   "id": "75a7b68d",
   "metadata": {},
   "outputs": [],
   "source": [
    "classifier = nn.Sequential(\n",
    "    nn.Linear(128, 64),\n",
    "    nn.ReLU(),\n",
    "    nn.Linear(64, 4),\n",
    ")"
   ]
  },
  {
   "cell_type": "code",
   "execution_count": 115,
   "id": "7a955b93",
   "metadata": {},
   "outputs": [],
   "source": [
    "from functools import partial\n",
    "from ptls.frames.supervised import SeqToTargetDataset, SequenceToTarget\n",
    "from ptls.frames import PtlsDataModule\n",
    "import torch.nn as nn\n",
    "import torchmetrics"
   ]
  },
  {
   "cell_type": "code",
   "execution_count": 116,
   "id": "a2c4aca1",
   "metadata": {},
   "outputs": [],
   "source": [
    "class AUROC(nn.Module):\n",
    "    def __init__(self):\n",
    "        super().__init__()\n",
    "        self.metric = torchmetrics.AUROC(task='multilabel', num_labels=4)\n",
    "    def forward(self, preds, target):\n",
    "        return self.metric(preds, target.int())\n",
    "    def compute(self):\n",
    "        return self.metric.compute()\n",
    "    def reset(self):\n",
    "        return self.metric.reset()"
   ]
  },
  {
   "cell_type": "code",
   "execution_count": 117,
   "id": "607ef341",
   "metadata": {},
   "outputs": [],
   "source": [
    "sup_module = SequenceToTarget(\n",
    "    seq_encoder=seq_encoder,\n",
    "    head=classifier,\n",
    "    loss=nn.BCEWithLogitsLoss(),\n",
    "    metric_list=AUROC(),\n",
    "    optimizer_partial=partial(torch.optim.AdamW, lr=1e-4),\n",
    "    lr_scheduler_partial=partial(torch.optim.lr_scheduler.ConstantLR, factor=1.0),\n",
    ")"
   ]
  },
  {
   "cell_type": "code",
   "execution_count": 118,
   "id": "41d8cf42",
   "metadata": {},
   "outputs": [
    {
     "data": {
      "text/plain": [
       "SequenceToTarget(\n",
       "  (seq_encoder): RnnSeqEncoder(\n",
       "    (trx_encoder): Sequential(\n",
       "      (0): TrxEncoder(\n",
       "        (embeddings): ModuleDict(\n",
       "          (mon_ind): NoisyEmbedding(\n",
       "            14, 7, padding_idx=0\n",
       "            (dropout): Dropout(p=0, inplace=False)\n",
       "          )\n",
       "          (day_ind): NoisyEmbedding(\n",
       "            356, 64, padding_idx=0\n",
       "            (dropout): Dropout(p=0, inplace=False)\n",
       "          )\n",
       "          (event_type): NoisyEmbedding(\n",
       "            55, 16, padding_idx=0\n",
       "            (dropout): Dropout(p=0, inplace=False)\n",
       "          )\n",
       "          (event_subtype): NoisyEmbedding(\n",
       "            57, 16, padding_idx=0\n",
       "            (dropout): Dropout(p=0, inplace=False)\n",
       "          )\n",
       "          (currency): NoisyEmbedding(\n",
       "            13, 6, padding_idx=0\n",
       "            (dropout): Dropout(p=0, inplace=False)\n",
       "          )\n",
       "          (src_type11): NoisyEmbedding(\n",
       "            46, 16, padding_idx=0\n",
       "            (dropout): Dropout(p=0, inplace=False)\n",
       "          )\n",
       "          (src_type12): NoisyEmbedding(\n",
       "            182, 32, padding_idx=0\n",
       "            (dropout): Dropout(p=0, inplace=False)\n",
       "          )\n",
       "          (dst_type11): NoisyEmbedding(\n",
       "            57, 16, padding_idx=0\n",
       "            (dropout): Dropout(p=0, inplace=False)\n",
       "          )\n",
       "          (dst_type12): NoisyEmbedding(\n",
       "            248, 32, padding_idx=0\n",
       "            (dropout): Dropout(p=0, inplace=False)\n",
       "          )\n",
       "          (src_type22): NoisyEmbedding(\n",
       "            87, 16, padding_idx=0\n",
       "            (dropout): Dropout(p=0, inplace=False)\n",
       "          )\n",
       "          (src_type32): NoisyEmbedding(\n",
       "            88, 16, padding_idx=0\n",
       "            (dropout): Dropout(p=0, inplace=False)\n",
       "          )\n",
       "        )\n",
       "        (custom_embeddings): ModuleDict()\n",
       "        (linear_projection_head): Linear(in_features=237, out_features=128, bias=True)\n",
       "      )\n",
       "      (1): PBShell()\n",
       "      (2): PBShell((128,), eps=1e-05, elementwise_affine=True)\n",
       "    )\n",
       "    (seq_encoder): RnnEncoder(\n",
       "      (rnn): GRU(128, 128, num_layers=2, batch_first=True)\n",
       "      (reducer): LastStepEncoder()\n",
       "    )\n",
       "  )\n",
       "  (head): Sequential(\n",
       "    (0): Linear(in_features=128, out_features=64, bias=True)\n",
       "    (1): ReLU()\n",
       "    (2): Linear(in_features=64, out_features=4, bias=True)\n",
       "  )\n",
       "  (loss): BCEWithLogitsLoss()\n",
       "  (train_metrics): ModuleDict(\n",
       "    (AUROC): AUROC(\n",
       "      (metric): MultilabelAUROC()\n",
       "    )\n",
       "  )\n",
       "  (valid_metrics): ModuleDict(\n",
       "    (AUROC): AUROC(\n",
       "      (metric): MultilabelAUROC()\n",
       "    )\n",
       "  )\n",
       "  (test_metrics): ModuleDict(\n",
       "    (AUROC): AUROC(\n",
       "      (metric): MultilabelAUROC()\n",
       "    )\n",
       "  )\n",
       ")"
      ]
     },
     "execution_count": 118,
     "metadata": {},
     "output_type": "execute_result"
    }
   ],
   "source": [
    "sup_module"
   ]
  },
  {
   "cell_type": "code",
   "execution_count": 119,
   "id": "0e985240",
   "metadata": {},
   "outputs": [],
   "source": [
    "from pytorch_lightning.loggers import WandbLogger"
   ]
  },
  {
   "cell_type": "code",
   "execution_count": 120,
   "id": "a6499f9c",
   "metadata": {},
   "outputs": [],
   "source": [
    "from pytorch_lightning.callbacks import LearningRateMonitor"
   ]
  },
  {
   "cell_type": "code",
   "execution_count": 121,
   "id": "c8433c15",
   "metadata": {},
   "outputs": [],
   "source": [
    "lr_monitor = LearningRateMonitor(logging_interval=\"step\")"
   ]
  },
  {
   "cell_type": "code",
   "execution_count": 122,
   "id": "b5b257fb",
   "metadata": {},
   "outputs": [
    {
     "name": "stderr",
     "output_type": "stream",
     "text": [
      "2024-06-16 15:32:54,960 [24832] WARNING  py.warnings:109: [JupyterRequire] C:\\Users\\Konder\\AppData\\Roaming\\Python\\Python38\\site-packages\\pytorch_lightning\\loggers\\wandb.py:395: UserWarning: There is a wandb run already in progress and newly created instances of `WandbLogger` will reuse this run. If this is not desired, call `wandb.finish()` before instantiating `WandbLogger`.\n",
      "  rank_zero_warn(\n",
      "\n"
     ]
    }
   ],
   "source": [
    "pl_trainer = pytorch_lightning.Trainer(\n",
    "    logger = WandbLogger(),\n",
    "    max_epochs = 15,\n",
    "    accelerator = \"gpu\",\n",
    "    devices = 1,\n",
    "    enable_progress_bar = True,\n",
    "    callbacks = [lr_monitor]\n",
    ")"
   ]
  },
  {
   "cell_type": "code",
   "execution_count": 123,
   "id": "25d49868",
   "metadata": {
    "scrolled": false
   },
   "outputs": [
    {
     "name": "stderr",
     "output_type": "stream",
     "text": [
      "2024-06-16 15:32:55,233 [24832] WARNING  py.warnings:109: [JupyterRequire] C:\\Users\\Konder\\AppData\\Roaming\\Python\\Python38\\site-packages\\pytorch_lightning\\callbacks\\model_checkpoint.py:612: UserWarning: Checkpoint directory .\\lightning_logs\\98gopiqd\\checkpoints exists and is not empty.\n",
      "  rank_zero_warn(f\"Checkpoint directory {dirpath} exists and is not empty.\")\n",
      "\n"
     ]
    },
    {
     "data": {
      "application/vnd.jupyter.widget-view+json": {
       "model_id": "",
       "version_major": 2,
       "version_minor": 0
      },
      "text/plain": [
       "Sanity Checking: 0it [00:00, ?it/s]"
      ]
     },
     "metadata": {},
     "output_type": "display_data"
    },
    {
     "name": "stderr",
     "output_type": "stream",
     "text": [
      "2024-06-16 15:32:55,282 [24832] WARNING  py.warnings:109: [JupyterRequire] C:\\Users\\Konder\\AppData\\Roaming\\Python\\Python38\\site-packages\\pytorch_lightning\\trainer\\connectors\\data_connector.py:430: PossibleUserWarning: The dataloader, val_dataloader, does not have many workers which may be a bottleneck. Consider increasing the value of the `num_workers` argument` (try 24 which is the number of cpus on this machine) in the `DataLoader` init to improve performance.\n",
      "  rank_zero_warn(\n",
      "\n",
      "2024-06-16 15:32:55,459 [24832] WARNING  py.warnings:109: [JupyterRequire] C:\\Users\\Konder\\AppData\\Roaming\\Python\\Python38\\site-packages\\torchmetrics\\utilities\\prints.py:36: UserWarning: No positive samples in targets, true positive value should be meaningless. Returning zero tensor in true positive score\n",
      "  warnings.warn(*args, **kwargs)\n",
      "\n",
      "2024-06-16 15:32:55,504 [24832] WARNING  py.warnings:109: [JupyterRequire] C:\\Users\\Konder\\AppData\\Roaming\\Python\\Python38\\site-packages\\pytorch_lightning\\trainer\\connectors\\data_connector.py:430: PossibleUserWarning: The dataloader, train_dataloader, does not have many workers which may be a bottleneck. Consider increasing the value of the `num_workers` argument` (try 24 which is the number of cpus on this machine) in the `DataLoader` init to improve performance.\n",
      "  rank_zero_warn(\n",
      "\n"
     ]
    },
    {
     "data": {
      "application/vnd.jupyter.widget-view+json": {
       "model_id": "25f434f8955148aebcd091ceecbb7114",
       "version_major": 2,
       "version_minor": 0
      },
      "text/plain": [
       "Training: 0it [00:00, ?it/s]"
      ]
     },
     "metadata": {},
     "output_type": "display_data"
    },
    {
     "data": {
      "application/vnd.jupyter.widget-view+json": {
       "model_id": "",
       "version_major": 2,
       "version_minor": 0
      },
      "text/plain": [
       "Validation: 0it [00:00, ?it/s]"
      ]
     },
     "metadata": {},
     "output_type": "display_data"
    },
    {
     "data": {
      "application/vnd.jupyter.widget-view+json": {
       "model_id": "",
       "version_major": 2,
       "version_minor": 0
      },
      "text/plain": [
       "Validation: 0it [00:00, ?it/s]"
      ]
     },
     "metadata": {},
     "output_type": "display_data"
    },
    {
     "data": {
      "application/vnd.jupyter.widget-view+json": {
       "model_id": "",
       "version_major": 2,
       "version_minor": 0
      },
      "text/plain": [
       "Validation: 0it [00:00, ?it/s]"
      ]
     },
     "metadata": {},
     "output_type": "display_data"
    },
    {
     "data": {
      "application/vnd.jupyter.widget-view+json": {
       "model_id": "",
       "version_major": 2,
       "version_minor": 0
      },
      "text/plain": [
       "Validation: 0it [00:00, ?it/s]"
      ]
     },
     "metadata": {},
     "output_type": "display_data"
    },
    {
     "data": {
      "application/vnd.jupyter.widget-view+json": {
       "model_id": "",
       "version_major": 2,
       "version_minor": 0
      },
      "text/plain": [
       "Validation: 0it [00:00, ?it/s]"
      ]
     },
     "metadata": {},
     "output_type": "display_data"
    },
    {
     "data": {
      "application/vnd.jupyter.widget-view+json": {
       "model_id": "",
       "version_major": 2,
       "version_minor": 0
      },
      "text/plain": [
       "Validation: 0it [00:00, ?it/s]"
      ]
     },
     "metadata": {},
     "output_type": "display_data"
    }
   ],
   "source": [
    "pl_trainer.fit(sup_module, sup_data)"
   ]
  },
  {
   "cell_type": "raw",
   "id": "86f886b4",
   "metadata": {},
   "source": [
    "0.749 -> 0.768 -> 0.778 -> 0.794"
   ]
  },
  {
   "cell_type": "code",
   "execution_count": 124,
   "id": "39e5bf3f",
   "metadata": {},
   "outputs": [
    {
     "name": "stderr",
     "output_type": "stream",
     "text": [
      "2024-06-16 15:43:15,609 [24832] WARNING  py.warnings:109: [JupyterRequire] C:\\Users\\Konder\\AppData\\Roaming\\Python\\Python38\\site-packages\\pytorch_lightning\\trainer\\connectors\\data_connector.py:430: PossibleUserWarning: The dataloader, predict_dataloader, does not have many workers which may be a bottleneck. Consider increasing the value of the `num_workers` argument` (try 24 which is the number of cpus on this machine) in the `DataLoader` init to improve performance.\n",
      "  rank_zero_warn(\n",
      "\n"
     ]
    },
    {
     "data": {
      "application/vnd.jupyter.widget-view+json": {
       "model_id": "38695e692d4f461e896ed24fad3adb76",
       "version_major": 2,
       "version_minor": 0
      },
      "text/plain": [
       "Predicting: 0it [00:00, ?it/s]"
      ]
     },
     "metadata": {},
     "output_type": "display_data"
    },
    {
     "name": "stderr",
     "output_type": "stream",
     "text": [
      "2024-06-16 15:43:17,274 [24832] WARNING  py.warnings:109: [JupyterRequire] C:\\Users\\Konder\\AppData\\Roaming\\Python\\Python38\\site-packages\\pytorch_lightning\\trainer\\call.py:54: UserWarning: Detected KeyboardInterrupt, attempting graceful shutdown...\n",
      "  rank_zero_warn(\"Detected KeyboardInterrupt, attempting graceful shutdown...\")\n",
      "\n"
     ]
    }
   ],
   "source": [
    "prediction = pl_trainer.predict(sup_module, sup_data.val_dataloader())"
   ]
  },
  {
   "cell_type": "code",
   "execution_count": 125,
   "id": "74a861f4",
   "metadata": {},
   "outputs": [],
   "source": [
    "import pandas as pd"
   ]
  },
  {
   "cell_type": "code",
   "execution_count": 126,
   "id": "26d3bdec",
   "metadata": {},
   "outputs": [
    {
     "ename": "TypeError",
     "evalue": "'NoneType' object is not iterable",
     "output_type": "error",
     "traceback": [
      "\u001b[1;31m---------------------------------------------------------------------------\u001b[0m",
      "\u001b[1;31mTypeError\u001b[0m                                 Traceback (most recent call last)",
      "Input \u001b[1;32mIn [126]\u001b[0m, in \u001b[0;36m<cell line: 1>\u001b[1;34m()\u001b[0m\n\u001b[1;32m----> 1\u001b[0m prediction \u001b[38;5;241m=\u001b[39m \u001b[43mpd\u001b[49m\u001b[38;5;241;43m.\u001b[39;49m\u001b[43mconcat\u001b[49m\u001b[43m(\u001b[49m\u001b[43mprediction\u001b[49m\u001b[43m)\u001b[49m\n\u001b[0;32m      2\u001b[0m prediction\n",
      "File \u001b[1;32m~\\AppData\\Roaming\\Python\\Python38\\site-packages\\pandas\\util\\_decorators.py:311\u001b[0m, in \u001b[0;36mdeprecate_nonkeyword_arguments.<locals>.decorate.<locals>.wrapper\u001b[1;34m(*args, **kwargs)\u001b[0m\n\u001b[0;32m    305\u001b[0m \u001b[38;5;28;01mif\u001b[39;00m \u001b[38;5;28mlen\u001b[39m(args) \u001b[38;5;241m>\u001b[39m num_allow_args:\n\u001b[0;32m    306\u001b[0m     warnings\u001b[38;5;241m.\u001b[39mwarn(\n\u001b[0;32m    307\u001b[0m         msg\u001b[38;5;241m.\u001b[39mformat(arguments\u001b[38;5;241m=\u001b[39marguments),\n\u001b[0;32m    308\u001b[0m         \u001b[38;5;167;01mFutureWarning\u001b[39;00m,\n\u001b[0;32m    309\u001b[0m         stacklevel\u001b[38;5;241m=\u001b[39mstacklevel,\n\u001b[0;32m    310\u001b[0m     )\n\u001b[1;32m--> 311\u001b[0m \u001b[38;5;28;01mreturn\u001b[39;00m \u001b[43mfunc\u001b[49m\u001b[43m(\u001b[49m\u001b[38;5;241;43m*\u001b[39;49m\u001b[43margs\u001b[49m\u001b[43m,\u001b[49m\u001b[43m \u001b[49m\u001b[38;5;241;43m*\u001b[39;49m\u001b[38;5;241;43m*\u001b[39;49m\u001b[43mkwargs\u001b[49m\u001b[43m)\u001b[49m\n",
      "File \u001b[1;32m~\\AppData\\Roaming\\Python\\Python38\\site-packages\\pandas\\core\\reshape\\concat.py:347\u001b[0m, in \u001b[0;36mconcat\u001b[1;34m(objs, axis, join, ignore_index, keys, levels, names, verify_integrity, sort, copy)\u001b[0m\n\u001b[0;32m    143\u001b[0m \u001b[38;5;129m@deprecate_nonkeyword_arguments\u001b[39m(version\u001b[38;5;241m=\u001b[39m\u001b[38;5;28;01mNone\u001b[39;00m, allowed_args\u001b[38;5;241m=\u001b[39m[\u001b[38;5;124m\"\u001b[39m\u001b[38;5;124mobjs\u001b[39m\u001b[38;5;124m\"\u001b[39m])\n\u001b[0;32m    144\u001b[0m \u001b[38;5;28;01mdef\u001b[39;00m \u001b[38;5;21mconcat\u001b[39m(\n\u001b[0;32m    145\u001b[0m     objs: Iterable[NDFrame] \u001b[38;5;241m|\u001b[39m Mapping[Hashable, NDFrame],\n\u001b[1;32m   (...)\u001b[0m\n\u001b[0;32m    154\u001b[0m     copy: \u001b[38;5;28mbool\u001b[39m \u001b[38;5;241m=\u001b[39m \u001b[38;5;28;01mTrue\u001b[39;00m,\n\u001b[0;32m    155\u001b[0m ) \u001b[38;5;241m-\u001b[39m\u001b[38;5;241m>\u001b[39m DataFrame \u001b[38;5;241m|\u001b[39m Series:\n\u001b[0;32m    156\u001b[0m     \u001b[38;5;124;03m\"\"\"\u001b[39;00m\n\u001b[0;32m    157\u001b[0m \u001b[38;5;124;03m    Concatenate pandas objects along a particular axis with optional set logic\u001b[39;00m\n\u001b[0;32m    158\u001b[0m \u001b[38;5;124;03m    along the other axes.\u001b[39;00m\n\u001b[1;32m   (...)\u001b[0m\n\u001b[0;32m    345\u001b[0m \u001b[38;5;124;03m    ValueError: Indexes have overlapping values: ['a']\u001b[39;00m\n\u001b[0;32m    346\u001b[0m \u001b[38;5;124;03m    \"\"\"\u001b[39;00m\n\u001b[1;32m--> 347\u001b[0m     op \u001b[38;5;241m=\u001b[39m \u001b[43m_Concatenator\u001b[49m\u001b[43m(\u001b[49m\n\u001b[0;32m    348\u001b[0m \u001b[43m        \u001b[49m\u001b[43mobjs\u001b[49m\u001b[43m,\u001b[49m\n\u001b[0;32m    349\u001b[0m \u001b[43m        \u001b[49m\u001b[43maxis\u001b[49m\u001b[38;5;241;43m=\u001b[39;49m\u001b[43maxis\u001b[49m\u001b[43m,\u001b[49m\n\u001b[0;32m    350\u001b[0m \u001b[43m        \u001b[49m\u001b[43mignore_index\u001b[49m\u001b[38;5;241;43m=\u001b[39;49m\u001b[43mignore_index\u001b[49m\u001b[43m,\u001b[49m\n\u001b[0;32m    351\u001b[0m \u001b[43m        \u001b[49m\u001b[43mjoin\u001b[49m\u001b[38;5;241;43m=\u001b[39;49m\u001b[43mjoin\u001b[49m\u001b[43m,\u001b[49m\n\u001b[0;32m    352\u001b[0m \u001b[43m        \u001b[49m\u001b[43mkeys\u001b[49m\u001b[38;5;241;43m=\u001b[39;49m\u001b[43mkeys\u001b[49m\u001b[43m,\u001b[49m\n\u001b[0;32m    353\u001b[0m \u001b[43m        \u001b[49m\u001b[43mlevels\u001b[49m\u001b[38;5;241;43m=\u001b[39;49m\u001b[43mlevels\u001b[49m\u001b[43m,\u001b[49m\n\u001b[0;32m    354\u001b[0m \u001b[43m        \u001b[49m\u001b[43mnames\u001b[49m\u001b[38;5;241;43m=\u001b[39;49m\u001b[43mnames\u001b[49m\u001b[43m,\u001b[49m\n\u001b[0;32m    355\u001b[0m \u001b[43m        \u001b[49m\u001b[43mverify_integrity\u001b[49m\u001b[38;5;241;43m=\u001b[39;49m\u001b[43mverify_integrity\u001b[49m\u001b[43m,\u001b[49m\n\u001b[0;32m    356\u001b[0m \u001b[43m        \u001b[49m\u001b[43mcopy\u001b[49m\u001b[38;5;241;43m=\u001b[39;49m\u001b[43mcopy\u001b[49m\u001b[43m,\u001b[49m\n\u001b[0;32m    357\u001b[0m \u001b[43m        \u001b[49m\u001b[43msort\u001b[49m\u001b[38;5;241;43m=\u001b[39;49m\u001b[43msort\u001b[49m\u001b[43m,\u001b[49m\n\u001b[0;32m    358\u001b[0m \u001b[43m    \u001b[49m\u001b[43m)\u001b[49m\n\u001b[0;32m    360\u001b[0m     \u001b[38;5;28;01mreturn\u001b[39;00m op\u001b[38;5;241m.\u001b[39mget_result()\n",
      "File \u001b[1;32m~\\AppData\\Roaming\\Python\\Python38\\site-packages\\pandas\\core\\reshape\\concat.py:401\u001b[0m, in \u001b[0;36m_Concatenator.__init__\u001b[1;34m(self, objs, axis, join, keys, levels, names, ignore_index, verify_integrity, copy, sort)\u001b[0m\n\u001b[0;32m    399\u001b[0m     objs \u001b[38;5;241m=\u001b[39m [objs[k] \u001b[38;5;28;01mfor\u001b[39;00m k \u001b[38;5;129;01min\u001b[39;00m keys]\n\u001b[0;32m    400\u001b[0m \u001b[38;5;28;01melse\u001b[39;00m:\n\u001b[1;32m--> 401\u001b[0m     objs \u001b[38;5;241m=\u001b[39m \u001b[38;5;28;43mlist\u001b[39;49m\u001b[43m(\u001b[49m\u001b[43mobjs\u001b[49m\u001b[43m)\u001b[49m\n\u001b[0;32m    403\u001b[0m \u001b[38;5;28;01mif\u001b[39;00m \u001b[38;5;28mlen\u001b[39m(objs) \u001b[38;5;241m==\u001b[39m \u001b[38;5;241m0\u001b[39m:\n\u001b[0;32m    404\u001b[0m     \u001b[38;5;28;01mraise\u001b[39;00m \u001b[38;5;167;01mValueError\u001b[39;00m(\u001b[38;5;124m\"\u001b[39m\u001b[38;5;124mNo objects to concatenate\u001b[39m\u001b[38;5;124m\"\u001b[39m)\n",
      "\u001b[1;31mTypeError\u001b[0m: 'NoneType' object is not iterable"
     ]
    }
   ],
   "source": [
    "prediction = pd.concat(prediction)\n",
    "prediction"
   ]
  },
  {
   "cell_type": "code",
   "execution_count": null,
   "id": "0b2fbc38",
   "metadata": {},
   "outputs": [],
   "source": [
    "from sklearn.metrics import roc_auc_score"
   ]
  },
  {
   "cell_type": "code",
   "execution_count": null,
   "id": "f588e63a",
   "metadata": {},
   "outputs": [],
   "source": [
    "roc_auc_score(val_trx[\"target\"].to_list(), prediction[[\"out_0000\", \"out_0001\", \"out_0002\", \"out_0003\"]])"
   ]
  },
  {
   "cell_type": "raw",
   "id": "647fa08c",
   "metadata": {},
   "source": [
    "0.7494227830746871 -> 0.7675112710923543 -> 0.7782692835298468 -> 0.7963153763604129"
   ]
  }
 ],
 "metadata": {
  "kernelspec": {
   "display_name": "Python 3 (ipykernel)",
   "language": "python",
   "name": "python3"
  },
  "language_info": {
   "codemirror_mode": {
    "name": "ipython",
    "version": 3
   },
   "file_extension": ".py",
   "mimetype": "text/x-python",
   "name": "python",
   "nbconvert_exporter": "python",
   "pygments_lexer": "ipython3",
   "version": "3.8.13"
  }
 },
 "nbformat": 4,
 "nbformat_minor": 5
}
