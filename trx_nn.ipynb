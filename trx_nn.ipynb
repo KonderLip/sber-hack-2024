{
 "cells": [
  {
   "cell_type": "code",
   "execution_count": 1,
   "id": "8755fe19",
   "metadata": {
    "scrolled": true
   },
   "outputs": [],
   "source": [
    "from datetime import datetime\n",
    "\n",
    "import polars as pl\n",
    "\n",
    "import torch\n",
    "import pytorch_lightning\n",
    "from torch import nn\n",
    "\n",
    "from src.preprocessing import PolarsDataPreprocessor\n",
    "from src.utils import prepare_data"
   ]
  },
  {
   "cell_type": "code",
   "execution_count": 2,
   "id": "2edc0f58",
   "metadata": {
    "scrolled": true
   },
   "outputs": [],
   "source": [
    "pl.set_random_seed(56)"
   ]
  },
  {
   "cell_type": "code",
   "execution_count": 3,
   "id": "557f1719",
   "metadata": {
    "scrolled": true
   },
   "outputs": [
    {
     "data": {
      "text/plain": [
       "56"
      ]
     },
     "execution_count": 3,
     "metadata": {},
     "output_type": "execute_result"
    }
   ],
   "source": [
    "pytorch_lightning.seed_everything(56, True)"
   ]
  },
  {
   "cell_type": "code",
   "execution_count": null,
   "id": "65447f45",
   "metadata": {
    "scrolled": true
   },
   "outputs": [],
   "source": []
  },
  {
   "cell_type": "code",
   "execution_count": 4,
   "id": "832b414f",
   "metadata": {
    "scrolled": true
   },
   "outputs": [],
   "source": [
    "months = [\n",
    "    '2022-02-28',\n",
    "    '2022-03-31',\n",
    "    '2022-04-30',\n",
    "    '2022-05-31',\n",
    "    '2022-06-30',\n",
    "    '2022-07-31',\n",
    "    '2022-08-31',\n",
    "    '2022-09-30',\n",
    "    '2022-10-31',\n",
    "    '2022-11-30',\n",
    "    '2022-12-31',\n",
    "    '2023-01-31',\n",
    "]\n",
    "month2id = dict((month, idx) for idx, month in enumerate(months))\n",
    "id2month = dict((idx, month) for idx, month in enumerate(months))"
   ]
  },
  {
   "cell_type": "code",
   "execution_count": null,
   "id": "10ded746",
   "metadata": {
    "scrolled": true
   },
   "outputs": [],
   "source": []
  },
  {
   "cell_type": "code",
   "execution_count": 5,
   "id": "77a6faf9",
   "metadata": {
    "scrolled": true
   },
   "outputs": [],
   "source": [
    "mon = 10"
   ]
  },
  {
   "cell_type": "code",
   "execution_count": null,
   "id": "2612dd93",
   "metadata": {
    "scrolled": true
   },
   "outputs": [],
   "source": []
  },
  {
   "cell_type": "code",
   "execution_count": 6,
   "id": "f821ae06",
   "metadata": {
    "scrolled": true
   },
   "outputs": [
    {
     "name": "stdout",
     "output_type": "stream",
     "text": [
      "(14603731, 16)\n"
     ]
    },
    {
     "data": {
      "text/html": [
       "<div><style>\n",
       ".dataframe > thead > tr > th,\n",
       ".dataframe > tbody > tr > td {\n",
       "  text-align: right;\n",
       "  white-space: pre-wrap;\n",
       "}\n",
       "</style>\n",
       "<small>shape: (5, 16)</small><table border=\"1\" class=\"dataframe\"><thead><tr><th>event_time</th><th>amount</th><th>client_id</th><th>event_type</th><th>event_subtype</th><th>currency</th><th>src_type11</th><th>src_type12</th><th>dst_type11</th><th>dst_type12</th><th>src_type21</th><th>src_type22</th><th>src_type31</th><th>src_type32</th><th>mon_ind</th><th>day_ind</th></tr><tr><td>i64</td><td>f32</td><td>str</td><td>i32</td><td>i32</td><td>f64</td><td>f64</td><td>f64</td><td>f64</td><td>f64</td><td>f64</td><td>f64</td><td>f64</td><td>f64</td><td>i64</td><td>i64</td></tr></thead><tbody><tr><td>35499473</td><td>39204.261719</td><td>&quot;52f416800d4d8c…</td><td>54</td><td>55</td><td>11.0</td><td>19.0</td><td>344.0</td><td>364.0</td><td>22652.0</td><td>22823.0</td><td>48.0</td><td>942.0</td><td>4.0</td><td>13</td><td>410</td></tr><tr><td>38062618</td><td>77238.382812</td><td>&quot;52f416800d4d8c…</td><td>54</td><td>55</td><td>11.0</td><td>19.0</td><td>344.0</td><td>869.0</td><td>31488.0</td><td>22823.0</td><td>48.0</td><td>942.0</td><td>4.0</td><td>14</td><td>440</td></tr><tr><td>35018297</td><td>14293.958008</td><td>&quot;52f416800d4d8c…</td><td>54</td><td>55</td><td>11.0</td><td>19.0</td><td>344.0</td><td>364.0</td><td>22652.0</td><td>22823.0</td><td>48.0</td><td>942.0</td><td>4.0</td><td>13</td><td>405</td></tr><tr><td>32446147</td><td>2569.062988</td><td>&quot;52f416800d4d8c…</td><td>54</td><td>55</td><td>11.0</td><td>19.0</td><td>344.0</td><td>364.0</td><td>22652.0</td><td>22823.0</td><td>48.0</td><td>942.0</td><td>4.0</td><td>12</td><td>375</td></tr><tr><td>34413708</td><td>62966.214844</td><td>&quot;52f416800d4d8c…</td><td>54</td><td>55</td><td>11.0</td><td>19.0</td><td>344.0</td><td>364.0</td><td>22652.0</td><td>22823.0</td><td>48.0</td><td>942.0</td><td>4.0</td><td>13</td><td>398</td></tr></tbody></table></div>"
      ],
      "text/plain": [
       "shape: (5, 16)\n",
       "┌────────────┬────────────┬────────────┬───────────┬───┬───────────┬───────────┬─────────┬─────────┐\n",
       "│ event_time ┆ amount     ┆ client_id  ┆ event_typ ┆ … ┆ src_type3 ┆ src_type3 ┆ mon_ind ┆ day_ind │\n",
       "│ ---        ┆ ---        ┆ ---        ┆ e         ┆   ┆ 1         ┆ 2         ┆ ---     ┆ ---     │\n",
       "│ i64        ┆ f32        ┆ str        ┆ ---       ┆   ┆ ---       ┆ ---       ┆ i64     ┆ i64     │\n",
       "│            ┆            ┆            ┆ i32       ┆   ┆ f64       ┆ f64       ┆         ┆         │\n",
       "╞════════════╪════════════╪════════════╪═══════════╪═══╪═══════════╪═══════════╪═════════╪═════════╡\n",
       "│ 35499473   ┆ 39204.2617 ┆ 52f416800d ┆ 54        ┆ … ┆ 942.0     ┆ 4.0       ┆ 13      ┆ 410     │\n",
       "│            ┆ 19         ┆ 4d8ca9c9be ┆           ┆   ┆           ┆           ┆         ┆         │\n",
       "│            ┆            ┆ 929fc694d2 ┆           ┆   ┆           ┆           ┆         ┆         │\n",
       "│            ┆            ┆ 57…        ┆           ┆   ┆           ┆           ┆         ┆         │\n",
       "│ 38062618   ┆ 77238.3828 ┆ 52f416800d ┆ 54        ┆ … ┆ 942.0     ┆ 4.0       ┆ 14      ┆ 440     │\n",
       "│            ┆ 12         ┆ 4d8ca9c9be ┆           ┆   ┆           ┆           ┆         ┆         │\n",
       "│            ┆            ┆ 929fc694d2 ┆           ┆   ┆           ┆           ┆         ┆         │\n",
       "│            ┆            ┆ 57…        ┆           ┆   ┆           ┆           ┆         ┆         │\n",
       "│ 35018297   ┆ 14293.9580 ┆ 52f416800d ┆ 54        ┆ … ┆ 942.0     ┆ 4.0       ┆ 13      ┆ 405     │\n",
       "│            ┆ 08         ┆ 4d8ca9c9be ┆           ┆   ┆           ┆           ┆         ┆         │\n",
       "│            ┆            ┆ 929fc694d2 ┆           ┆   ┆           ┆           ┆         ┆         │\n",
       "│            ┆            ┆ 57…        ┆           ┆   ┆           ┆           ┆         ┆         │\n",
       "│ 32446147   ┆ 2569.06298 ┆ 52f416800d ┆ 54        ┆ … ┆ 942.0     ┆ 4.0       ┆ 12      ┆ 375     │\n",
       "│            ┆ 8          ┆ 4d8ca9c9be ┆           ┆   ┆           ┆           ┆         ┆         │\n",
       "│            ┆            ┆ 929fc694d2 ┆           ┆   ┆           ┆           ┆         ┆         │\n",
       "│            ┆            ┆ 57…        ┆           ┆   ┆           ┆           ┆         ┆         │\n",
       "│ 34413708   ┆ 62966.2148 ┆ 52f416800d ┆ 54        ┆ … ┆ 942.0     ┆ 4.0       ┆ 13      ┆ 398     │\n",
       "│            ┆ 44         ┆ 4d8ca9c9be ┆           ┆   ┆           ┆           ┆         ┆         │\n",
       "│            ┆            ┆ 929fc694d2 ┆           ┆   ┆           ┆           ┆         ┆         │\n",
       "│            ┆            ┆ 57…        ┆           ┆   ┆           ┆           ┆         ┆         │\n",
       "└────────────┴────────────┴────────────┴───────────┴───┴───────────┴───────────┴─────────┴─────────┘"
      ]
     },
     "execution_count": 6,
     "metadata": {},
     "output_type": "execute_result"
    }
   ],
   "source": [
    "train_trx = pl.read_parquet(\"F:/chunks/trx_train.pq\")\n",
    "train_trx = prepare_data(train_trx)\n",
    "train_trx = train_trx.filter(pl.col(\"event_time\") < datetime.strptime(months[mon], \"%Y-%m-%d\").replace(day=1))\n",
    "print(train_trx.shape)\n",
    "train_trx.head()"
   ]
  },
  {
   "cell_type": "code",
   "execution_count": 7,
   "id": "34562b61",
   "metadata": {
    "scrolled": true
   },
   "outputs": [
    {
     "data": {
      "text/html": [
       "<div><style>\n",
       ".dataframe > thead > tr > th,\n",
       ".dataframe > tbody > tr > td {\n",
       "  text-align: right;\n",
       "  white-space: pre-wrap;\n",
       "}\n",
       "</style>\n",
       "<small>shape: (5, 2)</small><table border=\"1\" class=\"dataframe\"><thead><tr><th>client_id</th><th>target</th></tr><tr><td>str</td><td>list[i32]</td></tr></thead><tbody><tr><td>&quot;06a2ce26f19242…</td><td>[0, 0, … 0]</td></tr><tr><td>&quot;06d250bda1fe78…</td><td>[0, 0, … 0]</td></tr><tr><td>&quot;1d0fd54040602e…</td><td>[0, 0, … 0]</td></tr><tr><td>&quot;85c233cac30252…</td><td>[0, 0, … 0]</td></tr><tr><td>&quot;16d2d3fbdef66b…</td><td>[0, 0, … 0]</td></tr></tbody></table></div>"
      ],
      "text/plain": [
       "shape: (5, 2)\n",
       "┌───────────────────────────────────┬─────────────┐\n",
       "│ client_id                         ┆ target      │\n",
       "│ ---                               ┆ ---         │\n",
       "│ str                               ┆ list[i32]   │\n",
       "╞═══════════════════════════════════╪═════════════╡\n",
       "│ 06a2ce26f192429c657a44eb0f587fc1… ┆ [0, 0, … 0] │\n",
       "│ 06d250bda1fe780a40612ba6f53a333c… ┆ [0, 0, … 0] │\n",
       "│ 1d0fd54040602e441003fae7cd722920… ┆ [0, 0, … 0] │\n",
       "│ 85c233cac302527b1b5fe31396c7504a… ┆ [0, 0, … 0] │\n",
       "│ 16d2d3fbdef66b1af7c0f18b81f2a628… ┆ [0, 0, … 0] │\n",
       "└───────────────────────────────────┴─────────────┘"
      ]
     },
     "execution_count": 7,
     "metadata": {},
     "output_type": "execute_result"
    }
   ],
   "source": [
    "train_target = pl.read_parquet(\"F:/chunks/train_target.pq\")\n",
    "train_target = train_target.with_columns(\n",
    "    target=pl.concat_list([f\"target_{i}\" for i in range(1, 5)])\n",
    ")\n",
    "train_target = train_target.select((\"client_id\", \"target\"))\n",
    "train_target.head()"
   ]
  },
  {
   "cell_type": "code",
   "execution_count": null,
   "id": "aaab0457",
   "metadata": {
    "scrolled": true
   },
   "outputs": [],
   "source": []
  },
  {
   "cell_type": "code",
   "execution_count": 8,
   "id": "ca66a389",
   "metadata": {
    "scrolled": true
   },
   "outputs": [
    {
     "name": "stdout",
     "output_type": "stream",
     "text": [
      "(8361985, 16)\n"
     ]
    },
    {
     "data": {
      "text/html": [
       "<div><style>\n",
       ".dataframe > thead > tr > th,\n",
       ".dataframe > tbody > tr > td {\n",
       "  text-align: right;\n",
       "  white-space: pre-wrap;\n",
       "}\n",
       "</style>\n",
       "<small>shape: (5, 16)</small><table border=\"1\" class=\"dataframe\"><thead><tr><th>event_time</th><th>amount</th><th>client_id</th><th>event_type</th><th>event_subtype</th><th>currency</th><th>src_type11</th><th>src_type12</th><th>dst_type11</th><th>dst_type12</th><th>src_type21</th><th>src_type22</th><th>src_type31</th><th>src_type32</th><th>mon_ind</th><th>day_ind</th></tr><tr><td>i64</td><td>f32</td><td>str</td><td>i32</td><td>i32</td><td>f64</td><td>f64</td><td>f64</td><td>f64</td><td>f64</td><td>f64</td><td>f64</td><td>f64</td><td>f64</td><td>i64</td><td>i64</td></tr></thead><tbody><tr><td>40850365</td><td>183.638657</td><td>&quot;1b290c64a11658…</td><td>25</td><td>47</td><td>11.0</td><td>19.0</td><td>344.0</td><td>1166.0</td><td>30836.0</td><td>44170.0</td><td>85.0</td><td>724.0</td><td>70.0</td><td>15</td><td>472</td></tr><tr><td>33121383</td><td>418.706451</td><td>&quot;1b290c64a11658…</td><td>40</td><td>51</td><td>11.0</td><td>72.0</td><td>189.0</td><td>938.0</td><td>18481.0</td><td>44170.0</td><td>85.0</td><td>724.0</td><td>70.0</td><td>12</td><td>383</td></tr><tr><td>47772211</td><td>2831.543945</td><td>&quot;1b290c64a11658…</td><td>52</td><td>12</td><td>11.0</td><td>128.0</td><td>456.0</td><td>1302.0</td><td>8693.0</td><td>44170.0</td><td>85.0</td><td>724.0</td><td>70.0</td><td>18</td><td>552</td></tr><tr><td>43369115</td><td>5114.887695</td><td>&quot;1b290c64a11658…</td><td>40</td><td>51</td><td>11.0</td><td>72.0</td><td>682.0</td><td>433.0</td><td>10049.0</td><td>44170.0</td><td>85.0</td><td>724.0</td><td>70.0</td><td>16</td><td>501</td></tr><tr><td>45257498</td><td>202.14978</td><td>&quot;1b290c64a11658…</td><td>52</td><td>12</td><td>11.0</td><td>128.0</td><td>456.0</td><td>1302.0</td><td>8693.0</td><td>44170.0</td><td>85.0</td><td>724.0</td><td>70.0</td><td>17</td><td>523</td></tr></tbody></table></div>"
      ],
      "text/plain": [
       "shape: (5, 16)\n",
       "┌────────────┬────────────┬────────────┬───────────┬───┬───────────┬───────────┬─────────┬─────────┐\n",
       "│ event_time ┆ amount     ┆ client_id  ┆ event_typ ┆ … ┆ src_type3 ┆ src_type3 ┆ mon_ind ┆ day_ind │\n",
       "│ ---        ┆ ---        ┆ ---        ┆ e         ┆   ┆ 1         ┆ 2         ┆ ---     ┆ ---     │\n",
       "│ i64        ┆ f32        ┆ str        ┆ ---       ┆   ┆ ---       ┆ ---       ┆ i64     ┆ i64     │\n",
       "│            ┆            ┆            ┆ i32       ┆   ┆ f64       ┆ f64       ┆         ┆         │\n",
       "╞════════════╪════════════╪════════════╪═══════════╪═══╪═══════════╪═══════════╪═════════╪═════════╡\n",
       "│ 40850365   ┆ 183.638657 ┆ 1b290c64a1 ┆ 25        ┆ … ┆ 724.0     ┆ 70.0      ┆ 15      ┆ 472     │\n",
       "│            ┆            ┆ 16588b49f0 ┆           ┆   ┆           ┆           ┆         ┆         │\n",
       "│            ┆            ┆ d4180fc9ee ┆           ┆   ┆           ┆           ┆         ┆         │\n",
       "│            ┆            ┆ 4b…        ┆           ┆   ┆           ┆           ┆         ┆         │\n",
       "│ 33121383   ┆ 418.706451 ┆ 1b290c64a1 ┆ 40        ┆ … ┆ 724.0     ┆ 70.0      ┆ 12      ┆ 383     │\n",
       "│            ┆            ┆ 16588b49f0 ┆           ┆   ┆           ┆           ┆         ┆         │\n",
       "│            ┆            ┆ d4180fc9ee ┆           ┆   ┆           ┆           ┆         ┆         │\n",
       "│            ┆            ┆ 4b…        ┆           ┆   ┆           ┆           ┆         ┆         │\n",
       "│ 47772211   ┆ 2831.54394 ┆ 1b290c64a1 ┆ 52        ┆ … ┆ 724.0     ┆ 70.0      ┆ 18      ┆ 552     │\n",
       "│            ┆ 5          ┆ 16588b49f0 ┆           ┆   ┆           ┆           ┆         ┆         │\n",
       "│            ┆            ┆ d4180fc9ee ┆           ┆   ┆           ┆           ┆         ┆         │\n",
       "│            ┆            ┆ 4b…        ┆           ┆   ┆           ┆           ┆         ┆         │\n",
       "│ 43369115   ┆ 5114.88769 ┆ 1b290c64a1 ┆ 40        ┆ … ┆ 724.0     ┆ 70.0      ┆ 16      ┆ 501     │\n",
       "│            ┆ 5          ┆ 16588b49f0 ┆           ┆   ┆           ┆           ┆         ┆         │\n",
       "│            ┆            ┆ d4180fc9ee ┆           ┆   ┆           ┆           ┆         ┆         │\n",
       "│            ┆            ┆ 4b…        ┆           ┆   ┆           ┆           ┆         ┆         │\n",
       "│ 45257498   ┆ 202.14978  ┆ 1b290c64a1 ┆ 52        ┆ … ┆ 724.0     ┆ 70.0      ┆ 17      ┆ 523     │\n",
       "│            ┆            ┆ 16588b49f0 ┆           ┆   ┆           ┆           ┆         ┆         │\n",
       "│            ┆            ┆ d4180fc9ee ┆           ┆   ┆           ┆           ┆         ┆         │\n",
       "│            ┆            ┆ 4b…        ┆           ┆   ┆           ┆           ┆         ┆         │\n",
       "└────────────┴────────────┴────────────┴───────────┴───┴───────────┴───────────┴─────────┴─────────┘"
      ]
     },
     "execution_count": 8,
     "metadata": {},
     "output_type": "execute_result"
    }
   ],
   "source": [
    "val_trx = pl.read_parquet(\"F:/chunks/trx_val.pq\")\n",
    "val_trx = prepare_data(val_trx)\n",
    "val_trx = val_trx.filter(pl.col(\"event_time\") < datetime.strptime(months[mon], \"%Y-%m-%d\").replace(day=1))\n",
    "print(val_trx.shape)\n",
    "val_trx.head()"
   ]
  },
  {
   "cell_type": "code",
   "execution_count": 9,
   "id": "d2048b7c",
   "metadata": {
    "scrolled": true
   },
   "outputs": [
    {
     "data": {
      "text/html": [
       "<div><style>\n",
       ".dataframe > thead > tr > th,\n",
       ".dataframe > tbody > tr > td {\n",
       "  text-align: right;\n",
       "  white-space: pre-wrap;\n",
       "}\n",
       "</style>\n",
       "<small>shape: (5, 2)</small><table border=\"1\" class=\"dataframe\"><thead><tr><th>client_id</th><th>target</th></tr><tr><td>str</td><td>list[i32]</td></tr></thead><tbody><tr><td>&quot;c67a6454099213…</td><td>[0, 0, … 0]</td></tr><tr><td>&quot;e225b104fe6428…</td><td>[0, 0, … 0]</td></tr><tr><td>&quot;eacde9cdeaf7ec…</td><td>[0, 0, … 0]</td></tr><tr><td>&quot;e962187af0d4fa…</td><td>[0, 0, … 0]</td></tr><tr><td>&quot;12502ddd41e10e…</td><td>[0, 0, … 0]</td></tr></tbody></table></div>"
      ],
      "text/plain": [
       "shape: (5, 2)\n",
       "┌───────────────────────────────────┬─────────────┐\n",
       "│ client_id                         ┆ target      │\n",
       "│ ---                               ┆ ---         │\n",
       "│ str                               ┆ list[i32]   │\n",
       "╞═══════════════════════════════════╪═════════════╡\n",
       "│ c67a645409921310004f1897191ee97c… ┆ [0, 0, … 0] │\n",
       "│ e225b104fe6428dda26779e1f295075e… ┆ [0, 0, … 0] │\n",
       "│ eacde9cdeaf7eca6b7326eba8791f567… ┆ [0, 0, … 0] │\n",
       "│ e962187af0d4faf70a99717bc07c3252… ┆ [0, 0, … 0] │\n",
       "│ 12502ddd41e10e3c08917d56dd650494… ┆ [0, 0, … 0] │\n",
       "└───────────────────────────────────┴─────────────┘"
      ]
     },
     "execution_count": 9,
     "metadata": {},
     "output_type": "execute_result"
    }
   ],
   "source": [
    "val_target = pl.read_parquet(\"F:/chunks/val_target.pq\")\n",
    "val_target = val_target.with_columns(\n",
    "    target=pl.concat_list([f\"target_{i}\" for i in range(1, 5)])\n",
    ")\n",
    "val_target = val_target.select((\"client_id\", \"target\"))\n",
    "val_target.head()"
   ]
  },
  {
   "cell_type": "code",
   "execution_count": null,
   "id": "8886042a",
   "metadata": {
    "scrolled": true
   },
   "outputs": [],
   "source": []
  },
  {
   "cell_type": "code",
   "execution_count": 10,
   "id": "37cdf7a9",
   "metadata": {
    "scrolled": true
   },
   "outputs": [],
   "source": [
    "trx_preprocessor = PolarsDataPreprocessor(\n",
    "    col_id=\"client_id\",\n",
    "    col_event_time=\"event_time\",\n",
    "    cols_category=[\n",
    "        \"mon_ind\", \"day_ind\", \n",
    "        \"event_type\", \"event_subtype\", \n",
    "        \"currency\",\n",
    "        \"src_type11\", \"src_type12\", \"dst_type11\", \"dst_type12\",\n",
    "        \"src_type21\", \"src_type22\", \"src_type31\", \"src_type32\",\n",
    "    ],\n",
    "    # cols_numerical=[\"amount\"],\n",
    ")"
   ]
  },
  {
   "cell_type": "code",
   "execution_count": 11,
   "id": "2aace023",
   "metadata": {
    "scrolled": true
   },
   "outputs": [
    {
     "name": "stdout",
     "output_type": "stream",
     "text": [
      "CPU times: total: 2min 56s\n",
      "Wall time: 40.9 s\n"
     ]
    }
   ],
   "source": [
    "%%time\n",
    "\n",
    "train_trx = trx_preprocessor.fit_transform(train_trx)"
   ]
  },
  {
   "cell_type": "code",
   "execution_count": 12,
   "id": "e15e191a",
   "metadata": {
    "scrolled": true
   },
   "outputs": [
    {
     "name": "stdout",
     "output_type": "stream",
     "text": [
      "CPU times: total: 1min 21s\n",
      "Wall time: 6.53 s\n"
     ]
    }
   ],
   "source": [
    "%%time\n",
    "\n",
    "val_trx = trx_preprocessor.transform(val_trx)"
   ]
  },
  {
   "cell_type": "code",
   "execution_count": null,
   "id": "b8925b8d",
   "metadata": {
    "scrolled": true
   },
   "outputs": [],
   "source": []
  },
  {
   "cell_type": "code",
   "execution_count": 13,
   "id": "3850a4bf",
   "metadata": {
    "scrolled": true
   },
   "outputs": [],
   "source": [
    "train_trx = train_trx.join(train_target, on=\"client_id\", how=\"outer\")\n",
    "val_trx = val_trx.join(val_target, on=\"client_id\", how=\"outer\")"
   ]
  },
  {
   "cell_type": "code",
   "execution_count": null,
   "id": "4c917cc8",
   "metadata": {
    "scrolled": true
   },
   "outputs": [],
   "source": []
  },
  {
   "cell_type": "code",
   "execution_count": 14,
   "id": "2acd3068",
   "metadata": {
    "scrolled": true
   },
   "outputs": [],
   "source": [
    "def to_records(data):\n",
    "    res = [{} for _ in range(len(data))]\n",
    "    for i, value in enumerate(data[\"target\"]):\n",
    "        res[i][\"target\"] = torch.tensor(value.to_numpy())\n",
    "    for col, dtype in zip(data.columns, data.dtypes):\n",
    "        if col in (\"client_id\", \"target\"):\n",
    "            continue\n",
    "        assert dtype == pl.List\n",
    "        for i, value in enumerate(data[col].fill_null([])):\n",
    "            res[i][col] = torch.tensor(value.to_numpy())\n",
    "    return res"
   ]
  },
  {
   "cell_type": "code",
   "execution_count": 15,
   "id": "b1a4c0d5",
   "metadata": {
    "scrolled": true
   },
   "outputs": [],
   "source": [
    "train_dict = to_records(train_trx)\n",
    "val_dict = to_records(val_trx)"
   ]
  },
  {
   "cell_type": "code",
   "execution_count": null,
   "id": "68b3cab1",
   "metadata": {
    "scrolled": true
   },
   "outputs": [],
   "source": []
  },
  {
   "cell_type": "code",
   "execution_count": 16,
   "id": "f4f5453b",
   "metadata": {
    "scrolled": true
   },
   "outputs": [],
   "source": [
    "from ptls.frames.supervised import SeqToTargetDataset"
   ]
  },
  {
   "cell_type": "code",
   "execution_count": 17,
   "id": "fb8627f9",
   "metadata": {
    "scrolled": true
   },
   "outputs": [],
   "source": [
    "train_data = SeqToTargetDataset(train_dict, target_col_name=\"target\", target_dtype=torch.float32)\n",
    "val_data = SeqToTargetDataset(val_dict, target_col_name=\"target\", target_dtype=torch.float32)"
   ]
  },
  {
   "cell_type": "code",
   "execution_count": 18,
   "id": "0f62aca8",
   "metadata": {
    "scrolled": true
   },
   "outputs": [],
   "source": [
    "from ptls.frames import PtlsDataModule"
   ]
  },
  {
   "cell_type": "code",
   "execution_count": 19,
   "id": "4c332d9d",
   "metadata": {
    "scrolled": true
   },
   "outputs": [],
   "source": [
    "sup_data = PtlsDataModule(\n",
    "    train_data=train_data,\n",
    "    train_num_workers=0,\n",
    "    train_batch_size=64,\n",
    "    valid_data=val_data,\n",
    "    valid_num_workers=0,\n",
    "    valid_batch_size=64,\n",
    ")"
   ]
  },
  {
   "cell_type": "code",
   "execution_count": 20,
   "id": "4d90823b",
   "metadata": {
    "scrolled": false
   },
   "outputs": [],
   "source": [
    "_ = next(iter(sup_data.train_dataloader()))"
   ]
  },
  {
   "cell_type": "code",
   "execution_count": null,
   "id": "45a823c7",
   "metadata": {
    "scrolled": true
   },
   "outputs": [],
   "source": []
  },
  {
   "cell_type": "code",
   "execution_count": 105,
   "id": "23673993",
   "metadata": {
    "scrolled": true
   },
   "outputs": [
    {
     "data": {
      "text/plain": [
       "{'mon_ind': 14,\n",
       " 'day_ind': 356,\n",
       " 'event_type': 55,\n",
       " 'event_subtype': 57,\n",
       " 'currency': 13,\n",
       " 'src_type11': 46,\n",
       " 'src_type12': 182,\n",
       " 'dst_type11': 57,\n",
       " 'dst_type12': 248,\n",
       " 'src_type21': 8220,\n",
       " 'src_type22': 87,\n",
       " 'src_type31': 1617,\n",
       " 'src_type32': 88}"
      ]
     },
     "execution_count": 105,
     "metadata": {},
     "output_type": "execute_result"
    }
   ],
   "source": [
    "trx_preprocessor.get_category_dictionary_sizes()"
   ]
  },
  {
   "cell_type": "code",
   "execution_count": 106,
   "id": "65e3222c",
   "metadata": {
    "scrolled": true
   },
   "outputs": [],
   "source": [
    "trx_encoder_params = dict(\n",
    "    embeddings_noise=0.003,\n",
    "    linear_projection_size=128,\n",
    "    embeddings = {\n",
    "        \"mon_ind\": {\"in\": 14, \"out\": 7},\n",
    "        \"day_ind\": {\"in\": 356, \"out\": 64},\n",
    "        \n",
    "        \"event_type\": {\"in\": 55, \"out\": 16},\n",
    "        \"event_subtype\": {\"in\": 57, \"out\": 16},\n",
    "        \n",
    "        \"currency\": {\"in\": 13, \"out\": 6},\n",
    "        \n",
    "        \"src_type11\": {\"in\": 46, \"out\": 16},\n",
    "        \"src_type12\": {\"in\": 182, \"out\": 32},\n",
    "        \"dst_type11\": {\"in\": 57, \"out\": 16},\n",
    "        \"dst_type12\": {\"in\": 248, \"out\": 32},\n",
    "        \n",
    "        # \"src_type21\": {\"in\": 8220, \"out\": 64},\n",
    "        \"src_type22\": {\"in\": 87, \"out\": 16},\n",
    "        # \"src_type31\": {\"in\": 1617, \"out\": 64},\n",
    "        \"src_type32\": {\"in\": 88, \"out\": 16},\n",
    "    },\n",
    "    # numeric_values = {\n",
    "    #     \"amount\": \"log\",\n",
    "    # },\n",
    "    # use_batch_norm_with_lens=True\n",
    ")"
   ]
  },
  {
   "cell_type": "code",
   "execution_count": 107,
   "id": "11167772",
   "metadata": {
    "scrolled": true
   },
   "outputs": [],
   "source": [
    "from ptls.nn import TrxEncoder"
   ]
  },
  {
   "cell_type": "code",
   "execution_count": 108,
   "id": "4466d2d3",
   "metadata": {
    "scrolled": true
   },
   "outputs": [],
   "source": [
    "trx_encoder = TrxEncoder(**trx_encoder_params)"
   ]
  },
  {
   "cell_type": "code",
   "execution_count": 109,
   "id": "7e7ae398",
   "metadata": {
    "scrolled": true
   },
   "outputs": [],
   "source": [
    "from torchinfo import summary"
   ]
  },
  {
   "cell_type": "code",
   "execution_count": 110,
   "id": "d76c223e",
   "metadata": {
    "scrolled": true
   },
   "outputs": [
    {
     "data": {
      "text/plain": [
       "=================================================================\n",
       "Layer (type:depth-idx)                   Param #\n",
       "=================================================================\n",
       "TrxEncoder                               --\n",
       "├─ModuleDict: 1-1                        --\n",
       "│    └─NoisyEmbedding: 2-1               98\n",
       "│    │    └─Dropout: 3-1                 --\n",
       "│    └─NoisyEmbedding: 2-2               22,784\n",
       "│    │    └─Dropout: 3-2                 --\n",
       "│    └─NoisyEmbedding: 2-3               880\n",
       "│    │    └─Dropout: 3-3                 --\n",
       "│    └─NoisyEmbedding: 2-4               912\n",
       "│    │    └─Dropout: 3-4                 --\n",
       "│    └─NoisyEmbedding: 2-5               78\n",
       "│    │    └─Dropout: 3-5                 --\n",
       "│    └─NoisyEmbedding: 2-6               736\n",
       "│    │    └─Dropout: 3-6                 --\n",
       "│    └─NoisyEmbedding: 2-7               5,824\n",
       "│    │    └─Dropout: 3-7                 --\n",
       "│    └─NoisyEmbedding: 2-8               912\n",
       "│    │    └─Dropout: 3-8                 --\n",
       "│    └─NoisyEmbedding: 2-9               7,936\n",
       "│    │    └─Dropout: 3-9                 --\n",
       "│    └─NoisyEmbedding: 2-10              1,392\n",
       "│    │    └─Dropout: 3-10                --\n",
       "│    └─NoisyEmbedding: 2-11              1,408\n",
       "│    │    └─Dropout: 3-11                --\n",
       "├─ModuleDict: 1-2                        --\n",
       "├─Linear: 1-3                            30,464\n",
       "=================================================================\n",
       "Total params: 73,424\n",
       "Trainable params: 73,424\n",
       "Non-trainable params: 0\n",
       "================================================================="
      ]
     },
     "execution_count": 110,
     "metadata": {},
     "output_type": "execute_result"
    }
   ],
   "source": [
    "summary(trx_encoder)"
   ]
  },
  {
   "cell_type": "code",
   "execution_count": 111,
   "id": "738346a2",
   "metadata": {
    "scrolled": true
   },
   "outputs": [],
   "source": [
    "from ptls.nn import RnnSeqEncoder"
   ]
  },
  {
   "cell_type": "code",
   "execution_count": 112,
   "id": "f01c385d",
   "metadata": {
    "scrolled": true
   },
   "outputs": [],
   "source": [
    "from ptls.nn import PBLayerNorm, PBL2Norm"
   ]
  },
  {
   "cell_type": "code",
   "execution_count": 113,
   "id": "641430eb",
   "metadata": {
    "scrolled": true
   },
   "outputs": [],
   "source": [
    "seq_encoder = RnnSeqEncoder(\n",
    "    trx_encoder=nn.Sequential(trx_encoder, PBL2Norm(), PBLayerNorm(trx_encoder.output_size)),\n",
    "    input_size=trx_encoder.output_size,\n",
    "    hidden_size=128,\n",
    "    # bidir=True,\n",
    "    # num_layers=2,\n",
    ")"
   ]
  },
  {
   "cell_type": "code",
   "execution_count": 114,
   "id": "75a7b68d",
   "metadata": {
    "scrolled": true
   },
   "outputs": [],
   "source": [
    "classifier = nn.Sequential(\n",
    "    nn.Linear(128, 64),\n",
    "    nn.ReLU(),\n",
    "    nn.Linear(64, 4),\n",
    ")"
   ]
  },
  {
   "cell_type": "code",
   "execution_count": 115,
   "id": "7a955b93",
   "metadata": {
    "scrolled": true
   },
   "outputs": [],
   "source": [
    "from functools import partial\n",
    "from ptls.frames.supervised import SeqToTargetDataset, SequenceToTarget\n",
    "from ptls.frames import PtlsDataModule\n",
    "import torch.nn as nn\n",
    "import torchmetrics"
   ]
  },
  {
   "cell_type": "code",
   "execution_count": 116,
   "id": "a2c4aca1",
   "metadata": {
    "scrolled": true
   },
   "outputs": [],
   "source": [
    "class AUROC(nn.Module):\n",
    "    def __init__(self):\n",
    "        super().__init__()\n",
    "        self.metric = torchmetrics.AUROC(task='multilabel', num_labels=4)\n",
    "    def forward(self, preds, target):\n",
    "        return self.metric(preds, target.int())\n",
    "    def compute(self):\n",
    "        return self.metric.compute()\n",
    "    def reset(self):\n",
    "        return self.metric.reset()"
   ]
  },
  {
   "cell_type": "code",
   "execution_count": 117,
   "id": "607ef341",
   "metadata": {
    "scrolled": true
   },
   "outputs": [],
   "source": [
    "sup_module = SequenceToTarget(\n",
    "    seq_encoder=seq_encoder,\n",
    "    head=classifier,\n",
    "    loss=nn.BCEWithLogitsLoss(),\n",
    "    metric_list=AUROC(),\n",
    "    optimizer_partial=partial(torch.optim.AdamW, lr=1e-4),\n",
    "    lr_scheduler_partial=partial(torch.optim.lr_scheduler.ConstantLR, factor=1.0),\n",
    ")"
   ]
  },
  {
   "cell_type": "code",
   "execution_count": 118,
   "id": "41d8cf42",
   "metadata": {
    "scrolled": true
   },
   "outputs": [
    {
     "data": {
      "text/plain": [
       "SequenceToTarget(\n",
       "  (seq_encoder): RnnSeqEncoder(\n",
       "    (trx_encoder): Sequential(\n",
       "      (0): TrxEncoder(\n",
       "        (embeddings): ModuleDict(\n",
       "          (mon_ind): NoisyEmbedding(\n",
       "            14, 7, padding_idx=0\n",
       "            (dropout): Dropout(p=0, inplace=False)\n",
       "          )\n",
       "          (day_ind): NoisyEmbedding(\n",
       "            356, 64, padding_idx=0\n",
       "            (dropout): Dropout(p=0, inplace=False)\n",
       "          )\n",
       "          (event_type): NoisyEmbedding(\n",
       "            55, 16, padding_idx=0\n",
       "            (dropout): Dropout(p=0, inplace=False)\n",
       "          )\n",
       "          (event_subtype): NoisyEmbedding(\n",
       "            57, 16, padding_idx=0\n",
       "            (dropout): Dropout(p=0, inplace=False)\n",
       "          )\n",
       "          (currency): NoisyEmbedding(\n",
       "            13, 6, padding_idx=0\n",
       "            (dropout): Dropout(p=0, inplace=False)\n",
       "          )\n",
       "          (src_type11): NoisyEmbedding(\n",
       "            46, 16, padding_idx=0\n",
       "            (dropout): Dropout(p=0, inplace=False)\n",
       "          )\n",
       "          (src_type12): NoisyEmbedding(\n",
       "            182, 32, padding_idx=0\n",
       "            (dropout): Dropout(p=0, inplace=False)\n",
       "          )\n",
       "          (dst_type11): NoisyEmbedding(\n",
       "            57, 16, padding_idx=0\n",
       "            (dropout): Dropout(p=0, inplace=False)\n",
       "          )\n",
       "          (dst_type12): NoisyEmbedding(\n",
       "            248, 32, padding_idx=0\n",
       "            (dropout): Dropout(p=0, inplace=False)\n",
       "          )\n",
       "          (src_type22): NoisyEmbedding(\n",
       "            87, 16, padding_idx=0\n",
       "            (dropout): Dropout(p=0, inplace=False)\n",
       "          )\n",
       "          (src_type32): NoisyEmbedding(\n",
       "            88, 16, padding_idx=0\n",
       "            (dropout): Dropout(p=0, inplace=False)\n",
       "          )\n",
       "        )\n",
       "        (custom_embeddings): ModuleDict()\n",
       "        (linear_projection_head): Linear(in_features=237, out_features=128, bias=True)\n",
       "      )\n",
       "      (1): PBShell()\n",
       "      (2): PBShell((128,), eps=1e-05, elementwise_affine=True)\n",
       "    )\n",
       "    (seq_encoder): RnnEncoder(\n",
       "      (rnn): GRU(128, 128, num_layers=2, batch_first=True)\n",
       "      (reducer): LastStepEncoder()\n",
       "    )\n",
       "  )\n",
       "  (head): Sequential(\n",
       "    (0): Linear(in_features=128, out_features=64, bias=True)\n",
       "    (1): ReLU()\n",
       "    (2): Linear(in_features=64, out_features=4, bias=True)\n",
       "  )\n",
       "  (loss): BCEWithLogitsLoss()\n",
       "  (train_metrics): ModuleDict(\n",
       "    (AUROC): AUROC(\n",
       "      (metric): MultilabelAUROC()\n",
       "    )\n",
       "  )\n",
       "  (valid_metrics): ModuleDict(\n",
       "    (AUROC): AUROC(\n",
       "      (metric): MultilabelAUROC()\n",
       "    )\n",
       "  )\n",
       "  (test_metrics): ModuleDict(\n",
       "    (AUROC): AUROC(\n",
       "      (metric): MultilabelAUROC()\n",
       "    )\n",
       "  )\n",
       ")"
      ]
     },
     "execution_count": 118,
     "metadata": {},
     "output_type": "execute_result"
    }
   ],
   "source": [
    "sup_module"
   ]
  },
  {
   "cell_type": "code",
   "execution_count": 119,
   "id": "0e985240",
   "metadata": {
    "scrolled": true
   },
   "outputs": [],
   "source": [
    "from pytorch_lightning.loggers import WandbLogger"
   ]
  },
  {
   "cell_type": "code",
   "execution_count": 120,
   "id": "a6499f9c",
   "metadata": {
    "scrolled": true
   },
   "outputs": [],
   "source": [
    "from pytorch_lightning.callbacks import LearningRateMonitor"
   ]
  },
  {
   "cell_type": "code",
   "execution_count": 121,
   "id": "c8433c15",
   "metadata": {
    "scrolled": true
   },
   "outputs": [],
   "source": [
    "lr_monitor = LearningRateMonitor(logging_interval=\"step\")"
   ]
  },
  {
   "cell_type": "code",
   "execution_count": null,
   "id": "b5b257fb",
   "metadata": {
    "scrolled": true
   },
   "outputs": [],
   "source": [
    "pl_trainer = pytorch_lightning.Trainer(\n",
    "    logger = WandbLogger(),\n",
    "    max_epochs = 15,\n",
    "    accelerator = \"gpu\",\n",
    "    devices = 1,\n",
    "    enable_progress_bar = True,\n",
    "    callbacks = [lr_monitor]\n",
    ")"
   ]
  },
  {
   "cell_type": "code",
   "execution_count": null,
   "id": "25d49868",
   "metadata": {
    "scrolled": true
   },
   "outputs": [],
   "source": [
    "pl_trainer.fit(sup_module, sup_data)"
   ]
  },
  {
   "cell_type": "raw",
   "id": "86f886b4",
   "metadata": {},
   "source": [
    "0.749 -> 0.768 -> 0.778 -> 0.794"
   ]
  },
  {
   "cell_type": "code",
   "execution_count": 124,
   "id": "39e5bf3f",
   "metadata": {
    "scrolled": true
   },
   "outputs": [
    {
     "name": "stderr",
     "output_type": "stream",
     "text": [
      "2024-06-16 15:43:15,609 [24832] WARNING  py.warnings:109: [JupyterRequire] C:\\Users\\Konder\\AppData\\Roaming\\Python\\Python38\\site-packages\\pytorch_lightning\\trainer\\connectors\\data_connector.py:430: PossibleUserWarning: The dataloader, predict_dataloader, does not have many workers which may be a bottleneck. Consider increasing the value of the `num_workers` argument` (try 24 which is the number of cpus on this machine) in the `DataLoader` init to improve performance.\n",
      "  rank_zero_warn(\n",
      "\n"
     ]
    },
    {
     "data": {
      "application/vnd.jupyter.widget-view+json": {
       "model_id": "38695e692d4f461e896ed24fad3adb76",
       "version_major": 2,
       "version_minor": 0
      },
      "text/plain": [
       "Predicting: 0it [00:00, ?it/s]"
      ]
     },
     "metadata": {},
     "output_type": "display_data"
    },
    {
     "name": "stderr",
     "output_type": "stream",
     "text": [
      "2024-06-16 15:43:17,274 [24832] WARNING  py.warnings:109: [JupyterRequire] C:\\Users\\Konder\\AppData\\Roaming\\Python\\Python38\\site-packages\\pytorch_lightning\\trainer\\call.py:54: UserWarning: Detected KeyboardInterrupt, attempting graceful shutdown...\n",
      "  rank_zero_warn(\"Detected KeyboardInterrupt, attempting graceful shutdown...\")\n",
      "\n"
     ]
    }
   ],
   "source": [
    "prediction = pl_trainer.predict(sup_module, sup_data.val_dataloader())"
   ]
  },
  {
   "cell_type": "code",
   "execution_count": 125,
   "id": "74a861f4",
   "metadata": {
    "scrolled": true
   },
   "outputs": [],
   "source": [
    "import pandas as pd"
   ]
  },
  {
   "cell_type": "code",
   "execution_count": null,
   "id": "26d3bdec",
   "metadata": {
    "scrolled": true
   },
   "outputs": [],
   "source": [
    "prediction = pd.concat(prediction)\n",
    "prediction"
   ]
  },
  {
   "cell_type": "code",
   "execution_count": null,
   "id": "0b2fbc38",
   "metadata": {
    "scrolled": true
   },
   "outputs": [],
   "source": [
    "from sklearn.metrics import roc_auc_score"
   ]
  },
  {
   "cell_type": "code",
   "execution_count": null,
   "id": "f588e63a",
   "metadata": {
    "scrolled": true
   },
   "outputs": [],
   "source": [
    "roc_auc_score(val_trx[\"target\"].to_list(), prediction[[\"out_0000\", \"out_0001\", \"out_0002\", \"out_0003\"]])"
   ]
  },
  {
   "cell_type": "raw",
   "id": "647fa08c",
   "metadata": {},
   "source": [
    "0.7494227830746871 -> 0.7675112710923543 -> 0.7782692835298468 -> 0.7963153763604129"
   ]
  }
 ],
 "metadata": {
  "kernelspec": {
   "display_name": "Python 3 (ipykernel)",
   "language": "python",
   "name": "python3"
  },
  "language_info": {
   "codemirror_mode": {
    "name": "ipython",
    "version": 3
   },
   "file_extension": ".py",
   "mimetype": "text/x-python",
   "name": "python",
   "nbconvert_exporter": "python",
   "pygments_lexer": "ipython3",
   "version": "3.8.13"
  }
 },
 "nbformat": 4,
 "nbformat_minor": 5
}
